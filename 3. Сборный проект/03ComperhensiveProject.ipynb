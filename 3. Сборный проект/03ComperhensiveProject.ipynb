{
 "cells": [
  {
   "cell_type": "markdown",
   "metadata": {},
   "source": [
    "# Введение"
   ]
  },
  {
   "cell_type": "markdown",
   "metadata": {},
   "source": [
    "Вы работаете в интернет-магазине «Стримчик», который продаёт по всему миру компьютерные игры. Из открытых источников доступны исторические данные о продажах игр, оценки пользователей и экспертов, жанры и платформы (например, Xbox или PlayStation). Вам нужно выявить определяющие успешность игры закономерности. Это позволит сделать ставку на потенциально популярный продукт и спланировать рекламные кампании.\n",
    "\n",
    "Перед вами данные до 2016 года. Представим, что сейчас декабрь 2016 г., и вы планируете кампанию на 2017-й. Нужно отработать принцип работы с данными. Неважно, прогнозируете ли вы продажи на 2017 год по данным 2016-го или же 2027-й — по данным 2026 года.\n",
    "\n",
    "\n",
    "В наборе данных попадается аббревиатура ESRB (Entertainment Software Rating Board) — это ассоциация, определяющая возрастной рейтинг компьютерных игр. ESRB оценивает игровой контент и присваивает ему подходящую возрастную категорию, например, «Для взрослых», «Для детей младшего возраста» или «Для подростков»."
   ]
  },
  {
   "cell_type": "markdown",
   "metadata": {},
   "source": [
    "# Описание данных"
   ]
  },
  {
   "cell_type": "markdown",
   "metadata": {},
   "source": [
    "**name** - Название игры\n",
    "\n",
    "\n",
    "**platform** - Платформа, на которую выпущена игра\n",
    "\n",
    "\n",
    "**year_of_rlease** - Год выхода игры\n",
    "\n",
    "\n",
    "**genre** - Жанр \n",
    "\n",
    "\n",
    "**na_sales, eu_sales, jp_sales, other_sales** - Продажи игры в Северной америке, Европе и остальном мире соответственно\n",
    "\n",
    "\n",
    "**critic_score** - Оценка критиков\n",
    "\n",
    "\n",
    "**user_score** - Оценка пользователей\n",
    "\n",
    "\n",
    "**rating** - Присвоенный возрастной рейтинг\n",
    "\n",
    "*Данные за 2016 год могут не быть полными*"
   ]
  },
  {
   "cell_type": "markdown",
   "metadata": {},
   "source": [
    "# Ознакомление с данными"
   ]
  },
  {
   "cell_type": "markdown",
   "metadata": {},
   "source": [
    "Начнем с импорта необходимых библиотек:"
   ]
  },
  {
   "cell_type": "code",
   "execution_count": 1,
   "metadata": {},
   "outputs": [],
   "source": [
    "import pandas as pd\n",
    "import seaborn as sns\n",
    "import matplotlib.pyplot as plt\n",
    "from matplotlib.axes._axes import _log as matplotlib_axes_logger\n",
    "from matplotlib.pyplot import figure\n",
    "import numpy as np\n",
    "import warnings\n",
    "from scipy import stats as st\n",
    "warnings.filterwarnings(\"ignore\")\n",
    "matplotlib_axes_logger.setLevel('ERROR')"
   ]
  },
  {
   "cell_type": "markdown",
   "metadata": {},
   "source": [
    "Откроем предоставленый датасет и изучим его в общем представлении:"
   ]
  },
  {
   "cell_type": "code",
   "execution_count": 2,
   "metadata": {},
   "outputs": [
    {
     "name": "stdout",
     "output_type": "stream",
     "text": [
      "<class 'pandas.core.frame.DataFrame'>\n",
      "RangeIndex: 16715 entries, 0 to 16714\n",
      "Data columns (total 11 columns):\n",
      " #   Column           Non-Null Count  Dtype  \n",
      "---  ------           --------------  -----  \n",
      " 0   Name             16713 non-null  object \n",
      " 1   Platform         16715 non-null  object \n",
      " 2   Year_of_Release  16446 non-null  float64\n",
      " 3   Genre            16713 non-null  object \n",
      " 4   NA_sales         16715 non-null  float64\n",
      " 5   EU_sales         16715 non-null  float64\n",
      " 6   JP_sales         16715 non-null  float64\n",
      " 7   Other_sales      16715 non-null  float64\n",
      " 8   Critic_Score     8137 non-null   float64\n",
      " 9   User_Score       10014 non-null  object \n",
      " 10  Rating           9949 non-null   object \n",
      "dtypes: float64(6), object(5)\n",
      "memory usage: 1.4+ MB\n"
     ]
    },
    {
     "data": {
      "text/html": [
       "<div>\n",
       "<style scoped>\n",
       "    .dataframe tbody tr th:only-of-type {\n",
       "        vertical-align: middle;\n",
       "    }\n",
       "\n",
       "    .dataframe tbody tr th {\n",
       "        vertical-align: top;\n",
       "    }\n",
       "\n",
       "    .dataframe thead th {\n",
       "        text-align: right;\n",
       "    }\n",
       "</style>\n",
       "<table border=\"1\" class=\"dataframe\">\n",
       "  <thead>\n",
       "    <tr style=\"text-align: right;\">\n",
       "      <th></th>\n",
       "      <th>Name</th>\n",
       "      <th>Platform</th>\n",
       "      <th>Year_of_Release</th>\n",
       "      <th>Genre</th>\n",
       "      <th>NA_sales</th>\n",
       "      <th>EU_sales</th>\n",
       "      <th>JP_sales</th>\n",
       "      <th>Other_sales</th>\n",
       "      <th>Critic_Score</th>\n",
       "      <th>User_Score</th>\n",
       "      <th>Rating</th>\n",
       "    </tr>\n",
       "  </thead>\n",
       "  <tbody>\n",
       "    <tr>\n",
       "      <th>0</th>\n",
       "      <td>Wii Sports</td>\n",
       "      <td>Wii</td>\n",
       "      <td>2006.0</td>\n",
       "      <td>Sports</td>\n",
       "      <td>41.36</td>\n",
       "      <td>28.96</td>\n",
       "      <td>3.77</td>\n",
       "      <td>8.45</td>\n",
       "      <td>76.0</td>\n",
       "      <td>8</td>\n",
       "      <td>E</td>\n",
       "    </tr>\n",
       "    <tr>\n",
       "      <th>1</th>\n",
       "      <td>Super Mario Bros.</td>\n",
       "      <td>NES</td>\n",
       "      <td>1985.0</td>\n",
       "      <td>Platform</td>\n",
       "      <td>29.08</td>\n",
       "      <td>3.58</td>\n",
       "      <td>6.81</td>\n",
       "      <td>0.77</td>\n",
       "      <td>NaN</td>\n",
       "      <td>NaN</td>\n",
       "      <td>NaN</td>\n",
       "    </tr>\n",
       "    <tr>\n",
       "      <th>2</th>\n",
       "      <td>Mario Kart Wii</td>\n",
       "      <td>Wii</td>\n",
       "      <td>2008.0</td>\n",
       "      <td>Racing</td>\n",
       "      <td>15.68</td>\n",
       "      <td>12.76</td>\n",
       "      <td>3.79</td>\n",
       "      <td>3.29</td>\n",
       "      <td>82.0</td>\n",
       "      <td>8.3</td>\n",
       "      <td>E</td>\n",
       "    </tr>\n",
       "    <tr>\n",
       "      <th>3</th>\n",
       "      <td>Wii Sports Resort</td>\n",
       "      <td>Wii</td>\n",
       "      <td>2009.0</td>\n",
       "      <td>Sports</td>\n",
       "      <td>15.61</td>\n",
       "      <td>10.93</td>\n",
       "      <td>3.28</td>\n",
       "      <td>2.95</td>\n",
       "      <td>80.0</td>\n",
       "      <td>8</td>\n",
       "      <td>E</td>\n",
       "    </tr>\n",
       "    <tr>\n",
       "      <th>4</th>\n",
       "      <td>Pokemon Red/Pokemon Blue</td>\n",
       "      <td>GB</td>\n",
       "      <td>1996.0</td>\n",
       "      <td>Role-Playing</td>\n",
       "      <td>11.27</td>\n",
       "      <td>8.89</td>\n",
       "      <td>10.22</td>\n",
       "      <td>1.00</td>\n",
       "      <td>NaN</td>\n",
       "      <td>NaN</td>\n",
       "      <td>NaN</td>\n",
       "    </tr>\n",
       "  </tbody>\n",
       "</table>\n",
       "</div>"
      ],
      "text/plain": [
       "                       Name Platform  Year_of_Release         Genre  NA_sales  \\\n",
       "0                Wii Sports      Wii           2006.0        Sports     41.36   \n",
       "1         Super Mario Bros.      NES           1985.0      Platform     29.08   \n",
       "2            Mario Kart Wii      Wii           2008.0        Racing     15.68   \n",
       "3         Wii Sports Resort      Wii           2009.0        Sports     15.61   \n",
       "4  Pokemon Red/Pokemon Blue       GB           1996.0  Role-Playing     11.27   \n",
       "\n",
       "   EU_sales  JP_sales  Other_sales  Critic_Score User_Score Rating  \n",
       "0     28.96      3.77         8.45          76.0          8      E  \n",
       "1      3.58      6.81         0.77           NaN        NaN    NaN  \n",
       "2     12.76      3.79         3.29          82.0        8.3      E  \n",
       "3     10.93      3.28         2.95          80.0          8      E  \n",
       "4      8.89     10.22         1.00           NaN        NaN    NaN  "
      ]
     },
     "execution_count": 2,
     "metadata": {},
     "output_type": "execute_result"
    }
   ],
   "source": [
    "data = pd.read_csv('/datasets/games.csv')\n",
    "data.info()\n",
    "data.head()"
   ]
  },
  {
   "cell_type": "markdown",
   "metadata": {},
   "source": [
    "Сразу можно отметить несколько моментов, которые потребуют исправления при предобработке данных:\n",
    "\n",
    "1) Названия колонок должны будут приведены к нижнему регистру\n",
    "\n",
    "2) **critic_score** должен быть приведен к типу данных integer, посколько их оценка дается целым числом из расчета 100 баллов\n",
    "\n",
    "3) **year_of_release** должен быть приведен к типу данных integer, поскольку год - это целочисленное значение\n",
    "\n",
    "4) **user_score** должен быть приведен к типу float, поскольку тип object не подойдет для последующих математических операций с ним\n",
    "\n",
    "5) В датафрейме очень много пропусков. Наверняка найдутся и дубликаты. С этим тоже необходимо будет разобраться"
   ]
  },
  {
   "cell_type": "markdown",
   "metadata": {},
   "source": [
    "На этом ознакомление с данными можно считать завершенным. Перейдем к их предобработке для последующего анализа."
   ]
  },
  {
   "cell_type": "markdown",
   "metadata": {},
   "source": [
    "# Предобработка данных"
   ]
  },
  {
   "cell_type": "markdown",
   "metadata": {},
   "source": [
    "Приведем названия столбцов к нижнему регистру:"
   ]
  },
  {
   "cell_type": "code",
   "execution_count": 3,
   "metadata": {},
   "outputs": [
    {
     "data": {
      "text/html": [
       "<div>\n",
       "<style scoped>\n",
       "    .dataframe tbody tr th:only-of-type {\n",
       "        vertical-align: middle;\n",
       "    }\n",
       "\n",
       "    .dataframe tbody tr th {\n",
       "        vertical-align: top;\n",
       "    }\n",
       "\n",
       "    .dataframe thead th {\n",
       "        text-align: right;\n",
       "    }\n",
       "</style>\n",
       "<table border=\"1\" class=\"dataframe\">\n",
       "  <thead>\n",
       "    <tr style=\"text-align: right;\">\n",
       "      <th></th>\n",
       "      <th>name</th>\n",
       "      <th>platform</th>\n",
       "      <th>year_of_release</th>\n",
       "      <th>genre</th>\n",
       "      <th>na_sales</th>\n",
       "      <th>eu_sales</th>\n",
       "      <th>jp_sales</th>\n",
       "      <th>other_sales</th>\n",
       "      <th>critic_score</th>\n",
       "      <th>user_score</th>\n",
       "      <th>rating</th>\n",
       "    </tr>\n",
       "  </thead>\n",
       "  <tbody>\n",
       "    <tr>\n",
       "      <th>0</th>\n",
       "      <td>Wii Sports</td>\n",
       "      <td>Wii</td>\n",
       "      <td>2006.0</td>\n",
       "      <td>Sports</td>\n",
       "      <td>41.36</td>\n",
       "      <td>28.96</td>\n",
       "      <td>3.77</td>\n",
       "      <td>8.45</td>\n",
       "      <td>76.0</td>\n",
       "      <td>8</td>\n",
       "      <td>E</td>\n",
       "    </tr>\n",
       "    <tr>\n",
       "      <th>1</th>\n",
       "      <td>Super Mario Bros.</td>\n",
       "      <td>NES</td>\n",
       "      <td>1985.0</td>\n",
       "      <td>Platform</td>\n",
       "      <td>29.08</td>\n",
       "      <td>3.58</td>\n",
       "      <td>6.81</td>\n",
       "      <td>0.77</td>\n",
       "      <td>NaN</td>\n",
       "      <td>NaN</td>\n",
       "      <td>NaN</td>\n",
       "    </tr>\n",
       "    <tr>\n",
       "      <th>2</th>\n",
       "      <td>Mario Kart Wii</td>\n",
       "      <td>Wii</td>\n",
       "      <td>2008.0</td>\n",
       "      <td>Racing</td>\n",
       "      <td>15.68</td>\n",
       "      <td>12.76</td>\n",
       "      <td>3.79</td>\n",
       "      <td>3.29</td>\n",
       "      <td>82.0</td>\n",
       "      <td>8.3</td>\n",
       "      <td>E</td>\n",
       "    </tr>\n",
       "    <tr>\n",
       "      <th>3</th>\n",
       "      <td>Wii Sports Resort</td>\n",
       "      <td>Wii</td>\n",
       "      <td>2009.0</td>\n",
       "      <td>Sports</td>\n",
       "      <td>15.61</td>\n",
       "      <td>10.93</td>\n",
       "      <td>3.28</td>\n",
       "      <td>2.95</td>\n",
       "      <td>80.0</td>\n",
       "      <td>8</td>\n",
       "      <td>E</td>\n",
       "    </tr>\n",
       "    <tr>\n",
       "      <th>4</th>\n",
       "      <td>Pokemon Red/Pokemon Blue</td>\n",
       "      <td>GB</td>\n",
       "      <td>1996.0</td>\n",
       "      <td>Role-Playing</td>\n",
       "      <td>11.27</td>\n",
       "      <td>8.89</td>\n",
       "      <td>10.22</td>\n",
       "      <td>1.00</td>\n",
       "      <td>NaN</td>\n",
       "      <td>NaN</td>\n",
       "      <td>NaN</td>\n",
       "    </tr>\n",
       "    <tr>\n",
       "      <th>...</th>\n",
       "      <td>...</td>\n",
       "      <td>...</td>\n",
       "      <td>...</td>\n",
       "      <td>...</td>\n",
       "      <td>...</td>\n",
       "      <td>...</td>\n",
       "      <td>...</td>\n",
       "      <td>...</td>\n",
       "      <td>...</td>\n",
       "      <td>...</td>\n",
       "      <td>...</td>\n",
       "    </tr>\n",
       "    <tr>\n",
       "      <th>16710</th>\n",
       "      <td>Samurai Warriors: Sanada Maru</td>\n",
       "      <td>PS3</td>\n",
       "      <td>2016.0</td>\n",
       "      <td>Action</td>\n",
       "      <td>0.00</td>\n",
       "      <td>0.00</td>\n",
       "      <td>0.01</td>\n",
       "      <td>0.00</td>\n",
       "      <td>NaN</td>\n",
       "      <td>NaN</td>\n",
       "      <td>NaN</td>\n",
       "    </tr>\n",
       "    <tr>\n",
       "      <th>16711</th>\n",
       "      <td>LMA Manager 2007</td>\n",
       "      <td>X360</td>\n",
       "      <td>2006.0</td>\n",
       "      <td>Sports</td>\n",
       "      <td>0.00</td>\n",
       "      <td>0.01</td>\n",
       "      <td>0.00</td>\n",
       "      <td>0.00</td>\n",
       "      <td>NaN</td>\n",
       "      <td>NaN</td>\n",
       "      <td>NaN</td>\n",
       "    </tr>\n",
       "    <tr>\n",
       "      <th>16712</th>\n",
       "      <td>Haitaka no Psychedelica</td>\n",
       "      <td>PSV</td>\n",
       "      <td>2016.0</td>\n",
       "      <td>Adventure</td>\n",
       "      <td>0.00</td>\n",
       "      <td>0.00</td>\n",
       "      <td>0.01</td>\n",
       "      <td>0.00</td>\n",
       "      <td>NaN</td>\n",
       "      <td>NaN</td>\n",
       "      <td>NaN</td>\n",
       "    </tr>\n",
       "    <tr>\n",
       "      <th>16713</th>\n",
       "      <td>Spirits &amp; Spells</td>\n",
       "      <td>GBA</td>\n",
       "      <td>2003.0</td>\n",
       "      <td>Platform</td>\n",
       "      <td>0.01</td>\n",
       "      <td>0.00</td>\n",
       "      <td>0.00</td>\n",
       "      <td>0.00</td>\n",
       "      <td>NaN</td>\n",
       "      <td>NaN</td>\n",
       "      <td>NaN</td>\n",
       "    </tr>\n",
       "    <tr>\n",
       "      <th>16714</th>\n",
       "      <td>Winning Post 8 2016</td>\n",
       "      <td>PSV</td>\n",
       "      <td>2016.0</td>\n",
       "      <td>Simulation</td>\n",
       "      <td>0.00</td>\n",
       "      <td>0.00</td>\n",
       "      <td>0.01</td>\n",
       "      <td>0.00</td>\n",
       "      <td>NaN</td>\n",
       "      <td>NaN</td>\n",
       "      <td>NaN</td>\n",
       "    </tr>\n",
       "  </tbody>\n",
       "</table>\n",
       "<p>16715 rows × 11 columns</p>\n",
       "</div>"
      ],
      "text/plain": [
       "                                name platform  year_of_release         genre  \\\n",
       "0                         Wii Sports      Wii           2006.0        Sports   \n",
       "1                  Super Mario Bros.      NES           1985.0      Platform   \n",
       "2                     Mario Kart Wii      Wii           2008.0        Racing   \n",
       "3                  Wii Sports Resort      Wii           2009.0        Sports   \n",
       "4           Pokemon Red/Pokemon Blue       GB           1996.0  Role-Playing   \n",
       "...                              ...      ...              ...           ...   \n",
       "16710  Samurai Warriors: Sanada Maru      PS3           2016.0        Action   \n",
       "16711               LMA Manager 2007     X360           2006.0        Sports   \n",
       "16712        Haitaka no Psychedelica      PSV           2016.0     Adventure   \n",
       "16713               Spirits & Spells      GBA           2003.0      Platform   \n",
       "16714            Winning Post 8 2016      PSV           2016.0    Simulation   \n",
       "\n",
       "       na_sales  eu_sales  jp_sales  other_sales  critic_score user_score  \\\n",
       "0         41.36     28.96      3.77         8.45          76.0          8   \n",
       "1         29.08      3.58      6.81         0.77           NaN        NaN   \n",
       "2         15.68     12.76      3.79         3.29          82.0        8.3   \n",
       "3         15.61     10.93      3.28         2.95          80.0          8   \n",
       "4         11.27      8.89     10.22         1.00           NaN        NaN   \n",
       "...         ...       ...       ...          ...           ...        ...   \n",
       "16710      0.00      0.00      0.01         0.00           NaN        NaN   \n",
       "16711      0.00      0.01      0.00         0.00           NaN        NaN   \n",
       "16712      0.00      0.00      0.01         0.00           NaN        NaN   \n",
       "16713      0.01      0.00      0.00         0.00           NaN        NaN   \n",
       "16714      0.00      0.00      0.01         0.00           NaN        NaN   \n",
       "\n",
       "      rating  \n",
       "0          E  \n",
       "1        NaN  \n",
       "2          E  \n",
       "3          E  \n",
       "4        NaN  \n",
       "...      ...  \n",
       "16710    NaN  \n",
       "16711    NaN  \n",
       "16712    NaN  \n",
       "16713    NaN  \n",
       "16714    NaN  \n",
       "\n",
       "[16715 rows x 11 columns]"
      ]
     },
     "execution_count": 3,
     "metadata": {},
     "output_type": "execute_result"
    }
   ],
   "source": [
    "data = data.rename(str.lower, axis='columns')\n",
    "data"
   ]
  },
  {
   "cell_type": "markdown",
   "metadata": {},
   "source": [
    "Приведем указанные выше столбцы к правильному типу данных:"
   ]
  },
  {
   "cell_type": "code",
   "execution_count": 4,
   "metadata": {},
   "outputs": [],
   "source": [
    "data[['critic_score', 'year_of_release']] = data[['critic_score', 'year_of_release']].astype('Int64')"
   ]
  },
  {
   "cell_type": "markdown",
   "metadata": {},
   "source": [
    "Теперь выясним почему столбец **user_score** принял тип object. Посмотрим его значения:"
   ]
  },
  {
   "cell_type": "code",
   "execution_count": 5,
   "metadata": {},
   "outputs": [
    {
     "data": {
      "text/plain": [
       "array(['8', nan, '8.3', '8.5', '6.6', '8.4', '8.6', '7.7', '6.3', '7.4',\n",
       "       '8.2', '9', '7.9', '8.1', '8.7', '7.1', '3.4', '5.3', '4.8', '3.2',\n",
       "       '8.9', '6.4', '7.8', '7.5', '2.6', '7.2', '9.2', '7', '7.3', '4.3',\n",
       "       '7.6', '5.7', '5', '9.1', '6.5', 'tbd', '8.8', '6.9', '9.4', '6.8',\n",
       "       '6.1', '6.7', '5.4', '4', '4.9', '4.5', '9.3', '6.2', '4.2', '6',\n",
       "       '3.7', '4.1', '5.8', '5.6', '5.5', '4.4', '4.6', '5.9', '3.9',\n",
       "       '3.1', '2.9', '5.2', '3.3', '4.7', '5.1', '3.5', '2.5', '1.9', '3',\n",
       "       '2.7', '2.2', '2', '9.5', '2.1', '3.6', '2.8', '1.8', '3.8', '0',\n",
       "       '1.6', '9.6', '2.4', '1.7', '1.1', '0.3', '1.5', '0.7', '1.2',\n",
       "       '2.3', '0.5', '1.3', '0.2', '0.6', '1.4', '0.9', '1', '9.7'],\n",
       "      dtype=object)"
      ]
     },
     "execution_count": 5,
     "metadata": {},
     "output_type": "execute_result"
    }
   ],
   "source": [
    "data['user_score'].unique()"
   ]
  },
  {
   "cell_type": "markdown",
   "metadata": {},
   "source": [
    "Вот оно! Значение **'tbd'** - строковое. To Be Determined (TBD) рейтинг пристваивают играм, которые имеют менее четырех ревью на сайте Metacritic. В нашем случае "
   ]
  },
  {
   "cell_type": "code",
   "execution_count": 6,
   "metadata": {
    "scrolled": true
   },
   "outputs": [],
   "source": [
    "data['user_score'] = data['user_score'].replace('tbd', np.NaN)\n",
    "data['user_score'] = data['user_score'].astype('float')"
   ]
  },
  {
   "cell_type": "code",
   "execution_count": 7,
   "metadata": {
    "scrolled": true
   },
   "outputs": [
    {
     "name": "stdout",
     "output_type": "stream",
     "text": [
      "<class 'pandas.core.frame.DataFrame'>\n",
      "RangeIndex: 16715 entries, 0 to 16714\n",
      "Data columns (total 11 columns):\n",
      " #   Column           Non-Null Count  Dtype  \n",
      "---  ------           --------------  -----  \n",
      " 0   name             16713 non-null  object \n",
      " 1   platform         16715 non-null  object \n",
      " 2   year_of_release  16446 non-null  Int64  \n",
      " 3   genre            16713 non-null  object \n",
      " 4   na_sales         16715 non-null  float64\n",
      " 5   eu_sales         16715 non-null  float64\n",
      " 6   jp_sales         16715 non-null  float64\n",
      " 7   other_sales      16715 non-null  float64\n",
      " 8   critic_score     8137 non-null   Int64  \n",
      " 9   user_score       7590 non-null   float64\n",
      " 10  rating           9949 non-null   object \n",
      "dtypes: Int64(2), float64(5), object(4)\n",
      "memory usage: 1.4+ MB\n"
     ]
    }
   ],
   "source": [
    "data.info()"
   ]
  },
  {
   "cell_type": "markdown",
   "metadata": {},
   "source": [
    "Теперь, когда все данные приведены к нужному типу, можно заняться удалением и заполнением пропусков. Я собираюсь удальить не более 5% строк от их общего числа в исходном датасете.\n",
    "\n",
    "Еще раз оценим количество пропусков:"
   ]
  },
  {
   "cell_type": "code",
   "execution_count": 8,
   "metadata": {},
   "outputs": [
    {
     "data": {
      "text/plain": [
       "name                  2\n",
       "platform              0\n",
       "year_of_release     269\n",
       "genre                 2\n",
       "na_sales              0\n",
       "eu_sales              0\n",
       "jp_sales              0\n",
       "other_sales           0\n",
       "critic_score       8578\n",
       "user_score         9125\n",
       "rating             6766\n",
       "dtype: int64"
      ]
     },
     "execution_count": 8,
     "metadata": {},
     "output_type": "execute_result"
    }
   ],
   "source": [
    "data.isna().sum()"
   ]
  },
  {
   "cell_type": "markdown",
   "metadata": {},
   "source": [
    "Выясню что за таинственные игры без названия и жанра:"
   ]
  },
  {
   "cell_type": "markdown",
   "metadata": {},
   "source": [
    "Как оказалось это все заключено в двух строчках. Их мы можем спокойно удалить:"
   ]
  },
  {
   "cell_type": "code",
   "execution_count": 9,
   "metadata": {},
   "outputs": [],
   "source": [
    "data = data[data['name'].notna()]"
   ]
  },
  {
   "cell_type": "markdown",
   "metadata": {},
   "source": [
    "Оценим долю оставшихся пропусков в процентном выражении:"
   ]
  },
  {
   "cell_type": "code",
   "execution_count": 10,
   "metadata": {},
   "outputs": [
    {
     "data": {
      "text/plain": [
       "name                0.000000\n",
       "platform            0.000000\n",
       "year_of_release     1.609526\n",
       "genre               0.000000\n",
       "na_sales            0.000000\n",
       "eu_sales            0.000000\n",
       "jp_sales            0.000000\n",
       "other_sales         0.000000\n",
       "critic_score       51.313349\n",
       "user_score         54.586250\n",
       "rating             40.471489\n",
       "dtype: float64"
      ]
     },
     "execution_count": 10,
     "metadata": {},
     "output_type": "execute_result"
    }
   ],
   "source": [
    "data.isna().sum() / len(data) * 100"
   ]
  },
  {
   "cell_type": "markdown",
   "metadata": {},
   "source": [
    "Какие столбцы имеют пропуски?\n",
    "\n",
    "**year_of_release** - год игры не может быть заполнен средним или медианным значением. Такие пропуски составляют примерно 1.6% от данных датафрейма. От них я избавлюсь. Это не должно сильно сказаться на итоговом анализе.\n",
    "\n",
    "**critic_score, user_score** - такие данные тоже неправильно было бы заполнять медианным или средним значением, поскольку качество игры - это фактор, слабо поддающийся статистическому расчету. Тем более, когда пропуски составляют более половины от данных всего датафрейма. Возможно, эти игры старше сервиса Metacritic и в свое время они просто не оценивались. Двлее я проверю эту теорию.\n",
    "\n",
    "**rating** - рейтинг не может быть заменен самым часто встречающимся или иным значением. Возможно игры без рейтинга предназначены для выпуска на те рынки, где такая маркировка не требуется или же были выпущены до создания агентства ESRB.\n"
   ]
  },
  {
   "cell_type": "code",
   "execution_count": 11,
   "metadata": {},
   "outputs": [
    {
     "name": "stdout",
     "output_type": "stream",
     "text": [
      "Процент игр без рейтинга, появившиеся до создания Metacritic: 21.64 %\n"
     ]
    }
   ],
   "source": [
    "print('Процент игр без рейтинга, появившиеся до создания Metacritic:', round(len(data[data['year_of_release'] < 2000]) / data['user_score'].isna().sum() * 100, 2), '%')"
   ]
  },
  {
   "cell_type": "markdown",
   "metadata": {},
   "source": [
    "Теория не подтверждается. Таких игр одна из пяти. \n",
    "\n",
    "Пропуски в **critic_score, user_score** заполню индикаторным значением -1. Это позволит ужасным играм с рейтингом 0 остаться при анализе. \n",
    "\n",
    "Пропуски в **rating** заполню плашкой 'Not Rated'"
   ]
  },
  {
   "cell_type": "code",
   "execution_count": 12,
   "metadata": {
    "scrolled": true
   },
   "outputs": [
    {
     "data": {
      "text/plain": [
       "name               0.0\n",
       "platform           0.0\n",
       "year_of_release    0.0\n",
       "genre              0.0\n",
       "na_sales           0.0\n",
       "eu_sales           0.0\n",
       "jp_sales           0.0\n",
       "other_sales        0.0\n",
       "critic_score       0.0\n",
       "user_score         0.0\n",
       "rating             0.0\n",
       "dtype: float64"
      ]
     },
     "execution_count": 12,
     "metadata": {},
     "output_type": "execute_result"
    }
   ],
   "source": [
    "data['critic_score'] = data['critic_score'].fillna(-1)\n",
    "data['user_score'] = data['user_score'].fillna(-1)\n",
    "data['rating'] = data['rating'].fillna('Not Rated')\n",
    "data = data[data['year_of_release'].notna()]\n",
    "round(data.isna().sum() / len(data) * 100, 1)"
   ]
  },
  {
   "cell_type": "markdown",
   "metadata": {},
   "source": [
    "Создам отдельный столбец с суммарными продажами игры во всех регионах. Это упростит последующий анализ."
   ]
  },
  {
   "cell_type": "code",
   "execution_count": 13,
   "metadata": {},
   "outputs": [],
   "source": [
    "data['world_sales'] = data['na_sales'] + data['eu_sales'] + data['jp_sales'] + data['other_sales']"
   ]
  },
  {
   "cell_type": "markdown",
   "metadata": {},
   "source": [
    "На данном этапе предобработку данных можно считать завершенной. Мы избавились от пропусков в годах выпуска, добавили индикаторые рейтинговые значения там, где это нужно и добавили удобный столбец с мировыми продажами игр. Потеря в данных составила 1.6% строк, что является допустимым результатом."
   ]
  },
  {
   "cell_type": "markdown",
   "metadata": {},
   "source": [
    "# Исследовательский анализ данных"
   ]
  },
  {
   "cell_type": "markdown",
   "metadata": {},
   "source": [
    "Для начала оценим динамику выпуска игр во всем мире:"
   ]
  },
  {
   "cell_type": "code",
   "execution_count": 14,
   "metadata": {},
   "outputs": [
    {
     "data": {
      "image/png": "[encoded data removed]",
      "text/plain": [
       "<Figure size 720x360 with 1 Axes>"
      ]
     },
     "metadata": {
      "needs_background": "light"
     },
     "output_type": "display_data"
    }
   ],
   "source": [
    "ax = data.pivot_table(index = 'year_of_release', \n",
    "                 aggfunc = 'count', \n",
    "                 values = 'rating').plot(kind = 'line', \n",
    "                                        title = 'Количество выпущенных игр по годам',\n",
    "                                        xlabel = 'Год',\n",
    "                                        ylabel = 'Кол-во выпущенных игр',\n",
    "                                        legend = False,\n",
    "                                        figsize = (10, 5),\n",
    "                                        xticks = [i for i in range(1980, 2017)],\n",
    "                                        rot = 90)\n",
    "ax;"
   ]
  },
  {
   "cell_type": "markdown",
   "metadata": {},
   "source": [
    "Что можно увидеть на этом графике? \n",
    "\n",
    "Во-первых, подъём в районе 1993 года. Тогда intel начали производить массовые и дешевые процессоры 468-й серии , что позволило значительно скоратить стоимость компьютеров, а также повысило их привлекательность для разработчиков видеоигр, которые на тот момент почти все бли на консолях.\n",
    "\n",
    "Во-вторых, скачок в 2001 году. Это был пик дистрибьюции контента через CD носители. Релиз Playstaytion 2 и развитие компьютерного железа позволили открыть новые горизонты в вопросе качества видеоигр. Это ривело к интересу к ним со стороны массового потребителя.\n",
    "\n",
    "В-третьих - еще один скачок в 2008-2010 годах. Золотой век игровой индустрии. Обилие новых игровых серий, которые впоследствие станут сверхпопулярными, битва за пользователей среди двух компаний-производителей консолей 8 поколения и т.п...\n",
    "\n",
    "В-четвертых, спад в 2011. Развитие социальных сетей и мобильного рынка видеоигр вызвало сильный отток игроков с классических платформ (консолей и ПК). "
   ]
  },
  {
   "cell_type": "code",
   "execution_count": 15,
   "metadata": {
    "scrolled": true
   },
   "outputs": [
    {
     "data": {
      "text/html": [
       "<div>\n",
       "<style scoped>\n",
       "    .dataframe tbody tr th:only-of-type {\n",
       "        vertical-align: middle;\n",
       "    }\n",
       "\n",
       "    .dataframe tbody tr th {\n",
       "        vertical-align: top;\n",
       "    }\n",
       "\n",
       "    .dataframe thead th {\n",
       "        text-align: right;\n",
       "    }\n",
       "</style>\n",
       "<table border=\"1\" class=\"dataframe\">\n",
       "  <thead>\n",
       "    <tr style=\"text-align: right;\">\n",
       "      <th></th>\n",
       "      <th>name</th>\n",
       "      <th>platform</th>\n",
       "      <th>year_of_release</th>\n",
       "      <th>genre</th>\n",
       "      <th>na_sales</th>\n",
       "      <th>eu_sales</th>\n",
       "      <th>jp_sales</th>\n",
       "      <th>other_sales</th>\n",
       "      <th>critic_score</th>\n",
       "      <th>user_score</th>\n",
       "      <th>rating</th>\n",
       "      <th>world_sales</th>\n",
       "    </tr>\n",
       "  </thead>\n",
       "  <tbody>\n",
       "    <tr>\n",
       "      <th>0</th>\n",
       "      <td>Wii Sports</td>\n",
       "      <td>Wii</td>\n",
       "      <td>2006</td>\n",
       "      <td>Sports</td>\n",
       "      <td>41.36</td>\n",
       "      <td>28.96</td>\n",
       "      <td>3.77</td>\n",
       "      <td>8.45</td>\n",
       "      <td>76</td>\n",
       "      <td>8.0</td>\n",
       "      <td>E</td>\n",
       "      <td>82.54</td>\n",
       "    </tr>\n",
       "    <tr>\n",
       "      <th>1</th>\n",
       "      <td>Super Mario Bros.</td>\n",
       "      <td>NES</td>\n",
       "      <td>1985</td>\n",
       "      <td>Platform</td>\n",
       "      <td>29.08</td>\n",
       "      <td>3.58</td>\n",
       "      <td>6.81</td>\n",
       "      <td>0.77</td>\n",
       "      <td>-1</td>\n",
       "      <td>-1.0</td>\n",
       "      <td>Not Rated</td>\n",
       "      <td>40.24</td>\n",
       "    </tr>\n",
       "    <tr>\n",
       "      <th>2</th>\n",
       "      <td>Mario Kart Wii</td>\n",
       "      <td>Wii</td>\n",
       "      <td>2008</td>\n",
       "      <td>Racing</td>\n",
       "      <td>15.68</td>\n",
       "      <td>12.76</td>\n",
       "      <td>3.79</td>\n",
       "      <td>3.29</td>\n",
       "      <td>82</td>\n",
       "      <td>8.3</td>\n",
       "      <td>E</td>\n",
       "      <td>35.52</td>\n",
       "    </tr>\n",
       "    <tr>\n",
       "      <th>3</th>\n",
       "      <td>Wii Sports Resort</td>\n",
       "      <td>Wii</td>\n",
       "      <td>2009</td>\n",
       "      <td>Sports</td>\n",
       "      <td>15.61</td>\n",
       "      <td>10.93</td>\n",
       "      <td>3.28</td>\n",
       "      <td>2.95</td>\n",
       "      <td>80</td>\n",
       "      <td>8.0</td>\n",
       "      <td>E</td>\n",
       "      <td>32.77</td>\n",
       "    </tr>\n",
       "    <tr>\n",
       "      <th>4</th>\n",
       "      <td>Pokemon Red/Pokemon Blue</td>\n",
       "      <td>GB</td>\n",
       "      <td>1996</td>\n",
       "      <td>Role-Playing</td>\n",
       "      <td>11.27</td>\n",
       "      <td>8.89</td>\n",
       "      <td>10.22</td>\n",
       "      <td>1.00</td>\n",
       "      <td>-1</td>\n",
       "      <td>-1.0</td>\n",
       "      <td>Not Rated</td>\n",
       "      <td>31.38</td>\n",
       "    </tr>\n",
       "    <tr>\n",
       "      <th>...</th>\n",
       "      <td>...</td>\n",
       "      <td>...</td>\n",
       "      <td>...</td>\n",
       "      <td>...</td>\n",
       "      <td>...</td>\n",
       "      <td>...</td>\n",
       "      <td>...</td>\n",
       "      <td>...</td>\n",
       "      <td>...</td>\n",
       "      <td>...</td>\n",
       "      <td>...</td>\n",
       "      <td>...</td>\n",
       "    </tr>\n",
       "    <tr>\n",
       "      <th>16710</th>\n",
       "      <td>Samurai Warriors: Sanada Maru</td>\n",
       "      <td>PS3</td>\n",
       "      <td>2016</td>\n",
       "      <td>Action</td>\n",
       "      <td>0.00</td>\n",
       "      <td>0.00</td>\n",
       "      <td>0.01</td>\n",
       "      <td>0.00</td>\n",
       "      <td>-1</td>\n",
       "      <td>-1.0</td>\n",
       "      <td>Not Rated</td>\n",
       "      <td>0.01</td>\n",
       "    </tr>\n",
       "    <tr>\n",
       "      <th>16711</th>\n",
       "      <td>LMA Manager 2007</td>\n",
       "      <td>X360</td>\n",
       "      <td>2006</td>\n",
       "      <td>Sports</td>\n",
       "      <td>0.00</td>\n",
       "      <td>0.01</td>\n",
       "      <td>0.00</td>\n",
       "      <td>0.00</td>\n",
       "      <td>-1</td>\n",
       "      <td>-1.0</td>\n",
       "      <td>Not Rated</td>\n",
       "      <td>0.01</td>\n",
       "    </tr>\n",
       "    <tr>\n",
       "      <th>16712</th>\n",
       "      <td>Haitaka no Psychedelica</td>\n",
       "      <td>PSV</td>\n",
       "      <td>2016</td>\n",
       "      <td>Adventure</td>\n",
       "      <td>0.00</td>\n",
       "      <td>0.00</td>\n",
       "      <td>0.01</td>\n",
       "      <td>0.00</td>\n",
       "      <td>-1</td>\n",
       "      <td>-1.0</td>\n",
       "      <td>Not Rated</td>\n",
       "      <td>0.01</td>\n",
       "    </tr>\n",
       "    <tr>\n",
       "      <th>16713</th>\n",
       "      <td>Spirits &amp; Spells</td>\n",
       "      <td>GBA</td>\n",
       "      <td>2003</td>\n",
       "      <td>Platform</td>\n",
       "      <td>0.01</td>\n",
       "      <td>0.00</td>\n",
       "      <td>0.00</td>\n",
       "      <td>0.00</td>\n",
       "      <td>-1</td>\n",
       "      <td>-1.0</td>\n",
       "      <td>Not Rated</td>\n",
       "      <td>0.01</td>\n",
       "    </tr>\n",
       "    <tr>\n",
       "      <th>16714</th>\n",
       "      <td>Winning Post 8 2016</td>\n",
       "      <td>PSV</td>\n",
       "      <td>2016</td>\n",
       "      <td>Simulation</td>\n",
       "      <td>0.00</td>\n",
       "      <td>0.00</td>\n",
       "      <td>0.01</td>\n",
       "      <td>0.00</td>\n",
       "      <td>-1</td>\n",
       "      <td>-1.0</td>\n",
       "      <td>Not Rated</td>\n",
       "      <td>0.01</td>\n",
       "    </tr>\n",
       "  </tbody>\n",
       "</table>\n",
       "<p>16444 rows × 12 columns</p>\n",
       "</div>"
      ],
      "text/plain": [
       "                                name platform  year_of_release         genre  \\\n",
       "0                         Wii Sports      Wii             2006        Sports   \n",
       "1                  Super Mario Bros.      NES             1985      Platform   \n",
       "2                     Mario Kart Wii      Wii             2008        Racing   \n",
       "3                  Wii Sports Resort      Wii             2009        Sports   \n",
       "4           Pokemon Red/Pokemon Blue       GB             1996  Role-Playing   \n",
       "...                              ...      ...              ...           ...   \n",
       "16710  Samurai Warriors: Sanada Maru      PS3             2016        Action   \n",
       "16711               LMA Manager 2007     X360             2006        Sports   \n",
       "16712        Haitaka no Psychedelica      PSV             2016     Adventure   \n",
       "16713               Spirits & Spells      GBA             2003      Platform   \n",
       "16714            Winning Post 8 2016      PSV             2016    Simulation   \n",
       "\n",
       "       na_sales  eu_sales  jp_sales  other_sales  critic_score  user_score  \\\n",
       "0         41.36     28.96      3.77         8.45            76         8.0   \n",
       "1         29.08      3.58      6.81         0.77            -1        -1.0   \n",
       "2         15.68     12.76      3.79         3.29            82         8.3   \n",
       "3         15.61     10.93      3.28         2.95            80         8.0   \n",
       "4         11.27      8.89     10.22         1.00            -1        -1.0   \n",
       "...         ...       ...       ...          ...           ...         ...   \n",
       "16710      0.00      0.00      0.01         0.00            -1        -1.0   \n",
       "16711      0.00      0.01      0.00         0.00            -1        -1.0   \n",
       "16712      0.00      0.00      0.01         0.00            -1        -1.0   \n",
       "16713      0.01      0.00      0.00         0.00            -1        -1.0   \n",
       "16714      0.00      0.00      0.01         0.00            -1        -1.0   \n",
       "\n",
       "          rating  world_sales  \n",
       "0              E        82.54  \n",
       "1      Not Rated        40.24  \n",
       "2              E        35.52  \n",
       "3              E        32.77  \n",
       "4      Not Rated        31.38  \n",
       "...          ...          ...  \n",
       "16710  Not Rated         0.01  \n",
       "16711  Not Rated         0.01  \n",
       "16712  Not Rated         0.01  \n",
       "16713  Not Rated         0.01  \n",
       "16714  Not Rated         0.01  \n",
       "\n",
       "[16444 rows x 12 columns]"
      ]
     },
     "execution_count": 15,
     "metadata": {},
     "output_type": "execute_result"
    }
   ],
   "source": [
    "data"
   ]
  },
  {
   "cell_type": "markdown",
   "metadata": {},
   "source": [
    "Теперь оценим положение отдельных платформ в ретроспективе:"
   ]
  },
  {
   "cell_type": "code",
   "execution_count": 16,
   "metadata": {},
   "outputs": [
    {
     "data": {
      "image/png": "[encoded data removed]",
      "text/plain": [
       "<Figure size 720x576 with 1 Axes>"
      ]
     },
     "metadata": {
      "needs_background": "light"
     },
     "output_type": "display_data"
    }
   ],
   "source": [
    "quaso = data.pivot_table(index = 'platform', \n",
    "                 aggfunc = 'sum', \n",
    "                 values = 'world_sales').sort_values(by = 'world_sales')\n",
    "quaso.plot(kind = 'barh', \n",
    "           figsize = (10, 8), \n",
    "           legend = False, \n",
    "           title = 'Продажи игр, выпущенных на платформу', \n",
    "           xlabel = 'Платформа');"
   ]
  },
  {
   "cell_type": "markdown",
   "metadata": {},
   "source": [
    "Самые успешные - PS2 и XBox360 - лидеры консольного рынка в рамках своих поколений.\n",
    "\n",
    "Рассмотрим те же данные, но в динамике по годам:"
   ]
  },
  {
   "cell_type": "code",
   "execution_count": 17,
   "metadata": {},
   "outputs": [],
   "source": [
    "inga = list(quaso.tail(5).index)"
   ]
  },
  {
   "cell_type": "code",
   "execution_count": 18,
   "metadata": {},
   "outputs": [],
   "source": [
    "ara = data.pivot_table(index = 'year_of_release', \n",
    "                       columns = 'platform', \n",
    "                       values = 'world_sales', \n",
    "                       aggfunc = 'sum')"
   ]
  },
  {
   "cell_type": "code",
   "execution_count": 19,
   "metadata": {},
   "outputs": [
    {
     "data": {
      "image/png": "[encoded data removed]",
      "text/plain": [
       "<Figure size 720x360 with 1 Axes>"
      ]
     },
     "metadata": {
      "needs_background": "light"
     },
     "output_type": "display_data"
    }
   ],
   "source": [
    "showus = ara[inga].plot(figsize = (10, 5), style = 'o-', \n",
    "                        title = 'Продажи игр на платформах по годам',\n",
    "                       xlabel = 'Год',\n",
    "                       ylabel = 'Суммарные продажи, млн.$',\n",
    "                       xlim = (2000, 2016));"
   ]
  },
  {
   "cell_type": "markdown",
   "metadata": {},
   "source": [
    "Я оставил на этом графике топ-10 платформ по продажам за все время. Что можно вынести из этого графика?\n",
    "\n",
    "В среднем каждая крупная успешная платформа имеет срок жизни в 8-10 лет. Среди игровых консолей этот срок принято считать поколением. Более того, на графике можно видеть, что \"бугры\" поднимаются и падают практически одновременно. В рамках одного \"бугорка\" можно проследить динамику конкуренции нескольких платформ в рамках одного поколения (PS3 и XBox 360)."
   ]
  },
  {
   "cell_type": "markdown",
   "metadata": {},
   "source": [
    "Возьмем данные за соответствующий актуальный период. Им я буду считать период с 2013 по 2015 год. Эти года идут после \"золотого времени\" видеоигр. Более того, они несут в себе определенный тренд у квяданию и коренному изменению классической видеоигровой индустрии. По ним мы сможем оценить и спрогнозировать изменение отрасли к 2017 году."
   ]
  },
  {
   "cell_type": "code",
   "execution_count": 20,
   "metadata": {},
   "outputs": [],
   "source": [
    "olddata = data\n",
    "data = data.query('year_of_release >= 2013')"
   ]
  },
  {
   "cell_type": "code",
   "execution_count": 21,
   "metadata": {},
   "outputs": [],
   "source": [
    "quaso = data.pivot_table(index = 'platform', \n",
    "                 aggfunc = 'sum', \n",
    "                 values = 'world_sales').sort_values(by = 'world_sales')\n",
    "inga = list(quaso.tail(5).index)"
   ]
  },
  {
   "cell_type": "code",
   "execution_count": 22,
   "metadata": {
    "scrolled": true
   },
   "outputs": [
    {
     "data": {
      "image/png": "[encoded data removed]",
      "text/plain": [
       "<Figure size 720x360 with 1 Axes>"
      ]
     },
     "metadata": {
      "needs_background": "light"
     },
     "output_type": "display_data"
    }
   ],
   "source": [
    "showus = ara[inga].plot(figsize = (10, 5), \n",
    "                        style = 'o-', \n",
    "                        xlim = (2013, 2016),\n",
    "                       title = 'Суммарные продажи по платформам (2013-2016 г.)',\n",
    "                       xlabel = 'Год',\n",
    "                       ylabel = 'Суммарные продажи, млн.$',\n",
    "                       xticks = [i for i in range(2013, 2017)]);"
   ]
  },
  {
   "cell_type": "markdown",
   "metadata": {},
   "source": [
    "На конец 2016 лидируют две консоли от противостоящих студий гигантов: Sony и Microsoft. В прошлых годах прослеживается такая же тененция.Вырвались в лидеры они в 2014 году, почти сразу после выпуска как представители нового поколения приставок. Думаю, что можно сделать вывод о том, что лидирующие позиции рынка продолжит занимать большая тройка. \n",
    "\n",
    "В последние несколько лет лидирует Sony Playstaytion. С отрывом. Основную ставку будем делать на неё."
   ]
  },
  {
   "cell_type": "markdown",
   "metadata": {},
   "source": [
    "Теперь построю **boxplot** по глобальным продажам игр в разбивке по платформам:"
   ]
  },
  {
   "cell_type": "code",
   "execution_count": 23,
   "metadata": {},
   "outputs": [
    {
     "data": {
      "image/png": "[encoded data removed]",
      "text/plain": [
       "<Figure size 432x288 with 1 Axes>"
      ]
     },
     "metadata": {
      "needs_background": "light"
     },
     "output_type": "display_data"
    }
   ],
   "source": [
    "plt.boxplot(data['world_sales'])\n",
    "plt.ylim(0, 1.75)\n",
    "plt.title('Boxplot по рынку видеоигр');"
   ]
  },
  {
   "cell_type": "markdown",
   "metadata": {},
   "source": [
    "В среднем игры собирают кассу в 1 300 000 долларов. Но эта цифра получена благодаря хитам ААА класса. Медианное значение сильно скромнее - 200 000 долларов. \n",
    "\n",
    "Теперь посмотрим как зарабытвают игры на различных платформах:"
   ]
  },
  {
   "cell_type": "code",
   "execution_count": 24,
   "metadata": {},
   "outputs": [],
   "source": [
    "arsik = data.pivot_table(index = 'name', columns = 'platform', values = 'world_sales')"
   ]
  },
  {
   "cell_type": "code",
   "execution_count": 25,
   "metadata": {
    "scrolled": true
   },
   "outputs": [
    {
     "data": {
      "image/png": "[encoded data removed]",
      "text/plain": [
       "<Figure size 720x410.4 with 1 Axes>"
      ]
     },
     "metadata": {
      "needs_background": "light"
     },
     "output_type": "display_data"
    }
   ],
   "source": [
    "arsik[inga].plot(kind = 'box', ylim = (0,2), figsize = (10, 5.7));"
   ]
  },
  {
   "cell_type": "markdown",
   "metadata": {},
   "source": [
    "Выводы:\n",
    "\n",
    "- Медиана по значениям на самых популярных платформах составляет около 0.1 - 0.3 млн. долларов. \n",
    "- Значение, которое для многих компаний определяется как аномально большое лежит за пределом 1.75 миллионов долларов\n",
    "- Значительно из ряда выбивается Nintendo 3DS. Скорее всего на неё выходят слишком нишевые игры, интересные ограниченной группе игроков. Этим можно объяснить её неспособность конкурировать даже с прошлыми поколениями японских и американских конкурентов."
   ]
  },
  {
   "cell_type": "markdown",
   "metadata": {},
   "source": [
    "Теперь рассмотрим как влияют на продажи игры отзывы в рамках одной конкретной популярной платформы. Я выбрал PS4."
   ]
  },
  {
   "cell_type": "code",
   "execution_count": 26,
   "metadata": {},
   "outputs": [
    {
     "data": {
      "image/png": "[encoded data removed]",
      "text/plain": [
       "<Figure size 720x360 with 1 Axes>"
      ]
     },
     "metadata": {
      "needs_background": "light"
     },
     "output_type": "display_data"
    }
   ],
   "source": [
    "plt.figure(figsize=(10, 5))\n",
    "ps4dat = data[data['platform'] == 'PS4']\n",
    "plt.scatter(ps4dat['critic_score'], ps4dat['world_sales']);\n",
    "plt.xlabel('Оценка критиков')\n",
    "plt.ylabel('Выручка игры')\n",
    "plt.title('Зависимость выручки от оценок критиков');"
   ]
  },
  {
   "cell_type": "markdown",
   "metadata": {},
   "source": [
    "Действительно, корерляция четко видна. Чем выше оценки критиков - тем лучше игра продается.\n",
    "\n",
    "Что же до простых игроков?"
   ]
  },
  {
   "cell_type": "code",
   "execution_count": 27,
   "metadata": {},
   "outputs": [
    {
     "data": {
      "image/png": "[encoded data removed]",
      "text/plain": [
       "<Figure size 720x360 with 1 Axes>"
      ]
     },
     "metadata": {
      "needs_background": "light"
     },
     "output_type": "display_data"
    }
   ],
   "source": [
    "plt.figure(figsize=(10, 5))\n",
    "ps4dat = data[data['platform'] == 'PS4']\n",
    "plt.scatter(ps4dat['user_score'], ps4dat['world_sales']);\n",
    "plt.xlabel('Оценка игроков')\n",
    "plt.ylabel('Выручка игры')\n",
    "plt.title('Зависимость выручки от оценок игроков');"
   ]
  },
  {
   "cell_type": "markdown",
   "metadata": {},
   "source": [
    "Ситуация менее однозначная. Все же присутствуют аномально хорошо продавшиеся игры, получившие низкий балл, однако общая картина правдоподобна и совпадет с подобной среди критиков.\n",
    "\n",
    "Такие выбросы могут быть вызваны спорными решениями разработчиков (и ревью-бомбинг как их следствие), обман пользователей несбыточными обещаниями и т.п...\n",
    "\n",
    "Однако, общий **вывод** прост: чем лучше об игре отзываются критики и игроки - тем она успешнее в финансовом плане\n",
    "\n",
    "Аналогичные ли выводы мы можем сделать касаемо прочих платформ? Построим матрицу корреляции, чтобы выяснить это:"
   ]
  },
  {
   "cell_type": "code",
   "execution_count": 28,
   "metadata": {
    "scrolled": true
   },
   "outputs": [
    {
     "data": {
      "image/png": "[encoded data removed]",
      "text/plain": [
       "<Figure size 720x324 with 2 Axes>"
      ]
     },
     "metadata": {
      "needs_background": "light"
     },
     "output_type": "display_data"
    }
   ],
   "source": [
    "plt.figure(figsize=(10,4.5))\n",
    "sns.heatmap(ps4dat.corr(), annot = True);"
   ]
  },
  {
   "cell_type": "markdown",
   "metadata": {},
   "source": [
    "Оставлю только нужное:"
   ]
  },
  {
   "cell_type": "code",
   "execution_count": 29,
   "metadata": {},
   "outputs": [
    {
     "data": {
      "image/png": "[encoded data removed]",
      "text/plain": [
       "<Figure size 432x288 with 2 Axes>"
      ]
     },
     "metadata": {
      "needs_background": "light"
     },
     "output_type": "display_data"
    }
   ],
   "source": [
    "ax = plt.axes()\n",
    "ps4ft = ps4dat[['world_sales', 'user_score', 'critic_score']]\n",
    "sns.heatmap(ps4ft.corr()[['world_sales']].sort_values(by = 'world_sales'), annot = True)\n",
    "ax.set_title('Корреляция продаж с оценками критиков и игроков');"
   ]
  },
  {
   "cell_type": "markdown",
   "metadata": {},
   "source": [
    "Как вывяснилось - оценки критиков лучше показывают финансовую успешность игры. Проведем те же действия и для прочих:"
   ]
  },
  {
   "cell_type": "code",
   "execution_count": 30,
   "metadata": {},
   "outputs": [
    {
     "data": {
      "image/png": "[encoded data removed]",
      "text/plain": [
       "<Figure size 432x288 with 2 Axes>"
      ]
     },
     "metadata": {
      "needs_background": "light"
     },
     "output_type": "display_data"
    },
    {
     "data": {
      "image/png": "[encoded data removed]",
      "text/plain": [
       "<Figure size 432x288 with 2 Axes>"
      ]
     },
     "metadata": {
      "needs_background": "light"
     },
     "output_type": "display_data"
    },
    {
     "data": {
      "image/png": "[encoded data removed]",
      "text/plain": [
       "<Figure size 432x288 with 2 Axes>"
      ]
     },
     "metadata": {
      "needs_background": "light"
     },
     "output_type": "display_data"
    },
    {
     "data": {
      "image/png": "[encoded data removed]",
      "text/plain": [
       "<Figure size 432x288 with 2 Axes>"
      ]
     },
     "metadata": {
      "needs_background": "light"
     },
     "output_type": "display_data"
    },
    {
     "data": {
      "image/png": "[encoded data removed]",
      "text/plain": [
       "<Figure size 432x288 with 2 Axes>"
      ]
     },
     "metadata": {
      "needs_background": "light"
     },
     "output_type": "display_data"
    }
   ],
   "source": [
    "for entry in inga:\n",
    "    plt.figure()\n",
    "    dat = data[data['platform'] == entry]\n",
    "    datclr = dat[['world_sales', 'user_score', 'critic_score']]\n",
    "    sns.heatmap(datclr.corr()[['world_sales']].sort_values(by = 'world_sales'), annot = True);"
   ]
  },
  {
   "cell_type": "markdown",
   "metadata": {},
   "source": [
    "Согласно данным по корреляции прочих платформ можно сделать несколько выводов:\n",
    "\n",
    "- Корреляция между выручкой и оценками на популярных платформах (PS2, PC, XBox360 etc.) совпадает с общими данными по всему датафрейму.\n",
    "- Аномально себя ведут Wii и DS. Эти консоли в основном покупают для приобретения игр Nintendo. Они нравятся многочисленным азиатам и их можно назвать family friendly. С точки зрения критиков такие игры не очень ценны, однако сверхпопулярны у массовой аудитории.\n",
    "- PS4 и XBox выпускают множество дорогостоящих рекламных эксклюзиных проектов на свои платформы. Такие игры, как правило, любимы критиками и очень успешно продают не только себя, нои  платформу-носитель."
   ]
  },
  {
   "cell_type": "markdown",
   "metadata": {},
   "source": [
    "В довершение оценим распределение игр по жанрам:"
   ]
  },
  {
   "cell_type": "code",
   "execution_count": 31,
   "metadata": {},
   "outputs": [],
   "source": [
    "data['world_sales'] = data['world_sales']*1000"
   ]
  },
  {
   "cell_type": "code",
   "execution_count": 32,
   "metadata": {},
   "outputs": [],
   "source": [
    "data['world_sales2'] = data['world_sales']"
   ]
  },
  {
   "cell_type": "code",
   "execution_count": 33,
   "metadata": {
    "scrolled": true
   },
   "outputs": [
    {
     "data": {
      "image/png": "[encoded data removed]",
      "text/plain": [
       "<Figure size 1080x288 with 1 Axes>"
      ]
     },
     "metadata": {
      "needs_background": "light"
     },
     "output_type": "display_data"
    }
   ],
   "source": [
    "fig, ax = plt.subplots()\n",
    "tts = data.groupby(by = 'genre').agg({'name': 'count', 'world_sales': 'median', 'world_sales2': 'mean'}).sort_values(by='name',ascending=False)\n",
    "tts.plot(kind = 'bar', figsize = (15, 4), \n",
    "         grid = True,\n",
    "        title = 'Выручка и количество проданных игр в жанре',\n",
    "        xlabel = 'Жанр',\n",
    "        ax = ax);\n",
    "ax.legend([\"Выпущено игр\", \"Медианные продажи игр (тыс)\", \"Средние продажи игр (тыс.)\"]);"
   ]
  },
  {
   "cell_type": "markdown",
   "metadata": {},
   "source": [
    "- Сделаем выводы из построенной столбчатой диаграммы:\n",
    "\n",
    "- Самые выгодные в производстве - **шутеры и спортивные игры**\n",
    "\n",
    "- Рынок переполнен играми в жанре **action**. Возможно их среднее качество достаточно низко, ведь медианное значение продаж ЗНАЧИТЕЛЬНО отличается от среднего.\n",
    "\n",
    "- Очень плохо продаются игры в жанре **Puzzle, Adventure**\n",
    "\n",
    "- Скорее всего представленная тенденция срхранится. Ставку при разработке рекламных кампаний следует делать на шутеры и спортивные игры.\n",
    "\n",
    "Стоимт иметь ввиду, что хоть на паззлы и адвенчуры не имеется приемлемого спроса - они достаточно дёшевы и быстры в производстве. Разработка такой игры (даже в случае её провала) не станет большим ударом по студии разработчику."
   ]
  },
  {
   "cell_type": "markdown",
   "metadata": {},
   "source": [
    "# Типичный портрет потребителя для каждого из регионов"
   ]
  },
  {
   "cell_type": "markdown",
   "metadata": {},
   "source": [
    "Составим портрет типичного потребителя для каждого из трех основных регионов (jp, eu, na). Для этого опишем ряд характеристик:\n",
    "\n",
    "1) Самые популярные платформы\n",
    "\n",
    "2) Самые популярные жанры\n",
    "\n",
    "3) Игры с каким возрастным рейтингом пользуются популярностью в регионе"
   ]
  },
  {
   "cell_type": "code",
   "execution_count": 34,
   "metadata": {},
   "outputs": [],
   "source": [
    "color_dict = {'na_sales': 'blue', 'eu_sales': 'red', 'jp_sales': 'green'}\n",
    "title_dict = {'na_sales': 'Северная Америка', 'eu_sales': 'Европа', 'jp_sales': 'Япония'}\n",
    "def check_machine(characteristic, region, ax):\n",
    "    pivot = data.groupby(characteristic).agg({region: 'sum'}).sort_values(by=region, ascending=False)[:5]\n",
    "    plot = pivot.plot(kind='bar', ec='black', color = color_dict[region], \n",
    "                   fontsize=18, rot=20, ax=axes[ax], grid = True, title = title_dict[region])"
   ]
  },
  {
   "cell_type": "code",
   "execution_count": 35,
   "metadata": {},
   "outputs": [
    {
     "data": {
      "image/png": "[encoded data removed]",
      "text/plain": [
       "<Figure size 1800x432 with 3 Axes>"
      ]
     },
     "metadata": {
      "needs_background": "light"
     },
     "output_type": "display_data"
    }
   ],
   "source": [
    "fig, axes = plt.subplots(1, 3, figsize=(25,6))\n",
    "check_machine('platform', 'na_sales', 0)\n",
    "check_machine('platform', 'eu_sales', 1)\n",
    "check_machine('platform', 'jp_sales', 2)"
   ]
  },
  {
   "cell_type": "markdown",
   "metadata": {},
   "source": [
    "Теперь оценим жанры"
   ]
  },
  {
   "cell_type": "code",
   "execution_count": 36,
   "metadata": {},
   "outputs": [
    {
     "data": {
      "image/png": "[encoded data removed]",
      "text/plain": [
       "<Figure size 1800x432 with 3 Axes>"
      ]
     },
     "metadata": {
      "needs_background": "light"
     },
     "output_type": "display_data"
    }
   ],
   "source": [
    "fig, axes = plt.subplots(1, 3, figsize=(25,6))\n",
    "\n",
    "check_machine('genre', 'na_sales', 0)\n",
    "check_machine('genre', 'eu_sales', 1)\n",
    "check_machine('genre', 'jp_sales', 2)"
   ]
  },
  {
   "cell_type": "markdown",
   "metadata": {},
   "source": [
    "И оценим возрастные рейтинги игр:"
   ]
  },
  {
   "cell_type": "code",
   "execution_count": 37,
   "metadata": {},
   "outputs": [
    {
     "data": {
      "image/png": "[encoded data removed]",
      "text/plain": [
       "<Figure size 1800x432 with 3 Axes>"
      ]
     },
     "metadata": {
      "needs_background": "light"
     },
     "output_type": "display_data"
    }
   ],
   "source": [
    "fig, axes = plt.subplots(1, 3, figsize=(25,6))\n",
    "\n",
    "check_machine('rating', 'na_sales', 0)\n",
    "check_machine('rating', 'eu_sales', 1)\n",
    "check_machine('rating', 'jp_sales', 2)"
   ]
  },
  {
   "cell_type": "markdown",
   "metadata": {},
   "source": [
    "**Итак, составим типичные портреты покупателей в регионах:**\n",
    "\n",
    "**ЕВРОПА**: Игрок использует новейшую или устаревшую Sony Playstaytion. На ней он играет в экшены, шутеры и спортивные игры с рейтиеном \"Для взрослых\", реже - \"Для всех\".\n",
    "\n",
    "**СЕВЕРНАЯ АМЕРИКА**: Игрок использует новейшую приставку от Sony или Microsoft для игры в экшены, шутеры и спортивные игры. В его библиотеке больше игр с рейтингов \"Для взрослых\".\n",
    "\n",
    "**ЯПОНИЯ**: Игрок предпочитает отечественную Nintendo 3DS для игры в ролевые игры. Чаще всего это игры от японцев и для японцев, а потому не оценены ESRB."
   ]
  },
  {
   "cell_type": "markdown",
   "metadata": {},
   "source": [
    "# Проверим некоторые гипотезы"
   ]
  },
  {
   "cell_type": "markdown",
   "metadata": {},
   "source": [
    "**Гипотеза №1**: Средние пользовательские рейтинги платформ Xbox One и PC одинаковые\n",
    "\n",
    "H0: Средний пользовательский рейтинг XBox One = средний пользовательский рейтинг PC\n",
    "\n",
    "H1: Средний пользовательский рейтинг XBox One != средний пользовательский рейтинг PC\n",
    "\n",
    "alpha приму за **0.05** для этой и последующих гипотез. "
   ]
  },
  {
   "cell_type": "code",
   "execution_count": 38,
   "metadata": {},
   "outputs": [],
   "source": [
    "alpha = 0.05"
   ]
  },
  {
   "cell_type": "code",
   "execution_count": 39,
   "metadata": {},
   "outputs": [
    {
     "name": "stdout",
     "output_type": "stream",
     "text": [
      "p-значение: 0.14012658403611647\n",
      "Не получилось отвергнуть нулевую гипотезу\n"
     ]
    }
   ],
   "source": [
    "x1r = data[(data['platform'] == 'XOne') & (data['user_score'] > 0)]['user_score']\n",
    "pcr = data[(data['platform'] == 'PC') & (data['user_score'] > 0)]['user_score']\n",
    "\n",
    "results = st.ttest_ind(x1r, pcr)\n",
    "print('p-значение:', results.pvalue)\n",
    "if results.pvalue < alpha:\n",
    "    print('Отвергаем нулевую гипотезу')\n",
    "else:\n",
    "    print('Не получилось отвергнуть нулевую гипотезу') "
   ]
  },
  {
   "cell_type": "markdown",
   "metadata": {},
   "source": [
    " Статистически значимой разницы между средним пользователемским рейтингом Xbox One и PC нет"
   ]
  },
  {
   "cell_type": "markdown",
   "metadata": {},
   "source": [
    "**Гипотеза №2**: Средние пользовательские рейтинги жанров Action и Sports разные\n",
    "\n",
    "H0: Средний рейтинг игр жанра Action = средний рейтинг игр жанра Sports\n",
    "\n",
    "H1: Средний рейтинг игр жанра Action != средний рейтинг игр жанра Sports"
   ]
  },
  {
   "cell_type": "code",
   "execution_count": 40,
   "metadata": {},
   "outputs": [
    {
     "name": "stdout",
     "output_type": "stream",
     "text": [
      "p-значение: 1.0517832389140023e-27\n",
      "Отвергаем нулевую гипотезу\n"
     ]
    }
   ],
   "source": [
    "ar = data[(data['genre'] == 'Action') & (data['user_score'] > 0)]['user_score']\n",
    "sr = data[(data['genre'] == 'Sports') & (data['user_score'] > 0)]['user_score']\n",
    "\n",
    "results = st.ttest_ind(ar, sr)\n",
    "print('p-значение:', results.pvalue)\n",
    "if results.pvalue < alpha:\n",
    "    print('Отвергаем нулевую гипотезу')\n",
    "else:\n",
    "    print('Не получилось отвергнуть нулевую гипотезу') "
   ]
  },
  {
   "cell_type": "markdown",
   "metadata": {},
   "source": [
    "Получается, что средние пользовательские рейтинги игр в жанре Sports и Action не одинаковые. Выясним у кого и на сколько больше:"
   ]
  },
  {
   "cell_type": "code",
   "execution_count": 41,
   "metadata": {},
   "outputs": [
    {
     "name": "stdout",
     "output_type": "stream",
     "text": [
      "Разница между оценками в жанрах 1.6 в пользу Action по мнению игроков\n"
     ]
    }
   ],
   "source": [
    "if sr.mean() > ar.mean():\n",
    "    print('Разница между оценками в жанрах',round(abs(ar.mean() - sr.mean()), 2), 'в пользу Sports по мнению игроков')\n",
    "else:\n",
    "    print('Разница между оценками в жанрах',round(abs(ar.mean() - sr.mean()), 2), 'в пользу Action по мнению игроков')"
   ]
  },
  {
   "cell_type": "markdown",
   "metadata": {},
   "source": [
    "# Вывод"
   ]
  },
  {
   "cell_type": "markdown",
   "metadata": {},
   "source": [
    "По итогам данной работы была проведена предобработка данных, удалены некорректные данные, заполнены имеющиеся пропуски. Данные содержат всю необходимую информацию, чтобы оценить успешность игры и понять на что делать ставку при планировании рекламных кампаний в дальнейшем.\n",
    "\n",
    "Динамика на рынке компьютерныхигр свидетельствует о том, что отрасль очень медленно, но умирает. Интерес к играм падает, их выпускается все меньше и меньше. Рынок захватывается новыми платформами и привычным мастадонтам (Sony, Microsoft, Nintendo) на нем уже не так хорошо себя чувствуется. \n",
    "\n",
    "Мы выяснили, что в среднем одно поколение видеоигровых платформ \"живет\" около десятка лет. Затем его смещают платформы нового поколения от иных и собственного производителя. Поэтому не стоит делать большую ставку на игры на те платформы, которым уже 8-9  лет.\n",
    "\n",
    "Помимо всего прочего, мы доказали, что корреляция между оценками игроков и критиков и успешностью продаж игры существует. Корреляция с оценками критиков более сильная, а потому ставку в рекламных акциях стоит делать именно на те игры, которые пришлись по душе обозревателям (особенно это касается консольного сегмента).\n",
    "\n",
    "Самые выгодные с точки зрения бизнеса - Экшен, Спортивные и Приключенческие игры. Небольшое их количество компенсируется великим интересом со стороны потребителей. Наименее интересные нам, как бизнесу, жанры - это пазлы и платформеры.\n",
    "\n",
    "Также мы составили портреты типичных потребителей в разных регионах и оценили их интересы: \n",
    "- При расширении бизнеса на запрадном рынке стоит отдавать предпочтение играм для всех возрастов в популярных жанрах: спортивные, приключенческие, экшены. Западные игроки предпочитают играть на популярнейших видеоигровых приставках (Playstaytion и XBox)\n",
    "- При расширении бизнеса на запрадном рынке стоит отдавать предпочтение играм в жанре RPG, которые выходят на японских платформах (Nintendo, Sega). Было отмечено, что японцы не склонны покупать игры, доступные для всех возрастов\n",
    "\n",
    "Были проверены гипотезы. По итогам проверки можно сформулировать следующие тезисы:\n",
    "- Средний пользовательский рейтинг XBox One равен среднему пользовательскому рейтингу PC.\n",
    "- Средние пользовательские рейтинги игр в жанре Sports и Action не одинаковые. Action-игры набирают в среднем на 1.6 балла больше."
   ]
  }
 ],
 "metadata": {
  "ExecuteTimeLog": [
   {
    "duration": 53,
    "start_time": "2023-08-30T05:12:54.578Z"
   },
   {
    "duration": 1443,
    "start_time": "2023-08-30T05:12:59.661Z"
   },
   {
    "duration": 103,
    "start_time": "2023-08-30T05:13:01.107Z"
   },
   {
    "duration": 33,
    "start_time": "2023-08-30T05:13:11.657Z"
   },
   {
    "duration": 3,
    "start_time": "2023-08-30T05:13:49.964Z"
   },
   {
    "duration": 72,
    "start_time": "2023-08-30T05:13:50.460Z"
   },
   {
    "duration": 17,
    "start_time": "2023-08-30T05:19:13.031Z"
   },
   {
    "duration": 1250,
    "start_time": "2023-08-30T05:19:56.772Z"
   },
   {
    "duration": 89,
    "start_time": "2023-08-30T05:19:58.024Z"
   },
   {
    "duration": 79,
    "start_time": "2023-08-30T05:20:19.292Z"
   },
   {
    "duration": 144,
    "start_time": "2023-08-30T05:21:35.134Z"
   },
   {
    "duration": 79,
    "start_time": "2023-08-30T05:21:40.619Z"
   },
   {
    "duration": 1383,
    "start_time": "2023-08-30T05:26:24.337Z"
   },
   {
    "duration": 108,
    "start_time": "2023-08-30T05:26:25.722Z"
   },
   {
    "duration": 115,
    "start_time": "2023-08-30T05:29:10.834Z"
   },
   {
    "duration": 285,
    "start_time": "2023-08-30T05:29:27.914Z"
   },
   {
    "duration": 1257,
    "start_time": "2023-08-30T05:29:57.923Z"
   },
   {
    "duration": 83,
    "start_time": "2023-08-30T05:29:59.182Z"
   },
   {
    "duration": 374,
    "start_time": "2023-08-30T05:30:00.664Z"
   },
   {
    "duration": 110,
    "start_time": "2023-08-30T05:31:26.907Z"
   },
   {
    "duration": 4,
    "start_time": "2023-08-30T05:31:30.756Z"
   },
   {
    "duration": 453,
    "start_time": "2023-08-30T05:31:45.007Z"
   },
   {
    "duration": 5,
    "start_time": "2023-08-30T05:32:39.778Z"
   },
   {
    "duration": 4,
    "start_time": "2023-08-30T05:32:59.671Z"
   },
   {
    "duration": 5,
    "start_time": "2023-08-30T05:33:14.006Z"
   },
   {
    "duration": 5,
    "start_time": "2023-08-30T05:33:21.724Z"
   },
   {
    "duration": 5,
    "start_time": "2023-08-30T05:33:29.167Z"
   },
   {
    "duration": 11,
    "start_time": "2023-08-30T05:35:23.989Z"
   },
   {
    "duration": 12,
    "start_time": "2023-08-30T05:35:32.527Z"
   },
   {
    "duration": 1265,
    "start_time": "2023-08-30T05:35:38.015Z"
   },
   {
    "duration": 92,
    "start_time": "2023-08-30T05:35:39.282Z"
   },
   {
    "duration": 127,
    "start_time": "2023-08-30T05:35:39.376Z"
   },
   {
    "duration": 10,
    "start_time": "2023-08-30T05:36:02.886Z"
   },
   {
    "duration": 94,
    "start_time": "2023-08-30T05:36:53.882Z"
   },
   {
    "duration": 93,
    "start_time": "2023-08-30T05:37:06.229Z"
   },
   {
    "duration": 5,
    "start_time": "2023-08-30T05:37:39.211Z"
   },
   {
    "duration": 16,
    "start_time": "2023-08-30T05:38:01.926Z"
   },
   {
    "duration": 1334,
    "start_time": "2023-08-30T05:40:25.443Z"
   },
   {
    "duration": 112,
    "start_time": "2023-08-30T05:40:26.780Z"
   },
   {
    "duration": 23,
    "start_time": "2023-08-30T05:40:26.895Z"
   },
   {
    "duration": 8,
    "start_time": "2023-08-30T05:40:45.583Z"
   },
   {
    "duration": 30,
    "start_time": "2023-08-30T05:41:45.803Z"
   },
   {
    "duration": 1350,
    "start_time": "2023-08-30T05:41:51.622Z"
   },
   {
    "duration": 99,
    "start_time": "2023-08-30T05:41:52.974Z"
   },
   {
    "duration": 24,
    "start_time": "2023-08-30T05:41:53.075Z"
   },
   {
    "duration": 23,
    "start_time": "2023-08-30T05:41:58.665Z"
   },
   {
    "duration": 156,
    "start_time": "2023-08-30T05:43:30.069Z"
   },
   {
    "duration": 20,
    "start_time": "2023-08-30T05:43:37.415Z"
   },
   {
    "duration": 38,
    "start_time": "2023-08-30T05:44:24.824Z"
   },
   {
    "duration": 22,
    "start_time": "2023-08-30T05:45:10.264Z"
   },
   {
    "duration": 1335,
    "start_time": "2023-08-30T05:45:38.624Z"
   },
   {
    "duration": 25,
    "start_time": "2023-08-30T05:45:49.743Z"
   },
   {
    "duration": 1304,
    "start_time": "2023-08-30T05:45:54.731Z"
   },
   {
    "duration": 120,
    "start_time": "2023-08-30T05:45:56.038Z"
   },
   {
    "duration": 33,
    "start_time": "2023-08-30T05:45:56.160Z"
   },
   {
    "duration": 59,
    "start_time": "2023-08-30T05:45:56.195Z"
   },
   {
    "duration": 139,
    "start_time": "2023-08-30T05:46:26.603Z"
   },
   {
    "duration": 20,
    "start_time": "2023-08-30T05:47:12.435Z"
   },
   {
    "duration": 20,
    "start_time": "2023-08-30T05:47:21.335Z"
   },
   {
    "duration": 11,
    "start_time": "2023-08-30T05:47:29.244Z"
   },
   {
    "duration": 19,
    "start_time": "2023-08-30T05:47:40.271Z"
   },
   {
    "duration": 758,
    "start_time": "2023-08-30T05:51:03.158Z"
   },
   {
    "duration": 8,
    "start_time": "2023-08-30T05:51:19.531Z"
   },
   {
    "duration": 26,
    "start_time": "2023-08-30T05:51:23.837Z"
   },
   {
    "duration": 19,
    "start_time": "2023-08-30T05:51:38.800Z"
   },
   {
    "duration": 22,
    "start_time": "2023-08-30T05:51:57.168Z"
   },
   {
    "duration": 23,
    "start_time": "2023-08-30T05:52:39.982Z"
   },
   {
    "duration": 8,
    "start_time": "2023-08-30T05:54:35.922Z"
   },
   {
    "duration": 10,
    "start_time": "2023-08-30T05:54:54.888Z"
   },
   {
    "duration": 12,
    "start_time": "2023-08-30T06:18:02.213Z"
   },
   {
    "duration": 6,
    "start_time": "2023-08-30T07:10:53.919Z"
   },
   {
    "duration": 1393,
    "start_time": "2023-09-02T13:06:54.801Z"
   },
   {
    "duration": 135,
    "start_time": "2023-09-02T13:06:56.197Z"
   },
   {
    "duration": 22,
    "start_time": "2023-09-02T13:06:56.334Z"
   },
   {
    "duration": 15,
    "start_time": "2023-09-02T13:06:56.358Z"
   },
   {
    "duration": 7,
    "start_time": "2023-09-02T13:06:56.375Z"
   },
   {
    "duration": 33,
    "start_time": "2023-09-02T13:06:56.385Z"
   },
   {
    "duration": 6,
    "start_time": "2023-09-02T13:07:07.730Z"
   },
   {
    "duration": 29,
    "start_time": "2023-09-02T13:07:33.501Z"
   },
   {
    "duration": 8,
    "start_time": "2023-09-02T13:07:52.346Z"
   },
   {
    "duration": 1232,
    "start_time": "2023-09-02T13:08:03.413Z"
   },
   {
    "duration": 87,
    "start_time": "2023-09-02T13:08:04.647Z"
   },
   {
    "duration": 24,
    "start_time": "2023-09-02T13:08:04.736Z"
   },
   {
    "duration": 28,
    "start_time": "2023-09-02T13:08:04.762Z"
   },
   {
    "duration": 13,
    "start_time": "2023-09-02T13:08:04.792Z"
   },
   {
    "duration": 52,
    "start_time": "2023-09-02T13:08:04.807Z"
   },
   {
    "duration": 15,
    "start_time": "2023-09-02T13:08:44.293Z"
   },
   {
    "duration": 1180,
    "start_time": "2023-09-02T13:10:08.872Z"
   },
   {
    "duration": 84,
    "start_time": "2023-09-02T13:10:10.054Z"
   },
   {
    "duration": 22,
    "start_time": "2023-09-02T13:10:10.140Z"
   },
   {
    "duration": 35,
    "start_time": "2023-09-02T13:10:10.164Z"
   },
   {
    "duration": 12,
    "start_time": "2023-09-02T13:10:10.201Z"
   },
   {
    "duration": 27,
    "start_time": "2023-09-02T13:10:10.214Z"
   },
   {
    "duration": 13,
    "start_time": "2023-09-02T13:10:16.347Z"
   },
   {
    "duration": 1192,
    "start_time": "2023-09-02T13:10:58.347Z"
   },
   {
    "duration": 83,
    "start_time": "2023-09-02T13:10:59.541Z"
   },
   {
    "duration": 22,
    "start_time": "2023-09-02T13:10:59.626Z"
   },
   {
    "duration": 9,
    "start_time": "2023-09-02T13:10:59.650Z"
   },
   {
    "duration": 33,
    "start_time": "2023-09-02T13:10:59.661Z"
   },
   {
    "duration": 4,
    "start_time": "2023-09-02T13:10:59.697Z"
   },
   {
    "duration": 18,
    "start_time": "2023-09-02T13:10:59.703Z"
   },
   {
    "duration": 1280,
    "start_time": "2023-09-02T13:12:04.669Z"
   },
   {
    "duration": 89,
    "start_time": "2023-09-02T13:12:05.951Z"
   },
   {
    "duration": 20,
    "start_time": "2023-09-02T13:12:06.042Z"
   },
   {
    "duration": 11,
    "start_time": "2023-09-02T13:12:06.082Z"
   },
   {
    "duration": 6,
    "start_time": "2023-09-02T13:12:06.096Z"
   },
   {
    "duration": 8,
    "start_time": "2023-09-02T13:12:06.104Z"
   },
   {
    "duration": 21,
    "start_time": "2023-09-02T13:12:06.113Z"
   },
   {
    "duration": 1211,
    "start_time": "2023-09-02T13:12:46.232Z"
   },
   {
    "duration": 83,
    "start_time": "2023-09-02T13:12:47.445Z"
   },
   {
    "duration": 22,
    "start_time": "2023-09-02T13:12:47.529Z"
   },
   {
    "duration": 8,
    "start_time": "2023-09-02T13:12:47.552Z"
   },
   {
    "duration": 7,
    "start_time": "2023-09-02T13:12:47.562Z"
   },
   {
    "duration": 15,
    "start_time": "2023-09-02T13:12:47.582Z"
   },
   {
    "duration": 14,
    "start_time": "2023-09-02T13:12:47.598Z"
   },
   {
    "duration": 10,
    "start_time": "2023-09-02T13:18:37.065Z"
   },
   {
    "duration": 6,
    "start_time": "2023-09-02T13:37:17.736Z"
   },
   {
    "duration": 15,
    "start_time": "2023-09-02T13:37:40.094Z"
   },
   {
    "duration": 126,
    "start_time": "2023-09-02T13:41:28.632Z"
   },
   {
    "duration": 22,
    "start_time": "2023-09-02T13:41:57.076Z"
   },
   {
    "duration": 19,
    "start_time": "2023-09-02T13:42:08.490Z"
   },
   {
    "duration": 17,
    "start_time": "2023-09-02T13:49:38.864Z"
   },
   {
    "duration": 1261,
    "start_time": "2023-09-02T13:51:34.180Z"
   },
   {
    "duration": 85,
    "start_time": "2023-09-02T13:51:35.443Z"
   },
   {
    "duration": 23,
    "start_time": "2023-09-02T13:51:35.530Z"
   },
   {
    "duration": 21,
    "start_time": "2023-09-02T13:51:35.555Z"
   },
   {
    "duration": 45,
    "start_time": "2023-09-02T13:51:35.577Z"
   },
   {
    "duration": 39,
    "start_time": "2023-09-02T13:51:35.624Z"
   },
   {
    "duration": 141,
    "start_time": "2023-09-02T13:51:35.665Z"
   },
   {
    "duration": 61,
    "start_time": "2023-09-02T13:51:35.808Z"
   },
   {
    "duration": 141,
    "start_time": "2023-09-02T13:51:35.871Z"
   },
   {
    "duration": 18,
    "start_time": "2023-09-02T13:51:36.015Z"
   },
   {
    "duration": 13,
    "start_time": "2023-09-02T13:51:46.664Z"
   },
   {
    "duration": 1325,
    "start_time": "2023-09-02T13:58:16.036Z"
   },
   {
    "duration": 87,
    "start_time": "2023-09-02T13:58:17.363Z"
   },
   {
    "duration": 36,
    "start_time": "2023-09-02T13:58:17.452Z"
   },
   {
    "duration": 20,
    "start_time": "2023-09-02T13:58:17.490Z"
   },
   {
    "duration": 27,
    "start_time": "2023-09-02T13:58:17.513Z"
   },
   {
    "duration": 13,
    "start_time": "2023-09-02T13:58:17.543Z"
   },
   {
    "duration": 38,
    "start_time": "2023-09-02T13:58:17.558Z"
   },
   {
    "duration": 24,
    "start_time": "2023-09-02T13:58:17.597Z"
   },
   {
    "duration": 42,
    "start_time": "2023-09-02T13:58:17.623Z"
   },
   {
    "duration": 51,
    "start_time": "2023-09-02T13:58:17.668Z"
   },
   {
    "duration": 49,
    "start_time": "2023-09-02T13:58:17.725Z"
   },
   {
    "duration": 104,
    "start_time": "2023-09-02T14:01:37.815Z"
   },
   {
    "duration": 11,
    "start_time": "2023-09-02T14:02:35.769Z"
   },
   {
    "duration": 1236,
    "start_time": "2023-09-02T14:02:46.910Z"
   },
   {
    "duration": 86,
    "start_time": "2023-09-02T14:02:48.148Z"
   },
   {
    "duration": 25,
    "start_time": "2023-09-02T14:02:48.236Z"
   },
   {
    "duration": 23,
    "start_time": "2023-09-02T14:02:48.263Z"
   },
   {
    "duration": 7,
    "start_time": "2023-09-02T14:02:48.288Z"
   },
   {
    "duration": 8,
    "start_time": "2023-09-02T14:02:48.297Z"
   },
   {
    "duration": 17,
    "start_time": "2023-09-02T14:02:48.307Z"
   },
   {
    "duration": 10,
    "start_time": "2023-09-02T14:02:48.326Z"
   },
   {
    "duration": 137,
    "start_time": "2023-09-02T14:02:48.338Z"
   },
   {
    "duration": 0,
    "start_time": "2023-09-02T14:02:48.481Z"
   },
   {
    "duration": 8,
    "start_time": "2023-09-02T14:02:53.194Z"
   },
   {
    "duration": 11,
    "start_time": "2023-09-02T14:03:10.790Z"
   },
   {
    "duration": 11,
    "start_time": "2023-09-02T14:03:18.184Z"
   },
   {
    "duration": 7,
    "start_time": "2023-09-02T14:08:09.964Z"
   },
   {
    "duration": 1211,
    "start_time": "2023-09-02T14:08:59.501Z"
   },
   {
    "duration": 90,
    "start_time": "2023-09-02T14:09:00.713Z"
   },
   {
    "duration": 24,
    "start_time": "2023-09-02T14:09:00.805Z"
   },
   {
    "duration": 46,
    "start_time": "2023-09-02T14:09:00.832Z"
   },
   {
    "duration": 35,
    "start_time": "2023-09-02T14:09:00.880Z"
   },
   {
    "duration": 34,
    "start_time": "2023-09-02T14:09:00.917Z"
   },
   {
    "duration": 35,
    "start_time": "2023-09-02T14:09:00.953Z"
   },
   {
    "duration": 29,
    "start_time": "2023-09-02T14:09:00.990Z"
   },
   {
    "duration": 26,
    "start_time": "2023-09-02T14:09:01.021Z"
   },
   {
    "duration": 40,
    "start_time": "2023-09-02T14:09:01.050Z"
   },
   {
    "duration": 43,
    "start_time": "2023-09-02T14:09:01.092Z"
   },
   {
    "duration": 8,
    "start_time": "2023-09-02T14:10:39.921Z"
   },
   {
    "duration": 9,
    "start_time": "2023-09-02T14:10:57.721Z"
   },
   {
    "duration": 6,
    "start_time": "2023-09-02T14:11:12.662Z"
   },
   {
    "duration": 7,
    "start_time": "2023-09-02T14:11:29.625Z"
   },
   {
    "duration": 6,
    "start_time": "2023-09-02T14:11:47.586Z"
   },
   {
    "duration": 22,
    "start_time": "2023-09-02T14:19:06.092Z"
   },
   {
    "duration": 1268,
    "start_time": "2023-09-02T14:20:07.683Z"
   },
   {
    "duration": 85,
    "start_time": "2023-09-02T14:20:08.953Z"
   },
   {
    "duration": 25,
    "start_time": "2023-09-02T14:20:09.040Z"
   },
   {
    "duration": 17,
    "start_time": "2023-09-02T14:20:09.066Z"
   },
   {
    "duration": 15,
    "start_time": "2023-09-02T14:20:09.086Z"
   },
   {
    "duration": 14,
    "start_time": "2023-09-02T14:20:09.103Z"
   },
   {
    "duration": 16,
    "start_time": "2023-09-02T14:20:09.119Z"
   },
   {
    "duration": 9,
    "start_time": "2023-09-02T14:20:09.137Z"
   },
   {
    "duration": 19,
    "start_time": "2023-09-02T14:20:09.148Z"
   },
   {
    "duration": 19,
    "start_time": "2023-09-02T14:20:09.169Z"
   },
   {
    "duration": 13,
    "start_time": "2023-09-02T14:20:09.191Z"
   },
   {
    "duration": 22,
    "start_time": "2023-09-02T14:20:09.206Z"
   },
   {
    "duration": 112,
    "start_time": "2023-09-02T14:20:31.372Z"
   },
   {
    "duration": 1228,
    "start_time": "2023-09-02T14:21:41.886Z"
   },
   {
    "duration": 85,
    "start_time": "2023-09-02T14:21:43.116Z"
   },
   {
    "duration": 26,
    "start_time": "2023-09-02T14:21:43.202Z"
   },
   {
    "duration": 41,
    "start_time": "2023-09-02T14:21:43.229Z"
   },
   {
    "duration": 69,
    "start_time": "2023-09-02T14:21:43.273Z"
   },
   {
    "duration": 47,
    "start_time": "2023-09-02T14:21:43.344Z"
   },
   {
    "duration": 56,
    "start_time": "2023-09-02T14:21:43.393Z"
   },
   {
    "duration": 70,
    "start_time": "2023-09-02T14:21:43.451Z"
   },
   {
    "duration": 16,
    "start_time": "2023-09-02T14:21:43.523Z"
   },
   {
    "duration": 11,
    "start_time": "2023-09-02T14:21:43.540Z"
   },
   {
    "duration": 16,
    "start_time": "2023-09-02T14:21:43.553Z"
   },
   {
    "duration": 34,
    "start_time": "2023-09-02T14:21:43.571Z"
   },
   {
    "duration": 1259,
    "start_time": "2023-09-02T14:22:06.694Z"
   },
   {
    "duration": 83,
    "start_time": "2023-09-02T14:22:07.955Z"
   },
   {
    "duration": 22,
    "start_time": "2023-09-02T14:22:08.040Z"
   },
   {
    "duration": 17,
    "start_time": "2023-09-02T14:22:08.064Z"
   },
   {
    "duration": 5,
    "start_time": "2023-09-02T14:22:08.084Z"
   },
   {
    "duration": 8,
    "start_time": "2023-09-02T14:22:08.090Z"
   },
   {
    "duration": 13,
    "start_time": "2023-09-02T14:22:08.100Z"
   },
   {
    "duration": 10,
    "start_time": "2023-09-02T14:22:08.114Z"
   },
   {
    "duration": 6,
    "start_time": "2023-09-02T14:22:08.126Z"
   },
   {
    "duration": 11,
    "start_time": "2023-09-02T14:22:08.133Z"
   },
   {
    "duration": 6,
    "start_time": "2023-09-02T14:22:08.182Z"
   },
   {
    "duration": 15,
    "start_time": "2023-09-02T14:22:08.190Z"
   },
   {
    "duration": 1203,
    "start_time": "2023-09-02T14:22:57.448Z"
   },
   {
    "duration": 82,
    "start_time": "2023-09-02T14:22:58.653Z"
   },
   {
    "duration": 34,
    "start_time": "2023-09-02T14:22:58.736Z"
   },
   {
    "duration": 29,
    "start_time": "2023-09-02T14:22:58.772Z"
   },
   {
    "duration": 7,
    "start_time": "2023-09-02T14:22:58.805Z"
   },
   {
    "duration": 16,
    "start_time": "2023-09-02T14:22:58.814Z"
   },
   {
    "duration": 15,
    "start_time": "2023-09-02T14:22:58.832Z"
   },
   {
    "duration": 10,
    "start_time": "2023-09-02T14:22:58.849Z"
   },
   {
    "duration": 20,
    "start_time": "2023-09-02T14:22:58.861Z"
   },
   {
    "duration": 11,
    "start_time": "2023-09-02T14:22:58.882Z"
   },
   {
    "duration": 7,
    "start_time": "2023-09-02T14:22:58.894Z"
   },
   {
    "duration": 29,
    "start_time": "2023-09-02T14:22:58.902Z"
   },
   {
    "duration": 1254,
    "start_time": "2023-09-02T14:23:17.313Z"
   },
   {
    "duration": 86,
    "start_time": "2023-09-02T14:23:18.570Z"
   },
   {
    "duration": 24,
    "start_time": "2023-09-02T14:23:18.658Z"
   },
   {
    "duration": 9,
    "start_time": "2023-09-02T14:23:18.685Z"
   },
   {
    "duration": 9,
    "start_time": "2023-09-02T14:23:18.696Z"
   },
   {
    "duration": 9,
    "start_time": "2023-09-02T14:23:18.707Z"
   },
   {
    "duration": 19,
    "start_time": "2023-09-02T14:23:18.717Z"
   },
   {
    "duration": 12,
    "start_time": "2023-09-02T14:23:18.737Z"
   },
   {
    "duration": 36,
    "start_time": "2023-09-02T14:23:18.751Z"
   },
   {
    "duration": 15,
    "start_time": "2023-09-02T14:23:18.791Z"
   },
   {
    "duration": 7,
    "start_time": "2023-09-02T14:23:18.809Z"
   },
   {
    "duration": 22,
    "start_time": "2023-09-02T14:23:18.819Z"
   },
   {
    "duration": 5,
    "start_time": "2023-09-02T14:23:38.743Z"
   },
   {
    "duration": 30,
    "start_time": "2023-09-02T14:24:29.797Z"
   },
   {
    "duration": 1242,
    "start_time": "2023-09-02T14:24:35.257Z"
   },
   {
    "duration": 88,
    "start_time": "2023-09-02T14:24:36.501Z"
   },
   {
    "duration": 24,
    "start_time": "2023-09-02T14:24:36.591Z"
   },
   {
    "duration": 8,
    "start_time": "2023-09-02T14:24:36.618Z"
   },
   {
    "duration": 5,
    "start_time": "2023-09-02T14:24:36.628Z"
   },
   {
    "duration": 8,
    "start_time": "2023-09-02T14:24:36.634Z"
   },
   {
    "duration": 44,
    "start_time": "2023-09-02T14:24:36.643Z"
   },
   {
    "duration": 13,
    "start_time": "2023-09-02T14:24:36.688Z"
   },
   {
    "duration": 8,
    "start_time": "2023-09-02T14:24:36.704Z"
   },
   {
    "duration": 15,
    "start_time": "2023-09-02T14:24:36.715Z"
   },
   {
    "duration": 8,
    "start_time": "2023-09-02T14:24:36.732Z"
   },
   {
    "duration": 60,
    "start_time": "2023-09-02T14:24:36.741Z"
   },
   {
    "duration": 43,
    "start_time": "2023-09-02T14:24:36.803Z"
   },
   {
    "duration": 1181,
    "start_time": "2023-09-02T14:28:58.897Z"
   },
   {
    "duration": 81,
    "start_time": "2023-09-02T14:29:00.080Z"
   },
   {
    "duration": 22,
    "start_time": "2023-09-02T14:29:00.162Z"
   },
   {
    "duration": 21,
    "start_time": "2023-09-02T14:29:00.186Z"
   },
   {
    "duration": 18,
    "start_time": "2023-09-02T14:29:00.209Z"
   },
   {
    "duration": 37,
    "start_time": "2023-09-02T14:29:00.229Z"
   },
   {
    "duration": 48,
    "start_time": "2023-09-02T14:29:00.268Z"
   },
   {
    "duration": 19,
    "start_time": "2023-09-02T14:29:00.318Z"
   },
   {
    "duration": 26,
    "start_time": "2023-09-02T14:29:00.340Z"
   },
   {
    "duration": 29,
    "start_time": "2023-09-02T14:29:00.369Z"
   },
   {
    "duration": 15,
    "start_time": "2023-09-02T14:29:00.400Z"
   },
   {
    "duration": 50,
    "start_time": "2023-09-02T14:29:00.417Z"
   },
   {
    "duration": 50,
    "start_time": "2023-09-02T14:29:00.469Z"
   },
   {
    "duration": 495,
    "start_time": "2023-09-02T14:33:28.070Z"
   },
   {
    "duration": 1350,
    "start_time": "2023-09-02T14:33:44.321Z"
   },
   {
    "duration": 104,
    "start_time": "2023-09-02T14:34:14.368Z"
   },
   {
    "duration": 9,
    "start_time": "2023-09-02T14:34:24.722Z"
   },
   {
    "duration": 9,
    "start_time": "2023-09-02T14:34:35.017Z"
   },
   {
    "duration": 18,
    "start_time": "2023-09-02T14:34:50.217Z"
   },
   {
    "duration": 20,
    "start_time": "2023-09-02T14:35:30.946Z"
   },
   {
    "duration": 214,
    "start_time": "2023-09-02T14:37:04.075Z"
   },
   {
    "duration": 208,
    "start_time": "2023-09-02T14:37:18.711Z"
   },
   {
    "duration": 10,
    "start_time": "2023-09-02T14:38:17.426Z"
   },
   {
    "duration": 29,
    "start_time": "2023-09-02T14:38:28.181Z"
   },
   {
    "duration": 77,
    "start_time": "2023-09-02T14:38:52.502Z"
   },
   {
    "duration": 13,
    "start_time": "2023-09-02T14:39:08.680Z"
   },
   {
    "duration": 27,
    "start_time": "2023-09-02T14:39:15.066Z"
   },
   {
    "duration": 1478,
    "start_time": "2023-09-02T14:39:47.440Z"
   },
   {
    "duration": 13,
    "start_time": "2023-09-02T14:40:06.497Z"
   },
   {
    "duration": 24,
    "start_time": "2023-09-02T14:40:13.937Z"
   },
   {
    "duration": 14,
    "start_time": "2023-09-02T14:40:49.707Z"
   },
   {
    "duration": 322,
    "start_time": "2023-09-02T14:41:03.412Z"
   },
   {
    "duration": 165,
    "start_time": "2023-09-02T14:41:10.927Z"
   },
   {
    "duration": 153,
    "start_time": "2023-09-02T14:41:16.892Z"
   },
   {
    "duration": 130,
    "start_time": "2023-09-02T14:41:47.643Z"
   },
   {
    "duration": 230,
    "start_time": "2023-09-02T14:41:52.522Z"
   },
   {
    "duration": 132,
    "start_time": "2023-09-02T14:42:09.199Z"
   },
   {
    "duration": 211,
    "start_time": "2023-09-02T14:42:18.227Z"
   },
   {
    "duration": 162,
    "start_time": "2023-09-02T14:42:36.134Z"
   },
   {
    "duration": 1501,
    "start_time": "2023-09-02T14:56:13.147Z"
   },
   {
    "duration": 25,
    "start_time": "2023-09-02T14:57:30.644Z"
   },
   {
    "duration": 17,
    "start_time": "2023-09-02T14:57:38.888Z"
   },
   {
    "duration": 311,
    "start_time": "2023-09-02T14:57:49.744Z"
   },
   {
    "duration": 1264,
    "start_time": "2023-09-02T15:00:11.513Z"
   },
   {
    "duration": 87,
    "start_time": "2023-09-02T15:00:12.779Z"
   },
   {
    "duration": 23,
    "start_time": "2023-09-02T15:00:12.868Z"
   },
   {
    "duration": 23,
    "start_time": "2023-09-02T15:00:12.893Z"
   },
   {
    "duration": 31,
    "start_time": "2023-09-02T15:00:12.917Z"
   },
   {
    "duration": 36,
    "start_time": "2023-09-02T15:00:12.950Z"
   },
   {
    "duration": 46,
    "start_time": "2023-09-02T15:00:12.987Z"
   },
   {
    "duration": 23,
    "start_time": "2023-09-02T15:00:13.034Z"
   },
   {
    "duration": 23,
    "start_time": "2023-09-02T15:00:13.058Z"
   },
   {
    "duration": 21,
    "start_time": "2023-09-02T15:00:13.085Z"
   },
   {
    "duration": 20,
    "start_time": "2023-09-02T15:00:13.108Z"
   },
   {
    "duration": 46,
    "start_time": "2023-09-02T15:00:13.130Z"
   },
   {
    "duration": 12,
    "start_time": "2023-09-02T15:00:13.178Z"
   },
   {
    "duration": 207,
    "start_time": "2023-09-02T15:00:13.192Z"
   },
   {
    "duration": 16,
    "start_time": "2023-09-02T15:00:13.401Z"
   },
   {
    "duration": 106,
    "start_time": "2023-09-02T15:01:57.923Z"
   },
   {
    "duration": 9,
    "start_time": "2023-09-02T15:02:03.048Z"
   },
   {
    "duration": 15,
    "start_time": "2023-09-02T15:02:07.969Z"
   },
   {
    "duration": 14,
    "start_time": "2023-09-02T15:02:52.553Z"
   },
   {
    "duration": 17,
    "start_time": "2023-09-02T15:03:00.369Z"
   },
   {
    "duration": 16,
    "start_time": "2023-09-02T15:03:07.673Z"
   },
   {
    "duration": 16,
    "start_time": "2023-09-02T15:03:30.881Z"
   },
   {
    "duration": 298,
    "start_time": "2023-09-02T15:03:35.226Z"
   },
   {
    "duration": 285,
    "start_time": "2023-09-02T15:03:41.972Z"
   },
   {
    "duration": 276,
    "start_time": "2023-09-02T15:03:45.714Z"
   },
   {
    "duration": 1202,
    "start_time": "2023-09-02T15:06:04.178Z"
   },
   {
    "duration": 84,
    "start_time": "2023-09-02T15:06:05.382Z"
   },
   {
    "duration": 24,
    "start_time": "2023-09-02T15:06:05.467Z"
   },
   {
    "duration": 19,
    "start_time": "2023-09-02T15:06:05.493Z"
   },
   {
    "duration": 7,
    "start_time": "2023-09-02T15:06:05.513Z"
   },
   {
    "duration": 8,
    "start_time": "2023-09-02T15:06:05.521Z"
   },
   {
    "duration": 19,
    "start_time": "2023-09-02T15:06:05.530Z"
   },
   {
    "duration": 9,
    "start_time": "2023-09-02T15:06:05.551Z"
   },
   {
    "duration": 23,
    "start_time": "2023-09-02T15:06:05.561Z"
   },
   {
    "duration": 10,
    "start_time": "2023-09-02T15:06:05.587Z"
   },
   {
    "duration": 6,
    "start_time": "2023-09-02T15:06:05.599Z"
   },
   {
    "duration": 34,
    "start_time": "2023-09-02T15:06:05.607Z"
   },
   {
    "duration": 6,
    "start_time": "2023-09-02T15:06:05.643Z"
   },
   {
    "duration": 210,
    "start_time": "2023-09-02T15:06:05.651Z"
   },
   {
    "duration": 336,
    "start_time": "2023-09-02T15:06:05.863Z"
   },
   {
    "duration": 344,
    "start_time": "2023-09-02T15:08:32.193Z"
   },
   {
    "duration": 157,
    "start_time": "2023-09-02T15:08:43.049Z"
   },
   {
    "duration": 292,
    "start_time": "2023-09-02T15:08:57.888Z"
   },
   {
    "duration": 309,
    "start_time": "2023-09-02T15:10:32.088Z"
   },
   {
    "duration": 385,
    "start_time": "2023-09-02T15:11:30.101Z"
   },
   {
    "duration": 301,
    "start_time": "2023-09-02T15:11:54.434Z"
   },
   {
    "duration": 114,
    "start_time": "2023-09-02T15:12:55.418Z"
   },
   {
    "duration": 298,
    "start_time": "2023-09-02T15:13:08.990Z"
   },
   {
    "duration": 16,
    "start_time": "2023-09-02T15:13:19.885Z"
   },
   {
    "duration": 84,
    "start_time": "2023-09-02T15:13:40.574Z"
   },
   {
    "duration": 15,
    "start_time": "2023-09-02T15:13:44.634Z"
   },
   {
    "duration": 17,
    "start_time": "2023-09-02T15:13:59.790Z"
   },
   {
    "duration": 32,
    "start_time": "2023-09-02T15:14:12.054Z"
   },
   {
    "duration": 294,
    "start_time": "2023-09-02T15:14:23.484Z"
   },
   {
    "duration": 300,
    "start_time": "2023-09-02T15:14:42.588Z"
   },
   {
    "duration": 17,
    "start_time": "2023-09-02T15:16:21.865Z"
   },
   {
    "duration": 18,
    "start_time": "2023-09-02T15:16:52.577Z"
   },
   {
    "duration": 15,
    "start_time": "2023-09-02T15:16:59.674Z"
   },
   {
    "duration": 26,
    "start_time": "2023-09-02T15:17:16.626Z"
   },
   {
    "duration": 24,
    "start_time": "2023-09-02T15:18:17.430Z"
   },
   {
    "duration": 1235,
    "start_time": "2023-09-02T15:19:01.734Z"
   },
   {
    "duration": 85,
    "start_time": "2023-09-02T15:19:02.971Z"
   },
   {
    "duration": 23,
    "start_time": "2023-09-02T15:19:03.058Z"
   },
   {
    "duration": 27,
    "start_time": "2023-09-02T15:19:03.083Z"
   },
   {
    "duration": 10,
    "start_time": "2023-09-02T15:19:03.113Z"
   },
   {
    "duration": 22,
    "start_time": "2023-09-02T15:19:03.124Z"
   },
   {
    "duration": 22,
    "start_time": "2023-09-02T15:19:03.148Z"
   },
   {
    "duration": 10,
    "start_time": "2023-09-02T15:19:03.172Z"
   },
   {
    "duration": 19,
    "start_time": "2023-09-02T15:19:03.183Z"
   },
   {
    "duration": 13,
    "start_time": "2023-09-02T15:19:03.204Z"
   },
   {
    "duration": 8,
    "start_time": "2023-09-02T15:19:03.219Z"
   },
   {
    "duration": 33,
    "start_time": "2023-09-02T15:19:03.228Z"
   },
   {
    "duration": 5,
    "start_time": "2023-09-02T15:19:03.263Z"
   },
   {
    "duration": 181,
    "start_time": "2023-09-02T15:19:03.270Z"
   },
   {
    "duration": 38,
    "start_time": "2023-09-02T15:19:03.453Z"
   },
   {
    "duration": 326,
    "start_time": "2023-09-02T15:19:03.492Z"
   },
   {
    "duration": 26,
    "start_time": "2023-09-02T15:19:03.820Z"
   },
   {
    "duration": 24,
    "start_time": "2023-09-02T15:19:38.019Z"
   },
   {
    "duration": 55,
    "start_time": "2023-09-02T15:20:59.450Z"
   },
   {
    "duration": 653,
    "start_time": "2023-09-02T15:21:15.994Z"
   },
   {
    "duration": 1737,
    "start_time": "2023-09-02T15:21:27.426Z"
   },
   {
    "duration": 2570,
    "start_time": "2023-09-02T15:21:36.325Z"
   },
   {
    "duration": 1532,
    "start_time": "2023-09-02T15:21:54.475Z"
   },
   {
    "duration": 517,
    "start_time": "2023-09-02T15:22:00.420Z"
   },
   {
    "duration": 486,
    "start_time": "2023-09-02T15:22:09.675Z"
   },
   {
    "duration": 677,
    "start_time": "2023-09-02T15:22:26.770Z"
   },
   {
    "duration": 45,
    "start_time": "2023-09-02T15:22:36.679Z"
   },
   {
    "duration": 506,
    "start_time": "2023-09-02T15:22:42.281Z"
   },
   {
    "duration": 464,
    "start_time": "2023-09-02T15:22:56.034Z"
   },
   {
    "duration": 476,
    "start_time": "2023-09-02T15:23:18.072Z"
   },
   {
    "duration": 491,
    "start_time": "2023-09-02T15:23:45.419Z"
   },
   {
    "duration": 15,
    "start_time": "2023-09-02T15:24:00.710Z"
   },
   {
    "duration": 35,
    "start_time": "2023-09-02T15:24:05.979Z"
   },
   {
    "duration": 39,
    "start_time": "2023-09-02T15:24:30.950Z"
   },
   {
    "duration": 773,
    "start_time": "2023-09-02T15:24:46.875Z"
   },
   {
    "duration": 34,
    "start_time": "2023-09-02T15:25:07.900Z"
   },
   {
    "duration": 491,
    "start_time": "2023-09-02T15:25:19.330Z"
   },
   {
    "duration": 713,
    "start_time": "2023-09-02T15:25:34.259Z"
   },
   {
    "duration": 1157,
    "start_time": "2023-09-02T15:25:44.841Z"
   },
   {
    "duration": 61,
    "start_time": "2023-09-02T15:26:04.226Z"
   },
   {
    "duration": 1239,
    "start_time": "2023-09-02T15:26:07.249Z"
   },
   {
    "duration": 493,
    "start_time": "2023-09-02T15:26:31.790Z"
   },
   {
    "duration": 640,
    "start_time": "2023-09-02T15:26:36.974Z"
   },
   {
    "duration": 540,
    "start_time": "2023-09-02T15:26:46.272Z"
   },
   {
    "duration": 24,
    "start_time": "2023-09-02T15:27:33.596Z"
   },
   {
    "duration": 1256,
    "start_time": "2023-09-02T15:27:42.071Z"
   },
   {
    "duration": 92,
    "start_time": "2023-09-02T15:27:43.329Z"
   },
   {
    "duration": 25,
    "start_time": "2023-09-02T15:27:43.422Z"
   },
   {
    "duration": 21,
    "start_time": "2023-09-02T15:27:43.448Z"
   },
   {
    "duration": 18,
    "start_time": "2023-09-02T15:27:43.471Z"
   },
   {
    "duration": 23,
    "start_time": "2023-09-02T15:27:43.491Z"
   },
   {
    "duration": 31,
    "start_time": "2023-09-02T15:27:43.515Z"
   },
   {
    "duration": 10,
    "start_time": "2023-09-02T15:27:43.548Z"
   },
   {
    "duration": 36,
    "start_time": "2023-09-02T15:27:43.560Z"
   },
   {
    "duration": 23,
    "start_time": "2023-09-02T15:27:43.598Z"
   },
   {
    "duration": 16,
    "start_time": "2023-09-02T15:27:43.623Z"
   },
   {
    "duration": 38,
    "start_time": "2023-09-02T15:27:43.641Z"
   },
   {
    "duration": 6,
    "start_time": "2023-09-02T15:27:43.680Z"
   },
   {
    "duration": 185,
    "start_time": "2023-09-02T15:27:43.688Z"
   },
   {
    "duration": 25,
    "start_time": "2023-09-02T15:27:43.875Z"
   },
   {
    "duration": 305,
    "start_time": "2023-09-02T15:27:43.901Z"
   },
   {
    "duration": 15,
    "start_time": "2023-09-02T15:27:44.208Z"
   },
   {
    "duration": 604,
    "start_time": "2023-09-02T15:27:44.225Z"
   },
   {
    "duration": 573,
    "start_time": "2023-09-02T15:27:51.269Z"
   },
   {
    "duration": 572,
    "start_time": "2023-09-02T15:28:04.088Z"
   },
   {
    "duration": 651,
    "start_time": "2023-09-02T15:28:23.007Z"
   },
   {
    "duration": 1257,
    "start_time": "2023-09-02T15:29:42.689Z"
   },
   {
    "duration": 82,
    "start_time": "2023-09-02T15:29:43.949Z"
   },
   {
    "duration": 24,
    "start_time": "2023-09-02T15:29:44.032Z"
   },
   {
    "duration": 8,
    "start_time": "2023-09-02T15:29:44.058Z"
   },
   {
    "duration": 5,
    "start_time": "2023-09-02T15:29:44.081Z"
   },
   {
    "duration": 9,
    "start_time": "2023-09-02T15:29:44.088Z"
   },
   {
    "duration": 15,
    "start_time": "2023-09-02T15:29:44.098Z"
   },
   {
    "duration": 9,
    "start_time": "2023-09-02T15:29:44.114Z"
   },
   {
    "duration": 6,
    "start_time": "2023-09-02T15:29:44.125Z"
   },
   {
    "duration": 49,
    "start_time": "2023-09-02T15:29:44.133Z"
   },
   {
    "duration": 7,
    "start_time": "2023-09-02T15:29:44.184Z"
   },
   {
    "duration": 32,
    "start_time": "2023-09-02T15:29:44.193Z"
   },
   {
    "duration": 5,
    "start_time": "2023-09-02T15:29:44.227Z"
   },
   {
    "duration": 183,
    "start_time": "2023-09-02T15:29:44.233Z"
   },
   {
    "duration": 25,
    "start_time": "2023-09-02T15:29:44.418Z"
   },
   {
    "duration": 316,
    "start_time": "2023-09-02T15:29:44.445Z"
   },
   {
    "duration": 23,
    "start_time": "2023-09-02T15:29:44.763Z"
   },
   {
    "duration": 54,
    "start_time": "2023-09-02T15:29:44.788Z"
   },
   {
    "duration": 26,
    "start_time": "2023-09-02T15:29:44.843Z"
   },
   {
    "duration": 622,
    "start_time": "2023-09-02T15:29:44.871Z"
   },
   {
    "duration": 52,
    "start_time": "2023-09-02T15:30:26.640Z"
   },
   {
    "duration": 14,
    "start_time": "2023-09-02T15:31:07.925Z"
   },
   {
    "duration": 566,
    "start_time": "2023-09-02T15:31:09.804Z"
   },
   {
    "duration": 558,
    "start_time": "2023-09-02T15:32:08.809Z"
   },
   {
    "duration": 674,
    "start_time": "2023-09-02T15:32:14.175Z"
   },
   {
    "duration": 291,
    "start_time": "2023-09-02T15:32:51.171Z"
   },
   {
    "duration": 1169,
    "start_time": "2023-09-02T15:34:27.906Z"
   },
   {
    "duration": 85,
    "start_time": "2023-09-02T15:34:29.076Z"
   },
   {
    "duration": 28,
    "start_time": "2023-09-02T15:34:29.163Z"
   },
   {
    "duration": 8,
    "start_time": "2023-09-02T15:34:29.194Z"
   },
   {
    "duration": 7,
    "start_time": "2023-09-02T15:34:29.205Z"
   },
   {
    "duration": 8,
    "start_time": "2023-09-02T15:34:29.214Z"
   },
   {
    "duration": 14,
    "start_time": "2023-09-02T15:34:29.224Z"
   },
   {
    "duration": 44,
    "start_time": "2023-09-02T15:34:29.241Z"
   },
   {
    "duration": 6,
    "start_time": "2023-09-02T15:34:29.287Z"
   },
   {
    "duration": 10,
    "start_time": "2023-09-02T15:34:29.295Z"
   },
   {
    "duration": 5,
    "start_time": "2023-09-02T15:34:29.307Z"
   },
   {
    "duration": 16,
    "start_time": "2023-09-02T15:34:29.314Z"
   },
   {
    "duration": 5,
    "start_time": "2023-09-02T15:34:29.331Z"
   },
   {
    "duration": 204,
    "start_time": "2023-09-02T15:34:29.338Z"
   },
   {
    "duration": 24,
    "start_time": "2023-09-02T15:34:29.543Z"
   },
   {
    "duration": 302,
    "start_time": "2023-09-02T15:34:29.581Z"
   },
   {
    "duration": 15,
    "start_time": "2023-09-02T15:34:29.885Z"
   },
   {
    "duration": 615,
    "start_time": "2023-09-02T15:34:29.902Z"
   },
   {
    "duration": 8,
    "start_time": "2023-09-02T15:34:48.150Z"
   },
   {
    "duration": 8,
    "start_time": "2023-09-02T15:35:11.310Z"
   },
   {
    "duration": 4,
    "start_time": "2023-09-02T15:35:22.893Z"
   },
   {
    "duration": 111,
    "start_time": "2023-09-02T15:35:30.910Z"
   },
   {
    "duration": 5,
    "start_time": "2023-09-02T15:36:01.385Z"
   },
   {
    "duration": 1306,
    "start_time": "2023-09-02T15:36:35.204Z"
   },
   {
    "duration": 88,
    "start_time": "2023-09-02T15:36:36.512Z"
   },
   {
    "duration": 40,
    "start_time": "2023-09-02T15:36:36.602Z"
   },
   {
    "duration": 10,
    "start_time": "2023-09-02T15:36:36.644Z"
   },
   {
    "duration": 24,
    "start_time": "2023-09-02T15:36:36.658Z"
   },
   {
    "duration": 10,
    "start_time": "2023-09-02T15:36:36.685Z"
   },
   {
    "duration": 24,
    "start_time": "2023-09-02T15:36:36.698Z"
   },
   {
    "duration": 15,
    "start_time": "2023-09-02T15:36:36.724Z"
   },
   {
    "duration": 39,
    "start_time": "2023-09-02T15:36:36.742Z"
   },
   {
    "duration": 15,
    "start_time": "2023-09-02T15:36:36.784Z"
   },
   {
    "duration": 9,
    "start_time": "2023-09-02T15:36:36.802Z"
   },
   {
    "duration": 22,
    "start_time": "2023-09-02T15:36:36.813Z"
   },
   {
    "duration": 6,
    "start_time": "2023-09-02T15:36:36.837Z"
   },
   {
    "duration": 195,
    "start_time": "2023-09-02T15:36:36.883Z"
   },
   {
    "duration": 25,
    "start_time": "2023-09-02T15:36:37.081Z"
   },
   {
    "duration": 324,
    "start_time": "2023-09-02T15:36:37.108Z"
   },
   {
    "duration": 3,
    "start_time": "2023-09-02T15:36:37.435Z"
   },
   {
    "duration": 127,
    "start_time": "2023-09-02T15:36:37.440Z"
   },
   {
    "duration": 0,
    "start_time": "2023-09-02T15:36:37.570Z"
   },
   {
    "duration": 15,
    "start_time": "2023-09-02T15:36:46.374Z"
   },
   {
    "duration": 592,
    "start_time": "2023-09-02T15:36:50.789Z"
   },
   {
    "duration": 189,
    "start_time": "2023-09-02T15:37:24.680Z"
   },
   {
    "duration": 309,
    "start_time": "2023-09-02T15:37:33.168Z"
   },
   {
    "duration": 1295,
    "start_time": "2023-09-02T15:38:15.176Z"
   },
   {
    "duration": 83,
    "start_time": "2023-09-02T15:38:16.473Z"
   },
   {
    "duration": 22,
    "start_time": "2023-09-02T15:38:16.557Z"
   },
   {
    "duration": 14,
    "start_time": "2023-09-02T15:38:16.581Z"
   },
   {
    "duration": 18,
    "start_time": "2023-09-02T15:38:16.598Z"
   },
   {
    "duration": 20,
    "start_time": "2023-09-02T15:38:16.617Z"
   },
   {
    "duration": 22,
    "start_time": "2023-09-02T15:38:16.639Z"
   },
   {
    "duration": 20,
    "start_time": "2023-09-02T15:38:16.664Z"
   },
   {
    "duration": 8,
    "start_time": "2023-09-02T15:38:16.686Z"
   },
   {
    "duration": 16,
    "start_time": "2023-09-02T15:38:16.697Z"
   },
   {
    "duration": 8,
    "start_time": "2023-09-02T15:38:16.715Z"
   },
   {
    "duration": 22,
    "start_time": "2023-09-02T15:38:16.725Z"
   },
   {
    "duration": 37,
    "start_time": "2023-09-02T15:38:16.749Z"
   },
   {
    "duration": 209,
    "start_time": "2023-09-02T15:38:16.790Z"
   },
   {
    "duration": 25,
    "start_time": "2023-09-02T15:38:17.000Z"
   },
   {
    "duration": 341,
    "start_time": "2023-09-02T15:38:17.027Z"
   },
   {
    "duration": 3,
    "start_time": "2023-09-02T15:38:17.370Z"
   },
   {
    "duration": 15,
    "start_time": "2023-09-02T15:38:17.380Z"
   },
   {
    "duration": 357,
    "start_time": "2023-09-02T15:38:17.396Z"
   },
   {
    "duration": 3,
    "start_time": "2023-09-02T15:38:31.656Z"
   },
   {
    "duration": 15,
    "start_time": "2023-09-02T15:38:31.780Z"
   },
   {
    "duration": 321,
    "start_time": "2023-09-02T15:38:31.920Z"
   },
   {
    "duration": 3,
    "start_time": "2023-09-02T15:38:39.420Z"
   },
   {
    "duration": 15,
    "start_time": "2023-09-02T15:38:40.966Z"
   },
   {
    "duration": 297,
    "start_time": "2023-09-02T15:38:41.110Z"
   },
   {
    "duration": 3,
    "start_time": "2023-09-02T16:29:01.624Z"
   },
   {
    "duration": 15,
    "start_time": "2023-09-02T16:29:01.820Z"
   },
   {
    "duration": 334,
    "start_time": "2023-09-02T16:29:01.996Z"
   },
   {
    "duration": 5,
    "start_time": "2023-09-02T16:29:10.277Z"
   },
   {
    "duration": 1221,
    "start_time": "2023-09-02T16:29:26.548Z"
   },
   {
    "duration": 87,
    "start_time": "2023-09-02T16:29:27.771Z"
   },
   {
    "duration": 32,
    "start_time": "2023-09-02T16:29:27.859Z"
   },
   {
    "duration": 15,
    "start_time": "2023-09-02T16:29:27.892Z"
   },
   {
    "duration": 91,
    "start_time": "2023-09-02T16:29:27.909Z"
   },
   {
    "duration": 8,
    "start_time": "2023-09-02T16:29:28.002Z"
   },
   {
    "duration": 61,
    "start_time": "2023-09-02T16:29:28.012Z"
   },
   {
    "duration": 19,
    "start_time": "2023-09-02T16:29:28.076Z"
   },
   {
    "duration": 7,
    "start_time": "2023-09-02T16:29:28.096Z"
   },
   {
    "duration": 11,
    "start_time": "2023-09-02T16:29:28.105Z"
   },
   {
    "duration": 7,
    "start_time": "2023-09-02T16:29:28.118Z"
   },
   {
    "duration": 93,
    "start_time": "2023-09-02T16:29:28.126Z"
   },
   {
    "duration": 17,
    "start_time": "2023-09-02T16:29:28.221Z"
   },
   {
    "duration": 182,
    "start_time": "2023-09-02T16:29:28.242Z"
   },
   {
    "duration": 24,
    "start_time": "2023-09-02T16:29:28.426Z"
   },
   {
    "duration": 318,
    "start_time": "2023-09-02T16:29:28.452Z"
   },
   {
    "duration": 3,
    "start_time": "2023-09-02T16:29:28.771Z"
   },
   {
    "duration": 19,
    "start_time": "2023-09-02T16:29:28.782Z"
   },
   {
    "duration": 358,
    "start_time": "2023-09-02T16:29:28.803Z"
   },
   {
    "duration": 3,
    "start_time": "2023-09-02T16:33:18.594Z"
   },
   {
    "duration": 16,
    "start_time": "2023-09-02T16:33:18.716Z"
   },
   {
    "duration": 409,
    "start_time": "2023-09-02T16:33:18.996Z"
   },
   {
    "duration": 6,
    "start_time": "2023-09-02T17:41:40.474Z"
   },
   {
    "duration": 109,
    "start_time": "2023-09-02T17:41:53.783Z"
   },
   {
    "duration": 10,
    "start_time": "2023-09-02T17:42:13.762Z"
   },
   {
    "duration": 7,
    "start_time": "2023-09-02T17:42:22.532Z"
   },
   {
    "duration": 1223,
    "start_time": "2023-09-02T18:13:22.558Z"
   },
   {
    "duration": 81,
    "start_time": "2023-09-02T18:13:23.783Z"
   },
   {
    "duration": 22,
    "start_time": "2023-09-02T18:13:23.866Z"
   },
   {
    "duration": 14,
    "start_time": "2023-09-02T18:13:23.890Z"
   },
   {
    "duration": 14,
    "start_time": "2023-09-02T18:13:23.907Z"
   },
   {
    "duration": 10,
    "start_time": "2023-09-02T18:13:23.922Z"
   },
   {
    "duration": 36,
    "start_time": "2023-09-02T18:13:23.934Z"
   },
   {
    "duration": 9,
    "start_time": "2023-09-02T18:13:23.972Z"
   },
   {
    "duration": 21,
    "start_time": "2023-09-02T18:13:23.983Z"
   },
   {
    "duration": 21,
    "start_time": "2023-09-02T18:13:24.005Z"
   },
   {
    "duration": 18,
    "start_time": "2023-09-02T18:13:24.027Z"
   },
   {
    "duration": 45,
    "start_time": "2023-09-02T18:13:24.047Z"
   },
   {
    "duration": 8,
    "start_time": "2023-09-02T18:13:24.093Z"
   },
   {
    "duration": 186,
    "start_time": "2023-09-02T18:13:24.103Z"
   },
   {
    "duration": 24,
    "start_time": "2023-09-02T18:13:24.290Z"
   },
   {
    "duration": 298,
    "start_time": "2023-09-02T18:13:24.315Z"
   },
   {
    "duration": 3,
    "start_time": "2023-09-02T18:13:24.614Z"
   },
   {
    "duration": 27,
    "start_time": "2023-09-02T18:13:24.619Z"
   },
   {
    "duration": 385,
    "start_time": "2023-09-02T18:13:24.648Z"
   },
   {
    "duration": 465,
    "start_time": "2023-09-02T18:13:25.035Z"
   },
   {
    "duration": 185,
    "start_time": "2023-09-02T18:14:41.392Z"
   },
   {
    "duration": 349,
    "start_time": "2023-09-02T18:15:07.447Z"
   },
   {
    "duration": 1297,
    "start_time": "2023-09-02T18:18:56.950Z"
   },
   {
    "duration": 84,
    "start_time": "2023-09-02T18:18:58.250Z"
   },
   {
    "duration": 45,
    "start_time": "2023-09-02T18:18:58.336Z"
   },
   {
    "duration": 28,
    "start_time": "2023-09-02T18:18:58.383Z"
   },
   {
    "duration": 30,
    "start_time": "2023-09-02T18:18:58.413Z"
   },
   {
    "duration": 51,
    "start_time": "2023-09-02T18:18:58.445Z"
   },
   {
    "duration": 20,
    "start_time": "2023-09-02T18:18:58.498Z"
   },
   {
    "duration": 10,
    "start_time": "2023-09-02T18:18:58.521Z"
   },
   {
    "duration": 30,
    "start_time": "2023-09-02T18:18:58.533Z"
   },
   {
    "duration": 29,
    "start_time": "2023-09-02T18:18:58.566Z"
   },
   {
    "duration": 21,
    "start_time": "2023-09-02T18:18:58.597Z"
   },
   {
    "duration": 17,
    "start_time": "2023-09-02T18:18:58.620Z"
   },
   {
    "duration": 5,
    "start_time": "2023-09-02T18:18:58.639Z"
   },
   {
    "duration": 177,
    "start_time": "2023-09-02T18:18:58.646Z"
   },
   {
    "duration": 24,
    "start_time": "2023-09-02T18:18:58.825Z"
   },
   {
    "duration": 311,
    "start_time": "2023-09-02T18:18:58.851Z"
   },
   {
    "duration": 4,
    "start_time": "2023-09-02T18:18:59.164Z"
   },
   {
    "duration": 30,
    "start_time": "2023-09-02T18:18:59.170Z"
   },
   {
    "duration": 392,
    "start_time": "2023-09-02T18:18:59.201Z"
   },
   {
    "duration": 1257,
    "start_time": "2023-09-02T18:19:19.482Z"
   },
   {
    "duration": 83,
    "start_time": "2023-09-02T18:19:20.741Z"
   },
   {
    "duration": 22,
    "start_time": "2023-09-02T18:19:20.825Z"
   },
   {
    "duration": 16,
    "start_time": "2023-09-02T18:19:20.849Z"
   },
   {
    "duration": 21,
    "start_time": "2023-09-02T18:19:20.868Z"
   },
   {
    "duration": 11,
    "start_time": "2023-09-02T18:19:20.892Z"
   },
   {
    "duration": 15,
    "start_time": "2023-09-02T18:19:20.905Z"
   },
   {
    "duration": 11,
    "start_time": "2023-09-02T18:19:20.922Z"
   },
   {
    "duration": 16,
    "start_time": "2023-09-02T18:19:20.935Z"
   },
   {
    "duration": 34,
    "start_time": "2023-09-02T18:19:20.953Z"
   },
   {
    "duration": 15,
    "start_time": "2023-09-02T18:19:20.989Z"
   },
   {
    "duration": 18,
    "start_time": "2023-09-02T18:19:21.007Z"
   },
   {
    "duration": 5,
    "start_time": "2023-09-02T18:19:21.027Z"
   },
   {
    "duration": 204,
    "start_time": "2023-09-02T18:19:21.036Z"
   },
   {
    "duration": 23,
    "start_time": "2023-09-02T18:19:21.242Z"
   },
   {
    "duration": 303,
    "start_time": "2023-09-02T18:19:21.266Z"
   },
   {
    "duration": 3,
    "start_time": "2023-09-02T18:19:21.571Z"
   },
   {
    "duration": 127,
    "start_time": "2023-09-02T18:19:21.581Z"
   },
   {
    "duration": 0,
    "start_time": "2023-09-02T18:19:21.710Z"
   },
   {
    "duration": 1266,
    "start_time": "2023-09-02T18:20:25.818Z"
   },
   {
    "duration": 86,
    "start_time": "2023-09-02T18:20:27.086Z"
   },
   {
    "duration": 27,
    "start_time": "2023-09-02T18:20:27.174Z"
   },
   {
    "duration": 12,
    "start_time": "2023-09-02T18:20:27.203Z"
   },
   {
    "duration": 6,
    "start_time": "2023-09-02T18:20:27.218Z"
   },
   {
    "duration": 12,
    "start_time": "2023-09-02T18:20:27.226Z"
   },
   {
    "duration": 17,
    "start_time": "2023-09-02T18:20:27.243Z"
   },
   {
    "duration": 14,
    "start_time": "2023-09-02T18:20:27.280Z"
   },
   {
    "duration": 9,
    "start_time": "2023-09-02T18:20:27.297Z"
   },
   {
    "duration": 13,
    "start_time": "2023-09-02T18:20:27.308Z"
   },
   {
    "duration": 7,
    "start_time": "2023-09-02T18:20:27.323Z"
   },
   {
    "duration": 51,
    "start_time": "2023-09-02T18:20:27.331Z"
   },
   {
    "duration": 6,
    "start_time": "2023-09-02T18:20:27.383Z"
   },
   {
    "duration": 190,
    "start_time": "2023-09-02T18:20:27.391Z"
   },
   {
    "duration": 26,
    "start_time": "2023-09-02T18:20:27.583Z"
   },
   {
    "duration": 305,
    "start_time": "2023-09-02T18:20:27.610Z"
   },
   {
    "duration": 3,
    "start_time": "2023-09-02T18:20:27.917Z"
   },
   {
    "duration": 6508,
    "start_time": "2023-09-02T18:20:27.921Z"
   },
   {
    "duration": 109,
    "start_time": "2023-09-02T18:20:34.431Z"
   },
   {
    "duration": 1153,
    "start_time": "2023-09-02T18:20:50.599Z"
   },
   {
    "duration": 80,
    "start_time": "2023-09-02T18:20:51.754Z"
   },
   {
    "duration": 22,
    "start_time": "2023-09-02T18:20:51.835Z"
   },
   {
    "duration": 29,
    "start_time": "2023-09-02T18:20:51.859Z"
   },
   {
    "duration": 9,
    "start_time": "2023-09-02T18:20:51.890Z"
   },
   {
    "duration": 24,
    "start_time": "2023-09-02T18:20:51.900Z"
   },
   {
    "duration": 37,
    "start_time": "2023-09-02T18:20:51.926Z"
   },
   {
    "duration": 10,
    "start_time": "2023-09-02T18:20:51.964Z"
   },
   {
    "duration": 20,
    "start_time": "2023-09-02T18:20:51.976Z"
   },
   {
    "duration": 12,
    "start_time": "2023-09-02T18:20:51.997Z"
   },
   {
    "duration": 31,
    "start_time": "2023-09-02T18:20:52.010Z"
   },
   {
    "duration": 30,
    "start_time": "2023-09-02T18:20:52.043Z"
   },
   {
    "duration": 5,
    "start_time": "2023-09-02T18:20:52.075Z"
   },
   {
    "duration": 180,
    "start_time": "2023-09-02T18:20:52.082Z"
   },
   {
    "duration": 33,
    "start_time": "2023-09-02T18:20:52.263Z"
   },
   {
    "duration": 294,
    "start_time": "2023-09-02T18:20:52.298Z"
   },
   {
    "duration": 3,
    "start_time": "2023-09-02T18:20:52.594Z"
   },
   {
    "duration": 44,
    "start_time": "2023-09-02T18:20:52.598Z"
   },
   {
    "duration": 377,
    "start_time": "2023-09-02T18:20:52.644Z"
   },
   {
    "duration": 1286,
    "start_time": "2023-09-02T18:22:26.469Z"
   },
   {
    "duration": 80,
    "start_time": "2023-09-02T18:22:27.757Z"
   },
   {
    "duration": 22,
    "start_time": "2023-09-02T18:22:27.839Z"
   },
   {
    "duration": 18,
    "start_time": "2023-09-02T18:22:27.863Z"
   },
   {
    "duration": 5,
    "start_time": "2023-09-02T18:22:27.882Z"
   },
   {
    "duration": 8,
    "start_time": "2023-09-02T18:22:27.888Z"
   },
   {
    "duration": 13,
    "start_time": "2023-09-02T18:22:27.898Z"
   },
   {
    "duration": 9,
    "start_time": "2023-09-02T18:22:27.913Z"
   },
   {
    "duration": 8,
    "start_time": "2023-09-02T18:22:27.924Z"
   },
   {
    "duration": 18,
    "start_time": "2023-09-02T18:22:27.935Z"
   },
   {
    "duration": 7,
    "start_time": "2023-09-02T18:22:27.982Z"
   },
   {
    "duration": 19,
    "start_time": "2023-09-02T18:22:27.991Z"
   },
   {
    "duration": 5,
    "start_time": "2023-09-02T18:22:28.011Z"
   },
   {
    "duration": 188,
    "start_time": "2023-09-02T18:22:28.018Z"
   },
   {
    "duration": 25,
    "start_time": "2023-09-02T18:22:28.208Z"
   },
   {
    "duration": 306,
    "start_time": "2023-09-02T18:22:28.234Z"
   },
   {
    "duration": 4,
    "start_time": "2023-09-02T18:22:28.541Z"
   },
   {
    "duration": 113,
    "start_time": "2023-09-02T18:22:28.546Z"
   },
   {
    "duration": 0,
    "start_time": "2023-09-02T18:22:28.661Z"
   },
   {
    "duration": 1202,
    "start_time": "2023-09-02T18:22:48.373Z"
   },
   {
    "duration": 89,
    "start_time": "2023-09-02T18:22:49.578Z"
   },
   {
    "duration": 26,
    "start_time": "2023-09-02T18:22:49.669Z"
   },
   {
    "duration": 9,
    "start_time": "2023-09-02T18:22:49.697Z"
   },
   {
    "duration": 5,
    "start_time": "2023-09-02T18:22:49.709Z"
   },
   {
    "duration": 12,
    "start_time": "2023-09-02T18:22:49.716Z"
   },
   {
    "duration": 14,
    "start_time": "2023-09-02T18:22:49.729Z"
   },
   {
    "duration": 11,
    "start_time": "2023-09-02T18:22:49.745Z"
   },
   {
    "duration": 10,
    "start_time": "2023-09-02T18:22:49.782Z"
   },
   {
    "duration": 14,
    "start_time": "2023-09-02T18:22:49.793Z"
   },
   {
    "duration": 8,
    "start_time": "2023-09-02T18:22:49.809Z"
   },
   {
    "duration": 21,
    "start_time": "2023-09-02T18:22:49.819Z"
   },
   {
    "duration": 6,
    "start_time": "2023-09-02T18:22:49.842Z"
   },
   {
    "duration": 214,
    "start_time": "2023-09-02T18:22:49.851Z"
   },
   {
    "duration": 32,
    "start_time": "2023-09-02T18:22:50.068Z"
   },
   {
    "duration": 299,
    "start_time": "2023-09-02T18:22:50.102Z"
   },
   {
    "duration": 4,
    "start_time": "2023-09-02T18:22:50.403Z"
   },
   {
    "duration": 20,
    "start_time": "2023-09-02T18:22:50.409Z"
   },
   {
    "duration": 451,
    "start_time": "2023-09-02T18:22:50.430Z"
   },
   {
    "duration": 1200,
    "start_time": "2023-09-02T18:23:12.488Z"
   },
   {
    "duration": 82,
    "start_time": "2023-09-02T18:23:13.690Z"
   },
   {
    "duration": 29,
    "start_time": "2023-09-02T18:23:13.773Z"
   },
   {
    "duration": 13,
    "start_time": "2023-09-02T18:23:13.803Z"
   },
   {
    "duration": 6,
    "start_time": "2023-09-02T18:23:13.818Z"
   },
   {
    "duration": 16,
    "start_time": "2023-09-02T18:23:13.825Z"
   },
   {
    "duration": 39,
    "start_time": "2023-09-02T18:23:13.843Z"
   },
   {
    "duration": 112,
    "start_time": "2023-09-02T18:23:13.884Z"
   },
   {
    "duration": 12,
    "start_time": "2023-09-02T18:23:13.998Z"
   },
   {
    "duration": 11,
    "start_time": "2023-09-02T18:23:14.012Z"
   },
   {
    "duration": 7,
    "start_time": "2023-09-02T18:23:14.024Z"
   },
   {
    "duration": 19,
    "start_time": "2023-09-02T18:23:14.032Z"
   },
   {
    "duration": 4,
    "start_time": "2023-09-02T18:23:14.053Z"
   },
   {
    "duration": 186,
    "start_time": "2023-09-02T18:23:14.060Z"
   },
   {
    "duration": 34,
    "start_time": "2023-09-02T18:23:14.248Z"
   },
   {
    "duration": 297,
    "start_time": "2023-09-02T18:23:14.284Z"
   },
   {
    "duration": 4,
    "start_time": "2023-09-02T18:23:14.583Z"
   },
   {
    "duration": 18,
    "start_time": "2023-09-02T18:23:14.588Z"
   },
   {
    "duration": 398,
    "start_time": "2023-09-02T18:23:14.607Z"
   },
   {
    "duration": 1225,
    "start_time": "2023-09-02T18:23:48.346Z"
   },
   {
    "duration": 81,
    "start_time": "2023-09-02T18:23:49.573Z"
   },
   {
    "duration": 23,
    "start_time": "2023-09-02T18:23:49.655Z"
   },
   {
    "duration": 8,
    "start_time": "2023-09-02T18:23:49.679Z"
   },
   {
    "duration": 12,
    "start_time": "2023-09-02T18:23:49.689Z"
   },
   {
    "duration": 16,
    "start_time": "2023-09-02T18:23:49.704Z"
   },
   {
    "duration": 28,
    "start_time": "2023-09-02T18:23:49.722Z"
   },
   {
    "duration": 9,
    "start_time": "2023-09-02T18:23:49.751Z"
   },
   {
    "duration": 15,
    "start_time": "2023-09-02T18:23:49.761Z"
   },
   {
    "duration": 14,
    "start_time": "2023-09-02T18:23:49.778Z"
   },
   {
    "duration": 10,
    "start_time": "2023-09-02T18:23:49.793Z"
   },
   {
    "duration": 33,
    "start_time": "2023-09-02T18:23:49.805Z"
   },
   {
    "duration": 5,
    "start_time": "2023-09-02T18:23:49.840Z"
   },
   {
    "duration": 176,
    "start_time": "2023-09-02T18:23:49.847Z"
   },
   {
    "duration": 26,
    "start_time": "2023-09-02T18:23:50.025Z"
   },
   {
    "duration": 302,
    "start_time": "2023-09-02T18:23:50.053Z"
   },
   {
    "duration": 3,
    "start_time": "2023-09-02T18:23:50.357Z"
   },
   {
    "duration": 25,
    "start_time": "2023-09-02T18:23:50.362Z"
   },
   {
    "duration": 392,
    "start_time": "2023-09-02T18:23:50.389Z"
   },
   {
    "duration": 85,
    "start_time": "2023-09-02T18:23:50.783Z"
   },
   {
    "duration": 1215,
    "start_time": "2023-09-02T18:24:03.854Z"
   },
   {
    "duration": 85,
    "start_time": "2023-09-02T18:24:05.071Z"
   },
   {
    "duration": 31,
    "start_time": "2023-09-02T18:24:05.159Z"
   },
   {
    "duration": 9,
    "start_time": "2023-09-02T18:24:05.191Z"
   },
   {
    "duration": 7,
    "start_time": "2023-09-02T18:24:05.202Z"
   },
   {
    "duration": 11,
    "start_time": "2023-09-02T18:24:05.210Z"
   },
   {
    "duration": 26,
    "start_time": "2023-09-02T18:24:05.224Z"
   },
   {
    "duration": 10,
    "start_time": "2023-09-02T18:24:05.252Z"
   },
   {
    "duration": 26,
    "start_time": "2023-09-02T18:24:05.264Z"
   },
   {
    "duration": 13,
    "start_time": "2023-09-02T18:24:05.293Z"
   },
   {
    "duration": 7,
    "start_time": "2023-09-02T18:24:05.308Z"
   },
   {
    "duration": 18,
    "start_time": "2023-09-02T18:24:05.317Z"
   },
   {
    "duration": 4,
    "start_time": "2023-09-02T18:24:05.337Z"
   },
   {
    "duration": 208,
    "start_time": "2023-09-02T18:24:05.344Z"
   },
   {
    "duration": 34,
    "start_time": "2023-09-02T18:24:05.554Z"
   },
   {
    "duration": 310,
    "start_time": "2023-09-02T18:24:05.590Z"
   },
   {
    "duration": 3,
    "start_time": "2023-09-02T18:24:05.902Z"
   },
   {
    "duration": 31,
    "start_time": "2023-09-02T18:24:05.906Z"
   },
   {
    "duration": 406,
    "start_time": "2023-09-02T18:24:05.939Z"
   },
   {
    "duration": 431,
    "start_time": "2023-09-02T18:24:06.347Z"
   },
   {
    "duration": 1202,
    "start_time": "2023-09-02T18:47:10.851Z"
   },
   {
    "duration": 82,
    "start_time": "2023-09-02T18:47:12.055Z"
   },
   {
    "duration": 22,
    "start_time": "2023-09-02T18:47:12.139Z"
   },
   {
    "duration": 26,
    "start_time": "2023-09-02T18:47:12.163Z"
   },
   {
    "duration": 10,
    "start_time": "2023-09-02T18:47:12.192Z"
   },
   {
    "duration": 19,
    "start_time": "2023-09-02T18:47:12.204Z"
   },
   {
    "duration": 25,
    "start_time": "2023-09-02T18:47:12.224Z"
   },
   {
    "duration": 10,
    "start_time": "2023-09-02T18:47:12.251Z"
   },
   {
    "duration": 8,
    "start_time": "2023-09-02T18:47:12.262Z"
   },
   {
    "duration": 12,
    "start_time": "2023-09-02T18:47:12.272Z"
   },
   {
    "duration": 7,
    "start_time": "2023-09-02T18:47:12.286Z"
   },
   {
    "duration": 27,
    "start_time": "2023-09-02T18:47:12.294Z"
   },
   {
    "duration": 5,
    "start_time": "2023-09-02T18:47:12.322Z"
   },
   {
    "duration": 183,
    "start_time": "2023-09-02T18:47:12.329Z"
   },
   {
    "duration": 24,
    "start_time": "2023-09-02T18:47:12.514Z"
   },
   {
    "duration": 300,
    "start_time": "2023-09-02T18:47:12.539Z"
   },
   {
    "duration": 4,
    "start_time": "2023-09-02T18:47:12.841Z"
   },
   {
    "duration": 22,
    "start_time": "2023-09-02T18:47:12.846Z"
   },
   {
    "duration": 383,
    "start_time": "2023-09-02T18:47:12.870Z"
   },
   {
    "duration": 377,
    "start_time": "2023-09-02T18:47:13.255Z"
   },
   {
    "duration": 104,
    "start_time": "2023-09-02T18:51:21.331Z"
   },
   {
    "duration": 296,
    "start_time": "2023-09-02T18:51:56.988Z"
   },
   {
    "duration": 516,
    "start_time": "2023-09-02T18:52:22.047Z"
   },
   {
    "duration": 49,
    "start_time": "2023-09-02T18:52:39.318Z"
   },
   {
    "duration": 1132,
    "start_time": "2023-09-02T18:52:48.027Z"
   },
   {
    "duration": 82,
    "start_time": "2023-09-02T18:52:49.161Z"
   },
   {
    "duration": 22,
    "start_time": "2023-09-02T18:52:49.245Z"
   },
   {
    "duration": 17,
    "start_time": "2023-09-02T18:52:49.269Z"
   },
   {
    "duration": 6,
    "start_time": "2023-09-02T18:52:49.288Z"
   },
   {
    "duration": 7,
    "start_time": "2023-09-02T18:52:49.295Z"
   },
   {
    "duration": 13,
    "start_time": "2023-09-02T18:52:49.304Z"
   },
   {
    "duration": 10,
    "start_time": "2023-09-02T18:52:49.319Z"
   },
   {
    "duration": 6,
    "start_time": "2023-09-02T18:52:49.331Z"
   },
   {
    "duration": 47,
    "start_time": "2023-09-02T18:52:49.339Z"
   },
   {
    "duration": 6,
    "start_time": "2023-09-02T18:52:49.388Z"
   },
   {
    "duration": 16,
    "start_time": "2023-09-02T18:52:49.396Z"
   },
   {
    "duration": 5,
    "start_time": "2023-09-02T18:52:49.414Z"
   },
   {
    "duration": 182,
    "start_time": "2023-09-02T18:52:49.421Z"
   },
   {
    "duration": 22,
    "start_time": "2023-09-02T18:52:49.605Z"
   },
   {
    "duration": 302,
    "start_time": "2023-09-02T18:52:49.629Z"
   },
   {
    "duration": 2,
    "start_time": "2023-09-02T18:52:49.933Z"
   },
   {
    "duration": 20,
    "start_time": "2023-09-02T18:52:49.937Z"
   },
   {
    "duration": 395,
    "start_time": "2023-09-02T18:52:49.958Z"
   },
   {
    "duration": 402,
    "start_time": "2023-09-02T18:52:50.355Z"
   },
   {
    "duration": 56,
    "start_time": "2023-09-02T18:52:50.758Z"
   },
   {
    "duration": 104,
    "start_time": "2023-09-02T18:54:10.723Z"
   },
   {
    "duration": 9,
    "start_time": "2023-09-02T18:54:42.503Z"
   },
   {
    "duration": 106,
    "start_time": "2023-09-02T18:56:05.899Z"
   },
   {
    "duration": 112,
    "start_time": "2023-09-02T18:56:25.454Z"
   },
   {
    "duration": 120,
    "start_time": "2023-09-02T18:56:32.406Z"
   },
   {
    "duration": 110,
    "start_time": "2023-09-02T18:56:51.319Z"
   },
   {
    "duration": 175,
    "start_time": "2023-09-02T18:59:55.095Z"
   },
   {
    "duration": 94,
    "start_time": "2023-09-02T19:00:15.725Z"
   },
   {
    "duration": 98,
    "start_time": "2023-09-02T19:00:28.026Z"
   },
   {
    "duration": 108,
    "start_time": "2023-09-02T19:01:19.514Z"
   },
   {
    "duration": 1178,
    "start_time": "2023-09-02T19:09:10.388Z"
   },
   {
    "duration": 79,
    "start_time": "2023-09-02T19:09:11.568Z"
   },
   {
    "duration": 21,
    "start_time": "2023-09-02T19:09:11.649Z"
   },
   {
    "duration": 12,
    "start_time": "2023-09-02T19:09:11.673Z"
   },
   {
    "duration": 12,
    "start_time": "2023-09-02T19:09:11.687Z"
   },
   {
    "duration": 9,
    "start_time": "2023-09-02T19:09:11.701Z"
   },
   {
    "duration": 15,
    "start_time": "2023-09-02T19:09:11.712Z"
   },
   {
    "duration": 9,
    "start_time": "2023-09-02T19:09:11.729Z"
   },
   {
    "duration": 6,
    "start_time": "2023-09-02T19:09:11.740Z"
   },
   {
    "duration": 40,
    "start_time": "2023-09-02T19:09:11.748Z"
   },
   {
    "duration": 7,
    "start_time": "2023-09-02T19:09:11.790Z"
   },
   {
    "duration": 17,
    "start_time": "2023-09-02T19:09:11.799Z"
   },
   {
    "duration": 5,
    "start_time": "2023-09-02T19:09:11.817Z"
   },
   {
    "duration": 199,
    "start_time": "2023-09-02T19:09:11.824Z"
   },
   {
    "duration": 24,
    "start_time": "2023-09-02T19:09:12.025Z"
   },
   {
    "duration": 304,
    "start_time": "2023-09-02T19:09:12.051Z"
   },
   {
    "duration": 3,
    "start_time": "2023-09-02T19:09:12.357Z"
   },
   {
    "duration": 26,
    "start_time": "2023-09-02T19:09:12.362Z"
   },
   {
    "duration": 392,
    "start_time": "2023-09-02T19:09:12.389Z"
   },
   {
    "duration": 381,
    "start_time": "2023-09-02T19:09:12.783Z"
   },
   {
    "duration": 124,
    "start_time": "2023-09-02T19:09:13.166Z"
   },
   {
    "duration": 1470,
    "start_time": "2023-09-02T19:09:13.291Z"
   },
   {
    "duration": 226,
    "start_time": "2023-09-02T19:09:33.981Z"
   },
   {
    "duration": 13,
    "start_time": "2023-09-02T19:09:56.964Z"
   },
   {
    "duration": 86,
    "start_time": "2023-09-02T19:10:25.084Z"
   },
   {
    "duration": 115,
    "start_time": "2023-09-02T19:10:35.308Z"
   },
   {
    "duration": 168,
    "start_time": "2023-09-02T19:10:47.776Z"
   },
   {
    "duration": 113,
    "start_time": "2023-09-02T19:11:28.537Z"
   },
   {
    "duration": 102,
    "start_time": "2023-09-02T19:12:04.419Z"
   },
   {
    "duration": 98,
    "start_time": "2023-09-02T19:12:11.719Z"
   },
   {
    "duration": 95,
    "start_time": "2023-09-02T19:13:03.264Z"
   },
   {
    "duration": 83,
    "start_time": "2023-09-02T19:13:20.876Z"
   },
   {
    "duration": 108,
    "start_time": "2023-09-02T19:13:42.927Z"
   },
   {
    "duration": 1263,
    "start_time": "2023-09-02T19:14:54.981Z"
   },
   {
    "duration": 88,
    "start_time": "2023-09-02T19:14:56.246Z"
   },
   {
    "duration": 22,
    "start_time": "2023-09-02T19:14:56.336Z"
   },
   {
    "duration": 21,
    "start_time": "2023-09-02T19:14:56.360Z"
   },
   {
    "duration": 6,
    "start_time": "2023-09-02T19:14:56.384Z"
   },
   {
    "duration": 8,
    "start_time": "2023-09-02T19:14:56.392Z"
   },
   {
    "duration": 17,
    "start_time": "2023-09-02T19:14:56.401Z"
   },
   {
    "duration": 10,
    "start_time": "2023-09-02T19:14:56.420Z"
   },
   {
    "duration": 7,
    "start_time": "2023-09-02T19:14:56.432Z"
   },
   {
    "duration": 55,
    "start_time": "2023-09-02T19:14:56.441Z"
   },
   {
    "duration": 12,
    "start_time": "2023-09-02T19:14:56.498Z"
   },
   {
    "duration": 217,
    "start_time": "2023-09-02T19:14:56.512Z"
   },
   {
    "duration": 5,
    "start_time": "2023-09-02T19:14:56.732Z"
   },
   {
    "duration": 215,
    "start_time": "2023-09-02T19:14:56.740Z"
   },
   {
    "duration": 40,
    "start_time": "2023-09-02T19:14:56.957Z"
   },
   {
    "duration": 365,
    "start_time": "2023-09-02T19:14:56.999Z"
   },
   {
    "duration": 2,
    "start_time": "2023-09-02T19:14:57.366Z"
   },
   {
    "duration": 23,
    "start_time": "2023-09-02T19:14:57.370Z"
   },
   {
    "duration": 382,
    "start_time": "2023-09-02T19:14:57.395Z"
   },
   {
    "duration": 396,
    "start_time": "2023-09-02T19:14:57.779Z"
   },
   {
    "duration": 121,
    "start_time": "2023-09-02T19:14:58.180Z"
   },
   {
    "duration": 114,
    "start_time": "2023-09-02T19:14:58.303Z"
   },
   {
    "duration": 10,
    "start_time": "2023-09-02T19:17:49.811Z"
   },
   {
    "duration": 9,
    "start_time": "2023-09-02T19:17:55.501Z"
   },
   {
    "duration": 11,
    "start_time": "2023-09-02T19:18:33.275Z"
   },
   {
    "duration": 9,
    "start_time": "2023-09-02T19:18:45.300Z"
   },
   {
    "duration": 94,
    "start_time": "2023-09-02T19:20:31.912Z"
   },
   {
    "duration": 11,
    "start_time": "2023-09-02T19:21:15.231Z"
   },
   {
    "duration": 92,
    "start_time": "2023-09-02T19:21:15.509Z"
   },
   {
    "duration": 10,
    "start_time": "2023-09-02T19:21:32.480Z"
   },
   {
    "duration": 10,
    "start_time": "2023-09-02T19:22:19.392Z"
   },
   {
    "duration": 9,
    "start_time": "2023-09-02T19:22:21.488Z"
   },
   {
    "duration": 68,
    "start_time": "2023-09-02T19:26:22.774Z"
   },
   {
    "duration": 1202,
    "start_time": "2023-09-02T19:29:42.565Z"
   },
   {
    "duration": 82,
    "start_time": "2023-09-02T19:29:43.769Z"
   },
   {
    "duration": 21,
    "start_time": "2023-09-02T19:29:43.853Z"
   },
   {
    "duration": 18,
    "start_time": "2023-09-02T19:29:43.876Z"
   },
   {
    "duration": 19,
    "start_time": "2023-09-02T19:29:43.897Z"
   },
   {
    "duration": 17,
    "start_time": "2023-09-02T19:29:43.918Z"
   },
   {
    "duration": 21,
    "start_time": "2023-09-02T19:29:43.938Z"
   },
   {
    "duration": 9,
    "start_time": "2023-09-02T19:29:43.961Z"
   },
   {
    "duration": 17,
    "start_time": "2023-09-02T19:29:43.972Z"
   },
   {
    "duration": 27,
    "start_time": "2023-09-02T19:29:43.991Z"
   },
   {
    "duration": 16,
    "start_time": "2023-09-02T19:29:44.020Z"
   },
   {
    "duration": 47,
    "start_time": "2023-09-02T19:29:44.038Z"
   },
   {
    "duration": 12,
    "start_time": "2023-09-02T19:29:44.086Z"
   },
   {
    "duration": 229,
    "start_time": "2023-09-02T19:29:44.101Z"
   },
   {
    "duration": 23,
    "start_time": "2023-09-02T19:29:44.332Z"
   },
   {
    "duration": 309,
    "start_time": "2023-09-02T19:29:44.357Z"
   },
   {
    "duration": 4,
    "start_time": "2023-09-02T19:29:44.667Z"
   },
   {
    "duration": 48,
    "start_time": "2023-09-02T19:29:44.680Z"
   },
   {
    "duration": 447,
    "start_time": "2023-09-02T19:29:44.730Z"
   },
   {
    "duration": 416,
    "start_time": "2023-09-02T19:29:45.180Z"
   },
   {
    "duration": 147,
    "start_time": "2023-09-02T19:29:45.598Z"
   },
   {
    "duration": 57,
    "start_time": "2023-09-02T19:29:45.747Z"
   },
   {
    "duration": 1668,
    "start_time": "2023-09-02T19:29:45.806Z"
   },
   {
    "duration": 119,
    "start_time": "2023-09-02T19:30:03.739Z"
   },
   {
    "duration": 527,
    "start_time": "2023-09-02T19:30:51.476Z"
   },
   {
    "duration": 254,
    "start_time": "2023-09-02T19:31:11.373Z"
   },
   {
    "duration": 215,
    "start_time": "2023-09-02T19:31:22.807Z"
   },
   {
    "duration": 276,
    "start_time": "2023-09-02T19:31:33.027Z"
   },
   {
    "duration": 308,
    "start_time": "2023-09-02T19:31:49.669Z"
   },
   {
    "duration": 448,
    "start_time": "2023-09-02T19:32:01.217Z"
   },
   {
    "duration": 1223,
    "start_time": "2023-09-02T19:36:10.294Z"
   },
   {
    "duration": 83,
    "start_time": "2023-09-02T19:36:11.519Z"
   },
   {
    "duration": 22,
    "start_time": "2023-09-02T19:36:11.604Z"
   },
   {
    "duration": 9,
    "start_time": "2023-09-02T19:36:11.629Z"
   },
   {
    "duration": 5,
    "start_time": "2023-09-02T19:36:11.640Z"
   },
   {
    "duration": 34,
    "start_time": "2023-09-02T19:36:11.647Z"
   },
   {
    "duration": 25,
    "start_time": "2023-09-02T19:36:11.683Z"
   },
   {
    "duration": 9,
    "start_time": "2023-09-02T19:36:11.711Z"
   },
   {
    "duration": 6,
    "start_time": "2023-09-02T19:36:11.722Z"
   },
   {
    "duration": 11,
    "start_time": "2023-09-02T19:36:11.731Z"
   },
   {
    "duration": 6,
    "start_time": "2023-09-02T19:36:11.744Z"
   },
   {
    "duration": 45,
    "start_time": "2023-09-02T19:36:11.751Z"
   },
   {
    "duration": 5,
    "start_time": "2023-09-02T19:36:11.798Z"
   },
   {
    "duration": 184,
    "start_time": "2023-09-02T19:36:11.805Z"
   },
   {
    "duration": 26,
    "start_time": "2023-09-02T19:36:11.991Z"
   },
   {
    "duration": 322,
    "start_time": "2023-09-02T19:36:12.018Z"
   },
   {
    "duration": 3,
    "start_time": "2023-09-02T19:36:12.342Z"
   },
   {
    "duration": 19,
    "start_time": "2023-09-02T19:36:12.346Z"
   },
   {
    "duration": 406,
    "start_time": "2023-09-02T19:36:12.367Z"
   },
   {
    "duration": 378,
    "start_time": "2023-09-02T19:36:12.775Z"
   },
   {
    "duration": 134,
    "start_time": "2023-09-02T19:36:13.155Z"
   },
   {
    "duration": 40,
    "start_time": "2023-09-02T19:36:13.291Z"
   },
   {
    "duration": 379,
    "start_time": "2023-09-02T19:36:13.333Z"
   },
   {
    "duration": 453,
    "start_time": "2023-09-02T19:40:02.003Z"
   },
   {
    "duration": 1395,
    "start_time": "2023-09-02T20:56:30.460Z"
   },
   {
    "duration": 98,
    "start_time": "2023-09-02T20:56:31.857Z"
   },
   {
    "duration": 35,
    "start_time": "2023-09-02T20:56:31.957Z"
   },
   {
    "duration": 33,
    "start_time": "2023-09-02T20:56:31.996Z"
   },
   {
    "duration": 39,
    "start_time": "2023-09-02T20:56:32.031Z"
   },
   {
    "duration": 80,
    "start_time": "2023-09-02T20:56:32.073Z"
   },
   {
    "duration": 52,
    "start_time": "2023-09-02T20:56:32.155Z"
   },
   {
    "duration": 24,
    "start_time": "2023-09-02T20:56:32.209Z"
   },
   {
    "duration": 66,
    "start_time": "2023-09-02T20:56:32.234Z"
   },
   {
    "duration": 16,
    "start_time": "2023-09-02T20:56:32.305Z"
   },
   {
    "duration": 8,
    "start_time": "2023-09-02T20:56:32.324Z"
   },
   {
    "duration": 30,
    "start_time": "2023-09-02T20:56:32.335Z"
   },
   {
    "duration": 23,
    "start_time": "2023-09-02T20:56:32.367Z"
   },
   {
    "duration": 200,
    "start_time": "2023-09-02T20:56:32.395Z"
   },
   {
    "duration": 27,
    "start_time": "2023-09-02T20:56:32.597Z"
   },
   {
    "duration": 325,
    "start_time": "2023-09-02T20:56:32.626Z"
   },
   {
    "duration": 4,
    "start_time": "2023-09-02T20:56:32.953Z"
   },
   {
    "duration": 35,
    "start_time": "2023-09-02T20:56:32.958Z"
   },
   {
    "duration": 402,
    "start_time": "2023-09-02T20:56:32.994Z"
   },
   {
    "duration": 349,
    "start_time": "2023-09-02T20:56:33.399Z"
   },
   {
    "duration": 127,
    "start_time": "2023-09-02T20:56:33.750Z"
   },
   {
    "duration": 45,
    "start_time": "2023-09-02T20:56:33.879Z"
   },
   {
    "duration": 330,
    "start_time": "2023-09-02T20:56:33.926Z"
   },
   {
    "duration": 334,
    "start_time": "2023-09-02T20:57:54.215Z"
   },
   {
    "duration": 279,
    "start_time": "2023-09-02T20:58:00.825Z"
   },
   {
    "duration": 1273,
    "start_time": "2023-09-02T21:06:30.511Z"
   },
   {
    "duration": 100,
    "start_time": "2023-09-02T21:06:31.789Z"
   },
   {
    "duration": 28,
    "start_time": "2023-09-02T21:06:31.896Z"
   },
   {
    "duration": 89,
    "start_time": "2023-09-02T21:06:31.926Z"
   },
   {
    "duration": 27,
    "start_time": "2023-09-02T21:06:32.017Z"
   },
   {
    "duration": 45,
    "start_time": "2023-09-02T21:06:32.046Z"
   },
   {
    "duration": 74,
    "start_time": "2023-09-02T21:06:32.099Z"
   },
   {
    "duration": 38,
    "start_time": "2023-09-02T21:06:32.175Z"
   },
   {
    "duration": 16,
    "start_time": "2023-09-02T21:06:32.215Z"
   },
   {
    "duration": 20,
    "start_time": "2023-09-02T21:06:32.233Z"
   },
   {
    "duration": 64,
    "start_time": "2023-09-02T21:06:32.255Z"
   },
   {
    "duration": 43,
    "start_time": "2023-09-02T21:06:32.321Z"
   },
   {
    "duration": 26,
    "start_time": "2023-09-02T21:06:32.366Z"
   },
   {
    "duration": 227,
    "start_time": "2023-09-02T21:06:32.396Z"
   },
   {
    "duration": 37,
    "start_time": "2023-09-02T21:06:32.625Z"
   },
   {
    "duration": 367,
    "start_time": "2023-09-02T21:06:32.664Z"
   },
   {
    "duration": 3,
    "start_time": "2023-09-02T21:06:33.034Z"
   },
   {
    "duration": 21,
    "start_time": "2023-09-02T21:06:33.039Z"
   },
   {
    "duration": 421,
    "start_time": "2023-09-02T21:06:33.062Z"
   },
   {
    "duration": 339,
    "start_time": "2023-09-02T21:06:33.492Z"
   },
   {
    "duration": 133,
    "start_time": "2023-09-02T21:06:33.833Z"
   },
   {
    "duration": 67,
    "start_time": "2023-09-02T21:06:33.968Z"
   },
   {
    "duration": 293,
    "start_time": "2023-09-02T21:06:34.037Z"
   },
   {
    "duration": 28,
    "start_time": "2023-09-02T21:06:34.332Z"
   },
   {
    "duration": 161,
    "start_time": "2023-09-02T21:07:26.057Z"
   },
   {
    "duration": 228,
    "start_time": "2023-09-02T21:07:39.963Z"
   },
   {
    "duration": 275,
    "start_time": "2023-09-02T21:07:56.117Z"
   },
   {
    "duration": 181,
    "start_time": "2023-09-02T21:08:36.527Z"
   },
   {
    "duration": 1272,
    "start_time": "2023-09-02T21:09:38.402Z"
   },
   {
    "duration": 88,
    "start_time": "2023-09-02T21:09:39.676Z"
   },
   {
    "duration": 38,
    "start_time": "2023-09-02T21:09:39.767Z"
   },
   {
    "duration": 18,
    "start_time": "2023-09-02T21:09:39.807Z"
   },
   {
    "duration": 7,
    "start_time": "2023-09-02T21:09:39.829Z"
   },
   {
    "duration": 49,
    "start_time": "2023-09-02T21:09:39.838Z"
   },
   {
    "duration": 28,
    "start_time": "2023-09-02T21:09:39.896Z"
   },
   {
    "duration": 19,
    "start_time": "2023-09-02T21:09:39.928Z"
   },
   {
    "duration": 19,
    "start_time": "2023-09-02T21:09:39.949Z"
   },
   {
    "duration": 13,
    "start_time": "2023-09-02T21:09:39.972Z"
   },
   {
    "duration": 39,
    "start_time": "2023-09-02T21:09:39.987Z"
   },
   {
    "duration": 33,
    "start_time": "2023-09-02T21:09:40.028Z"
   },
   {
    "duration": 5,
    "start_time": "2023-09-02T21:09:40.064Z"
   },
   {
    "duration": 228,
    "start_time": "2023-09-02T21:09:40.071Z"
   },
   {
    "duration": 25,
    "start_time": "2023-09-02T21:09:40.301Z"
   },
   {
    "duration": 330,
    "start_time": "2023-09-02T21:09:40.328Z"
   },
   {
    "duration": 4,
    "start_time": "2023-09-02T21:09:40.660Z"
   },
   {
    "duration": 24,
    "start_time": "2023-09-02T21:09:40.666Z"
   },
   {
    "duration": 361,
    "start_time": "2023-09-02T21:09:40.692Z"
   },
   {
    "duration": 346,
    "start_time": "2023-09-02T21:09:41.055Z"
   },
   {
    "duration": 131,
    "start_time": "2023-09-02T21:09:41.403Z"
   },
   {
    "duration": 58,
    "start_time": "2023-09-02T21:09:41.536Z"
   },
   {
    "duration": 300,
    "start_time": "2023-09-02T21:09:41.596Z"
   },
   {
    "duration": 161,
    "start_time": "2023-09-02T21:09:41.898Z"
   },
   {
    "duration": 236,
    "start_time": "2023-09-02T21:09:53.562Z"
   },
   {
    "duration": 252,
    "start_time": "2023-09-02T21:10:33.762Z"
   },
   {
    "duration": 360,
    "start_time": "2023-09-02T21:10:43.311Z"
   },
   {
    "duration": 305,
    "start_time": "2023-09-02T21:10:58.668Z"
   },
   {
    "duration": 148,
    "start_time": "2023-09-02T21:11:11.362Z"
   },
   {
    "duration": 174,
    "start_time": "2023-09-02T21:11:23.701Z"
   },
   {
    "duration": 138,
    "start_time": "2023-09-02T21:11:35.727Z"
   },
   {
    "duration": 140,
    "start_time": "2023-09-02T21:13:03.713Z"
   },
   {
    "duration": 1280,
    "start_time": "2023-09-02T21:20:53.507Z"
   },
   {
    "duration": 125,
    "start_time": "2023-09-02T21:20:54.792Z"
   },
   {
    "duration": 32,
    "start_time": "2023-09-02T21:20:54.920Z"
   },
   {
    "duration": 9,
    "start_time": "2023-09-02T21:20:54.954Z"
   },
   {
    "duration": 29,
    "start_time": "2023-09-02T21:20:54.966Z"
   },
   {
    "duration": 7,
    "start_time": "2023-09-02T21:20:55.001Z"
   },
   {
    "duration": 18,
    "start_time": "2023-09-02T21:20:55.010Z"
   },
   {
    "duration": 10,
    "start_time": "2023-09-02T21:20:55.030Z"
   },
   {
    "duration": 7,
    "start_time": "2023-09-02T21:20:55.041Z"
   },
   {
    "duration": 41,
    "start_time": "2023-09-02T21:20:55.050Z"
   },
   {
    "duration": 7,
    "start_time": "2023-09-02T21:20:55.092Z"
   },
   {
    "duration": 26,
    "start_time": "2023-09-02T21:20:55.102Z"
   },
   {
    "duration": 7,
    "start_time": "2023-09-02T21:20:55.130Z"
   },
   {
    "duration": 212,
    "start_time": "2023-09-02T21:20:55.141Z"
   },
   {
    "duration": 45,
    "start_time": "2023-09-02T21:20:55.355Z"
   },
   {
    "duration": 311,
    "start_time": "2023-09-02T21:20:55.402Z"
   },
   {
    "duration": 3,
    "start_time": "2023-09-02T21:20:55.715Z"
   },
   {
    "duration": 33,
    "start_time": "2023-09-02T21:20:55.719Z"
   },
   {
    "duration": 371,
    "start_time": "2023-09-02T21:20:55.754Z"
   },
   {
    "duration": 325,
    "start_time": "2023-09-02T21:20:56.127Z"
   },
   {
    "duration": 159,
    "start_time": "2023-09-02T21:20:56.454Z"
   },
   {
    "duration": 77,
    "start_time": "2023-09-02T21:20:56.616Z"
   },
   {
    "duration": 307,
    "start_time": "2023-09-02T21:20:56.700Z"
   },
   {
    "duration": 160,
    "start_time": "2023-09-02T21:20:57.009Z"
   },
   {
    "duration": 249,
    "start_time": "2023-09-02T21:20:57.172Z"
   },
   {
    "duration": 120,
    "start_time": "2023-09-02T21:20:57.423Z"
   },
   {
    "duration": 357,
    "start_time": "2023-09-02T21:21:40.302Z"
   },
   {
    "duration": 832,
    "start_time": "2023-09-02T21:22:55.861Z"
   },
   {
    "duration": 811,
    "start_time": "2023-09-02T21:23:04.147Z"
   },
   {
    "duration": 1634,
    "start_time": "2023-09-02T21:25:20.612Z"
   },
   {
    "duration": 1586,
    "start_time": "2023-09-02T21:25:54.762Z"
   },
   {
    "duration": 1237,
    "start_time": "2023-09-02T21:26:48.332Z"
   },
   {
    "duration": 131,
    "start_time": "2023-09-02T21:26:49.571Z"
   },
   {
    "duration": 34,
    "start_time": "2023-09-02T21:26:49.705Z"
   },
   {
    "duration": 11,
    "start_time": "2023-09-02T21:26:49.741Z"
   },
   {
    "duration": 10,
    "start_time": "2023-09-02T21:26:49.754Z"
   },
   {
    "duration": 33,
    "start_time": "2023-09-02T21:26:49.766Z"
   },
   {
    "duration": 39,
    "start_time": "2023-09-02T21:26:49.802Z"
   },
   {
    "duration": 41,
    "start_time": "2023-09-02T21:26:49.844Z"
   },
   {
    "duration": 10,
    "start_time": "2023-09-02T21:26:49.890Z"
   },
   {
    "duration": 12,
    "start_time": "2023-09-02T21:26:49.902Z"
   },
   {
    "duration": 8,
    "start_time": "2023-09-02T21:26:49.916Z"
   },
   {
    "duration": 28,
    "start_time": "2023-09-02T21:26:49.927Z"
   },
   {
    "duration": 40,
    "start_time": "2023-09-02T21:26:49.957Z"
   },
   {
    "duration": 201,
    "start_time": "2023-09-02T21:26:50.002Z"
   },
   {
    "duration": 24,
    "start_time": "2023-09-02T21:26:50.205Z"
   },
   {
    "duration": 345,
    "start_time": "2023-09-02T21:26:50.231Z"
   },
   {
    "duration": 12,
    "start_time": "2023-09-02T21:26:50.578Z"
   },
   {
    "duration": 22,
    "start_time": "2023-09-02T21:26:50.594Z"
   },
   {
    "duration": 382,
    "start_time": "2023-09-02T21:26:50.617Z"
   },
   {
    "duration": 330,
    "start_time": "2023-09-02T21:26:51.001Z"
   },
   {
    "duration": 168,
    "start_time": "2023-09-02T21:26:51.333Z"
   },
   {
    "duration": 40,
    "start_time": "2023-09-02T21:26:51.502Z"
   },
   {
    "duration": 282,
    "start_time": "2023-09-02T21:26:51.544Z"
   },
   {
    "duration": 165,
    "start_time": "2023-09-02T21:26:51.828Z"
   },
   {
    "duration": 227,
    "start_time": "2023-09-02T21:26:51.995Z"
   },
   {
    "duration": 797,
    "start_time": "2023-09-02T21:26:52.224Z"
   },
   {
    "duration": 1599,
    "start_time": "2023-09-02T21:26:53.023Z"
   },
   {
    "duration": 319,
    "start_time": "2023-09-02T21:27:05.021Z"
   },
   {
    "duration": 358,
    "start_time": "2023-09-02T21:27:16.501Z"
   },
   {
    "duration": 304,
    "start_time": "2023-09-02T21:27:21.432Z"
   },
   {
    "duration": 275,
    "start_time": "2023-09-02T21:27:44.694Z"
   },
   {
    "duration": 310,
    "start_time": "2023-09-02T21:28:09.656Z"
   },
   {
    "duration": 9,
    "start_time": "2023-09-02T21:34:49.106Z"
   },
   {
    "duration": 11,
    "start_time": "2023-09-02T21:35:34.665Z"
   },
   {
    "duration": 13,
    "start_time": "2023-09-02T21:36:02.236Z"
   },
   {
    "duration": 1296,
    "start_time": "2023-09-02T21:37:13.011Z"
   },
   {
    "duration": 92,
    "start_time": "2023-09-02T21:37:14.309Z"
   },
   {
    "duration": 24,
    "start_time": "2023-09-02T21:37:14.403Z"
   },
   {
    "duration": 12,
    "start_time": "2023-09-02T21:37:14.429Z"
   },
   {
    "duration": 7,
    "start_time": "2023-09-02T21:37:14.444Z"
   },
   {
    "duration": 45,
    "start_time": "2023-09-02T21:37:14.453Z"
   },
   {
    "duration": 15,
    "start_time": "2023-09-02T21:37:14.500Z"
   },
   {
    "duration": 11,
    "start_time": "2023-09-02T21:37:14.516Z"
   },
   {
    "duration": 8,
    "start_time": "2023-09-02T21:37:14.530Z"
   },
   {
    "duration": 51,
    "start_time": "2023-09-02T21:37:14.540Z"
   },
   {
    "duration": 13,
    "start_time": "2023-09-02T21:37:14.593Z"
   },
   {
    "duration": 22,
    "start_time": "2023-09-02T21:37:14.608Z"
   },
   {
    "duration": 5,
    "start_time": "2023-09-02T21:37:14.632Z"
   },
   {
    "duration": 201,
    "start_time": "2023-09-02T21:37:14.640Z"
   },
   {
    "duration": 25,
    "start_time": "2023-09-02T21:37:14.843Z"
   },
   {
    "duration": 339,
    "start_time": "2023-09-02T21:37:14.887Z"
   },
   {
    "duration": 4,
    "start_time": "2023-09-02T21:37:15.228Z"
   },
   {
    "duration": 18,
    "start_time": "2023-09-02T21:37:15.233Z"
   },
   {
    "duration": 400,
    "start_time": "2023-09-02T21:37:15.253Z"
   },
   {
    "duration": 347,
    "start_time": "2023-09-02T21:37:15.656Z"
   },
   {
    "duration": 130,
    "start_time": "2023-09-02T21:37:16.005Z"
   },
   {
    "duration": 50,
    "start_time": "2023-09-02T21:37:16.136Z"
   },
   {
    "duration": 280,
    "start_time": "2023-09-02T21:37:16.193Z"
   },
   {
    "duration": 162,
    "start_time": "2023-09-02T21:37:16.476Z"
   },
   {
    "duration": 289,
    "start_time": "2023-09-02T21:37:16.641Z"
   },
   {
    "duration": 851,
    "start_time": "2023-09-02T21:37:16.933Z"
   },
   {
    "duration": 279,
    "start_time": "2023-09-02T21:37:17.792Z"
   },
   {
    "duration": 126,
    "start_time": "2023-09-02T21:37:18.073Z"
   },
   {
    "duration": 11,
    "start_time": "2023-09-02T21:38:47.252Z"
   },
   {
    "duration": 10,
    "start_time": "2023-09-02T21:38:54.807Z"
   },
   {
    "duration": 10,
    "start_time": "2023-09-02T21:39:07.346Z"
   },
   {
    "duration": 12,
    "start_time": "2023-09-02T21:39:16.390Z"
   },
   {
    "duration": 4,
    "start_time": "2023-09-02T21:39:29.642Z"
   },
   {
    "duration": 11,
    "start_time": "2023-09-02T21:39:58.716Z"
   },
   {
    "duration": 14,
    "start_time": "2023-09-02T21:40:09.012Z"
   },
   {
    "duration": 1652,
    "start_time": "2023-09-02T21:41:38.752Z"
   },
   {
    "duration": 1834,
    "start_time": "2023-09-02T21:43:35.294Z"
   },
   {
    "duration": 1261,
    "start_time": "2023-09-03T06:42:22.575Z"
   },
   {
    "duration": 159,
    "start_time": "2023-09-03T06:42:23.839Z"
   },
   {
    "duration": 18,
    "start_time": "2023-09-03T06:42:23.999Z"
   },
   {
    "duration": 29,
    "start_time": "2023-09-03T06:42:24.019Z"
   },
   {
    "duration": 22,
    "start_time": "2023-09-03T06:42:24.056Z"
   },
   {
    "duration": 15,
    "start_time": "2023-09-03T06:42:24.079Z"
   },
   {
    "duration": 16,
    "start_time": "2023-09-03T06:42:24.095Z"
   },
   {
    "duration": 33,
    "start_time": "2023-09-03T06:42:24.112Z"
   },
   {
    "duration": 30,
    "start_time": "2023-09-03T06:42:24.147Z"
   },
   {
    "duration": 16,
    "start_time": "2023-09-03T06:42:24.179Z"
   },
   {
    "duration": 30,
    "start_time": "2023-09-03T06:42:24.196Z"
   },
   {
    "duration": 17,
    "start_time": "2023-09-03T06:42:24.228Z"
   },
   {
    "duration": 10,
    "start_time": "2023-09-03T06:42:24.246Z"
   },
   {
    "duration": 151,
    "start_time": "2023-09-03T06:42:24.259Z"
   },
   {
    "duration": 22,
    "start_time": "2023-09-03T06:42:24.411Z"
   },
   {
    "duration": 278,
    "start_time": "2023-09-03T06:42:24.435Z"
   },
   {
    "duration": 3,
    "start_time": "2023-09-03T06:42:24.714Z"
   },
   {
    "duration": 40,
    "start_time": "2023-09-03T06:42:24.718Z"
   },
   {
    "duration": 305,
    "start_time": "2023-09-03T06:42:24.759Z"
   },
   {
    "duration": 274,
    "start_time": "2023-09-03T06:42:25.067Z"
   },
   {
    "duration": 103,
    "start_time": "2023-09-03T06:42:25.342Z"
   },
   {
    "duration": 47,
    "start_time": "2023-09-03T06:42:25.455Z"
   },
   {
    "duration": 273,
    "start_time": "2023-09-03T06:42:25.504Z"
   },
   {
    "duration": 133,
    "start_time": "2023-09-03T06:42:25.778Z"
   },
   {
    "duration": 211,
    "start_time": "2023-09-03T06:42:25.914Z"
   },
   {
    "duration": 736,
    "start_time": "2023-09-03T06:42:26.127Z"
   },
   {
    "duration": 248,
    "start_time": "2023-09-03T06:42:26.864Z"
   },
   {
    "duration": 4,
    "start_time": "2023-09-03T06:42:27.113Z"
   },
   {
    "duration": 1518,
    "start_time": "2023-09-03T06:42:27.118Z"
   },
   {
    "duration": 108,
    "start_time": "2023-09-03T06:43:02.432Z"
   },
   {
    "duration": 2830,
    "start_time": "2023-09-03T06:45:25.910Z"
   },
   {
    "duration": 3322,
    "start_time": "2023-09-03T06:48:20.281Z"
   },
   {
    "duration": 14,
    "start_time": "2023-09-03T06:48:30.848Z"
   },
   {
    "duration": 2801,
    "start_time": "2023-09-03T06:50:01.461Z"
   },
   {
    "duration": 2887,
    "start_time": "2023-09-03T06:50:13.476Z"
   },
   {
    "duration": 2623,
    "start_time": "2023-09-03T06:51:23.998Z"
   },
   {
    "duration": 39,
    "start_time": "2023-09-03T07:00:37.689Z"
   },
   {
    "duration": 37,
    "start_time": "2023-09-03T07:02:10.682Z"
   },
   {
    "duration": 604,
    "start_time": "2023-09-03T07:02:15.594Z"
   },
   {
    "duration": 53,
    "start_time": "2023-09-03T07:02:35.243Z"
   },
   {
    "duration": 8,
    "start_time": "2023-09-03T07:05:42.114Z"
   },
   {
    "duration": 1118,
    "start_time": "2023-09-03T07:06:04.076Z"
   },
   {
    "duration": 82,
    "start_time": "2023-09-03T07:06:05.196Z"
   },
   {
    "duration": 21,
    "start_time": "2023-09-03T07:06:05.280Z"
   },
   {
    "duration": 19,
    "start_time": "2023-09-03T07:06:05.302Z"
   },
   {
    "duration": 7,
    "start_time": "2023-09-03T07:06:05.323Z"
   },
   {
    "duration": 19,
    "start_time": "2023-09-03T07:06:05.332Z"
   },
   {
    "duration": 19,
    "start_time": "2023-09-03T07:06:05.353Z"
   },
   {
    "duration": 9,
    "start_time": "2023-09-03T07:06:05.374Z"
   },
   {
    "duration": 6,
    "start_time": "2023-09-03T07:06:05.385Z"
   },
   {
    "duration": 12,
    "start_time": "2023-09-03T07:06:05.392Z"
   },
   {
    "duration": 10,
    "start_time": "2023-09-03T07:06:05.406Z"
   },
   {
    "duration": 45,
    "start_time": "2023-09-03T07:06:05.418Z"
   },
   {
    "duration": 4,
    "start_time": "2023-09-03T07:06:05.466Z"
   },
   {
    "duration": 196,
    "start_time": "2023-09-03T07:06:05.473Z"
   },
   {
    "duration": 22,
    "start_time": "2023-09-03T07:06:05.670Z"
   },
   {
    "duration": 309,
    "start_time": "2023-09-03T07:06:05.694Z"
   },
   {
    "duration": 4,
    "start_time": "2023-09-03T07:06:06.006Z"
   },
   {
    "duration": 24,
    "start_time": "2023-09-03T07:06:06.012Z"
   },
   {
    "duration": 398,
    "start_time": "2023-09-03T07:06:06.038Z"
   },
   {
    "duration": 327,
    "start_time": "2023-09-03T07:06:06.438Z"
   },
   {
    "duration": 109,
    "start_time": "2023-09-03T07:06:06.766Z"
   },
   {
    "duration": 35,
    "start_time": "2023-09-03T07:06:06.880Z"
   },
   {
    "duration": 264,
    "start_time": "2023-09-03T07:06:06.916Z"
   },
   {
    "duration": 132,
    "start_time": "2023-09-03T07:06:07.181Z"
   },
   {
    "duration": 212,
    "start_time": "2023-09-03T07:06:07.315Z"
   },
   {
    "duration": 789,
    "start_time": "2023-09-03T07:06:07.528Z"
   },
   {
    "duration": 295,
    "start_time": "2023-09-03T07:06:08.319Z"
   },
   {
    "duration": 5,
    "start_time": "2023-09-03T07:06:08.616Z"
   },
   {
    "duration": 2884,
    "start_time": "2023-09-03T07:06:08.622Z"
   },
   {
    "duration": 19569,
    "start_time": "2023-09-03T07:06:11.508Z"
   },
   {
    "duration": 56,
    "start_time": "2023-09-03T07:07:15.436Z"
   },
   {
    "duration": 1111,
    "start_time": "2023-09-03T07:07:20.305Z"
   },
   {
    "duration": 158,
    "start_time": "2023-09-03T07:07:21.418Z"
   },
   {
    "duration": 20,
    "start_time": "2023-09-03T07:07:21.578Z"
   },
   {
    "duration": 7,
    "start_time": "2023-09-03T07:07:21.600Z"
   },
   {
    "duration": 16,
    "start_time": "2023-09-03T07:07:21.608Z"
   },
   {
    "duration": 16,
    "start_time": "2023-09-03T07:07:21.625Z"
   },
   {
    "duration": 37,
    "start_time": "2023-09-03T07:07:21.642Z"
   },
   {
    "duration": 8,
    "start_time": "2023-09-03T07:07:21.681Z"
   },
   {
    "duration": 13,
    "start_time": "2023-09-03T07:07:21.690Z"
   },
   {
    "duration": 25,
    "start_time": "2023-09-03T07:07:21.705Z"
   },
   {
    "duration": 6,
    "start_time": "2023-09-03T07:07:21.732Z"
   },
   {
    "duration": 40,
    "start_time": "2023-09-03T07:07:21.739Z"
   },
   {
    "duration": 4,
    "start_time": "2023-09-03T07:07:21.781Z"
   },
   {
    "duration": 191,
    "start_time": "2023-09-03T07:07:21.787Z"
   },
   {
    "duration": 24,
    "start_time": "2023-09-03T07:07:21.981Z"
   },
   {
    "duration": 294,
    "start_time": "2023-09-03T07:07:22.007Z"
   },
   {
    "duration": 3,
    "start_time": "2023-09-03T07:07:22.303Z"
   },
   {
    "duration": 29,
    "start_time": "2023-09-03T07:07:22.307Z"
   },
   {
    "duration": 342,
    "start_time": "2023-09-03T07:07:22.338Z"
   },
   {
    "duration": 294,
    "start_time": "2023-09-03T07:07:22.682Z"
   },
   {
    "duration": 109,
    "start_time": "2023-09-03T07:07:22.979Z"
   },
   {
    "duration": 33,
    "start_time": "2023-09-03T07:07:23.089Z"
   },
   {
    "duration": 259,
    "start_time": "2023-09-03T07:07:23.124Z"
   },
   {
    "duration": 130,
    "start_time": "2023-09-03T07:07:23.384Z"
   },
   {
    "duration": 212,
    "start_time": "2023-09-03T07:07:23.515Z"
   },
   {
    "duration": 717,
    "start_time": "2023-09-03T07:07:23.728Z"
   },
   {
    "duration": 287,
    "start_time": "2023-09-03T07:07:24.446Z"
   },
   {
    "duration": 18,
    "start_time": "2023-09-03T07:07:24.736Z"
   },
   {
    "duration": 2748,
    "start_time": "2023-09-03T07:07:24.760Z"
   },
   {
    "duration": 7,
    "start_time": "2023-09-03T07:07:27.509Z"
   },
   {
    "duration": 181,
    "start_time": "2023-09-03T07:07:45.576Z"
   },
   {
    "duration": 41,
    "start_time": "2023-09-03T07:08:03.676Z"
   },
   {
    "duration": 4262,
    "start_time": "2023-09-03T07:08:15.734Z"
   },
   {
    "duration": 39,
    "start_time": "2023-09-03T07:08:32.081Z"
   },
   {
    "duration": 43,
    "start_time": "2023-09-03T07:08:44.649Z"
   },
   {
    "duration": 140,
    "start_time": "2023-09-03T07:09:00.199Z"
   },
   {
    "duration": 1161,
    "start_time": "2023-09-03T07:09:10.339Z"
   },
   {
    "duration": 87,
    "start_time": "2023-09-03T07:09:11.502Z"
   },
   {
    "duration": 19,
    "start_time": "2023-09-03T07:09:11.590Z"
   },
   {
    "duration": 10,
    "start_time": "2023-09-03T07:09:11.610Z"
   },
   {
    "duration": 15,
    "start_time": "2023-09-03T07:09:11.621Z"
   },
   {
    "duration": 20,
    "start_time": "2023-09-03T07:09:11.637Z"
   },
   {
    "duration": 27,
    "start_time": "2023-09-03T07:09:11.658Z"
   },
   {
    "duration": 10,
    "start_time": "2023-09-03T07:09:11.686Z"
   },
   {
    "duration": 6,
    "start_time": "2023-09-03T07:09:11.698Z"
   },
   {
    "duration": 16,
    "start_time": "2023-09-03T07:09:11.705Z"
   },
   {
    "duration": 5,
    "start_time": "2023-09-03T07:09:11.722Z"
   },
   {
    "duration": 23,
    "start_time": "2023-09-03T07:09:11.729Z"
   },
   {
    "duration": 7,
    "start_time": "2023-09-03T07:09:11.753Z"
   },
   {
    "duration": 160,
    "start_time": "2023-09-03T07:09:11.766Z"
   },
   {
    "duration": 32,
    "start_time": "2023-09-03T07:09:11.928Z"
   },
   {
    "duration": 270,
    "start_time": "2023-09-03T07:09:11.962Z"
   },
   {
    "duration": 3,
    "start_time": "2023-09-03T07:09:12.233Z"
   },
   {
    "duration": 43,
    "start_time": "2023-09-03T07:09:12.237Z"
   },
   {
    "duration": 319,
    "start_time": "2023-09-03T07:09:12.281Z"
   },
   {
    "duration": 285,
    "start_time": "2023-09-03T07:09:12.602Z"
   },
   {
    "duration": 106,
    "start_time": "2023-09-03T07:09:12.888Z"
   },
   {
    "duration": 33,
    "start_time": "2023-09-03T07:09:12.995Z"
   },
   {
    "duration": 259,
    "start_time": "2023-09-03T07:09:13.029Z"
   },
   {
    "duration": 126,
    "start_time": "2023-09-03T07:09:13.289Z"
   },
   {
    "duration": 209,
    "start_time": "2023-09-03T07:09:13.417Z"
   },
   {
    "duration": 734,
    "start_time": "2023-09-03T07:09:13.627Z"
   },
   {
    "duration": 256,
    "start_time": "2023-09-03T07:09:14.362Z"
   },
   {
    "duration": 4,
    "start_time": "2023-09-03T07:09:14.619Z"
   },
   {
    "duration": 2957,
    "start_time": "2023-09-03T07:09:14.624Z"
   },
   {
    "duration": 35,
    "start_time": "2023-09-03T07:09:17.583Z"
   },
   {
    "duration": 115,
    "start_time": "2023-09-03T07:09:34.800Z"
   },
   {
    "duration": 38,
    "start_time": "2023-09-03T07:09:42.578Z"
   },
   {
    "duration": 118,
    "start_time": "2023-09-03T07:10:38.325Z"
   },
   {
    "duration": 22,
    "start_time": "2023-09-03T07:11:05.807Z"
   },
   {
    "duration": 34,
    "start_time": "2023-09-03T07:11:27.334Z"
   },
   {
    "duration": 32,
    "start_time": "2023-09-03T07:11:54.105Z"
   },
   {
    "duration": 29,
    "start_time": "2023-09-03T07:12:06.381Z"
   },
   {
    "duration": 10,
    "start_time": "2023-09-03T07:13:07.289Z"
   },
   {
    "duration": 15,
    "start_time": "2023-09-03T07:13:16.339Z"
   },
   {
    "duration": 1069,
    "start_time": "2023-09-03T07:15:52.806Z"
   },
   {
    "duration": 88,
    "start_time": "2023-09-03T07:15:53.877Z"
   },
   {
    "duration": 20,
    "start_time": "2023-09-03T07:15:53.978Z"
   },
   {
    "duration": 14,
    "start_time": "2023-09-03T07:15:53.999Z"
   },
   {
    "duration": 5,
    "start_time": "2023-09-03T07:15:54.015Z"
   },
   {
    "duration": 7,
    "start_time": "2023-09-03T07:15:54.022Z"
   },
   {
    "duration": 14,
    "start_time": "2023-09-03T07:15:54.030Z"
   },
   {
    "duration": 16,
    "start_time": "2023-09-03T07:15:54.046Z"
   },
   {
    "duration": 21,
    "start_time": "2023-09-03T07:15:54.064Z"
   },
   {
    "duration": 10,
    "start_time": "2023-09-03T07:15:54.087Z"
   },
   {
    "duration": 6,
    "start_time": "2023-09-03T07:15:54.099Z"
   },
   {
    "duration": 24,
    "start_time": "2023-09-03T07:15:54.106Z"
   },
   {
    "duration": 5,
    "start_time": "2023-09-03T07:15:54.131Z"
   },
   {
    "duration": 166,
    "start_time": "2023-09-03T07:15:54.138Z"
   },
   {
    "duration": 21,
    "start_time": "2023-09-03T07:15:54.305Z"
   },
   {
    "duration": 287,
    "start_time": "2023-09-03T07:15:54.328Z"
   },
   {
    "duration": 2,
    "start_time": "2023-09-03T07:15:54.617Z"
   },
   {
    "duration": 28,
    "start_time": "2023-09-03T07:15:54.621Z"
   },
   {
    "duration": 312,
    "start_time": "2023-09-03T07:15:54.652Z"
   },
   {
    "duration": 275,
    "start_time": "2023-09-03T07:15:54.966Z"
   },
   {
    "duration": 100,
    "start_time": "2023-09-03T07:15:55.242Z"
   },
   {
    "duration": 44,
    "start_time": "2023-09-03T07:15:55.344Z"
   },
   {
    "duration": 228,
    "start_time": "2023-09-03T07:15:55.389Z"
   },
   {
    "duration": 147,
    "start_time": "2023-09-03T07:15:55.619Z"
   },
   {
    "duration": 232,
    "start_time": "2023-09-03T07:15:55.768Z"
   },
   {
    "duration": 796,
    "start_time": "2023-09-03T07:15:56.002Z"
   },
   {
    "duration": 273,
    "start_time": "2023-09-03T07:15:56.800Z"
   },
   {
    "duration": 5,
    "start_time": "2023-09-03T07:15:57.076Z"
   },
   {
    "duration": 2755,
    "start_time": "2023-09-03T07:15:57.083Z"
   },
   {
    "duration": 123,
    "start_time": "2023-09-03T07:15:59.840Z"
   },
   {
    "duration": 243,
    "start_time": "2023-09-03T07:16:17.370Z"
   },
   {
    "duration": 19,
    "start_time": "2023-09-03T07:16:32.077Z"
   },
   {
    "duration": 106,
    "start_time": "2023-09-03T07:16:49.693Z"
   },
   {
    "duration": 154,
    "start_time": "2023-09-03T07:17:09.039Z"
   },
   {
    "duration": 9,
    "start_time": "2023-09-03T07:18:04.978Z"
   },
   {
    "duration": 226,
    "start_time": "2023-09-03T07:19:26.790Z"
   },
   {
    "duration": 227,
    "start_time": "2023-09-03T07:19:57.552Z"
   },
   {
    "duration": 14,
    "start_time": "2023-09-03T07:20:48.581Z"
   },
   {
    "duration": 1136,
    "start_time": "2023-09-03T07:21:54.991Z"
   },
   {
    "duration": 113,
    "start_time": "2023-09-03T07:21:56.130Z"
   },
   {
    "duration": 40,
    "start_time": "2023-09-03T07:21:56.246Z"
   },
   {
    "duration": 10,
    "start_time": "2023-09-03T07:21:56.290Z"
   },
   {
    "duration": 20,
    "start_time": "2023-09-03T07:21:56.302Z"
   },
   {
    "duration": 31,
    "start_time": "2023-09-03T07:21:56.324Z"
   },
   {
    "duration": 25,
    "start_time": "2023-09-03T07:21:56.357Z"
   },
   {
    "duration": 15,
    "start_time": "2023-09-03T07:21:56.383Z"
   },
   {
    "duration": 9,
    "start_time": "2023-09-03T07:21:56.400Z"
   },
   {
    "duration": 14,
    "start_time": "2023-09-03T07:21:56.411Z"
   },
   {
    "duration": 29,
    "start_time": "2023-09-03T07:21:56.427Z"
   },
   {
    "duration": 30,
    "start_time": "2023-09-03T07:21:56.458Z"
   },
   {
    "duration": 6,
    "start_time": "2023-09-03T07:21:56.490Z"
   },
   {
    "duration": 198,
    "start_time": "2023-09-03T07:21:56.505Z"
   },
   {
    "duration": 20,
    "start_time": "2023-09-03T07:21:56.705Z"
   },
   {
    "duration": 306,
    "start_time": "2023-09-03T07:21:56.727Z"
   },
   {
    "duration": 2,
    "start_time": "2023-09-03T07:21:57.035Z"
   },
   {
    "duration": 45,
    "start_time": "2023-09-03T07:21:57.039Z"
   },
   {
    "duration": 331,
    "start_time": "2023-09-03T07:21:57.085Z"
   },
   {
    "duration": 307,
    "start_time": "2023-09-03T07:21:57.418Z"
   },
   {
    "duration": 119,
    "start_time": "2023-09-03T07:21:57.727Z"
   },
   {
    "duration": 50,
    "start_time": "2023-09-03T07:21:57.851Z"
   },
   {
    "duration": 254,
    "start_time": "2023-09-03T07:21:57.902Z"
   },
   {
    "duration": 139,
    "start_time": "2023-09-03T07:21:58.158Z"
   },
   {
    "duration": 199,
    "start_time": "2023-09-03T07:21:58.299Z"
   },
   {
    "duration": 705,
    "start_time": "2023-09-03T07:21:58.500Z"
   },
   {
    "duration": 209,
    "start_time": "2023-09-03T07:21:59.207Z"
   },
   {
    "duration": 37,
    "start_time": "2023-09-03T07:21:59.418Z"
   },
   {
    "duration": 2725,
    "start_time": "2023-09-03T07:21:59.460Z"
   },
   {
    "duration": 117,
    "start_time": "2023-09-03T07:22:02.187Z"
   },
   {
    "duration": 18,
    "start_time": "2023-09-03T07:22:28.781Z"
   },
   {
    "duration": 351,
    "start_time": "2023-09-03T07:22:38.582Z"
   },
   {
    "duration": 16,
    "start_time": "2023-09-03T07:22:53.812Z"
   },
   {
    "duration": 12,
    "start_time": "2023-09-03T07:23:03.709Z"
   },
   {
    "duration": 299,
    "start_time": "2023-09-03T07:23:11.642Z"
   },
   {
    "duration": 9,
    "start_time": "2023-09-03T07:23:23.186Z"
   },
   {
    "duration": 14,
    "start_time": "2023-09-03T07:23:29.871Z"
   },
   {
    "duration": 132,
    "start_time": "2023-09-03T07:23:53.133Z"
   },
   {
    "duration": 3207,
    "start_time": "2023-09-03T07:24:01.429Z"
   },
   {
    "duration": 14,
    "start_time": "2023-09-03T07:24:10.340Z"
   },
   {
    "duration": 209,
    "start_time": "2023-09-03T07:24:43.640Z"
   },
   {
    "duration": 213,
    "start_time": "2023-09-03T07:24:48.947Z"
   },
   {
    "duration": 1114,
    "start_time": "2023-09-03T07:33:01.049Z"
   },
   {
    "duration": 80,
    "start_time": "2023-09-03T07:33:02.165Z"
   },
   {
    "duration": 33,
    "start_time": "2023-09-03T07:33:02.246Z"
   },
   {
    "duration": 17,
    "start_time": "2023-09-03T07:33:02.280Z"
   },
   {
    "duration": 17,
    "start_time": "2023-09-03T07:33:02.300Z"
   },
   {
    "duration": 45,
    "start_time": "2023-09-03T07:33:02.318Z"
   },
   {
    "duration": 34,
    "start_time": "2023-09-03T07:33:02.365Z"
   },
   {
    "duration": 31,
    "start_time": "2023-09-03T07:33:02.401Z"
   },
   {
    "duration": 30,
    "start_time": "2023-09-03T07:33:02.433Z"
   },
   {
    "duration": 33,
    "start_time": "2023-09-03T07:33:02.465Z"
   },
   {
    "duration": 26,
    "start_time": "2023-09-03T07:33:02.499Z"
   },
   {
    "duration": 47,
    "start_time": "2023-09-03T07:33:02.527Z"
   },
   {
    "duration": 17,
    "start_time": "2023-09-03T07:33:02.576Z"
   },
   {
    "duration": 172,
    "start_time": "2023-09-03T07:33:02.596Z"
   },
   {
    "duration": 20,
    "start_time": "2023-09-03T07:33:02.769Z"
   },
   {
    "duration": 273,
    "start_time": "2023-09-03T07:33:02.790Z"
   },
   {
    "duration": 3,
    "start_time": "2023-09-03T07:33:03.064Z"
   },
   {
    "duration": 64,
    "start_time": "2023-09-03T07:33:03.069Z"
   },
   {
    "duration": 362,
    "start_time": "2023-09-03T07:33:03.134Z"
   },
   {
    "duration": 268,
    "start_time": "2023-09-03T07:33:03.498Z"
   },
   {
    "duration": 95,
    "start_time": "2023-09-03T07:33:03.768Z"
   },
   {
    "duration": 34,
    "start_time": "2023-09-03T07:33:03.864Z"
   },
   {
    "duration": 225,
    "start_time": "2023-09-03T07:33:03.899Z"
   },
   {
    "duration": 141,
    "start_time": "2023-09-03T07:33:04.126Z"
   },
   {
    "duration": 186,
    "start_time": "2023-09-03T07:33:04.269Z"
   },
   {
    "duration": 653,
    "start_time": "2023-09-03T07:33:04.456Z"
   },
   {
    "duration": 290,
    "start_time": "2023-09-03T07:33:05.110Z"
   },
   {
    "duration": 4,
    "start_time": "2023-09-03T07:33:05.401Z"
   },
   {
    "duration": 2728,
    "start_time": "2023-09-03T07:33:05.407Z"
   },
   {
    "duration": 335,
    "start_time": "2023-09-03T07:33:08.137Z"
   },
   {
    "duration": 152,
    "start_time": "2023-09-03T07:33:38.064Z"
   },
   {
    "duration": 46,
    "start_time": "2023-09-03T07:33:51.002Z"
   },
   {
    "duration": 17,
    "start_time": "2023-09-03T07:34:01.481Z"
   },
   {
    "duration": 180,
    "start_time": "2023-09-03T07:34:13.122Z"
   },
   {
    "duration": 207,
    "start_time": "2023-09-03T07:34:48.369Z"
   },
   {
    "duration": 17,
    "start_time": "2023-09-03T07:35:05.473Z"
   },
   {
    "duration": 5,
    "start_time": "2023-09-03T07:35:52.561Z"
   },
   {
    "duration": 12,
    "start_time": "2023-09-03T07:36:11.237Z"
   },
   {
    "duration": 18,
    "start_time": "2023-09-03T07:36:22.347Z"
   },
   {
    "duration": 176,
    "start_time": "2023-09-03T07:36:46.587Z"
   },
   {
    "duration": 237,
    "start_time": "2023-09-03T07:37:01.469Z"
   },
   {
    "duration": 3319,
    "start_time": "2023-09-03T07:42:54.546Z"
   },
   {
    "duration": 6691,
    "start_time": "2023-09-03T07:43:47.286Z"
   },
   {
    "duration": 21,
    "start_time": "2023-09-03T07:44:06.770Z"
   },
   {
    "duration": 1567,
    "start_time": "2023-09-03T07:44:19.119Z"
   },
   {
    "duration": 2436,
    "start_time": "2023-09-03T07:44:26.578Z"
   },
   {
    "duration": 1172,
    "start_time": "2023-09-03T07:44:42.135Z"
   },
   {
    "duration": 1093,
    "start_time": "2023-09-03T07:44:48.861Z"
   },
   {
    "duration": 2707,
    "start_time": "2023-09-03T07:45:24.421Z"
   },
   {
    "duration": 1126,
    "start_time": "2023-09-03T07:45:30.445Z"
   },
   {
    "duration": 75,
    "start_time": "2023-09-03T07:45:31.573Z"
   },
   {
    "duration": 27,
    "start_time": "2023-09-03T07:45:31.651Z"
   },
   {
    "duration": 18,
    "start_time": "2023-09-03T07:45:31.680Z"
   },
   {
    "duration": 17,
    "start_time": "2023-09-03T07:45:31.700Z"
   },
   {
    "duration": 17,
    "start_time": "2023-09-03T07:45:31.719Z"
   },
   {
    "duration": 37,
    "start_time": "2023-09-03T07:45:31.737Z"
   },
   {
    "duration": 18,
    "start_time": "2023-09-03T07:45:31.775Z"
   },
   {
    "duration": 27,
    "start_time": "2023-09-03T07:45:31.795Z"
   },
   {
    "duration": 19,
    "start_time": "2023-09-03T07:45:31.823Z"
   },
   {
    "duration": 15,
    "start_time": "2023-09-03T07:45:31.844Z"
   },
   {
    "duration": 19,
    "start_time": "2023-09-03T07:45:31.861Z"
   },
   {
    "duration": 3,
    "start_time": "2023-09-03T07:45:31.881Z"
   },
   {
    "duration": 157,
    "start_time": "2023-09-03T07:45:31.887Z"
   },
   {
    "duration": 29,
    "start_time": "2023-09-03T07:45:32.045Z"
   },
   {
    "duration": 288,
    "start_time": "2023-09-03T07:45:32.076Z"
   },
   {
    "duration": 4,
    "start_time": "2023-09-03T07:45:32.367Z"
   },
   {
    "duration": 20,
    "start_time": "2023-09-03T07:45:32.373Z"
   },
   {
    "duration": 326,
    "start_time": "2023-09-03T07:45:32.394Z"
   },
   {
    "duration": 264,
    "start_time": "2023-09-03T07:45:32.722Z"
   },
   {
    "duration": 108,
    "start_time": "2023-09-03T07:45:32.988Z"
   },
   {
    "duration": 33,
    "start_time": "2023-09-03T07:45:33.098Z"
   },
   {
    "duration": 243,
    "start_time": "2023-09-03T07:45:33.132Z"
   },
   {
    "duration": 133,
    "start_time": "2023-09-03T07:45:33.377Z"
   },
   {
    "duration": 190,
    "start_time": "2023-09-03T07:45:33.512Z"
   },
   {
    "duration": 657,
    "start_time": "2023-09-03T07:45:33.703Z"
   },
   {
    "duration": 253,
    "start_time": "2023-09-03T07:45:34.364Z"
   },
   {
    "duration": 4,
    "start_time": "2023-09-03T07:45:34.619Z"
   },
   {
    "duration": 2794,
    "start_time": "2023-09-03T07:45:34.624Z"
   },
   {
    "duration": 340,
    "start_time": "2023-09-03T07:45:37.419Z"
   },
   {
    "duration": 604,
    "start_time": "2023-09-03T07:47:41.285Z"
   },
   {
    "duration": 1086,
    "start_time": "2023-09-03T07:54:01.272Z"
   },
   {
    "duration": 76,
    "start_time": "2023-09-03T07:54:02.359Z"
   },
   {
    "duration": 25,
    "start_time": "2023-09-03T07:54:02.437Z"
   },
   {
    "duration": 10,
    "start_time": "2023-09-03T07:54:02.464Z"
   },
   {
    "duration": 5,
    "start_time": "2023-09-03T07:54:02.476Z"
   },
   {
    "duration": 8,
    "start_time": "2023-09-03T07:54:02.483Z"
   },
   {
    "duration": 13,
    "start_time": "2023-09-03T07:54:02.492Z"
   },
   {
    "duration": 13,
    "start_time": "2023-09-03T07:54:02.506Z"
   },
   {
    "duration": 30,
    "start_time": "2023-09-03T07:54:02.520Z"
   },
   {
    "duration": 12,
    "start_time": "2023-09-03T07:54:02.551Z"
   },
   {
    "duration": 7,
    "start_time": "2023-09-03T07:54:02.564Z"
   },
   {
    "duration": 22,
    "start_time": "2023-09-03T07:54:02.572Z"
   },
   {
    "duration": 5,
    "start_time": "2023-09-03T07:54:02.596Z"
   },
   {
    "duration": 156,
    "start_time": "2023-09-03T07:54:02.604Z"
   },
   {
    "duration": 21,
    "start_time": "2023-09-03T07:54:02.762Z"
   },
   {
    "duration": 266,
    "start_time": "2023-09-03T07:54:02.785Z"
   },
   {
    "duration": 3,
    "start_time": "2023-09-03T07:54:03.053Z"
   },
   {
    "duration": 32,
    "start_time": "2023-09-03T07:54:03.058Z"
   },
   {
    "duration": 289,
    "start_time": "2023-09-03T07:54:03.091Z"
   },
   {
    "duration": 254,
    "start_time": "2023-09-03T07:54:03.381Z"
   },
   {
    "duration": 98,
    "start_time": "2023-09-03T07:54:03.636Z"
   },
   {
    "duration": 42,
    "start_time": "2023-09-03T07:54:03.736Z"
   },
   {
    "duration": 223,
    "start_time": "2023-09-03T07:54:03.779Z"
   },
   {
    "duration": 122,
    "start_time": "2023-09-03T07:54:04.003Z"
   },
   {
    "duration": 189,
    "start_time": "2023-09-03T07:54:04.126Z"
   },
   {
    "duration": 656,
    "start_time": "2023-09-03T07:54:04.317Z"
   },
   {
    "duration": 227,
    "start_time": "2023-09-03T07:54:04.974Z"
   },
   {
    "duration": 3,
    "start_time": "2023-09-03T07:54:05.203Z"
   },
   {
    "duration": 2604,
    "start_time": "2023-09-03T07:54:05.207Z"
   },
   {
    "duration": 316,
    "start_time": "2023-09-03T07:54:07.812Z"
   },
   {
    "duration": 149,
    "start_time": "2023-09-03T07:54:08.130Z"
   },
   {
    "duration": 0,
    "start_time": "2023-09-03T07:54:08.281Z"
   },
   {
    "duration": 3,
    "start_time": "2023-09-03T07:54:13.037Z"
   },
   {
    "duration": 92,
    "start_time": "2023-09-03T07:54:13.619Z"
   },
   {
    "duration": 5,
    "start_time": "2023-09-03T07:54:26.472Z"
   },
   {
    "duration": 13,
    "start_time": "2023-09-03T07:54:26.961Z"
   },
   {
    "duration": 1089,
    "start_time": "2023-09-03T07:54:35.007Z"
   },
   {
    "duration": 77,
    "start_time": "2023-09-03T07:54:36.100Z"
   },
   {
    "duration": 18,
    "start_time": "2023-09-03T07:54:36.179Z"
   },
   {
    "duration": 6,
    "start_time": "2023-09-03T07:54:36.198Z"
   },
   {
    "duration": 4,
    "start_time": "2023-09-03T07:54:36.206Z"
   },
   {
    "duration": 7,
    "start_time": "2023-09-03T07:54:36.212Z"
   },
   {
    "duration": 32,
    "start_time": "2023-09-03T07:54:36.220Z"
   },
   {
    "duration": 8,
    "start_time": "2023-09-03T07:54:36.253Z"
   },
   {
    "duration": 6,
    "start_time": "2023-09-03T07:54:36.263Z"
   },
   {
    "duration": 11,
    "start_time": "2023-09-03T07:54:36.271Z"
   },
   {
    "duration": 6,
    "start_time": "2023-09-03T07:54:36.284Z"
   },
   {
    "duration": 31,
    "start_time": "2023-09-03T07:54:36.291Z"
   },
   {
    "duration": 29,
    "start_time": "2023-09-03T07:54:36.323Z"
   },
   {
    "duration": 160,
    "start_time": "2023-09-03T07:54:36.354Z"
   },
   {
    "duration": 23,
    "start_time": "2023-09-03T07:54:36.515Z"
   },
   {
    "duration": 262,
    "start_time": "2023-09-03T07:54:36.539Z"
   },
   {
    "duration": 3,
    "start_time": "2023-09-03T07:54:36.803Z"
   },
   {
    "duration": 19,
    "start_time": "2023-09-03T07:54:36.808Z"
   },
   {
    "duration": 288,
    "start_time": "2023-09-03T07:54:36.828Z"
   },
   {
    "duration": 262,
    "start_time": "2023-09-03T07:54:37.118Z"
   },
   {
    "duration": 99,
    "start_time": "2023-09-03T07:54:37.381Z"
   },
   {
    "duration": 34,
    "start_time": "2023-09-03T07:54:37.481Z"
   },
   {
    "duration": 227,
    "start_time": "2023-09-03T07:54:37.517Z"
   },
   {
    "duration": 134,
    "start_time": "2023-09-03T07:54:37.745Z"
   },
   {
    "duration": 180,
    "start_time": "2023-09-03T07:54:37.881Z"
   },
   {
    "duration": 611,
    "start_time": "2023-09-03T07:54:38.063Z"
   },
   {
    "duration": 231,
    "start_time": "2023-09-03T07:54:38.675Z"
   },
   {
    "duration": 3,
    "start_time": "2023-09-03T07:54:38.908Z"
   },
   {
    "duration": 2549,
    "start_time": "2023-09-03T07:54:38.913Z"
   },
   {
    "duration": 315,
    "start_time": "2023-09-03T07:54:41.463Z"
   },
   {
    "duration": 3,
    "start_time": "2023-09-03T07:54:41.779Z"
   },
   {
    "duration": 98,
    "start_time": "2023-09-03T07:54:41.784Z"
   },
   {
    "duration": 3,
    "start_time": "2023-09-03T07:55:10.707Z"
   },
   {
    "duration": 14,
    "start_time": "2023-09-03T07:55:11.727Z"
   },
   {
    "duration": 4,
    "start_time": "2023-09-03T07:55:49.680Z"
   },
   {
    "duration": 13,
    "start_time": "2023-09-03T07:55:49.699Z"
   },
   {
    "duration": 3,
    "start_time": "2023-09-03T07:56:29.576Z"
   },
   {
    "duration": 7,
    "start_time": "2023-09-03T07:56:29.902Z"
   },
   {
    "duration": 17,
    "start_time": "2023-09-03T07:56:35.981Z"
   },
   {
    "duration": 3,
    "start_time": "2023-09-03T07:56:46.466Z"
   },
   {
    "duration": 115,
    "start_time": "2023-09-03T07:56:47.501Z"
   },
   {
    "duration": 344,
    "start_time": "2023-09-03T07:57:24.125Z"
   },
   {
    "duration": 357,
    "start_time": "2023-09-03T08:12:04.981Z"
   },
   {
    "duration": 355,
    "start_time": "2023-09-03T08:13:12.881Z"
   },
   {
    "duration": 275,
    "start_time": "2023-09-03T08:26:02.281Z"
   },
   {
    "duration": 1101,
    "start_time": "2023-09-03T08:28:03.475Z"
   },
   {
    "duration": 84,
    "start_time": "2023-09-03T08:28:04.578Z"
   },
   {
    "duration": 29,
    "start_time": "2023-09-03T08:28:04.664Z"
   },
   {
    "duration": 7,
    "start_time": "2023-09-03T08:28:04.695Z"
   },
   {
    "duration": 5,
    "start_time": "2023-09-03T08:28:04.705Z"
   },
   {
    "duration": 10,
    "start_time": "2023-09-03T08:28:04.711Z"
   },
   {
    "duration": 36,
    "start_time": "2023-09-03T08:28:04.723Z"
   },
   {
    "duration": 9,
    "start_time": "2023-09-03T08:28:04.760Z"
   },
   {
    "duration": 9,
    "start_time": "2023-09-03T08:28:04.771Z"
   },
   {
    "duration": 14,
    "start_time": "2023-09-03T08:28:04.782Z"
   },
   {
    "duration": 8,
    "start_time": "2023-09-03T08:28:04.798Z"
   },
   {
    "duration": 57,
    "start_time": "2023-09-03T08:28:04.808Z"
   },
   {
    "duration": 6,
    "start_time": "2023-09-03T08:28:04.867Z"
   },
   {
    "duration": 172,
    "start_time": "2023-09-03T08:28:04.877Z"
   },
   {
    "duration": 22,
    "start_time": "2023-09-03T08:28:05.051Z"
   },
   {
    "duration": 268,
    "start_time": "2023-09-03T08:28:05.075Z"
   },
   {
    "duration": 4,
    "start_time": "2023-09-03T08:28:05.345Z"
   },
   {
    "duration": 35,
    "start_time": "2023-09-03T08:28:05.350Z"
   },
   {
    "duration": 294,
    "start_time": "2023-09-03T08:28:05.386Z"
   },
   {
    "duration": 275,
    "start_time": "2023-09-03T08:28:05.682Z"
   },
   {
    "duration": 141,
    "start_time": "2023-09-03T08:28:05.960Z"
   },
   {
    "duration": 54,
    "start_time": "2023-09-03T08:28:06.103Z"
   },
   {
    "duration": 236,
    "start_time": "2023-09-03T08:28:06.159Z"
   },
   {
    "duration": 141,
    "start_time": "2023-09-03T08:28:06.397Z"
   },
   {
    "duration": 203,
    "start_time": "2023-09-03T08:28:06.540Z"
   },
   {
    "duration": 625,
    "start_time": "2023-09-03T08:28:06.745Z"
   },
   {
    "duration": 256,
    "start_time": "2023-09-03T08:28:07.372Z"
   },
   {
    "duration": 4,
    "start_time": "2023-09-03T08:28:07.629Z"
   },
   {
    "duration": 2601,
    "start_time": "2023-09-03T08:28:07.635Z"
   },
   {
    "duration": 358,
    "start_time": "2023-09-03T08:28:10.237Z"
   },
   {
    "duration": 4,
    "start_time": "2023-09-03T08:28:10.596Z"
   },
   {
    "duration": 158,
    "start_time": "2023-09-03T08:28:10.601Z"
   },
   {
    "duration": 0,
    "start_time": "2023-09-03T08:28:10.761Z"
   },
   {
    "duration": 0,
    "start_time": "2023-09-03T08:28:10.762Z"
   },
   {
    "duration": 375,
    "start_time": "2023-09-03T08:28:37.266Z"
   },
   {
    "duration": 280,
    "start_time": "2023-09-03T08:28:51.327Z"
   },
   {
    "duration": 1212,
    "start_time": "2023-09-03T08:29:16.177Z"
   },
   {
    "duration": 98,
    "start_time": "2023-09-03T08:29:17.391Z"
   },
   {
    "duration": 20,
    "start_time": "2023-09-03T08:29:17.491Z"
   },
   {
    "duration": 7,
    "start_time": "2023-09-03T08:29:17.513Z"
   },
   {
    "duration": 6,
    "start_time": "2023-09-03T08:29:17.521Z"
   },
   {
    "duration": 8,
    "start_time": "2023-09-03T08:29:17.528Z"
   },
   {
    "duration": 31,
    "start_time": "2023-09-03T08:29:17.537Z"
   },
   {
    "duration": 7,
    "start_time": "2023-09-03T08:29:17.570Z"
   },
   {
    "duration": 13,
    "start_time": "2023-09-03T08:29:17.578Z"
   },
   {
    "duration": 18,
    "start_time": "2023-09-03T08:29:17.592Z"
   },
   {
    "duration": 6,
    "start_time": "2023-09-03T08:29:17.612Z"
   },
   {
    "duration": 19,
    "start_time": "2023-09-03T08:29:17.620Z"
   },
   {
    "duration": 9,
    "start_time": "2023-09-03T08:29:17.650Z"
   },
   {
    "duration": 169,
    "start_time": "2023-09-03T08:29:17.663Z"
   },
   {
    "duration": 35,
    "start_time": "2023-09-03T08:29:17.834Z"
   },
   {
    "duration": 301,
    "start_time": "2023-09-03T08:29:17.871Z"
   },
   {
    "duration": 3,
    "start_time": "2023-09-03T08:29:18.174Z"
   },
   {
    "duration": 17,
    "start_time": "2023-09-03T08:29:18.179Z"
   },
   {
    "duration": 336,
    "start_time": "2023-09-03T08:29:18.197Z"
   },
   {
    "duration": 300,
    "start_time": "2023-09-03T08:29:18.535Z"
   },
   {
    "duration": 104,
    "start_time": "2023-09-03T08:29:18.837Z"
   },
   {
    "duration": 48,
    "start_time": "2023-09-03T08:29:18.943Z"
   },
   {
    "duration": 262,
    "start_time": "2023-09-03T08:29:18.993Z"
   },
   {
    "duration": 134,
    "start_time": "2023-09-03T08:29:19.257Z"
   },
   {
    "duration": 207,
    "start_time": "2023-09-03T08:29:19.392Z"
   },
   {
    "duration": 690,
    "start_time": "2023-09-03T08:29:19.601Z"
   },
   {
    "duration": 238,
    "start_time": "2023-09-03T08:29:20.293Z"
   },
   {
    "duration": 4,
    "start_time": "2023-09-03T08:29:20.532Z"
   },
   {
    "duration": 2724,
    "start_time": "2023-09-03T08:29:20.549Z"
   },
   {
    "duration": 362,
    "start_time": "2023-09-03T08:29:23.275Z"
   },
   {
    "duration": 11,
    "start_time": "2023-09-03T08:29:23.639Z"
   },
   {
    "duration": 415,
    "start_time": "2023-09-03T08:29:23.652Z"
   },
   {
    "duration": 401,
    "start_time": "2023-09-03T08:29:24.070Z"
   },
   {
    "duration": 437,
    "start_time": "2023-09-03T08:29:24.473Z"
   },
   {
    "duration": 3589,
    "start_time": "2023-09-03T08:29:41.166Z"
   },
   {
    "duration": 996,
    "start_time": "2023-09-03T08:31:14.386Z"
   },
   {
    "duration": 1247,
    "start_time": "2023-09-03T08:31:26.537Z"
   },
   {
    "duration": 1147,
    "start_time": "2023-09-03T08:31:41.321Z"
   },
   {
    "duration": 80,
    "start_time": "2023-09-03T08:31:42.470Z"
   },
   {
    "duration": 19,
    "start_time": "2023-09-03T08:31:42.552Z"
   },
   {
    "duration": 7,
    "start_time": "2023-09-03T08:31:42.573Z"
   },
   {
    "duration": 8,
    "start_time": "2023-09-03T08:31:42.581Z"
   },
   {
    "duration": 13,
    "start_time": "2023-09-03T08:31:42.590Z"
   },
   {
    "duration": 12,
    "start_time": "2023-09-03T08:31:42.605Z"
   },
   {
    "duration": 38,
    "start_time": "2023-09-03T08:31:42.618Z"
   },
   {
    "duration": 6,
    "start_time": "2023-09-03T08:31:42.658Z"
   },
   {
    "duration": 9,
    "start_time": "2023-09-03T08:31:42.666Z"
   },
   {
    "duration": 10,
    "start_time": "2023-09-03T08:31:42.677Z"
   },
   {
    "duration": 20,
    "start_time": "2023-09-03T08:31:42.688Z"
   },
   {
    "duration": 6,
    "start_time": "2023-09-03T08:31:42.709Z"
   },
   {
    "duration": 151,
    "start_time": "2023-09-03T08:31:42.749Z"
   },
   {
    "duration": 29,
    "start_time": "2023-09-03T08:31:42.901Z"
   },
   {
    "duration": 265,
    "start_time": "2023-09-03T08:31:42.932Z"
   },
   {
    "duration": 3,
    "start_time": "2023-09-03T08:31:43.199Z"
   },
   {
    "duration": 36,
    "start_time": "2023-09-03T08:31:43.204Z"
   },
   {
    "duration": 282,
    "start_time": "2023-09-03T08:31:43.242Z"
   },
   {
    "duration": 251,
    "start_time": "2023-09-03T08:31:43.526Z"
   },
   {
    "duration": 97,
    "start_time": "2023-09-03T08:31:43.779Z"
   },
   {
    "duration": 32,
    "start_time": "2023-09-03T08:31:43.878Z"
   },
   {
    "duration": 226,
    "start_time": "2023-09-03T08:31:43.911Z"
   },
   {
    "duration": 126,
    "start_time": "2023-09-03T08:31:44.139Z"
   },
   {
    "duration": 193,
    "start_time": "2023-09-03T08:31:44.267Z"
   },
   {
    "duration": 618,
    "start_time": "2023-09-03T08:31:44.462Z"
   },
   {
    "duration": 235,
    "start_time": "2023-09-03T08:31:45.082Z"
   },
   {
    "duration": 4,
    "start_time": "2023-09-03T08:31:45.320Z"
   },
   {
    "duration": 2714,
    "start_time": "2023-09-03T08:31:45.325Z"
   },
   {
    "duration": 349,
    "start_time": "2023-09-03T08:31:48.041Z"
   },
   {
    "duration": 3,
    "start_time": "2023-09-03T08:31:48.392Z"
   },
   {
    "duration": 377,
    "start_time": "2023-09-03T08:31:48.396Z"
   },
   {
    "duration": 366,
    "start_time": "2023-09-03T08:31:48.775Z"
   },
   {
    "duration": 354,
    "start_time": "2023-09-03T08:31:49.143Z"
   },
   {
    "duration": 3,
    "start_time": "2023-09-03T08:33:26.871Z"
   },
   {
    "duration": 381,
    "start_time": "2023-09-03T08:33:27.171Z"
   },
   {
    "duration": 1243,
    "start_time": "2023-09-03T08:33:35.892Z"
   },
   {
    "duration": 95,
    "start_time": "2023-09-03T08:33:37.137Z"
   },
   {
    "duration": 25,
    "start_time": "2023-09-03T08:33:37.233Z"
   },
   {
    "duration": 13,
    "start_time": "2023-09-03T08:33:37.261Z"
   },
   {
    "duration": 16,
    "start_time": "2023-09-03T08:33:37.276Z"
   },
   {
    "duration": 11,
    "start_time": "2023-09-03T08:33:37.294Z"
   },
   {
    "duration": 18,
    "start_time": "2023-09-03T08:33:37.306Z"
   },
   {
    "duration": 8,
    "start_time": "2023-09-03T08:33:37.325Z"
   },
   {
    "duration": 10,
    "start_time": "2023-09-03T08:33:37.335Z"
   },
   {
    "duration": 21,
    "start_time": "2023-09-03T08:33:37.349Z"
   },
   {
    "duration": 7,
    "start_time": "2023-09-03T08:33:37.372Z"
   },
   {
    "duration": 23,
    "start_time": "2023-09-03T08:33:37.380Z"
   },
   {
    "duration": 4,
    "start_time": "2023-09-03T08:33:37.405Z"
   },
   {
    "duration": 197,
    "start_time": "2023-09-03T08:33:37.411Z"
   },
   {
    "duration": 20,
    "start_time": "2023-09-03T08:33:37.610Z"
   },
   {
    "duration": 328,
    "start_time": "2023-09-03T08:33:37.632Z"
   },
   {
    "duration": 4,
    "start_time": "2023-09-03T08:33:37.962Z"
   },
   {
    "duration": 55,
    "start_time": "2023-09-03T08:33:37.968Z"
   },
   {
    "duration": 352,
    "start_time": "2023-09-03T08:33:38.024Z"
   },
   {
    "duration": 284,
    "start_time": "2023-09-03T08:33:38.378Z"
   },
   {
    "duration": 121,
    "start_time": "2023-09-03T08:33:38.665Z"
   },
   {
    "duration": 33,
    "start_time": "2023-09-03T08:33:38.787Z"
   },
   {
    "duration": 249,
    "start_time": "2023-09-03T08:33:38.821Z"
   },
   {
    "duration": 156,
    "start_time": "2023-09-03T08:33:39.072Z"
   },
   {
    "duration": 205,
    "start_time": "2023-09-03T08:33:39.229Z"
   },
   {
    "duration": 700,
    "start_time": "2023-09-03T08:33:39.435Z"
   },
   {
    "duration": 282,
    "start_time": "2023-09-03T08:33:40.136Z"
   },
   {
    "duration": 4,
    "start_time": "2023-09-03T08:33:40.421Z"
   },
   {
    "duration": 2992,
    "start_time": "2023-09-03T08:33:40.427Z"
   },
   {
    "duration": 393,
    "start_time": "2023-09-03T08:33:43.422Z"
   },
   {
    "duration": 3,
    "start_time": "2023-09-03T08:33:43.817Z"
   },
   {
    "duration": 377,
    "start_time": "2023-09-03T08:33:43.822Z"
   },
   {
    "duration": 0,
    "start_time": "2023-09-03T08:33:44.201Z"
   },
   {
    "duration": 0,
    "start_time": "2023-09-03T08:33:44.202Z"
   },
   {
    "duration": 4,
    "start_time": "2023-09-03T08:34:01.390Z"
   },
   {
    "duration": 402,
    "start_time": "2023-09-03T08:34:02.114Z"
   },
   {
    "duration": 393,
    "start_time": "2023-09-03T08:34:09.184Z"
   },
   {
    "duration": 419,
    "start_time": "2023-09-03T08:34:09.974Z"
   },
   {
    "duration": 1122,
    "start_time": "2023-09-03T08:34:27.413Z"
   },
   {
    "duration": 80,
    "start_time": "2023-09-03T08:34:28.537Z"
   },
   {
    "duration": 18,
    "start_time": "2023-09-03T08:34:28.618Z"
   },
   {
    "duration": 6,
    "start_time": "2023-09-03T08:34:28.637Z"
   },
   {
    "duration": 19,
    "start_time": "2023-09-03T08:34:28.645Z"
   },
   {
    "duration": 6,
    "start_time": "2023-09-03T08:34:28.666Z"
   },
   {
    "duration": 25,
    "start_time": "2023-09-03T08:34:28.674Z"
   },
   {
    "duration": 11,
    "start_time": "2023-09-03T08:34:28.701Z"
   },
   {
    "duration": 5,
    "start_time": "2023-09-03T08:34:28.714Z"
   },
   {
    "duration": 11,
    "start_time": "2023-09-03T08:34:28.720Z"
   },
   {
    "duration": 5,
    "start_time": "2023-09-03T08:34:28.733Z"
   },
   {
    "duration": 29,
    "start_time": "2023-09-03T08:34:28.739Z"
   },
   {
    "duration": 9,
    "start_time": "2023-09-03T08:34:28.770Z"
   },
   {
    "duration": 187,
    "start_time": "2023-09-03T08:34:28.782Z"
   },
   {
    "duration": 21,
    "start_time": "2023-09-03T08:34:28.970Z"
   },
   {
    "duration": 296,
    "start_time": "2023-09-03T08:34:28.993Z"
   },
   {
    "duration": 3,
    "start_time": "2023-09-03T08:34:29.290Z"
   },
   {
    "duration": 27,
    "start_time": "2023-09-03T08:34:29.294Z"
   },
   {
    "duration": 321,
    "start_time": "2023-09-03T08:34:29.323Z"
   },
   {
    "duration": 288,
    "start_time": "2023-09-03T08:34:29.646Z"
   },
   {
    "duration": 105,
    "start_time": "2023-09-03T08:34:29.936Z"
   },
   {
    "duration": 47,
    "start_time": "2023-09-03T08:34:30.043Z"
   },
   {
    "duration": 253,
    "start_time": "2023-09-03T08:34:30.091Z"
   },
   {
    "duration": 138,
    "start_time": "2023-09-03T08:34:30.346Z"
   },
   {
    "duration": 211,
    "start_time": "2023-09-03T08:34:30.485Z"
   },
   {
    "duration": 675,
    "start_time": "2023-09-03T08:34:30.698Z"
   },
   {
    "duration": 248,
    "start_time": "2023-09-03T08:34:31.375Z"
   },
   {
    "duration": 4,
    "start_time": "2023-09-03T08:34:31.624Z"
   },
   {
    "duration": 2808,
    "start_time": "2023-09-03T08:34:31.630Z"
   },
   {
    "duration": 355,
    "start_time": "2023-09-03T08:34:34.454Z"
   },
   {
    "duration": 5,
    "start_time": "2023-09-03T08:34:34.810Z"
   },
   {
    "duration": 408,
    "start_time": "2023-09-03T08:34:34.817Z"
   },
   {
    "duration": 410,
    "start_time": "2023-09-03T08:34:35.227Z"
   },
   {
    "duration": 436,
    "start_time": "2023-09-03T08:34:35.638Z"
   },
   {
    "duration": 1195,
    "start_time": "2023-09-03T08:34:52.542Z"
   },
   {
    "duration": 90,
    "start_time": "2023-09-03T08:34:53.739Z"
   },
   {
    "duration": 27,
    "start_time": "2023-09-03T08:34:53.830Z"
   },
   {
    "duration": 22,
    "start_time": "2023-09-03T08:34:53.861Z"
   },
   {
    "duration": 32,
    "start_time": "2023-09-03T08:34:53.885Z"
   },
   {
    "duration": 20,
    "start_time": "2023-09-03T08:34:53.919Z"
   },
   {
    "duration": 18,
    "start_time": "2023-09-03T08:34:53.941Z"
   },
   {
    "duration": 33,
    "start_time": "2023-09-03T08:34:53.962Z"
   },
   {
    "duration": 26,
    "start_time": "2023-09-03T08:34:53.996Z"
   },
   {
    "duration": 23,
    "start_time": "2023-09-03T08:34:54.024Z"
   },
   {
    "duration": 15,
    "start_time": "2023-09-03T08:34:54.051Z"
   },
   {
    "duration": 27,
    "start_time": "2023-09-03T08:34:54.069Z"
   },
   {
    "duration": 18,
    "start_time": "2023-09-03T08:34:54.097Z"
   },
   {
    "duration": 194,
    "start_time": "2023-09-03T08:34:54.118Z"
   },
   {
    "duration": 37,
    "start_time": "2023-09-03T08:34:54.313Z"
   },
   {
    "duration": 314,
    "start_time": "2023-09-03T08:34:54.352Z"
   },
   {
    "duration": 7,
    "start_time": "2023-09-03T08:34:54.668Z"
   },
   {
    "duration": 20,
    "start_time": "2023-09-03T08:34:54.677Z"
   },
   {
    "duration": 350,
    "start_time": "2023-09-03T08:34:54.698Z"
   },
   {
    "duration": 306,
    "start_time": "2023-09-03T08:34:55.050Z"
   },
   {
    "duration": 113,
    "start_time": "2023-09-03T08:34:55.358Z"
   },
   {
    "duration": 35,
    "start_time": "2023-09-03T08:34:55.473Z"
   },
   {
    "duration": 248,
    "start_time": "2023-09-03T08:34:55.509Z"
   },
   {
    "duration": 135,
    "start_time": "2023-09-03T08:34:55.759Z"
   },
   {
    "duration": 262,
    "start_time": "2023-09-03T08:34:55.896Z"
   },
   {
    "duration": 830,
    "start_time": "2023-09-03T08:34:56.160Z"
   },
   {
    "duration": 277,
    "start_time": "2023-09-03T08:34:56.991Z"
   },
   {
    "duration": 4,
    "start_time": "2023-09-03T08:34:57.271Z"
   },
   {
    "duration": 2782,
    "start_time": "2023-09-03T08:34:57.277Z"
   },
   {
    "duration": 363,
    "start_time": "2023-09-03T08:35:00.062Z"
   },
   {
    "duration": 4,
    "start_time": "2023-09-03T08:35:00.426Z"
   },
   {
    "duration": 415,
    "start_time": "2023-09-03T08:35:00.432Z"
   },
   {
    "duration": 418,
    "start_time": "2023-09-03T08:35:00.854Z"
   },
   {
    "duration": 426,
    "start_time": "2023-09-03T08:35:01.273Z"
   },
   {
    "duration": 1238,
    "start_time": "2023-09-03T08:36:53.177Z"
   },
   {
    "duration": 102,
    "start_time": "2023-09-03T08:36:54.416Z"
   },
   {
    "duration": 32,
    "start_time": "2023-09-03T08:36:54.520Z"
   },
   {
    "duration": 11,
    "start_time": "2023-09-03T08:36:54.556Z"
   },
   {
    "duration": 6,
    "start_time": "2023-09-03T08:36:54.571Z"
   },
   {
    "duration": 11,
    "start_time": "2023-09-03T08:36:54.579Z"
   },
   {
    "duration": 18,
    "start_time": "2023-09-03T08:36:54.592Z"
   },
   {
    "duration": 44,
    "start_time": "2023-09-03T08:36:54.612Z"
   },
   {
    "duration": 13,
    "start_time": "2023-09-03T08:36:54.661Z"
   },
   {
    "duration": 11,
    "start_time": "2023-09-03T08:36:54.678Z"
   },
   {
    "duration": 14,
    "start_time": "2023-09-03T08:36:54.690Z"
   },
   {
    "duration": 32,
    "start_time": "2023-09-03T08:36:54.705Z"
   },
   {
    "duration": 7,
    "start_time": "2023-09-03T08:36:54.738Z"
   },
   {
    "duration": 193,
    "start_time": "2023-09-03T08:36:54.746Z"
   },
   {
    "duration": 41,
    "start_time": "2023-09-03T08:36:54.941Z"
   },
   {
    "duration": 304,
    "start_time": "2023-09-03T08:36:54.984Z"
   },
   {
    "duration": 3,
    "start_time": "2023-09-03T08:36:55.290Z"
   },
   {
    "duration": 96,
    "start_time": "2023-09-03T08:36:55.295Z"
   },
   {
    "duration": 331,
    "start_time": "2023-09-03T08:36:55.394Z"
   },
   {
    "duration": 455,
    "start_time": "2023-09-03T08:36:55.727Z"
   },
   {
    "duration": 214,
    "start_time": "2023-09-03T08:36:56.185Z"
   },
   {
    "duration": 78,
    "start_time": "2023-09-03T08:36:56.401Z"
   },
   {
    "duration": 296,
    "start_time": "2023-09-03T08:36:56.481Z"
   },
   {
    "duration": 145,
    "start_time": "2023-09-03T08:36:56.779Z"
   },
   {
    "duration": 254,
    "start_time": "2023-09-03T08:36:56.925Z"
   },
   {
    "duration": 750,
    "start_time": "2023-09-03T08:36:57.181Z"
   },
   {
    "duration": 288,
    "start_time": "2023-09-03T08:36:57.933Z"
   },
   {
    "duration": 5,
    "start_time": "2023-09-03T08:36:58.226Z"
   },
   {
    "duration": 2979,
    "start_time": "2023-09-03T08:36:58.233Z"
   },
   {
    "duration": 398,
    "start_time": "2023-09-03T08:37:01.214Z"
   },
   {
    "duration": 3,
    "start_time": "2023-09-03T08:37:01.614Z"
   },
   {
    "duration": 471,
    "start_time": "2023-09-03T08:37:01.619Z"
   },
   {
    "duration": 459,
    "start_time": "2023-09-03T08:37:02.091Z"
   },
   {
    "duration": 443,
    "start_time": "2023-09-03T08:37:02.553Z"
   },
   {
    "duration": 355,
    "start_time": "2023-09-03T08:38:17.349Z"
   },
   {
    "duration": 218,
    "start_time": "2023-09-03T08:38:28.911Z"
   },
   {
    "duration": 147,
    "start_time": "2023-09-03T08:38:37.661Z"
   },
   {
    "duration": 163,
    "start_time": "2023-09-03T08:38:43.855Z"
   },
   {
    "duration": 1142,
    "start_time": "2023-09-03T08:38:58.476Z"
   },
   {
    "duration": 81,
    "start_time": "2023-09-03T08:38:59.621Z"
   },
   {
    "duration": 35,
    "start_time": "2023-09-03T08:38:59.704Z"
   },
   {
    "duration": 11,
    "start_time": "2023-09-03T08:38:59.750Z"
   },
   {
    "duration": 7,
    "start_time": "2023-09-03T08:38:59.764Z"
   },
   {
    "duration": 9,
    "start_time": "2023-09-03T08:38:59.773Z"
   },
   {
    "duration": 12,
    "start_time": "2023-09-03T08:38:59.784Z"
   },
   {
    "duration": 13,
    "start_time": "2023-09-03T08:38:59.798Z"
   },
   {
    "duration": 43,
    "start_time": "2023-09-03T08:38:59.812Z"
   },
   {
    "duration": 13,
    "start_time": "2023-09-03T08:38:59.860Z"
   },
   {
    "duration": 6,
    "start_time": "2023-09-03T08:38:59.874Z"
   },
   {
    "duration": 22,
    "start_time": "2023-09-03T08:38:59.881Z"
   },
   {
    "duration": 5,
    "start_time": "2023-09-03T08:38:59.904Z"
   },
   {
    "duration": 192,
    "start_time": "2023-09-03T08:38:59.911Z"
   },
   {
    "duration": 21,
    "start_time": "2023-09-03T08:39:00.104Z"
   },
   {
    "duration": 307,
    "start_time": "2023-09-03T08:39:00.127Z"
   },
   {
    "duration": 3,
    "start_time": "2023-09-03T08:39:00.436Z"
   },
   {
    "duration": 47,
    "start_time": "2023-09-03T08:39:00.441Z"
   },
   {
    "duration": 363,
    "start_time": "2023-09-03T08:39:00.490Z"
   },
   {
    "duration": 310,
    "start_time": "2023-09-03T08:39:00.856Z"
   },
   {
    "duration": 116,
    "start_time": "2023-09-03T08:39:01.169Z"
   },
   {
    "duration": 102,
    "start_time": "2023-09-03T08:39:01.286Z"
   },
   {
    "duration": 327,
    "start_time": "2023-09-03T08:39:01.390Z"
   },
   {
    "duration": 151,
    "start_time": "2023-09-03T08:39:01.719Z"
   },
   {
    "duration": 221,
    "start_time": "2023-09-03T08:39:01.871Z"
   },
   {
    "duration": 670,
    "start_time": "2023-09-03T08:39:02.093Z"
   },
   {
    "duration": 266,
    "start_time": "2023-09-03T08:39:02.765Z"
   },
   {
    "duration": 3,
    "start_time": "2023-09-03T08:39:03.033Z"
   },
   {
    "duration": 2551,
    "start_time": "2023-09-03T08:39:03.037Z"
   },
   {
    "duration": 446,
    "start_time": "2023-09-03T08:39:05.589Z"
   },
   {
    "duration": 4,
    "start_time": "2023-09-03T08:39:06.037Z"
   },
   {
    "duration": 438,
    "start_time": "2023-09-03T08:39:06.049Z"
   },
   {
    "duration": 373,
    "start_time": "2023-09-03T08:39:06.489Z"
   },
   {
    "duration": 419,
    "start_time": "2023-09-03T08:39:06.864Z"
   },
   {
    "duration": 151,
    "start_time": "2023-09-03T08:39:54.073Z"
   },
   {
    "duration": 247,
    "start_time": "2023-09-03T08:40:02.843Z"
   },
   {
    "duration": 313,
    "start_time": "2023-09-03T08:40:06.803Z"
   },
   {
    "duration": 368,
    "start_time": "2023-09-03T08:40:20.752Z"
   },
   {
    "duration": 363,
    "start_time": "2023-09-03T08:40:36.410Z"
   },
   {
    "duration": 316,
    "start_time": "2023-09-03T08:40:51.370Z"
   },
   {
    "duration": 317,
    "start_time": "2023-09-03T08:41:11.101Z"
   },
   {
    "duration": 261,
    "start_time": "2023-09-03T08:41:22.573Z"
   },
   {
    "duration": 246,
    "start_time": "2023-09-03T08:41:37.766Z"
   },
   {
    "duration": 1081,
    "start_time": "2023-09-03T08:42:52.506Z"
   },
   {
    "duration": 77,
    "start_time": "2023-09-03T08:42:53.589Z"
   },
   {
    "duration": 20,
    "start_time": "2023-09-03T08:42:53.668Z"
   },
   {
    "duration": 16,
    "start_time": "2023-09-03T08:42:53.689Z"
   },
   {
    "duration": 18,
    "start_time": "2023-09-03T08:42:53.706Z"
   },
   {
    "duration": 9,
    "start_time": "2023-09-03T08:42:53.725Z"
   },
   {
    "duration": 22,
    "start_time": "2023-09-03T08:42:53.735Z"
   },
   {
    "duration": 8,
    "start_time": "2023-09-03T08:42:53.759Z"
   },
   {
    "duration": 20,
    "start_time": "2023-09-03T08:42:53.769Z"
   },
   {
    "duration": 14,
    "start_time": "2023-09-03T08:42:53.792Z"
   },
   {
    "duration": 6,
    "start_time": "2023-09-03T08:42:53.810Z"
   },
   {
    "duration": 16,
    "start_time": "2023-09-03T08:42:53.818Z"
   },
   {
    "duration": 18,
    "start_time": "2023-09-03T08:42:53.835Z"
   },
   {
    "duration": 176,
    "start_time": "2023-09-03T08:42:53.854Z"
   },
   {
    "duration": 25,
    "start_time": "2023-09-03T08:42:54.031Z"
   },
   {
    "duration": 270,
    "start_time": "2023-09-03T08:42:54.057Z"
   },
   {
    "duration": 3,
    "start_time": "2023-09-03T08:42:54.329Z"
   },
   {
    "duration": 26,
    "start_time": "2023-09-03T08:42:54.334Z"
   },
   {
    "duration": 326,
    "start_time": "2023-09-03T08:42:54.362Z"
   },
   {
    "duration": 233,
    "start_time": "2023-09-03T08:42:54.690Z"
   },
   {
    "duration": 101,
    "start_time": "2023-09-03T08:42:54.924Z"
   },
   {
    "duration": 48,
    "start_time": "2023-09-03T08:42:55.027Z"
   },
   {
    "duration": 222,
    "start_time": "2023-09-03T08:42:55.076Z"
   },
   {
    "duration": 126,
    "start_time": "2023-09-03T08:42:55.299Z"
   },
   {
    "duration": 202,
    "start_time": "2023-09-03T08:42:55.428Z"
   },
   {
    "duration": 778,
    "start_time": "2023-09-03T08:42:55.632Z"
   },
   {
    "duration": 313,
    "start_time": "2023-09-03T08:42:56.411Z"
   },
   {
    "duration": 3,
    "start_time": "2023-09-03T08:42:56.727Z"
   },
   {
    "duration": 2703,
    "start_time": "2023-09-03T08:42:56.732Z"
   },
   {
    "duration": 373,
    "start_time": "2023-09-03T08:42:59.437Z"
   },
   {
    "duration": 4,
    "start_time": "2023-09-03T08:42:59.811Z"
   },
   {
    "duration": 429,
    "start_time": "2023-09-03T08:42:59.816Z"
   },
   {
    "duration": 400,
    "start_time": "2023-09-03T08:43:00.247Z"
   },
   {
    "duration": 404,
    "start_time": "2023-09-03T08:43:00.653Z"
   },
   {
    "duration": 250,
    "start_time": "2023-09-03T08:43:26.180Z"
   },
   {
    "duration": 227,
    "start_time": "2023-09-03T08:43:32.374Z"
   },
   {
    "duration": 427,
    "start_time": "2023-09-03T08:43:35.742Z"
   },
   {
    "duration": 198,
    "start_time": "2023-09-03T08:43:42.687Z"
   },
   {
    "duration": 218,
    "start_time": "2023-09-03T08:43:50.924Z"
   },
   {
    "duration": 221,
    "start_time": "2023-09-03T08:43:54.381Z"
   },
   {
    "duration": 206,
    "start_time": "2023-09-03T08:43:57.927Z"
   },
   {
    "duration": 229,
    "start_time": "2023-09-03T08:44:33.322Z"
   },
   {
    "duration": 256,
    "start_time": "2023-09-03T08:44:38.302Z"
   },
   {
    "duration": 140,
    "start_time": "2023-09-03T08:44:54.442Z"
   },
   {
    "duration": 724,
    "start_time": "2023-09-03T08:45:05.441Z"
   },
   {
    "duration": 273,
    "start_time": "2023-09-03T08:45:53.365Z"
   },
   {
    "duration": 292,
    "start_time": "2023-09-03T08:46:13.957Z"
   },
   {
    "duration": 267,
    "start_time": "2023-09-03T08:46:22.637Z"
   },
   {
    "duration": 292,
    "start_time": "2023-09-03T08:46:47.890Z"
   },
   {
    "duration": 784,
    "start_time": "2023-09-03T08:47:51.036Z"
   },
   {
    "duration": 740,
    "start_time": "2023-09-03T08:48:59.078Z"
   },
   {
    "duration": 3250,
    "start_time": "2023-09-03T08:50:24.317Z"
   },
   {
    "duration": 3484,
    "start_time": "2023-09-03T08:50:52.287Z"
   },
   {
    "duration": 824,
    "start_time": "2023-09-03T08:51:46.667Z"
   },
   {
    "duration": 983,
    "start_time": "2023-09-03T08:52:03.126Z"
   },
   {
    "duration": 1254,
    "start_time": "2023-09-03T08:52:08.546Z"
   },
   {
    "duration": 2777,
    "start_time": "2023-09-03T08:54:02.864Z"
   },
   {
    "duration": 256,
    "start_time": "2023-09-03T08:56:30.837Z"
   },
   {
    "duration": 286,
    "start_time": "2023-09-03T08:57:10.448Z"
   },
   {
    "duration": 267,
    "start_time": "2023-09-03T08:57:35.767Z"
   },
   {
    "duration": 387,
    "start_time": "2023-09-03T08:57:41.097Z"
   },
   {
    "duration": 316,
    "start_time": "2023-09-03T08:58:55.772Z"
   },
   {
    "duration": 286,
    "start_time": "2023-09-03T08:59:09.722Z"
   },
   {
    "duration": 20,
    "start_time": "2023-09-03T08:59:28.008Z"
   },
   {
    "duration": 261,
    "start_time": "2023-09-03T08:59:49.862Z"
   },
   {
    "duration": 256,
    "start_time": "2023-09-03T08:59:59.885Z"
   },
   {
    "duration": 286,
    "start_time": "2023-09-03T09:00:18.172Z"
   },
   {
    "duration": 350,
    "start_time": "2023-09-03T09:00:40.275Z"
   },
   {
    "duration": 1272,
    "start_time": "2023-09-03T09:02:25.914Z"
   },
   {
    "duration": 94,
    "start_time": "2023-09-03T09:02:27.188Z"
   },
   {
    "duration": 21,
    "start_time": "2023-09-03T09:02:27.284Z"
   },
   {
    "duration": 12,
    "start_time": "2023-09-03T09:02:27.307Z"
   },
   {
    "duration": 16,
    "start_time": "2023-09-03T09:02:27.320Z"
   },
   {
    "duration": 34,
    "start_time": "2023-09-03T09:02:27.337Z"
   },
   {
    "duration": 17,
    "start_time": "2023-09-03T09:02:27.376Z"
   },
   {
    "duration": 8,
    "start_time": "2023-09-03T09:02:27.395Z"
   },
   {
    "duration": 5,
    "start_time": "2023-09-03T09:02:27.405Z"
   },
   {
    "duration": 12,
    "start_time": "2023-09-03T09:02:27.412Z"
   },
   {
    "duration": 5,
    "start_time": "2023-09-03T09:02:27.425Z"
   },
   {
    "duration": 28,
    "start_time": "2023-09-03T09:02:27.431Z"
   },
   {
    "duration": 17,
    "start_time": "2023-09-03T09:02:27.460Z"
   },
   {
    "duration": 193,
    "start_time": "2023-09-03T09:02:27.479Z"
   },
   {
    "duration": 26,
    "start_time": "2023-09-03T09:02:27.674Z"
   },
   {
    "duration": 315,
    "start_time": "2023-09-03T09:02:27.702Z"
   },
   {
    "duration": 3,
    "start_time": "2023-09-03T09:02:28.019Z"
   },
   {
    "duration": 17,
    "start_time": "2023-09-03T09:02:28.024Z"
   },
   {
    "duration": 349,
    "start_time": "2023-09-03T09:02:28.043Z"
   },
   {
    "duration": 304,
    "start_time": "2023-09-03T09:02:28.395Z"
   },
   {
    "duration": 115,
    "start_time": "2023-09-03T09:02:28.700Z"
   },
   {
    "duration": 46,
    "start_time": "2023-09-03T09:02:28.817Z"
   },
   {
    "duration": 230,
    "start_time": "2023-09-03T09:02:28.865Z"
   },
   {
    "duration": 168,
    "start_time": "2023-09-03T09:02:29.099Z"
   },
   {
    "duration": 221,
    "start_time": "2023-09-03T09:02:29.268Z"
   },
   {
    "duration": 670,
    "start_time": "2023-09-03T09:02:29.490Z"
   },
   {
    "duration": 270,
    "start_time": "2023-09-03T09:02:30.162Z"
   },
   {
    "duration": 2994,
    "start_time": "2023-09-03T09:02:30.435Z"
   },
   {
    "duration": 410,
    "start_time": "2023-09-03T09:02:33.430Z"
   },
   {
    "duration": 135,
    "start_time": "2023-09-03T09:02:33.842Z"
   },
   {
    "duration": 0,
    "start_time": "2023-09-03T09:02:33.978Z"
   },
   {
    "duration": 0,
    "start_time": "2023-09-03T09:02:33.980Z"
   },
   {
    "duration": 0,
    "start_time": "2023-09-03T09:02:33.980Z"
   },
   {
    "duration": 4,
    "start_time": "2023-09-03T09:03:06.742Z"
   },
   {
    "duration": 449,
    "start_time": "2023-09-03T09:03:08.192Z"
   },
   {
    "duration": 472,
    "start_time": "2023-09-03T09:03:11.446Z"
   },
   {
    "duration": 422,
    "start_time": "2023-09-03T09:03:12.082Z"
   },
   {
    "duration": 4,
    "start_time": "2023-09-03T09:03:54.828Z"
   },
   {
    "duration": 360,
    "start_time": "2023-09-03T09:03:55.382Z"
   },
   {
    "duration": 5,
    "start_time": "2023-09-03T09:04:09.879Z"
   },
   {
    "duration": 436,
    "start_time": "2023-09-03T09:04:10.845Z"
   },
   {
    "duration": 4,
    "start_time": "2023-09-03T09:04:24.997Z"
   },
   {
    "duration": 78,
    "start_time": "2023-09-03T09:04:25.463Z"
   },
   {
    "duration": 257,
    "start_time": "2023-09-03T09:04:32.477Z"
   },
   {
    "duration": 500,
    "start_time": "2023-09-03T09:04:37.648Z"
   },
   {
    "duration": 405,
    "start_time": "2023-09-03T09:04:38.488Z"
   },
   {
    "duration": 414,
    "start_time": "2023-09-03T09:04:39.298Z"
   },
   {
    "duration": 1187,
    "start_time": "2023-09-03T09:22:47.525Z"
   },
   {
    "duration": 84,
    "start_time": "2023-09-03T09:22:48.714Z"
   },
   {
    "duration": 21,
    "start_time": "2023-09-03T09:22:48.800Z"
   },
   {
    "duration": 12,
    "start_time": "2023-09-03T09:22:48.822Z"
   },
   {
    "duration": 16,
    "start_time": "2023-09-03T09:22:48.849Z"
   },
   {
    "duration": 23,
    "start_time": "2023-09-03T09:22:48.866Z"
   },
   {
    "duration": 27,
    "start_time": "2023-09-03T09:22:48.890Z"
   },
   {
    "duration": 17,
    "start_time": "2023-09-03T09:22:48.919Z"
   },
   {
    "duration": 31,
    "start_time": "2023-09-03T09:22:48.937Z"
   },
   {
    "duration": 26,
    "start_time": "2023-09-03T09:22:48.970Z"
   },
   {
    "duration": 8,
    "start_time": "2023-09-03T09:22:48.998Z"
   },
   {
    "duration": 21,
    "start_time": "2023-09-03T09:22:49.008Z"
   },
   {
    "duration": 6,
    "start_time": "2023-09-03T09:22:49.031Z"
   },
   {
    "duration": 191,
    "start_time": "2023-09-03T09:22:49.040Z"
   },
   {
    "duration": 35,
    "start_time": "2023-09-03T09:22:49.232Z"
   },
   {
    "duration": 263,
    "start_time": "2023-09-03T09:22:49.269Z"
   },
   {
    "duration": 3,
    "start_time": "2023-09-03T09:22:49.534Z"
   },
   {
    "duration": 36,
    "start_time": "2023-09-03T09:22:49.539Z"
   },
   {
    "duration": 287,
    "start_time": "2023-09-03T09:22:49.577Z"
   },
   {
    "duration": 240,
    "start_time": "2023-09-03T09:22:49.867Z"
   },
   {
    "duration": 116,
    "start_time": "2023-09-03T09:22:50.109Z"
   },
   {
    "duration": 41,
    "start_time": "2023-09-03T09:22:50.227Z"
   },
   {
    "duration": 219,
    "start_time": "2023-09-03T09:22:50.269Z"
   },
   {
    "duration": 150,
    "start_time": "2023-09-03T09:22:50.490Z"
   },
   {
    "duration": 248,
    "start_time": "2023-09-03T09:22:50.641Z"
   },
   {
    "duration": 651,
    "start_time": "2023-09-03T09:22:50.891Z"
   },
   {
    "duration": 288,
    "start_time": "2023-09-03T09:22:51.543Z"
   },
   {
    "duration": 2847,
    "start_time": "2023-09-03T09:22:51.833Z"
   },
   {
    "duration": 355,
    "start_time": "2023-09-03T09:22:54.681Z"
   },
   {
    "duration": 4,
    "start_time": "2023-09-03T09:22:55.037Z"
   },
   {
    "duration": 417,
    "start_time": "2023-09-03T09:22:55.048Z"
   },
   {
    "duration": 368,
    "start_time": "2023-09-03T09:22:55.467Z"
   },
   {
    "duration": 482,
    "start_time": "2023-09-03T09:22:55.837Z"
   },
   {
    "duration": 3,
    "start_time": "2023-09-03T09:22:56.320Z"
   },
   {
    "duration": 497,
    "start_time": "2023-09-03T09:22:56.325Z"
   },
   {
    "duration": 30,
    "start_time": "2023-09-03T09:23:39.285Z"
   },
   {
    "duration": 25,
    "start_time": "2023-09-03T09:24:33.270Z"
   },
   {
    "duration": 12,
    "start_time": "2023-09-03T09:25:01.696Z"
   },
   {
    "duration": 5,
    "start_time": "2023-09-03T09:26:54.462Z"
   },
   {
    "duration": 91,
    "start_time": "2023-09-03T09:40:41.239Z"
   },
   {
    "duration": 90,
    "start_time": "2023-09-03T09:40:50.379Z"
   },
   {
    "duration": 118,
    "start_time": "2023-09-03T09:40:59.088Z"
   },
   {
    "duration": 4,
    "start_time": "2023-09-03T09:41:11.562Z"
   },
   {
    "duration": 3,
    "start_time": "2023-09-03T09:42:11.711Z"
   },
   {
    "duration": 5,
    "start_time": "2023-09-03T09:42:48.213Z"
   },
   {
    "duration": 88,
    "start_time": "2023-09-03T09:43:51.629Z"
   },
   {
    "duration": 5,
    "start_time": "2023-09-03T09:43:59.895Z"
   },
   {
    "duration": 5,
    "start_time": "2023-09-03T09:44:19.582Z"
   },
   {
    "duration": 6,
    "start_time": "2023-09-03T09:44:44.162Z"
   },
   {
    "duration": 1217,
    "start_time": "2023-09-03T10:16:06.123Z"
   },
   {
    "duration": 84,
    "start_time": "2023-09-03T10:16:07.342Z"
   },
   {
    "duration": 18,
    "start_time": "2023-09-03T10:16:07.428Z"
   },
   {
    "duration": 18,
    "start_time": "2023-09-03T10:16:07.447Z"
   },
   {
    "duration": 6,
    "start_time": "2023-09-03T10:16:07.468Z"
   },
   {
    "duration": 14,
    "start_time": "2023-09-03T10:16:07.476Z"
   },
   {
    "duration": 18,
    "start_time": "2023-09-03T10:16:07.492Z"
   },
   {
    "duration": 9,
    "start_time": "2023-09-03T10:16:07.511Z"
   },
   {
    "duration": 18,
    "start_time": "2023-09-03T10:16:07.522Z"
   },
   {
    "duration": 29,
    "start_time": "2023-09-03T10:16:07.541Z"
   },
   {
    "duration": 17,
    "start_time": "2023-09-03T10:16:07.572Z"
   },
   {
    "duration": 19,
    "start_time": "2023-09-03T10:16:07.591Z"
   },
   {
    "duration": 5,
    "start_time": "2023-09-03T10:16:07.612Z"
   },
   {
    "duration": 184,
    "start_time": "2023-09-03T10:16:07.620Z"
   },
   {
    "duration": 22,
    "start_time": "2023-09-03T10:16:07.806Z"
   },
   {
    "duration": 268,
    "start_time": "2023-09-03T10:16:07.830Z"
   },
   {
    "duration": 3,
    "start_time": "2023-09-03T10:16:08.100Z"
   },
   {
    "duration": 18,
    "start_time": "2023-09-03T10:16:08.105Z"
   },
   {
    "duration": 271,
    "start_time": "2023-09-03T10:16:08.125Z"
   },
   {
    "duration": 235,
    "start_time": "2023-09-03T10:16:08.398Z"
   },
   {
    "duration": 110,
    "start_time": "2023-09-03T10:16:08.635Z"
   },
   {
    "duration": 53,
    "start_time": "2023-09-03T10:16:08.750Z"
   },
   {
    "duration": 217,
    "start_time": "2023-09-03T10:16:08.804Z"
   },
   {
    "duration": 162,
    "start_time": "2023-09-03T10:16:09.022Z"
   },
   {
    "duration": 218,
    "start_time": "2023-09-03T10:16:09.185Z"
   },
   {
    "duration": 663,
    "start_time": "2023-09-03T10:16:09.404Z"
   },
   {
    "duration": 249,
    "start_time": "2023-09-03T10:16:10.068Z"
   },
   {
    "duration": 2745,
    "start_time": "2023-09-03T10:16:10.319Z"
   },
   {
    "duration": 350,
    "start_time": "2023-09-03T10:16:13.065Z"
   },
   {
    "duration": 3,
    "start_time": "2023-09-03T10:16:13.417Z"
   },
   {
    "duration": 400,
    "start_time": "2023-09-03T10:16:13.422Z"
   },
   {
    "duration": 380,
    "start_time": "2023-09-03T10:16:13.824Z"
   },
   {
    "duration": 429,
    "start_time": "2023-09-03T10:16:14.205Z"
   },
   {
    "duration": 3,
    "start_time": "2023-09-03T10:16:14.636Z"
   },
   {
    "duration": 23,
    "start_time": "2023-09-03T10:16:14.641Z"
   },
   {
    "duration": 12,
    "start_time": "2023-09-03T10:16:14.666Z"
   },
   {
    "duration": 14,
    "start_time": "2023-09-03T10:16:14.679Z"
   },
   {
    "duration": 1372,
    "start_time": "2023-09-04T09:51:09.831Z"
   },
   {
    "duration": 117,
    "start_time": "2023-09-04T09:51:11.205Z"
   },
   {
    "duration": 20,
    "start_time": "2023-09-04T09:51:11.324Z"
   },
   {
    "duration": 11,
    "start_time": "2023-09-04T09:51:11.346Z"
   },
   {
    "duration": 26,
    "start_time": "2023-09-04T09:51:11.359Z"
   },
   {
    "duration": 20,
    "start_time": "2023-09-04T09:51:11.387Z"
   },
   {
    "duration": 42,
    "start_time": "2023-09-04T09:51:11.408Z"
   },
   {
    "duration": 16,
    "start_time": "2023-09-04T09:51:11.452Z"
   },
   {
    "duration": 9,
    "start_time": "2023-09-04T09:51:11.470Z"
   },
   {
    "duration": 14,
    "start_time": "2023-09-04T09:51:11.482Z"
   },
   {
    "duration": 9,
    "start_time": "2023-09-04T09:51:11.498Z"
   },
   {
    "duration": 46,
    "start_time": "2023-09-04T09:51:11.509Z"
   },
   {
    "duration": 4,
    "start_time": "2023-09-04T09:51:11.556Z"
   },
   {
    "duration": 167,
    "start_time": "2023-09-04T09:51:11.562Z"
   },
   {
    "duration": 29,
    "start_time": "2023-09-04T09:51:11.730Z"
   },
   {
    "duration": 256,
    "start_time": "2023-09-04T09:51:11.760Z"
   },
   {
    "duration": 3,
    "start_time": "2023-09-04T09:51:12.017Z"
   },
   {
    "duration": 34,
    "start_time": "2023-09-04T09:51:12.021Z"
   },
   {
    "duration": 263,
    "start_time": "2023-09-04T09:51:12.057Z"
   },
   {
    "duration": 230,
    "start_time": "2023-09-04T09:51:12.322Z"
   },
   {
    "duration": 104,
    "start_time": "2023-09-04T09:51:12.553Z"
   },
   {
    "duration": 38,
    "start_time": "2023-09-04T09:51:12.658Z"
   },
   {
    "duration": 205,
    "start_time": "2023-09-04T09:51:12.697Z"
   },
   {
    "duration": 137,
    "start_time": "2023-09-04T09:51:12.903Z"
   },
   {
    "duration": 245,
    "start_time": "2023-09-04T09:51:13.041Z"
   },
   {
    "duration": 717,
    "start_time": "2023-09-04T09:51:13.288Z"
   },
   {
    "duration": 310,
    "start_time": "2023-09-04T09:51:14.007Z"
   },
   {
    "duration": 2772,
    "start_time": "2023-09-04T09:51:14.320Z"
   },
   {
    "duration": 350,
    "start_time": "2023-09-04T09:51:17.094Z"
   },
   {
    "duration": 6,
    "start_time": "2023-09-04T09:51:17.446Z"
   },
   {
    "duration": 383,
    "start_time": "2023-09-04T09:51:17.453Z"
   },
   {
    "duration": 383,
    "start_time": "2023-09-04T09:51:17.838Z"
   },
   {
    "duration": 406,
    "start_time": "2023-09-04T09:51:18.222Z"
   },
   {
    "duration": 2,
    "start_time": "2023-09-04T09:51:18.630Z"
   },
   {
    "duration": 23,
    "start_time": "2023-09-04T09:51:18.634Z"
   },
   {
    "duration": 30,
    "start_time": "2023-09-04T09:51:18.659Z"
   },
   {
    "duration": 50,
    "start_time": "2023-09-04T09:51:18.691Z"
   },
   {
    "duration": 61,
    "start_time": "2023-09-04T19:52:28.171Z"
   },
   {
    "duration": 1394,
    "start_time": "2023-09-04T19:52:36.002Z"
   },
   {
    "duration": 148,
    "start_time": "2023-09-04T19:52:37.397Z"
   },
   {
    "duration": 28,
    "start_time": "2023-09-04T19:52:37.547Z"
   },
   {
    "duration": 10,
    "start_time": "2023-09-04T19:52:37.577Z"
   },
   {
    "duration": 5,
    "start_time": "2023-09-04T19:52:37.590Z"
   },
   {
    "duration": 8,
    "start_time": "2023-09-04T19:52:37.597Z"
   },
   {
    "duration": 21,
    "start_time": "2023-09-04T19:52:37.633Z"
   },
   {
    "duration": 9,
    "start_time": "2023-09-04T19:52:37.656Z"
   },
   {
    "duration": 7,
    "start_time": "2023-09-04T19:52:37.667Z"
   },
   {
    "duration": 14,
    "start_time": "2023-09-04T19:52:37.676Z"
   },
   {
    "duration": 7,
    "start_time": "2023-09-04T19:52:37.692Z"
   },
   {
    "duration": 54,
    "start_time": "2023-09-04T19:52:37.701Z"
   },
   {
    "duration": 5,
    "start_time": "2023-09-04T19:52:37.757Z"
   },
   {
    "duration": 215,
    "start_time": "2023-09-04T19:52:37.766Z"
   },
   {
    "duration": 24,
    "start_time": "2023-09-04T19:52:37.983Z"
   },
   {
    "duration": 315,
    "start_time": "2023-09-04T19:52:38.009Z"
   },
   {
    "duration": 9,
    "start_time": "2023-09-04T19:52:38.326Z"
   },
   {
    "duration": 22,
    "start_time": "2023-09-04T19:52:38.337Z"
   },
   {
    "duration": 295,
    "start_time": "2023-09-04T19:52:38.361Z"
   },
   {
    "duration": 294,
    "start_time": "2023-09-04T19:52:38.658Z"
   },
   {
    "duration": 130,
    "start_time": "2023-09-04T19:52:38.954Z"
   },
   {
    "duration": 74,
    "start_time": "2023-09-04T19:52:39.087Z"
   },
   {
    "duration": 241,
    "start_time": "2023-09-04T19:52:39.163Z"
   },
   {
    "duration": 181,
    "start_time": "2023-09-04T19:52:39.406Z"
   },
   {
    "duration": 249,
    "start_time": "2023-09-04T19:52:39.590Z"
   },
   {
    "duration": 746,
    "start_time": "2023-09-04T19:52:39.841Z"
   },
   {
    "duration": 309,
    "start_time": "2023-09-04T19:52:40.589Z"
   },
   {
    "duration": 2953,
    "start_time": "2023-09-04T19:52:40.900Z"
   },
   {
    "duration": 415,
    "start_time": "2023-09-04T19:52:43.856Z"
   },
   {
    "duration": 4,
    "start_time": "2023-09-04T19:52:44.274Z"
   },
   {
    "duration": 504,
    "start_time": "2023-09-04T19:52:44.280Z"
   },
   {
    "duration": 422,
    "start_time": "2023-09-04T19:52:44.785Z"
   },
   {
    "duration": 432,
    "start_time": "2023-09-04T19:52:45.209Z"
   },
   {
    "duration": 3,
    "start_time": "2023-09-04T19:52:45.643Z"
   },
   {
    "duration": 12,
    "start_time": "2023-09-04T19:52:45.648Z"
   },
   {
    "duration": 5,
    "start_time": "2023-09-04T19:52:45.662Z"
   },
   {
    "duration": 12,
    "start_time": "2023-09-04T19:52:45.668Z"
   },
   {
    "duration": 222,
    "start_time": "2023-09-04T19:53:37.577Z"
   },
   {
    "duration": 165,
    "start_time": "2023-09-04T19:53:54.947Z"
   },
   {
    "duration": 116,
    "start_time": "2023-09-04T19:55:52.651Z"
   },
   {
    "duration": 138,
    "start_time": "2023-09-04T19:56:06.621Z"
   },
   {
    "duration": 206,
    "start_time": "2023-09-04T19:56:14.714Z"
   },
   {
    "duration": 5,
    "start_time": "2023-09-04T19:56:40.413Z"
   },
   {
    "duration": 18274,
    "start_time": "2023-09-04T19:57:05.148Z"
   },
   {
    "duration": 166,
    "start_time": "2023-09-04T19:57:42.494Z"
   },
   {
    "duration": 128,
    "start_time": "2023-09-04T19:59:05.583Z"
   },
   {
    "duration": 101,
    "start_time": "2023-09-04T19:59:15.728Z"
   },
   {
    "duration": 134,
    "start_time": "2023-09-04T19:59:21.050Z"
   },
   {
    "duration": 107,
    "start_time": "2023-09-04T19:59:50.884Z"
   },
   {
    "duration": 125,
    "start_time": "2023-09-04T19:59:57.691Z"
   },
   {
    "duration": 124,
    "start_time": "2023-09-04T20:00:05.513Z"
   },
   {
    "duration": 309,
    "start_time": "2023-09-04T20:00:11.071Z"
   },
   {
    "duration": 122,
    "start_time": "2023-09-04T20:00:15.022Z"
   },
   {
    "duration": 136,
    "start_time": "2023-09-04T20:00:23.134Z"
   },
   {
    "duration": 142,
    "start_time": "2023-09-04T20:00:30.153Z"
   },
   {
    "duration": 135,
    "start_time": "2023-09-04T20:00:38.613Z"
   },
   {
    "duration": 93,
    "start_time": "2023-09-04T20:00:50.221Z"
   },
   {
    "duration": 137,
    "start_time": "2023-09-04T20:02:02.908Z"
   },
   {
    "duration": 161,
    "start_time": "2023-09-04T20:02:10.147Z"
   },
   {
    "duration": 716,
    "start_time": "2023-09-04T20:02:14.133Z"
   },
   {
    "duration": 145,
    "start_time": "2023-09-04T20:02:24.451Z"
   },
   {
    "duration": 130,
    "start_time": "2023-09-04T20:02:37.964Z"
   },
   {
    "duration": 167,
    "start_time": "2023-09-04T20:03:02.628Z"
   },
   {
    "duration": 88,
    "start_time": "2023-09-04T20:03:16.564Z"
   },
   {
    "duration": 140,
    "start_time": "2023-09-04T20:03:24.947Z"
   },
   {
    "duration": 166,
    "start_time": "2023-09-04T20:03:54.531Z"
   },
   {
    "duration": 128,
    "start_time": "2023-09-04T20:05:05.621Z"
   },
   {
    "duration": 128,
    "start_time": "2023-09-04T20:05:11.340Z"
   },
   {
    "duration": 126,
    "start_time": "2023-09-04T20:05:21.276Z"
   },
   {
    "duration": 99,
    "start_time": "2023-09-04T20:06:16.361Z"
   },
   {
    "duration": 97,
    "start_time": "2023-09-04T20:08:26.525Z"
   },
   {
    "duration": 1232,
    "start_time": "2023-09-04T20:08:59.231Z"
   },
   {
    "duration": 110,
    "start_time": "2023-09-04T20:09:00.465Z"
   },
   {
    "duration": 21,
    "start_time": "2023-09-04T20:09:00.577Z"
   },
   {
    "duration": 35,
    "start_time": "2023-09-04T20:09:00.600Z"
   },
   {
    "duration": 28,
    "start_time": "2023-09-04T20:09:00.639Z"
   },
   {
    "duration": 30,
    "start_time": "2023-09-04T20:09:00.669Z"
   },
   {
    "duration": 35,
    "start_time": "2023-09-04T20:09:00.700Z"
   },
   {
    "duration": 24,
    "start_time": "2023-09-04T20:09:00.737Z"
   },
   {
    "duration": 31,
    "start_time": "2023-09-04T20:09:00.763Z"
   },
   {
    "duration": 31,
    "start_time": "2023-09-04T20:09:00.795Z"
   },
   {
    "duration": 24,
    "start_time": "2023-09-04T20:09:00.828Z"
   },
   {
    "duration": 29,
    "start_time": "2023-09-04T20:09:00.853Z"
   },
   {
    "duration": 15,
    "start_time": "2023-09-04T20:09:00.883Z"
   },
   {
    "duration": 97,
    "start_time": "2023-09-04T20:09:00.901Z"
   },
   {
    "duration": 0,
    "start_time": "2023-09-04T20:09:01.000Z"
   },
   {
    "duration": 0,
    "start_time": "2023-09-04T20:09:01.001Z"
   },
   {
    "duration": 0,
    "start_time": "2023-09-04T20:09:01.002Z"
   },
   {
    "duration": 0,
    "start_time": "2023-09-04T20:09:01.003Z"
   },
   {
    "duration": 0,
    "start_time": "2023-09-04T20:09:01.004Z"
   },
   {
    "duration": 0,
    "start_time": "2023-09-04T20:09:01.006Z"
   },
   {
    "duration": 0,
    "start_time": "2023-09-04T20:09:01.007Z"
   },
   {
    "duration": 0,
    "start_time": "2023-09-04T20:09:01.009Z"
   },
   {
    "duration": 0,
    "start_time": "2023-09-04T20:09:01.010Z"
   },
   {
    "duration": 0,
    "start_time": "2023-09-04T20:09:01.011Z"
   },
   {
    "duration": 0,
    "start_time": "2023-09-04T20:09:01.012Z"
   },
   {
    "duration": 0,
    "start_time": "2023-09-04T20:09:01.014Z"
   },
   {
    "duration": 0,
    "start_time": "2023-09-04T20:09:01.015Z"
   },
   {
    "duration": 0,
    "start_time": "2023-09-04T20:09:01.016Z"
   },
   {
    "duration": 0,
    "start_time": "2023-09-04T20:09:01.017Z"
   },
   {
    "duration": 0,
    "start_time": "2023-09-04T20:09:01.019Z"
   },
   {
    "duration": 0,
    "start_time": "2023-09-04T20:09:01.020Z"
   },
   {
    "duration": 0,
    "start_time": "2023-09-04T20:09:01.022Z"
   },
   {
    "duration": 0,
    "start_time": "2023-09-04T20:09:01.023Z"
   },
   {
    "duration": 0,
    "start_time": "2023-09-04T20:09:01.024Z"
   },
   {
    "duration": 0,
    "start_time": "2023-09-04T20:09:01.025Z"
   },
   {
    "duration": 0,
    "start_time": "2023-09-04T20:09:01.027Z"
   },
   {
    "duration": 0,
    "start_time": "2023-09-04T20:09:01.028Z"
   },
   {
    "duration": 177,
    "start_time": "2023-09-04T20:09:14.555Z"
   },
   {
    "duration": 311,
    "start_time": "2023-09-04T20:10:04.249Z"
   },
   {
    "duration": 268,
    "start_time": "2023-09-04T20:10:10.874Z"
   },
   {
    "duration": 284,
    "start_time": "2023-09-04T20:10:17.782Z"
   },
   {
    "duration": 290,
    "start_time": "2023-09-04T20:10:24.228Z"
   },
   {
    "duration": 298,
    "start_time": "2023-09-04T20:10:30.233Z"
   },
   {
    "duration": 1370,
    "start_time": "2023-09-04T21:39:48.023Z"
   },
   {
    "duration": 140,
    "start_time": "2023-09-04T21:39:49.395Z"
   },
   {
    "duration": 22,
    "start_time": "2023-09-04T21:39:51.857Z"
   },
   {
    "duration": 8,
    "start_time": "2023-09-04T21:39:53.811Z"
   },
   {
    "duration": 5,
    "start_time": "2023-09-04T21:39:54.158Z"
   },
   {
    "duration": 8,
    "start_time": "2023-09-04T21:39:54.611Z"
   },
   {
    "duration": 15,
    "start_time": "2023-09-04T21:39:54.871Z"
   },
   {
    "duration": 10,
    "start_time": "2023-09-04T21:39:55.264Z"
   },
   {
    "duration": 9,
    "start_time": "2023-09-04T21:39:55.804Z"
   },
   {
    "duration": 13,
    "start_time": "2023-09-04T21:39:56.362Z"
   },
   {
    "duration": 7,
    "start_time": "2023-09-04T21:39:56.736Z"
   },
   {
    "duration": 19,
    "start_time": "2023-09-04T21:39:57.604Z"
   },
   {
    "duration": 5,
    "start_time": "2023-09-04T21:39:58.916Z"
   },
   {
    "duration": 335,
    "start_time": "2023-09-04T21:40:01.238Z"
   },
   {
    "duration": 23,
    "start_time": "2023-09-04T21:40:10.495Z"
   },
   {
    "duration": 288,
    "start_time": "2023-09-04T21:40:10.896Z"
   },
   {
    "duration": 3,
    "start_time": "2023-09-04T21:40:13.095Z"
   },
   {
    "duration": 14,
    "start_time": "2023-09-04T21:40:13.257Z"
   },
   {
    "duration": 267,
    "start_time": "2023-09-04T21:40:13.496Z"
   },
   {
    "duration": 301,
    "start_time": "2023-09-04T21:40:22.516Z"
   },
   {
    "duration": 258,
    "start_time": "2023-09-04T21:41:15.454Z"
   },
   {
    "duration": 259,
    "start_time": "2023-09-04T21:41:22.076Z"
   },
   {
    "duration": 1284,
    "start_time": "2023-09-04T21:43:27.737Z"
   },
   {
    "duration": 92,
    "start_time": "2023-09-04T21:43:29.023Z"
   },
   {
    "duration": 25,
    "start_time": "2023-09-04T21:43:29.117Z"
   },
   {
    "duration": 8,
    "start_time": "2023-09-04T21:43:29.144Z"
   },
   {
    "duration": 6,
    "start_time": "2023-09-04T21:43:29.155Z"
   },
   {
    "duration": 8,
    "start_time": "2023-09-04T21:43:29.163Z"
   },
   {
    "duration": 46,
    "start_time": "2023-09-04T21:43:29.172Z"
   },
   {
    "duration": 11,
    "start_time": "2023-09-04T21:43:29.220Z"
   },
   {
    "duration": 7,
    "start_time": "2023-09-04T21:43:29.233Z"
   },
   {
    "duration": 13,
    "start_time": "2023-09-04T21:43:29.242Z"
   },
   {
    "duration": 8,
    "start_time": "2023-09-04T21:43:29.257Z"
   },
   {
    "duration": 66,
    "start_time": "2023-09-04T21:43:29.267Z"
   },
   {
    "duration": 6,
    "start_time": "2023-09-04T21:43:29.336Z"
   },
   {
    "duration": 339,
    "start_time": "2023-09-04T21:43:29.347Z"
   },
   {
    "duration": 43,
    "start_time": "2023-09-04T21:43:29.688Z"
   },
   {
    "duration": 322,
    "start_time": "2023-09-04T21:43:29.734Z"
   },
   {
    "duration": 3,
    "start_time": "2023-09-04T21:43:30.058Z"
   },
   {
    "duration": 32,
    "start_time": "2023-09-04T21:43:30.063Z"
   },
   {
    "duration": 232,
    "start_time": "2023-09-04T21:43:30.097Z"
   },
   {
    "duration": 215,
    "start_time": "2023-09-04T21:43:30.331Z"
   },
   {
    "duration": 144,
    "start_time": "2023-09-04T21:43:30.548Z"
   },
   {
    "duration": 53,
    "start_time": "2023-09-04T21:43:30.694Z"
   },
   {
    "duration": 191,
    "start_time": "2023-09-04T21:43:30.750Z"
   },
   {
    "duration": 187,
    "start_time": "2023-09-04T21:43:30.944Z"
   },
   {
    "duration": 274,
    "start_time": "2023-09-04T21:43:31.132Z"
   },
   {
    "duration": 748,
    "start_time": "2023-09-04T21:43:31.410Z"
   },
   {
    "duration": 391,
    "start_time": "2023-09-04T21:43:32.160Z"
   },
   {
    "duration": 1513,
    "start_time": "2023-09-04T21:43:32.554Z"
   },
   {
    "duration": 341,
    "start_time": "2023-09-04T21:43:34.068Z"
   },
   {
    "duration": 6,
    "start_time": "2023-09-04T21:43:34.412Z"
   },
   {
    "duration": 489,
    "start_time": "2023-09-04T21:43:34.420Z"
   },
   {
    "duration": 605,
    "start_time": "2023-09-04T21:43:34.911Z"
   },
   {
    "duration": 502,
    "start_time": "2023-09-04T21:43:35.518Z"
   },
   {
    "duration": 3,
    "start_time": "2023-09-04T21:43:36.023Z"
   },
   {
    "duration": 16,
    "start_time": "2023-09-04T21:43:36.028Z"
   },
   {
    "duration": 7,
    "start_time": "2023-09-04T21:43:36.047Z"
   },
   {
    "duration": 17,
    "start_time": "2023-09-04T21:43:36.056Z"
   },
   {
    "duration": 214,
    "start_time": "2023-09-04T21:44:51.539Z"
   },
   {
    "duration": 3,
    "start_time": "2023-09-04T21:44:57.438Z"
   },
   {
    "duration": 15,
    "start_time": "2023-09-04T21:44:57.783Z"
   },
   {
    "duration": 233,
    "start_time": "2023-09-04T21:44:58.136Z"
   },
   {
    "duration": 1203,
    "start_time": "2023-09-04T21:45:47.275Z"
   },
   {
    "duration": 88,
    "start_time": "2023-09-04T21:45:48.479Z"
   },
   {
    "duration": 26,
    "start_time": "2023-09-04T21:45:48.569Z"
   },
   {
    "duration": 18,
    "start_time": "2023-09-04T21:45:48.599Z"
   },
   {
    "duration": 10,
    "start_time": "2023-09-04T21:45:48.620Z"
   },
   {
    "duration": 20,
    "start_time": "2023-09-04T21:45:48.632Z"
   },
   {
    "duration": 20,
    "start_time": "2023-09-04T21:45:48.654Z"
   },
   {
    "duration": 35,
    "start_time": "2023-09-04T21:45:48.675Z"
   },
   {
    "duration": 8,
    "start_time": "2023-09-04T21:45:48.712Z"
   },
   {
    "duration": 12,
    "start_time": "2023-09-04T21:45:48.723Z"
   },
   {
    "duration": 7,
    "start_time": "2023-09-04T21:45:48.737Z"
   },
   {
    "duration": 17,
    "start_time": "2023-09-04T21:45:48.745Z"
   },
   {
    "duration": 5,
    "start_time": "2023-09-04T21:45:48.764Z"
   },
   {
    "duration": 351,
    "start_time": "2023-09-04T21:45:48.770Z"
   },
   {
    "duration": 24,
    "start_time": "2023-09-04T21:45:49.123Z"
   },
   {
    "duration": 292,
    "start_time": "2023-09-04T21:45:49.148Z"
   },
   {
    "duration": 3,
    "start_time": "2023-09-04T21:45:49.442Z"
   },
   {
    "duration": 24,
    "start_time": "2023-09-04T21:45:49.447Z"
   },
   {
    "duration": 248,
    "start_time": "2023-09-04T21:45:49.472Z"
   },
   {
    "duration": 197,
    "start_time": "2023-09-04T21:45:49.721Z"
   },
   {
    "duration": 114,
    "start_time": "2023-09-04T21:45:49.920Z"
   },
   {
    "duration": 45,
    "start_time": "2023-09-04T21:45:50.036Z"
   },
   {
    "duration": 194,
    "start_time": "2023-09-04T21:45:50.083Z"
   },
   {
    "duration": 166,
    "start_time": "2023-09-04T21:45:50.279Z"
   },
   {
    "duration": 241,
    "start_time": "2023-09-04T21:45:50.447Z"
   },
   {
    "duration": 720,
    "start_time": "2023-09-04T21:45:50.690Z"
   },
   {
    "duration": 302,
    "start_time": "2023-09-04T21:45:51.413Z"
   },
   {
    "duration": 1452,
    "start_time": "2023-09-04T21:45:51.720Z"
   },
   {
    "duration": 313,
    "start_time": "2023-09-04T21:45:53.174Z"
   },
   {
    "duration": 5,
    "start_time": "2023-09-04T21:45:53.489Z"
   },
   {
    "duration": 461,
    "start_time": "2023-09-04T21:45:53.496Z"
   },
   {
    "duration": 535,
    "start_time": "2023-09-04T21:45:53.959Z"
   },
   {
    "duration": 479,
    "start_time": "2023-09-04T21:45:54.497Z"
   },
   {
    "duration": 3,
    "start_time": "2023-09-04T21:45:54.978Z"
   },
   {
    "duration": 38,
    "start_time": "2023-09-04T21:45:54.983Z"
   },
   {
    "duration": 13,
    "start_time": "2023-09-04T21:45:55.023Z"
   },
   {
    "duration": 14,
    "start_time": "2023-09-04T21:45:55.037Z"
   },
   {
    "duration": 106,
    "start_time": "2023-09-04T21:47:17.558Z"
   },
   {
    "duration": 46,
    "start_time": "2023-09-04T21:47:18.375Z"
   },
   {
    "duration": 163,
    "start_time": "2023-09-04T21:47:18.914Z"
   },
   {
    "duration": 57,
    "start_time": "2023-09-05T15:13:40.697Z"
   },
   {
    "duration": 1471,
    "start_time": "2023-09-05T15:13:45.163Z"
   },
   {
    "duration": 139,
    "start_time": "2023-09-05T15:13:46.637Z"
   },
   {
    "duration": 23,
    "start_time": "2023-09-05T15:13:46.777Z"
   },
   {
    "duration": 30,
    "start_time": "2023-09-05T15:13:46.801Z"
   },
   {
    "duration": 46,
    "start_time": "2023-09-05T15:13:46.834Z"
   },
   {
    "duration": 50,
    "start_time": "2023-09-05T15:13:46.882Z"
   },
   {
    "duration": 38,
    "start_time": "2023-09-05T15:13:46.934Z"
   },
   {
    "duration": 15,
    "start_time": "2023-09-05T15:13:46.974Z"
   },
   {
    "duration": 15,
    "start_time": "2023-09-05T15:13:46.991Z"
   },
   {
    "duration": 22,
    "start_time": "2023-09-05T15:13:47.007Z"
   },
   {
    "duration": 9,
    "start_time": "2023-09-05T15:13:47.031Z"
   },
   {
    "duration": 17,
    "start_time": "2023-09-05T15:13:47.042Z"
   },
   {
    "duration": 4,
    "start_time": "2023-09-05T15:13:47.061Z"
   },
   {
    "duration": 357,
    "start_time": "2023-09-05T15:13:47.068Z"
   },
   {
    "duration": 25,
    "start_time": "2023-09-05T15:13:47.427Z"
   },
   {
    "duration": 301,
    "start_time": "2023-09-05T15:13:47.453Z"
   },
   {
    "duration": 3,
    "start_time": "2023-09-05T15:13:47.755Z"
   },
   {
    "duration": 16,
    "start_time": "2023-09-05T15:13:47.760Z"
   },
   {
    "duration": 238,
    "start_time": "2023-09-05T15:13:47.778Z"
   },
   {
    "duration": 30,
    "start_time": "2023-09-05T15:13:48.017Z"
   },
   {
    "duration": 209,
    "start_time": "2023-09-05T15:13:48.049Z"
   },
   {
    "duration": 129,
    "start_time": "2023-09-05T15:13:48.260Z"
   },
   {
    "duration": 59,
    "start_time": "2023-09-05T15:13:48.391Z"
   },
   {
    "duration": 188,
    "start_time": "2023-09-05T15:13:48.452Z"
   },
   {
    "duration": 165,
    "start_time": "2023-09-05T15:13:48.642Z"
   },
   {
    "duration": 239,
    "start_time": "2023-09-05T15:13:48.809Z"
   },
   {
    "duration": 775,
    "start_time": "2023-09-05T15:13:49.050Z"
   },
   {
    "duration": 285,
    "start_time": "2023-09-05T15:13:49.827Z"
   },
   {
    "duration": 1454,
    "start_time": "2023-09-05T15:13:50.115Z"
   },
   {
    "duration": 306,
    "start_time": "2023-09-05T15:13:51.571Z"
   },
   {
    "duration": 5,
    "start_time": "2023-09-05T15:13:51.879Z"
   },
   {
    "duration": 483,
    "start_time": "2023-09-05T15:13:51.886Z"
   },
   {
    "duration": 614,
    "start_time": "2023-09-05T15:13:52.371Z"
   },
   {
    "duration": 449,
    "start_time": "2023-09-05T15:13:52.986Z"
   },
   {
    "duration": 4,
    "start_time": "2023-09-05T15:13:53.437Z"
   },
   {
    "duration": 23,
    "start_time": "2023-09-05T15:13:53.443Z"
   },
   {
    "duration": 18,
    "start_time": "2023-09-05T15:13:53.468Z"
   },
   {
    "duration": 18,
    "start_time": "2023-09-05T15:13:53.488Z"
   },
   {
    "duration": 6,
    "start_time": "2023-09-05T15:14:37.285Z"
   },
   {
    "duration": 26,
    "start_time": "2023-09-05T15:14:43.851Z"
   },
   {
    "duration": 1217,
    "start_time": "2023-09-05T15:15:46.602Z"
   },
   {
    "duration": 100,
    "start_time": "2023-09-05T15:15:47.821Z"
   },
   {
    "duration": 23,
    "start_time": "2023-09-05T15:15:47.923Z"
   },
   {
    "duration": 29,
    "start_time": "2023-09-05T15:15:47.947Z"
   },
   {
    "duration": 27,
    "start_time": "2023-09-05T15:15:47.979Z"
   },
   {
    "duration": 31,
    "start_time": "2023-09-05T15:15:48.008Z"
   },
   {
    "duration": 36,
    "start_time": "2023-09-05T15:15:48.041Z"
   },
   {
    "duration": 21,
    "start_time": "2023-09-05T15:15:48.079Z"
   },
   {
    "duration": 27,
    "start_time": "2023-09-05T15:15:48.102Z"
   },
   {
    "duration": 36,
    "start_time": "2023-09-05T15:15:48.130Z"
   },
   {
    "duration": 31,
    "start_time": "2023-09-05T15:15:48.168Z"
   },
   {
    "duration": 45,
    "start_time": "2023-09-05T15:15:48.201Z"
   },
   {
    "duration": 36,
    "start_time": "2023-09-05T15:15:48.247Z"
   },
   {
    "duration": 308,
    "start_time": "2023-09-05T15:15:48.286Z"
   },
   {
    "duration": 36,
    "start_time": "2023-09-05T15:15:48.596Z"
   },
   {
    "duration": 320,
    "start_time": "2023-09-05T15:15:48.634Z"
   },
   {
    "duration": 4,
    "start_time": "2023-09-05T15:15:48.956Z"
   },
   {
    "duration": 76,
    "start_time": "2023-09-05T15:15:48.962Z"
   },
   {
    "duration": 234,
    "start_time": "2023-09-05T15:15:49.040Z"
   },
   {
    "duration": 7,
    "start_time": "2023-09-05T15:15:49.275Z"
   },
   {
    "duration": 220,
    "start_time": "2023-09-05T15:15:49.283Z"
   },
   {
    "duration": 121,
    "start_time": "2023-09-05T15:15:49.504Z"
   },
   {
    "duration": 14,
    "start_time": "2023-09-05T15:15:49.627Z"
   },
   {
    "duration": 141,
    "start_time": "2023-09-05T15:15:49.642Z"
   },
   {
    "duration": 0,
    "start_time": "2023-09-05T15:15:49.784Z"
   },
   {
    "duration": 0,
    "start_time": "2023-09-05T15:15:49.785Z"
   },
   {
    "duration": 0,
    "start_time": "2023-09-05T15:15:49.786Z"
   },
   {
    "duration": 0,
    "start_time": "2023-09-05T15:15:49.787Z"
   },
   {
    "duration": 0,
    "start_time": "2023-09-05T15:15:49.789Z"
   },
   {
    "duration": 0,
    "start_time": "2023-09-05T15:15:49.790Z"
   },
   {
    "duration": 0,
    "start_time": "2023-09-05T15:15:49.791Z"
   },
   {
    "duration": 0,
    "start_time": "2023-09-05T15:15:49.792Z"
   },
   {
    "duration": 0,
    "start_time": "2023-09-05T15:15:49.793Z"
   },
   {
    "duration": 0,
    "start_time": "2023-09-05T15:15:49.794Z"
   },
   {
    "duration": 0,
    "start_time": "2023-09-05T15:15:49.795Z"
   },
   {
    "duration": 0,
    "start_time": "2023-09-05T15:15:49.809Z"
   },
   {
    "duration": 0,
    "start_time": "2023-09-05T15:15:49.810Z"
   },
   {
    "duration": 0,
    "start_time": "2023-09-05T15:15:49.812Z"
   },
   {
    "duration": 1233,
    "start_time": "2023-09-05T15:16:50.069Z"
   },
   {
    "duration": 88,
    "start_time": "2023-09-05T15:16:51.304Z"
   },
   {
    "duration": 29,
    "start_time": "2023-09-05T15:16:51.394Z"
   },
   {
    "duration": 10,
    "start_time": "2023-09-05T15:16:51.425Z"
   },
   {
    "duration": 6,
    "start_time": "2023-09-05T15:16:51.437Z"
   },
   {
    "duration": 15,
    "start_time": "2023-09-05T15:16:51.444Z"
   },
   {
    "duration": 17,
    "start_time": "2023-09-05T15:16:51.461Z"
   },
   {
    "duration": 10,
    "start_time": "2023-09-05T15:16:51.480Z"
   },
   {
    "duration": 25,
    "start_time": "2023-09-05T15:16:51.492Z"
   },
   {
    "duration": 14,
    "start_time": "2023-09-05T15:16:51.519Z"
   },
   {
    "duration": 6,
    "start_time": "2023-09-05T15:16:51.535Z"
   },
   {
    "duration": 18,
    "start_time": "2023-09-05T15:16:51.543Z"
   },
   {
    "duration": 5,
    "start_time": "2023-09-05T15:16:51.563Z"
   },
   {
    "duration": 361,
    "start_time": "2023-09-05T15:16:51.572Z"
   },
   {
    "duration": 26,
    "start_time": "2023-09-05T15:16:51.935Z"
   },
   {
    "duration": 325,
    "start_time": "2023-09-05T15:16:51.963Z"
   },
   {
    "duration": 4,
    "start_time": "2023-09-05T15:16:52.290Z"
   },
   {
    "duration": 29,
    "start_time": "2023-09-05T15:16:52.296Z"
   },
   {
    "duration": 271,
    "start_time": "2023-09-05T15:16:52.327Z"
   },
   {
    "duration": 22,
    "start_time": "2023-09-05T15:16:52.599Z"
   },
   {
    "duration": 220,
    "start_time": "2023-09-05T15:16:52.623Z"
   },
   {
    "duration": 116,
    "start_time": "2023-09-05T15:16:52.845Z"
   },
   {
    "duration": 14,
    "start_time": "2023-09-05T15:16:52.963Z"
   },
   {
    "duration": 119,
    "start_time": "2023-09-05T15:16:52.979Z"
   },
   {
    "duration": 0,
    "start_time": "2023-09-05T15:16:53.099Z"
   },
   {
    "duration": 0,
    "start_time": "2023-09-05T15:16:53.101Z"
   },
   {
    "duration": 0,
    "start_time": "2023-09-05T15:16:53.102Z"
   },
   {
    "duration": 0,
    "start_time": "2023-09-05T15:16:53.109Z"
   },
   {
    "duration": 0,
    "start_time": "2023-09-05T15:16:53.109Z"
   },
   {
    "duration": 0,
    "start_time": "2023-09-05T15:16:53.110Z"
   },
   {
    "duration": 0,
    "start_time": "2023-09-05T15:16:53.111Z"
   },
   {
    "duration": 0,
    "start_time": "2023-09-05T15:16:53.111Z"
   },
   {
    "duration": 0,
    "start_time": "2023-09-05T15:16:53.112Z"
   },
   {
    "duration": 0,
    "start_time": "2023-09-05T15:16:53.113Z"
   },
   {
    "duration": 0,
    "start_time": "2023-09-05T15:16:53.114Z"
   },
   {
    "duration": 0,
    "start_time": "2023-09-05T15:16:53.115Z"
   },
   {
    "duration": 0,
    "start_time": "2023-09-05T15:16:53.116Z"
   },
   {
    "duration": 0,
    "start_time": "2023-09-05T15:16:53.117Z"
   },
   {
    "duration": 1286,
    "start_time": "2023-09-05T15:27:03.046Z"
   },
   {
    "duration": 92,
    "start_time": "2023-09-05T15:27:04.334Z"
   },
   {
    "duration": 23,
    "start_time": "2023-09-05T15:27:04.428Z"
   },
   {
    "duration": 17,
    "start_time": "2023-09-05T15:27:04.453Z"
   },
   {
    "duration": 12,
    "start_time": "2023-09-05T15:27:04.473Z"
   },
   {
    "duration": 13,
    "start_time": "2023-09-05T15:27:04.487Z"
   },
   {
    "duration": 24,
    "start_time": "2023-09-05T15:27:04.501Z"
   },
   {
    "duration": 10,
    "start_time": "2023-09-05T15:27:04.527Z"
   },
   {
    "duration": 12,
    "start_time": "2023-09-05T15:27:04.538Z"
   },
   {
    "duration": 11,
    "start_time": "2023-09-05T15:27:04.551Z"
   },
   {
    "duration": 7,
    "start_time": "2023-09-05T15:27:04.564Z"
   },
   {
    "duration": 50,
    "start_time": "2023-09-05T15:27:04.573Z"
   },
   {
    "duration": 5,
    "start_time": "2023-09-05T15:27:04.626Z"
   },
   {
    "duration": 318,
    "start_time": "2023-09-05T15:27:04.634Z"
   },
   {
    "duration": 25,
    "start_time": "2023-09-05T15:27:04.954Z"
   },
   {
    "duration": 342,
    "start_time": "2023-09-05T15:27:04.981Z"
   },
   {
    "duration": 5,
    "start_time": "2023-09-05T15:27:05.325Z"
   },
   {
    "duration": 35,
    "start_time": "2023-09-05T15:27:05.333Z"
   },
   {
    "duration": 256,
    "start_time": "2023-09-05T15:27:05.371Z"
   },
   {
    "duration": 2,
    "start_time": "2023-09-05T15:27:05.629Z"
   },
   {
    "duration": 201,
    "start_time": "2023-09-05T15:27:05.633Z"
   },
   {
    "duration": 139,
    "start_time": "2023-09-05T15:27:05.837Z"
   },
   {
    "duration": 58,
    "start_time": "2023-09-05T15:27:05.978Z"
   },
   {
    "duration": 189,
    "start_time": "2023-09-05T15:27:06.038Z"
   },
   {
    "duration": 168,
    "start_time": "2023-09-05T15:27:06.228Z"
   },
   {
    "duration": 251,
    "start_time": "2023-09-05T15:27:06.397Z"
   },
   {
    "duration": 691,
    "start_time": "2023-09-05T15:27:06.649Z"
   },
   {
    "duration": 259,
    "start_time": "2023-09-05T15:27:07.342Z"
   },
   {
    "duration": 1465,
    "start_time": "2023-09-05T15:27:07.603Z"
   },
   {
    "duration": 308,
    "start_time": "2023-09-05T15:27:09.070Z"
   },
   {
    "duration": 4,
    "start_time": "2023-09-05T15:27:09.380Z"
   },
   {
    "duration": 473,
    "start_time": "2023-09-05T15:27:09.387Z"
   },
   {
    "duration": 530,
    "start_time": "2023-09-05T15:27:09.861Z"
   },
   {
    "duration": 460,
    "start_time": "2023-09-05T15:27:10.392Z"
   },
   {
    "duration": 2,
    "start_time": "2023-09-05T15:27:10.854Z"
   },
   {
    "duration": 58,
    "start_time": "2023-09-05T15:27:10.858Z"
   },
   {
    "duration": 11,
    "start_time": "2023-09-05T15:27:10.923Z"
   },
   {
    "duration": 25,
    "start_time": "2023-09-05T15:27:10.937Z"
   },
   {
    "duration": 1230,
    "start_time": "2023-09-05T15:42:13.141Z"
   },
   {
    "duration": 89,
    "start_time": "2023-09-05T15:42:14.373Z"
   },
   {
    "duration": 22,
    "start_time": "2023-09-05T15:42:14.463Z"
   },
   {
    "duration": 30,
    "start_time": "2023-09-05T15:42:14.487Z"
   },
   {
    "duration": 21,
    "start_time": "2023-09-05T15:42:14.520Z"
   },
   {
    "duration": 38,
    "start_time": "2023-09-05T15:42:14.542Z"
   },
   {
    "duration": 47,
    "start_time": "2023-09-05T15:42:14.582Z"
   },
   {
    "duration": 71,
    "start_time": "2023-09-05T15:42:14.630Z"
   },
   {
    "duration": 62,
    "start_time": "2023-09-05T15:42:14.703Z"
   },
   {
    "duration": 25,
    "start_time": "2023-09-05T15:42:14.767Z"
   },
   {
    "duration": 20,
    "start_time": "2023-09-05T15:42:14.793Z"
   },
   {
    "duration": 109,
    "start_time": "2023-09-05T15:42:14.815Z"
   },
   {
    "duration": 34,
    "start_time": "2023-09-05T15:42:14.927Z"
   },
   {
    "duration": 354,
    "start_time": "2023-09-05T15:42:14.964Z"
   },
   {
    "duration": 28,
    "start_time": "2023-09-05T15:42:15.320Z"
   },
   {
    "duration": 316,
    "start_time": "2023-09-05T15:42:15.350Z"
   },
   {
    "duration": 3,
    "start_time": "2023-09-05T15:42:15.667Z"
   },
   {
    "duration": 36,
    "start_time": "2023-09-05T15:42:15.671Z"
   },
   {
    "duration": 237,
    "start_time": "2023-09-05T15:42:15.708Z"
   },
   {
    "duration": 7,
    "start_time": "2023-09-05T15:42:15.947Z"
   },
   {
    "duration": 28,
    "start_time": "2023-09-05T15:42:15.955Z"
   },
   {
    "duration": 235,
    "start_time": "2023-09-05T15:42:15.985Z"
   },
   {
    "duration": 112,
    "start_time": "2023-09-05T15:42:16.222Z"
   },
   {
    "duration": 14,
    "start_time": "2023-09-05T15:42:16.336Z"
   },
   {
    "duration": 245,
    "start_time": "2023-09-05T15:42:16.352Z"
   },
   {
    "duration": 166,
    "start_time": "2023-09-05T15:42:16.599Z"
   },
   {
    "duration": 233,
    "start_time": "2023-09-05T15:42:16.766Z"
   },
   {
    "duration": 700,
    "start_time": "2023-09-05T15:42:17.001Z"
   },
   {
    "duration": 296,
    "start_time": "2023-09-05T15:42:17.703Z"
   },
   {
    "duration": 1454,
    "start_time": "2023-09-05T15:42:18.001Z"
   },
   {
    "duration": 315,
    "start_time": "2023-09-05T15:42:19.456Z"
   },
   {
    "duration": 5,
    "start_time": "2023-09-05T15:42:19.772Z"
   },
   {
    "duration": 483,
    "start_time": "2023-09-05T15:42:19.778Z"
   },
   {
    "duration": 541,
    "start_time": "2023-09-05T15:42:20.262Z"
   },
   {
    "duration": 452,
    "start_time": "2023-09-05T15:42:20.805Z"
   },
   {
    "duration": 3,
    "start_time": "2023-09-05T15:42:21.259Z"
   },
   {
    "duration": 11,
    "start_time": "2023-09-05T15:42:21.269Z"
   },
   {
    "duration": 26,
    "start_time": "2023-09-05T15:42:21.282Z"
   },
   {
    "duration": 19,
    "start_time": "2023-09-05T15:42:21.314Z"
   },
   {
    "duration": 312,
    "start_time": "2023-09-05T16:08:31.472Z"
   },
   {
    "duration": 310,
    "start_time": "2023-09-05T16:08:53.718Z"
   },
   {
    "duration": 1314,
    "start_time": "2023-09-05T16:09:02.381Z"
   },
   {
    "duration": 94,
    "start_time": "2023-09-05T16:09:03.698Z"
   },
   {
    "duration": 33,
    "start_time": "2023-09-05T16:09:03.794Z"
   },
   {
    "duration": 9,
    "start_time": "2023-09-05T16:09:03.830Z"
   },
   {
    "duration": 8,
    "start_time": "2023-09-05T16:09:03.842Z"
   },
   {
    "duration": 11,
    "start_time": "2023-09-05T16:09:03.852Z"
   },
   {
    "duration": 15,
    "start_time": "2023-09-05T16:09:03.865Z"
   },
   {
    "duration": 39,
    "start_time": "2023-09-05T16:09:03.882Z"
   },
   {
    "duration": 7,
    "start_time": "2023-09-05T16:09:03.926Z"
   },
   {
    "duration": 11,
    "start_time": "2023-09-05T16:09:03.936Z"
   },
   {
    "duration": 8,
    "start_time": "2023-09-05T16:09:03.949Z"
   },
   {
    "duration": 17,
    "start_time": "2023-09-05T16:09:03.959Z"
   },
   {
    "duration": 40,
    "start_time": "2023-09-05T16:09:03.978Z"
   },
   {
    "duration": 321,
    "start_time": "2023-09-05T16:09:04.023Z"
   },
   {
    "duration": 25,
    "start_time": "2023-09-05T16:09:04.346Z"
   },
   {
    "duration": 313,
    "start_time": "2023-09-05T16:09:04.372Z"
   },
   {
    "duration": 3,
    "start_time": "2023-09-05T16:09:04.687Z"
   },
   {
    "duration": 34,
    "start_time": "2023-09-05T16:09:04.692Z"
   },
   {
    "duration": 228,
    "start_time": "2023-09-05T16:09:04.728Z"
   },
   {
    "duration": 8,
    "start_time": "2023-09-05T16:09:04.958Z"
   },
   {
    "duration": 11,
    "start_time": "2023-09-05T16:09:04.967Z"
   },
   {
    "duration": 241,
    "start_time": "2023-09-05T16:09:04.980Z"
   },
   {
    "duration": 142,
    "start_time": "2023-09-05T16:09:05.227Z"
   },
   {
    "duration": 21,
    "start_time": "2023-09-05T16:09:05.371Z"
   },
   {
    "duration": 204,
    "start_time": "2023-09-05T16:09:05.393Z"
   },
   {
    "duration": 169,
    "start_time": "2023-09-05T16:09:05.599Z"
   },
   {
    "duration": 261,
    "start_time": "2023-09-05T16:09:05.770Z"
   },
   {
    "duration": 727,
    "start_time": "2023-09-05T16:09:06.034Z"
   },
   {
    "duration": 333,
    "start_time": "2023-09-05T16:09:06.763Z"
   },
   {
    "duration": 1483,
    "start_time": "2023-09-05T16:09:07.098Z"
   },
   {
    "duration": 321,
    "start_time": "2023-09-05T16:09:08.583Z"
   },
   {
    "duration": 15,
    "start_time": "2023-09-05T16:09:08.905Z"
   },
   {
    "duration": 450,
    "start_time": "2023-09-05T16:09:08.926Z"
   },
   {
    "duration": 556,
    "start_time": "2023-09-05T16:09:09.378Z"
   },
   {
    "duration": 456,
    "start_time": "2023-09-05T16:09:09.935Z"
   },
   {
    "duration": 3,
    "start_time": "2023-09-05T16:09:10.393Z"
   },
   {
    "duration": 31,
    "start_time": "2023-09-05T16:09:10.398Z"
   },
   {
    "duration": 28,
    "start_time": "2023-09-05T16:09:10.431Z"
   },
   {
    "duration": 38,
    "start_time": "2023-09-05T16:09:10.461Z"
   },
   {
    "duration": 281,
    "start_time": "2023-09-05T16:10:22.342Z"
   },
   {
    "duration": 136,
    "start_time": "2023-09-05T16:10:31.791Z"
   },
   {
    "duration": 119,
    "start_time": "2023-09-05T16:10:36.652Z"
   },
   {
    "duration": 308,
    "start_time": "2023-09-05T16:10:43.593Z"
   },
   {
    "duration": 347,
    "start_time": "2023-09-05T16:10:55.695Z"
   },
   {
    "duration": 339,
    "start_time": "2023-09-05T16:11:01.896Z"
   },
   {
    "duration": 108,
    "start_time": "2023-09-05T16:11:15.875Z"
   },
   {
    "duration": 523,
    "start_time": "2023-09-05T16:11:29.670Z"
   },
   {
    "duration": 363,
    "start_time": "2023-09-05T16:11:44.690Z"
   },
   {
    "duration": 273,
    "start_time": "2023-09-05T16:12:23.093Z"
   },
   {
    "duration": 314,
    "start_time": "2023-09-05T16:12:47.616Z"
   },
   {
    "duration": 313,
    "start_time": "2023-09-05T16:12:56.693Z"
   },
   {
    "duration": 33,
    "start_time": "2023-09-05T16:14:07.195Z"
   },
   {
    "duration": 24,
    "start_time": "2023-09-05T16:14:12.664Z"
   },
   {
    "duration": 18,
    "start_time": "2023-09-05T16:14:39.874Z"
   },
   {
    "duration": 315,
    "start_time": "2023-09-05T16:14:46.333Z"
   },
   {
    "duration": 1287,
    "start_time": "2023-09-05T16:15:36.700Z"
   },
   {
    "duration": 88,
    "start_time": "2023-09-05T16:15:37.988Z"
   },
   {
    "duration": 39,
    "start_time": "2023-09-05T16:15:38.079Z"
   },
   {
    "duration": 10,
    "start_time": "2023-09-05T16:15:38.120Z"
   },
   {
    "duration": 27,
    "start_time": "2023-09-05T16:15:38.132Z"
   },
   {
    "duration": 25,
    "start_time": "2023-09-05T16:15:38.160Z"
   },
   {
    "duration": 52,
    "start_time": "2023-09-05T16:15:38.186Z"
   },
   {
    "duration": 14,
    "start_time": "2023-09-05T16:15:38.240Z"
   },
   {
    "duration": 28,
    "start_time": "2023-09-05T16:15:38.257Z"
   },
   {
    "duration": 40,
    "start_time": "2023-09-05T16:15:38.287Z"
   },
   {
    "duration": 20,
    "start_time": "2023-09-05T16:15:38.331Z"
   },
   {
    "duration": 43,
    "start_time": "2023-09-05T16:15:38.353Z"
   },
   {
    "duration": 16,
    "start_time": "2023-09-05T16:15:38.398Z"
   },
   {
    "duration": 351,
    "start_time": "2023-09-05T16:15:38.419Z"
   },
   {
    "duration": 24,
    "start_time": "2023-09-05T16:15:38.771Z"
   },
   {
    "duration": 296,
    "start_time": "2023-09-05T16:15:38.812Z"
   },
   {
    "duration": 9,
    "start_time": "2023-09-05T16:15:39.110Z"
   },
   {
    "duration": 29,
    "start_time": "2023-09-05T16:15:39.124Z"
   },
   {
    "duration": 235,
    "start_time": "2023-09-05T16:15:39.156Z"
   },
   {
    "duration": 7,
    "start_time": "2023-09-05T16:15:39.393Z"
   },
   {
    "duration": 16,
    "start_time": "2023-09-05T16:15:39.412Z"
   },
   {
    "duration": 271,
    "start_time": "2023-09-05T16:15:39.429Z"
   },
   {
    "duration": 129,
    "start_time": "2023-09-05T16:15:39.702Z"
   },
   {
    "duration": 14,
    "start_time": "2023-09-05T16:15:39.833Z"
   },
   {
    "duration": 186,
    "start_time": "2023-09-05T16:15:39.848Z"
   },
   {
    "duration": 188,
    "start_time": "2023-09-05T16:15:40.035Z"
   },
   {
    "duration": 238,
    "start_time": "2023-09-05T16:15:40.227Z"
   },
   {
    "duration": 770,
    "start_time": "2023-09-05T16:15:40.468Z"
   },
   {
    "duration": 285,
    "start_time": "2023-09-05T16:15:41.240Z"
   },
   {
    "duration": 1521,
    "start_time": "2023-09-05T16:15:41.528Z"
   },
   {
    "duration": 301,
    "start_time": "2023-09-05T16:15:43.052Z"
   },
   {
    "duration": 5,
    "start_time": "2023-09-05T16:15:43.356Z"
   },
   {
    "duration": 465,
    "start_time": "2023-09-05T16:15:43.363Z"
   },
   {
    "duration": 552,
    "start_time": "2023-09-05T16:15:43.830Z"
   },
   {
    "duration": 485,
    "start_time": "2023-09-05T16:15:44.383Z"
   },
   {
    "duration": 3,
    "start_time": "2023-09-05T16:15:44.870Z"
   },
   {
    "duration": 11,
    "start_time": "2023-09-05T16:15:44.875Z"
   },
   {
    "duration": 16,
    "start_time": "2023-09-05T16:15:44.909Z"
   },
   {
    "duration": 11,
    "start_time": "2023-09-05T16:15:44.927Z"
   },
   {
    "duration": 237,
    "start_time": "2023-09-05T17:17:31.203Z"
   },
   {
    "duration": 1183,
    "start_time": "2023-09-05T17:17:40.999Z"
   },
   {
    "duration": 90,
    "start_time": "2023-09-05T17:17:42.184Z"
   },
   {
    "duration": 23,
    "start_time": "2023-09-05T17:17:42.275Z"
   },
   {
    "duration": 18,
    "start_time": "2023-09-05T17:17:42.310Z"
   },
   {
    "duration": 8,
    "start_time": "2023-09-05T17:17:42.330Z"
   },
   {
    "duration": 32,
    "start_time": "2023-09-05T17:17:42.340Z"
   },
   {
    "duration": 22,
    "start_time": "2023-09-05T17:17:42.374Z"
   },
   {
    "duration": 40,
    "start_time": "2023-09-05T17:17:42.398Z"
   },
   {
    "duration": 8,
    "start_time": "2023-09-05T17:17:42.440Z"
   },
   {
    "duration": 15,
    "start_time": "2023-09-05T17:17:42.452Z"
   },
   {
    "duration": 11,
    "start_time": "2023-09-05T17:17:42.470Z"
   },
   {
    "duration": 34,
    "start_time": "2023-09-05T17:17:42.482Z"
   },
   {
    "duration": 6,
    "start_time": "2023-09-05T17:17:42.523Z"
   },
   {
    "duration": 352,
    "start_time": "2023-09-05T17:17:42.531Z"
   },
   {
    "duration": 39,
    "start_time": "2023-09-05T17:17:42.885Z"
   },
   {
    "duration": 305,
    "start_time": "2023-09-05T17:17:42.926Z"
   },
   {
    "duration": 4,
    "start_time": "2023-09-05T17:17:43.233Z"
   },
   {
    "duration": 24,
    "start_time": "2023-09-05T17:17:43.239Z"
   },
   {
    "duration": 257,
    "start_time": "2023-09-05T17:17:43.265Z"
   },
   {
    "duration": 7,
    "start_time": "2023-09-05T17:17:43.524Z"
   },
   {
    "duration": 11,
    "start_time": "2023-09-05T17:17:43.532Z"
   },
   {
    "duration": 239,
    "start_time": "2023-09-05T17:17:43.545Z"
   },
   {
    "duration": 141,
    "start_time": "2023-09-05T17:17:43.785Z"
   },
   {
    "duration": 15,
    "start_time": "2023-09-05T17:17:43.927Z"
   },
   {
    "duration": 235,
    "start_time": "2023-09-05T17:17:43.944Z"
   },
   {
    "duration": 164,
    "start_time": "2023-09-05T17:17:44.180Z"
   },
   {
    "duration": 229,
    "start_time": "2023-09-05T17:17:44.345Z"
   },
   {
    "duration": 773,
    "start_time": "2023-09-05T17:17:44.577Z"
   },
   {
    "duration": 333,
    "start_time": "2023-09-05T17:17:45.352Z"
   },
   {
    "duration": 1488,
    "start_time": "2023-09-05T17:17:45.687Z"
   },
   {
    "duration": 230,
    "start_time": "2023-09-05T17:17:47.177Z"
   },
   {
    "duration": 12,
    "start_time": "2023-09-05T17:17:47.409Z"
   },
   {
    "duration": 563,
    "start_time": "2023-09-05T17:17:47.423Z"
   },
   {
    "duration": 530,
    "start_time": "2023-09-05T17:17:47.987Z"
   },
   {
    "duration": 460,
    "start_time": "2023-09-05T17:17:48.521Z"
   },
   {
    "duration": 2,
    "start_time": "2023-09-05T17:17:48.983Z"
   },
   {
    "duration": 41,
    "start_time": "2023-09-05T17:17:48.987Z"
   },
   {
    "duration": 35,
    "start_time": "2023-09-05T17:17:49.030Z"
   },
   {
    "duration": 32,
    "start_time": "2023-09-05T17:17:49.067Z"
   },
   {
    "duration": 236,
    "start_time": "2023-09-05T17:18:05.638Z"
   },
   {
    "duration": 102,
    "start_time": "2023-09-05T17:18:27.821Z"
   },
   {
    "duration": 232,
    "start_time": "2023-09-05T17:18:36.929Z"
   },
   {
    "duration": 221,
    "start_time": "2023-09-05T17:18:43.020Z"
   },
   {
    "duration": 224,
    "start_time": "2023-09-05T17:18:48.999Z"
   },
   {
    "duration": 629,
    "start_time": "2023-09-05T17:19:26.308Z"
   },
   {
    "duration": 826,
    "start_time": "2023-09-05T17:19:56.266Z"
   },
   {
    "duration": 609,
    "start_time": "2023-09-05T17:20:12.790Z"
   },
   {
    "duration": 617,
    "start_time": "2023-09-05T17:20:23.382Z"
   },
   {
    "duration": 402,
    "start_time": "2023-09-05T17:21:01.650Z"
   },
   {
    "duration": 280,
    "start_time": "2023-09-05T17:21:06.888Z"
   },
   {
    "duration": 275,
    "start_time": "2023-09-05T17:21:11.534Z"
   },
   {
    "duration": 383,
    "start_time": "2023-09-05T17:21:15.846Z"
   },
   {
    "duration": 268,
    "start_time": "2023-09-05T17:21:19.939Z"
   },
   {
    "duration": 246,
    "start_time": "2023-09-05T17:21:26.330Z"
   },
   {
    "duration": 1355,
    "start_time": "2023-09-05T17:25:12.240Z"
   },
   {
    "duration": 90,
    "start_time": "2023-09-05T17:25:13.596Z"
   },
   {
    "duration": 20,
    "start_time": "2023-09-05T17:25:13.688Z"
   },
   {
    "duration": 14,
    "start_time": "2023-09-05T17:25:13.710Z"
   },
   {
    "duration": 6,
    "start_time": "2023-09-05T17:25:13.727Z"
   },
   {
    "duration": 14,
    "start_time": "2023-09-05T17:25:13.734Z"
   },
   {
    "duration": 17,
    "start_time": "2023-09-05T17:25:13.750Z"
   },
   {
    "duration": 9,
    "start_time": "2023-09-05T17:25:13.769Z"
   },
   {
    "duration": 33,
    "start_time": "2023-09-05T17:25:13.780Z"
   },
   {
    "duration": 16,
    "start_time": "2023-09-05T17:25:13.815Z"
   },
   {
    "duration": 14,
    "start_time": "2023-09-05T17:25:13.832Z"
   },
   {
    "duration": 26,
    "start_time": "2023-09-05T17:25:13.848Z"
   },
   {
    "duration": 5,
    "start_time": "2023-09-05T17:25:13.876Z"
   },
   {
    "duration": 343,
    "start_time": "2023-09-05T17:25:13.884Z"
   },
   {
    "duration": 26,
    "start_time": "2023-09-05T17:25:14.229Z"
   },
   {
    "duration": 322,
    "start_time": "2023-09-05T17:25:14.256Z"
   },
   {
    "duration": 3,
    "start_time": "2023-09-05T17:25:14.580Z"
   },
   {
    "duration": 27,
    "start_time": "2023-09-05T17:25:14.585Z"
   },
   {
    "duration": 220,
    "start_time": "2023-09-05T17:25:14.622Z"
   },
   {
    "duration": 6,
    "start_time": "2023-09-05T17:25:14.843Z"
   },
   {
    "duration": 13,
    "start_time": "2023-09-05T17:25:14.851Z"
   },
   {
    "duration": 222,
    "start_time": "2023-09-05T17:25:14.865Z"
   },
   {
    "duration": 136,
    "start_time": "2023-09-05T17:25:15.089Z"
   },
   {
    "duration": 18,
    "start_time": "2023-09-05T17:25:15.227Z"
   },
   {
    "duration": 206,
    "start_time": "2023-09-05T17:25:15.247Z"
   },
   {
    "duration": 166,
    "start_time": "2023-09-05T17:25:15.455Z"
   },
   {
    "duration": 237,
    "start_time": "2023-09-05T17:25:15.623Z"
   },
   {
    "duration": 735,
    "start_time": "2023-09-05T17:25:15.862Z"
   },
   {
    "duration": 298,
    "start_time": "2023-09-05T17:25:16.599Z"
   },
   {
    "duration": 1441,
    "start_time": "2023-09-05T17:25:16.909Z"
   },
   {
    "duration": 3,
    "start_time": "2023-09-05T17:25:18.352Z"
   },
   {
    "duration": 269,
    "start_time": "2023-09-05T17:25:18.357Z"
   },
   {
    "duration": 4,
    "start_time": "2023-09-05T17:25:18.628Z"
   },
   {
    "duration": 454,
    "start_time": "2023-09-05T17:25:18.634Z"
   },
   {
    "duration": 545,
    "start_time": "2023-09-05T17:25:19.090Z"
   },
   {
    "duration": 492,
    "start_time": "2023-09-05T17:25:19.637Z"
   },
   {
    "duration": 3,
    "start_time": "2023-09-05T17:25:20.132Z"
   },
   {
    "duration": 20,
    "start_time": "2023-09-05T17:25:20.138Z"
   },
   {
    "duration": 7,
    "start_time": "2023-09-05T17:25:20.160Z"
   },
   {
    "duration": 10,
    "start_time": "2023-09-05T17:25:20.168Z"
   },
   {
    "duration": 384,
    "start_time": "2023-09-05T17:27:05.274Z"
   },
   {
    "duration": 373,
    "start_time": "2023-09-05T17:27:23.909Z"
   },
   {
    "duration": 260,
    "start_time": "2023-09-05T17:27:39.765Z"
   },
   {
    "duration": 124,
    "start_time": "2023-09-05T17:27:53.075Z"
   },
   {
    "duration": 264,
    "start_time": "2023-09-05T17:27:58.310Z"
   },
   {
    "duration": 245,
    "start_time": "2023-09-05T17:28:23.335Z"
   },
   {
    "duration": 371,
    "start_time": "2023-09-05T17:28:44.019Z"
   },
   {
    "duration": 264,
    "start_time": "2023-09-05T17:29:03.677Z"
   },
   {
    "duration": 263,
    "start_time": "2023-09-05T17:29:17.499Z"
   },
   {
    "duration": 126,
    "start_time": "2023-09-05T17:29:45.639Z"
   },
   {
    "duration": 137,
    "start_time": "2023-09-05T17:29:58.499Z"
   },
   {
    "duration": 279,
    "start_time": "2023-09-05T17:32:13.965Z"
   },
   {
    "duration": 258,
    "start_time": "2023-09-05T17:32:30.588Z"
   },
   {
    "duration": 1350,
    "start_time": "2023-09-05T17:33:01.329Z"
   },
   {
    "duration": 104,
    "start_time": "2023-09-05T17:33:02.682Z"
   },
   {
    "duration": 42,
    "start_time": "2023-09-05T17:33:02.788Z"
   },
   {
    "duration": 16,
    "start_time": "2023-09-05T17:33:02.832Z"
   },
   {
    "duration": 10,
    "start_time": "2023-09-05T17:33:02.850Z"
   },
   {
    "duration": 11,
    "start_time": "2023-09-05T17:33:02.862Z"
   },
   {
    "duration": 34,
    "start_time": "2023-09-05T17:33:02.875Z"
   },
   {
    "duration": 17,
    "start_time": "2023-09-05T17:33:02.912Z"
   },
   {
    "duration": 7,
    "start_time": "2023-09-05T17:33:02.932Z"
   },
   {
    "duration": 32,
    "start_time": "2023-09-05T17:33:02.942Z"
   },
   {
    "duration": 25,
    "start_time": "2023-09-05T17:33:02.975Z"
   },
   {
    "duration": 33,
    "start_time": "2023-09-05T17:33:03.002Z"
   },
   {
    "duration": 16,
    "start_time": "2023-09-05T17:33:03.036Z"
   },
   {
    "duration": 368,
    "start_time": "2023-09-05T17:33:03.055Z"
   },
   {
    "duration": 24,
    "start_time": "2023-09-05T17:33:03.427Z"
   },
   {
    "duration": 321,
    "start_time": "2023-09-05T17:33:03.452Z"
   },
   {
    "duration": 3,
    "start_time": "2023-09-05T17:33:03.776Z"
   },
   {
    "duration": 38,
    "start_time": "2023-09-05T17:33:03.781Z"
   },
   {
    "duration": 227,
    "start_time": "2023-09-05T17:33:03.823Z"
   },
   {
    "duration": 7,
    "start_time": "2023-09-05T17:33:04.052Z"
   },
   {
    "duration": 13,
    "start_time": "2023-09-05T17:33:04.061Z"
   },
   {
    "duration": 223,
    "start_time": "2023-09-05T17:33:04.076Z"
   },
   {
    "duration": 128,
    "start_time": "2023-09-05T17:33:04.301Z"
   },
   {
    "duration": 16,
    "start_time": "2023-09-05T17:33:04.431Z"
   },
   {
    "duration": 199,
    "start_time": "2023-09-05T17:33:04.449Z"
   },
   {
    "duration": 173,
    "start_time": "2023-09-05T17:33:04.650Z"
   },
   {
    "duration": 248,
    "start_time": "2023-09-05T17:33:04.825Z"
   },
   {
    "duration": 784,
    "start_time": "2023-09-05T17:33:05.076Z"
   },
   {
    "duration": 327,
    "start_time": "2023-09-05T17:33:05.862Z"
   },
   {
    "duration": 1474,
    "start_time": "2023-09-05T17:33:06.191Z"
   },
   {
    "duration": 4,
    "start_time": "2023-09-05T17:33:07.668Z"
   },
   {
    "duration": 12,
    "start_time": "2023-09-05T17:33:07.674Z"
   },
   {
    "duration": 306,
    "start_time": "2023-09-05T17:33:07.688Z"
   },
   {
    "duration": 23,
    "start_time": "2023-09-05T17:33:07.996Z"
   },
   {
    "duration": 444,
    "start_time": "2023-09-05T17:33:08.025Z"
   },
   {
    "duration": 573,
    "start_time": "2023-09-05T17:33:08.471Z"
   },
   {
    "duration": 485,
    "start_time": "2023-09-05T17:33:09.046Z"
   },
   {
    "duration": 3,
    "start_time": "2023-09-05T17:33:09.533Z"
   },
   {
    "duration": 16,
    "start_time": "2023-09-05T17:33:09.538Z"
   },
   {
    "duration": 8,
    "start_time": "2023-09-05T17:33:09.556Z"
   },
   {
    "duration": 11,
    "start_time": "2023-09-05T17:33:09.566Z"
   },
   {
    "duration": 308,
    "start_time": "2023-09-05T17:33:16.423Z"
   },
   {
    "duration": 274,
    "start_time": "2023-09-05T17:33:20.788Z"
   },
   {
    "duration": 278,
    "start_time": "2023-09-05T17:33:24.782Z"
   },
   {
    "duration": 292,
    "start_time": "2023-09-05T17:33:31.333Z"
   },
   {
    "duration": 1259,
    "start_time": "2023-09-05T17:34:05.902Z"
   },
   {
    "duration": 90,
    "start_time": "2023-09-05T17:34:07.163Z"
   },
   {
    "duration": 21,
    "start_time": "2023-09-05T17:34:07.254Z"
   },
   {
    "duration": 13,
    "start_time": "2023-09-05T17:34:07.277Z"
   },
   {
    "duration": 6,
    "start_time": "2023-09-05T17:34:07.292Z"
   },
   {
    "duration": 8,
    "start_time": "2023-09-05T17:34:07.319Z"
   },
   {
    "duration": 16,
    "start_time": "2023-09-05T17:34:07.329Z"
   },
   {
    "duration": 9,
    "start_time": "2023-09-05T17:34:07.346Z"
   },
   {
    "duration": 7,
    "start_time": "2023-09-05T17:34:07.356Z"
   },
   {
    "duration": 10,
    "start_time": "2023-09-05T17:34:07.366Z"
   },
   {
    "duration": 36,
    "start_time": "2023-09-05T17:34:07.378Z"
   },
   {
    "duration": 18,
    "start_time": "2023-09-05T17:34:07.420Z"
   },
   {
    "duration": 6,
    "start_time": "2023-09-05T17:34:07.440Z"
   },
   {
    "duration": 322,
    "start_time": "2023-09-05T17:34:07.448Z"
   },
   {
    "duration": 25,
    "start_time": "2023-09-05T17:34:07.772Z"
   },
   {
    "duration": 301,
    "start_time": "2023-09-05T17:34:07.808Z"
   },
   {
    "duration": 5,
    "start_time": "2023-09-05T17:34:08.111Z"
   },
   {
    "duration": 18,
    "start_time": "2023-09-05T17:34:08.122Z"
   },
   {
    "duration": 222,
    "start_time": "2023-09-05T17:34:08.141Z"
   },
   {
    "duration": 7,
    "start_time": "2023-09-05T17:34:08.364Z"
   },
   {
    "duration": 11,
    "start_time": "2023-09-05T17:34:08.372Z"
   },
   {
    "duration": 225,
    "start_time": "2023-09-05T17:34:08.385Z"
   },
   {
    "duration": 136,
    "start_time": "2023-09-05T17:34:08.619Z"
   },
   {
    "duration": 15,
    "start_time": "2023-09-05T17:34:08.756Z"
   },
   {
    "duration": 188,
    "start_time": "2023-09-05T17:34:08.773Z"
   },
   {
    "duration": 166,
    "start_time": "2023-09-05T17:34:08.963Z"
   },
   {
    "duration": 237,
    "start_time": "2023-09-05T17:34:09.132Z"
   },
   {
    "duration": 749,
    "start_time": "2023-09-05T17:34:09.373Z"
   },
   {
    "duration": 305,
    "start_time": "2023-09-05T17:34:10.124Z"
   },
   {
    "duration": 1436,
    "start_time": "2023-09-05T17:34:10.431Z"
   },
   {
    "duration": 3,
    "start_time": "2023-09-05T17:34:11.869Z"
   },
   {
    "duration": 20,
    "start_time": "2023-09-05T17:34:11.874Z"
   },
   {
    "duration": 298,
    "start_time": "2023-09-05T17:34:11.895Z"
   },
   {
    "duration": 4,
    "start_time": "2023-09-05T17:34:12.195Z"
   },
   {
    "duration": 540,
    "start_time": "2023-09-05T17:34:12.212Z"
   },
   {
    "duration": 574,
    "start_time": "2023-09-05T17:34:12.754Z"
   },
   {
    "duration": 452,
    "start_time": "2023-09-05T17:34:13.330Z"
   },
   {
    "duration": 3,
    "start_time": "2023-09-05T17:34:13.784Z"
   },
   {
    "duration": 27,
    "start_time": "2023-09-05T17:34:13.789Z"
   },
   {
    "duration": 12,
    "start_time": "2023-09-05T17:34:13.817Z"
   },
   {
    "duration": 18,
    "start_time": "2023-09-05T17:34:13.831Z"
   },
   {
    "duration": 17,
    "start_time": "2023-09-05T18:28:11.808Z"
   },
   {
    "duration": 8,
    "start_time": "2023-09-05T18:30:30.643Z"
   },
   {
    "duration": 5,
    "start_time": "2023-09-05T18:31:07.671Z"
   },
   {
    "duration": 12,
    "start_time": "2023-09-05T18:32:17.508Z"
   },
   {
    "duration": 1267,
    "start_time": "2023-09-05T18:34:10.588Z"
   },
   {
    "duration": 96,
    "start_time": "2023-09-05T18:34:11.857Z"
   },
   {
    "duration": 23,
    "start_time": "2023-09-05T18:34:11.954Z"
   },
   {
    "duration": 10,
    "start_time": "2023-09-05T18:34:11.979Z"
   },
   {
    "duration": 23,
    "start_time": "2023-09-05T18:34:11.992Z"
   },
   {
    "duration": 13,
    "start_time": "2023-09-05T18:34:12.018Z"
   },
   {
    "duration": 29,
    "start_time": "2023-09-05T18:34:12.036Z"
   },
   {
    "duration": 12,
    "start_time": "2023-09-05T18:34:12.068Z"
   },
   {
    "duration": 7,
    "start_time": "2023-09-05T18:34:12.082Z"
   },
   {
    "duration": 25,
    "start_time": "2023-09-05T18:34:12.090Z"
   },
   {
    "duration": 15,
    "start_time": "2023-09-05T18:34:12.119Z"
   },
   {
    "duration": 30,
    "start_time": "2023-09-05T18:34:12.136Z"
   },
   {
    "duration": 5,
    "start_time": "2023-09-05T18:34:12.167Z"
   },
   {
    "duration": 355,
    "start_time": "2023-09-05T18:34:12.176Z"
   },
   {
    "duration": 33,
    "start_time": "2023-09-05T18:34:12.536Z"
   },
   {
    "duration": 365,
    "start_time": "2023-09-05T18:34:12.572Z"
   },
   {
    "duration": 4,
    "start_time": "2023-09-05T18:34:12.941Z"
   },
   {
    "duration": 23,
    "start_time": "2023-09-05T18:34:12.946Z"
   },
   {
    "duration": 260,
    "start_time": "2023-09-05T18:34:12.971Z"
   },
   {
    "duration": 8,
    "start_time": "2023-09-05T18:34:13.233Z"
   },
   {
    "duration": 25,
    "start_time": "2023-09-05T18:34:13.243Z"
   },
   {
    "duration": 235,
    "start_time": "2023-09-05T18:34:13.270Z"
   },
   {
    "duration": 123,
    "start_time": "2023-09-05T18:34:13.509Z"
   },
   {
    "duration": 14,
    "start_time": "2023-09-05T18:34:13.634Z"
   },
   {
    "duration": 195,
    "start_time": "2023-09-05T18:34:13.650Z"
   },
   {
    "duration": 173,
    "start_time": "2023-09-05T18:34:13.846Z"
   },
   {
    "duration": 237,
    "start_time": "2023-09-05T18:34:14.021Z"
   },
   {
    "duration": 717,
    "start_time": "2023-09-05T18:34:14.260Z"
   },
   {
    "duration": 343,
    "start_time": "2023-09-05T18:34:14.979Z"
   },
   {
    "duration": 1477,
    "start_time": "2023-09-05T18:34:15.327Z"
   },
   {
    "duration": 9,
    "start_time": "2023-09-05T18:34:16.809Z"
   },
   {
    "duration": 130,
    "start_time": "2023-09-05T18:34:16.825Z"
   },
   {
    "duration": 320,
    "start_time": "2023-09-05T18:34:16.957Z"
   },
   {
    "duration": 4,
    "start_time": "2023-09-05T18:34:17.279Z"
   },
   {
    "duration": 497,
    "start_time": "2023-09-05T18:34:17.285Z"
   },
   {
    "duration": 633,
    "start_time": "2023-09-05T18:34:17.784Z"
   },
   {
    "duration": 481,
    "start_time": "2023-09-05T18:34:18.422Z"
   },
   {
    "duration": 13,
    "start_time": "2023-09-05T18:34:18.905Z"
   },
   {
    "duration": 19,
    "start_time": "2023-09-05T18:34:18.921Z"
   },
   {
    "duration": 20,
    "start_time": "2023-09-05T18:34:18.942Z"
   },
   {
    "duration": 11,
    "start_time": "2023-09-05T18:34:18.966Z"
   },
   {
    "duration": 6,
    "start_time": "2023-09-05T18:35:00.484Z"
   },
   {
    "duration": 5,
    "start_time": "2023-09-05T18:35:21.187Z"
   },
   {
    "duration": 1324,
    "start_time": "2023-09-05T18:37:31.634Z"
   },
   {
    "duration": 112,
    "start_time": "2023-09-05T18:37:32.960Z"
   },
   {
    "duration": 41,
    "start_time": "2023-09-05T18:37:33.073Z"
   },
   {
    "duration": 11,
    "start_time": "2023-09-05T18:37:33.125Z"
   },
   {
    "duration": 8,
    "start_time": "2023-09-05T18:37:33.139Z"
   },
   {
    "duration": 10,
    "start_time": "2023-09-05T18:37:33.149Z"
   },
   {
    "duration": 20,
    "start_time": "2023-09-05T18:37:33.161Z"
   },
   {
    "duration": 35,
    "start_time": "2023-09-05T18:37:33.183Z"
   },
   {
    "duration": 12,
    "start_time": "2023-09-05T18:37:33.220Z"
   },
   {
    "duration": 23,
    "start_time": "2023-09-05T18:37:33.236Z"
   },
   {
    "duration": 9,
    "start_time": "2023-09-05T18:37:33.260Z"
   },
   {
    "duration": 38,
    "start_time": "2023-09-05T18:37:33.271Z"
   },
   {
    "duration": 13,
    "start_time": "2023-09-05T18:37:33.315Z"
   },
   {
    "duration": 353,
    "start_time": "2023-09-05T18:37:33.331Z"
   },
   {
    "duration": 53,
    "start_time": "2023-09-05T18:37:33.685Z"
   },
   {
    "duration": 326,
    "start_time": "2023-09-05T18:37:33.740Z"
   },
   {
    "duration": 3,
    "start_time": "2023-09-05T18:37:34.067Z"
   },
   {
    "duration": 19,
    "start_time": "2023-09-05T18:37:34.072Z"
   },
   {
    "duration": 265,
    "start_time": "2023-09-05T18:37:34.093Z"
   },
   {
    "duration": 7,
    "start_time": "2023-09-05T18:37:34.360Z"
   },
   {
    "duration": 10,
    "start_time": "2023-09-05T18:37:34.368Z"
   },
   {
    "duration": 255,
    "start_time": "2023-09-05T18:37:34.379Z"
   },
   {
    "duration": 143,
    "start_time": "2023-09-05T18:37:34.636Z"
   },
   {
    "duration": 18,
    "start_time": "2023-09-05T18:37:34.781Z"
   },
   {
    "duration": 202,
    "start_time": "2023-09-05T18:37:34.801Z"
   },
   {
    "duration": 183,
    "start_time": "2023-09-05T18:37:35.005Z"
   },
   {
    "duration": 281,
    "start_time": "2023-09-05T18:37:35.190Z"
   },
   {
    "duration": 781,
    "start_time": "2023-09-05T18:37:35.475Z"
   },
   {
    "duration": 346,
    "start_time": "2023-09-05T18:37:36.257Z"
   },
   {
    "duration": 1488,
    "start_time": "2023-09-05T18:37:36.606Z"
   },
   {
    "duration": 3,
    "start_time": "2023-09-05T18:37:38.096Z"
   },
   {
    "duration": 19,
    "start_time": "2023-09-05T18:37:38.101Z"
   },
   {
    "duration": 305,
    "start_time": "2023-09-05T18:37:38.128Z"
   },
   {
    "duration": 7,
    "start_time": "2023-09-05T18:37:38.437Z"
   },
   {
    "duration": 505,
    "start_time": "2023-09-05T18:37:38.446Z"
   },
   {
    "duration": 582,
    "start_time": "2023-09-05T18:37:38.953Z"
   },
   {
    "duration": 459,
    "start_time": "2023-09-05T18:37:39.541Z"
   },
   {
    "duration": 2,
    "start_time": "2023-09-05T18:37:40.002Z"
   },
   {
    "duration": 20,
    "start_time": "2023-09-05T18:37:40.008Z"
   },
   {
    "duration": 14,
    "start_time": "2023-09-05T18:37:40.033Z"
   },
   {
    "duration": 18,
    "start_time": "2023-09-05T18:37:40.049Z"
   },
   {
    "duration": 317,
    "start_time": "2023-09-05T18:38:51.597Z"
   },
   {
    "duration": 297,
    "start_time": "2023-09-05T18:38:57.667Z"
   },
   {
    "duration": 1253,
    "start_time": "2023-09-05T18:39:06.748Z"
   },
   {
    "duration": 95,
    "start_time": "2023-09-05T18:39:08.003Z"
   },
   {
    "duration": 38,
    "start_time": "2023-09-05T18:39:08.099Z"
   },
   {
    "duration": 17,
    "start_time": "2023-09-05T18:39:08.138Z"
   },
   {
    "duration": 8,
    "start_time": "2023-09-05T18:39:08.157Z"
   },
   {
    "duration": 12,
    "start_time": "2023-09-05T18:39:08.167Z"
   },
   {
    "duration": 14,
    "start_time": "2023-09-05T18:39:08.181Z"
   },
   {
    "duration": 9,
    "start_time": "2023-09-05T18:39:08.197Z"
   },
   {
    "duration": 13,
    "start_time": "2023-09-05T18:39:08.208Z"
   },
   {
    "duration": 16,
    "start_time": "2023-09-05T18:39:08.224Z"
   },
   {
    "duration": 7,
    "start_time": "2023-09-05T18:39:08.242Z"
   },
   {
    "duration": 18,
    "start_time": "2023-09-05T18:39:08.250Z"
   },
   {
    "duration": 5,
    "start_time": "2023-09-05T18:39:08.270Z"
   },
   {
    "duration": 361,
    "start_time": "2023-09-05T18:39:08.278Z"
   },
   {
    "duration": 27,
    "start_time": "2023-09-05T18:39:08.641Z"
   },
   {
    "duration": 323,
    "start_time": "2023-09-05T18:39:08.670Z"
   },
   {
    "duration": 3,
    "start_time": "2023-09-05T18:39:08.995Z"
   },
   {
    "duration": 35,
    "start_time": "2023-09-05T18:39:08.999Z"
   },
   {
    "duration": 218,
    "start_time": "2023-09-05T18:39:09.044Z"
   },
   {
    "duration": 7,
    "start_time": "2023-09-05T18:39:09.264Z"
   },
   {
    "duration": 14,
    "start_time": "2023-09-05T18:39:09.272Z"
   },
   {
    "duration": 227,
    "start_time": "2023-09-05T18:39:09.288Z"
   },
   {
    "duration": 128,
    "start_time": "2023-09-05T18:39:09.517Z"
   },
   {
    "duration": 16,
    "start_time": "2023-09-05T18:39:09.647Z"
   },
   {
    "duration": 197,
    "start_time": "2023-09-05T18:39:09.665Z"
   },
   {
    "duration": 172,
    "start_time": "2023-09-05T18:39:09.863Z"
   },
   {
    "duration": 245,
    "start_time": "2023-09-05T18:39:10.037Z"
   },
   {
    "duration": 777,
    "start_time": "2023-09-05T18:39:10.283Z"
   },
   {
    "duration": 322,
    "start_time": "2023-09-05T18:39:11.062Z"
   },
   {
    "duration": 1571,
    "start_time": "2023-09-05T18:39:11.385Z"
   },
   {
    "duration": 3,
    "start_time": "2023-09-05T18:39:12.958Z"
   },
   {
    "duration": 6,
    "start_time": "2023-09-05T18:39:12.963Z"
   },
   {
    "duration": 305,
    "start_time": "2023-09-05T18:39:12.970Z"
   },
   {
    "duration": 4,
    "start_time": "2023-09-05T18:39:13.277Z"
   },
   {
    "duration": 466,
    "start_time": "2023-09-05T18:39:13.282Z"
   },
   {
    "duration": 540,
    "start_time": "2023-09-05T18:39:13.751Z"
   },
   {
    "duration": 530,
    "start_time": "2023-09-05T18:39:14.293Z"
   },
   {
    "duration": 5,
    "start_time": "2023-09-05T18:39:14.825Z"
   },
   {
    "duration": 13,
    "start_time": "2023-09-05T18:39:14.831Z"
   },
   {
    "duration": 10,
    "start_time": "2023-09-05T18:39:14.846Z"
   },
   {
    "duration": 19,
    "start_time": "2023-09-05T18:39:14.860Z"
   },
   {
    "duration": 1457,
    "start_time": "2023-09-06T12:35:25.696Z"
   },
   {
    "duration": 146,
    "start_time": "2023-09-06T12:35:27.155Z"
   },
   {
    "duration": 24,
    "start_time": "2023-09-06T12:35:27.303Z"
   },
   {
    "duration": 8,
    "start_time": "2023-09-06T12:35:27.328Z"
   },
   {
    "duration": 5,
    "start_time": "2023-09-06T12:35:27.338Z"
   },
   {
    "duration": 9,
    "start_time": "2023-09-06T12:35:27.344Z"
   },
   {
    "duration": 20,
    "start_time": "2023-09-06T12:35:27.354Z"
   },
   {
    "duration": 35,
    "start_time": "2023-09-06T12:35:27.376Z"
   },
   {
    "duration": 7,
    "start_time": "2023-09-06T12:35:27.413Z"
   },
   {
    "duration": 12,
    "start_time": "2023-09-06T12:35:27.421Z"
   },
   {
    "duration": 6,
    "start_time": "2023-09-06T12:35:27.435Z"
   },
   {
    "duration": 18,
    "start_time": "2023-09-06T12:35:27.443Z"
   },
   {
    "duration": 5,
    "start_time": "2023-09-06T12:35:27.463Z"
   },
   {
    "duration": 356,
    "start_time": "2023-09-06T12:35:27.472Z"
   },
   {
    "duration": 24,
    "start_time": "2023-09-06T12:35:27.830Z"
   },
   {
    "duration": 301,
    "start_time": "2023-09-06T12:35:27.856Z"
   },
   {
    "duration": 3,
    "start_time": "2023-09-06T12:35:28.159Z"
   },
   {
    "duration": 36,
    "start_time": "2023-09-06T12:35:28.163Z"
   },
   {
    "duration": 219,
    "start_time": "2023-09-06T12:35:28.201Z"
   },
   {
    "duration": 6,
    "start_time": "2023-09-06T12:35:28.422Z"
   },
   {
    "duration": 10,
    "start_time": "2023-09-06T12:35:28.430Z"
   },
   {
    "duration": 254,
    "start_time": "2023-09-06T12:35:28.442Z"
   },
   {
    "duration": 134,
    "start_time": "2023-09-06T12:35:28.698Z"
   },
   {
    "duration": 15,
    "start_time": "2023-09-06T12:35:28.834Z"
   },
   {
    "duration": 193,
    "start_time": "2023-09-06T12:35:28.851Z"
   },
   {
    "duration": 167,
    "start_time": "2023-09-06T12:35:29.046Z"
   },
   {
    "duration": 241,
    "start_time": "2023-09-06T12:35:29.216Z"
   },
   {
    "duration": 795,
    "start_time": "2023-09-06T12:35:29.460Z"
   },
   {
    "duration": 314,
    "start_time": "2023-09-06T12:35:30.257Z"
   },
   {
    "duration": 1478,
    "start_time": "2023-09-06T12:35:30.573Z"
   },
   {
    "duration": 4,
    "start_time": "2023-09-06T12:35:32.053Z"
   },
   {
    "duration": 20,
    "start_time": "2023-09-06T12:35:32.059Z"
   },
   {
    "duration": 293,
    "start_time": "2023-09-06T12:35:32.081Z"
   },
   {
    "duration": 7,
    "start_time": "2023-09-06T12:35:32.377Z"
   },
   {
    "duration": 575,
    "start_time": "2023-09-06T12:35:32.389Z"
   },
   {
    "duration": 535,
    "start_time": "2023-09-06T12:35:32.966Z"
   },
   {
    "duration": 463,
    "start_time": "2023-09-06T12:35:33.510Z"
   },
   {
    "duration": 3,
    "start_time": "2023-09-06T12:35:33.975Z"
   },
   {
    "duration": 10,
    "start_time": "2023-09-06T12:35:33.980Z"
   },
   {
    "duration": 25,
    "start_time": "2023-09-06T12:35:33.992Z"
   },
   {
    "duration": 10,
    "start_time": "2023-09-06T12:35:34.021Z"
   }
  ],
  "kernelspec": {
   "display_name": "Python 3 (ipykernel)",
   "language": "python",
   "name": "python3"
  },
  "language_info": {
   "codemirror_mode": {
    "name": "ipython",
    "version": 3
   },
   "file_extension": ".py",
   "mimetype": "text/x-python",
   "name": "python",
   "nbconvert_exporter": "python",
   "pygments_lexer": "ipython3",
   "version": "3.11.7"
  },
  "toc": {
   "base_numbering": 1,
   "nav_menu": {},
   "number_sections": true,
   "sideBar": true,
   "skip_h1_title": true,
   "title_cell": "Table of Contents",
   "title_sidebar": "Contents",
   "toc_cell": false,
   "toc_position": {},
   "toc_section_display": true,
   "toc_window_display": false
  }
 },
 "nbformat": 4,
 "nbformat_minor": 4
}
