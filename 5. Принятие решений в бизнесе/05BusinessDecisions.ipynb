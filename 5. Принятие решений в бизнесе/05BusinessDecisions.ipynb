{
 "cells": [
  {
   "cell_type": "markdown",
   "metadata": {},
   "source": [
    "# Контекст"
   ]
  },
  {
   "cell_type": "markdown",
   "metadata": {},
   "source": [
    "Вы — аналитик крупного интернет-магазина. Вместе с отделом маркетинга вы подготовили список гипотез для увеличения выручки.\n",
    "Приоритизируем гипотезы, запустим A/B-тест и проанализируем результаты. "
   ]
  },
  {
   "cell_type": "markdown",
   "metadata": {},
   "source": [
    "## Приоретизация гипотез"
   ]
  },
  {
   "cell_type": "markdown",
   "metadata": {},
   "source": [
    "### Подготовка"
   ]
  },
  {
   "cell_type": "markdown",
   "metadata": {},
   "source": [
    "Начнем с импорта необходимых библиотек"
   ]
  },
  {
   "cell_type": "code",
   "execution_count": 1,
   "metadata": {},
   "outputs": [],
   "source": [
    "import pandas as pd\n",
    "import matplotlib.pyplot as plt\n",
    "from matplotlib.pyplot import figure\n",
    "import matplotlib as mpl\n",
    "import numpy as np\n",
    "from scipy import stats"
   ]
  },
  {
   "cell_type": "markdown",
   "metadata": {},
   "source": [
    "Займемся приоретизацией гипотез. Для этого откроем датафрейм с ними"
   ]
  },
  {
   "cell_type": "code",
   "execution_count": 2,
   "metadata": {},
   "outputs": [],
   "source": [
    "hyps = pd.read_csv('/datasets/hypothesis.csv')"
   ]
  },
  {
   "cell_type": "markdown",
   "metadata": {},
   "source": [
    "### Предобработка данных"
   ]
  },
  {
   "cell_type": "code",
   "execution_count": 3,
   "metadata": {},
   "outputs": [],
   "source": [
    "orders = pd.read_csv('/datasets/orders.csv')\n",
    "orders2 = orders\n",
    "visitors = pd.read_csv('/datasets/visitors.csv')"
   ]
  },
  {
   "cell_type": "code",
   "execution_count": 4,
   "metadata": {},
   "outputs": [
    {
     "name": "stdout",
     "output_type": "stream",
     "text": [
      "<class 'pandas.core.frame.DataFrame'>\n",
      "RangeIndex: 1197 entries, 0 to 1196\n",
      "Data columns (total 5 columns):\n",
      " #   Column         Non-Null Count  Dtype \n",
      "---  ------         --------------  ----- \n",
      " 0   transactionId  1197 non-null   int64 \n",
      " 1   visitorId      1197 non-null   int64 \n",
      " 2   date           1197 non-null   object\n",
      " 3   revenue        1197 non-null   int64 \n",
      " 4   group          1197 non-null   object\n",
      "dtypes: int64(3), object(2)\n",
      "memory usage: 46.9+ KB\n"
     ]
    }
   ],
   "source": [
    "orders.info()"
   ]
  },
  {
   "cell_type": "code",
   "execution_count": 5,
   "metadata": {
    "scrolled": true
   },
   "outputs": [
    {
     "name": "stdout",
     "output_type": "stream",
     "text": [
      "<class 'pandas.core.frame.DataFrame'>\n",
      "RangeIndex: 62 entries, 0 to 61\n",
      "Data columns (total 3 columns):\n",
      " #   Column    Non-Null Count  Dtype \n",
      "---  ------    --------------  ----- \n",
      " 0   date      62 non-null     object\n",
      " 1   group     62 non-null     object\n",
      " 2   visitors  62 non-null     int64 \n",
      "dtypes: int64(1), object(2)\n",
      "memory usage: 1.6+ KB\n"
     ]
    }
   ],
   "source": [
    "visitors.info()"
   ]
  },
  {
   "cell_type": "markdown",
   "metadata": {},
   "source": [
    "Приведем столбцы date к формату datetime. В дальнейшем это может облегчить работу"
   ]
  },
  {
   "cell_type": "code",
   "execution_count": 6,
   "metadata": {},
   "outputs": [],
   "source": [
    "orders['date'] = pd.to_datetime(orders['date'], format = '%Y-%m-%d')\n",
    "visitors['date'] = pd.to_datetime(visitors['date'], format = '%Y-%m-%d')"
   ]
  },
  {
   "cell_type": "markdown",
   "metadata": {},
   "source": [
    "Теперь проверим данные на пропуски и дубликаты:"
   ]
  },
  {
   "cell_type": "code",
   "execution_count": 7,
   "metadata": {},
   "outputs": [
    {
     "name": "stdout",
     "output_type": "stream",
     "text": [
      "transactionId    0\n",
      "visitorId        0\n",
      "date             0\n",
      "revenue          0\n",
      "group            0\n",
      "dtype: int64\n",
      "====================================================================================================\n",
      "date        0\n",
      "group       0\n",
      "visitors    0\n",
      "dtype: int64\n",
      "====================================================================================================\n"
     ]
    }
   ],
   "source": [
    "for i in [orders, visitors]:\n",
    "    print(i.isna().sum())\n",
    "    print('='*100)"
   ]
  },
  {
   "cell_type": "markdown",
   "metadata": {},
   "source": [
    "Пропусков не обнаружено. Займемся дубликатами:"
   ]
  },
  {
   "cell_type": "code",
   "execution_count": 8,
   "metadata": {
    "scrolled": true
   },
   "outputs": [
    {
     "name": "stdout",
     "output_type": "stream",
     "text": [
      "0\n",
      "====================================================================================================\n",
      "0\n",
      "====================================================================================================\n"
     ]
    }
   ],
   "source": [
    "for i in [orders, visitors]:\n",
    "    print(i.duplicated().sum())\n",
    "    print('='*100)"
   ]
  },
  {
   "cell_type": "markdown",
   "metadata": {},
   "source": [
    "В остальном данные чисты. На этом предобработку можно считать оконченной"
   ]
  },
  {
   "cell_type": "markdown",
   "metadata": {},
   "source": [
    "### Приоретизация по методам RICE & ICE"
   ]
  },
  {
   "cell_type": "markdown",
   "metadata": {},
   "source": [
    "Имеем оценку каждой гипотезы по 4 критериям:\n",
    "- Reach\n",
    "- Impact\n",
    "- Confidence\n",
    "- Efforts\n",
    "\n",
    "Применим фреймфорк ICE. Его формула **(I x C) / E**"
   ]
  },
  {
   "cell_type": "code",
   "execution_count": 9,
   "metadata": {},
   "outputs": [
    {
     "data": {
      "text/html": [
       "<div>\n",
       "<style scoped>\n",
       "    .dataframe tbody tr th:only-of-type {\n",
       "        vertical-align: middle;\n",
       "    }\n",
       "\n",
       "    .dataframe tbody tr th {\n",
       "        vertical-align: top;\n",
       "    }\n",
       "\n",
       "    .dataframe thead th {\n",
       "        text-align: right;\n",
       "    }\n",
       "</style>\n",
       "<table border=\"1\" class=\"dataframe\">\n",
       "  <thead>\n",
       "    <tr style=\"text-align: right;\">\n",
       "      <th></th>\n",
       "      <th>Hypothesis</th>\n",
       "      <th>ice</th>\n",
       "    </tr>\n",
       "  </thead>\n",
       "  <tbody>\n",
       "    <tr>\n",
       "      <th>8</th>\n",
       "      <td>Запустить акцию, дающую скидку на товар в день...</td>\n",
       "      <td>16.200</td>\n",
       "    </tr>\n",
       "    <tr>\n",
       "      <th>0</th>\n",
       "      <td>Добавить два новых канала привлечения трафика,...</td>\n",
       "      <td>13.333</td>\n",
       "    </tr>\n",
       "    <tr>\n",
       "      <th>7</th>\n",
       "      <td>Добавить форму подписки на все основные страни...</td>\n",
       "      <td>11.200</td>\n",
       "    </tr>\n",
       "    <tr>\n",
       "      <th>6</th>\n",
       "      <td>Показать на главной странице баннеры с актуаль...</td>\n",
       "      <td>8.000</td>\n",
       "    </tr>\n",
       "    <tr>\n",
       "      <th>2</th>\n",
       "      <td>Добавить блоки рекомендаций товаров на сайт ин...</td>\n",
       "      <td>7.000</td>\n",
       "    </tr>\n",
       "    <tr>\n",
       "      <th>1</th>\n",
       "      <td>Запустить собственную службу доставки, что сок...</td>\n",
       "      <td>2.000</td>\n",
       "    </tr>\n",
       "    <tr>\n",
       "      <th>5</th>\n",
       "      <td>Добавить страницу отзывов клиентов о магазине,...</td>\n",
       "      <td>1.333</td>\n",
       "    </tr>\n",
       "    <tr>\n",
       "      <th>3</th>\n",
       "      <td>Изменить структура категорий, что увеличит кон...</td>\n",
       "      <td>1.125</td>\n",
       "    </tr>\n",
       "    <tr>\n",
       "      <th>4</th>\n",
       "      <td>Изменить цвет фона главной страницы, чтобы уве...</td>\n",
       "      <td>1.000</td>\n",
       "    </tr>\n",
       "  </tbody>\n",
       "</table>\n",
       "</div>"
      ],
      "text/plain": [
       "                                          Hypothesis     ice\n",
       "8  Запустить акцию, дающую скидку на товар в день...  16.200\n",
       "0  Добавить два новых канала привлечения трафика,...  13.333\n",
       "7  Добавить форму подписки на все основные страни...  11.200\n",
       "6  Показать на главной странице баннеры с актуаль...   8.000\n",
       "2  Добавить блоки рекомендаций товаров на сайт ин...   7.000\n",
       "1  Запустить собственную службу доставки, что сок...   2.000\n",
       "5  Добавить страницу отзывов клиентов о магазине,...   1.333\n",
       "3  Изменить структура категорий, что увеличит кон...   1.125\n",
       "4  Изменить цвет фона главной страницы, чтобы уве...   1.000"
      ]
     },
     "execution_count": 9,
     "metadata": {},
     "output_type": "execute_result"
    }
   ],
   "source": [
    "hyps['ice'] = ((hyps['Impact']*hyps['Confidence'])/hyps['Efforts']).round(3)\n",
    "hyps.sort_values(by = 'ice', ascending = False)[['Hypothesis', 'ice']]"
   ]
  },
  {
   "cell_type": "markdown",
   "metadata": {},
   "source": [
    "Применим фреймфорк RICE. Его формула **(R x I x C) / E**"
   ]
  },
  {
   "cell_type": "code",
   "execution_count": 10,
   "metadata": {},
   "outputs": [
    {
     "data": {
      "text/html": [
       "<div>\n",
       "<style scoped>\n",
       "    .dataframe tbody tr th:only-of-type {\n",
       "        vertical-align: middle;\n",
       "    }\n",
       "\n",
       "    .dataframe tbody tr th {\n",
       "        vertical-align: top;\n",
       "    }\n",
       "\n",
       "    .dataframe thead th {\n",
       "        text-align: right;\n",
       "    }\n",
       "</style>\n",
       "<table border=\"1\" class=\"dataframe\">\n",
       "  <thead>\n",
       "    <tr style=\"text-align: right;\">\n",
       "      <th></th>\n",
       "      <th>Hypothesis</th>\n",
       "      <th>rice</th>\n",
       "      <th>ice</th>\n",
       "    </tr>\n",
       "  </thead>\n",
       "  <tbody>\n",
       "    <tr>\n",
       "      <th>7</th>\n",
       "      <td>Добавить форму подписки на все основные страни...</td>\n",
       "      <td>112.0</td>\n",
       "      <td>11.200</td>\n",
       "    </tr>\n",
       "    <tr>\n",
       "      <th>2</th>\n",
       "      <td>Добавить блоки рекомендаций товаров на сайт ин...</td>\n",
       "      <td>56.0</td>\n",
       "      <td>7.000</td>\n",
       "    </tr>\n",
       "    <tr>\n",
       "      <th>0</th>\n",
       "      <td>Добавить два новых канала привлечения трафика,...</td>\n",
       "      <td>40.0</td>\n",
       "      <td>13.333</td>\n",
       "    </tr>\n",
       "    <tr>\n",
       "      <th>6</th>\n",
       "      <td>Показать на главной странице баннеры с актуаль...</td>\n",
       "      <td>40.0</td>\n",
       "      <td>8.000</td>\n",
       "    </tr>\n",
       "    <tr>\n",
       "      <th>8</th>\n",
       "      <td>Запустить акцию, дающую скидку на товар в день...</td>\n",
       "      <td>16.2</td>\n",
       "      <td>16.200</td>\n",
       "    </tr>\n",
       "    <tr>\n",
       "      <th>3</th>\n",
       "      <td>Изменить структура категорий, что увеличит кон...</td>\n",
       "      <td>9.0</td>\n",
       "      <td>1.125</td>\n",
       "    </tr>\n",
       "    <tr>\n",
       "      <th>1</th>\n",
       "      <td>Запустить собственную службу доставки, что сок...</td>\n",
       "      <td>4.0</td>\n",
       "      <td>2.000</td>\n",
       "    </tr>\n",
       "    <tr>\n",
       "      <th>5</th>\n",
       "      <td>Добавить страницу отзывов клиентов о магазине,...</td>\n",
       "      <td>4.0</td>\n",
       "      <td>1.333</td>\n",
       "    </tr>\n",
       "    <tr>\n",
       "      <th>4</th>\n",
       "      <td>Изменить цвет фона главной страницы, чтобы уве...</td>\n",
       "      <td>3.0</td>\n",
       "      <td>1.000</td>\n",
       "    </tr>\n",
       "  </tbody>\n",
       "</table>\n",
       "</div>"
      ],
      "text/plain": [
       "                                          Hypothesis   rice     ice\n",
       "7  Добавить форму подписки на все основные страни...  112.0  11.200\n",
       "2  Добавить блоки рекомендаций товаров на сайт ин...   56.0   7.000\n",
       "0  Добавить два новых канала привлечения трафика,...   40.0  13.333\n",
       "6  Показать на главной странице баннеры с актуаль...   40.0   8.000\n",
       "8  Запустить акцию, дающую скидку на товар в день...   16.2  16.200\n",
       "3  Изменить структура категорий, что увеличит кон...    9.0   1.125\n",
       "1  Запустить собственную службу доставки, что сок...    4.0   2.000\n",
       "5  Добавить страницу отзывов клиентов о магазине,...    4.0   1.333\n",
       "4  Изменить цвет фона главной страницы, чтобы уве...    3.0   1.000"
      ]
     },
     "execution_count": 10,
     "metadata": {},
     "output_type": "execute_result"
    }
   ],
   "source": [
    "hyps['rice'] = ((hyps['Reach']*hyps['Impact']*hyps['Confidence'])/hyps['Efforts']).round(3)\n",
    "hyps.sort_values(by = 'rice', ascending = False)[['Hypothesis', 'rice', 'ice']]"
   ]
  },
  {
   "cell_type": "code",
   "execution_count": 11,
   "metadata": {},
   "outputs": [
    {
     "data": {
      "text/html": [
       "<div>\n",
       "<style scoped>\n",
       "    .dataframe tbody tr th:only-of-type {\n",
       "        vertical-align: middle;\n",
       "    }\n",
       "\n",
       "    .dataframe tbody tr th {\n",
       "        vertical-align: top;\n",
       "    }\n",
       "\n",
       "    .dataframe thead th {\n",
       "        text-align: right;\n",
       "    }\n",
       "</style>\n",
       "<table border=\"1\" class=\"dataframe\">\n",
       "  <thead>\n",
       "    <tr style=\"text-align: right;\">\n",
       "      <th></th>\n",
       "      <th>Hypothesis</th>\n",
       "      <th>rice</th>\n",
       "      <th>ice</th>\n",
       "    </tr>\n",
       "  </thead>\n",
       "  <tbody>\n",
       "    <tr>\n",
       "      <th>7</th>\n",
       "      <td>Добавить форму подписки на все основные страни...</td>\n",
       "      <td>112.0</td>\n",
       "      <td>11.200</td>\n",
       "    </tr>\n",
       "    <tr>\n",
       "      <th>2</th>\n",
       "      <td>Добавить блоки рекомендаций товаров на сайт ин...</td>\n",
       "      <td>56.0</td>\n",
       "      <td>7.000</td>\n",
       "    </tr>\n",
       "    <tr>\n",
       "      <th>0</th>\n",
       "      <td>Добавить два новых канала привлечения трафика,...</td>\n",
       "      <td>40.0</td>\n",
       "      <td>13.333</td>\n",
       "    </tr>\n",
       "    <tr>\n",
       "      <th>6</th>\n",
       "      <td>Показать на главной странице баннеры с актуаль...</td>\n",
       "      <td>40.0</td>\n",
       "      <td>8.000</td>\n",
       "    </tr>\n",
       "    <tr>\n",
       "      <th>8</th>\n",
       "      <td>Запустить акцию, дающую скидку на товар в день...</td>\n",
       "      <td>16.2</td>\n",
       "      <td>16.200</td>\n",
       "    </tr>\n",
       "    <tr>\n",
       "      <th>3</th>\n",
       "      <td>Изменить структура категорий, что увеличит кон...</td>\n",
       "      <td>9.0</td>\n",
       "      <td>1.125</td>\n",
       "    </tr>\n",
       "    <tr>\n",
       "      <th>1</th>\n",
       "      <td>Запустить собственную службу доставки, что сок...</td>\n",
       "      <td>4.0</td>\n",
       "      <td>2.000</td>\n",
       "    </tr>\n",
       "    <tr>\n",
       "      <th>5</th>\n",
       "      <td>Добавить страницу отзывов клиентов о магазине,...</td>\n",
       "      <td>4.0</td>\n",
       "      <td>1.333</td>\n",
       "    </tr>\n",
       "    <tr>\n",
       "      <th>4</th>\n",
       "      <td>Изменить цвет фона главной страницы, чтобы уве...</td>\n",
       "      <td>3.0</td>\n",
       "      <td>1.000</td>\n",
       "    </tr>\n",
       "  </tbody>\n",
       "</table>\n",
       "</div>"
      ],
      "text/plain": [
       "                                          Hypothesis   rice     ice\n",
       "7  Добавить форму подписки на все основные страни...  112.0  11.200\n",
       "2  Добавить блоки рекомендаций товаров на сайт ин...   56.0   7.000\n",
       "0  Добавить два новых канала привлечения трафика,...   40.0  13.333\n",
       "6  Показать на главной странице баннеры с актуаль...   40.0   8.000\n",
       "8  Запустить акцию, дающую скидку на товар в день...   16.2  16.200\n",
       "3  Изменить структура категорий, что увеличит кон...    9.0   1.125\n",
       "1  Запустить собственную службу доставки, что сок...    4.0   2.000\n",
       "5  Добавить страницу отзывов клиентов о магазине,...    4.0   1.333\n",
       "4  Изменить цвет фона главной страницы, чтобы уве...    3.0   1.000"
      ]
     },
     "execution_count": 11,
     "metadata": {},
     "output_type": "execute_result"
    }
   ],
   "source": [
    "hyps.sort_values(by = 'rice', ascending = False)[['Hypothesis','rice', 'ice' ]]"
   ]
  },
  {
   "cell_type": "markdown",
   "metadata": {},
   "source": [
    "### Выводы по приоретизации гипотез"
   ]
  },
  {
   "cell_type": "markdown",
   "metadata": {},
   "source": [
    "Если рассматривать 3 самые \"успешные\" гипотезы, то идеи о добавлении формы рассылок и двух новых каналов наюирают больше всех баллов как при методике ICE, так и при методике RICE. Однако, если учитывать в том числе и охват, который будет у новой фичи, то блоки рекомендаций значительно более предпочтительны, чем однодневная акция. Для бизнеса повышение среднего чека у большого числа клиентов будет выгоднее, поэтому в дальнейшем буду руководствоваться более точной в этом случае методикой RICE "
   ]
  },
  {
   "cell_type": "markdown",
   "metadata": {},
   "source": [
    "## Анализ A/B теста"
   ]
  },
  {
   "cell_type": "markdown",
   "metadata": {},
   "source": [
    "Проверим пользователей на одновременное вхождение в две группы теста:"
   ]
  },
  {
   "cell_type": "code",
   "execution_count": 12,
   "metadata": {},
   "outputs": [
    {
     "name": "stdout",
     "output_type": "stream",
     "text": [
      "Пользователи, которые попали в обе группы: 58\n"
     ]
    }
   ],
   "source": [
    "users_in_both_groups = orders[orders['group'] == 'A'].merge(\n",
    "    orders[orders['group'] == 'B'],\n",
    "    on='visitorId',\n",
    "    how='inner'\n",
    ")\n",
    "result = users_in_both_groups['visitorId'].unique().tolist()\n",
    "\n",
    "df = pd.DataFrame({'id':[]})\n",
    "for i in result:\n",
    "    df = df.append(orders[orders['visitorId'] == i])\n",
    "\n",
    "pd.options.display.max_colwidth = 100\n",
    "print('Пользователи, которые попали в обе группы:', len(df['visitorId'].unique()))"
   ]
  },
  {
   "cell_type": "markdown",
   "metadata": {},
   "source": [
    "58 пользователей, которые побывали в двух группах одновременно - это почти 5% от выборки. Однако нет причин удалять этих пользователей, ведь по группам разбиваются не пользователи, а их заказы. Нет ничего удивительного в том, что разные заказы одного пользователя были отнесены к различным группам."
   ]
  },
  {
   "cell_type": "markdown",
   "metadata": {},
   "source": [
    "### Построим график кумулятивной выручки по группам. Сделаем выводы и предположения."
   ]
  },
  {
   "cell_type": "code",
   "execution_count": 13,
   "metadata": {},
   "outputs": [],
   "source": [
    "aggregated_df = orders.groupby(['date', 'group'])['revenue'].sum().unstack()"
   ]
  },
  {
   "cell_type": "code",
   "execution_count": 14,
   "metadata": {},
   "outputs": [
    {
     "data": {
      "image/png": "[encoded data removed]",
      "text/plain": [
       "<Figure size 720x360 with 1 Axes>"
      ]
     },
     "metadata": {
      "needs_background": "light"
     },
     "output_type": "display_data"
    }
   ],
   "source": [
    "plt.figure(figsize = (10, 5))\n",
    "plt.plot(aggregated_df['A'].cumsum(), label = 'A')\n",
    "plt.plot(aggregated_df['B'].cumsum(), label = 'B')\n",
    "plt.xticks(rotation=90)\n",
    "plt.title('Кумулятивная выручка по группам')\n",
    "plt.xlabel('Дата')\n",
    "plt.ylabel('Выручка (млн.руб)')\n",
    "plt.legend();"
   ]
  },
  {
   "cell_type": "markdown",
   "metadata": {},
   "source": [
    "График B стабильно показывает выручку большую, чем А. В период с 17 по 21 августа в графике B наблюдается резкий линейный скачок, после чего кривая B сохраняет угол наклона примерно равный графику A. Возможно, в этот период в группе B было совершено аномально много покупок или совершены покупки на аномально большую сумму. Все это произошло в течение одного дня, так как скачок не имеет точек излома"
   ]
  },
  {
   "cell_type": "code",
   "execution_count": 15,
   "metadata": {},
   "outputs": [
    {
     "data": {
      "text/html": [
       "<div>\n",
       "<style scoped>\n",
       "    .dataframe tbody tr th:only-of-type {\n",
       "        vertical-align: middle;\n",
       "    }\n",
       "\n",
       "    .dataframe tbody tr th {\n",
       "        vertical-align: top;\n",
       "    }\n",
       "\n",
       "    .dataframe thead th {\n",
       "        text-align: right;\n",
       "    }\n",
       "</style>\n",
       "<table border=\"1\" class=\"dataframe\">\n",
       "  <thead>\n",
       "    <tr style=\"text-align: right;\">\n",
       "      <th></th>\n",
       "      <th>transactionId</th>\n",
       "      <th>visitorId</th>\n",
       "      <th>date</th>\n",
       "      <th>revenue</th>\n",
       "      <th>group</th>\n",
       "    </tr>\n",
       "  </thead>\n",
       "  <tbody>\n",
       "    <tr>\n",
       "      <th>0</th>\n",
       "      <td>3667963787</td>\n",
       "      <td>3312258926</td>\n",
       "      <td>2019-08-15</td>\n",
       "      <td>1650</td>\n",
       "      <td>B</td>\n",
       "    </tr>\n",
       "    <tr>\n",
       "      <th>1</th>\n",
       "      <td>2804400009</td>\n",
       "      <td>3642806036</td>\n",
       "      <td>2019-08-15</td>\n",
       "      <td>730</td>\n",
       "      <td>B</td>\n",
       "    </tr>\n",
       "    <tr>\n",
       "      <th>2</th>\n",
       "      <td>2961555356</td>\n",
       "      <td>4069496402</td>\n",
       "      <td>2019-08-15</td>\n",
       "      <td>400</td>\n",
       "      <td>A</td>\n",
       "    </tr>\n",
       "    <tr>\n",
       "      <th>3</th>\n",
       "      <td>3797467345</td>\n",
       "      <td>1196621759</td>\n",
       "      <td>2019-08-15</td>\n",
       "      <td>9759</td>\n",
       "      <td>B</td>\n",
       "    </tr>\n",
       "    <tr>\n",
       "      <th>4</th>\n",
       "      <td>2282983706</td>\n",
       "      <td>2322279887</td>\n",
       "      <td>2019-08-15</td>\n",
       "      <td>2308</td>\n",
       "      <td>B</td>\n",
       "    </tr>\n",
       "    <tr>\n",
       "      <th>...</th>\n",
       "      <td>...</td>\n",
       "      <td>...</td>\n",
       "      <td>...</td>\n",
       "      <td>...</td>\n",
       "      <td>...</td>\n",
       "    </tr>\n",
       "    <tr>\n",
       "      <th>1192</th>\n",
       "      <td>2662137336</td>\n",
       "      <td>3733762160</td>\n",
       "      <td>2019-08-14</td>\n",
       "      <td>6490</td>\n",
       "      <td>B</td>\n",
       "    </tr>\n",
       "    <tr>\n",
       "      <th>1193</th>\n",
       "      <td>2203539145</td>\n",
       "      <td>370388673</td>\n",
       "      <td>2019-08-14</td>\n",
       "      <td>3190</td>\n",
       "      <td>A</td>\n",
       "    </tr>\n",
       "    <tr>\n",
       "      <th>1194</th>\n",
       "      <td>1807773912</td>\n",
       "      <td>573423106</td>\n",
       "      <td>2019-08-14</td>\n",
       "      <td>10550</td>\n",
       "      <td>A</td>\n",
       "    </tr>\n",
       "    <tr>\n",
       "      <th>1195</th>\n",
       "      <td>1947021204</td>\n",
       "      <td>1614305549</td>\n",
       "      <td>2019-08-14</td>\n",
       "      <td>100</td>\n",
       "      <td>A</td>\n",
       "    </tr>\n",
       "    <tr>\n",
       "      <th>1196</th>\n",
       "      <td>3936777065</td>\n",
       "      <td>2108080724</td>\n",
       "      <td>2019-08-15</td>\n",
       "      <td>202740</td>\n",
       "      <td>B</td>\n",
       "    </tr>\n",
       "  </tbody>\n",
       "</table>\n",
       "<p>1197 rows × 5 columns</p>\n",
       "</div>"
      ],
      "text/plain": [
       "      transactionId   visitorId       date  revenue group\n",
       "0        3667963787  3312258926 2019-08-15     1650     B\n",
       "1        2804400009  3642806036 2019-08-15      730     B\n",
       "2        2961555356  4069496402 2019-08-15      400     A\n",
       "3        3797467345  1196621759 2019-08-15     9759     B\n",
       "4        2282983706  2322279887 2019-08-15     2308     B\n",
       "...             ...         ...        ...      ...   ...\n",
       "1192     2662137336  3733762160 2019-08-14     6490     B\n",
       "1193     2203539145   370388673 2019-08-14     3190     A\n",
       "1194     1807773912   573423106 2019-08-14    10550     A\n",
       "1195     1947021204  1614305549 2019-08-14      100     A\n",
       "1196     3936777065  2108080724 2019-08-15   202740     B\n",
       "\n",
       "[1197 rows x 5 columns]"
      ]
     },
     "execution_count": 15,
     "metadata": {},
     "output_type": "execute_result"
    }
   ],
   "source": [
    "orders"
   ]
  },
  {
   "cell_type": "markdown",
   "metadata": {},
   "source": [
    "### Построим график кумулятивного среднего чека по группам. Сделайем выводы и предположения."
   ]
  },
  {
   "cell_type": "markdown",
   "metadata": {},
   "source": [
    "Создам сводную таблицу для упрощения дальнейшей работы"
   ]
  },
  {
   "cell_type": "code",
   "execution_count": 16,
   "metadata": {},
   "outputs": [],
   "source": [
    "orders = orders.groupby(by = ['date', 'group']).agg(transactionId = ('transactionId', 'count'), \n",
    "                                                visitorId = ('visitorId', 'nunique'),\n",
    "                                                revenue = ('revenue', 'sum'))\n",
    "orders = orders.rename(columns = {'transactionId':'orders', 'visitorId':'buyers'})"
   ]
  },
  {
   "cell_type": "code",
   "execution_count": 17,
   "metadata": {},
   "outputs": [],
   "source": [
    "orders['date'] = orders.index.get_level_values(0)\n",
    "orders['group'] = orders.index.get_level_values(1)\n",
    "orders = orders.reset_index(drop = True)\n",
    "\n",
    "for i in ['revenue', 'orders', 'buyers']:\n",
    "    orders['cumrevA'] = orders[orders['group'] == 'A'][i].cumsum()\n",
    "    orders['cumrevB'] = orders[orders['group'] == 'B'][i].cumsum()\n",
    "    orders[i] = orders['cumrevA'].fillna(orders['cumrevB'])\n",
    "    orders = orders.drop(['cumrevA', 'cumrevB'], axis=1)"
   ]
  },
  {
   "cell_type": "code",
   "execution_count": 18,
   "metadata": {},
   "outputs": [],
   "source": [
    "cummulativeDataA = orders[orders['group']=='A']\n",
    "cummulativeDataB = orders[orders['group']=='B']"
   ]
  },
  {
   "cell_type": "code",
   "execution_count": 19,
   "metadata": {},
   "outputs": [
    {
     "data": {
      "image/png": "[encoded data removed]",
      "text/plain": [
       "<Figure size 720x288 with 1 Axes>"
      ]
     },
     "metadata": {
      "needs_background": "light"
     },
     "output_type": "display_data"
    }
   ],
   "source": [
    "plt.figure(figsize=(10,4))\n",
    "plt.plot(cummulativeDataA['date'], cummulativeDataA['revenue']/cummulativeDataA['orders'], label = 'A')\n",
    "plt.plot(cummulativeDataB['date'], cummulativeDataB['revenue']/cummulativeDataB['orders'], label = 'B')\n",
    "plt.title('Графики кумулятивного среднего чека по группам A/B')\n",
    "plt.ylabel('Средний чек')\n",
    "plt.xlabel('Дата')\n",
    "plt.legend()\n",
    "plt.show()"
   ]
  },
  {
   "cell_type": "markdown",
   "metadata": {},
   "source": [
    "Данные о том, что средний чек группы B был все время до скачка выше, чем чек группы A согласуется с полученным ранее графиком. Поскольку резко вырос средний чек, отметем гипотезу о том, что было произведено очень много заказов в короткий период. Это заказы на аномально большую сумму."
   ]
  },
  {
   "cell_type": "code",
   "execution_count": 20,
   "metadata": {},
   "outputs": [],
   "source": [
    "#Здравствуйте, извините, что код в этой части такой неоптимизированный. \n",
    "#Возможно, вы могли бы дать мне пару советов по его улучшению? В идеале без lambda функций :)"
   ]
  },
  {
   "cell_type": "markdown",
   "metadata": {},
   "source": [
    "### Построим график относительного изменения кумулятивного среднего чека группы B к группе A."
   ]
  },
  {
   "cell_type": "code",
   "execution_count": 21,
   "metadata": {},
   "outputs": [
    {
     "data": {
      "image/png": "[encoded data removed]",
      "text/plain": [
       "<Figure size 720x288 with 1 Axes>"
      ]
     },
     "metadata": {
      "needs_background": "light"
     },
     "output_type": "display_data"
    }
   ],
   "source": [
    "mergedCummulativeData = cummulativeDataA.merge(cummulativeDataB, left_on='date', right_on='date', suffixes=['A', 'B'])\n",
    "mergedCummulativeData.head(5)\n",
    "plt.figure(figsize=(10,4))\n",
    "plt.plot(mergedCummulativeData['date'], ((mergedCummulativeData['revenueB']/mergedCummulativeData['ordersB'])/\n",
    "                                       (mergedCummulativeData['revenueA']/mergedCummulativeData['ordersA'])-1))\n",
    "plt.axhline(y=0, color='black', linestyle = '--')\n",
    "plt.title('График относительного изменения кумулятивного среднего чека B к А')\n",
    "plt.xlabel('Дата');"
   ]
  },
  {
   "cell_type": "markdown",
   "metadata": {},
   "source": [
    "Этот график не дает много новой информации. Лишь подтверждает вывод из прошлых о том, что произошел аномальный скачок в группе B"
   ]
  },
  {
   "cell_type": "markdown",
   "metadata": {},
   "source": [
    "### Построим график кумулятивного среднего количества заказов на посетителя по группам"
   ]
  },
  {
   "cell_type": "code",
   "execution_count": 22,
   "metadata": {},
   "outputs": [],
   "source": [
    "aggregated_vs = visitors.groupby(['date', 'group'])['visitors'].sum().unstack()\n",
    "aggregated_vs['A'] = aggregated_vs['A'].cumsum()\n",
    "aggregated_vs['B'] = aggregated_vs['B'].cumsum()\n",
    "aggregated_vs = aggregated_vs.rename(columns = {'A':'visitorsA', 'B':'visitorsB'})"
   ]
  },
  {
   "cell_type": "code",
   "execution_count": 23,
   "metadata": {},
   "outputs": [],
   "source": [
    "mergedCummulativeData = mergedCummulativeData.merge(aggregated_vs, on = 'date')"
   ]
  },
  {
   "cell_type": "code",
   "execution_count": 24,
   "metadata": {},
   "outputs": [
    {
     "data": {
      "image/png": "[encoded data removed]",
      "text/plain": [
       "<Figure size 720x360 with 1 Axes>"
      ]
     },
     "metadata": {
      "needs_background": "light"
     },
     "output_type": "display_data"
    }
   ],
   "source": [
    "plt.figure(figsize = (10, 5))\n",
    "plt.plot(mergedCummulativeData['date'], mergedCummulativeData['ordersA']/mergedCummulativeData['visitorsA'], label = 'A')\n",
    "plt.plot(mergedCummulativeData['date'], mergedCummulativeData['ordersB']/mergedCummulativeData['visitorsB'], label = 'B')\n",
    "plt.title('Кумулятивная конверсия по группам')\n",
    "plt.legend();"
   ]
  },
  {
   "cell_type": "markdown",
   "metadata": {},
   "source": [
    "Группа B показывает конверсию большую, чем группа А. Это может говорить о том, что выброс в середине графика группы B не настолько большой как может казаться. Частично он происходит по естесственным причинам"
   ]
  },
  {
   "cell_type": "markdown",
   "metadata": {},
   "source": [
    "### Построим график относительного изменения кумулятивного среднего количества заказов на посетителя группы B к группе A."
   ]
  },
  {
   "cell_type": "code",
   "execution_count": 25,
   "metadata": {},
   "outputs": [
    {
     "data": {
      "image/png": "[encoded data removed]",
      "text/plain": [
       "<Figure size 720x360 with 1 Axes>"
      ]
     },
     "metadata": {
      "needs_background": "light"
     },
     "output_type": "display_data"
    }
   ],
   "source": [
    "plt.figure(figsize=(10,5))\n",
    "plt.plot(mergedCummulativeData['date'], \n",
    "         ((mergedCummulativeData['ordersB']/mergedCummulativeData['visitorsB']/(mergedCummulativeData['ordersA']/mergedCummulativeData['visitorsA']))-1))\n",
    "plt.title('Относительная кумулятивная конверсия группы B к A')\n",
    "plt.axhline(y=0, color='black', linestyle='--')\n",
    "plt.axhline(y=0.1, color='grey', linestyle='--');"
   ]
  },
  {
   "cell_type": "markdown",
   "metadata": {},
   "source": [
    "Подтверждается вывод по прошлому графику. Стабильно конверсия группы B большк конверсии A ~ на 0.2"
   ]
  },
  {
   "cell_type": "markdown",
   "metadata": {},
   "source": [
    "### Построим точечный график количества заказов по пользователям."
   ]
  },
  {
   "cell_type": "code",
   "execution_count": 26,
   "metadata": {},
   "outputs": [
    {
     "data": {
      "image/png": "[encoded data removed]",
      "text/plain": [
       "<Figure size 720x360 with 1 Axes>"
      ]
     },
     "metadata": {
      "needs_background": "light"
     },
     "output_type": "display_data"
    },
    {
     "data": {
      "image/png": "[encoded data removed]",
      "text/plain": [
       "<Figure size 1080x360 with 1 Axes>"
      ]
     },
     "metadata": {
      "needs_background": "light"
     },
     "output_type": "display_data"
    }
   ],
   "source": [
    "plt.figure(figsize=(10,5))\n",
    "plt.hist(orders2.groupby(by = 'visitorId').agg({'transactionId':'nunique'}));\n",
    "plt.xlabel('Число заказов')\n",
    "plt.ylabel('Число пользователей, сделавших это число заказов')\n",
    "plt.show()\n",
    "\n",
    "plt.figure(figsize=(15,5))\n",
    "x_values = pd.Series(range(0, len(orders2.groupby(by = 'visitorId').agg({'transactionId':'nunique'}))))\n",
    "plt.scatter(x_values, orders2.groupby(by = 'visitorId').agg({'transactionId':'nunique'}));\n",
    "plt.ylim(0, 12)\n",
    "plt.title('Распределение количества заказов по пользователям')\n",
    "plt.ylabel('Число заказов')\n",
    "plt.show();"
   ]
  },
  {
   "cell_type": "markdown",
   "metadata": {},
   "source": [
    "Удобно смотреть на второй график. Чем плотнее линия - тем чаще пользователи совершают заказ столько раз. Бесспорный лидер - единственный заказ. Однако есть и те, кто сделал 8Б 9 и 11 заказов. Это выбросы и от них в дальнейшем скорее всего надо будет избавляться. Благо, таких заказов около десятка. Совсем мало в сравнении с общей выборкой"
   ]
  },
  {
   "cell_type": "markdown",
   "metadata": {},
   "source": [
    "### Посчитаем 95-й и 99-й перцентили количества заказов на пользователя."
   ]
  },
  {
   "cell_type": "code",
   "execution_count": 27,
   "metadata": {},
   "outputs": [
    {
     "name": "stdout",
     "output_type": "stream",
     "text": [
      "95 перцентиль: 2.0 \n",
      "99 перцентиль: 4.0\n"
     ]
    }
   ],
   "source": [
    "ordersByUsers = orders2.groupby('visitorId', as_index = False).agg({'transactionId':'nunique'}).sort_values(by='transactionId', ascending = False)\n",
    "ordersByUsers.columns = ['visitorId', 'orders']\n",
    "percentiles = np.percentile(ordersByUsers['orders'], [95, 99])\n",
    "print('95 перцентиль: {} \\n99 перцентиль: {}'.format(percentiles[0],percentiles[1]))"
   ]
  },
  {
   "cell_type": "markdown",
   "metadata": {},
   "source": [
    "Действительно, лишь 5% пользователей совершили более двух заказов и 1% более 4."
   ]
  },
  {
   "cell_type": "markdown",
   "metadata": {},
   "source": [
    "### Построим точечный график стоимостей заказов."
   ]
  },
  {
   "cell_type": "code",
   "execution_count": 28,
   "metadata": {},
   "outputs": [
    {
     "data": {
      "image/png": "[encoded data removed]",
      "text/plain": [
       "<Figure size 720x360 with 1 Axes>"
      ]
     },
     "metadata": {
      "needs_background": "light"
     },
     "output_type": "display_data"
    }
   ],
   "source": [
    "figure(figsize = (10, 5))\n",
    "x_values = pd.Series(range(0, len(orders2)))\n",
    "plt.scatter(x_values, orders2['revenue'])\n",
    "plt.title('Точечный график стоимостей заказов')\n",
    "plt.ylabel('Потраченая сумма')\n",
    "plt.ylim(0, 100000);"
   ]
  },
  {
   "cell_type": "markdown",
   "metadata": {},
   "source": [
    "Судя по графику большая часть делает покупки до 20 000. Реже - до 40 000. Заказы дороже 60 000 - большая редкость."
   ]
  },
  {
   "cell_type": "markdown",
   "metadata": {},
   "source": [
    "### Посчитаем 95-й и 99-й перцентили стоимости заказов."
   ]
  },
  {
   "cell_type": "code",
   "execution_count": 29,
   "metadata": {},
   "outputs": [
    {
     "name": "stdout",
     "output_type": "stream",
     "text": [
      "95 перцентиль: 28000.0 \n",
      "99 перцентиль: 58233.2\n"
     ]
    }
   ],
   "source": [
    "percentiles = np.percentile(orders2['revenue'], [95, 99]).round(2)\n",
    "print('95 перцентиль: {} \\n99 перцентиль: {}'.format(percentiles[0],percentiles[1]))"
   ]
  },
  {
   "cell_type": "markdown",
   "metadata": {},
   "source": [
    "Лишь 5% пользователей оставили в магазине более 28000 за заказ. И 1% более 58 233 рублей. Из этого следует, что значения выше - аномальны."
   ]
  },
  {
   "cell_type": "markdown",
   "metadata": {},
   "source": [
    "### Посчитаем статистическую значимость различий в среднем количестве заказов на посетителя между группами по «сырым» данным."
   ]
  },
  {
   "cell_type": "code",
   "execution_count": 30,
   "metadata": {
    "scrolled": true
   },
   "outputs": [
    {
     "name": "stdout",
     "output_type": "stream",
     "text": [
      "Кол-во покупателей в группе A: 503\n",
      "Кол-во покупок в группе А: 557\n",
      "Кол-во посетителей в группе A: 18736\n",
      "Кол-во покупателей в группе B: 586\n",
      "Кол-во покупок в группе B: 640\n",
      "Кол-во посетителей в группе B: 18916\n"
     ]
    }
   ],
   "source": [
    "ordersByUsersA = orders2[orders2['group']=='A'].groupby('visitorId', as_index=False).agg({'transactionId':'nunique'})\n",
    "ordersByUsersA.columns = ['visitorId', 'orders']\n",
    "ordersByUsersB = orders2[orders2['group']=='B'].groupby('visitorId', as_index=False).agg({'transactionId':'nunique'})\n",
    "ordersByUsersB.columns = ['visitorId', 'orders']\n",
    "print('Кол-во покупателей в группе A:', len(ordersByUsersA))\n",
    "print('Кол-во покупок в группе А:', ordersByUsersA['orders'].sum())\n",
    "print('Кол-во посетителей в группе A:', visitors[visitors['group']=='A']['visitors'].sum())\n",
    "print('Кол-во покупателей в группе B:', len(ordersByUsersB))\n",
    "print('Кол-во покупок в группе B:', ordersByUsersB['orders'].sum())\n",
    "print('Кол-во посетителей в группе B:', (visitors[visitors['group']=='B']['visitors'].sum()))"
   ]
  },
  {
   "cell_type": "markdown",
   "metadata": {},
   "source": [
    "**Гипотеза 1:** Есть статистически значимая разница в среднем кол-ве заказов на посетителя в зависимости от группы\n",
    "- Н0 - Статистически значимая разница в среднем кол-ве заказов на посетителя в зависимости от группы есть\n",
    "- H1 - Статистически значимой разницы в среднем кол-ве заказов на посетителя в зависимости от группы нет"
   ]
  },
  {
   "cell_type": "code",
   "execution_count": 31,
   "metadata": {},
   "outputs": [
    {
     "name": "stdout",
     "output_type": "stream",
     "text": [
      "Прирост конверсии группы B по отношению к группе A: 0.13808\n",
      "P-value: 0.01679\n",
      "Принята гипотеза H0. По неочищенным данным в конверсии групп A и B разница статистически значима\n"
     ]
    }
   ],
   "source": [
    " list_orders_1 =[]\n",
    "for i in range(0,(visitors[visitors['group']=='A']['visitors'].sum()-len(ordersByUsersA))):\n",
    "    list_orders_1.append(0)\n",
    "orders_by_non_purchased_users_A = pd.Series(data = list_orders_1, name = 'orders')\n",
    "\n",
    "list_orders_2 =[]\n",
    "for i in range(0,(visitors[visitors['group']=='B']['visitors'].sum()-len(ordersByUsersB))):\n",
    "    list_orders_2.append(0)\n",
    "orders_by_non_purchased_users_B = pd.Series(data = list_orders_2, name = 'orders')\n",
    "\n",
    "sampleA = pd.concat([ordersByUsersA['orders'], orders_by_non_purchased_users_A], axis=0)\n",
    "sampleB = pd.concat([ordersByUsersB['orders'], orders_by_non_purchased_users_B], axis=0)\n",
    "print('Прирост конверсии группы B по отношению к группе A:', (sampleB.mean()/sampleA.mean()-1).round(5))\n",
    "alpha = 0.05\n",
    "results = stats.mannwhitneyu(sampleA, sampleB)\n",
    "print('P-value:', results.pvalue.round(5))\n",
    "if results.pvalue < alpha:\n",
    "    print('Принята гипотеза H0. По неочищенным данным в конверсии групп A и B разница статистически значима')\n",
    "else:\n",
    "    print('Гипотеза H0 не принята. Следовательно справедлива гипотеза H1. По неочищенным данным различий в конверсии групп A и B нет')"
   ]
  },
  {
   "cell_type": "markdown",
   "metadata": {},
   "source": [
    "### Посчитаем статистическую значимость различий в среднем чеке заказа между группами по «сырым» данным. "
   ]
  },
  {
   "cell_type": "markdown",
   "metadata": {},
   "source": [
    "**Гипотеза 2**: Есть статистически значимое различие в среднем чеке заказа между группами по «сырым» данным\n",
    "- Н0: Статистически значимое различие в среднем чеке заказа между группами по «сырым» данным есть\n",
    "- Н1: Статистически значимое различие в среднем чеке заказа между группами по «сырым» данным отсутствует"
   ]
  },
  {
   "cell_type": "code",
   "execution_count": 32,
   "metadata": {},
   "outputs": [
    {
     "name": "stdout",
     "output_type": "stream",
     "text": [
      "Относительное изменение в среднем чеке A к B: 0.434839662157402\n",
      "P-value: 0.1054395262145376\n",
      "По неочищенным данным различий в конверсии групп A и B нет. Гипотеза Н0 отвергнута в пользу гипотезы Н1\n"
     ]
    }
   ],
   "source": [
    "coverg = orders[orders['group']=='B']['revenue'].mean()/orders[orders['group']=='A']['revenue'].mean()-1\n",
    "print('Относительное изменение в среднем чеке A к B:', coverg)\n",
    "results = stats.mannwhitneyu(orders[orders['group']=='A']['revenue'], orders[orders['group']=='B']['revenue'])\n",
    "print('P-value: {}'.format(results.pvalue))\n",
    "if results.pvalue < alpha:\n",
    "    print('По неочищенным данным в конверсии групп A и B разница статистически значима. Гипотеза Н0 принята.')\n",
    "else:\n",
    "    print('По неочищенным данным различий в конверсии групп A и B нет. Гипотеза Н0 отвергнута в пользу гипотезы Н1')\n"
   ]
  },
  {
   "cell_type": "markdown",
   "metadata": {},
   "source": [
    "### Посчитаем статистическую значимость различий в конверсии между группами по «очищенным» данным"
   ]
  },
  {
   "cell_type": "markdown",
   "metadata": {},
   "source": [
    "Чтобы рассчитать статистическую значимость различий в конверсии между группами по «очищенным» данным, очистим их от 5% выбросов. В нашем случае:\n",
    "- Пользователи, сделавшие более 2 заказов\n",
    "- Пользователи, сделавшие заказ на более чем 28 000р. "
   ]
  },
  {
   "cell_type": "code",
   "execution_count": 33,
   "metadata": {},
   "outputs": [
    {
     "name": "stdout",
     "output_type": "stream",
     "text": [
      "Аномальных пользователей: 74\n"
     ]
    }
   ],
   "source": [
    "manyorders = pd.concat([ordersByUsersA[ordersByUsersA['orders']>2]['visitorId'], \n",
    "                        ordersByUsersB[ordersByUsersB['orders']>2]['visitorId']], axis = 0)\n",
    "manyrevenue = orders2[orders2['revenue']>28000]['visitorId']\n",
    "print('Аномальных пользователей:', len(pd.concat([manyorders, manyrevenue], axis = 0).drop_duplicates()))"
   ]
  },
  {
   "cell_type": "markdown",
   "metadata": {},
   "source": [
    "**Гипотеза 3**: Есть статистически значимые различия в конверсии между группами по «очищенным» данным\n",
    "- Н0: Статистически значимые различия в конверсии между группами по «очищенным» данным есть\n",
    "- Н1: Статистически значимые различия в конверсии между группами по «очищенным» данным отсутствуют"
   ]
  },
  {
   "cell_type": "code",
   "execution_count": 34,
   "metadata": {
    "scrolled": true
   },
   "outputs": [
    {
     "name": "stdout",
     "output_type": "stream",
     "text": [
      "Относительный прирост конверсии группы B по отношению к группе A \"чистых\" данных: 0.17270102073526417\n",
      "P-value: 0.013042592743036745\n",
      "По неочищенным данным в конверсии групп A и B разница статистически значима. Принята гипотеза Н0.\n"
     ]
    }
   ],
   "source": [
    "abnormalUsers = pd.concat([manyorders, manyrevenue], axis = 0).drop_duplicates()\n",
    "\n",
    "sampleAFiltered = pd.concat([\n",
    "    ordersByUsersA[np.logical_not(ordersByUsersA['visitorId'].isin(abnormalUsers))]['orders'],\n",
    "    orders_by_non_purchased_users_A\n",
    "], axis = 0)\n",
    "sampleBFiltered = pd.concat([\n",
    "    ordersByUsersB[np.logical_not(ordersByUsersB['visitorId'].isin(abnormalUsers))]['orders'],\n",
    "    orders_by_non_purchased_users_B\n",
    "], axis = 0)\n",
    "print('Относительный прирост конверсии группы B по отношению к группе A \"чистых\" данных:', sampleBFiltered.mean()/sampleAFiltered.mean()-1)\n",
    "results = stats.mannwhitneyu(sampleAFiltered, sampleBFiltered)\n",
    "print('P-value:', results.pvalue)\n",
    "if results.pvalue < alpha:\n",
    "    print('По неочищенным данным в конверсии групп A и B разница статистически значима. Принята гипотеза Н0.')\n",
    "else:\n",
    "    print('По неочищенным данным различий в конверсии групп A и B нет. Гипотеза Н0 отвергнута в пользу гипотезы Н1.')"
   ]
  },
  {
   "cell_type": "markdown",
   "metadata": {},
   "source": [
    "**Гипотеза 4**: Есть статистически значимые различия в среднем чеке между группами по «очищенным» данным\n",
    "\n",
    "- Н0: Статистически значимые различия в среднем чеке между группами по «очищенным» данным есть\n",
    "- Н1: Статистически значимые различия в среднем чеке между группами по «очищенным» данным отсутствуют"
   ]
  },
  {
   "cell_type": "code",
   "execution_count": 35,
   "metadata": {},
   "outputs": [
    {
     "name": "stdout",
     "output_type": "stream",
     "text": [
      "Относительное изменение среднего чека в группе B по отношению группы A \"чистых\" данных: -0.019624288331982598\n",
      "P-value: 0.9636988946009222\n",
      "По неочищенным данным различий в среднем чеке групп A и B нет. Гипотеза Н0 отвергнута. Принята гипотеза Н1\n"
     ]
    }
   ],
   "source": [
    "print('Относительное изменение среднего чека в группе B по отношению группы A \"чистых\" данных:',\n",
    "orders2[np.logical_and(orders2['group']=='B', np.logical_not(orders2['visitorId'].isin(abnormalUsers)))]['revenue'].mean()\\\n",
    "/orders2[np.logical_and(orders2['group']=='A', np.logical_not(orders2['visitorId'].isin(abnormalUsers)))]['revenue'].mean()-1)\n",
    "       \n",
    "       \n",
    "results = stats.mannwhitneyu(orders2[np.logical_and(orders['group']=='A', np.logical_not(orders2['visitorId'].isin(abnormalUsers)))]['revenue'],\n",
    "                             orders2[np.logical_and(orders['group']=='B', np.logical_not(orders2['visitorId'].isin(abnormalUsers)))]['revenue'])\n",
    "print('P-value:', results.pvalue)\n",
    "if results.pvalue < alpha:\n",
    "    print('По неочищенным данным в среднем чеке групп A и B разница статистически значима. Принята гипотеза Н0.')\n",
    "else:\n",
    "    print('По неочищенным данным различий в среднем чеке групп A и B нет. Гипотеза Н0 отвергнута. Принята гипотеза Н1')"
   ]
  },
  {
   "cell_type": "markdown",
   "metadata": {},
   "source": [
    "## Выводы"
   ]
  },
  {
   "cell_type": "markdown",
   "metadata": {},
   "source": [
    "После очистки данных от аномальных пользователей, тест можно остановить и считать завершенным успешно, поскольку:\n",
    "- Кумулятивные данные о выручек, конверсии и среднем чеке почти всегда лидировали в группе B\n",
    "- После удаления из исследования аномальных пользователей разница между группой A и B значительно сократилась, однако она все еще осталась\n",
    "- В конверсии что в очищенных, что в исходных, что в очищенных данных есть статистически значимая разница\n",
    "- В конверсии по средним чекам, что в исходных, что в очищенных данных нет статистически значимой раницы\n",
    "\n",
    "Исходя из этого можно считать группу B \"победителем\" A/B теста"
   ]
  }
 ],
 "metadata": {
  "ExecuteTimeLog": [
   {
    "duration": 434,
    "start_time": "2024-02-11T12:23:01.376Z"
   },
   {
    "duration": 68,
    "start_time": "2024-02-11T12:23:14.860Z"
   },
   {
    "duration": 83,
    "start_time": "2024-02-11T12:23:29.547Z"
   },
   {
    "duration": 3,
    "start_time": "2024-02-11T12:23:35.862Z"
   },
   {
    "duration": 2,
    "start_time": "2024-02-11T12:23:36.854Z"
   },
   {
    "duration": 27,
    "start_time": "2024-02-11T12:24:02.914Z"
   },
   {
    "duration": 9,
    "start_time": "2024-02-11T12:24:11.520Z"
   },
   {
    "duration": 7,
    "start_time": "2024-02-11T12:24:19.029Z"
   },
   {
    "duration": 6,
    "start_time": "2024-02-11T12:24:33.728Z"
   },
   {
    "duration": 4,
    "start_time": "2024-02-11T12:39:22.431Z"
   },
   {
    "duration": 72,
    "start_time": "2024-02-11T12:42:07.538Z"
   },
   {
    "duration": 2,
    "start_time": "2024-02-11T12:42:09.266Z"
   },
   {
    "duration": 74,
    "start_time": "2024-02-11T12:42:09.561Z"
   },
   {
    "duration": 2,
    "start_time": "2024-02-11T12:42:12.847Z"
   },
   {
    "duration": 68,
    "start_time": "2024-02-11T12:42:13.684Z"
   },
   {
    "duration": 36,
    "start_time": "2024-02-11T12:42:23.813Z"
   },
   {
    "duration": 2,
    "start_time": "2024-02-11T12:49:40.017Z"
   },
   {
    "duration": 27,
    "start_time": "2024-02-11T12:49:40.296Z"
   },
   {
    "duration": 6,
    "start_time": "2024-02-11T12:49:41.493Z"
   },
   {
    "duration": 9,
    "start_time": "2024-02-11T12:49:46.785Z"
   },
   {
    "duration": 10,
    "start_time": "2024-02-11T12:50:24.041Z"
   },
   {
    "duration": 2,
    "start_time": "2024-02-11T12:50:35.313Z"
   },
   {
    "duration": 27,
    "start_time": "2024-02-11T12:50:35.621Z"
   },
   {
    "duration": 13,
    "start_time": "2024-02-11T12:50:35.937Z"
   },
   {
    "duration": 12,
    "start_time": "2024-02-11T12:50:46.859Z"
   },
   {
    "duration": 2,
    "start_time": "2024-02-11T12:51:52.497Z"
   },
   {
    "duration": 27,
    "start_time": "2024-02-11T12:51:52.996Z"
   },
   {
    "duration": 12,
    "start_time": "2024-02-11T12:51:53.489Z"
   },
   {
    "duration": 467,
    "start_time": "2024-02-11T12:52:04.835Z"
   },
   {
    "duration": 28,
    "start_time": "2024-02-11T12:52:05.304Z"
   },
   {
    "duration": 11,
    "start_time": "2024-02-11T12:52:05.334Z"
   },
   {
    "duration": 72,
    "start_time": "2024-02-11T12:52:31.241Z"
   },
   {
    "duration": 7,
    "start_time": "2024-02-11T12:52:56.446Z"
   },
   {
    "duration": 23,
    "start_time": "2024-02-11T12:53:11.707Z"
   },
   {
    "duration": 25,
    "start_time": "2024-02-11T12:53:23.236Z"
   },
   {
    "duration": 13,
    "start_time": "2024-02-11T12:53:29.346Z"
   },
   {
    "duration": 12,
    "start_time": "2024-02-11T12:53:35.521Z"
   },
   {
    "duration": 433,
    "start_time": "2024-02-11T12:56:20.843Z"
   },
   {
    "duration": 27,
    "start_time": "2024-02-11T12:56:21.929Z"
   },
   {
    "duration": 12,
    "start_time": "2024-02-11T12:56:23.182Z"
   },
   {
    "duration": 10,
    "start_time": "2024-02-11T12:56:26.697Z"
   },
   {
    "duration": 16,
    "start_time": "2024-02-11T12:56:27.938Z"
   },
   {
    "duration": 8,
    "start_time": "2024-02-11T12:57:08.182Z"
   },
   {
    "duration": 8,
    "start_time": "2024-02-11T12:57:22.890Z"
   },
   {
    "duration": 17,
    "start_time": "2024-02-11T12:57:28.262Z"
   },
   {
    "duration": 408,
    "start_time": "2024-02-11T12:57:44.734Z"
   },
   {
    "duration": 27,
    "start_time": "2024-02-11T12:57:45.144Z"
   },
   {
    "duration": 11,
    "start_time": "2024-02-11T12:57:45.175Z"
   },
   {
    "duration": 21,
    "start_time": "2024-02-11T12:57:45.189Z"
   },
   {
    "duration": 39,
    "start_time": "2024-02-11T12:57:45.211Z"
   },
   {
    "duration": 19,
    "start_time": "2024-02-11T12:59:53.020Z"
   },
   {
    "duration": 12,
    "start_time": "2024-02-11T13:00:08.079Z"
   },
   {
    "duration": 16,
    "start_time": "2024-02-11T13:00:37.210Z"
   },
   {
    "duration": 10,
    "start_time": "2024-02-11T13:02:17.654Z"
   },
   {
    "duration": 14,
    "start_time": "2024-02-11T13:02:25.188Z"
   },
   {
    "duration": 4,
    "start_time": "2024-02-11T13:05:09.562Z"
   },
   {
    "duration": 4,
    "start_time": "2024-02-11T13:05:15.362Z"
   },
   {
    "duration": 4,
    "start_time": "2024-02-11T13:05:27.353Z"
   },
   {
    "duration": 3,
    "start_time": "2024-02-11T13:06:03.677Z"
   },
   {
    "duration": 4,
    "start_time": "2024-02-11T13:07:49.777Z"
   },
   {
    "duration": 4,
    "start_time": "2024-02-11T14:25:37.290Z"
   },
   {
    "duration": 138,
    "start_time": "2024-02-11T14:26:16.534Z"
   },
   {
    "duration": 19,
    "start_time": "2024-02-11T14:26:20.307Z"
   },
   {
    "duration": 10,
    "start_time": "2024-02-11T14:26:26.428Z"
   },
   {
    "duration": 9,
    "start_time": "2024-02-11T14:26:31.469Z"
   },
   {
    "duration": 6,
    "start_time": "2024-02-11T14:26:35.573Z"
   },
   {
    "duration": 21,
    "start_time": "2024-02-11T14:27:15.755Z"
   },
   {
    "duration": 20,
    "start_time": "2024-02-11T14:27:20.617Z"
   },
   {
    "duration": 7,
    "start_time": "2024-02-11T14:34:45.256Z"
   },
   {
    "duration": 7,
    "start_time": "2024-02-11T14:35:00.790Z"
   },
   {
    "duration": 13,
    "start_time": "2024-02-11T14:35:11.296Z"
   },
   {
    "duration": 12,
    "start_time": "2024-02-11T14:35:17.159Z"
   },
   {
    "duration": 11,
    "start_time": "2024-02-11T14:39:48.238Z"
   },
   {
    "duration": 17,
    "start_time": "2024-02-11T14:39:57.422Z"
   },
   {
    "duration": 438,
    "start_time": "2024-02-11T14:40:21.770Z"
   },
   {
    "duration": 27,
    "start_time": "2024-02-11T14:40:22.210Z"
   },
   {
    "duration": 28,
    "start_time": "2024-02-11T14:40:22.239Z"
   },
   {
    "duration": 18,
    "start_time": "2024-02-11T14:40:22.269Z"
   },
   {
    "duration": 17,
    "start_time": "2024-02-11T14:40:22.290Z"
   },
   {
    "duration": 53,
    "start_time": "2024-02-11T14:40:22.309Z"
   },
   {
    "duration": 11,
    "start_time": "2024-02-11T14:40:22.363Z"
   },
   {
    "duration": 11,
    "start_time": "2024-02-11T14:40:22.376Z"
   },
   {
    "duration": 9,
    "start_time": "2024-02-11T14:40:22.389Z"
   },
   {
    "duration": 12,
    "start_time": "2024-02-11T14:40:22.399Z"
   },
   {
    "duration": 10,
    "start_time": "2024-02-11T14:40:22.413Z"
   },
   {
    "duration": 7,
    "start_time": "2024-02-11T14:45:54.973Z"
   },
   {
    "duration": 13,
    "start_time": "2024-02-11T14:45:55.741Z"
   },
   {
    "duration": 11,
    "start_time": "2024-02-11T14:45:58.594Z"
   },
   {
    "duration": 11,
    "start_time": "2024-02-11T14:46:04.617Z"
   },
   {
    "duration": 10,
    "start_time": "2024-02-11T14:46:21.140Z"
   },
   {
    "duration": 439,
    "start_time": "2024-02-11T14:46:40.355Z"
   },
   {
    "duration": 28,
    "start_time": "2024-02-11T14:46:40.796Z"
   },
   {
    "duration": 19,
    "start_time": "2024-02-11T14:46:40.825Z"
   },
   {
    "duration": 12,
    "start_time": "2024-02-11T14:46:40.846Z"
   },
   {
    "duration": 25,
    "start_time": "2024-02-11T14:46:40.860Z"
   },
   {
    "duration": 60,
    "start_time": "2024-02-11T14:46:40.886Z"
   },
   {
    "duration": 11,
    "start_time": "2024-02-11T14:46:40.947Z"
   },
   {
    "duration": 12,
    "start_time": "2024-02-11T14:46:40.959Z"
   },
   {
    "duration": 8,
    "start_time": "2024-02-11T14:46:40.973Z"
   },
   {
    "duration": 596,
    "start_time": "2024-02-11T14:53:06.190Z"
   },
   {
    "duration": 140,
    "start_time": "2024-02-11T14:53:11.726Z"
   },
   {
    "duration": 79,
    "start_time": "2024-02-11T14:56:30.038Z"
   },
   {
    "duration": 8,
    "start_time": "2024-02-11T14:56:52.358Z"
   },
   {
    "duration": 676,
    "start_time": "2024-02-11T14:57:11.771Z"
   },
   {
    "duration": 28,
    "start_time": "2024-02-11T14:57:12.449Z"
   },
   {
    "duration": 16,
    "start_time": "2024-02-11T14:57:12.478Z"
   },
   {
    "duration": 11,
    "start_time": "2024-02-11T14:57:12.495Z"
   },
   {
    "duration": 11,
    "start_time": "2024-02-11T14:57:12.508Z"
   },
   {
    "duration": 59,
    "start_time": "2024-02-11T14:57:12.520Z"
   },
   {
    "duration": 10,
    "start_time": "2024-02-11T14:57:12.581Z"
   },
   {
    "duration": 9,
    "start_time": "2024-02-11T14:57:12.593Z"
   },
   {
    "duration": 6,
    "start_time": "2024-02-11T14:57:12.604Z"
   },
   {
    "duration": 18,
    "start_time": "2024-02-11T14:57:12.611Z"
   },
   {
    "duration": 11,
    "start_time": "2024-02-11T14:57:18.401Z"
   },
   {
    "duration": 12,
    "start_time": "2024-02-11T14:57:37.522Z"
   },
   {
    "duration": 103,
    "start_time": "2024-02-11T14:58:10.963Z"
   },
   {
    "duration": 662,
    "start_time": "2024-02-11T14:58:20.582Z"
   },
   {
    "duration": 28,
    "start_time": "2024-02-11T14:58:21.246Z"
   },
   {
    "duration": 16,
    "start_time": "2024-02-11T14:58:21.276Z"
   },
   {
    "duration": 13,
    "start_time": "2024-02-11T14:58:21.294Z"
   },
   {
    "duration": 15,
    "start_time": "2024-02-11T14:58:21.309Z"
   },
   {
    "duration": 52,
    "start_time": "2024-02-11T14:58:21.326Z"
   },
   {
    "duration": 12,
    "start_time": "2024-02-11T14:58:21.380Z"
   },
   {
    "duration": 11,
    "start_time": "2024-02-11T14:58:21.394Z"
   },
   {
    "duration": 10,
    "start_time": "2024-02-11T14:58:21.406Z"
   },
   {
    "duration": 8,
    "start_time": "2024-02-11T14:59:12.437Z"
   },
   {
    "duration": 7,
    "start_time": "2024-02-11T14:59:17.951Z"
   },
   {
    "duration": 73,
    "start_time": "2024-02-11T14:59:58.575Z"
   },
   {
    "duration": 5,
    "start_time": "2024-02-11T15:00:20.723Z"
   },
   {
    "duration": 4,
    "start_time": "2024-02-11T15:03:01.572Z"
   },
   {
    "duration": 9,
    "start_time": "2024-02-11T15:03:04.462Z"
   },
   {
    "duration": 9,
    "start_time": "2024-02-11T15:05:45.269Z"
   },
   {
    "duration": 625,
    "start_time": "2024-02-11T15:06:02.820Z"
   },
   {
    "duration": 27,
    "start_time": "2024-02-11T15:06:03.448Z"
   },
   {
    "duration": 16,
    "start_time": "2024-02-11T15:06:03.477Z"
   },
   {
    "duration": 14,
    "start_time": "2024-02-11T15:06:03.495Z"
   },
   {
    "duration": 10,
    "start_time": "2024-02-11T15:06:03.512Z"
   },
   {
    "duration": 51,
    "start_time": "2024-02-11T15:06:03.524Z"
   },
   {
    "duration": 13,
    "start_time": "2024-02-11T15:06:03.577Z"
   },
   {
    "duration": 11,
    "start_time": "2024-02-11T15:06:03.591Z"
   },
   {
    "duration": 9,
    "start_time": "2024-02-11T15:06:03.604Z"
   },
   {
    "duration": 10,
    "start_time": "2024-02-11T15:06:03.614Z"
   },
   {
    "duration": 9,
    "start_time": "2024-02-11T15:06:03.626Z"
   },
   {
    "duration": 1155,
    "start_time": "2024-02-11T15:09:20.928Z"
   },
   {
    "duration": 1144,
    "start_time": "2024-02-11T15:10:13.830Z"
   },
   {
    "duration": 4,
    "start_time": "2024-02-11T15:14:17.354Z"
   },
   {
    "duration": 658,
    "start_time": "2024-02-11T15:14:41.493Z"
   },
   {
    "duration": 27,
    "start_time": "2024-02-11T15:14:42.153Z"
   },
   {
    "duration": 16,
    "start_time": "2024-02-11T15:14:42.182Z"
   },
   {
    "duration": 13,
    "start_time": "2024-02-11T15:14:42.199Z"
   },
   {
    "duration": 13,
    "start_time": "2024-02-11T15:14:42.214Z"
   },
   {
    "duration": 63,
    "start_time": "2024-02-11T15:14:42.228Z"
   },
   {
    "duration": 10,
    "start_time": "2024-02-11T15:14:42.293Z"
   },
   {
    "duration": 15,
    "start_time": "2024-02-11T15:14:42.305Z"
   },
   {
    "duration": 11,
    "start_time": "2024-02-11T15:14:42.321Z"
   },
   {
    "duration": 21,
    "start_time": "2024-02-11T15:14:42.333Z"
   },
   {
    "duration": 13,
    "start_time": "2024-02-11T15:14:42.356Z"
   },
   {
    "duration": 9,
    "start_time": "2024-02-11T15:14:42.371Z"
   },
   {
    "duration": 7,
    "start_time": "2024-02-11T15:15:08.719Z"
   },
   {
    "duration": 9,
    "start_time": "2024-02-11T15:15:09.156Z"
   },
   {
    "duration": 73,
    "start_time": "2024-02-11T15:15:28.501Z"
   },
   {
    "duration": 11,
    "start_time": "2024-02-11T15:15:32.152Z"
   },
   {
    "duration": 63,
    "start_time": "2024-02-11T15:16:48.551Z"
   },
   {
    "duration": 5,
    "start_time": "2024-02-11T15:16:55.020Z"
   },
   {
    "duration": 16,
    "start_time": "2024-02-11T15:16:56.027Z"
   },
   {
    "duration": 6,
    "start_time": "2024-02-11T15:17:18.009Z"
   },
   {
    "duration": 11,
    "start_time": "2024-02-11T15:17:18.661Z"
   },
   {
    "duration": 79,
    "start_time": "2024-02-11T15:20:24.281Z"
   },
   {
    "duration": 276,
    "start_time": "2024-02-11T15:23:13.054Z"
   },
   {
    "duration": 5,
    "start_time": "2024-02-11T15:24:15.814Z"
   },
   {
    "duration": 11,
    "start_time": "2024-02-11T15:27:37.434Z"
   },
   {
    "duration": 1079,
    "start_time": "2024-02-11T15:29:40.163Z"
   },
   {
    "duration": 17,
    "start_time": "2024-02-11T15:29:49.188Z"
   },
   {
    "duration": 193,
    "start_time": "2024-02-11T15:30:05.097Z"
   },
   {
    "duration": 15,
    "start_time": "2024-02-11T15:30:40.709Z"
   },
   {
    "duration": 10,
    "start_time": "2024-02-11T15:31:14.787Z"
   },
   {
    "duration": 17,
    "start_time": "2024-02-11T15:31:22.307Z"
   },
   {
    "duration": 634,
    "start_time": "2024-02-11T15:32:17.819Z"
   },
   {
    "duration": 28,
    "start_time": "2024-02-11T15:32:18.455Z"
   },
   {
    "duration": 16,
    "start_time": "2024-02-11T15:32:18.484Z"
   },
   {
    "duration": 20,
    "start_time": "2024-02-11T15:32:18.501Z"
   },
   {
    "duration": 14,
    "start_time": "2024-02-11T15:32:18.523Z"
   },
   {
    "duration": 56,
    "start_time": "2024-02-11T15:32:18.539Z"
   },
   {
    "duration": 11,
    "start_time": "2024-02-11T15:32:18.597Z"
   },
   {
    "duration": 17,
    "start_time": "2024-02-11T15:32:18.610Z"
   },
   {
    "duration": 7,
    "start_time": "2024-02-11T15:32:18.629Z"
   },
   {
    "duration": 83,
    "start_time": "2024-02-11T15:32:18.637Z"
   },
   {
    "duration": 0,
    "start_time": "2024-02-11T15:32:18.722Z"
   },
   {
    "duration": 0,
    "start_time": "2024-02-11T15:32:18.722Z"
   },
   {
    "duration": 0,
    "start_time": "2024-02-11T15:32:18.723Z"
   },
   {
    "duration": 12,
    "start_time": "2024-02-11T15:32:46.904Z"
   },
   {
    "duration": 7,
    "start_time": "2024-02-11T15:40:58.997Z"
   },
   {
    "duration": 8,
    "start_time": "2024-02-11T15:41:05.485Z"
   },
   {
    "duration": 8,
    "start_time": "2024-02-11T15:42:10.670Z"
   },
   {
    "duration": 236,
    "start_time": "2024-02-11T15:42:34.350Z"
   },
   {
    "duration": 168,
    "start_time": "2024-02-11T15:42:45.568Z"
   },
   {
    "duration": 165,
    "start_time": "2024-02-11T15:43:21.745Z"
   },
   {
    "duration": 161,
    "start_time": "2024-02-11T15:43:29.378Z"
   },
   {
    "duration": 651,
    "start_time": "2024-02-11T15:44:08.475Z"
   },
   {
    "duration": 27,
    "start_time": "2024-02-11T15:44:09.127Z"
   },
   {
    "duration": 14,
    "start_time": "2024-02-11T15:44:09.156Z"
   },
   {
    "duration": 11,
    "start_time": "2024-02-11T15:44:09.172Z"
   },
   {
    "duration": 10,
    "start_time": "2024-02-11T15:44:09.185Z"
   },
   {
    "duration": 52,
    "start_time": "2024-02-11T15:44:09.197Z"
   },
   {
    "duration": 11,
    "start_time": "2024-02-11T15:44:09.251Z"
   },
   {
    "duration": 12,
    "start_time": "2024-02-11T15:44:09.263Z"
   },
   {
    "duration": 5,
    "start_time": "2024-02-11T15:44:09.277Z"
   },
   {
    "duration": 7,
    "start_time": "2024-02-11T15:44:09.284Z"
   },
   {
    "duration": 242,
    "start_time": "2024-02-11T15:44:09.293Z"
   },
   {
    "duration": 1184,
    "start_time": "2024-02-11T15:44:09.537Z"
   },
   {
    "duration": 167,
    "start_time": "2024-02-11T15:46:02.003Z"
   },
   {
    "duration": 157,
    "start_time": "2024-02-11T15:46:40.561Z"
   },
   {
    "duration": 153,
    "start_time": "2024-02-11T15:46:48.758Z"
   },
   {
    "duration": 201,
    "start_time": "2024-02-11T15:47:09.033Z"
   },
   {
    "duration": 154,
    "start_time": "2024-02-11T15:48:57.565Z"
   },
   {
    "duration": 163,
    "start_time": "2024-02-11T15:49:04.298Z"
   },
   {
    "duration": 10,
    "start_time": "2024-02-11T15:50:18.704Z"
   },
   {
    "duration": 619,
    "start_time": "2024-02-11T15:50:22.328Z"
   },
   {
    "duration": 28,
    "start_time": "2024-02-11T15:50:22.949Z"
   },
   {
    "duration": 15,
    "start_time": "2024-02-11T15:50:22.979Z"
   },
   {
    "duration": 13,
    "start_time": "2024-02-11T15:50:22.996Z"
   },
   {
    "duration": 10,
    "start_time": "2024-02-11T15:50:23.012Z"
   },
   {
    "duration": 53,
    "start_time": "2024-02-11T15:50:23.024Z"
   },
   {
    "duration": 15,
    "start_time": "2024-02-11T15:50:23.079Z"
   },
   {
    "duration": 14,
    "start_time": "2024-02-11T15:50:23.096Z"
   },
   {
    "duration": 9,
    "start_time": "2024-02-11T15:50:23.113Z"
   },
   {
    "duration": 14,
    "start_time": "2024-02-11T15:50:23.124Z"
   },
   {
    "duration": 294,
    "start_time": "2024-02-11T15:50:23.140Z"
   },
   {
    "duration": 7,
    "start_time": "2024-02-11T15:50:23.436Z"
   },
   {
    "duration": 156,
    "start_time": "2024-02-11T15:50:32.012Z"
   },
   {
    "duration": 6,
    "start_time": "2024-02-11T15:50:33.020Z"
   },
   {
    "duration": 233,
    "start_time": "2024-02-11T15:50:39.589Z"
   },
   {
    "duration": 156,
    "start_time": "2024-02-11T15:50:44.909Z"
   },
   {
    "duration": 157,
    "start_time": "2024-02-11T15:50:47.613Z"
   },
   {
    "duration": 158,
    "start_time": "2024-02-11T15:50:55.496Z"
   },
   {
    "duration": 643,
    "start_time": "2024-02-11T15:51:09.512Z"
   },
   {
    "duration": 27,
    "start_time": "2024-02-11T15:51:10.157Z"
   },
   {
    "duration": 14,
    "start_time": "2024-02-11T15:51:10.186Z"
   },
   {
    "duration": 12,
    "start_time": "2024-02-11T15:51:10.201Z"
   },
   {
    "duration": 13,
    "start_time": "2024-02-11T15:51:10.215Z"
   },
   {
    "duration": 60,
    "start_time": "2024-02-11T15:51:10.229Z"
   },
   {
    "duration": 11,
    "start_time": "2024-02-11T15:51:10.290Z"
   },
   {
    "duration": 16,
    "start_time": "2024-02-11T15:51:10.303Z"
   },
   {
    "duration": 9,
    "start_time": "2024-02-11T15:51:10.320Z"
   },
   {
    "duration": 9,
    "start_time": "2024-02-11T15:51:10.330Z"
   },
   {
    "duration": 237,
    "start_time": "2024-02-11T15:51:10.341Z"
   },
   {
    "duration": 156,
    "start_time": "2024-02-11T15:51:19.102Z"
   },
   {
    "duration": 169,
    "start_time": "2024-02-11T15:51:43.535Z"
   },
   {
    "duration": 170,
    "start_time": "2024-02-11T15:52:30.013Z"
   },
   {
    "duration": 8,
    "start_time": "2024-02-11T15:52:54.376Z"
   },
   {
    "duration": 72,
    "start_time": "2024-02-11T15:53:06.212Z"
   },
   {
    "duration": 7,
    "start_time": "2024-02-11T15:53:13.415Z"
   },
   {
    "duration": 9,
    "start_time": "2024-02-11T15:53:18.562Z"
   },
   {
    "duration": 219,
    "start_time": "2024-02-11T15:53:44.010Z"
   },
   {
    "duration": 288,
    "start_time": "2024-02-11T15:54:55.802Z"
   },
   {
    "duration": 295,
    "start_time": "2024-02-11T15:55:01.646Z"
   },
   {
    "duration": 305,
    "start_time": "2024-02-11T15:56:09.247Z"
   },
   {
    "duration": 311,
    "start_time": "2024-02-11T15:56:22.844Z"
   },
   {
    "duration": 191,
    "start_time": "2024-02-11T15:56:30.374Z"
   },
   {
    "duration": 191,
    "start_time": "2024-02-11T15:56:40.598Z"
   },
   {
    "duration": 166,
    "start_time": "2024-02-11T15:57:02.097Z"
   },
   {
    "duration": 11,
    "start_time": "2024-02-11T15:57:47.135Z"
   },
   {
    "duration": 9,
    "start_time": "2024-02-11T15:58:12.923Z"
   },
   {
    "duration": 204,
    "start_time": "2024-02-11T15:58:29.181Z"
   },
   {
    "duration": 206,
    "start_time": "2024-02-11T15:58:53.176Z"
   },
   {
    "duration": 682,
    "start_time": "2024-02-11T16:43:49.885Z"
   },
   {
    "duration": 27,
    "start_time": "2024-02-11T16:43:50.569Z"
   },
   {
    "duration": 16,
    "start_time": "2024-02-11T16:43:50.600Z"
   },
   {
    "duration": 12,
    "start_time": "2024-02-11T16:43:50.618Z"
   },
   {
    "duration": 19,
    "start_time": "2024-02-11T16:43:50.631Z"
   },
   {
    "duration": 53,
    "start_time": "2024-02-11T16:43:50.651Z"
   },
   {
    "duration": 11,
    "start_time": "2024-02-11T16:43:50.705Z"
   },
   {
    "duration": 12,
    "start_time": "2024-02-11T16:43:50.717Z"
   },
   {
    "duration": 7,
    "start_time": "2024-02-11T16:43:50.731Z"
   },
   {
    "duration": 6,
    "start_time": "2024-02-11T16:43:50.740Z"
   },
   {
    "duration": 296,
    "start_time": "2024-02-11T16:43:50.748Z"
   },
   {
    "duration": 6,
    "start_time": "2024-02-11T16:43:51.046Z"
   },
   {
    "duration": 219,
    "start_time": "2024-02-11T16:43:51.054Z"
   },
   {
    "duration": 15,
    "start_time": "2024-02-11T16:45:34.472Z"
   },
   {
    "duration": 87,
    "start_time": "2024-02-11T16:46:13.894Z"
   },
   {
    "duration": 3,
    "start_time": "2024-02-11T16:46:25.114Z"
   },
   {
    "duration": 7,
    "start_time": "2024-02-11T16:46:25.631Z"
   },
   {
    "duration": 16,
    "start_time": "2024-02-11T16:46:27.912Z"
   },
   {
    "duration": 6,
    "start_time": "2024-02-11T16:46:42.162Z"
   },
   {
    "duration": 3,
    "start_time": "2024-02-11T16:46:44.134Z"
   },
   {
    "duration": 7,
    "start_time": "2024-02-11T16:46:44.245Z"
   },
   {
    "duration": 8,
    "start_time": "2024-02-11T16:46:44.388Z"
   },
   {
    "duration": 8,
    "start_time": "2024-02-11T16:47:04.409Z"
   },
   {
    "duration": 13,
    "start_time": "2024-02-11T16:47:04.754Z"
   },
   {
    "duration": 6,
    "start_time": "2024-02-11T16:47:12.128Z"
   },
   {
    "duration": 3,
    "start_time": "2024-02-11T16:47:14.405Z"
   },
   {
    "duration": 7,
    "start_time": "2024-02-11T16:47:14.539Z"
   },
   {
    "duration": 8,
    "start_time": "2024-02-11T16:47:14.703Z"
   },
   {
    "duration": 7,
    "start_time": "2024-02-11T16:47:50.583Z"
   },
   {
    "duration": 8,
    "start_time": "2024-02-11T16:47:51.722Z"
   },
   {
    "duration": 15,
    "start_time": "2024-02-11T16:49:02.321Z"
   },
   {
    "duration": 644,
    "start_time": "2024-02-11T16:49:09.522Z"
   },
   {
    "duration": 28,
    "start_time": "2024-02-11T16:49:10.168Z"
   },
   {
    "duration": 16,
    "start_time": "2024-02-11T16:49:10.197Z"
   },
   {
    "duration": 13,
    "start_time": "2024-02-11T16:49:10.215Z"
   },
   {
    "duration": 21,
    "start_time": "2024-02-11T16:49:10.231Z"
   },
   {
    "duration": 56,
    "start_time": "2024-02-11T16:49:10.254Z"
   },
   {
    "duration": 11,
    "start_time": "2024-02-11T16:49:10.312Z"
   },
   {
    "duration": 27,
    "start_time": "2024-02-11T16:49:10.324Z"
   },
   {
    "duration": 35,
    "start_time": "2024-02-11T16:49:10.353Z"
   },
   {
    "duration": 8,
    "start_time": "2024-02-11T16:49:10.390Z"
   },
   {
    "duration": 294,
    "start_time": "2024-02-11T16:49:10.400Z"
   },
   {
    "duration": 14,
    "start_time": "2024-02-11T16:49:10.696Z"
   },
   {
    "duration": 8,
    "start_time": "2024-02-11T16:49:39.941Z"
   },
   {
    "duration": 7,
    "start_time": "2024-02-11T16:50:37.666Z"
   },
   {
    "duration": 8,
    "start_time": "2024-02-11T16:50:38.006Z"
   },
   {
    "duration": 8,
    "start_time": "2024-02-11T16:51:38.864Z"
   },
   {
    "duration": 10,
    "start_time": "2024-02-11T16:51:44.094Z"
   },
   {
    "duration": 163,
    "start_time": "2024-02-11T16:51:57.080Z"
   },
   {
    "duration": 7,
    "start_time": "2024-02-11T16:52:14.333Z"
   },
   {
    "duration": 10,
    "start_time": "2024-02-11T16:52:14.908Z"
   },
   {
    "duration": 157,
    "start_time": "2024-02-11T16:52:15.324Z"
   },
   {
    "duration": 7,
    "start_time": "2024-02-11T16:52:32.564Z"
   },
   {
    "duration": 10,
    "start_time": "2024-02-11T16:52:32.756Z"
   },
   {
    "duration": 6,
    "start_time": "2024-02-11T16:52:45.620Z"
   },
   {
    "duration": 10,
    "start_time": "2024-02-11T16:52:45.814Z"
   },
   {
    "duration": 209,
    "start_time": "2024-02-11T16:52:46.708Z"
   },
   {
    "duration": 130,
    "start_time": "2024-02-11T16:53:57.184Z"
   },
   {
    "duration": 8,
    "start_time": "2024-02-11T16:54:50.948Z"
   },
   {
    "duration": 15,
    "start_time": "2024-02-11T16:54:52.148Z"
   },
   {
    "duration": 12,
    "start_time": "2024-02-11T16:55:21.048Z"
   },
   {
    "duration": 12,
    "start_time": "2024-02-11T16:55:43.097Z"
   },
   {
    "duration": 75,
    "start_time": "2024-02-11T16:56:11.061Z"
   },
   {
    "duration": 14,
    "start_time": "2024-02-11T16:56:18.039Z"
   },
   {
    "duration": 13,
    "start_time": "2024-02-11T16:56:18.465Z"
   },
   {
    "duration": 13,
    "start_time": "2024-02-11T16:56:27.503Z"
   },
   {
    "duration": 14,
    "start_time": "2024-02-11T16:56:43.798Z"
   },
   {
    "duration": 11,
    "start_time": "2024-02-11T16:56:48.440Z"
   },
   {
    "duration": 1213,
    "start_time": "2024-02-11T16:57:30.127Z"
   },
   {
    "duration": 9,
    "start_time": "2024-02-11T16:57:39.836Z"
   },
   {
    "duration": 14,
    "start_time": "2024-02-11T16:58:21.642Z"
   },
   {
    "duration": 15,
    "start_time": "2024-02-11T16:59:51.904Z"
   },
   {
    "duration": 11,
    "start_time": "2024-02-11T16:59:56.194Z"
   },
   {
    "duration": 8,
    "start_time": "2024-02-11T17:00:32.655Z"
   },
   {
    "duration": 11,
    "start_time": "2024-02-11T17:00:48.138Z"
   },
   {
    "duration": 7,
    "start_time": "2024-02-11T17:01:28.126Z"
   },
   {
    "duration": 11,
    "start_time": "2024-02-11T17:01:48.956Z"
   },
   {
    "duration": 6,
    "start_time": "2024-02-11T17:02:06.979Z"
   },
   {
    "duration": 14,
    "start_time": "2024-02-11T17:02:11.629Z"
   },
   {
    "duration": 11,
    "start_time": "2024-02-11T17:02:18.683Z"
   },
   {
    "duration": 5,
    "start_time": "2024-02-11T17:02:22.609Z"
   },
   {
    "duration": 5,
    "start_time": "2024-02-11T17:02:35.334Z"
   },
   {
    "duration": 11,
    "start_time": "2024-02-11T17:02:48.726Z"
   },
   {
    "duration": 8,
    "start_time": "2024-02-11T17:03:50.821Z"
   },
   {
    "duration": 9,
    "start_time": "2024-02-11T17:04:00.471Z"
   },
   {
    "duration": 9,
    "start_time": "2024-02-11T17:04:04.059Z"
   },
   {
    "duration": 9,
    "start_time": "2024-02-11T17:04:33.995Z"
   },
   {
    "duration": 5,
    "start_time": "2024-02-11T17:05:23.789Z"
   },
   {
    "duration": 597,
    "start_time": "2024-02-11T17:05:28.826Z"
   },
   {
    "duration": 27,
    "start_time": "2024-02-11T17:05:29.425Z"
   },
   {
    "duration": 15,
    "start_time": "2024-02-11T17:05:29.453Z"
   },
   {
    "duration": 12,
    "start_time": "2024-02-11T17:05:29.470Z"
   },
   {
    "duration": 10,
    "start_time": "2024-02-11T17:05:29.484Z"
   },
   {
    "duration": 52,
    "start_time": "2024-02-11T17:05:29.496Z"
   },
   {
    "duration": 19,
    "start_time": "2024-02-11T17:05:29.549Z"
   },
   {
    "duration": 14,
    "start_time": "2024-02-11T17:05:29.570Z"
   },
   {
    "duration": 15,
    "start_time": "2024-02-11T17:05:29.585Z"
   },
   {
    "duration": 9,
    "start_time": "2024-02-11T17:05:29.601Z"
   },
   {
    "duration": 296,
    "start_time": "2024-02-11T17:05:29.611Z"
   },
   {
    "duration": 82,
    "start_time": "2024-02-11T17:05:29.908Z"
   },
   {
    "duration": 0,
    "start_time": "2024-02-11T17:05:29.992Z"
   },
   {
    "duration": 14,
    "start_time": "2024-02-11T17:05:33.005Z"
   },
   {
    "duration": 7,
    "start_time": "2024-02-11T17:05:53.866Z"
   },
   {
    "duration": 12,
    "start_time": "2024-02-11T17:05:54.584Z"
   },
   {
    "duration": 9,
    "start_time": "2024-02-11T17:05:59.352Z"
   },
   {
    "duration": 9,
    "start_time": "2024-02-11T17:07:55.065Z"
   },
   {
    "duration": 682,
    "start_time": "2024-02-11T17:08:02.085Z"
   },
   {
    "duration": 28,
    "start_time": "2024-02-11T17:08:02.769Z"
   },
   {
    "duration": 16,
    "start_time": "2024-02-11T17:08:02.801Z"
   },
   {
    "duration": 12,
    "start_time": "2024-02-11T17:08:02.818Z"
   },
   {
    "duration": 17,
    "start_time": "2024-02-11T17:08:02.832Z"
   },
   {
    "duration": 59,
    "start_time": "2024-02-11T17:08:02.851Z"
   },
   {
    "duration": 12,
    "start_time": "2024-02-11T17:08:02.911Z"
   },
   {
    "duration": 15,
    "start_time": "2024-02-11T17:08:02.925Z"
   },
   {
    "duration": 8,
    "start_time": "2024-02-11T17:08:02.943Z"
   },
   {
    "duration": 7,
    "start_time": "2024-02-11T17:08:02.952Z"
   },
   {
    "duration": 291,
    "start_time": "2024-02-11T17:08:02.961Z"
   },
   {
    "duration": 7,
    "start_time": "2024-02-11T17:08:03.254Z"
   },
   {
    "duration": 17,
    "start_time": "2024-02-11T17:08:03.263Z"
   },
   {
    "duration": 9,
    "start_time": "2024-02-11T17:08:06.189Z"
   },
   {
    "duration": 10,
    "start_time": "2024-02-11T17:08:48.577Z"
   },
   {
    "duration": 13,
    "start_time": "2024-02-11T17:08:58.073Z"
   },
   {
    "duration": 3,
    "start_time": "2024-02-11T17:09:36.669Z"
   },
   {
    "duration": 11,
    "start_time": "2024-02-11T17:09:38.130Z"
   },
   {
    "duration": 691,
    "start_time": "2024-02-11T17:09:45.463Z"
   },
   {
    "duration": 28,
    "start_time": "2024-02-11T17:09:46.155Z"
   },
   {
    "duration": 15,
    "start_time": "2024-02-11T17:09:46.185Z"
   },
   {
    "duration": 30,
    "start_time": "2024-02-11T17:09:46.201Z"
   },
   {
    "duration": 28,
    "start_time": "2024-02-11T17:09:46.233Z"
   },
   {
    "duration": 79,
    "start_time": "2024-02-11T17:09:46.262Z"
   },
   {
    "duration": 11,
    "start_time": "2024-02-11T17:09:46.343Z"
   },
   {
    "duration": 27,
    "start_time": "2024-02-11T17:09:46.355Z"
   },
   {
    "duration": 9,
    "start_time": "2024-02-11T17:09:46.384Z"
   },
   {
    "duration": 21,
    "start_time": "2024-02-11T17:09:46.394Z"
   },
   {
    "duration": 299,
    "start_time": "2024-02-11T17:09:46.416Z"
   },
   {
    "duration": 6,
    "start_time": "2024-02-11T17:09:46.717Z"
   },
   {
    "duration": 10,
    "start_time": "2024-02-11T17:09:46.724Z"
   },
   {
    "duration": 3,
    "start_time": "2024-02-11T17:09:46.736Z"
   },
   {
    "duration": 15,
    "start_time": "2024-02-11T17:09:46.741Z"
   },
   {
    "duration": 22,
    "start_time": "2024-02-11T17:09:46.758Z"
   },
   {
    "duration": 10,
    "start_time": "2024-02-11T17:09:57.398Z"
   },
   {
    "duration": 631,
    "start_time": "2024-02-11T17:10:54.589Z"
   },
   {
    "duration": 3,
    "start_time": "2024-02-11T17:11:04.132Z"
   },
   {
    "duration": 1106,
    "start_time": "2024-02-11T17:11:12.086Z"
   },
   {
    "duration": 1113,
    "start_time": "2024-02-11T17:11:26.873Z"
   },
   {
    "duration": 651,
    "start_time": "2024-02-11T17:11:52.698Z"
   },
   {
    "duration": 29,
    "start_time": "2024-02-11T17:11:53.351Z"
   },
   {
    "duration": 17,
    "start_time": "2024-02-11T17:11:53.381Z"
   },
   {
    "duration": 14,
    "start_time": "2024-02-11T17:11:53.400Z"
   },
   {
    "duration": 10,
    "start_time": "2024-02-11T17:11:53.417Z"
   },
   {
    "duration": 62,
    "start_time": "2024-02-11T17:11:53.429Z"
   },
   {
    "duration": 13,
    "start_time": "2024-02-11T17:11:53.493Z"
   },
   {
    "duration": 19,
    "start_time": "2024-02-11T17:11:53.509Z"
   },
   {
    "duration": 7,
    "start_time": "2024-02-11T17:11:53.530Z"
   },
   {
    "duration": 9,
    "start_time": "2024-02-11T17:11:53.538Z"
   },
   {
    "duration": 311,
    "start_time": "2024-02-11T17:11:53.549Z"
   },
   {
    "duration": 16,
    "start_time": "2024-02-11T17:11:53.862Z"
   },
   {
    "duration": 6,
    "start_time": "2024-02-11T17:11:53.879Z"
   },
   {
    "duration": 352,
    "start_time": "2024-02-11T17:11:53.888Z"
   },
   {
    "duration": 0,
    "start_time": "2024-02-11T17:11:54.241Z"
   },
   {
    "duration": 0,
    "start_time": "2024-02-11T17:11:54.243Z"
   },
   {
    "duration": 3,
    "start_time": "2024-02-11T17:12:03.945Z"
   },
   {
    "duration": 9,
    "start_time": "2024-02-11T17:12:05.515Z"
   },
   {
    "duration": 9,
    "start_time": "2024-02-11T17:12:52.626Z"
   },
   {
    "duration": 12,
    "start_time": "2024-02-11T17:13:57.262Z"
   },
   {
    "duration": 8,
    "start_time": "2024-02-11T17:14:37.758Z"
   },
   {
    "duration": 1142,
    "start_time": "2024-02-11T17:14:57.535Z"
   },
   {
    "duration": 7,
    "start_time": "2024-02-11T17:15:09.827Z"
   },
   {
    "duration": 7,
    "start_time": "2024-02-11T17:15:55.898Z"
   },
   {
    "duration": 4,
    "start_time": "2024-02-11T17:15:58.770Z"
   },
   {
    "duration": 4,
    "start_time": "2024-02-11T17:16:13.434Z"
   },
   {
    "duration": 5,
    "start_time": "2024-02-11T17:16:20.408Z"
   },
   {
    "duration": 4,
    "start_time": "2024-02-11T17:16:24.590Z"
   },
   {
    "duration": 3,
    "start_time": "2024-02-11T17:17:13.413Z"
   },
   {
    "duration": 10,
    "start_time": "2024-02-11T17:17:15.223Z"
   },
   {
    "duration": 15,
    "start_time": "2024-02-11T17:19:55.942Z"
   },
   {
    "duration": 12,
    "start_time": "2024-02-11T17:22:23.508Z"
   },
   {
    "duration": 35,
    "start_time": "2024-02-11T17:22:56.224Z"
   },
   {
    "duration": 67,
    "start_time": "2024-02-11T17:23:01.414Z"
   },
   {
    "duration": 11,
    "start_time": "2024-02-11T17:23:22.955Z"
   },
   {
    "duration": 4,
    "start_time": "2024-02-11T17:23:39.965Z"
   },
   {
    "duration": 13,
    "start_time": "2024-02-11T17:23:50.418Z"
   },
   {
    "duration": 302,
    "start_time": "2024-02-11T17:25:01.621Z"
   },
   {
    "duration": 10,
    "start_time": "2024-02-11T17:26:17.882Z"
   },
   {
    "duration": 13,
    "start_time": "2024-02-11T17:26:20.969Z"
   },
   {
    "duration": 13,
    "start_time": "2024-02-11T17:27:37.070Z"
   },
   {
    "duration": 12,
    "start_time": "2024-02-11T17:27:37.803Z"
   },
   {
    "duration": 9,
    "start_time": "2024-02-11T17:28:24.736Z"
   },
   {
    "duration": 9,
    "start_time": "2024-02-11T17:28:44.590Z"
   },
   {
    "duration": 9,
    "start_time": "2024-02-11T17:29:00.209Z"
   },
   {
    "duration": 11,
    "start_time": "2024-02-11T17:29:10.881Z"
   },
   {
    "duration": 11,
    "start_time": "2024-02-11T17:29:15.891Z"
   },
   {
    "duration": 12,
    "start_time": "2024-02-11T17:29:19.977Z"
   },
   {
    "duration": 13,
    "start_time": "2024-02-11T17:29:24.310Z"
   },
   {
    "duration": 17,
    "start_time": "2024-02-11T17:30:26.345Z"
   },
   {
    "duration": 23,
    "start_time": "2024-02-11T17:34:05.069Z"
   },
   {
    "duration": 24,
    "start_time": "2024-02-11T17:34:09.858Z"
   },
   {
    "duration": 25,
    "start_time": "2024-02-11T17:34:20.511Z"
   },
   {
    "duration": 24,
    "start_time": "2024-02-11T17:34:43.655Z"
   },
   {
    "duration": 21,
    "start_time": "2024-02-11T17:35:16.540Z"
   },
   {
    "duration": 26,
    "start_time": "2024-02-11T17:35:20.294Z"
   },
   {
    "duration": 7,
    "start_time": "2024-02-11T17:35:53.955Z"
   },
   {
    "duration": 3,
    "start_time": "2024-02-11T17:35:57.001Z"
   },
   {
    "duration": 14,
    "start_time": "2024-02-11T17:35:59.634Z"
   },
   {
    "duration": 15,
    "start_time": "2024-02-11T17:36:07.817Z"
   },
   {
    "duration": 8,
    "start_time": "2024-02-11T17:36:08.299Z"
   },
   {
    "duration": 16,
    "start_time": "2024-02-11T17:36:08.597Z"
   },
   {
    "duration": 635,
    "start_time": "2024-02-11T17:36:14.800Z"
   },
   {
    "duration": 29,
    "start_time": "2024-02-11T17:36:15.437Z"
   },
   {
    "duration": 22,
    "start_time": "2024-02-11T17:36:15.469Z"
   },
   {
    "duration": 14,
    "start_time": "2024-02-11T17:36:15.493Z"
   },
   {
    "duration": 11,
    "start_time": "2024-02-11T17:36:15.509Z"
   },
   {
    "duration": 54,
    "start_time": "2024-02-11T17:36:15.521Z"
   },
   {
    "duration": 11,
    "start_time": "2024-02-11T17:36:15.576Z"
   },
   {
    "duration": 15,
    "start_time": "2024-02-11T17:36:15.589Z"
   },
   {
    "duration": 7,
    "start_time": "2024-02-11T17:36:15.605Z"
   },
   {
    "duration": 11,
    "start_time": "2024-02-11T17:36:15.614Z"
   },
   {
    "duration": 304,
    "start_time": "2024-02-11T17:36:15.627Z"
   },
   {
    "duration": 14,
    "start_time": "2024-02-11T17:36:15.933Z"
   },
   {
    "duration": 31,
    "start_time": "2024-02-11T17:36:15.949Z"
   },
   {
    "duration": 5,
    "start_time": "2024-02-11T17:36:15.982Z"
   },
   {
    "duration": 17,
    "start_time": "2024-02-11T17:36:15.988Z"
   },
   {
    "duration": 11,
    "start_time": "2024-02-11T17:36:31.242Z"
   },
   {
    "duration": 652,
    "start_time": "2024-02-11T17:36:35.490Z"
   },
   {
    "duration": 27,
    "start_time": "2024-02-11T17:36:36.144Z"
   },
   {
    "duration": 15,
    "start_time": "2024-02-11T17:36:36.173Z"
   },
   {
    "duration": 11,
    "start_time": "2024-02-11T17:36:36.190Z"
   },
   {
    "duration": 12,
    "start_time": "2024-02-11T17:36:36.203Z"
   },
   {
    "duration": 51,
    "start_time": "2024-02-11T17:36:36.216Z"
   },
   {
    "duration": 11,
    "start_time": "2024-02-11T17:36:36.268Z"
   },
   {
    "duration": 12,
    "start_time": "2024-02-11T17:36:36.281Z"
   },
   {
    "duration": 5,
    "start_time": "2024-02-11T17:36:36.295Z"
   },
   {
    "duration": 6,
    "start_time": "2024-02-11T17:36:36.302Z"
   },
   {
    "duration": 309,
    "start_time": "2024-02-11T17:36:36.309Z"
   },
   {
    "duration": 10,
    "start_time": "2024-02-11T17:36:36.620Z"
   },
   {
    "duration": 17,
    "start_time": "2024-02-11T17:36:36.632Z"
   },
   {
    "duration": 33,
    "start_time": "2024-02-11T17:36:36.652Z"
   },
   {
    "duration": 77,
    "start_time": "2024-02-11T17:39:43.596Z"
   },
   {
    "duration": 9,
    "start_time": "2024-02-11T17:39:46.338Z"
   },
   {
    "duration": 19,
    "start_time": "2024-02-11T17:39:46.503Z"
   },
   {
    "duration": 62,
    "start_time": "2024-02-11T17:39:46.728Z"
   },
   {
    "duration": 81,
    "start_time": "2024-02-11T17:39:53.620Z"
   },
   {
    "duration": 695,
    "start_time": "2024-02-11T17:39:59.766Z"
   },
   {
    "duration": 28,
    "start_time": "2024-02-11T17:40:00.463Z"
   },
   {
    "duration": 29,
    "start_time": "2024-02-11T17:40:00.492Z"
   },
   {
    "duration": 34,
    "start_time": "2024-02-11T17:40:00.524Z"
   },
   {
    "duration": 18,
    "start_time": "2024-02-11T17:40:00.560Z"
   },
   {
    "duration": 71,
    "start_time": "2024-02-11T17:40:00.580Z"
   },
   {
    "duration": 11,
    "start_time": "2024-02-11T17:40:00.653Z"
   },
   {
    "duration": 42,
    "start_time": "2024-02-11T17:40:00.666Z"
   },
   {
    "duration": 31,
    "start_time": "2024-02-11T17:40:00.710Z"
   },
   {
    "duration": 38,
    "start_time": "2024-02-11T17:40:00.742Z"
   },
   {
    "duration": 368,
    "start_time": "2024-02-11T17:40:00.782Z"
   },
   {
    "duration": 9,
    "start_time": "2024-02-11T17:40:01.152Z"
   },
   {
    "duration": 44,
    "start_time": "2024-02-11T17:40:01.163Z"
   },
   {
    "duration": 111,
    "start_time": "2024-02-11T17:40:01.210Z"
   },
   {
    "duration": 14,
    "start_time": "2024-02-11T17:40:58.682Z"
   },
   {
    "duration": 68,
    "start_time": "2024-02-11T17:41:40.083Z"
   },
   {
    "duration": 15,
    "start_time": "2024-02-11T17:41:49.154Z"
   },
   {
    "duration": 628,
    "start_time": "2024-02-11T17:42:04.208Z"
   },
   {
    "duration": 28,
    "start_time": "2024-02-11T17:42:04.838Z"
   },
   {
    "duration": 16,
    "start_time": "2024-02-11T17:42:04.867Z"
   },
   {
    "duration": 11,
    "start_time": "2024-02-11T17:42:04.885Z"
   },
   {
    "duration": 11,
    "start_time": "2024-02-11T17:42:04.898Z"
   },
   {
    "duration": 53,
    "start_time": "2024-02-11T17:42:04.911Z"
   },
   {
    "duration": 11,
    "start_time": "2024-02-11T17:42:04.966Z"
   },
   {
    "duration": 12,
    "start_time": "2024-02-11T17:42:04.978Z"
   },
   {
    "duration": 15,
    "start_time": "2024-02-11T17:42:04.992Z"
   },
   {
    "duration": 11,
    "start_time": "2024-02-11T17:42:05.008Z"
   },
   {
    "duration": 302,
    "start_time": "2024-02-11T17:42:05.021Z"
   },
   {
    "duration": 13,
    "start_time": "2024-02-11T17:42:05.325Z"
   },
   {
    "duration": 19,
    "start_time": "2024-02-11T17:42:05.339Z"
   },
   {
    "duration": 16,
    "start_time": "2024-02-11T17:42:05.374Z"
   },
   {
    "duration": 24,
    "start_time": "2024-02-11T17:42:05.392Z"
   },
   {
    "duration": 16,
    "start_time": "2024-02-11T17:42:12.259Z"
   },
   {
    "duration": 5,
    "start_time": "2024-02-11T17:45:02.032Z"
   },
   {
    "duration": 18,
    "start_time": "2024-02-11T17:45:13.127Z"
   },
   {
    "duration": 4,
    "start_time": "2024-02-11T17:45:59.173Z"
   },
   {
    "duration": 19,
    "start_time": "2024-02-11T17:45:59.332Z"
   },
   {
    "duration": 671,
    "start_time": "2024-02-11T17:46:04.368Z"
   },
   {
    "duration": 39,
    "start_time": "2024-02-11T17:46:05.041Z"
   },
   {
    "duration": 17,
    "start_time": "2024-02-11T17:46:05.081Z"
   },
   {
    "duration": 14,
    "start_time": "2024-02-11T17:46:05.100Z"
   },
   {
    "duration": 15,
    "start_time": "2024-02-11T17:46:05.116Z"
   },
   {
    "duration": 60,
    "start_time": "2024-02-11T17:46:05.133Z"
   },
   {
    "duration": 16,
    "start_time": "2024-02-11T17:46:05.195Z"
   },
   {
    "duration": 21,
    "start_time": "2024-02-11T17:46:05.214Z"
   },
   {
    "duration": 8,
    "start_time": "2024-02-11T17:46:05.237Z"
   },
   {
    "duration": 8,
    "start_time": "2024-02-11T17:46:05.246Z"
   },
   {
    "duration": 310,
    "start_time": "2024-02-11T17:46:05.255Z"
   },
   {
    "duration": 14,
    "start_time": "2024-02-11T17:46:05.566Z"
   },
   {
    "duration": 17,
    "start_time": "2024-02-11T17:46:05.582Z"
   },
   {
    "duration": 3,
    "start_time": "2024-02-11T17:46:05.602Z"
   },
   {
    "duration": 24,
    "start_time": "2024-02-11T17:46:05.607Z"
   },
   {
    "duration": 693,
    "start_time": "2024-02-11T17:46:32.880Z"
   },
   {
    "duration": 27,
    "start_time": "2024-02-11T17:46:33.575Z"
   },
   {
    "duration": 16,
    "start_time": "2024-02-11T17:46:33.604Z"
   },
   {
    "duration": 13,
    "start_time": "2024-02-11T17:46:33.621Z"
   },
   {
    "duration": 10,
    "start_time": "2024-02-11T17:46:33.637Z"
   },
   {
    "duration": 62,
    "start_time": "2024-02-11T17:46:33.649Z"
   },
   {
    "duration": 11,
    "start_time": "2024-02-11T17:46:33.713Z"
   },
   {
    "duration": 12,
    "start_time": "2024-02-11T17:46:33.727Z"
   },
   {
    "duration": 10,
    "start_time": "2024-02-11T17:46:33.740Z"
   },
   {
    "duration": 9,
    "start_time": "2024-02-11T17:46:33.752Z"
   },
   {
    "duration": 294,
    "start_time": "2024-02-11T17:46:33.762Z"
   },
   {
    "duration": 14,
    "start_time": "2024-02-11T17:46:34.059Z"
   },
   {
    "duration": 20,
    "start_time": "2024-02-11T17:46:34.075Z"
   },
   {
    "duration": 96,
    "start_time": "2024-02-11T17:46:34.097Z"
   },
   {
    "duration": 0,
    "start_time": "2024-02-11T17:46:34.195Z"
   },
   {
    "duration": 4,
    "start_time": "2024-02-11T17:46:50.981Z"
   },
   {
    "duration": 22,
    "start_time": "2024-02-11T17:46:53.397Z"
   },
   {
    "duration": 9,
    "start_time": "2024-02-11T17:47:47.273Z"
   },
   {
    "duration": 12,
    "start_time": "2024-02-11T17:47:50.886Z"
   },
   {
    "duration": 16,
    "start_time": "2024-02-11T17:47:51.502Z"
   },
   {
    "duration": 639,
    "start_time": "2024-02-11T17:47:57.219Z"
   },
   {
    "duration": 27,
    "start_time": "2024-02-11T17:47:57.860Z"
   },
   {
    "duration": 17,
    "start_time": "2024-02-11T17:47:57.889Z"
   },
   {
    "duration": 12,
    "start_time": "2024-02-11T17:47:57.907Z"
   },
   {
    "duration": 10,
    "start_time": "2024-02-11T17:47:57.921Z"
   },
   {
    "duration": 52,
    "start_time": "2024-02-11T17:47:57.933Z"
   },
   {
    "duration": 11,
    "start_time": "2024-02-11T17:47:57.987Z"
   },
   {
    "duration": 13,
    "start_time": "2024-02-11T17:47:57.999Z"
   },
   {
    "duration": 14,
    "start_time": "2024-02-11T17:47:58.014Z"
   },
   {
    "duration": 7,
    "start_time": "2024-02-11T17:47:58.029Z"
   },
   {
    "duration": 309,
    "start_time": "2024-02-11T17:47:58.038Z"
   },
   {
    "duration": 10,
    "start_time": "2024-02-11T17:47:58.348Z"
   },
   {
    "duration": 16,
    "start_time": "2024-02-11T17:47:58.372Z"
   },
   {
    "duration": 14,
    "start_time": "2024-02-11T17:47:58.390Z"
   },
   {
    "duration": 17,
    "start_time": "2024-02-11T17:47:58.405Z"
   },
   {
    "duration": 670,
    "start_time": "2024-02-11T17:48:15.265Z"
   },
   {
    "duration": 27,
    "start_time": "2024-02-11T17:48:15.937Z"
   },
   {
    "duration": 16,
    "start_time": "2024-02-11T17:48:15.965Z"
   },
   {
    "duration": 14,
    "start_time": "2024-02-11T17:48:15.983Z"
   },
   {
    "duration": 11,
    "start_time": "2024-02-11T17:48:15.999Z"
   },
   {
    "duration": 53,
    "start_time": "2024-02-11T17:48:16.012Z"
   },
   {
    "duration": 12,
    "start_time": "2024-02-11T17:48:16.067Z"
   },
   {
    "duration": 14,
    "start_time": "2024-02-11T17:48:16.081Z"
   },
   {
    "duration": 13,
    "start_time": "2024-02-11T17:48:16.097Z"
   },
   {
    "duration": 8,
    "start_time": "2024-02-11T17:48:16.112Z"
   },
   {
    "duration": 307,
    "start_time": "2024-02-11T17:48:16.122Z"
   },
   {
    "duration": 9,
    "start_time": "2024-02-11T17:48:16.431Z"
   },
   {
    "duration": 32,
    "start_time": "2024-02-11T17:48:16.441Z"
   },
   {
    "duration": 5,
    "start_time": "2024-02-11T17:48:16.475Z"
   },
   {
    "duration": 32,
    "start_time": "2024-02-11T17:48:16.481Z"
   },
   {
    "duration": 689,
    "start_time": "2024-02-11T17:49:23.781Z"
   },
   {
    "duration": 27,
    "start_time": "2024-02-11T17:49:24.472Z"
   },
   {
    "duration": 15,
    "start_time": "2024-02-11T17:49:24.501Z"
   },
   {
    "duration": 12,
    "start_time": "2024-02-11T17:49:24.517Z"
   },
   {
    "duration": 10,
    "start_time": "2024-02-11T17:49:24.530Z"
   },
   {
    "duration": 53,
    "start_time": "2024-02-11T17:49:24.541Z"
   },
   {
    "duration": 10,
    "start_time": "2024-02-11T17:49:24.596Z"
   },
   {
    "duration": 9,
    "start_time": "2024-02-11T17:49:24.607Z"
   },
   {
    "duration": 5,
    "start_time": "2024-02-11T17:49:24.618Z"
   },
   {
    "duration": 7,
    "start_time": "2024-02-11T17:49:24.625Z"
   },
   {
    "duration": 307,
    "start_time": "2024-02-11T17:49:24.634Z"
   },
   {
    "duration": 17,
    "start_time": "2024-02-11T17:49:24.943Z"
   },
   {
    "duration": 81,
    "start_time": "2024-02-11T17:49:24.961Z"
   },
   {
    "duration": 0,
    "start_time": "2024-02-11T17:49:25.045Z"
   },
   {
    "duration": 0,
    "start_time": "2024-02-11T17:49:25.046Z"
   },
   {
    "duration": 14,
    "start_time": "2024-02-11T17:49:33.745Z"
   },
   {
    "duration": 13,
    "start_time": "2024-02-11T17:50:05.908Z"
   },
   {
    "duration": 686,
    "start_time": "2024-02-11T17:50:32.754Z"
   },
   {
    "duration": 27,
    "start_time": "2024-02-11T17:50:33.442Z"
   },
   {
    "duration": 16,
    "start_time": "2024-02-11T17:50:33.471Z"
   },
   {
    "duration": 13,
    "start_time": "2024-02-11T17:50:33.489Z"
   },
   {
    "duration": 18,
    "start_time": "2024-02-11T17:50:33.505Z"
   },
   {
    "duration": 53,
    "start_time": "2024-02-11T17:50:33.524Z"
   },
   {
    "duration": 11,
    "start_time": "2024-02-11T17:50:33.579Z"
   },
   {
    "duration": 11,
    "start_time": "2024-02-11T17:50:33.591Z"
   },
   {
    "duration": 13,
    "start_time": "2024-02-11T17:50:33.603Z"
   },
   {
    "duration": 7,
    "start_time": "2024-02-11T17:50:33.618Z"
   },
   {
    "duration": 301,
    "start_time": "2024-02-11T17:50:33.626Z"
   },
   {
    "duration": 16,
    "start_time": "2024-02-11T17:50:33.929Z"
   },
   {
    "duration": 27,
    "start_time": "2024-02-11T17:50:33.946Z"
   },
   {
    "duration": 12,
    "start_time": "2024-02-11T17:50:33.975Z"
   },
   {
    "duration": 92,
    "start_time": "2024-02-11T17:50:33.989Z"
   },
   {
    "duration": 0,
    "start_time": "2024-02-11T17:50:34.083Z"
   },
   {
    "duration": 0,
    "start_time": "2024-02-11T17:50:34.084Z"
   },
   {
    "duration": 1470,
    "start_time": "2024-02-11T17:55:02.529Z"
   },
   {
    "duration": 665,
    "start_time": "2024-02-11T17:55:08.580Z"
   },
   {
    "duration": 28,
    "start_time": "2024-02-11T17:55:09.247Z"
   },
   {
    "duration": 14,
    "start_time": "2024-02-11T17:55:09.278Z"
   },
   {
    "duration": 11,
    "start_time": "2024-02-11T17:55:09.294Z"
   },
   {
    "duration": 9,
    "start_time": "2024-02-11T17:55:09.308Z"
   },
   {
    "duration": 52,
    "start_time": "2024-02-11T17:55:09.318Z"
   },
   {
    "duration": 10,
    "start_time": "2024-02-11T17:55:09.372Z"
   },
   {
    "duration": 25,
    "start_time": "2024-02-11T17:55:09.384Z"
   },
   {
    "duration": 6,
    "start_time": "2024-02-11T17:55:09.410Z"
   },
   {
    "duration": 7,
    "start_time": "2024-02-11T17:55:09.417Z"
   },
   {
    "duration": 317,
    "start_time": "2024-02-11T17:55:09.425Z"
   },
   {
    "duration": 15,
    "start_time": "2024-02-11T17:55:09.744Z"
   },
   {
    "duration": 21,
    "start_time": "2024-02-11T17:55:09.760Z"
   },
   {
    "duration": 10,
    "start_time": "2024-02-11T17:55:09.783Z"
   },
   {
    "duration": 87,
    "start_time": "2024-02-11T17:55:09.794Z"
   },
   {
    "duration": 0,
    "start_time": "2024-02-11T17:55:09.883Z"
   },
   {
    "duration": 8,
    "start_time": "2024-02-11T17:55:59.390Z"
   },
   {
    "duration": 680,
    "start_time": "2024-02-11T17:56:21.783Z"
   },
   {
    "duration": 28,
    "start_time": "2024-02-11T17:56:22.465Z"
   },
   {
    "duration": 15,
    "start_time": "2024-02-11T17:56:22.494Z"
   },
   {
    "duration": 12,
    "start_time": "2024-02-11T17:56:22.511Z"
   },
   {
    "duration": 11,
    "start_time": "2024-02-11T17:56:22.525Z"
   },
   {
    "duration": 52,
    "start_time": "2024-02-11T17:56:22.537Z"
   },
   {
    "duration": 11,
    "start_time": "2024-02-11T17:56:22.591Z"
   },
   {
    "duration": 11,
    "start_time": "2024-02-11T17:56:22.603Z"
   },
   {
    "duration": 6,
    "start_time": "2024-02-11T17:56:22.615Z"
   },
   {
    "duration": 11,
    "start_time": "2024-02-11T17:56:22.623Z"
   },
   {
    "duration": 292,
    "start_time": "2024-02-11T17:56:22.636Z"
   },
   {
    "duration": 15,
    "start_time": "2024-02-11T17:56:22.930Z"
   },
   {
    "duration": 28,
    "start_time": "2024-02-11T17:56:22.947Z"
   },
   {
    "duration": 11,
    "start_time": "2024-02-11T17:56:22.977Z"
   },
   {
    "duration": 83,
    "start_time": "2024-02-11T17:56:22.990Z"
   },
   {
    "duration": 0,
    "start_time": "2024-02-11T17:56:23.075Z"
   },
   {
    "duration": 3,
    "start_time": "2024-02-11T17:57:19.852Z"
   },
   {
    "duration": 11,
    "start_time": "2024-02-11T17:57:22.121Z"
   },
   {
    "duration": 8,
    "start_time": "2024-02-11T17:58:31.672Z"
   },
   {
    "duration": 6,
    "start_time": "2024-02-11T17:59:10.508Z"
   },
   {
    "duration": 631,
    "start_time": "2024-02-11T17:59:34.614Z"
   },
   {
    "duration": 28,
    "start_time": "2024-02-11T17:59:35.247Z"
   },
   {
    "duration": 16,
    "start_time": "2024-02-11T17:59:35.276Z"
   },
   {
    "duration": 12,
    "start_time": "2024-02-11T17:59:35.294Z"
   },
   {
    "duration": 24,
    "start_time": "2024-02-11T17:59:35.308Z"
   },
   {
    "duration": 55,
    "start_time": "2024-02-11T17:59:35.333Z"
   },
   {
    "duration": 11,
    "start_time": "2024-02-11T17:59:35.389Z"
   },
   {
    "duration": 12,
    "start_time": "2024-02-11T17:59:35.401Z"
   },
   {
    "duration": 5,
    "start_time": "2024-02-11T17:59:35.415Z"
   },
   {
    "duration": 6,
    "start_time": "2024-02-11T17:59:35.421Z"
   },
   {
    "duration": 300,
    "start_time": "2024-02-11T17:59:35.429Z"
   },
   {
    "duration": 16,
    "start_time": "2024-02-11T17:59:35.731Z"
   },
   {
    "duration": 27,
    "start_time": "2024-02-11T17:59:35.749Z"
   },
   {
    "duration": 14,
    "start_time": "2024-02-11T17:59:35.779Z"
   },
   {
    "duration": 12,
    "start_time": "2024-02-11T17:59:35.794Z"
   },
   {
    "duration": 16,
    "start_time": "2024-02-11T17:59:35.807Z"
   },
   {
    "duration": 649,
    "start_time": "2024-02-11T17:59:55.591Z"
   },
   {
    "duration": 28,
    "start_time": "2024-02-11T17:59:56.241Z"
   },
   {
    "duration": 15,
    "start_time": "2024-02-11T17:59:56.270Z"
   },
   {
    "duration": 12,
    "start_time": "2024-02-11T17:59:56.286Z"
   },
   {
    "duration": 10,
    "start_time": "2024-02-11T17:59:56.300Z"
   },
   {
    "duration": 53,
    "start_time": "2024-02-11T17:59:56.311Z"
   },
   {
    "duration": 11,
    "start_time": "2024-02-11T17:59:56.366Z"
   },
   {
    "duration": 10,
    "start_time": "2024-02-11T17:59:56.379Z"
   },
   {
    "duration": 6,
    "start_time": "2024-02-11T17:59:56.390Z"
   },
   {
    "duration": 9,
    "start_time": "2024-02-11T17:59:56.397Z"
   },
   {
    "duration": 311,
    "start_time": "2024-02-11T17:59:56.408Z"
   },
   {
    "duration": 16,
    "start_time": "2024-02-11T17:59:56.720Z"
   },
   {
    "duration": 15,
    "start_time": "2024-02-11T17:59:56.738Z"
   },
   {
    "duration": 19,
    "start_time": "2024-02-11T17:59:56.756Z"
   },
   {
    "duration": 15,
    "start_time": "2024-02-11T17:59:56.779Z"
   },
   {
    "duration": 73,
    "start_time": "2024-02-11T18:00:35.685Z"
   },
   {
    "duration": 11,
    "start_time": "2024-02-11T18:01:06.072Z"
   },
   {
    "duration": 661,
    "start_time": "2024-02-11T18:01:10.437Z"
   },
   {
    "duration": 27,
    "start_time": "2024-02-11T18:01:11.100Z"
   },
   {
    "duration": 15,
    "start_time": "2024-02-11T18:01:11.129Z"
   },
   {
    "duration": 12,
    "start_time": "2024-02-11T18:01:11.145Z"
   },
   {
    "duration": 9,
    "start_time": "2024-02-11T18:01:11.159Z"
   },
   {
    "duration": 52,
    "start_time": "2024-02-11T18:01:11.170Z"
   },
   {
    "duration": 11,
    "start_time": "2024-02-11T18:01:11.224Z"
   },
   {
    "duration": 10,
    "start_time": "2024-02-11T18:01:11.237Z"
   },
   {
    "duration": 6,
    "start_time": "2024-02-11T18:01:11.249Z"
   },
   {
    "duration": 21,
    "start_time": "2024-02-11T18:01:11.257Z"
   },
   {
    "duration": 312,
    "start_time": "2024-02-11T18:01:11.279Z"
   },
   {
    "duration": 15,
    "start_time": "2024-02-11T18:01:11.592Z"
   },
   {
    "duration": 17,
    "start_time": "2024-02-11T18:01:11.608Z"
   },
   {
    "duration": 6,
    "start_time": "2024-02-11T18:01:11.627Z"
   },
   {
    "duration": 12,
    "start_time": "2024-02-11T18:01:11.635Z"
   },
   {
    "duration": 69,
    "start_time": "2024-02-11T18:01:11.649Z"
   },
   {
    "duration": 0,
    "start_time": "2024-02-11T18:01:11.719Z"
   },
   {
    "duration": 87,
    "start_time": "2024-02-11T18:01:17.337Z"
   },
   {
    "duration": 7,
    "start_time": "2024-02-11T18:01:42.570Z"
   },
   {
    "duration": 6,
    "start_time": "2024-02-11T18:02:14.044Z"
   },
   {
    "duration": 14,
    "start_time": "2024-02-11T18:02:15.255Z"
   },
   {
    "duration": 615,
    "start_time": "2024-02-11T18:02:20.620Z"
   },
   {
    "duration": 27,
    "start_time": "2024-02-11T18:02:21.237Z"
   },
   {
    "duration": 14,
    "start_time": "2024-02-11T18:02:21.266Z"
   },
   {
    "duration": 18,
    "start_time": "2024-02-11T18:02:21.282Z"
   },
   {
    "duration": 17,
    "start_time": "2024-02-11T18:02:21.302Z"
   },
   {
    "duration": 53,
    "start_time": "2024-02-11T18:02:21.320Z"
   },
   {
    "duration": 11,
    "start_time": "2024-02-11T18:02:21.374Z"
   },
   {
    "duration": 22,
    "start_time": "2024-02-11T18:02:21.387Z"
   },
   {
    "duration": 16,
    "start_time": "2024-02-11T18:02:21.410Z"
   },
   {
    "duration": 8,
    "start_time": "2024-02-11T18:02:21.428Z"
   },
   {
    "duration": 306,
    "start_time": "2024-02-11T18:02:21.438Z"
   },
   {
    "duration": 16,
    "start_time": "2024-02-11T18:02:21.745Z"
   },
   {
    "duration": 13,
    "start_time": "2024-02-11T18:02:21.773Z"
   },
   {
    "duration": 9,
    "start_time": "2024-02-11T18:02:21.788Z"
   },
   {
    "duration": 16,
    "start_time": "2024-02-11T18:02:21.798Z"
   },
   {
    "duration": 5,
    "start_time": "2024-02-11T18:02:21.815Z"
   },
   {
    "duration": 36,
    "start_time": "2024-02-11T18:02:21.822Z"
   },
   {
    "duration": 646,
    "start_time": "2024-02-11T18:02:47.617Z"
   },
   {
    "duration": 28,
    "start_time": "2024-02-11T18:02:48.265Z"
   },
   {
    "duration": 16,
    "start_time": "2024-02-11T18:02:48.295Z"
   },
   {
    "duration": 12,
    "start_time": "2024-02-11T18:02:48.313Z"
   },
   {
    "duration": 15,
    "start_time": "2024-02-11T18:02:48.327Z"
   },
   {
    "duration": 54,
    "start_time": "2024-02-11T18:02:48.344Z"
   },
   {
    "duration": 13,
    "start_time": "2024-02-11T18:02:48.399Z"
   },
   {
    "duration": 11,
    "start_time": "2024-02-11T18:02:48.414Z"
   },
   {
    "duration": 12,
    "start_time": "2024-02-11T18:02:48.426Z"
   },
   {
    "duration": 9,
    "start_time": "2024-02-11T18:02:48.440Z"
   },
   {
    "duration": 297,
    "start_time": "2024-02-11T18:02:48.451Z"
   },
   {
    "duration": 23,
    "start_time": "2024-02-11T18:02:48.750Z"
   },
   {
    "duration": 31,
    "start_time": "2024-02-11T18:02:48.774Z"
   },
   {
    "duration": 9,
    "start_time": "2024-02-11T18:02:48.808Z"
   },
   {
    "duration": 15,
    "start_time": "2024-02-11T18:02:48.819Z"
   },
   {
    "duration": 1152,
    "start_time": "2024-02-11T18:02:48.836Z"
   },
   {
    "duration": 0,
    "start_time": "2024-02-11T18:02:49.990Z"
   },
   {
    "duration": 4,
    "start_time": "2024-02-11T18:02:59.309Z"
   },
   {
    "duration": 13,
    "start_time": "2024-02-11T18:03:00.441Z"
   },
   {
    "duration": 703,
    "start_time": "2024-02-11T18:03:30.746Z"
   },
   {
    "duration": 28,
    "start_time": "2024-02-11T18:03:31.451Z"
   },
   {
    "duration": 16,
    "start_time": "2024-02-11T18:03:31.481Z"
   },
   {
    "duration": 21,
    "start_time": "2024-02-11T18:03:31.498Z"
   },
   {
    "duration": 63,
    "start_time": "2024-02-11T18:03:31.521Z"
   },
   {
    "duration": 77,
    "start_time": "2024-02-11T18:03:31.586Z"
   },
   {
    "duration": 11,
    "start_time": "2024-02-11T18:03:31.665Z"
   },
   {
    "duration": 32,
    "start_time": "2024-02-11T18:03:31.678Z"
   },
   {
    "duration": 19,
    "start_time": "2024-02-11T18:03:31.711Z"
   },
   {
    "duration": 19,
    "start_time": "2024-02-11T18:03:31.731Z"
   },
   {
    "duration": 306,
    "start_time": "2024-02-11T18:03:31.751Z"
   },
   {
    "duration": 20,
    "start_time": "2024-02-11T18:03:32.058Z"
   },
   {
    "duration": 19,
    "start_time": "2024-02-11T18:03:32.080Z"
   },
   {
    "duration": 32,
    "start_time": "2024-02-11T18:03:32.102Z"
   },
   {
    "duration": 27,
    "start_time": "2024-02-11T18:03:32.136Z"
   },
   {
    "duration": 15,
    "start_time": "2024-02-11T18:03:32.164Z"
   },
   {
    "duration": 36,
    "start_time": "2024-02-11T18:03:32.181Z"
   },
   {
    "duration": 627,
    "start_time": "2024-02-11T18:05:25.100Z"
   },
   {
    "duration": 27,
    "start_time": "2024-02-11T18:05:25.729Z"
   },
   {
    "duration": 17,
    "start_time": "2024-02-11T18:05:25.758Z"
   },
   {
    "duration": 12,
    "start_time": "2024-02-11T18:05:25.777Z"
   },
   {
    "duration": 13,
    "start_time": "2024-02-11T18:05:25.790Z"
   },
   {
    "duration": 60,
    "start_time": "2024-02-11T18:05:25.805Z"
   },
   {
    "duration": 10,
    "start_time": "2024-02-11T18:05:25.867Z"
   },
   {
    "duration": 14,
    "start_time": "2024-02-11T18:05:25.879Z"
   },
   {
    "duration": 17,
    "start_time": "2024-02-11T18:05:25.895Z"
   },
   {
    "duration": 22,
    "start_time": "2024-02-11T18:05:25.914Z"
   },
   {
    "duration": 301,
    "start_time": "2024-02-11T18:05:25.937Z"
   },
   {
    "duration": 15,
    "start_time": "2024-02-11T18:05:26.240Z"
   },
   {
    "duration": 21,
    "start_time": "2024-02-11T18:05:26.256Z"
   },
   {
    "duration": 4,
    "start_time": "2024-02-11T18:05:26.279Z"
   },
   {
    "duration": 14,
    "start_time": "2024-02-11T18:05:26.285Z"
   },
   {
    "duration": 10,
    "start_time": "2024-02-11T18:05:26.302Z"
   },
   {
    "duration": 17,
    "start_time": "2024-02-11T18:05:26.314Z"
   },
   {
    "duration": 682,
    "start_time": "2024-02-11T18:06:12.958Z"
   },
   {
    "duration": 28,
    "start_time": "2024-02-11T18:06:13.642Z"
   },
   {
    "duration": 16,
    "start_time": "2024-02-11T18:06:13.672Z"
   },
   {
    "duration": 12,
    "start_time": "2024-02-11T18:06:13.690Z"
   },
   {
    "duration": 10,
    "start_time": "2024-02-11T18:06:13.704Z"
   },
   {
    "duration": 61,
    "start_time": "2024-02-11T18:06:13.716Z"
   },
   {
    "duration": 12,
    "start_time": "2024-02-11T18:06:13.778Z"
   },
   {
    "duration": 11,
    "start_time": "2024-02-11T18:06:13.792Z"
   },
   {
    "duration": 7,
    "start_time": "2024-02-11T18:06:13.805Z"
   },
   {
    "duration": 9,
    "start_time": "2024-02-11T18:06:13.813Z"
   },
   {
    "duration": 339,
    "start_time": "2024-02-11T18:06:13.823Z"
   },
   {
    "duration": 20,
    "start_time": "2024-02-11T18:06:14.164Z"
   },
   {
    "duration": 9,
    "start_time": "2024-02-11T18:06:14.185Z"
   },
   {
    "duration": 15,
    "start_time": "2024-02-11T18:06:14.196Z"
   },
   {
    "duration": 16,
    "start_time": "2024-02-11T18:06:30.178Z"
   },
   {
    "duration": 19,
    "start_time": "2024-02-11T18:07:02.591Z"
   },
   {
    "duration": 9,
    "start_time": "2024-02-11T18:07:02.729Z"
   },
   {
    "duration": 15,
    "start_time": "2024-02-11T18:07:02.859Z"
   },
   {
    "duration": 634,
    "start_time": "2024-02-11T18:07:07.929Z"
   },
   {
    "duration": 28,
    "start_time": "2024-02-11T18:07:08.565Z"
   },
   {
    "duration": 20,
    "start_time": "2024-02-11T18:07:08.595Z"
   },
   {
    "duration": 13,
    "start_time": "2024-02-11T18:07:08.617Z"
   },
   {
    "duration": 10,
    "start_time": "2024-02-11T18:07:08.633Z"
   },
   {
    "duration": 57,
    "start_time": "2024-02-11T18:07:08.645Z"
   },
   {
    "duration": 15,
    "start_time": "2024-02-11T18:07:08.704Z"
   },
   {
    "duration": 17,
    "start_time": "2024-02-11T18:07:08.721Z"
   },
   {
    "duration": 8,
    "start_time": "2024-02-11T18:07:08.740Z"
   },
   {
    "duration": 7,
    "start_time": "2024-02-11T18:07:08.750Z"
   },
   {
    "duration": 308,
    "start_time": "2024-02-11T18:07:08.758Z"
   },
   {
    "duration": 20,
    "start_time": "2024-02-11T18:07:09.067Z"
   },
   {
    "duration": 10,
    "start_time": "2024-02-11T18:07:09.089Z"
   },
   {
    "duration": 19,
    "start_time": "2024-02-11T18:07:09.101Z"
   },
   {
    "duration": 178,
    "start_time": "2024-02-11T18:08:16.805Z"
   },
   {
    "duration": 2,
    "start_time": "2024-02-11T18:12:46.942Z"
   },
   {
    "duration": 6,
    "start_time": "2024-02-11T18:12:46.946Z"
   },
   {
    "duration": 11,
    "start_time": "2024-02-11T18:12:46.953Z"
   },
   {
    "duration": 17,
    "start_time": "2024-02-11T18:12:46.972Z"
   },
   {
    "duration": 13,
    "start_time": "2024-02-11T18:12:46.991Z"
   },
   {
    "duration": 18,
    "start_time": "2024-02-11T18:12:47.006Z"
   },
   {
    "duration": 11,
    "start_time": "2024-02-11T18:12:47.026Z"
   },
   {
    "duration": 9,
    "start_time": "2024-02-11T18:12:47.039Z"
   },
   {
    "duration": 6,
    "start_time": "2024-02-11T18:12:47.050Z"
   },
   {
    "duration": 7,
    "start_time": "2024-02-11T18:12:47.073Z"
   },
   {
    "duration": 295,
    "start_time": "2024-02-11T18:12:47.081Z"
   },
   {
    "duration": 15,
    "start_time": "2024-02-11T18:12:47.378Z"
   },
   {
    "duration": 9,
    "start_time": "2024-02-11T18:12:47.394Z"
   },
   {
    "duration": 17,
    "start_time": "2024-02-11T18:12:47.404Z"
   },
   {
    "duration": 16,
    "start_time": "2024-02-11T18:12:47.422Z"
   },
   {
    "duration": 713,
    "start_time": "2024-02-11T18:13:47.386Z"
   },
   {
    "duration": 27,
    "start_time": "2024-02-11T18:13:48.101Z"
   },
   {
    "duration": 16,
    "start_time": "2024-02-11T18:13:48.130Z"
   },
   {
    "duration": 14,
    "start_time": "2024-02-11T18:13:48.148Z"
   },
   {
    "duration": 11,
    "start_time": "2024-02-11T18:13:48.164Z"
   },
   {
    "duration": 53,
    "start_time": "2024-02-11T18:13:48.176Z"
   },
   {
    "duration": 11,
    "start_time": "2024-02-11T18:13:48.230Z"
   },
   {
    "duration": 11,
    "start_time": "2024-02-11T18:13:48.243Z"
   },
   {
    "duration": 6,
    "start_time": "2024-02-11T18:13:48.256Z"
   },
   {
    "duration": 8,
    "start_time": "2024-02-11T18:13:48.264Z"
   },
   {
    "duration": 300,
    "start_time": "2024-02-11T18:13:48.274Z"
   },
   {
    "duration": 15,
    "start_time": "2024-02-11T18:13:48.576Z"
   },
   {
    "duration": 9,
    "start_time": "2024-02-11T18:13:48.593Z"
   },
   {
    "duration": 22,
    "start_time": "2024-02-11T18:13:48.604Z"
   },
   {
    "duration": 630,
    "start_time": "2024-02-11T18:13:58.009Z"
   },
   {
    "duration": 27,
    "start_time": "2024-02-11T18:13:58.641Z"
   },
   {
    "duration": 16,
    "start_time": "2024-02-11T18:13:58.669Z"
   },
   {
    "duration": 12,
    "start_time": "2024-02-11T18:13:58.687Z"
   },
   {
    "duration": 22,
    "start_time": "2024-02-11T18:13:58.702Z"
   },
   {
    "duration": 62,
    "start_time": "2024-02-11T18:13:58.726Z"
   },
   {
    "duration": 11,
    "start_time": "2024-02-11T18:13:58.790Z"
   },
   {
    "duration": 15,
    "start_time": "2024-02-11T18:13:58.803Z"
   },
   {
    "duration": 9,
    "start_time": "2024-02-11T18:13:58.820Z"
   },
   {
    "duration": 7,
    "start_time": "2024-02-11T18:13:58.831Z"
   },
   {
    "duration": 298,
    "start_time": "2024-02-11T18:13:58.839Z"
   },
   {
    "duration": 16,
    "start_time": "2024-02-11T18:13:59.139Z"
   },
   {
    "duration": 22,
    "start_time": "2024-02-11T18:13:59.157Z"
   },
   {
    "duration": 26,
    "start_time": "2024-02-11T18:13:59.182Z"
   },
   {
    "duration": 636,
    "start_time": "2024-02-11T18:14:33.711Z"
   },
   {
    "duration": 28,
    "start_time": "2024-02-11T18:14:34.349Z"
   },
   {
    "duration": 17,
    "start_time": "2024-02-11T18:14:34.378Z"
   },
   {
    "duration": 13,
    "start_time": "2024-02-11T18:14:34.397Z"
   },
   {
    "duration": 12,
    "start_time": "2024-02-11T18:14:34.413Z"
   },
   {
    "duration": 58,
    "start_time": "2024-02-11T18:14:34.427Z"
   },
   {
    "duration": 11,
    "start_time": "2024-02-11T18:14:34.486Z"
   },
   {
    "duration": 12,
    "start_time": "2024-02-11T18:14:34.498Z"
   },
   {
    "duration": 7,
    "start_time": "2024-02-11T18:14:34.511Z"
   },
   {
    "duration": 6,
    "start_time": "2024-02-11T18:14:34.520Z"
   },
   {
    "duration": 304,
    "start_time": "2024-02-11T18:14:34.527Z"
   },
   {
    "duration": 15,
    "start_time": "2024-02-11T18:14:34.832Z"
   },
   {
    "duration": 8,
    "start_time": "2024-02-11T18:14:34.849Z"
   },
   {
    "duration": 6,
    "start_time": "2024-02-11T18:14:34.872Z"
   },
   {
    "duration": 14,
    "start_time": "2024-02-11T18:14:39.584Z"
   },
   {
    "duration": 675,
    "start_time": "2024-02-11T18:16:36.072Z"
   },
   {
    "duration": 28,
    "start_time": "2024-02-11T18:16:36.749Z"
   },
   {
    "duration": 21,
    "start_time": "2024-02-11T18:16:36.778Z"
   },
   {
    "duration": 25,
    "start_time": "2024-02-11T18:16:36.801Z"
   },
   {
    "duration": 30,
    "start_time": "2024-02-11T18:16:36.829Z"
   },
   {
    "duration": 75,
    "start_time": "2024-02-11T18:16:36.861Z"
   },
   {
    "duration": 17,
    "start_time": "2024-02-11T18:16:36.937Z"
   },
   {
    "duration": 26,
    "start_time": "2024-02-11T18:16:36.956Z"
   },
   {
    "duration": 11,
    "start_time": "2024-02-11T18:16:36.984Z"
   },
   {
    "duration": 13,
    "start_time": "2024-02-11T18:16:36.997Z"
   },
   {
    "duration": 310,
    "start_time": "2024-02-11T18:16:37.012Z"
   },
   {
    "duration": 15,
    "start_time": "2024-02-11T18:16:37.324Z"
   },
   {
    "duration": 9,
    "start_time": "2024-02-11T18:16:37.341Z"
   },
   {
    "duration": 54,
    "start_time": "2024-02-11T18:16:37.353Z"
   },
   {
    "duration": 74,
    "start_time": "2024-02-11T18:16:37.409Z"
   },
   {
    "duration": 642,
    "start_time": "2024-02-11T18:17:28.510Z"
   },
   {
    "duration": 27,
    "start_time": "2024-02-11T18:17:29.154Z"
   },
   {
    "duration": 15,
    "start_time": "2024-02-11T18:17:29.183Z"
   },
   {
    "duration": 23,
    "start_time": "2024-02-11T18:17:29.199Z"
   },
   {
    "duration": 12,
    "start_time": "2024-02-11T18:17:29.224Z"
   },
   {
    "duration": 66,
    "start_time": "2024-02-11T18:17:29.238Z"
   },
   {
    "duration": 13,
    "start_time": "2024-02-11T18:17:29.305Z"
   },
   {
    "duration": 13,
    "start_time": "2024-02-11T18:17:29.320Z"
   },
   {
    "duration": 6,
    "start_time": "2024-02-11T18:17:29.335Z"
   },
   {
    "duration": 11,
    "start_time": "2024-02-11T18:17:29.343Z"
   },
   {
    "duration": 293,
    "start_time": "2024-02-11T18:17:29.356Z"
   },
   {
    "duration": 26,
    "start_time": "2024-02-11T18:17:29.650Z"
   },
   {
    "duration": 9,
    "start_time": "2024-02-11T18:17:29.677Z"
   },
   {
    "duration": 3,
    "start_time": "2024-02-11T18:17:29.690Z"
   },
   {
    "duration": 0,
    "start_time": "2024-02-11T18:17:29.694Z"
   },
   {
    "duration": 17,
    "start_time": "2024-02-11T18:17:37.420Z"
   },
   {
    "duration": 658,
    "start_time": "2024-02-11T18:18:42.399Z"
   },
   {
    "duration": 27,
    "start_time": "2024-02-11T18:18:43.059Z"
   },
   {
    "duration": 15,
    "start_time": "2024-02-11T18:18:43.088Z"
   },
   {
    "duration": 23,
    "start_time": "2024-02-11T18:18:43.105Z"
   },
   {
    "duration": 10,
    "start_time": "2024-02-11T18:18:43.131Z"
   },
   {
    "duration": 53,
    "start_time": "2024-02-11T18:18:43.143Z"
   },
   {
    "duration": 11,
    "start_time": "2024-02-11T18:18:43.199Z"
   },
   {
    "duration": 20,
    "start_time": "2024-02-11T18:18:43.212Z"
   },
   {
    "duration": 8,
    "start_time": "2024-02-11T18:18:43.234Z"
   },
   {
    "duration": 8,
    "start_time": "2024-02-11T18:18:43.243Z"
   },
   {
    "duration": 328,
    "start_time": "2024-02-11T18:18:43.253Z"
   },
   {
    "duration": 16,
    "start_time": "2024-02-11T18:18:43.583Z"
   },
   {
    "duration": 8,
    "start_time": "2024-02-11T18:18:43.601Z"
   },
   {
    "duration": 22,
    "start_time": "2024-02-11T18:18:43.612Z"
   },
   {
    "duration": 4,
    "start_time": "2024-02-11T18:18:43.637Z"
   },
   {
    "duration": 196,
    "start_time": "2024-02-11T18:18:43.643Z"
   },
   {
    "duration": 656,
    "start_time": "2024-02-11T18:19:26.065Z"
   },
   {
    "duration": 27,
    "start_time": "2024-02-11T18:19:26.723Z"
   },
   {
    "duration": 14,
    "start_time": "2024-02-11T18:19:26.751Z"
   },
   {
    "duration": 11,
    "start_time": "2024-02-11T18:19:26.767Z"
   },
   {
    "duration": 11,
    "start_time": "2024-02-11T18:19:26.780Z"
   },
   {
    "duration": 53,
    "start_time": "2024-02-11T18:19:26.793Z"
   },
   {
    "duration": 11,
    "start_time": "2024-02-11T18:19:26.848Z"
   },
   {
    "duration": 13,
    "start_time": "2024-02-11T18:19:26.861Z"
   },
   {
    "duration": 6,
    "start_time": "2024-02-11T18:19:26.875Z"
   },
   {
    "duration": 7,
    "start_time": "2024-02-11T18:19:26.883Z"
   },
   {
    "duration": 316,
    "start_time": "2024-02-11T18:19:26.891Z"
   },
   {
    "duration": 17,
    "start_time": "2024-02-11T18:19:27.208Z"
   },
   {
    "duration": 14,
    "start_time": "2024-02-11T18:19:27.226Z"
   },
   {
    "duration": 35,
    "start_time": "2024-02-11T18:19:27.243Z"
   },
   {
    "duration": 14,
    "start_time": "2024-02-11T18:19:27.279Z"
   },
   {
    "duration": 156,
    "start_time": "2024-02-11T18:19:27.295Z"
   },
   {
    "duration": 17,
    "start_time": "2024-02-11T18:19:51.702Z"
   },
   {
    "duration": 624,
    "start_time": "2024-02-11T18:20:11.022Z"
   },
   {
    "duration": 28,
    "start_time": "2024-02-11T18:20:11.648Z"
   },
   {
    "duration": 15,
    "start_time": "2024-02-11T18:20:11.678Z"
   },
   {
    "duration": 12,
    "start_time": "2024-02-11T18:20:11.695Z"
   },
   {
    "duration": 10,
    "start_time": "2024-02-11T18:20:11.709Z"
   },
   {
    "duration": 51,
    "start_time": "2024-02-11T18:20:11.720Z"
   },
   {
    "duration": 10,
    "start_time": "2024-02-11T18:20:11.773Z"
   },
   {
    "duration": 10,
    "start_time": "2024-02-11T18:20:11.785Z"
   },
   {
    "duration": 5,
    "start_time": "2024-02-11T18:20:11.797Z"
   },
   {
    "duration": 14,
    "start_time": "2024-02-11T18:20:11.803Z"
   },
   {
    "duration": 311,
    "start_time": "2024-02-11T18:20:11.819Z"
   },
   {
    "duration": 17,
    "start_time": "2024-02-11T18:20:12.131Z"
   },
   {
    "duration": 24,
    "start_time": "2024-02-11T18:20:12.150Z"
   },
   {
    "duration": 17,
    "start_time": "2024-02-11T18:20:12.176Z"
   },
   {
    "duration": 4,
    "start_time": "2024-02-11T18:20:12.194Z"
   },
   {
    "duration": 165,
    "start_time": "2024-02-11T18:20:12.200Z"
   },
   {
    "duration": 662,
    "start_time": "2024-02-11T18:20:27.040Z"
   },
   {
    "duration": 27,
    "start_time": "2024-02-11T18:20:27.704Z"
   },
   {
    "duration": 14,
    "start_time": "2024-02-11T18:20:27.733Z"
   },
   {
    "duration": 34,
    "start_time": "2024-02-11T18:20:27.749Z"
   },
   {
    "duration": 31,
    "start_time": "2024-02-11T18:20:27.785Z"
   },
   {
    "duration": 63,
    "start_time": "2024-02-11T18:20:27.817Z"
   },
   {
    "duration": 11,
    "start_time": "2024-02-11T18:20:27.881Z"
   },
   {
    "duration": 22,
    "start_time": "2024-02-11T18:20:27.893Z"
   },
   {
    "duration": 9,
    "start_time": "2024-02-11T18:20:27.916Z"
   },
   {
    "duration": 30,
    "start_time": "2024-02-11T18:20:27.926Z"
   },
   {
    "duration": 306,
    "start_time": "2024-02-11T18:20:27.958Z"
   },
   {
    "duration": 20,
    "start_time": "2024-02-11T18:20:28.266Z"
   },
   {
    "duration": 9,
    "start_time": "2024-02-11T18:20:28.287Z"
   },
   {
    "duration": 16,
    "start_time": "2024-02-11T18:20:28.298Z"
   },
   {
    "duration": 5,
    "start_time": "2024-02-11T18:20:28.316Z"
   },
   {
    "duration": 186,
    "start_time": "2024-02-11T18:20:28.322Z"
   },
   {
    "duration": 637,
    "start_time": "2024-02-11T18:21:01.103Z"
   },
   {
    "duration": 28,
    "start_time": "2024-02-11T18:21:01.742Z"
   },
   {
    "duration": 21,
    "start_time": "2024-02-11T18:21:01.772Z"
   },
   {
    "duration": 79,
    "start_time": "2024-02-11T18:21:01.794Z"
   },
   {
    "duration": 93,
    "start_time": "2024-02-11T18:21:01.875Z"
   },
   {
    "duration": 74,
    "start_time": "2024-02-11T18:21:01.969Z"
   },
   {
    "duration": 11,
    "start_time": "2024-02-11T18:21:02.044Z"
   },
   {
    "duration": 37,
    "start_time": "2024-02-11T18:21:02.057Z"
   },
   {
    "duration": 30,
    "start_time": "2024-02-11T18:21:02.095Z"
   },
   {
    "duration": 23,
    "start_time": "2024-02-11T18:21:02.127Z"
   },
   {
    "duration": 305,
    "start_time": "2024-02-11T18:21:02.151Z"
   },
   {
    "duration": 24,
    "start_time": "2024-02-11T18:21:02.458Z"
   },
   {
    "duration": 13,
    "start_time": "2024-02-11T18:21:02.484Z"
   },
   {
    "duration": 22,
    "start_time": "2024-02-11T18:21:02.500Z"
   },
   {
    "duration": 33,
    "start_time": "2024-02-11T18:21:02.524Z"
   },
   {
    "duration": 1206,
    "start_time": "2024-02-11T18:21:02.558Z"
   },
   {
    "duration": 12,
    "start_time": "2024-02-11T18:21:29.028Z"
   },
   {
    "duration": 661,
    "start_time": "2024-02-11T18:21:54.233Z"
   },
   {
    "duration": 28,
    "start_time": "2024-02-11T18:21:54.896Z"
   },
   {
    "duration": 16,
    "start_time": "2024-02-11T18:21:54.925Z"
   },
   {
    "duration": 12,
    "start_time": "2024-02-11T18:21:54.943Z"
   },
   {
    "duration": 10,
    "start_time": "2024-02-11T18:21:54.958Z"
   },
   {
    "duration": 51,
    "start_time": "2024-02-11T18:21:54.973Z"
   },
   {
    "duration": 11,
    "start_time": "2024-02-11T18:21:55.026Z"
   },
   {
    "duration": 13,
    "start_time": "2024-02-11T18:21:55.039Z"
   },
   {
    "duration": 9,
    "start_time": "2024-02-11T18:21:55.053Z"
   },
   {
    "duration": 9,
    "start_time": "2024-02-11T18:21:55.063Z"
   },
   {
    "duration": 305,
    "start_time": "2024-02-11T18:21:55.073Z"
   },
   {
    "duration": 15,
    "start_time": "2024-02-11T18:21:55.380Z"
   },
   {
    "duration": 8,
    "start_time": "2024-02-11T18:21:55.397Z"
   },
   {
    "duration": 12,
    "start_time": "2024-02-11T18:21:55.408Z"
   },
   {
    "duration": 6,
    "start_time": "2024-02-11T18:21:55.421Z"
   },
   {
    "duration": 195,
    "start_time": "2024-02-11T18:21:55.429Z"
   },
   {
    "duration": 9,
    "start_time": "2024-02-11T18:23:22.623Z"
   },
   {
    "duration": 670,
    "start_time": "2024-02-11T18:24:38.137Z"
   },
   {
    "duration": 28,
    "start_time": "2024-02-11T18:24:38.809Z"
   },
   {
    "duration": 16,
    "start_time": "2024-02-11T18:24:38.838Z"
   },
   {
    "duration": 30,
    "start_time": "2024-02-11T18:24:38.856Z"
   },
   {
    "duration": 26,
    "start_time": "2024-02-11T18:24:38.888Z"
   },
   {
    "duration": 83,
    "start_time": "2024-02-11T18:24:38.916Z"
   },
   {
    "duration": 14,
    "start_time": "2024-02-11T18:24:39.001Z"
   },
   {
    "duration": 15,
    "start_time": "2024-02-11T18:24:39.017Z"
   },
   {
    "duration": 29,
    "start_time": "2024-02-11T18:24:39.033Z"
   },
   {
    "duration": 26,
    "start_time": "2024-02-11T18:24:39.063Z"
   },
   {
    "duration": 318,
    "start_time": "2024-02-11T18:24:39.090Z"
   },
   {
    "duration": 14,
    "start_time": "2024-02-11T18:24:39.410Z"
   },
   {
    "duration": 9,
    "start_time": "2024-02-11T18:24:39.426Z"
   },
   {
    "duration": 16,
    "start_time": "2024-02-11T18:24:39.438Z"
   },
   {
    "duration": 18,
    "start_time": "2024-02-11T18:24:39.455Z"
   },
   {
    "duration": 8,
    "start_time": "2024-02-11T18:24:39.474Z"
   },
   {
    "duration": 225,
    "start_time": "2024-02-11T18:24:39.483Z"
   },
   {
    "duration": 11,
    "start_time": "2024-02-11T18:26:59.217Z"
   },
   {
    "duration": 685,
    "start_time": "2024-02-11T18:28:39.142Z"
   },
   {
    "duration": 27,
    "start_time": "2024-02-11T18:28:39.829Z"
   },
   {
    "duration": 15,
    "start_time": "2024-02-11T18:28:39.858Z"
   },
   {
    "duration": 20,
    "start_time": "2024-02-11T18:28:39.875Z"
   },
   {
    "duration": 18,
    "start_time": "2024-02-11T18:28:39.897Z"
   },
   {
    "duration": 63,
    "start_time": "2024-02-11T18:28:39.917Z"
   },
   {
    "duration": 11,
    "start_time": "2024-02-11T18:28:39.981Z"
   },
   {
    "duration": 9,
    "start_time": "2024-02-11T18:28:39.994Z"
   },
   {
    "duration": 38,
    "start_time": "2024-02-11T18:28:40.005Z"
   },
   {
    "duration": 15,
    "start_time": "2024-02-11T18:28:40.045Z"
   },
   {
    "duration": 306,
    "start_time": "2024-02-11T18:28:40.062Z"
   },
   {
    "duration": 17,
    "start_time": "2024-02-11T18:28:40.369Z"
   },
   {
    "duration": 10,
    "start_time": "2024-02-11T18:28:40.387Z"
   },
   {
    "duration": 12,
    "start_time": "2024-02-11T18:28:40.400Z"
   },
   {
    "duration": 7,
    "start_time": "2024-02-11T18:28:40.414Z"
   },
   {
    "duration": 228,
    "start_time": "2024-02-11T18:28:40.423Z"
   },
   {
    "duration": 21,
    "start_time": "2024-02-11T18:28:40.653Z"
   },
   {
    "duration": 653,
    "start_time": "2024-02-11T18:30:31.223Z"
   },
   {
    "duration": 27,
    "start_time": "2024-02-11T18:30:31.878Z"
   },
   {
    "duration": 14,
    "start_time": "2024-02-11T18:30:31.907Z"
   },
   {
    "duration": 25,
    "start_time": "2024-02-11T18:30:31.923Z"
   },
   {
    "duration": 47,
    "start_time": "2024-02-11T18:30:31.950Z"
   },
   {
    "duration": 73,
    "start_time": "2024-02-11T18:30:31.998Z"
   },
   {
    "duration": 10,
    "start_time": "2024-02-11T18:30:32.073Z"
   },
   {
    "duration": 37,
    "start_time": "2024-02-11T18:30:32.085Z"
   },
   {
    "duration": 15,
    "start_time": "2024-02-11T18:30:32.123Z"
   },
   {
    "duration": 25,
    "start_time": "2024-02-11T18:30:32.140Z"
   },
   {
    "duration": 298,
    "start_time": "2024-02-11T18:30:32.167Z"
   },
   {
    "duration": 17,
    "start_time": "2024-02-11T18:30:32.467Z"
   },
   {
    "duration": 11,
    "start_time": "2024-02-11T18:30:32.485Z"
   },
   {
    "duration": 4,
    "start_time": "2024-02-11T18:30:32.499Z"
   },
   {
    "duration": 17,
    "start_time": "2024-02-11T18:30:32.504Z"
   },
   {
    "duration": 227,
    "start_time": "2024-02-11T18:30:32.523Z"
   },
   {
    "duration": 25,
    "start_time": "2024-02-11T18:30:32.751Z"
   },
   {
    "duration": 648,
    "start_time": "2024-02-11T18:30:44.096Z"
   },
   {
    "duration": 27,
    "start_time": "2024-02-11T18:30:44.745Z"
   },
   {
    "duration": 15,
    "start_time": "2024-02-11T18:30:44.774Z"
   },
   {
    "duration": 12,
    "start_time": "2024-02-11T18:30:44.791Z"
   },
   {
    "duration": 10,
    "start_time": "2024-02-11T18:30:44.805Z"
   },
   {
    "duration": 54,
    "start_time": "2024-02-11T18:30:44.816Z"
   },
   {
    "duration": 11,
    "start_time": "2024-02-11T18:30:44.872Z"
   },
   {
    "duration": 17,
    "start_time": "2024-02-11T18:30:44.885Z"
   },
   {
    "duration": 13,
    "start_time": "2024-02-11T18:30:44.904Z"
   },
   {
    "duration": 12,
    "start_time": "2024-02-11T18:30:44.919Z"
   },
   {
    "duration": 298,
    "start_time": "2024-02-11T18:30:44.932Z"
   },
   {
    "duration": 17,
    "start_time": "2024-02-11T18:30:45.231Z"
   },
   {
    "duration": 25,
    "start_time": "2024-02-11T18:30:45.249Z"
   },
   {
    "duration": 13,
    "start_time": "2024-02-11T18:30:45.277Z"
   },
   {
    "duration": 21,
    "start_time": "2024-02-11T18:30:45.291Z"
   },
   {
    "duration": 25,
    "start_time": "2024-02-11T18:30:45.313Z"
   },
   {
    "duration": 236,
    "start_time": "2024-02-11T18:30:45.340Z"
   },
   {
    "duration": 13,
    "start_time": "2024-02-11T18:30:45.578Z"
   },
   {
    "duration": 691,
    "start_time": "2024-02-11T18:32:34.237Z"
   },
   {
    "duration": 27,
    "start_time": "2024-02-11T18:32:34.930Z"
   },
   {
    "duration": 16,
    "start_time": "2024-02-11T18:32:34.959Z"
   },
   {
    "duration": 12,
    "start_time": "2024-02-11T18:32:34.978Z"
   },
   {
    "duration": 10,
    "start_time": "2024-02-11T18:32:34.992Z"
   },
   {
    "duration": 52,
    "start_time": "2024-02-11T18:32:35.004Z"
   },
   {
    "duration": 11,
    "start_time": "2024-02-11T18:32:35.057Z"
   },
   {
    "duration": 12,
    "start_time": "2024-02-11T18:32:35.069Z"
   },
   {
    "duration": 6,
    "start_time": "2024-02-11T18:32:35.083Z"
   },
   {
    "duration": 11,
    "start_time": "2024-02-11T18:32:35.090Z"
   },
   {
    "duration": 333,
    "start_time": "2024-02-11T18:32:35.102Z"
   },
   {
    "duration": 17,
    "start_time": "2024-02-11T18:32:35.437Z"
   },
   {
    "duration": 26,
    "start_time": "2024-02-11T18:32:35.455Z"
   },
   {
    "duration": 17,
    "start_time": "2024-02-11T18:32:35.484Z"
   },
   {
    "duration": 8,
    "start_time": "2024-02-11T18:32:35.503Z"
   },
   {
    "duration": 16,
    "start_time": "2024-02-11T18:32:35.512Z"
   },
   {
    "duration": 228,
    "start_time": "2024-02-11T18:32:35.530Z"
   },
   {
    "duration": 22,
    "start_time": "2024-02-11T18:32:35.759Z"
   },
   {
    "duration": 678,
    "start_time": "2024-02-11T18:33:27.876Z"
   },
   {
    "duration": 27,
    "start_time": "2024-02-11T18:33:28.556Z"
   },
   {
    "duration": 15,
    "start_time": "2024-02-11T18:33:28.585Z"
   },
   {
    "duration": 12,
    "start_time": "2024-02-11T18:33:28.602Z"
   },
   {
    "duration": 19,
    "start_time": "2024-02-11T18:33:28.615Z"
   },
   {
    "duration": 51,
    "start_time": "2024-02-11T18:33:28.636Z"
   },
   {
    "duration": 11,
    "start_time": "2024-02-11T18:33:28.689Z"
   },
   {
    "duration": 10,
    "start_time": "2024-02-11T18:33:28.701Z"
   },
   {
    "duration": 6,
    "start_time": "2024-02-11T18:33:28.712Z"
   },
   {
    "duration": 7,
    "start_time": "2024-02-11T18:33:28.719Z"
   },
   {
    "duration": 311,
    "start_time": "2024-02-11T18:33:28.727Z"
   },
   {
    "duration": 14,
    "start_time": "2024-02-11T18:33:29.040Z"
   },
   {
    "duration": 32,
    "start_time": "2024-02-11T18:33:29.055Z"
   },
   {
    "duration": 11,
    "start_time": "2024-02-11T18:33:29.090Z"
   },
   {
    "duration": 17,
    "start_time": "2024-02-11T18:33:29.102Z"
   },
   {
    "duration": 5,
    "start_time": "2024-02-11T18:33:29.121Z"
   },
   {
    "duration": 246,
    "start_time": "2024-02-11T18:33:29.128Z"
   },
   {
    "duration": 13,
    "start_time": "2024-02-11T18:33:29.376Z"
   },
   {
    "duration": 673,
    "start_time": "2024-02-11T18:34:55.537Z"
   },
   {
    "duration": 28,
    "start_time": "2024-02-11T18:34:56.212Z"
   },
   {
    "duration": 15,
    "start_time": "2024-02-11T18:34:56.241Z"
   },
   {
    "duration": 15,
    "start_time": "2024-02-11T18:34:56.257Z"
   },
   {
    "duration": 12,
    "start_time": "2024-02-11T18:34:56.274Z"
   },
   {
    "duration": 73,
    "start_time": "2024-02-11T18:34:56.288Z"
   },
   {
    "duration": 11,
    "start_time": "2024-02-11T18:34:56.363Z"
   },
   {
    "duration": 12,
    "start_time": "2024-02-11T18:34:56.375Z"
   },
   {
    "duration": 5,
    "start_time": "2024-02-11T18:34:56.389Z"
   },
   {
    "duration": 13,
    "start_time": "2024-02-11T18:34:56.395Z"
   },
   {
    "duration": 309,
    "start_time": "2024-02-11T18:34:56.410Z"
   },
   {
    "duration": 12,
    "start_time": "2024-02-11T18:34:56.721Z"
   },
   {
    "duration": 21,
    "start_time": "2024-02-11T18:34:56.735Z"
   },
   {
    "duration": 68,
    "start_time": "2024-02-11T18:34:56.758Z"
   },
   {
    "duration": 0,
    "start_time": "2024-02-11T18:34:56.827Z"
   },
   {
    "duration": 0,
    "start_time": "2024-02-11T18:34:56.829Z"
   },
   {
    "duration": 0,
    "start_time": "2024-02-11T18:34:56.830Z"
   },
   {
    "duration": 0,
    "start_time": "2024-02-11T18:34:56.831Z"
   },
   {
    "duration": 644,
    "start_time": "2024-02-11T18:35:16.718Z"
   },
   {
    "duration": 29,
    "start_time": "2024-02-11T18:35:17.364Z"
   },
   {
    "duration": 16,
    "start_time": "2024-02-11T18:35:17.394Z"
   },
   {
    "duration": 13,
    "start_time": "2024-02-11T18:35:17.412Z"
   },
   {
    "duration": 10,
    "start_time": "2024-02-11T18:35:17.426Z"
   },
   {
    "duration": 51,
    "start_time": "2024-02-11T18:35:17.438Z"
   },
   {
    "duration": 11,
    "start_time": "2024-02-11T18:35:17.490Z"
   },
   {
    "duration": 12,
    "start_time": "2024-02-11T18:35:17.503Z"
   },
   {
    "duration": 8,
    "start_time": "2024-02-11T18:35:17.516Z"
   },
   {
    "duration": 7,
    "start_time": "2024-02-11T18:35:17.526Z"
   },
   {
    "duration": 318,
    "start_time": "2024-02-11T18:35:17.535Z"
   },
   {
    "duration": 20,
    "start_time": "2024-02-11T18:35:17.854Z"
   },
   {
    "duration": 17,
    "start_time": "2024-02-11T18:35:17.876Z"
   },
   {
    "duration": 7,
    "start_time": "2024-02-11T18:35:17.895Z"
   },
   {
    "duration": 14,
    "start_time": "2024-02-11T18:35:17.904Z"
   },
   {
    "duration": 8,
    "start_time": "2024-02-11T18:35:17.920Z"
   },
   {
    "duration": 243,
    "start_time": "2024-02-11T18:35:17.930Z"
   },
   {
    "duration": 12,
    "start_time": "2024-02-11T18:35:18.175Z"
   },
   {
    "duration": 635,
    "start_time": "2024-02-11T18:36:48.190Z"
   },
   {
    "duration": 28,
    "start_time": "2024-02-11T18:36:48.827Z"
   },
   {
    "duration": 15,
    "start_time": "2024-02-11T18:36:48.857Z"
   },
   {
    "duration": 13,
    "start_time": "2024-02-11T18:36:48.874Z"
   },
   {
    "duration": 18,
    "start_time": "2024-02-11T18:36:48.890Z"
   },
   {
    "duration": 54,
    "start_time": "2024-02-11T18:36:48.909Z"
   },
   {
    "duration": 11,
    "start_time": "2024-02-11T18:36:48.964Z"
   },
   {
    "duration": 12,
    "start_time": "2024-02-11T18:36:48.977Z"
   },
   {
    "duration": 9,
    "start_time": "2024-02-11T18:36:48.990Z"
   },
   {
    "duration": 6,
    "start_time": "2024-02-11T18:36:49.001Z"
   },
   {
    "duration": 338,
    "start_time": "2024-02-11T18:36:49.009Z"
   },
   {
    "duration": 12,
    "start_time": "2024-02-11T18:36:49.349Z"
   },
   {
    "duration": 16,
    "start_time": "2024-02-11T18:36:49.373Z"
   },
   {
    "duration": 91,
    "start_time": "2024-02-11T18:36:49.392Z"
   },
   {
    "duration": 0,
    "start_time": "2024-02-11T18:36:49.484Z"
   },
   {
    "duration": 0,
    "start_time": "2024-02-11T18:36:49.487Z"
   },
   {
    "duration": 0,
    "start_time": "2024-02-11T18:36:49.488Z"
   },
   {
    "duration": 0,
    "start_time": "2024-02-11T18:36:49.489Z"
   },
   {
    "duration": 676,
    "start_time": "2024-02-11T18:38:03.237Z"
   },
   {
    "duration": 28,
    "start_time": "2024-02-11T18:38:03.915Z"
   },
   {
    "duration": 17,
    "start_time": "2024-02-11T18:38:03.945Z"
   },
   {
    "duration": 21,
    "start_time": "2024-02-11T18:38:03.965Z"
   },
   {
    "duration": 12,
    "start_time": "2024-02-11T18:38:03.989Z"
   },
   {
    "duration": 54,
    "start_time": "2024-02-11T18:38:04.003Z"
   },
   {
    "duration": 12,
    "start_time": "2024-02-11T18:38:04.059Z"
   },
   {
    "duration": 13,
    "start_time": "2024-02-11T18:38:04.073Z"
   },
   {
    "duration": 7,
    "start_time": "2024-02-11T18:38:04.088Z"
   },
   {
    "duration": 9,
    "start_time": "2024-02-11T18:38:04.097Z"
   },
   {
    "duration": 319,
    "start_time": "2024-02-11T18:38:04.108Z"
   },
   {
    "duration": 12,
    "start_time": "2024-02-11T18:38:04.429Z"
   },
   {
    "duration": 31,
    "start_time": "2024-02-11T18:38:04.442Z"
   },
   {
    "duration": 80,
    "start_time": "2024-02-11T18:38:04.475Z"
   },
   {
    "duration": 0,
    "start_time": "2024-02-11T18:38:04.556Z"
   },
   {
    "duration": 0,
    "start_time": "2024-02-11T18:38:04.557Z"
   },
   {
    "duration": 0,
    "start_time": "2024-02-11T18:38:04.559Z"
   },
   {
    "duration": 626,
    "start_time": "2024-02-11T18:42:11.399Z"
   },
   {
    "duration": 27,
    "start_time": "2024-02-11T18:42:12.027Z"
   },
   {
    "duration": 15,
    "start_time": "2024-02-11T18:42:12.055Z"
   },
   {
    "duration": 12,
    "start_time": "2024-02-11T18:42:12.072Z"
   },
   {
    "duration": 18,
    "start_time": "2024-02-11T18:42:12.086Z"
   },
   {
    "duration": 54,
    "start_time": "2024-02-11T18:42:12.105Z"
   },
   {
    "duration": 11,
    "start_time": "2024-02-11T18:42:12.160Z"
   },
   {
    "duration": 11,
    "start_time": "2024-02-11T18:42:12.173Z"
   },
   {
    "duration": 7,
    "start_time": "2024-02-11T18:42:12.186Z"
   },
   {
    "duration": 11,
    "start_time": "2024-02-11T18:42:12.194Z"
   },
   {
    "duration": 297,
    "start_time": "2024-02-11T18:42:12.207Z"
   },
   {
    "duration": 13,
    "start_time": "2024-02-11T18:42:12.505Z"
   },
   {
    "duration": 16,
    "start_time": "2024-02-11T18:42:12.519Z"
   },
   {
    "duration": 7,
    "start_time": "2024-02-11T18:42:12.537Z"
   },
   {
    "duration": 9,
    "start_time": "2024-02-11T18:42:12.546Z"
   },
   {
    "duration": 223,
    "start_time": "2024-02-11T18:42:12.573Z"
   },
   {
    "duration": 11,
    "start_time": "2024-02-11T18:42:12.798Z"
   },
   {
    "duration": 672,
    "start_time": "2024-02-11T18:42:44.563Z"
   },
   {
    "duration": 38,
    "start_time": "2024-02-11T18:42:45.237Z"
   },
   {
    "duration": 16,
    "start_time": "2024-02-11T18:42:45.277Z"
   },
   {
    "duration": 12,
    "start_time": "2024-02-11T18:42:45.295Z"
   },
   {
    "duration": 28,
    "start_time": "2024-02-11T18:42:45.309Z"
   },
   {
    "duration": 61,
    "start_time": "2024-02-11T18:42:45.339Z"
   },
   {
    "duration": 11,
    "start_time": "2024-02-11T18:42:45.402Z"
   },
   {
    "duration": 22,
    "start_time": "2024-02-11T18:42:45.415Z"
   },
   {
    "duration": 8,
    "start_time": "2024-02-11T18:42:45.438Z"
   },
   {
    "duration": 9,
    "start_time": "2024-02-11T18:42:45.447Z"
   },
   {
    "duration": 305,
    "start_time": "2024-02-11T18:42:45.458Z"
   },
   {
    "duration": 13,
    "start_time": "2024-02-11T18:42:45.772Z"
   },
   {
    "duration": 33,
    "start_time": "2024-02-11T18:42:45.786Z"
   },
   {
    "duration": 5,
    "start_time": "2024-02-11T18:42:45.822Z"
   },
   {
    "duration": 7,
    "start_time": "2024-02-11T18:42:45.828Z"
   },
   {
    "duration": 210,
    "start_time": "2024-02-11T18:42:45.836Z"
   },
   {
    "duration": 12,
    "start_time": "2024-02-11T18:42:46.048Z"
   },
   {
    "duration": 649,
    "start_time": "2024-02-11T18:43:25.338Z"
   },
   {
    "duration": 27,
    "start_time": "2024-02-11T18:43:25.989Z"
   },
   {
    "duration": 15,
    "start_time": "2024-02-11T18:43:26.018Z"
   },
   {
    "duration": 12,
    "start_time": "2024-02-11T18:43:26.035Z"
   },
   {
    "duration": 11,
    "start_time": "2024-02-11T18:43:26.049Z"
   },
   {
    "duration": 55,
    "start_time": "2024-02-11T18:43:26.061Z"
   },
   {
    "duration": 12,
    "start_time": "2024-02-11T18:43:26.117Z"
   },
   {
    "duration": 12,
    "start_time": "2024-02-11T18:43:26.131Z"
   },
   {
    "duration": 7,
    "start_time": "2024-02-11T18:43:26.145Z"
   },
   {
    "duration": 10,
    "start_time": "2024-02-11T18:43:26.154Z"
   },
   {
    "duration": 315,
    "start_time": "2024-02-11T18:43:26.165Z"
   },
   {
    "duration": 14,
    "start_time": "2024-02-11T18:43:26.482Z"
   },
   {
    "duration": 16,
    "start_time": "2024-02-11T18:43:26.497Z"
   },
   {
    "duration": 98,
    "start_time": "2024-02-11T18:43:26.516Z"
   },
   {
    "duration": 0,
    "start_time": "2024-02-11T18:43:26.616Z"
   },
   {
    "duration": 0,
    "start_time": "2024-02-11T18:43:26.617Z"
   },
   {
    "duration": 0,
    "start_time": "2024-02-11T18:43:26.618Z"
   },
   {
    "duration": 691,
    "start_time": "2024-02-11T18:43:43.049Z"
   },
   {
    "duration": 33,
    "start_time": "2024-02-11T18:43:43.742Z"
   },
   {
    "duration": 16,
    "start_time": "2024-02-11T18:43:43.778Z"
   },
   {
    "duration": 14,
    "start_time": "2024-02-11T18:43:43.797Z"
   },
   {
    "duration": 14,
    "start_time": "2024-02-11T18:43:43.813Z"
   },
   {
    "duration": 53,
    "start_time": "2024-02-11T18:43:43.829Z"
   },
   {
    "duration": 12,
    "start_time": "2024-02-11T18:43:43.884Z"
   },
   {
    "duration": 14,
    "start_time": "2024-02-11T18:43:43.897Z"
   },
   {
    "duration": 9,
    "start_time": "2024-02-11T18:43:43.912Z"
   },
   {
    "duration": 11,
    "start_time": "2024-02-11T18:43:43.922Z"
   },
   {
    "duration": 305,
    "start_time": "2024-02-11T18:43:43.934Z"
   },
   {
    "duration": 13,
    "start_time": "2024-02-11T18:43:44.240Z"
   },
   {
    "duration": 27,
    "start_time": "2024-02-11T18:43:44.255Z"
   },
   {
    "duration": 77,
    "start_time": "2024-02-11T18:43:44.284Z"
   },
   {
    "duration": 0,
    "start_time": "2024-02-11T18:43:44.373Z"
   },
   {
    "duration": 0,
    "start_time": "2024-02-11T18:43:44.375Z"
   },
   {
    "duration": 0,
    "start_time": "2024-02-11T18:43:44.376Z"
   },
   {
    "duration": 633,
    "start_time": "2024-02-11T18:44:48.515Z"
   },
   {
    "duration": 27,
    "start_time": "2024-02-11T18:44:49.150Z"
   },
   {
    "duration": 17,
    "start_time": "2024-02-11T18:44:49.179Z"
   },
   {
    "duration": 13,
    "start_time": "2024-02-11T18:44:49.197Z"
   },
   {
    "duration": 11,
    "start_time": "2024-02-11T18:44:49.213Z"
   },
   {
    "duration": 53,
    "start_time": "2024-02-11T18:44:49.225Z"
   },
   {
    "duration": 11,
    "start_time": "2024-02-11T18:44:49.280Z"
   },
   {
    "duration": 16,
    "start_time": "2024-02-11T18:44:49.293Z"
   },
   {
    "duration": 14,
    "start_time": "2024-02-11T18:44:49.311Z"
   },
   {
    "duration": 15,
    "start_time": "2024-02-11T18:44:49.326Z"
   },
   {
    "duration": 307,
    "start_time": "2024-02-11T18:44:49.343Z"
   },
   {
    "duration": 13,
    "start_time": "2024-02-11T18:44:49.651Z"
   },
   {
    "duration": 16,
    "start_time": "2024-02-11T18:44:49.673Z"
   },
   {
    "duration": 88,
    "start_time": "2024-02-11T18:44:49.691Z"
   },
   {
    "duration": 0,
    "start_time": "2024-02-11T18:44:49.781Z"
   },
   {
    "duration": 0,
    "start_time": "2024-02-11T18:44:49.782Z"
   },
   {
    "duration": 0,
    "start_time": "2024-02-11T18:44:49.784Z"
   },
   {
    "duration": 680,
    "start_time": "2024-02-11T18:46:15.250Z"
   },
   {
    "duration": 27,
    "start_time": "2024-02-11T18:46:15.932Z"
   },
   {
    "duration": 27,
    "start_time": "2024-02-11T18:46:15.961Z"
   },
   {
    "duration": 46,
    "start_time": "2024-02-11T18:46:15.990Z"
   },
   {
    "duration": 65,
    "start_time": "2024-02-11T18:46:16.038Z"
   },
   {
    "duration": 94,
    "start_time": "2024-02-11T18:46:16.105Z"
   },
   {
    "duration": 11,
    "start_time": "2024-02-11T18:46:16.200Z"
   },
   {
    "duration": 40,
    "start_time": "2024-02-11T18:46:16.213Z"
   },
   {
    "duration": 25,
    "start_time": "2024-02-11T18:46:16.255Z"
   },
   {
    "duration": 50,
    "start_time": "2024-02-11T18:46:16.282Z"
   },
   {
    "duration": 340,
    "start_time": "2024-02-11T18:46:16.333Z"
   },
   {
    "duration": 13,
    "start_time": "2024-02-11T18:46:16.675Z"
   },
   {
    "duration": 46,
    "start_time": "2024-02-11T18:46:16.690Z"
   },
   {
    "duration": 129,
    "start_time": "2024-02-11T18:46:16.738Z"
   },
   {
    "duration": 0,
    "start_time": "2024-02-11T18:46:16.869Z"
   },
   {
    "duration": 0,
    "start_time": "2024-02-11T18:46:16.870Z"
   },
   {
    "duration": 0,
    "start_time": "2024-02-11T18:46:16.871Z"
   },
   {
    "duration": 725,
    "start_time": "2024-02-11T18:49:23.408Z"
   },
   {
    "duration": 28,
    "start_time": "2024-02-11T18:49:24.136Z"
   },
   {
    "duration": 16,
    "start_time": "2024-02-11T18:49:24.165Z"
   },
   {
    "duration": 13,
    "start_time": "2024-02-11T18:49:24.182Z"
   },
   {
    "duration": 10,
    "start_time": "2024-02-11T18:49:24.197Z"
   },
   {
    "duration": 62,
    "start_time": "2024-02-11T18:49:24.209Z"
   },
   {
    "duration": 11,
    "start_time": "2024-02-11T18:49:24.272Z"
   },
   {
    "duration": 10,
    "start_time": "2024-02-11T18:49:24.285Z"
   },
   {
    "duration": 5,
    "start_time": "2024-02-11T18:49:24.297Z"
   },
   {
    "duration": 28,
    "start_time": "2024-02-11T18:49:24.304Z"
   },
   {
    "duration": 297,
    "start_time": "2024-02-11T18:49:24.334Z"
   },
   {
    "duration": 13,
    "start_time": "2024-02-11T18:49:24.633Z"
   },
   {
    "duration": 29,
    "start_time": "2024-02-11T18:49:24.647Z"
   },
   {
    "duration": 80,
    "start_time": "2024-02-11T18:49:24.678Z"
   },
   {
    "duration": 0,
    "start_time": "2024-02-11T18:49:24.760Z"
   },
   {
    "duration": 0,
    "start_time": "2024-02-11T18:49:24.773Z"
   },
   {
    "duration": 0,
    "start_time": "2024-02-11T18:49:24.774Z"
   },
   {
    "duration": 623,
    "start_time": "2024-02-11T18:52:17.814Z"
   },
   {
    "duration": 27,
    "start_time": "2024-02-11T18:52:18.439Z"
   },
   {
    "duration": 14,
    "start_time": "2024-02-11T18:52:18.468Z"
   },
   {
    "duration": 22,
    "start_time": "2024-02-11T18:52:18.484Z"
   },
   {
    "duration": 10,
    "start_time": "2024-02-11T18:52:18.508Z"
   },
   {
    "duration": 71,
    "start_time": "2024-02-11T18:52:18.519Z"
   },
   {
    "duration": 12,
    "start_time": "2024-02-11T18:52:18.591Z"
   },
   {
    "duration": 11,
    "start_time": "2024-02-11T18:52:18.604Z"
   },
   {
    "duration": 5,
    "start_time": "2024-02-11T18:52:18.617Z"
   },
   {
    "duration": 7,
    "start_time": "2024-02-11T18:52:18.624Z"
   },
   {
    "duration": 312,
    "start_time": "2024-02-11T18:52:18.632Z"
   },
   {
    "duration": 13,
    "start_time": "2024-02-11T18:52:18.946Z"
   },
   {
    "duration": 27,
    "start_time": "2024-02-11T18:52:18.960Z"
   },
   {
    "duration": 30,
    "start_time": "2024-02-11T18:52:18.990Z"
   },
   {
    "duration": 13,
    "start_time": "2024-02-11T18:52:19.021Z"
   },
   {
    "duration": 209,
    "start_time": "2024-02-11T18:52:19.036Z"
   },
   {
    "duration": 14,
    "start_time": "2024-02-11T18:52:19.247Z"
   },
   {
    "duration": 693,
    "start_time": "2024-02-11T18:54:11.050Z"
   },
   {
    "duration": 29,
    "start_time": "2024-02-11T18:54:11.745Z"
   },
   {
    "duration": 14,
    "start_time": "2024-02-11T18:54:11.776Z"
   },
   {
    "duration": 12,
    "start_time": "2024-02-11T18:54:11.792Z"
   },
   {
    "duration": 10,
    "start_time": "2024-02-11T18:54:11.806Z"
   },
   {
    "duration": 52,
    "start_time": "2024-02-11T18:54:11.817Z"
   },
   {
    "duration": 15,
    "start_time": "2024-02-11T18:54:11.871Z"
   },
   {
    "duration": 12,
    "start_time": "2024-02-11T18:54:11.888Z"
   },
   {
    "duration": 5,
    "start_time": "2024-02-11T18:54:11.902Z"
   },
   {
    "duration": 7,
    "start_time": "2024-02-11T18:54:11.909Z"
   },
   {
    "duration": 338,
    "start_time": "2024-02-11T18:54:11.917Z"
   },
   {
    "duration": 27,
    "start_time": "2024-02-11T18:54:12.257Z"
   },
   {
    "duration": 23,
    "start_time": "2024-02-11T18:54:12.285Z"
   },
   {
    "duration": 19,
    "start_time": "2024-02-11T18:54:12.311Z"
   },
   {
    "duration": 4,
    "start_time": "2024-02-11T18:54:12.331Z"
   },
   {
    "duration": 222,
    "start_time": "2024-02-11T18:54:12.337Z"
   },
   {
    "duration": 3,
    "start_time": "2024-02-11T18:54:12.560Z"
   },
   {
    "duration": 2,
    "start_time": "2024-02-11T18:55:47.502Z"
   },
   {
    "duration": 46,
    "start_time": "2024-02-12T08:53:42.960Z"
   },
   {
    "duration": 801,
    "start_time": "2024-02-12T08:53:51.168Z"
   },
   {
    "duration": 55,
    "start_time": "2024-02-12T08:53:51.971Z"
   },
   {
    "duration": 17,
    "start_time": "2024-02-12T08:53:52.028Z"
   },
   {
    "duration": 11,
    "start_time": "2024-02-12T08:53:52.047Z"
   },
   {
    "duration": 9,
    "start_time": "2024-02-12T08:53:52.060Z"
   },
   {
    "duration": 130,
    "start_time": "2024-02-12T08:53:52.070Z"
   },
   {
    "duration": 11,
    "start_time": "2024-02-12T08:53:52.201Z"
   },
   {
    "duration": 19,
    "start_time": "2024-02-12T08:53:52.214Z"
   },
   {
    "duration": 6,
    "start_time": "2024-02-12T08:53:52.234Z"
   },
   {
    "duration": 11,
    "start_time": "2024-02-12T08:53:52.242Z"
   },
   {
    "duration": 307,
    "start_time": "2024-02-12T08:53:52.254Z"
   },
   {
    "duration": 11,
    "start_time": "2024-02-12T08:53:52.563Z"
   },
   {
    "duration": 17,
    "start_time": "2024-02-12T08:53:52.576Z"
   },
   {
    "duration": 19,
    "start_time": "2024-02-12T08:53:52.595Z"
   },
   {
    "duration": 3,
    "start_time": "2024-02-12T08:53:52.615Z"
   },
   {
    "duration": 203,
    "start_time": "2024-02-12T08:53:52.620Z"
   },
   {
    "duration": 2,
    "start_time": "2024-02-12T08:53:52.824Z"
   },
   {
    "duration": 363,
    "start_time": "2024-02-12T08:53:52.828Z"
   },
   {
    "duration": 346,
    "start_time": "2024-02-12T09:18:30.852Z"
   },
   {
    "duration": 292,
    "start_time": "2024-02-12T09:18:36.489Z"
   },
   {
    "duration": 32,
    "start_time": "2024-02-12T09:21:57.854Z"
   },
   {
    "duration": 18,
    "start_time": "2024-02-12T09:22:29.372Z"
   },
   {
    "duration": 140,
    "start_time": "2024-02-12T09:23:39.117Z"
   },
   {
    "duration": 1548,
    "start_time": "2024-02-12T09:27:03.579Z"
   },
   {
    "duration": 10,
    "start_time": "2024-02-12T09:27:20.967Z"
   },
   {
    "duration": 6,
    "start_time": "2024-02-12T09:27:54.532Z"
   },
   {
    "duration": 7,
    "start_time": "2024-02-12T09:27:57.916Z"
   },
   {
    "duration": 11,
    "start_time": "2024-02-12T09:28:32.690Z"
   },
   {
    "duration": 7,
    "start_time": "2024-02-12T09:28:33.086Z"
   },
   {
    "duration": 609,
    "start_time": "2024-02-12T09:28:40.089Z"
   },
   {
    "duration": 25,
    "start_time": "2024-02-12T09:28:40.699Z"
   },
   {
    "duration": 14,
    "start_time": "2024-02-12T09:28:40.725Z"
   },
   {
    "duration": 11,
    "start_time": "2024-02-12T09:28:40.741Z"
   },
   {
    "duration": 14,
    "start_time": "2024-02-12T09:28:40.753Z"
   },
   {
    "duration": 62,
    "start_time": "2024-02-12T09:28:40.769Z"
   },
   {
    "duration": 10,
    "start_time": "2024-02-12T09:28:40.832Z"
   },
   {
    "duration": 32,
    "start_time": "2024-02-12T09:28:40.844Z"
   },
   {
    "duration": 18,
    "start_time": "2024-02-12T09:28:40.878Z"
   },
   {
    "duration": 17,
    "start_time": "2024-02-12T09:28:40.899Z"
   },
   {
    "duration": 265,
    "start_time": "2024-02-12T09:28:40.918Z"
   },
   {
    "duration": 13,
    "start_time": "2024-02-12T09:28:41.184Z"
   },
   {
    "duration": 49,
    "start_time": "2024-02-12T09:28:41.198Z"
   },
   {
    "duration": 16,
    "start_time": "2024-02-12T09:28:41.249Z"
   },
   {
    "duration": 4,
    "start_time": "2024-02-12T09:28:41.266Z"
   },
   {
    "duration": 200,
    "start_time": "2024-02-12T09:28:41.272Z"
   },
   {
    "duration": 3,
    "start_time": "2024-02-12T09:28:41.474Z"
   },
   {
    "duration": 319,
    "start_time": "2024-02-12T09:28:41.478Z"
   },
   {
    "duration": 23,
    "start_time": "2024-02-12T09:28:41.799Z"
   },
   {
    "duration": 93,
    "start_time": "2024-02-12T09:28:41.825Z"
   },
   {
    "duration": 0,
    "start_time": "2024-02-12T09:28:41.920Z"
   },
   {
    "duration": 6,
    "start_time": "2024-02-12T09:28:47.584Z"
   },
   {
    "duration": 10,
    "start_time": "2024-02-12T09:29:13.972Z"
   },
   {
    "duration": 7,
    "start_time": "2024-02-12T09:29:19.539Z"
   },
   {
    "duration": 5,
    "start_time": "2024-02-12T09:29:59.504Z"
   },
   {
    "duration": 8,
    "start_time": "2024-02-12T09:30:58.272Z"
   },
   {
    "duration": 5,
    "start_time": "2024-02-12T09:31:38.807Z"
   },
   {
    "duration": 24,
    "start_time": "2024-02-12T09:31:42.024Z"
   },
   {
    "duration": 662,
    "start_time": "2024-02-12T09:32:34.055Z"
   },
   {
    "duration": 24,
    "start_time": "2024-02-12T09:32:34.719Z"
   },
   {
    "duration": 15,
    "start_time": "2024-02-12T09:32:34.745Z"
   },
   {
    "duration": 11,
    "start_time": "2024-02-12T09:32:34.762Z"
   },
   {
    "duration": 9,
    "start_time": "2024-02-12T09:32:34.775Z"
   },
   {
    "duration": 45,
    "start_time": "2024-02-12T09:32:34.785Z"
   },
   {
    "duration": 10,
    "start_time": "2024-02-12T09:32:34.832Z"
   },
   {
    "duration": 9,
    "start_time": "2024-02-12T09:32:34.844Z"
   },
   {
    "duration": 5,
    "start_time": "2024-02-12T09:32:34.854Z"
   },
   {
    "duration": 10,
    "start_time": "2024-02-12T09:32:34.860Z"
   },
   {
    "duration": 276,
    "start_time": "2024-02-12T09:32:34.872Z"
   },
   {
    "duration": 23,
    "start_time": "2024-02-12T09:32:35.149Z"
   },
   {
    "duration": 45,
    "start_time": "2024-02-12T09:32:35.174Z"
   },
   {
    "duration": 20,
    "start_time": "2024-02-12T09:32:35.221Z"
   },
   {
    "duration": 7,
    "start_time": "2024-02-12T09:32:35.242Z"
   },
   {
    "duration": 200,
    "start_time": "2024-02-12T09:32:35.251Z"
   },
   {
    "duration": 3,
    "start_time": "2024-02-12T09:32:35.453Z"
   },
   {
    "duration": 317,
    "start_time": "2024-02-12T09:32:35.457Z"
   },
   {
    "duration": 16,
    "start_time": "2024-02-12T09:32:35.776Z"
   },
   {
    "duration": 25,
    "start_time": "2024-02-12T09:32:35.794Z"
   },
   {
    "duration": 17,
    "start_time": "2024-02-12T09:32:35.821Z"
   },
   {
    "duration": 43,
    "start_time": "2024-02-12T09:32:35.840Z"
   },
   {
    "duration": 597,
    "start_time": "2024-02-12T09:32:58.113Z"
   },
   {
    "duration": 25,
    "start_time": "2024-02-12T09:32:58.711Z"
   },
   {
    "duration": 14,
    "start_time": "2024-02-12T09:32:58.738Z"
   },
   {
    "duration": 11,
    "start_time": "2024-02-12T09:32:58.754Z"
   },
   {
    "duration": 23,
    "start_time": "2024-02-12T09:32:58.767Z"
   },
   {
    "duration": 48,
    "start_time": "2024-02-12T09:32:58.792Z"
   },
   {
    "duration": 14,
    "start_time": "2024-02-12T09:32:58.842Z"
   },
   {
    "duration": 17,
    "start_time": "2024-02-12T09:32:58.858Z"
   },
   {
    "duration": 11,
    "start_time": "2024-02-12T09:32:58.877Z"
   },
   {
    "duration": 11,
    "start_time": "2024-02-12T09:32:58.890Z"
   },
   {
    "duration": 344,
    "start_time": "2024-02-12T09:32:58.904Z"
   },
   {
    "duration": 22,
    "start_time": "2024-02-12T09:32:59.249Z"
   },
   {
    "duration": 51,
    "start_time": "2024-02-12T09:32:59.272Z"
   },
   {
    "duration": 18,
    "start_time": "2024-02-12T09:32:59.324Z"
   },
   {
    "duration": 10,
    "start_time": "2024-02-12T09:32:59.343Z"
   },
   {
    "duration": 194,
    "start_time": "2024-02-12T09:32:59.354Z"
   },
   {
    "duration": 3,
    "start_time": "2024-02-12T09:32:59.550Z"
   },
   {
    "duration": 323,
    "start_time": "2024-02-12T09:32:59.554Z"
   },
   {
    "duration": 16,
    "start_time": "2024-02-12T09:32:59.879Z"
   },
   {
    "duration": 9,
    "start_time": "2024-02-12T09:32:59.897Z"
   },
   {
    "duration": 7,
    "start_time": "2024-02-12T09:32:59.908Z"
   },
   {
    "duration": 59,
    "start_time": "2024-02-12T09:32:59.916Z"
   },
   {
    "duration": 14,
    "start_time": "2024-02-12T09:33:10.436Z"
   },
   {
    "duration": 1317,
    "start_time": "2024-02-12T09:33:51.468Z"
   },
   {
    "duration": 642,
    "start_time": "2024-02-12T09:34:35.028Z"
   },
   {
    "duration": 26,
    "start_time": "2024-02-12T09:34:35.674Z"
   },
   {
    "duration": 15,
    "start_time": "2024-02-12T09:34:35.701Z"
   },
   {
    "duration": 11,
    "start_time": "2024-02-12T09:34:35.718Z"
   },
   {
    "duration": 14,
    "start_time": "2024-02-12T09:34:35.731Z"
   },
   {
    "duration": 52,
    "start_time": "2024-02-12T09:34:35.747Z"
   },
   {
    "duration": 12,
    "start_time": "2024-02-12T09:34:35.801Z"
   },
   {
    "duration": 18,
    "start_time": "2024-02-12T09:34:35.815Z"
   },
   {
    "duration": 11,
    "start_time": "2024-02-12T09:34:35.835Z"
   },
   {
    "duration": 16,
    "start_time": "2024-02-12T09:34:35.847Z"
   },
   {
    "duration": 308,
    "start_time": "2024-02-12T09:34:35.864Z"
   },
   {
    "duration": 14,
    "start_time": "2024-02-12T09:34:36.176Z"
   },
   {
    "duration": 53,
    "start_time": "2024-02-12T09:34:36.192Z"
   },
   {
    "duration": 21,
    "start_time": "2024-02-12T09:34:36.247Z"
   },
   {
    "duration": 8,
    "start_time": "2024-02-12T09:34:36.272Z"
   },
   {
    "duration": 207,
    "start_time": "2024-02-12T09:34:36.282Z"
   },
   {
    "duration": 2,
    "start_time": "2024-02-12T09:34:36.491Z"
   },
   {
    "duration": 300,
    "start_time": "2024-02-12T09:34:36.494Z"
   },
   {
    "duration": 14,
    "start_time": "2024-02-12T09:34:36.796Z"
   },
   {
    "duration": 18,
    "start_time": "2024-02-12T09:34:36.812Z"
   },
   {
    "duration": 5,
    "start_time": "2024-02-12T09:34:36.832Z"
   },
   {
    "duration": 40,
    "start_time": "2024-02-12T09:34:36.839Z"
   },
   {
    "duration": 217,
    "start_time": "2024-02-12T09:34:36.881Z"
   },
   {
    "duration": 89,
    "start_time": "2024-02-12T09:35:33.137Z"
   },
   {
    "duration": 187,
    "start_time": "2024-02-12T09:35:38.586Z"
   },
   {
    "duration": 185,
    "start_time": "2024-02-12T09:35:47.433Z"
   },
   {
    "duration": 154,
    "start_time": "2024-02-12T09:35:56.990Z"
   },
   {
    "duration": 204,
    "start_time": "2024-02-12T09:36:26.081Z"
   },
   {
    "duration": 659,
    "start_time": "2024-02-12T09:38:32.976Z"
   },
   {
    "duration": 25,
    "start_time": "2024-02-12T09:38:33.637Z"
   },
   {
    "duration": 22,
    "start_time": "2024-02-12T09:38:33.663Z"
   },
   {
    "duration": 12,
    "start_time": "2024-02-12T09:38:33.686Z"
   },
   {
    "duration": 17,
    "start_time": "2024-02-12T09:38:33.700Z"
   },
   {
    "duration": 51,
    "start_time": "2024-02-12T09:38:33.719Z"
   },
   {
    "duration": 12,
    "start_time": "2024-02-12T09:38:33.773Z"
   },
   {
    "duration": 23,
    "start_time": "2024-02-12T09:38:33.787Z"
   },
   {
    "duration": 6,
    "start_time": "2024-02-12T09:38:33.811Z"
   },
   {
    "duration": 7,
    "start_time": "2024-02-12T09:38:33.818Z"
   },
   {
    "duration": 304,
    "start_time": "2024-02-12T09:38:33.827Z"
   },
   {
    "duration": 12,
    "start_time": "2024-02-12T09:38:34.133Z"
   },
   {
    "duration": 43,
    "start_time": "2024-02-12T09:38:34.146Z"
   },
   {
    "duration": 18,
    "start_time": "2024-02-12T09:38:34.192Z"
   },
   {
    "duration": 4,
    "start_time": "2024-02-12T09:38:34.212Z"
   },
   {
    "duration": 209,
    "start_time": "2024-02-12T09:38:34.218Z"
   },
   {
    "duration": 2,
    "start_time": "2024-02-12T09:38:34.428Z"
   },
   {
    "duration": 286,
    "start_time": "2024-02-12T09:38:34.432Z"
   },
   {
    "duration": 17,
    "start_time": "2024-02-12T09:38:34.719Z"
   },
   {
    "duration": 8,
    "start_time": "2024-02-12T09:38:34.737Z"
   },
   {
    "duration": 9,
    "start_time": "2024-02-12T09:38:34.765Z"
   },
   {
    "duration": 15,
    "start_time": "2024-02-12T09:38:34.776Z"
   },
   {
    "duration": 267,
    "start_time": "2024-02-12T09:38:34.792Z"
   },
   {
    "duration": 1263,
    "start_time": "2024-02-12T09:42:22.082Z"
   },
   {
    "duration": 326,
    "start_time": "2024-02-12T09:43:37.860Z"
   },
   {
    "duration": 295,
    "start_time": "2024-02-12T09:44:33.386Z"
   },
   {
    "duration": 270,
    "start_time": "2024-02-12T09:44:35.904Z"
   },
   {
    "duration": 263,
    "start_time": "2024-02-12T09:50:28.712Z"
   },
   {
    "duration": 159,
    "start_time": "2024-02-12T09:57:50.521Z"
   },
   {
    "duration": 13,
    "start_time": "2024-02-12T09:58:41.875Z"
   },
   {
    "duration": 15,
    "start_time": "2024-02-12T09:59:06.525Z"
   },
   {
    "duration": 8,
    "start_time": "2024-02-12T10:00:29.639Z"
   },
   {
    "duration": 632,
    "start_time": "2024-02-12T10:00:36.014Z"
   },
   {
    "duration": 25,
    "start_time": "2024-02-12T10:00:36.648Z"
   },
   {
    "duration": 16,
    "start_time": "2024-02-12T10:00:36.674Z"
   },
   {
    "duration": 10,
    "start_time": "2024-02-12T10:00:36.692Z"
   },
   {
    "duration": 20,
    "start_time": "2024-02-12T10:00:36.703Z"
   },
   {
    "duration": 73,
    "start_time": "2024-02-12T10:00:36.725Z"
   },
   {
    "duration": 10,
    "start_time": "2024-02-12T10:00:36.799Z"
   },
   {
    "duration": 30,
    "start_time": "2024-02-12T10:00:36.811Z"
   },
   {
    "duration": 30,
    "start_time": "2024-02-12T10:00:36.843Z"
   },
   {
    "duration": 22,
    "start_time": "2024-02-12T10:00:36.875Z"
   },
   {
    "duration": 291,
    "start_time": "2024-02-12T10:00:36.898Z"
   },
   {
    "duration": 12,
    "start_time": "2024-02-12T10:00:37.191Z"
   },
   {
    "duration": 48,
    "start_time": "2024-02-12T10:00:37.205Z"
   },
   {
    "duration": 17,
    "start_time": "2024-02-12T10:00:37.254Z"
   },
   {
    "duration": 12,
    "start_time": "2024-02-12T10:00:37.273Z"
   },
   {
    "duration": 209,
    "start_time": "2024-02-12T10:00:37.287Z"
   },
   {
    "duration": 3,
    "start_time": "2024-02-12T10:00:37.497Z"
   },
   {
    "duration": 309,
    "start_time": "2024-02-12T10:00:37.502Z"
   },
   {
    "duration": 8,
    "start_time": "2024-02-12T10:00:37.812Z"
   },
   {
    "duration": 24,
    "start_time": "2024-02-12T10:00:37.821Z"
   },
   {
    "duration": 232,
    "start_time": "2024-02-12T10:00:37.846Z"
   },
   {
    "duration": 270,
    "start_time": "2024-02-12T10:00:38.080Z"
   },
   {
    "duration": 25,
    "start_time": "2024-02-12T10:00:38.351Z"
   },
   {
    "duration": 22,
    "start_time": "2024-02-12T10:00:38.377Z"
   },
   {
    "duration": 73,
    "start_time": "2024-02-12T10:05:17.216Z"
   },
   {
    "duration": 11,
    "start_time": "2024-02-12T10:05:29.550Z"
   },
   {
    "duration": 9,
    "start_time": "2024-02-12T10:06:20.416Z"
   },
   {
    "duration": 10,
    "start_time": "2024-02-12T10:06:24.144Z"
   },
   {
    "duration": 10,
    "start_time": "2024-02-12T10:07:20.355Z"
   },
   {
    "duration": 607,
    "start_time": "2024-02-12T11:13:16.826Z"
   },
   {
    "duration": 25,
    "start_time": "2024-02-12T11:13:17.435Z"
   },
   {
    "duration": 18,
    "start_time": "2024-02-12T11:13:17.462Z"
   },
   {
    "duration": 11,
    "start_time": "2024-02-12T11:13:17.482Z"
   },
   {
    "duration": 13,
    "start_time": "2024-02-12T11:13:17.494Z"
   },
   {
    "duration": 58,
    "start_time": "2024-02-12T11:13:17.508Z"
   },
   {
    "duration": 11,
    "start_time": "2024-02-12T11:13:17.567Z"
   },
   {
    "duration": 20,
    "start_time": "2024-02-12T11:13:17.579Z"
   },
   {
    "duration": 21,
    "start_time": "2024-02-12T11:13:17.601Z"
   },
   {
    "duration": 12,
    "start_time": "2024-02-12T11:13:17.623Z"
   },
   {
    "duration": 297,
    "start_time": "2024-02-12T11:13:17.637Z"
   },
   {
    "duration": 13,
    "start_time": "2024-02-12T11:13:17.935Z"
   },
   {
    "duration": 44,
    "start_time": "2024-02-12T11:13:17.950Z"
   },
   {
    "duration": 17,
    "start_time": "2024-02-12T11:13:17.996Z"
   },
   {
    "duration": 4,
    "start_time": "2024-02-12T11:13:18.015Z"
   },
   {
    "duration": 213,
    "start_time": "2024-02-12T11:13:18.020Z"
   },
   {
    "duration": 2,
    "start_time": "2024-02-12T11:13:18.234Z"
   },
   {
    "duration": 330,
    "start_time": "2024-02-12T11:13:18.238Z"
   },
   {
    "duration": 8,
    "start_time": "2024-02-12T11:13:18.570Z"
   },
   {
    "duration": 6,
    "start_time": "2024-02-12T11:13:18.580Z"
   },
   {
    "duration": 266,
    "start_time": "2024-02-12T11:13:18.588Z"
   },
   {
    "duration": 311,
    "start_time": "2024-02-12T11:13:18.856Z"
   },
   {
    "duration": 15,
    "start_time": "2024-02-12T11:13:19.168Z"
   },
   {
    "duration": 36,
    "start_time": "2024-02-12T11:13:19.185Z"
   },
   {
    "duration": 10,
    "start_time": "2024-02-12T11:16:53.329Z"
   },
   {
    "duration": 77,
    "start_time": "2024-02-12T11:17:04.895Z"
   },
   {
    "duration": 10,
    "start_time": "2024-02-12T11:17:14.875Z"
   },
   {
    "duration": 110,
    "start_time": "2024-02-12T11:18:00.947Z"
   },
   {
    "duration": 82,
    "start_time": "2024-02-12T11:18:13.281Z"
   },
   {
    "duration": 15,
    "start_time": "2024-02-12T11:18:17.621Z"
   },
   {
    "duration": 16,
    "start_time": "2024-02-12T11:18:58.642Z"
   },
   {
    "duration": 256,
    "start_time": "2024-02-12T11:19:12.381Z"
   },
   {
    "duration": 17,
    "start_time": "2024-02-12T11:21:15.877Z"
   },
   {
    "duration": 635,
    "start_time": "2024-02-12T11:22:09.071Z"
   },
   {
    "duration": 25,
    "start_time": "2024-02-12T11:22:09.708Z"
   },
   {
    "duration": 17,
    "start_time": "2024-02-12T11:22:09.735Z"
   },
   {
    "duration": 14,
    "start_time": "2024-02-12T11:22:09.754Z"
   },
   {
    "duration": 9,
    "start_time": "2024-02-12T11:22:09.770Z"
   },
   {
    "duration": 46,
    "start_time": "2024-02-12T11:22:09.781Z"
   },
   {
    "duration": 10,
    "start_time": "2024-02-12T11:22:09.829Z"
   },
   {
    "duration": 10,
    "start_time": "2024-02-12T11:22:09.841Z"
   },
   {
    "duration": 7,
    "start_time": "2024-02-12T11:22:09.852Z"
   },
   {
    "duration": 20,
    "start_time": "2024-02-12T11:22:09.860Z"
   },
   {
    "duration": 406,
    "start_time": "2024-02-12T11:22:09.881Z"
   },
   {
    "duration": 14,
    "start_time": "2024-02-12T11:22:10.289Z"
   },
   {
    "duration": 41,
    "start_time": "2024-02-12T11:22:10.305Z"
   },
   {
    "duration": 23,
    "start_time": "2024-02-12T11:22:10.349Z"
   },
   {
    "duration": 4,
    "start_time": "2024-02-12T11:22:10.374Z"
   },
   {
    "duration": 222,
    "start_time": "2024-02-12T11:22:10.379Z"
   },
   {
    "duration": 2,
    "start_time": "2024-02-12T11:22:10.603Z"
   },
   {
    "duration": 279,
    "start_time": "2024-02-12T11:22:10.607Z"
   },
   {
    "duration": 10,
    "start_time": "2024-02-12T11:22:10.888Z"
   },
   {
    "duration": 7,
    "start_time": "2024-02-12T11:22:10.900Z"
   },
   {
    "duration": 269,
    "start_time": "2024-02-12T11:22:10.909Z"
   },
   {
    "duration": 285,
    "start_time": "2024-02-12T11:22:11.180Z"
   },
   {
    "duration": 14,
    "start_time": "2024-02-12T11:22:11.466Z"
   },
   {
    "duration": 21,
    "start_time": "2024-02-12T11:22:11.481Z"
   },
   {
    "duration": 10,
    "start_time": "2024-02-12T11:23:05.951Z"
   },
   {
    "duration": 119,
    "start_time": "2024-02-12T11:23:26.260Z"
   },
   {
    "duration": 102,
    "start_time": "2024-02-12T11:23:31.124Z"
   },
   {
    "duration": 176,
    "start_time": "2024-02-12T11:26:20.577Z"
   },
   {
    "duration": 145,
    "start_time": "2024-02-12T11:27:28.768Z"
   },
   {
    "duration": 120,
    "start_time": "2024-02-12T11:27:46.409Z"
   },
   {
    "duration": 109,
    "start_time": "2024-02-12T11:28:20.069Z"
   },
   {
    "duration": 12,
    "start_time": "2024-02-12T11:35:42.433Z"
   },
   {
    "duration": 129,
    "start_time": "2024-02-12T11:36:01.687Z"
   },
   {
    "duration": 122,
    "start_time": "2024-02-12T11:37:30.429Z"
   },
   {
    "duration": 115,
    "start_time": "2024-02-12T11:37:54.177Z"
   },
   {
    "duration": 212,
    "start_time": "2024-02-12T11:37:58.409Z"
   },
   {
    "duration": 214,
    "start_time": "2024-02-12T11:38:07.543Z"
   },
   {
    "duration": 215,
    "start_time": "2024-02-12T11:42:34.122Z"
   },
   {
    "duration": 229,
    "start_time": "2024-02-12T11:42:58.191Z"
   },
   {
    "duration": 247,
    "start_time": "2024-02-12T11:43:11.629Z"
   },
   {
    "duration": 229,
    "start_time": "2024-02-12T11:43:53.454Z"
   },
   {
    "duration": 322,
    "start_time": "2024-02-12T11:44:00.669Z"
   },
   {
    "duration": 253,
    "start_time": "2024-02-12T11:44:12.800Z"
   },
   {
    "duration": 247,
    "start_time": "2024-02-12T11:44:37.705Z"
   },
   {
    "duration": 233,
    "start_time": "2024-02-12T11:44:46.226Z"
   },
   {
    "duration": 230,
    "start_time": "2024-02-12T11:45:04.815Z"
   },
   {
    "duration": 641,
    "start_time": "2024-02-12T11:45:10.285Z"
   },
   {
    "duration": 25,
    "start_time": "2024-02-12T11:45:10.927Z"
   },
   {
    "duration": 25,
    "start_time": "2024-02-12T11:45:10.953Z"
   },
   {
    "duration": 13,
    "start_time": "2024-02-12T11:45:10.979Z"
   },
   {
    "duration": 18,
    "start_time": "2024-02-12T11:45:10.994Z"
   },
   {
    "duration": 65,
    "start_time": "2024-02-12T11:45:11.013Z"
   },
   {
    "duration": 12,
    "start_time": "2024-02-12T11:45:11.079Z"
   },
   {
    "duration": 18,
    "start_time": "2024-02-12T11:45:11.092Z"
   },
   {
    "duration": 6,
    "start_time": "2024-02-12T11:45:11.112Z"
   },
   {
    "duration": 8,
    "start_time": "2024-02-12T11:45:11.119Z"
   },
   {
    "duration": 292,
    "start_time": "2024-02-12T11:45:11.128Z"
   },
   {
    "duration": 12,
    "start_time": "2024-02-12T11:45:11.421Z"
   },
   {
    "duration": 56,
    "start_time": "2024-02-12T11:45:11.435Z"
   },
   {
    "duration": 18,
    "start_time": "2024-02-12T11:45:11.493Z"
   },
   {
    "duration": 3,
    "start_time": "2024-02-12T11:45:11.512Z"
   },
   {
    "duration": 200,
    "start_time": "2024-02-12T11:45:11.517Z"
   },
   {
    "duration": 3,
    "start_time": "2024-02-12T11:45:11.718Z"
   },
   {
    "duration": 309,
    "start_time": "2024-02-12T11:45:11.722Z"
   },
   {
    "duration": 8,
    "start_time": "2024-02-12T11:45:12.033Z"
   },
   {
    "duration": 25,
    "start_time": "2024-02-12T11:45:12.043Z"
   },
   {
    "duration": 241,
    "start_time": "2024-02-12T11:45:12.069Z"
   },
   {
    "duration": 270,
    "start_time": "2024-02-12T11:45:12.311Z"
   },
   {
    "duration": 14,
    "start_time": "2024-02-12T11:45:12.583Z"
   },
   {
    "duration": 235,
    "start_time": "2024-02-12T11:45:12.599Z"
   },
   {
    "duration": 11,
    "start_time": "2024-02-12T11:45:12.836Z"
   },
   {
    "duration": 617,
    "start_time": "2024-02-12T11:45:41.902Z"
   },
   {
    "duration": 25,
    "start_time": "2024-02-12T11:45:42.521Z"
   },
   {
    "duration": 14,
    "start_time": "2024-02-12T11:45:42.548Z"
   },
   {
    "duration": 16,
    "start_time": "2024-02-12T11:45:42.564Z"
   },
   {
    "duration": 21,
    "start_time": "2024-02-12T11:45:42.582Z"
   },
   {
    "duration": 50,
    "start_time": "2024-02-12T11:45:42.604Z"
   },
   {
    "duration": 21,
    "start_time": "2024-02-12T11:45:42.656Z"
   },
   {
    "duration": 14,
    "start_time": "2024-02-12T11:45:42.679Z"
   },
   {
    "duration": 11,
    "start_time": "2024-02-12T11:45:42.695Z"
   },
   {
    "duration": 28,
    "start_time": "2024-02-12T11:45:42.707Z"
   },
   {
    "duration": 299,
    "start_time": "2024-02-12T11:45:42.736Z"
   },
   {
    "duration": 12,
    "start_time": "2024-02-12T11:45:43.037Z"
   },
   {
    "duration": 55,
    "start_time": "2024-02-12T11:45:43.050Z"
   },
   {
    "duration": 17,
    "start_time": "2024-02-12T11:45:43.108Z"
   },
   {
    "duration": 4,
    "start_time": "2024-02-12T11:45:43.126Z"
   },
   {
    "duration": 186,
    "start_time": "2024-02-12T11:45:43.132Z"
   },
   {
    "duration": 2,
    "start_time": "2024-02-12T11:45:43.319Z"
   },
   {
    "duration": 273,
    "start_time": "2024-02-12T11:45:43.323Z"
   },
   {
    "duration": 9,
    "start_time": "2024-02-12T11:45:43.597Z"
   },
   {
    "duration": 7,
    "start_time": "2024-02-12T11:45:43.608Z"
   },
   {
    "duration": 296,
    "start_time": "2024-02-12T11:45:43.617Z"
   },
   {
    "duration": 269,
    "start_time": "2024-02-12T11:45:43.914Z"
   },
   {
    "duration": 13,
    "start_time": "2024-02-12T11:45:44.185Z"
   },
   {
    "duration": 141,
    "start_time": "2024-02-12T11:45:44.199Z"
   },
   {
    "duration": 135,
    "start_time": "2024-02-12T11:45:44.341Z"
   },
   {
    "duration": 13,
    "start_time": "2024-02-12T11:45:44.479Z"
   },
   {
    "duration": 126,
    "start_time": "2024-02-12T11:46:06.666Z"
   },
   {
    "duration": 123,
    "start_time": "2024-02-12T11:46:10.154Z"
   },
   {
    "duration": 118,
    "start_time": "2024-02-12T11:47:25.076Z"
   },
   {
    "duration": 610,
    "start_time": "2024-02-12T11:47:29.493Z"
   },
   {
    "duration": 25,
    "start_time": "2024-02-12T11:47:30.104Z"
   },
   {
    "duration": 47,
    "start_time": "2024-02-12T11:47:30.131Z"
   },
   {
    "duration": 41,
    "start_time": "2024-02-12T11:47:30.180Z"
   },
   {
    "duration": 50,
    "start_time": "2024-02-12T11:47:30.223Z"
   },
   {
    "duration": 111,
    "start_time": "2024-02-12T11:47:30.275Z"
   },
   {
    "duration": 25,
    "start_time": "2024-02-12T11:47:30.388Z"
   },
   {
    "duration": 33,
    "start_time": "2024-02-12T11:47:30.415Z"
   },
   {
    "duration": 33,
    "start_time": "2024-02-12T11:47:30.449Z"
   },
   {
    "duration": 43,
    "start_time": "2024-02-12T11:47:30.486Z"
   },
   {
    "duration": 318,
    "start_time": "2024-02-12T11:47:30.530Z"
   },
   {
    "duration": 27,
    "start_time": "2024-02-12T11:47:30.850Z"
   },
   {
    "duration": 64,
    "start_time": "2024-02-12T11:47:30.879Z"
   },
   {
    "duration": 46,
    "start_time": "2024-02-12T11:47:30.944Z"
   },
   {
    "duration": 44,
    "start_time": "2024-02-12T11:47:30.992Z"
   },
   {
    "duration": 280,
    "start_time": "2024-02-12T11:47:31.037Z"
   },
   {
    "duration": 3,
    "start_time": "2024-02-12T11:47:31.319Z"
   },
   {
    "duration": 282,
    "start_time": "2024-02-12T11:47:31.324Z"
   },
   {
    "duration": 8,
    "start_time": "2024-02-12T11:47:31.608Z"
   },
   {
    "duration": 35,
    "start_time": "2024-02-12T11:47:31.618Z"
   },
   {
    "duration": 314,
    "start_time": "2024-02-12T11:47:31.655Z"
   },
   {
    "duration": 298,
    "start_time": "2024-02-12T11:47:31.972Z"
   },
   {
    "duration": 15,
    "start_time": "2024-02-12T11:47:32.272Z"
   },
   {
    "duration": 141,
    "start_time": "2024-02-12T11:47:32.288Z"
   },
   {
    "duration": 111,
    "start_time": "2024-02-12T11:47:32.430Z"
   },
   {
    "duration": 11,
    "start_time": "2024-02-12T11:47:32.542Z"
   },
   {
    "duration": 646,
    "start_time": "2024-02-12T11:47:40.533Z"
   },
   {
    "duration": 25,
    "start_time": "2024-02-12T11:47:41.181Z"
   },
   {
    "duration": 14,
    "start_time": "2024-02-12T11:47:41.208Z"
   },
   {
    "duration": 12,
    "start_time": "2024-02-12T11:47:41.224Z"
   },
   {
    "duration": 11,
    "start_time": "2024-02-12T11:47:41.237Z"
   },
   {
    "duration": 50,
    "start_time": "2024-02-12T11:47:41.249Z"
   },
   {
    "duration": 10,
    "start_time": "2024-02-12T11:47:41.301Z"
   },
   {
    "duration": 12,
    "start_time": "2024-02-12T11:47:41.312Z"
   },
   {
    "duration": 7,
    "start_time": "2024-02-12T11:47:41.325Z"
   },
   {
    "duration": 7,
    "start_time": "2024-02-12T11:47:41.335Z"
   },
   {
    "duration": 279,
    "start_time": "2024-02-12T11:47:41.344Z"
   },
   {
    "duration": 14,
    "start_time": "2024-02-12T11:47:41.625Z"
   },
   {
    "duration": 42,
    "start_time": "2024-02-12T11:47:41.641Z"
   },
   {
    "duration": 18,
    "start_time": "2024-02-12T11:47:41.685Z"
   },
   {
    "duration": 3,
    "start_time": "2024-02-12T11:47:41.705Z"
   },
   {
    "duration": 207,
    "start_time": "2024-02-12T11:47:41.710Z"
   },
   {
    "duration": 2,
    "start_time": "2024-02-12T11:47:41.919Z"
   },
   {
    "duration": 289,
    "start_time": "2024-02-12T11:47:41.923Z"
   },
   {
    "duration": 8,
    "start_time": "2024-02-12T11:47:42.214Z"
   },
   {
    "duration": 14,
    "start_time": "2024-02-12T11:47:42.223Z"
   },
   {
    "duration": 266,
    "start_time": "2024-02-12T11:47:42.238Z"
   },
   {
    "duration": 264,
    "start_time": "2024-02-12T11:47:42.506Z"
   },
   {
    "duration": 16,
    "start_time": "2024-02-12T11:47:42.774Z"
   },
   {
    "duration": 130,
    "start_time": "2024-02-12T11:47:42.791Z"
   },
   {
    "duration": 118,
    "start_time": "2024-02-12T11:47:42.922Z"
   },
   {
    "duration": 35,
    "start_time": "2024-02-12T11:47:43.042Z"
   },
   {
    "duration": 133,
    "start_time": "2024-02-12T11:47:58.978Z"
   },
   {
    "duration": 121,
    "start_time": "2024-02-12T11:48:04.788Z"
   },
   {
    "duration": 123,
    "start_time": "2024-02-12T11:48:15.947Z"
   },
   {
    "duration": 130,
    "start_time": "2024-02-12T11:53:58.020Z"
   },
   {
    "duration": 206,
    "start_time": "2024-02-12T11:54:09.036Z"
   },
   {
    "duration": 140,
    "start_time": "2024-02-12T11:54:22.082Z"
   },
   {
    "duration": 305,
    "start_time": "2024-02-12T11:54:35.437Z"
   },
   {
    "duration": 282,
    "start_time": "2024-02-12T11:54:43.847Z"
   },
   {
    "duration": 9,
    "start_time": "2024-02-12T12:08:31.475Z"
   },
   {
    "duration": 15,
    "start_time": "2024-02-12T12:08:37.165Z"
   },
   {
    "duration": 8,
    "start_time": "2024-02-12T12:09:16.845Z"
   },
   {
    "duration": 9,
    "start_time": "2024-02-12T12:09:23.634Z"
   },
   {
    "duration": 9,
    "start_time": "2024-02-12T12:09:39.993Z"
   },
   {
    "duration": 8,
    "start_time": "2024-02-12T12:12:16.889Z"
   },
   {
    "duration": 8,
    "start_time": "2024-02-12T12:12:25.381Z"
   },
   {
    "duration": 4,
    "start_time": "2024-02-12T12:15:14.448Z"
   },
   {
    "duration": 8,
    "start_time": "2024-02-12T12:15:16.910Z"
   },
   {
    "duration": 8,
    "start_time": "2024-02-12T12:15:21.658Z"
   },
   {
    "duration": 8,
    "start_time": "2024-02-12T12:15:24.896Z"
   },
   {
    "duration": 22,
    "start_time": "2024-02-12T13:16:17.211Z"
   },
   {
    "duration": 115,
    "start_time": "2024-02-12T13:17:17.804Z"
   },
   {
    "duration": 8,
    "start_time": "2024-02-12T13:17:35.743Z"
   },
   {
    "duration": 15,
    "start_time": "2024-02-12T13:20:41.965Z"
   },
   {
    "duration": 25,
    "start_time": "2024-02-12T13:21:01.257Z"
   },
   {
    "duration": 9,
    "start_time": "2024-02-12T14:07:05.104Z"
   },
   {
    "duration": 7,
    "start_time": "2024-02-12T14:07:08.677Z"
   },
   {
    "duration": 14,
    "start_time": "2024-02-12T14:07:11.561Z"
   },
   {
    "duration": 13,
    "start_time": "2024-02-12T14:07:30.266Z"
   },
   {
    "duration": 70,
    "start_time": "2024-02-12T14:08:46.610Z"
   },
   {
    "duration": 5,
    "start_time": "2024-02-12T14:08:51.456Z"
   },
   {
    "duration": 13,
    "start_time": "2024-02-12T14:09:25.347Z"
   },
   {
    "duration": 129,
    "start_time": "2024-02-12T14:09:39.238Z"
   },
   {
    "duration": 126,
    "start_time": "2024-02-12T14:10:00.816Z"
   },
   {
    "duration": 119,
    "start_time": "2024-02-12T14:10:09.003Z"
   },
   {
    "duration": 135,
    "start_time": "2024-02-12T14:10:15.911Z"
   },
   {
    "duration": 117,
    "start_time": "2024-02-12T14:10:20.853Z"
   },
   {
    "duration": 126,
    "start_time": "2024-02-12T14:10:26.047Z"
   },
   {
    "duration": 8,
    "start_time": "2024-02-12T14:10:42.890Z"
   },
   {
    "duration": 134,
    "start_time": "2024-02-12T14:10:56.054Z"
   },
   {
    "duration": 210,
    "start_time": "2024-02-12T14:11:05.722Z"
   },
   {
    "duration": 122,
    "start_time": "2024-02-12T14:14:48.127Z"
   },
   {
    "duration": 132,
    "start_time": "2024-02-12T14:15:36.377Z"
   },
   {
    "duration": 82,
    "start_time": "2024-02-12T14:31:09.389Z"
   },
   {
    "duration": 5,
    "start_time": "2024-02-12T14:31:20.218Z"
   },
   {
    "duration": 5,
    "start_time": "2024-02-12T15:13:55.213Z"
   },
   {
    "duration": 4,
    "start_time": "2024-02-12T15:14:07.448Z"
   },
   {
    "duration": 4,
    "start_time": "2024-02-12T15:14:20.538Z"
   },
   {
    "duration": 17,
    "start_time": "2024-02-12T15:18:01.821Z"
   },
   {
    "duration": 26,
    "start_time": "2024-02-12T15:18:32.275Z"
   },
   {
    "duration": 319,
    "start_time": "2024-02-13T03:41:38.992Z"
   },
   {
    "duration": 14,
    "start_time": "2024-02-13T03:41:45.257Z"
   },
   {
    "duration": 1092,
    "start_time": "2024-02-13T03:43:26.835Z"
   },
   {
    "duration": 28,
    "start_time": "2024-02-13T03:43:27.928Z"
   },
   {
    "duration": 15,
    "start_time": "2024-02-13T03:43:27.957Z"
   },
   {
    "duration": 11,
    "start_time": "2024-02-13T03:43:27.973Z"
   },
   {
    "duration": 10,
    "start_time": "2024-02-13T03:43:27.986Z"
   },
   {
    "duration": 52,
    "start_time": "2024-02-13T03:43:27.997Z"
   },
   {
    "duration": 11,
    "start_time": "2024-02-13T03:43:28.050Z"
   },
   {
    "duration": 10,
    "start_time": "2024-02-13T03:43:28.062Z"
   },
   {
    "duration": 6,
    "start_time": "2024-02-13T03:43:28.073Z"
   },
   {
    "duration": 6,
    "start_time": "2024-02-13T03:43:28.081Z"
   },
   {
    "duration": 293,
    "start_time": "2024-02-13T03:43:28.088Z"
   },
   {
    "duration": 10,
    "start_time": "2024-02-13T03:43:28.383Z"
   },
   {
    "duration": 31,
    "start_time": "2024-02-13T03:43:28.394Z"
   },
   {
    "duration": 17,
    "start_time": "2024-02-13T03:43:28.427Z"
   },
   {
    "duration": 3,
    "start_time": "2024-02-13T03:43:28.445Z"
   },
   {
    "duration": 193,
    "start_time": "2024-02-13T03:43:28.449Z"
   },
   {
    "duration": 2,
    "start_time": "2024-02-13T03:43:28.644Z"
   },
   {
    "duration": 304,
    "start_time": "2024-02-13T03:43:28.647Z"
   },
   {
    "duration": 17,
    "start_time": "2024-02-13T03:43:28.953Z"
   },
   {
    "duration": 7,
    "start_time": "2024-02-13T03:43:28.972Z"
   },
   {
    "duration": 198,
    "start_time": "2024-02-13T03:43:28.980Z"
   },
   {
    "duration": 295,
    "start_time": "2024-02-13T03:43:29.180Z"
   },
   {
    "duration": 267,
    "start_time": "2024-02-13T03:43:29.476Z"
   },
   {
    "duration": 8,
    "start_time": "2024-02-13T03:43:29.744Z"
   },
   {
    "duration": 134,
    "start_time": "2024-02-13T03:43:29.764Z"
   },
   {
    "duration": 4,
    "start_time": "2024-02-13T03:43:29.900Z"
   },
   {
    "duration": 13,
    "start_time": "2024-02-13T03:43:29.905Z"
   },
   {
    "duration": 65,
    "start_time": "2024-02-13T03:43:29.919Z"
   },
   {
    "duration": 21,
    "start_time": "2024-02-13T04:11:45.404Z"
   },
   {
    "duration": 19,
    "start_time": "2024-02-13T04:11:59.523Z"
   },
   {
    "duration": 19,
    "start_time": "2024-02-13T04:12:11.299Z"
   },
   {
    "duration": 14,
    "start_time": "2024-02-13T04:12:35.803Z"
   },
   {
    "duration": 5,
    "start_time": "2024-02-13T04:13:09.502Z"
   },
   {
    "duration": 16,
    "start_time": "2024-02-13T04:13:17.049Z"
   },
   {
    "duration": 14,
    "start_time": "2024-02-13T04:13:31.524Z"
   },
   {
    "duration": 52,
    "start_time": "2024-02-13T04:16:57.110Z"
   },
   {
    "duration": 1021,
    "start_time": "2024-02-13T04:17:02.091Z"
   },
   {
    "duration": 26,
    "start_time": "2024-02-13T04:17:03.113Z"
   },
   {
    "duration": 15,
    "start_time": "2024-02-13T04:17:03.141Z"
   },
   {
    "duration": 11,
    "start_time": "2024-02-13T04:17:03.157Z"
   },
   {
    "duration": 18,
    "start_time": "2024-02-13T04:17:03.171Z"
   },
   {
    "duration": 58,
    "start_time": "2024-02-13T04:17:03.190Z"
   },
   {
    "duration": 10,
    "start_time": "2024-02-13T04:17:03.250Z"
   },
   {
    "duration": 24,
    "start_time": "2024-02-13T04:17:03.261Z"
   },
   {
    "duration": 16,
    "start_time": "2024-02-13T04:17:03.287Z"
   },
   {
    "duration": 30,
    "start_time": "2024-02-13T04:17:03.305Z"
   },
   {
    "duration": 269,
    "start_time": "2024-02-13T04:17:03.337Z"
   },
   {
    "duration": 12,
    "start_time": "2024-02-13T04:17:03.608Z"
   },
   {
    "duration": 16,
    "start_time": "2024-02-13T04:17:03.621Z"
   },
   {
    "duration": 39,
    "start_time": "2024-02-13T04:17:03.640Z"
   },
   {
    "duration": 4,
    "start_time": "2024-02-13T04:17:03.680Z"
   },
   {
    "duration": 195,
    "start_time": "2024-02-13T04:17:03.685Z"
   },
   {
    "duration": 3,
    "start_time": "2024-02-13T04:17:03.881Z"
   },
   {
    "duration": 284,
    "start_time": "2024-02-13T04:17:03.885Z"
   },
   {
    "duration": 8,
    "start_time": "2024-02-13T04:17:04.170Z"
   },
   {
    "duration": 6,
    "start_time": "2024-02-13T04:17:04.180Z"
   },
   {
    "duration": 202,
    "start_time": "2024-02-13T04:17:04.188Z"
   },
   {
    "duration": 266,
    "start_time": "2024-02-13T04:17:04.391Z"
   },
   {
    "duration": 270,
    "start_time": "2024-02-13T04:17:04.664Z"
   },
   {
    "duration": 8,
    "start_time": "2024-02-13T04:17:04.936Z"
   },
   {
    "duration": 142,
    "start_time": "2024-02-13T04:17:04.946Z"
   },
   {
    "duration": 4,
    "start_time": "2024-02-13T04:17:05.090Z"
   },
   {
    "duration": 16,
    "start_time": "2024-02-13T04:17:05.096Z"
   },
   {
    "duration": 67,
    "start_time": "2024-02-13T04:17:05.113Z"
   },
   {
    "duration": 127,
    "start_time": "2024-02-13T04:17:10.042Z"
   },
   {
    "duration": 38,
    "start_time": "2024-02-13T04:17:17.064Z"
   },
   {
    "duration": 47,
    "start_time": "2024-02-13T04:17:31.781Z"
   },
   {
    "duration": 10,
    "start_time": "2024-02-13T04:23:11.886Z"
   },
   {
    "duration": 11,
    "start_time": "2024-02-13T04:23:30.684Z"
   },
   {
    "duration": 10,
    "start_time": "2024-02-13T04:28:33.218Z"
   },
   {
    "duration": 11,
    "start_time": "2024-02-13T04:29:01.924Z"
   },
   {
    "duration": 2,
    "start_time": "2024-02-13T04:29:07.806Z"
   },
   {
    "duration": 10,
    "start_time": "2024-02-13T04:29:17.529Z"
   },
   {
    "duration": 1138,
    "start_time": "2024-02-13T04:30:46.335Z"
   },
   {
    "duration": 1101,
    "start_time": "2024-02-13T04:31:32.911Z"
   },
   {
    "duration": 9,
    "start_time": "2024-02-13T04:31:58.505Z"
   },
   {
    "duration": 1255,
    "start_time": "2024-02-13T04:32:07.975Z"
   },
   {
    "duration": 14,
    "start_time": "2024-02-13T04:33:38.148Z"
   },
   {
    "duration": 7,
    "start_time": "2024-02-13T04:34:57.698Z"
   },
   {
    "duration": 11,
    "start_time": "2024-02-13T04:35:55.865Z"
   },
   {
    "duration": 5,
    "start_time": "2024-02-13T04:35:58.608Z"
   },
   {
    "duration": 3,
    "start_time": "2024-02-13T04:36:06.849Z"
   },
   {
    "duration": 7,
    "start_time": "2024-02-13T04:36:08.186Z"
   },
   {
    "duration": 247,
    "start_time": "2024-02-13T04:36:20.298Z"
   },
   {
    "duration": 12,
    "start_time": "2024-02-13T04:36:23.651Z"
   },
   {
    "duration": 4,
    "start_time": "2024-02-13T04:37:09.502Z"
   },
   {
    "duration": 4,
    "start_time": "2024-02-13T04:37:14.616Z"
   },
   {
    "duration": 3,
    "start_time": "2024-02-13T04:37:27.306Z"
   },
   {
    "duration": 11,
    "start_time": "2024-02-13T04:37:27.440Z"
   },
   {
    "duration": 5,
    "start_time": "2024-02-13T04:37:38.509Z"
   },
   {
    "duration": 10,
    "start_time": "2024-02-13T04:38:54.819Z"
   },
   {
    "duration": 3,
    "start_time": "2024-02-13T04:39:27.802Z"
   },
   {
    "duration": 9,
    "start_time": "2024-02-13T04:39:45.488Z"
   },
   {
    "duration": 10,
    "start_time": "2024-02-13T04:40:09.027Z"
   },
   {
    "duration": 9,
    "start_time": "2024-02-13T04:40:20.738Z"
   },
   {
    "duration": 10,
    "start_time": "2024-02-13T04:40:43.798Z"
   },
   {
    "duration": 8,
    "start_time": "2024-02-13T04:41:13.375Z"
   },
   {
    "duration": 11,
    "start_time": "2024-02-13T04:41:21.170Z"
   },
   {
    "duration": 9,
    "start_time": "2024-02-13T04:41:25.052Z"
   },
   {
    "duration": 75,
    "start_time": "2024-02-13T04:42:26.138Z"
   },
   {
    "duration": 8,
    "start_time": "2024-02-13T04:42:34.078Z"
   },
   {
    "duration": 9,
    "start_time": "2024-02-13T04:42:41.619Z"
   },
   {
    "duration": 8,
    "start_time": "2024-02-13T04:42:46.803Z"
   },
   {
    "duration": 7,
    "start_time": "2024-02-13T04:42:53.725Z"
   },
   {
    "duration": 10,
    "start_time": "2024-02-13T04:43:49.002Z"
   },
   {
    "duration": 11,
    "start_time": "2024-02-13T04:44:39.804Z"
   },
   {
    "duration": 18,
    "start_time": "2024-02-13T04:44:50.866Z"
   },
   {
    "duration": 8,
    "start_time": "2024-02-13T04:45:44.838Z"
   },
   {
    "duration": 4,
    "start_time": "2024-02-13T04:45:51.284Z"
   },
   {
    "duration": 4,
    "start_time": "2024-02-13T04:46:12.438Z"
   },
   {
    "duration": 13,
    "start_time": "2024-02-13T04:46:40.439Z"
   },
   {
    "duration": 12,
    "start_time": "2024-02-13T04:46:44.731Z"
   },
   {
    "duration": 6,
    "start_time": "2024-02-13T04:47:55.807Z"
   },
   {
    "duration": 14,
    "start_time": "2024-02-13T04:49:45.378Z"
   },
   {
    "duration": 11,
    "start_time": "2024-02-13T04:49:51.010Z"
   },
   {
    "duration": 14,
    "start_time": "2024-02-13T04:50:08.620Z"
   },
   {
    "duration": 2,
    "start_time": "2024-02-13T04:50:27.028Z"
   },
   {
    "duration": 1094,
    "start_time": "2024-02-13T04:50:27.170Z"
   },
   {
    "duration": 2,
    "start_time": "2024-02-13T04:51:21.902Z"
   },
   {
    "duration": 8,
    "start_time": "2024-02-13T04:51:22.025Z"
   },
   {
    "duration": 7,
    "start_time": "2024-02-13T04:51:54.010Z"
   },
   {
    "duration": 6,
    "start_time": "2024-02-13T05:11:57.393Z"
   },
   {
    "duration": 6,
    "start_time": "2024-02-13T05:12:19.552Z"
   },
   {
    "duration": 30,
    "start_time": "2024-02-13T05:12:32.661Z"
   },
   {
    "duration": 1157,
    "start_time": "2024-02-13T05:12:42.908Z"
   },
   {
    "duration": 1156,
    "start_time": "2024-02-13T05:12:56.434Z"
   },
   {
    "duration": 1352,
    "start_time": "2024-02-13T05:13:15.820Z"
   },
   {
    "duration": 1591,
    "start_time": "2024-02-13T05:13:25.854Z"
   },
   {
    "duration": 15,
    "start_time": "2024-02-13T05:13:43.645Z"
   },
   {
    "duration": 1083,
    "start_time": "2024-02-13T05:27:58.134Z"
   },
   {
    "duration": 27,
    "start_time": "2024-02-13T05:27:59.218Z"
   },
   {
    "duration": 15,
    "start_time": "2024-02-13T05:27:59.246Z"
   },
   {
    "duration": 10,
    "start_time": "2024-02-13T05:27:59.263Z"
   },
   {
    "duration": 12,
    "start_time": "2024-02-13T05:27:59.275Z"
   },
   {
    "duration": 49,
    "start_time": "2024-02-13T05:27:59.288Z"
   },
   {
    "duration": 10,
    "start_time": "2024-02-13T05:27:59.339Z"
   },
   {
    "duration": 11,
    "start_time": "2024-02-13T05:27:59.350Z"
   },
   {
    "duration": 5,
    "start_time": "2024-02-13T05:27:59.364Z"
   },
   {
    "duration": 9,
    "start_time": "2024-02-13T05:27:59.370Z"
   },
   {
    "duration": 270,
    "start_time": "2024-02-13T05:27:59.380Z"
   },
   {
    "duration": 14,
    "start_time": "2024-02-13T05:27:59.652Z"
   },
   {
    "duration": 18,
    "start_time": "2024-02-13T05:27:59.667Z"
   },
   {
    "duration": 19,
    "start_time": "2024-02-13T05:27:59.686Z"
   },
   {
    "duration": 3,
    "start_time": "2024-02-13T05:27:59.707Z"
   },
   {
    "duration": 193,
    "start_time": "2024-02-13T05:27:59.712Z"
   },
   {
    "duration": 2,
    "start_time": "2024-02-13T05:27:59.907Z"
   },
   {
    "duration": 275,
    "start_time": "2024-02-13T05:27:59.910Z"
   },
   {
    "duration": 8,
    "start_time": "2024-02-13T05:28:00.187Z"
   },
   {
    "duration": 37,
    "start_time": "2024-02-13T05:28:00.196Z"
   },
   {
    "duration": 202,
    "start_time": "2024-02-13T05:28:00.234Z"
   },
   {
    "duration": 309,
    "start_time": "2024-02-13T05:28:00.438Z"
   },
   {
    "duration": 282,
    "start_time": "2024-02-13T05:28:00.749Z"
   },
   {
    "duration": 9,
    "start_time": "2024-02-13T05:28:01.033Z"
   },
   {
    "duration": 177,
    "start_time": "2024-02-13T05:28:01.043Z"
   },
   {
    "duration": 5,
    "start_time": "2024-02-13T05:28:01.221Z"
   },
   {
    "duration": 65,
    "start_time": "2024-02-13T05:28:01.230Z"
   },
   {
    "duration": 109,
    "start_time": "2024-02-13T05:28:01.297Z"
   },
   {
    "duration": 59,
    "start_time": "2024-02-13T05:28:01.407Z"
   },
   {
    "duration": 24,
    "start_time": "2024-02-13T05:28:01.468Z"
   },
   {
    "duration": 37,
    "start_time": "2024-02-13T05:28:01.494Z"
   },
   {
    "duration": 0,
    "start_time": "2024-02-13T05:28:01.533Z"
   },
   {
    "duration": 29,
    "start_time": "2024-02-13T05:28:10.331Z"
   },
   {
    "duration": 6,
    "start_time": "2024-02-13T05:28:10.949Z"
   },
   {
    "duration": 16,
    "start_time": "2024-02-13T05:28:13.780Z"
   },
   {
    "duration": 1102,
    "start_time": "2024-02-13T05:28:49.951Z"
   },
   {
    "duration": 26,
    "start_time": "2024-02-13T05:28:51.055Z"
   },
   {
    "duration": 15,
    "start_time": "2024-02-13T05:28:51.083Z"
   },
   {
    "duration": 12,
    "start_time": "2024-02-13T05:28:51.100Z"
   },
   {
    "duration": 10,
    "start_time": "2024-02-13T05:28:51.114Z"
   },
   {
    "duration": 55,
    "start_time": "2024-02-13T05:28:51.126Z"
   },
   {
    "duration": 10,
    "start_time": "2024-02-13T05:28:51.182Z"
   },
   {
    "duration": 12,
    "start_time": "2024-02-13T05:28:51.194Z"
   },
   {
    "duration": 13,
    "start_time": "2024-02-13T05:28:51.208Z"
   },
   {
    "duration": 6,
    "start_time": "2024-02-13T05:28:51.223Z"
   },
   {
    "duration": 274,
    "start_time": "2024-02-13T05:28:51.230Z"
   },
   {
    "duration": 11,
    "start_time": "2024-02-13T05:28:51.506Z"
   },
   {
    "duration": 16,
    "start_time": "2024-02-13T05:28:51.519Z"
   },
   {
    "duration": 37,
    "start_time": "2024-02-13T05:28:51.539Z"
   },
   {
    "duration": 4,
    "start_time": "2024-02-13T05:28:51.578Z"
   },
   {
    "duration": 207,
    "start_time": "2024-02-13T05:28:51.584Z"
   },
   {
    "duration": 3,
    "start_time": "2024-02-13T05:28:51.793Z"
   },
   {
    "duration": 270,
    "start_time": "2024-02-13T05:28:51.797Z"
   },
   {
    "duration": 8,
    "start_time": "2024-02-13T05:28:52.068Z"
   },
   {
    "duration": 6,
    "start_time": "2024-02-13T05:28:52.077Z"
   },
   {
    "duration": 203,
    "start_time": "2024-02-13T05:28:52.084Z"
   },
   {
    "duration": 281,
    "start_time": "2024-02-13T05:28:52.289Z"
   },
   {
    "duration": 259,
    "start_time": "2024-02-13T05:28:52.572Z"
   },
   {
    "duration": 8,
    "start_time": "2024-02-13T05:28:52.833Z"
   },
   {
    "duration": 143,
    "start_time": "2024-02-13T05:28:52.843Z"
   },
   {
    "duration": 3,
    "start_time": "2024-02-13T05:28:52.988Z"
   },
   {
    "duration": 16,
    "start_time": "2024-02-13T05:28:52.992Z"
   },
   {
    "duration": 56,
    "start_time": "2024-02-13T05:28:53.010Z"
   },
   {
    "duration": 9,
    "start_time": "2024-02-13T05:28:53.067Z"
   },
   {
    "duration": 8,
    "start_time": "2024-02-13T05:28:53.078Z"
   },
   {
    "duration": 27,
    "start_time": "2024-02-13T05:28:53.087Z"
   },
   {
    "duration": 14,
    "start_time": "2024-02-13T05:28:53.115Z"
   },
   {
    "duration": 1028,
    "start_time": "2024-02-13T05:30:36.409Z"
   },
   {
    "duration": 26,
    "start_time": "2024-02-13T05:30:37.439Z"
   },
   {
    "duration": 15,
    "start_time": "2024-02-13T05:30:37.467Z"
   },
   {
    "duration": 11,
    "start_time": "2024-02-13T05:30:37.484Z"
   },
   {
    "duration": 10,
    "start_time": "2024-02-13T05:30:37.497Z"
   },
   {
    "duration": 57,
    "start_time": "2024-02-13T05:30:37.508Z"
   },
   {
    "duration": 10,
    "start_time": "2024-02-13T05:30:37.567Z"
   },
   {
    "duration": 9,
    "start_time": "2024-02-13T05:30:37.578Z"
   },
   {
    "duration": 6,
    "start_time": "2024-02-13T05:30:37.588Z"
   },
   {
    "duration": 10,
    "start_time": "2024-02-13T05:30:37.595Z"
   },
   {
    "duration": 281,
    "start_time": "2024-02-13T05:30:37.607Z"
   },
   {
    "duration": 11,
    "start_time": "2024-02-13T05:30:37.890Z"
   },
   {
    "duration": 14,
    "start_time": "2024-02-13T05:30:37.903Z"
   },
   {
    "duration": 16,
    "start_time": "2024-02-13T05:30:37.920Z"
   },
   {
    "duration": 3,
    "start_time": "2024-02-13T05:30:37.938Z"
   },
   {
    "duration": 187,
    "start_time": "2024-02-13T05:30:37.964Z"
   },
   {
    "duration": 2,
    "start_time": "2024-02-13T05:30:38.153Z"
   },
   {
    "duration": 301,
    "start_time": "2024-02-13T05:30:38.157Z"
   },
   {
    "duration": 8,
    "start_time": "2024-02-13T05:30:38.464Z"
   },
   {
    "duration": 19,
    "start_time": "2024-02-13T05:30:38.473Z"
   },
   {
    "duration": 200,
    "start_time": "2024-02-13T05:30:38.493Z"
   },
   {
    "duration": 292,
    "start_time": "2024-02-13T05:30:38.694Z"
   },
   {
    "duration": 275,
    "start_time": "2024-02-13T05:30:38.987Z"
   },
   {
    "duration": 8,
    "start_time": "2024-02-13T05:30:39.264Z"
   },
   {
    "duration": 159,
    "start_time": "2024-02-13T05:30:39.273Z"
   },
   {
    "duration": 4,
    "start_time": "2024-02-13T05:30:39.433Z"
   },
   {
    "duration": 29,
    "start_time": "2024-02-13T05:30:39.439Z"
   },
   {
    "duration": 43,
    "start_time": "2024-02-13T05:30:39.469Z"
   },
   {
    "duration": 10,
    "start_time": "2024-02-13T05:30:39.514Z"
   },
   {
    "duration": 19,
    "start_time": "2024-02-13T05:30:39.525Z"
   },
   {
    "duration": 54,
    "start_time": "2024-02-13T05:30:39.546Z"
   },
   {
    "duration": 15,
    "start_time": "2024-02-13T05:30:39.601Z"
   },
   {
    "duration": 2,
    "start_time": "2024-02-13T05:42:10.230Z"
   },
   {
    "duration": 1190,
    "start_time": "2024-02-13T06:17:44.206Z"
   },
   {
    "duration": 69,
    "start_time": "2024-02-13T06:17:45.404Z"
   },
   {
    "duration": 25,
    "start_time": "2024-02-13T06:17:45.475Z"
   },
   {
    "duration": 14,
    "start_time": "2024-02-13T06:17:45.502Z"
   },
   {
    "duration": 19,
    "start_time": "2024-02-13T06:17:45.519Z"
   },
   {
    "duration": 126,
    "start_time": "2024-02-13T06:17:45.540Z"
   },
   {
    "duration": 17,
    "start_time": "2024-02-13T06:17:45.667Z"
   },
   {
    "duration": 18,
    "start_time": "2024-02-13T06:17:45.686Z"
   },
   {
    "duration": 18,
    "start_time": "2024-02-13T06:17:45.706Z"
   },
   {
    "duration": 9,
    "start_time": "2024-02-13T06:17:45.726Z"
   },
   {
    "duration": 777,
    "start_time": "2024-02-13T06:17:45.737Z"
   },
   {
    "duration": 71,
    "start_time": "2024-02-13T06:17:46.517Z"
   },
   {
    "duration": 31,
    "start_time": "2024-02-13T06:17:46.591Z"
   },
   {
    "duration": 69,
    "start_time": "2024-02-13T06:17:46.626Z"
   },
   {
    "duration": 8,
    "start_time": "2024-02-13T06:17:46.697Z"
   },
   {
    "duration": 507,
    "start_time": "2024-02-13T06:17:46.707Z"
   },
   {
    "duration": 3,
    "start_time": "2024-02-13T06:17:47.216Z"
   },
   {
    "duration": 520,
    "start_time": "2024-02-13T06:17:47.221Z"
   },
   {
    "duration": 41,
    "start_time": "2024-02-13T06:17:47.743Z"
   },
   {
    "duration": 21,
    "start_time": "2024-02-13T06:17:47.786Z"
   },
   {
    "duration": 240,
    "start_time": "2024-02-13T06:17:47.809Z"
   },
   {
    "duration": 350,
    "start_time": "2024-02-13T06:17:48.051Z"
   },
   {
    "duration": 349,
    "start_time": "2024-02-13T06:17:48.403Z"
   },
   {
    "duration": 12,
    "start_time": "2024-02-13T06:17:48.754Z"
   },
   {
    "duration": 170,
    "start_time": "2024-02-13T06:17:48.781Z"
   },
   {
    "duration": 5,
    "start_time": "2024-02-13T06:17:48.953Z"
   },
   {
    "duration": 35,
    "start_time": "2024-02-13T06:17:48.959Z"
   },
   {
    "duration": 51,
    "start_time": "2024-02-13T06:17:48.996Z"
   },
   {
    "duration": 38,
    "start_time": "2024-02-13T06:17:49.049Z"
   },
   {
    "duration": 17,
    "start_time": "2024-02-13T06:17:49.091Z"
   },
   {
    "duration": 54,
    "start_time": "2024-02-13T06:17:49.111Z"
   },
   {
    "duration": 30,
    "start_time": "2024-02-13T06:17:49.167Z"
   },
   {
    "duration": 2,
    "start_time": "2024-02-13T06:17:49.199Z"
   },
   {
    "duration": 1227,
    "start_time": "2024-02-13T07:37:07.038Z"
   },
   {
    "duration": 69,
    "start_time": "2024-02-13T07:37:08.267Z"
   },
   {
    "duration": 122,
    "start_time": "2024-02-13T07:37:08.338Z"
   },
   {
    "duration": 11,
    "start_time": "2024-02-13T07:37:08.462Z"
   },
   {
    "duration": 17,
    "start_time": "2024-02-13T07:37:08.475Z"
   },
   {
    "duration": 9,
    "start_time": "2024-02-13T07:37:08.494Z"
   },
   {
    "duration": 40,
    "start_time": "2024-02-13T07:37:08.505Z"
   },
   {
    "duration": 13,
    "start_time": "2024-02-13T07:37:08.547Z"
   },
   {
    "duration": 25,
    "start_time": "2024-02-13T07:37:08.561Z"
   },
   {
    "duration": 31,
    "start_time": "2024-02-13T07:37:08.588Z"
   },
   {
    "duration": 10,
    "start_time": "2024-02-13T07:37:08.621Z"
   },
   {
    "duration": 24,
    "start_time": "2024-02-13T07:37:08.633Z"
   },
   {
    "duration": 69,
    "start_time": "2024-02-13T07:37:08.658Z"
   },
   {
    "duration": 39,
    "start_time": "2024-02-13T07:37:08.729Z"
   },
   {
    "duration": 315,
    "start_time": "2024-02-13T07:37:08.770Z"
   },
   {
    "duration": 17,
    "start_time": "2024-02-13T07:37:09.087Z"
   },
   {
    "duration": 21,
    "start_time": "2024-02-13T07:37:09.105Z"
   },
   {
    "duration": 29,
    "start_time": "2024-02-13T07:37:09.128Z"
   },
   {
    "duration": 20,
    "start_time": "2024-02-13T07:37:09.159Z"
   },
   {
    "duration": 207,
    "start_time": "2024-02-13T07:37:09.181Z"
   },
   {
    "duration": 5,
    "start_time": "2024-02-13T07:37:09.389Z"
   },
   {
    "duration": 342,
    "start_time": "2024-02-13T07:37:09.395Z"
   },
   {
    "duration": 8,
    "start_time": "2024-02-13T07:37:09.739Z"
   },
   {
    "duration": 14,
    "start_time": "2024-02-13T07:37:09.749Z"
   },
   {
    "duration": 214,
    "start_time": "2024-02-13T07:37:09.765Z"
   },
   {
    "duration": 300,
    "start_time": "2024-02-13T07:37:09.981Z"
   },
   {
    "duration": 288,
    "start_time": "2024-02-13T07:37:10.283Z"
   },
   {
    "duration": 8,
    "start_time": "2024-02-13T07:37:10.573Z"
   },
   {
    "duration": 153,
    "start_time": "2024-02-13T07:37:10.593Z"
   },
   {
    "duration": 5,
    "start_time": "2024-02-13T07:37:10.748Z"
   },
   {
    "duration": 32,
    "start_time": "2024-02-13T07:37:10.754Z"
   },
   {
    "duration": 50,
    "start_time": "2024-02-13T07:37:10.788Z"
   },
   {
    "duration": 10,
    "start_time": "2024-02-13T07:37:10.840Z"
   },
   {
    "duration": 22,
    "start_time": "2024-02-13T07:37:10.851Z"
   },
   {
    "duration": 58,
    "start_time": "2024-02-13T07:37:10.875Z"
   },
   {
    "duration": 16,
    "start_time": "2024-02-13T07:37:10.934Z"
   },
   {
    "duration": 17,
    "start_time": "2024-02-13T07:37:10.952Z"
   },
   {
    "duration": 8,
    "start_time": "2024-02-13T11:22:45.687Z"
   },
   {
    "duration": 1059,
    "start_time": "2024-02-13T11:22:49.892Z"
   },
   {
    "duration": 26,
    "start_time": "2024-02-13T11:22:50.953Z"
   },
   {
    "duration": 50,
    "start_time": "2024-02-13T11:22:50.980Z"
   },
   {
    "duration": 12,
    "start_time": "2024-02-13T11:22:51.032Z"
   },
   {
    "duration": 16,
    "start_time": "2024-02-13T11:22:51.046Z"
   },
   {
    "duration": 8,
    "start_time": "2024-02-13T11:22:51.064Z"
   },
   {
    "duration": 15,
    "start_time": "2024-02-13T11:22:51.074Z"
   },
   {
    "duration": 31,
    "start_time": "2024-02-13T11:22:51.090Z"
   },
   {
    "duration": 11,
    "start_time": "2024-02-13T11:22:51.123Z"
   },
   {
    "duration": 27,
    "start_time": "2024-02-13T11:22:51.135Z"
   },
   {
    "duration": 22,
    "start_time": "2024-02-13T11:22:51.164Z"
   },
   {
    "duration": 294,
    "start_time": "2024-02-13T11:22:51.188Z"
   },
   {
    "duration": 15,
    "start_time": "2024-02-13T11:22:51.484Z"
   },
   {
    "duration": 36,
    "start_time": "2024-02-13T11:22:51.501Z"
   },
   {
    "duration": 35,
    "start_time": "2024-02-13T11:22:51.539Z"
   },
   {
    "duration": 29,
    "start_time": "2024-02-13T11:22:51.575Z"
   },
   {
    "duration": 203,
    "start_time": "2024-02-13T11:22:51.605Z"
   },
   {
    "duration": 2,
    "start_time": "2024-02-13T11:22:51.809Z"
   },
   {
    "duration": 300,
    "start_time": "2024-02-13T11:22:51.813Z"
   },
   {
    "duration": 8,
    "start_time": "2024-02-13T11:22:52.115Z"
   },
   {
    "duration": 28,
    "start_time": "2024-02-13T11:22:52.125Z"
   },
   {
    "duration": 231,
    "start_time": "2024-02-13T11:22:52.155Z"
   },
   {
    "duration": 289,
    "start_time": "2024-02-13T11:22:52.387Z"
   },
   {
    "duration": 281,
    "start_time": "2024-02-13T11:22:52.678Z"
   },
   {
    "duration": 9,
    "start_time": "2024-02-13T11:22:52.960Z"
   },
   {
    "duration": 149,
    "start_time": "2024-02-13T11:22:52.970Z"
   },
   {
    "duration": 5,
    "start_time": "2024-02-13T11:22:53.120Z"
   },
   {
    "duration": 53,
    "start_time": "2024-02-13T11:22:53.126Z"
   },
   {
    "duration": 43,
    "start_time": "2024-02-13T11:22:53.181Z"
   },
   {
    "duration": 10,
    "start_time": "2024-02-13T11:22:53.226Z"
   },
   {
    "duration": 8,
    "start_time": "2024-02-13T11:22:53.237Z"
   },
   {
    "duration": 47,
    "start_time": "2024-02-13T11:22:53.247Z"
   },
   {
    "duration": 14,
    "start_time": "2024-02-13T11:22:53.296Z"
   },
   {
    "duration": 3,
    "start_time": "2024-02-13T11:22:53.312Z"
   },
   {
    "duration": 7,
    "start_time": "2024-02-13T11:23:56.618Z"
   },
   {
    "duration": 1087,
    "start_time": "2024-02-13T11:24:00.564Z"
   },
   {
    "duration": 27,
    "start_time": "2024-02-13T11:24:01.653Z"
   },
   {
    "duration": 69,
    "start_time": "2024-02-13T11:24:01.682Z"
   },
   {
    "duration": 10,
    "start_time": "2024-02-13T11:24:01.753Z"
   },
   {
    "duration": 46,
    "start_time": "2024-02-13T11:24:01.764Z"
   },
   {
    "duration": 60,
    "start_time": "2024-02-13T11:24:01.812Z"
   },
   {
    "duration": 164,
    "start_time": "2024-02-13T11:24:01.873Z"
   },
   {
    "duration": 19,
    "start_time": "2024-02-13T11:24:02.039Z"
   },
   {
    "duration": 52,
    "start_time": "2024-02-13T11:24:02.059Z"
   },
   {
    "duration": 31,
    "start_time": "2024-02-13T11:24:02.114Z"
   },
   {
    "duration": 45,
    "start_time": "2024-02-13T11:24:02.146Z"
   },
   {
    "duration": 21,
    "start_time": "2024-02-13T11:24:02.193Z"
   },
   {
    "duration": 280,
    "start_time": "2024-02-13T11:24:02.216Z"
   },
   {
    "duration": 12,
    "start_time": "2024-02-13T11:24:02.497Z"
   },
   {
    "duration": 15,
    "start_time": "2024-02-13T11:24:02.510Z"
   },
   {
    "duration": 17,
    "start_time": "2024-02-13T11:24:02.527Z"
   },
   {
    "duration": 19,
    "start_time": "2024-02-13T11:24:02.546Z"
   },
   {
    "duration": 210,
    "start_time": "2024-02-13T11:24:02.567Z"
   },
   {
    "duration": 2,
    "start_time": "2024-02-13T11:24:02.779Z"
   },
   {
    "duration": 291,
    "start_time": "2024-02-13T11:24:02.782Z"
   },
   {
    "duration": 20,
    "start_time": "2024-02-13T11:24:03.074Z"
   },
   {
    "duration": 16,
    "start_time": "2024-02-13T11:24:03.095Z"
   },
   {
    "duration": 219,
    "start_time": "2024-02-13T11:24:03.112Z"
   },
   {
    "duration": 285,
    "start_time": "2024-02-13T11:24:03.333Z"
   },
   {
    "duration": 277,
    "start_time": "2024-02-13T11:24:03.620Z"
   },
   {
    "duration": 9,
    "start_time": "2024-02-13T11:24:03.898Z"
   },
   {
    "duration": 155,
    "start_time": "2024-02-13T11:24:03.908Z"
   },
   {
    "duration": 4,
    "start_time": "2024-02-13T11:24:04.066Z"
   },
   {
    "duration": 29,
    "start_time": "2024-02-13T11:24:04.072Z"
   },
   {
    "duration": 60,
    "start_time": "2024-02-13T11:24:04.102Z"
   },
   {
    "duration": 12,
    "start_time": "2024-02-13T11:24:04.164Z"
   },
   {
    "duration": 10,
    "start_time": "2024-02-13T11:24:04.178Z"
   },
   {
    "duration": 30,
    "start_time": "2024-02-13T11:24:04.193Z"
   },
   {
    "duration": 14,
    "start_time": "2024-02-13T11:24:04.224Z"
   },
   {
    "duration": 24,
    "start_time": "2024-02-13T11:24:04.240Z"
   },
   {
    "duration": 1154,
    "start_time": "2024-02-13T11:25:51.015Z"
   },
   {
    "duration": 29,
    "start_time": "2024-02-13T11:25:52.171Z"
   },
   {
    "duration": 67,
    "start_time": "2024-02-13T11:25:52.202Z"
   },
   {
    "duration": 11,
    "start_time": "2024-02-13T11:25:52.270Z"
   },
   {
    "duration": 34,
    "start_time": "2024-02-13T11:25:52.283Z"
   },
   {
    "duration": 10,
    "start_time": "2024-02-13T11:25:52.319Z"
   },
   {
    "duration": 9,
    "start_time": "2024-02-13T11:25:52.331Z"
   },
   {
    "duration": 6,
    "start_time": "2024-02-13T11:25:52.342Z"
   },
   {
    "duration": 19,
    "start_time": "2024-02-13T11:25:52.350Z"
   },
   {
    "duration": 12,
    "start_time": "2024-02-13T11:25:52.371Z"
   },
   {
    "duration": 22,
    "start_time": "2024-02-13T11:25:52.384Z"
   },
   {
    "duration": 30,
    "start_time": "2024-02-13T11:25:52.408Z"
   },
   {
    "duration": 25,
    "start_time": "2024-02-13T11:25:52.440Z"
   },
   {
    "duration": 303,
    "start_time": "2024-02-13T11:25:52.467Z"
   },
   {
    "duration": 11,
    "start_time": "2024-02-13T11:25:52.772Z"
   },
   {
    "duration": 33,
    "start_time": "2024-02-13T11:25:52.785Z"
   },
   {
    "duration": 17,
    "start_time": "2024-02-13T11:25:52.819Z"
   },
   {
    "duration": 4,
    "start_time": "2024-02-13T11:25:52.838Z"
   },
   {
    "duration": 207,
    "start_time": "2024-02-13T11:25:52.843Z"
   },
   {
    "duration": 2,
    "start_time": "2024-02-13T11:25:53.051Z"
   },
   {
    "duration": 542,
    "start_time": "2024-02-13T11:25:53.055Z"
   },
   {
    "duration": 12,
    "start_time": "2024-02-13T11:25:53.598Z"
   },
   {
    "duration": 6,
    "start_time": "2024-02-13T11:25:53.612Z"
   },
   {
    "duration": 482,
    "start_time": "2024-02-13T11:25:53.620Z"
   },
   {
    "duration": 418,
    "start_time": "2024-02-13T11:25:54.104Z"
   },
   {
    "duration": 513,
    "start_time": "2024-02-13T11:25:54.523Z"
   },
   {
    "duration": 12,
    "start_time": "2024-02-13T11:25:55.038Z"
   },
   {
    "duration": 168,
    "start_time": "2024-02-13T11:25:55.051Z"
   },
   {
    "duration": 4,
    "start_time": "2024-02-13T11:25:55.221Z"
   },
   {
    "duration": 31,
    "start_time": "2024-02-13T11:25:55.226Z"
   },
   {
    "duration": 56,
    "start_time": "2024-02-13T11:25:55.258Z"
   },
   {
    "duration": 11,
    "start_time": "2024-02-13T11:25:55.315Z"
   },
   {
    "duration": 32,
    "start_time": "2024-02-13T11:25:55.327Z"
   },
   {
    "duration": 68,
    "start_time": "2024-02-13T11:25:55.361Z"
   },
   {
    "duration": 20,
    "start_time": "2024-02-13T11:25:55.430Z"
   },
   {
    "duration": 22,
    "start_time": "2024-02-13T11:25:55.451Z"
   },
   {
    "duration": 103,
    "start_time": "2024-02-13T11:26:59.877Z"
   },
   {
    "duration": 1583,
    "start_time": "2024-02-13T11:27:06.720Z"
   },
   {
    "duration": 28,
    "start_time": "2024-02-13T11:27:08.309Z"
   },
   {
    "duration": 75,
    "start_time": "2024-02-13T11:27:08.338Z"
   },
   {
    "duration": 11,
    "start_time": "2024-02-13T11:27:08.415Z"
   },
   {
    "duration": 15,
    "start_time": "2024-02-13T11:27:08.428Z"
   },
   {
    "duration": 58,
    "start_time": "2024-02-13T11:27:08.444Z"
   },
   {
    "duration": 10,
    "start_time": "2024-02-13T11:27:08.506Z"
   },
   {
    "duration": 21,
    "start_time": "2024-02-13T11:27:08.518Z"
   },
   {
    "duration": 68,
    "start_time": "2024-02-13T11:27:08.540Z"
   },
   {
    "duration": 22,
    "start_time": "2024-02-13T11:27:08.612Z"
   },
   {
    "duration": 80,
    "start_time": "2024-02-13T11:27:08.635Z"
   },
   {
    "duration": 13,
    "start_time": "2024-02-13T11:27:08.718Z"
   },
   {
    "duration": 82,
    "start_time": "2024-02-13T11:27:08.733Z"
   },
   {
    "duration": 493,
    "start_time": "2024-02-13T11:27:08.816Z"
   },
   {
    "duration": 13,
    "start_time": "2024-02-13T11:27:09.314Z"
   },
   {
    "duration": 35,
    "start_time": "2024-02-13T11:27:09.329Z"
   },
   {
    "duration": 20,
    "start_time": "2024-02-13T11:27:09.366Z"
   },
   {
    "duration": 13,
    "start_time": "2024-02-13T11:27:09.387Z"
   },
   {
    "duration": 222,
    "start_time": "2024-02-13T11:27:09.403Z"
   },
   {
    "duration": 3,
    "start_time": "2024-02-13T11:27:09.626Z"
   },
   {
    "duration": 322,
    "start_time": "2024-02-13T11:27:09.630Z"
   },
   {
    "duration": 9,
    "start_time": "2024-02-13T11:27:09.953Z"
   },
   {
    "duration": 48,
    "start_time": "2024-02-13T11:27:09.963Z"
   },
   {
    "duration": 206,
    "start_time": "2024-02-13T11:27:10.013Z"
   },
   {
    "duration": 284,
    "start_time": "2024-02-13T11:27:10.221Z"
   },
   {
    "duration": 319,
    "start_time": "2024-02-13T11:27:10.507Z"
   },
   {
    "duration": 9,
    "start_time": "2024-02-13T11:27:10.828Z"
   },
   {
    "duration": 173,
    "start_time": "2024-02-13T11:27:10.841Z"
   },
   {
    "duration": 5,
    "start_time": "2024-02-13T11:27:11.015Z"
   },
   {
    "duration": 55,
    "start_time": "2024-02-13T11:27:11.022Z"
   },
   {
    "duration": 55,
    "start_time": "2024-02-13T11:27:11.079Z"
   },
   {
    "duration": 11,
    "start_time": "2024-02-13T11:27:11.136Z"
   },
   {
    "duration": 13,
    "start_time": "2024-02-13T11:27:11.149Z"
   },
   {
    "duration": 63,
    "start_time": "2024-02-13T11:27:11.164Z"
   },
   {
    "duration": 15,
    "start_time": "2024-02-13T11:27:11.228Z"
   },
   {
    "duration": 19,
    "start_time": "2024-02-13T11:27:11.245Z"
   },
   {
    "duration": 106,
    "start_time": "2024-02-13T11:27:16.558Z"
   },
   {
    "duration": 1223,
    "start_time": "2024-02-13T11:27:20.236Z"
   },
   {
    "duration": 26,
    "start_time": "2024-02-13T11:27:21.461Z"
   },
   {
    "duration": 56,
    "start_time": "2024-02-13T11:27:21.489Z"
   },
   {
    "duration": 17,
    "start_time": "2024-02-13T11:27:21.547Z"
   },
   {
    "duration": 53,
    "start_time": "2024-02-13T11:27:21.567Z"
   },
   {
    "duration": 89,
    "start_time": "2024-02-13T11:27:21.622Z"
   },
   {
    "duration": 30,
    "start_time": "2024-02-13T11:27:21.713Z"
   },
   {
    "duration": 65,
    "start_time": "2024-02-13T11:27:21.745Z"
   },
   {
    "duration": 73,
    "start_time": "2024-02-13T11:27:21.813Z"
   },
   {
    "duration": 35,
    "start_time": "2024-02-13T11:27:21.888Z"
   },
   {
    "duration": 28,
    "start_time": "2024-02-13T11:27:21.924Z"
   },
   {
    "duration": 35,
    "start_time": "2024-02-13T11:27:21.953Z"
   },
   {
    "duration": 33,
    "start_time": "2024-02-13T11:27:21.989Z"
   },
   {
    "duration": 593,
    "start_time": "2024-02-13T11:27:22.025Z"
   },
   {
    "duration": 12,
    "start_time": "2024-02-13T11:27:22.620Z"
   },
   {
    "duration": 77,
    "start_time": "2024-02-13T11:27:22.633Z"
   },
   {
    "duration": 27,
    "start_time": "2024-02-13T11:27:22.712Z"
   },
   {
    "duration": 60,
    "start_time": "2024-02-13T11:27:22.741Z"
   },
   {
    "duration": 506,
    "start_time": "2024-02-13T11:27:22.803Z"
   },
   {
    "duration": 4,
    "start_time": "2024-02-13T11:27:23.311Z"
   },
   {
    "duration": 510,
    "start_time": "2024-02-13T11:27:23.317Z"
   },
   {
    "duration": 8,
    "start_time": "2024-02-13T11:27:23.829Z"
   },
   {
    "duration": 42,
    "start_time": "2024-02-13T11:27:23.838Z"
   },
   {
    "duration": 227,
    "start_time": "2024-02-13T11:27:23.881Z"
   },
   {
    "duration": 325,
    "start_time": "2024-02-13T11:27:24.110Z"
   },
   {
    "duration": 313,
    "start_time": "2024-02-13T11:27:24.437Z"
   },
   {
    "duration": 8,
    "start_time": "2024-02-13T11:27:24.752Z"
   },
   {
    "duration": 174,
    "start_time": "2024-02-13T11:27:24.761Z"
   },
   {
    "duration": 5,
    "start_time": "2024-02-13T11:27:24.937Z"
   },
   {
    "duration": 23,
    "start_time": "2024-02-13T11:27:24.943Z"
   },
   {
    "duration": 82,
    "start_time": "2024-02-13T11:27:24.969Z"
   },
   {
    "duration": 9,
    "start_time": "2024-02-13T11:27:25.053Z"
   },
   {
    "duration": 16,
    "start_time": "2024-02-13T11:27:25.064Z"
   },
   {
    "duration": 52,
    "start_time": "2024-02-13T11:27:25.081Z"
   },
   {
    "duration": 19,
    "start_time": "2024-02-13T11:27:25.135Z"
   },
   {
    "duration": 6,
    "start_time": "2024-02-13T11:27:25.155Z"
   },
   {
    "duration": 1159,
    "start_time": "2024-02-13T11:28:06.097Z"
   },
   {
    "duration": 27,
    "start_time": "2024-02-13T11:28:07.258Z"
   },
   {
    "duration": 56,
    "start_time": "2024-02-13T11:28:07.286Z"
   },
   {
    "duration": 11,
    "start_time": "2024-02-13T11:28:07.343Z"
   },
   {
    "duration": 21,
    "start_time": "2024-02-13T11:28:07.356Z"
   },
   {
    "duration": 28,
    "start_time": "2024-02-13T11:28:07.378Z"
   },
   {
    "duration": 16,
    "start_time": "2024-02-13T11:28:07.409Z"
   },
   {
    "duration": 15,
    "start_time": "2024-02-13T11:28:07.427Z"
   },
   {
    "duration": 24,
    "start_time": "2024-02-13T11:28:07.443Z"
   },
   {
    "duration": 12,
    "start_time": "2024-02-13T11:28:07.468Z"
   },
   {
    "duration": 14,
    "start_time": "2024-02-13T11:28:07.481Z"
   },
   {
    "duration": 21,
    "start_time": "2024-02-13T11:28:07.498Z"
   },
   {
    "duration": 14,
    "start_time": "2024-02-13T11:28:07.520Z"
   },
   {
    "duration": 308,
    "start_time": "2024-02-13T11:28:07.536Z"
   },
   {
    "duration": 12,
    "start_time": "2024-02-13T11:28:07.845Z"
   },
   {
    "duration": 15,
    "start_time": "2024-02-13T11:28:07.858Z"
   },
   {
    "duration": 40,
    "start_time": "2024-02-13T11:28:07.874Z"
   },
   {
    "duration": 17,
    "start_time": "2024-02-13T11:28:07.916Z"
   },
   {
    "duration": 476,
    "start_time": "2024-02-13T11:28:07.935Z"
   },
   {
    "duration": 4,
    "start_time": "2024-02-13T11:28:08.414Z"
   },
   {
    "duration": 512,
    "start_time": "2024-02-13T11:28:08.419Z"
   },
   {
    "duration": 8,
    "start_time": "2024-02-13T11:28:08.933Z"
   },
   {
    "duration": 8,
    "start_time": "2024-02-13T11:28:09.006Z"
   },
   {
    "duration": 500,
    "start_time": "2024-02-13T11:28:09.015Z"
   },
   {
    "duration": 397,
    "start_time": "2024-02-13T11:28:09.516Z"
   },
   {
    "duration": 292,
    "start_time": "2024-02-13T11:28:09.914Z"
   },
   {
    "duration": 10,
    "start_time": "2024-02-13T11:28:10.209Z"
   },
   {
    "duration": 173,
    "start_time": "2024-02-13T11:28:10.221Z"
   },
   {
    "duration": 14,
    "start_time": "2024-02-13T11:28:10.396Z"
   },
   {
    "duration": 18,
    "start_time": "2024-02-13T11:28:10.413Z"
   },
   {
    "duration": 64,
    "start_time": "2024-02-13T11:28:10.433Z"
   },
   {
    "duration": 13,
    "start_time": "2024-02-13T11:28:10.498Z"
   },
   {
    "duration": 9,
    "start_time": "2024-02-13T11:28:10.513Z"
   },
   {
    "duration": 33,
    "start_time": "2024-02-13T11:28:10.524Z"
   },
   {
    "duration": 35,
    "start_time": "2024-02-13T11:28:10.559Z"
   },
   {
    "duration": 3,
    "start_time": "2024-02-13T11:28:10.595Z"
   },
   {
    "duration": 1124,
    "start_time": "2024-02-13T11:28:21.731Z"
   },
   {
    "duration": 27,
    "start_time": "2024-02-13T11:28:22.856Z"
   },
   {
    "duration": 49,
    "start_time": "2024-02-13T11:28:22.885Z"
   },
   {
    "duration": 10,
    "start_time": "2024-02-13T11:28:22.936Z"
   },
   {
    "duration": 25,
    "start_time": "2024-02-13T11:28:22.948Z"
   },
   {
    "duration": 24,
    "start_time": "2024-02-13T11:28:22.975Z"
   },
   {
    "duration": 13,
    "start_time": "2024-02-13T11:28:23.001Z"
   },
   {
    "duration": 12,
    "start_time": "2024-02-13T11:28:23.016Z"
   },
   {
    "duration": 18,
    "start_time": "2024-02-13T11:28:23.030Z"
   },
   {
    "duration": 12,
    "start_time": "2024-02-13T11:28:23.050Z"
   },
   {
    "duration": 40,
    "start_time": "2024-02-13T11:28:23.063Z"
   },
   {
    "duration": 21,
    "start_time": "2024-02-13T11:28:23.106Z"
   },
   {
    "duration": 9,
    "start_time": "2024-02-13T11:28:23.128Z"
   },
   {
    "duration": 344,
    "start_time": "2024-02-13T11:28:23.139Z"
   },
   {
    "duration": 33,
    "start_time": "2024-02-13T11:28:23.485Z"
   },
   {
    "duration": 16,
    "start_time": "2024-02-13T11:28:23.520Z"
   },
   {
    "duration": 25,
    "start_time": "2024-02-13T11:28:23.538Z"
   },
   {
    "duration": 10,
    "start_time": "2024-02-13T11:28:23.565Z"
   },
   {
    "duration": 321,
    "start_time": "2024-02-13T11:28:23.577Z"
   },
   {
    "duration": 3,
    "start_time": "2024-02-13T11:28:23.901Z"
   },
   {
    "duration": 527,
    "start_time": "2024-02-13T11:28:23.907Z"
   },
   {
    "duration": 62,
    "start_time": "2024-02-13T11:28:24.435Z"
   },
   {
    "duration": 20,
    "start_time": "2024-02-13T11:28:24.499Z"
   },
   {
    "duration": 516,
    "start_time": "2024-02-13T11:28:24.520Z"
   },
   {
    "duration": 520,
    "start_time": "2024-02-13T11:28:25.038Z"
   },
   {
    "duration": 341,
    "start_time": "2024-02-13T11:28:25.559Z"
   },
   {
    "duration": 13,
    "start_time": "2024-02-13T11:28:25.903Z"
   },
   {
    "duration": 170,
    "start_time": "2024-02-13T11:28:25.918Z"
   },
   {
    "duration": 6,
    "start_time": "2024-02-13T11:28:26.094Z"
   },
   {
    "duration": 34,
    "start_time": "2024-02-13T11:28:26.103Z"
   },
   {
    "duration": 55,
    "start_time": "2024-02-13T11:28:26.138Z"
   },
   {
    "duration": 17,
    "start_time": "2024-02-13T11:28:26.195Z"
   },
   {
    "duration": 19,
    "start_time": "2024-02-13T11:28:26.214Z"
   },
   {
    "duration": 56,
    "start_time": "2024-02-13T11:28:26.234Z"
   },
   {
    "duration": 25,
    "start_time": "2024-02-13T11:28:26.291Z"
   },
   {
    "duration": 33,
    "start_time": "2024-02-13T11:28:26.318Z"
   },
   {
    "duration": 1265,
    "start_time": "2024-02-13T11:29:36.472Z"
   },
   {
    "duration": 26,
    "start_time": "2024-02-13T11:29:37.739Z"
   },
   {
    "duration": 51,
    "start_time": "2024-02-13T11:29:38.159Z"
   },
   {
    "duration": 11,
    "start_time": "2024-02-13T11:29:38.539Z"
   },
   {
    "duration": 10,
    "start_time": "2024-02-13T11:29:38.683Z"
   },
   {
    "duration": 6,
    "start_time": "2024-02-13T11:29:39.574Z"
   },
   {
    "duration": 11,
    "start_time": "2024-02-13T11:29:39.996Z"
   },
   {
    "duration": 6,
    "start_time": "2024-02-13T11:29:42.231Z"
   },
   {
    "duration": 14,
    "start_time": "2024-02-13T11:29:51.562Z"
   },
   {
    "duration": 13,
    "start_time": "2024-02-13T11:31:50.761Z"
   },
   {
    "duration": 21,
    "start_time": "2024-02-13T11:33:51.452Z"
   },
   {
    "duration": 12,
    "start_time": "2024-02-13T11:34:12.915Z"
   },
   {
    "duration": 14,
    "start_time": "2024-02-13T11:34:28.963Z"
   },
   {
    "duration": 9,
    "start_time": "2024-02-13T11:34:57.130Z"
   },
   {
    "duration": 1152,
    "start_time": "2024-02-13T11:36:26.320Z"
   },
   {
    "duration": 27,
    "start_time": "2024-02-13T11:36:27.473Z"
   },
   {
    "duration": 51,
    "start_time": "2024-02-13T11:36:27.501Z"
   },
   {
    "duration": 11,
    "start_time": "2024-02-13T11:36:27.553Z"
   },
   {
    "duration": 9,
    "start_time": "2024-02-13T11:36:27.567Z"
   },
   {
    "duration": 7,
    "start_time": "2024-02-13T11:36:27.577Z"
   },
   {
    "duration": 8,
    "start_time": "2024-02-13T11:36:27.586Z"
   },
   {
    "duration": 24,
    "start_time": "2024-02-13T11:36:27.596Z"
   },
   {
    "duration": 15,
    "start_time": "2024-02-13T11:36:27.622Z"
   },
   {
    "duration": 11,
    "start_time": "2024-02-13T11:36:27.639Z"
   },
   {
    "duration": 11,
    "start_time": "2024-02-13T11:36:27.651Z"
   },
   {
    "duration": 8,
    "start_time": "2024-02-13T11:36:27.664Z"
   },
   {
    "duration": 315,
    "start_time": "2024-02-13T11:36:27.674Z"
   },
   {
    "duration": 12,
    "start_time": "2024-02-13T11:36:27.993Z"
   },
   {
    "duration": 15,
    "start_time": "2024-02-13T11:36:28.007Z"
   },
   {
    "duration": 18,
    "start_time": "2024-02-13T11:36:28.024Z"
   },
   {
    "duration": 5,
    "start_time": "2024-02-13T11:36:28.043Z"
   },
   {
    "duration": 465,
    "start_time": "2024-02-13T11:36:28.049Z"
   },
   {
    "duration": 3,
    "start_time": "2024-02-13T11:36:28.516Z"
   },
   {
    "duration": 575,
    "start_time": "2024-02-13T11:36:28.521Z"
   },
   {
    "duration": 8,
    "start_time": "2024-02-13T11:36:29.098Z"
   },
   {
    "duration": 35,
    "start_time": "2024-02-13T11:36:29.108Z"
   },
   {
    "duration": 463,
    "start_time": "2024-02-13T11:36:29.144Z"
   },
   {
    "duration": 340,
    "start_time": "2024-02-13T11:36:29.609Z"
   },
   {
    "duration": 316,
    "start_time": "2024-02-13T11:36:29.951Z"
   },
   {
    "duration": 8,
    "start_time": "2024-02-13T11:36:30.269Z"
   },
   {
    "duration": 202,
    "start_time": "2024-02-13T11:36:30.278Z"
   },
   {
    "duration": 12,
    "start_time": "2024-02-13T11:36:30.481Z"
   },
   {
    "duration": 51,
    "start_time": "2024-02-13T11:36:30.494Z"
   },
   {
    "duration": 79,
    "start_time": "2024-02-13T11:36:30.546Z"
   },
   {
    "duration": 53,
    "start_time": "2024-02-13T11:36:30.627Z"
   },
   {
    "duration": 29,
    "start_time": "2024-02-13T11:36:30.682Z"
   },
   {
    "duration": 93,
    "start_time": "2024-02-13T11:36:30.713Z"
   },
   {
    "duration": 16,
    "start_time": "2024-02-13T11:36:30.808Z"
   },
   {
    "duration": 66,
    "start_time": "2024-02-13T11:36:30.825Z"
   },
   {
    "duration": 1228,
    "start_time": "2024-02-13T11:37:19.134Z"
   },
   {
    "duration": 3,
    "start_time": "2024-02-13T11:37:27.592Z"
   },
   {
    "duration": 26,
    "start_time": "2024-02-13T11:37:28.018Z"
   },
   {
    "duration": 49,
    "start_time": "2024-02-13T11:37:28.429Z"
   },
   {
    "duration": 9,
    "start_time": "2024-02-13T11:37:28.938Z"
   },
   {
    "duration": 10,
    "start_time": "2024-02-13T11:37:29.440Z"
   },
   {
    "duration": 6,
    "start_time": "2024-02-13T11:37:29.890Z"
   },
   {
    "duration": 7,
    "start_time": "2024-02-13T11:37:31.174Z"
   },
   {
    "duration": 7,
    "start_time": "2024-02-13T11:37:32.761Z"
   },
   {
    "duration": 13,
    "start_time": "2024-02-13T11:37:33.985Z"
   },
   {
    "duration": 4,
    "start_time": "2024-02-13T11:39:08.641Z"
   },
   {
    "duration": 7,
    "start_time": "2024-02-13T11:43:11.754Z"
   },
   {
    "duration": 4,
    "start_time": "2024-02-13T11:43:18.721Z"
   },
   {
    "duration": 10,
    "start_time": "2024-02-13T11:44:03.303Z"
   },
   {
    "duration": 7,
    "start_time": "2024-02-13T11:44:30.950Z"
   },
   {
    "duration": 1258,
    "start_time": "2024-02-13T11:45:22.550Z"
   },
   {
    "duration": 5,
    "start_time": "2024-02-13T11:45:32.796Z"
   },
   {
    "duration": 7,
    "start_time": "2024-02-13T11:45:38.013Z"
   },
   {
    "duration": 1161,
    "start_time": "2024-02-13T11:45:44.587Z"
   },
   {
    "duration": 7,
    "start_time": "2024-02-13T11:46:07.206Z"
   },
   {
    "duration": 7,
    "start_time": "2024-02-13T11:48:19.955Z"
   },
   {
    "duration": 7,
    "start_time": "2024-02-13T11:48:27.758Z"
   },
   {
    "duration": 10,
    "start_time": "2024-02-13T11:48:40.930Z"
   },
   {
    "duration": 7,
    "start_time": "2024-02-13T11:48:47.385Z"
   },
   {
    "duration": 8,
    "start_time": "2024-02-13T11:48:55.467Z"
   },
   {
    "duration": 7,
    "start_time": "2024-02-13T11:49:52.459Z"
   },
   {
    "duration": 7,
    "start_time": "2024-02-13T11:50:09.174Z"
   },
   {
    "duration": 17,
    "start_time": "2024-02-13T11:50:15.057Z"
   },
   {
    "duration": 10,
    "start_time": "2024-02-13T11:50:18.427Z"
   },
   {
    "duration": 12,
    "start_time": "2024-02-13T11:50:25.792Z"
   },
   {
    "duration": 14,
    "start_time": "2024-02-13T11:51:20.794Z"
   },
   {
    "duration": 6,
    "start_time": "2024-02-13T11:51:44.477Z"
   },
   {
    "duration": 14,
    "start_time": "2024-02-13T11:52:04.973Z"
   },
   {
    "duration": 12,
    "start_time": "2024-02-13T11:52:19.571Z"
   },
   {
    "duration": 10,
    "start_time": "2024-02-13T11:55:18.855Z"
   },
   {
    "duration": 9,
    "start_time": "2024-02-13T11:55:39.130Z"
   },
   {
    "duration": 11,
    "start_time": "2024-02-13T11:57:18.683Z"
   },
   {
    "duration": 9,
    "start_time": "2024-02-13T11:57:27.398Z"
   },
   {
    "duration": 8,
    "start_time": "2024-02-13T11:57:31.464Z"
   },
   {
    "duration": 9,
    "start_time": "2024-02-13T11:57:35.003Z"
   },
   {
    "duration": 9,
    "start_time": "2024-02-13T11:57:38.436Z"
   },
   {
    "duration": 11,
    "start_time": "2024-02-13T11:57:54.318Z"
   },
   {
    "duration": 1099,
    "start_time": "2024-02-13T11:58:09.716Z"
   },
   {
    "duration": 27,
    "start_time": "2024-02-13T11:58:10.816Z"
   },
   {
    "duration": 51,
    "start_time": "2024-02-13T11:58:10.845Z"
   },
   {
    "duration": 12,
    "start_time": "2024-02-13T11:58:10.898Z"
   },
   {
    "duration": 26,
    "start_time": "2024-02-13T11:58:10.913Z"
   },
   {
    "duration": 18,
    "start_time": "2024-02-13T11:58:10.941Z"
   },
   {
    "duration": 15,
    "start_time": "2024-02-13T11:58:10.960Z"
   },
   {
    "duration": 7,
    "start_time": "2024-02-13T11:58:10.976Z"
   },
   {
    "duration": 23,
    "start_time": "2024-02-13T11:58:10.985Z"
   },
   {
    "duration": 104,
    "start_time": "2024-02-13T11:58:11.010Z"
   },
   {
    "duration": 0,
    "start_time": "2024-02-13T11:58:11.116Z"
   },
   {
    "duration": 0,
    "start_time": "2024-02-13T11:58:11.118Z"
   },
   {
    "duration": 0,
    "start_time": "2024-02-13T11:58:11.118Z"
   },
   {
    "duration": 0,
    "start_time": "2024-02-13T11:58:11.120Z"
   },
   {
    "duration": 0,
    "start_time": "2024-02-13T11:58:11.120Z"
   },
   {
    "duration": 0,
    "start_time": "2024-02-13T11:58:11.121Z"
   },
   {
    "duration": 0,
    "start_time": "2024-02-13T11:58:11.122Z"
   },
   {
    "duration": 0,
    "start_time": "2024-02-13T11:58:11.124Z"
   },
   {
    "duration": 0,
    "start_time": "2024-02-13T11:58:11.125Z"
   },
   {
    "duration": 0,
    "start_time": "2024-02-13T11:58:11.126Z"
   },
   {
    "duration": 0,
    "start_time": "2024-02-13T11:58:11.127Z"
   },
   {
    "duration": 0,
    "start_time": "2024-02-13T11:58:11.128Z"
   },
   {
    "duration": 0,
    "start_time": "2024-02-13T11:58:11.129Z"
   },
   {
    "duration": 0,
    "start_time": "2024-02-13T11:58:11.129Z"
   },
   {
    "duration": 0,
    "start_time": "2024-02-13T11:58:11.130Z"
   },
   {
    "duration": 0,
    "start_time": "2024-02-13T11:58:11.131Z"
   },
   {
    "duration": 0,
    "start_time": "2024-02-13T11:58:11.132Z"
   },
   {
    "duration": 0,
    "start_time": "2024-02-13T11:58:11.133Z"
   },
   {
    "duration": 0,
    "start_time": "2024-02-13T11:58:11.134Z"
   },
   {
    "duration": 0,
    "start_time": "2024-02-13T11:58:11.135Z"
   },
   {
    "duration": 0,
    "start_time": "2024-02-13T11:58:11.136Z"
   },
   {
    "duration": 0,
    "start_time": "2024-02-13T11:58:11.138Z"
   },
   {
    "duration": 0,
    "start_time": "2024-02-13T11:58:11.139Z"
   },
   {
    "duration": 0,
    "start_time": "2024-02-13T11:58:11.140Z"
   },
   {
    "duration": 0,
    "start_time": "2024-02-13T11:58:11.141Z"
   },
   {
    "duration": 0,
    "start_time": "2024-02-13T11:58:11.142Z"
   },
   {
    "duration": 0,
    "start_time": "2024-02-13T11:58:11.143Z"
   },
   {
    "duration": 13,
    "start_time": "2024-02-13T11:58:30.695Z"
   },
   {
    "duration": 1195,
    "start_time": "2024-02-13T11:59:14.670Z"
   },
   {
    "duration": 27,
    "start_time": "2024-02-13T11:59:15.867Z"
   },
   {
    "duration": 51,
    "start_time": "2024-02-13T11:59:15.896Z"
   },
   {
    "duration": 12,
    "start_time": "2024-02-13T11:59:15.948Z"
   },
   {
    "duration": 38,
    "start_time": "2024-02-13T11:59:15.962Z"
   },
   {
    "duration": 11,
    "start_time": "2024-02-13T11:59:16.002Z"
   },
   {
    "duration": 15,
    "start_time": "2024-02-13T11:59:16.015Z"
   },
   {
    "duration": 22,
    "start_time": "2024-02-13T11:59:16.032Z"
   },
   {
    "duration": 44,
    "start_time": "2024-02-13T11:59:16.055Z"
   },
   {
    "duration": 97,
    "start_time": "2024-02-13T11:59:16.100Z"
   },
   {
    "duration": 0,
    "start_time": "2024-02-13T11:59:16.199Z"
   },
   {
    "duration": 0,
    "start_time": "2024-02-13T11:59:16.199Z"
   },
   {
    "duration": 0,
    "start_time": "2024-02-13T11:59:16.200Z"
   },
   {
    "duration": 0,
    "start_time": "2024-02-13T11:59:16.201Z"
   },
   {
    "duration": 0,
    "start_time": "2024-02-13T11:59:16.202Z"
   },
   {
    "duration": 0,
    "start_time": "2024-02-13T11:59:16.203Z"
   },
   {
    "duration": 0,
    "start_time": "2024-02-13T11:59:16.204Z"
   },
   {
    "duration": 1,
    "start_time": "2024-02-13T11:59:16.204Z"
   },
   {
    "duration": 0,
    "start_time": "2024-02-13T11:59:16.205Z"
   },
   {
    "duration": 0,
    "start_time": "2024-02-13T11:59:16.206Z"
   },
   {
    "duration": 0,
    "start_time": "2024-02-13T11:59:16.207Z"
   },
   {
    "duration": 0,
    "start_time": "2024-02-13T11:59:16.208Z"
   },
   {
    "duration": 0,
    "start_time": "2024-02-13T11:59:16.209Z"
   },
   {
    "duration": 0,
    "start_time": "2024-02-13T11:59:16.210Z"
   },
   {
    "duration": 0,
    "start_time": "2024-02-13T11:59:16.210Z"
   },
   {
    "duration": 0,
    "start_time": "2024-02-13T11:59:16.211Z"
   },
   {
    "duration": 0,
    "start_time": "2024-02-13T11:59:16.212Z"
   },
   {
    "duration": 0,
    "start_time": "2024-02-13T11:59:16.213Z"
   },
   {
    "duration": 0,
    "start_time": "2024-02-13T11:59:16.214Z"
   },
   {
    "duration": 0,
    "start_time": "2024-02-13T11:59:16.215Z"
   },
   {
    "duration": 17,
    "start_time": "2024-02-13T11:59:16.218Z"
   },
   {
    "duration": 96,
    "start_time": "2024-02-13T11:59:16.236Z"
   },
   {
    "duration": 56,
    "start_time": "2024-02-13T11:59:16.334Z"
   },
   {
    "duration": 9,
    "start_time": "2024-02-13T11:59:16.391Z"
   },
   {
    "duration": 30,
    "start_time": "2024-02-13T11:59:16.402Z"
   },
   {
    "duration": 14,
    "start_time": "2024-02-13T11:59:16.433Z"
   },
   {
    "duration": 16,
    "start_time": "2024-02-13T11:59:16.448Z"
   },
   {
    "duration": 62,
    "start_time": "2024-02-13T12:00:08.052Z"
   },
   {
    "duration": 138,
    "start_time": "2024-02-13T12:00:21.345Z"
   },
   {
    "duration": 12,
    "start_time": "2024-02-13T12:07:06.610Z"
   },
   {
    "duration": 10,
    "start_time": "2024-02-13T12:07:12.301Z"
   },
   {
    "duration": 10,
    "start_time": "2024-02-13T12:07:18.448Z"
   },
   {
    "duration": 14,
    "start_time": "2024-02-13T12:07:37.599Z"
   },
   {
    "duration": 118,
    "start_time": "2024-02-13T12:07:54.832Z"
   },
   {
    "duration": 114,
    "start_time": "2024-02-13T12:08:03.338Z"
   },
   {
    "duration": 144,
    "start_time": "2024-02-13T12:08:06.714Z"
   },
   {
    "duration": 145,
    "start_time": "2024-02-13T12:08:29.376Z"
   },
   {
    "duration": 138,
    "start_time": "2024-02-13T12:08:34.599Z"
   },
   {
    "duration": 129,
    "start_time": "2024-02-13T12:08:41.525Z"
   },
   {
    "duration": 1170,
    "start_time": "2024-02-13T12:08:55.978Z"
   },
   {
    "duration": 28,
    "start_time": "2024-02-13T12:08:57.150Z"
   },
   {
    "duration": 51,
    "start_time": "2024-02-13T12:08:57.179Z"
   },
   {
    "duration": 12,
    "start_time": "2024-02-13T12:08:57.232Z"
   },
   {
    "duration": 18,
    "start_time": "2024-02-13T12:08:57.245Z"
   },
   {
    "duration": 20,
    "start_time": "2024-02-13T12:08:57.265Z"
   },
   {
    "duration": 11,
    "start_time": "2024-02-13T12:08:57.287Z"
   },
   {
    "duration": 9,
    "start_time": "2024-02-13T12:08:57.300Z"
   },
   {
    "duration": 14,
    "start_time": "2024-02-13T12:08:57.311Z"
   },
   {
    "duration": 180,
    "start_time": "2024-02-13T12:08:57.329Z"
   },
   {
    "duration": 15,
    "start_time": "2024-02-13T12:08:57.512Z"
   },
   {
    "duration": 17,
    "start_time": "2024-02-13T12:08:57.529Z"
   },
   {
    "duration": 13,
    "start_time": "2024-02-13T12:08:57.548Z"
   },
   {
    "duration": 34,
    "start_time": "2024-02-13T12:08:57.562Z"
   },
   {
    "duration": 340,
    "start_time": "2024-02-13T12:08:57.599Z"
   },
   {
    "duration": 13,
    "start_time": "2024-02-13T12:08:57.941Z"
   },
   {
    "duration": 18,
    "start_time": "2024-02-13T12:08:57.955Z"
   },
   {
    "duration": 40,
    "start_time": "2024-02-13T12:08:57.974Z"
   },
   {
    "duration": 15,
    "start_time": "2024-02-13T12:08:58.015Z"
   },
   {
    "duration": 218,
    "start_time": "2024-02-13T12:08:58.031Z"
   },
   {
    "duration": 2,
    "start_time": "2024-02-13T12:08:58.251Z"
   },
   {
    "duration": 316,
    "start_time": "2024-02-13T12:08:58.254Z"
   },
   {
    "duration": 9,
    "start_time": "2024-02-13T12:08:58.572Z"
   },
   {
    "duration": 18,
    "start_time": "2024-02-13T12:08:58.582Z"
   },
   {
    "duration": 232,
    "start_time": "2024-02-13T12:08:58.604Z"
   },
   {
    "duration": 286,
    "start_time": "2024-02-13T12:08:58.838Z"
   },
   {
    "duration": 300,
    "start_time": "2024-02-13T12:08:59.126Z"
   },
   {
    "duration": 8,
    "start_time": "2024-02-13T12:08:59.430Z"
   },
   {
    "duration": 157,
    "start_time": "2024-02-13T12:08:59.440Z"
   },
   {
    "duration": 7,
    "start_time": "2024-02-13T12:08:59.599Z"
   },
   {
    "duration": 17,
    "start_time": "2024-02-13T12:08:59.608Z"
   },
   {
    "duration": 42,
    "start_time": "2024-02-13T12:08:59.626Z"
   },
   {
    "duration": 17,
    "start_time": "2024-02-13T12:08:59.693Z"
   },
   {
    "duration": 8,
    "start_time": "2024-02-13T12:08:59.712Z"
   },
   {
    "duration": 33,
    "start_time": "2024-02-13T12:08:59.722Z"
   },
   {
    "duration": 51,
    "start_time": "2024-02-13T12:08:59.757Z"
   },
   {
    "duration": 2,
    "start_time": "2024-02-13T12:08:59.810Z"
   },
   {
    "duration": 1228,
    "start_time": "2024-02-13T12:09:39.777Z"
   },
   {
    "duration": 1191,
    "start_time": "2024-02-13T12:09:53.717Z"
   },
   {
    "duration": 1170,
    "start_time": "2024-02-13T12:09:58.270Z"
   },
   {
    "duration": 26,
    "start_time": "2024-02-13T12:09:59.442Z"
   },
   {
    "duration": 49,
    "start_time": "2024-02-13T12:09:59.470Z"
   },
   {
    "duration": 11,
    "start_time": "2024-02-13T12:09:59.521Z"
   },
   {
    "duration": 17,
    "start_time": "2024-02-13T12:09:59.534Z"
   },
   {
    "duration": 41,
    "start_time": "2024-02-13T12:09:59.552Z"
   },
   {
    "duration": 10,
    "start_time": "2024-02-13T12:09:59.594Z"
   },
   {
    "duration": 15,
    "start_time": "2024-02-13T12:09:59.605Z"
   },
   {
    "duration": 20,
    "start_time": "2024-02-13T12:09:59.622Z"
   },
   {
    "duration": 137,
    "start_time": "2024-02-13T12:09:59.644Z"
   },
   {
    "duration": 12,
    "start_time": "2024-02-13T12:09:59.783Z"
   },
   {
    "duration": 59,
    "start_time": "2024-02-13T12:09:59.796Z"
   },
   {
    "duration": 49,
    "start_time": "2024-02-13T12:09:59.856Z"
   },
   {
    "duration": 21,
    "start_time": "2024-02-13T12:09:59.908Z"
   },
   {
    "duration": 301,
    "start_time": "2024-02-13T12:09:59.931Z"
   },
   {
    "duration": 68,
    "start_time": "2024-02-13T12:10:00.234Z"
   },
   {
    "duration": 140,
    "start_time": "2024-02-13T12:10:00.304Z"
   },
   {
    "duration": 158,
    "start_time": "2024-02-13T12:10:00.446Z"
   },
   {
    "duration": 98,
    "start_time": "2024-02-13T12:10:00.606Z"
   },
   {
    "duration": 488,
    "start_time": "2024-02-13T12:10:00.706Z"
   },
   {
    "duration": 3,
    "start_time": "2024-02-13T12:10:01.195Z"
   },
   {
    "duration": 384,
    "start_time": "2024-02-13T12:10:01.199Z"
   },
   {
    "duration": 14,
    "start_time": "2024-02-13T12:10:01.584Z"
   },
   {
    "duration": 84,
    "start_time": "2024-02-13T12:10:01.600Z"
   },
   {
    "duration": 241,
    "start_time": "2024-02-13T12:10:01.685Z"
   },
   {
    "duration": 396,
    "start_time": "2024-02-13T12:10:01.928Z"
   },
   {
    "duration": 277,
    "start_time": "2024-02-13T12:10:02.325Z"
   },
   {
    "duration": 9,
    "start_time": "2024-02-13T12:10:02.604Z"
   },
   {
    "duration": 205,
    "start_time": "2024-02-13T12:10:02.615Z"
   },
   {
    "duration": 5,
    "start_time": "2024-02-13T12:10:02.822Z"
   },
   {
    "duration": 63,
    "start_time": "2024-02-13T12:10:02.829Z"
   },
   {
    "duration": 48,
    "start_time": "2024-02-13T12:10:02.894Z"
   },
   {
    "duration": 17,
    "start_time": "2024-02-13T12:10:02.944Z"
   },
   {
    "duration": 26,
    "start_time": "2024-02-13T12:10:02.963Z"
   },
   {
    "duration": 44,
    "start_time": "2024-02-13T12:10:02.991Z"
   },
   {
    "duration": 15,
    "start_time": "2024-02-13T12:10:03.037Z"
   },
   {
    "duration": 64,
    "start_time": "2024-02-13T12:10:03.054Z"
   },
   {
    "duration": 1101,
    "start_time": "2024-02-13T12:10:10.145Z"
   },
   {
    "duration": 27,
    "start_time": "2024-02-13T12:10:11.248Z"
   },
   {
    "duration": 81,
    "start_time": "2024-02-13T12:10:11.276Z"
   },
   {
    "duration": 22,
    "start_time": "2024-02-13T12:10:11.359Z"
   },
   {
    "duration": 40,
    "start_time": "2024-02-13T12:10:11.383Z"
   },
   {
    "duration": 24,
    "start_time": "2024-02-13T12:10:11.425Z"
   },
   {
    "duration": 30,
    "start_time": "2024-02-13T12:10:11.451Z"
   },
   {
    "duration": 46,
    "start_time": "2024-02-13T12:10:11.482Z"
   },
   {
    "duration": 22,
    "start_time": "2024-02-13T12:10:11.529Z"
   },
   {
    "duration": 189,
    "start_time": "2024-02-13T12:10:11.553Z"
   },
   {
    "duration": 21,
    "start_time": "2024-02-13T12:10:11.743Z"
   },
   {
    "duration": 27,
    "start_time": "2024-02-13T12:10:11.766Z"
   },
   {
    "duration": 42,
    "start_time": "2024-02-13T12:10:11.802Z"
   },
   {
    "duration": 66,
    "start_time": "2024-02-13T12:10:11.847Z"
   },
   {
    "duration": 318,
    "start_time": "2024-02-13T12:10:11.915Z"
   },
   {
    "duration": 12,
    "start_time": "2024-02-13T12:10:12.235Z"
   },
   {
    "duration": 59,
    "start_time": "2024-02-13T12:10:12.249Z"
   },
   {
    "duration": 57,
    "start_time": "2024-02-13T12:10:12.310Z"
   },
   {
    "duration": 41,
    "start_time": "2024-02-13T12:10:12.368Z"
   },
   {
    "duration": 254,
    "start_time": "2024-02-13T12:10:12.410Z"
   },
   {
    "duration": 3,
    "start_time": "2024-02-13T12:10:12.665Z"
   },
   {
    "duration": 348,
    "start_time": "2024-02-13T12:10:12.669Z"
   },
   {
    "duration": 11,
    "start_time": "2024-02-13T12:10:13.019Z"
   },
   {
    "duration": 15,
    "start_time": "2024-02-13T12:10:13.032Z"
   },
   {
    "duration": 218,
    "start_time": "2024-02-13T12:10:13.049Z"
   },
   {
    "duration": 309,
    "start_time": "2024-02-13T12:10:13.269Z"
   },
   {
    "duration": 285,
    "start_time": "2024-02-13T12:10:13.579Z"
   },
   {
    "duration": 10,
    "start_time": "2024-02-13T12:10:13.866Z"
   },
   {
    "duration": 170,
    "start_time": "2024-02-13T12:10:13.878Z"
   },
   {
    "duration": 4,
    "start_time": "2024-02-13T12:10:14.050Z"
   },
   {
    "duration": 46,
    "start_time": "2024-02-13T12:10:14.056Z"
   },
   {
    "duration": 48,
    "start_time": "2024-02-13T12:10:14.104Z"
   },
   {
    "duration": 10,
    "start_time": "2024-02-13T12:10:14.154Z"
   },
   {
    "duration": 7,
    "start_time": "2024-02-13T12:10:14.166Z"
   },
   {
    "duration": 42,
    "start_time": "2024-02-13T12:10:14.193Z"
   },
   {
    "duration": 13,
    "start_time": "2024-02-13T12:10:14.237Z"
   },
   {
    "duration": 12,
    "start_time": "2024-02-13T12:10:14.252Z"
   },
   {
    "duration": 1155,
    "start_time": "2024-02-13T12:10:59.918Z"
   },
   {
    "duration": 27,
    "start_time": "2024-02-13T12:11:01.074Z"
   },
   {
    "duration": 77,
    "start_time": "2024-02-13T12:11:01.104Z"
   },
   {
    "duration": 12,
    "start_time": "2024-02-13T12:11:01.182Z"
   },
   {
    "duration": 40,
    "start_time": "2024-02-13T12:11:01.197Z"
   },
   {
    "duration": 40,
    "start_time": "2024-02-13T12:11:01.238Z"
   },
   {
    "duration": 43,
    "start_time": "2024-02-13T12:11:01.280Z"
   },
   {
    "duration": 61,
    "start_time": "2024-02-13T12:11:01.324Z"
   },
   {
    "duration": 39,
    "start_time": "2024-02-13T12:11:01.386Z"
   },
   {
    "duration": 221,
    "start_time": "2024-02-13T12:11:01.426Z"
   },
   {
    "duration": 11,
    "start_time": "2024-02-13T12:11:01.649Z"
   },
   {
    "duration": 61,
    "start_time": "2024-02-13T12:11:01.661Z"
   },
   {
    "duration": 42,
    "start_time": "2024-02-13T12:11:01.724Z"
   },
   {
    "duration": 104,
    "start_time": "2024-02-13T12:11:01.769Z"
   },
   {
    "duration": 771,
    "start_time": "2024-02-13T12:11:01.875Z"
   },
   {
    "duration": 21,
    "start_time": "2024-02-13T12:11:02.696Z"
   },
   {
    "duration": 84,
    "start_time": "2024-02-13T12:11:02.719Z"
   },
   {
    "duration": 20,
    "start_time": "2024-02-13T12:11:02.805Z"
   },
   {
    "duration": 75,
    "start_time": "2024-02-13T12:11:02.826Z"
   },
   {
    "duration": 366,
    "start_time": "2024-02-13T12:11:02.904Z"
   },
   {
    "duration": 3,
    "start_time": "2024-02-13T12:11:03.271Z"
   },
   {
    "duration": 391,
    "start_time": "2024-02-13T12:11:03.275Z"
   },
   {
    "duration": 7,
    "start_time": "2024-02-13T12:11:03.668Z"
   },
   {
    "duration": 20,
    "start_time": "2024-02-13T12:11:03.677Z"
   },
   {
    "duration": 232,
    "start_time": "2024-02-13T12:11:03.699Z"
   },
   {
    "duration": 298,
    "start_time": "2024-02-13T12:11:03.933Z"
   },
   {
    "duration": 314,
    "start_time": "2024-02-13T12:11:04.233Z"
   },
   {
    "duration": 8,
    "start_time": "2024-02-13T12:11:04.548Z"
   },
   {
    "duration": 171,
    "start_time": "2024-02-13T12:11:04.558Z"
   },
   {
    "duration": 4,
    "start_time": "2024-02-13T12:11:04.731Z"
   },
   {
    "duration": 15,
    "start_time": "2024-02-13T12:11:04.737Z"
   },
   {
    "duration": 64,
    "start_time": "2024-02-13T12:11:04.754Z"
   },
   {
    "duration": 10,
    "start_time": "2024-02-13T12:11:04.820Z"
   },
   {
    "duration": 17,
    "start_time": "2024-02-13T12:11:04.832Z"
   },
   {
    "duration": 65,
    "start_time": "2024-02-13T12:11:04.850Z"
   },
   {
    "duration": 16,
    "start_time": "2024-02-13T12:11:04.916Z"
   },
   {
    "duration": 51,
    "start_time": "2024-02-13T12:11:04.934Z"
   },
   {
    "duration": 1098,
    "start_time": "2024-02-13T12:11:57.313Z"
   },
   {
    "duration": 27,
    "start_time": "2024-02-13T12:11:58.414Z"
   },
   {
    "duration": 51,
    "start_time": "2024-02-13T12:11:58.443Z"
   },
   {
    "duration": 17,
    "start_time": "2024-02-13T12:11:58.496Z"
   },
   {
    "duration": 24,
    "start_time": "2024-02-13T12:11:58.517Z"
   },
   {
    "duration": 17,
    "start_time": "2024-02-13T12:11:58.542Z"
   },
   {
    "duration": 15,
    "start_time": "2024-02-13T12:11:58.561Z"
   },
   {
    "duration": 12,
    "start_time": "2024-02-13T12:11:58.577Z"
   },
   {
    "duration": 11,
    "start_time": "2024-02-13T12:11:58.590Z"
   },
   {
    "duration": 138,
    "start_time": "2024-02-13T12:11:58.602Z"
   },
   {
    "duration": 12,
    "start_time": "2024-02-13T12:11:58.741Z"
   },
   {
    "duration": 12,
    "start_time": "2024-02-13T12:11:58.754Z"
   },
   {
    "duration": 27,
    "start_time": "2024-02-13T12:11:58.768Z"
   },
   {
    "duration": 9,
    "start_time": "2024-02-13T12:11:58.801Z"
   },
   {
    "duration": 311,
    "start_time": "2024-02-13T12:11:58.812Z"
   },
   {
    "duration": 14,
    "start_time": "2024-02-13T12:11:59.125Z"
   },
   {
    "duration": 16,
    "start_time": "2024-02-13T12:11:59.141Z"
   },
   {
    "duration": 35,
    "start_time": "2024-02-13T12:11:59.159Z"
   },
   {
    "duration": 5,
    "start_time": "2024-02-13T12:11:59.196Z"
   },
   {
    "duration": 204,
    "start_time": "2024-02-13T12:11:59.203Z"
   },
   {
    "duration": 3,
    "start_time": "2024-02-13T12:11:59.409Z"
   },
   {
    "duration": 421,
    "start_time": "2024-02-13T12:11:59.414Z"
   },
   {
    "duration": 61,
    "start_time": "2024-02-13T12:11:59.837Z"
   },
   {
    "duration": 17,
    "start_time": "2024-02-13T12:11:59.900Z"
   },
   {
    "duration": 599,
    "start_time": "2024-02-13T12:11:59.920Z"
   },
   {
    "duration": 619,
    "start_time": "2024-02-13T12:12:00.521Z"
   },
   {
    "duration": 537,
    "start_time": "2024-02-13T12:12:01.196Z"
   },
   {
    "duration": 9,
    "start_time": "2024-02-13T12:12:01.734Z"
   },
   {
    "duration": 167,
    "start_time": "2024-02-13T12:12:01.745Z"
   },
   {
    "duration": 4,
    "start_time": "2024-02-13T12:12:01.914Z"
   },
   {
    "duration": 52,
    "start_time": "2024-02-13T12:12:01.920Z"
   },
   {
    "duration": 80,
    "start_time": "2024-02-13T12:12:01.974Z"
   },
   {
    "duration": 43,
    "start_time": "2024-02-13T12:12:02.056Z"
   },
   {
    "duration": 52,
    "start_time": "2024-02-13T12:12:02.100Z"
   },
   {
    "duration": 70,
    "start_time": "2024-02-13T12:12:02.154Z"
   },
   {
    "duration": 28,
    "start_time": "2024-02-13T12:12:02.226Z"
   },
   {
    "duration": 13,
    "start_time": "2024-02-13T12:12:02.255Z"
   },
   {
    "duration": 1088,
    "start_time": "2024-02-13T12:12:13.351Z"
   },
   {
    "duration": 26,
    "start_time": "2024-02-13T12:12:14.441Z"
   },
   {
    "duration": 51,
    "start_time": "2024-02-13T12:12:14.468Z"
   },
   {
    "duration": 11,
    "start_time": "2024-02-13T12:12:14.521Z"
   },
   {
    "duration": 59,
    "start_time": "2024-02-13T12:12:14.534Z"
   },
   {
    "duration": 30,
    "start_time": "2024-02-13T12:12:14.595Z"
   },
   {
    "duration": 37,
    "start_time": "2024-02-13T12:12:14.627Z"
   },
   {
    "duration": 38,
    "start_time": "2024-02-13T12:12:14.666Z"
   },
   {
    "duration": 40,
    "start_time": "2024-02-13T12:12:14.706Z"
   },
   {
    "duration": 160,
    "start_time": "2024-02-13T12:12:14.748Z"
   },
   {
    "duration": 23,
    "start_time": "2024-02-13T12:12:14.911Z"
   },
   {
    "duration": 45,
    "start_time": "2024-02-13T12:12:14.935Z"
   },
   {
    "duration": 55,
    "start_time": "2024-02-13T12:12:14.982Z"
   },
   {
    "duration": 56,
    "start_time": "2024-02-13T12:12:15.039Z"
   },
   {
    "duration": 357,
    "start_time": "2024-02-13T12:12:15.098Z"
   },
   {
    "duration": 11,
    "start_time": "2024-02-13T12:12:15.457Z"
   },
   {
    "duration": 47,
    "start_time": "2024-02-13T12:12:15.469Z"
   },
   {
    "duration": 41,
    "start_time": "2024-02-13T12:12:15.518Z"
   },
   {
    "duration": 26,
    "start_time": "2024-02-13T12:12:15.561Z"
   },
   {
    "duration": 225,
    "start_time": "2024-02-13T12:12:15.589Z"
   },
   {
    "duration": 3,
    "start_time": "2024-02-13T12:12:15.816Z"
   },
   {
    "duration": 574,
    "start_time": "2024-02-13T12:12:15.820Z"
   },
   {
    "duration": 11,
    "start_time": "2024-02-13T12:12:16.396Z"
   },
   {
    "duration": 43,
    "start_time": "2024-02-13T12:12:16.409Z"
   },
   {
    "duration": 550,
    "start_time": "2024-02-13T12:12:16.454Z"
   },
   {
    "duration": 511,
    "start_time": "2024-02-13T12:12:17.006Z"
   },
   {
    "duration": 322,
    "start_time": "2024-02-13T12:12:17.519Z"
   },
   {
    "duration": 8,
    "start_time": "2024-02-13T12:12:17.844Z"
   },
   {
    "duration": 174,
    "start_time": "2024-02-13T12:12:17.854Z"
   },
   {
    "duration": 4,
    "start_time": "2024-02-13T12:12:18.030Z"
   },
   {
    "duration": 45,
    "start_time": "2024-02-13T12:12:18.036Z"
   },
   {
    "duration": 52,
    "start_time": "2024-02-13T12:12:18.082Z"
   },
   {
    "duration": 29,
    "start_time": "2024-02-13T12:12:18.135Z"
   },
   {
    "duration": 53,
    "start_time": "2024-02-13T12:12:18.166Z"
   },
   {
    "duration": 83,
    "start_time": "2024-02-13T12:12:18.220Z"
   },
   {
    "duration": 17,
    "start_time": "2024-02-13T12:12:18.305Z"
   },
   {
    "duration": 48,
    "start_time": "2024-02-13T12:12:18.325Z"
   },
   {
    "duration": 1159,
    "start_time": "2024-02-13T12:12:51.981Z"
   },
   {
    "duration": 27,
    "start_time": "2024-02-13T12:12:53.142Z"
   },
   {
    "duration": 51,
    "start_time": "2024-02-13T12:12:53.171Z"
   },
   {
    "duration": 12,
    "start_time": "2024-02-13T12:12:53.224Z"
   },
   {
    "duration": 28,
    "start_time": "2024-02-13T12:12:53.237Z"
   },
   {
    "duration": 39,
    "start_time": "2024-02-13T12:12:53.267Z"
   },
   {
    "duration": 30,
    "start_time": "2024-02-13T12:12:53.308Z"
   },
   {
    "duration": 38,
    "start_time": "2024-02-13T12:12:53.339Z"
   },
   {
    "duration": 31,
    "start_time": "2024-02-13T12:12:53.378Z"
   },
   {
    "duration": 156,
    "start_time": "2024-02-13T12:12:53.413Z"
   },
   {
    "duration": 27,
    "start_time": "2024-02-13T12:12:53.571Z"
   },
   {
    "duration": 37,
    "start_time": "2024-02-13T12:12:53.600Z"
   },
   {
    "duration": 27,
    "start_time": "2024-02-13T12:12:53.639Z"
   },
   {
    "duration": 45,
    "start_time": "2024-02-13T12:12:53.667Z"
   },
   {
    "duration": 304,
    "start_time": "2024-02-13T12:12:53.714Z"
   },
   {
    "duration": 13,
    "start_time": "2024-02-13T12:12:54.020Z"
   },
   {
    "duration": 31,
    "start_time": "2024-02-13T12:12:54.035Z"
   },
   {
    "duration": 58,
    "start_time": "2024-02-13T12:12:54.067Z"
   },
   {
    "duration": 57,
    "start_time": "2024-02-13T12:12:54.127Z"
   },
   {
    "duration": 238,
    "start_time": "2024-02-13T12:12:54.186Z"
   },
   {
    "duration": 3,
    "start_time": "2024-02-13T12:12:54.426Z"
   },
   {
    "duration": 506,
    "start_time": "2024-02-13T12:12:54.430Z"
   },
   {
    "duration": 64,
    "start_time": "2024-02-13T12:12:54.938Z"
   },
   {
    "duration": 56,
    "start_time": "2024-02-13T12:12:55.004Z"
   },
   {
    "duration": 447,
    "start_time": "2024-02-13T12:12:55.062Z"
   },
   {
    "duration": 609,
    "start_time": "2024-02-13T12:12:55.511Z"
   },
   {
    "duration": 617,
    "start_time": "2024-02-13T12:12:56.122Z"
   },
   {
    "duration": 8,
    "start_time": "2024-02-13T12:12:56.742Z"
   },
   {
    "duration": 192,
    "start_time": "2024-02-13T12:12:56.751Z"
   },
   {
    "duration": 4,
    "start_time": "2024-02-13T12:12:56.944Z"
   },
   {
    "duration": 45,
    "start_time": "2024-02-13T12:12:56.950Z"
   },
   {
    "duration": 63,
    "start_time": "2024-02-13T12:12:56.998Z"
   },
   {
    "duration": 47,
    "start_time": "2024-02-13T12:12:57.062Z"
   },
   {
    "duration": 17,
    "start_time": "2024-02-13T12:12:57.111Z"
   },
   {
    "duration": 71,
    "start_time": "2024-02-13T12:12:57.130Z"
   },
   {
    "duration": 29,
    "start_time": "2024-02-13T12:12:57.203Z"
   },
   {
    "duration": 66,
    "start_time": "2024-02-13T12:12:57.234Z"
   },
   {
    "duration": 1165,
    "start_time": "2024-02-13T12:13:31.124Z"
   },
   {
    "duration": 28,
    "start_time": "2024-02-13T12:13:32.291Z"
   },
   {
    "duration": 52,
    "start_time": "2024-02-13T12:13:32.571Z"
   },
   {
    "duration": 12,
    "start_time": "2024-02-13T12:13:33.122Z"
   },
   {
    "duration": 11,
    "start_time": "2024-02-13T12:13:33.394Z"
   },
   {
    "duration": 5,
    "start_time": "2024-02-13T12:13:34.348Z"
   },
   {
    "duration": 7,
    "start_time": "2024-02-13T12:13:35.450Z"
   },
   {
    "duration": 9,
    "start_time": "2024-02-13T12:13:37.599Z"
   },
   {
    "duration": 9,
    "start_time": "2024-02-13T12:13:38.857Z"
   },
   {
    "duration": 124,
    "start_time": "2024-02-13T12:13:39.327Z"
   },
   {
    "duration": 12,
    "start_time": "2024-02-13T12:14:02.655Z"
   },
   {
    "duration": 1160,
    "start_time": "2024-02-13T12:17:08.809Z"
   },
   {
    "duration": 25,
    "start_time": "2024-02-13T12:17:09.971Z"
   },
   {
    "duration": 50,
    "start_time": "2024-02-13T12:17:10.000Z"
   },
   {
    "duration": 14,
    "start_time": "2024-02-13T12:17:10.053Z"
   },
   {
    "duration": 29,
    "start_time": "2024-02-13T12:17:10.068Z"
   },
   {
    "duration": 22,
    "start_time": "2024-02-13T12:17:10.098Z"
   },
   {
    "duration": 24,
    "start_time": "2024-02-13T12:17:10.122Z"
   },
   {
    "duration": 12,
    "start_time": "2024-02-13T12:17:10.148Z"
   },
   {
    "duration": 13,
    "start_time": "2024-02-13T12:17:10.162Z"
   },
   {
    "duration": 11,
    "start_time": "2024-02-13T12:17:10.178Z"
   },
   {
    "duration": 17,
    "start_time": "2024-02-13T12:17:10.190Z"
   },
   {
    "duration": 12,
    "start_time": "2024-02-13T12:17:10.209Z"
   },
   {
    "duration": 1222,
    "start_time": "2024-02-13T12:17:10.223Z"
   },
   {
    "duration": 0,
    "start_time": "2024-02-13T12:17:11.448Z"
   },
   {
    "duration": 0,
    "start_time": "2024-02-13T12:17:11.449Z"
   },
   {
    "duration": 0,
    "start_time": "2024-02-13T12:17:11.451Z"
   },
   {
    "duration": 0,
    "start_time": "2024-02-13T12:17:11.453Z"
   },
   {
    "duration": 0,
    "start_time": "2024-02-13T12:17:11.454Z"
   },
   {
    "duration": 0,
    "start_time": "2024-02-13T12:17:11.455Z"
   },
   {
    "duration": 0,
    "start_time": "2024-02-13T12:17:11.456Z"
   },
   {
    "duration": 0,
    "start_time": "2024-02-13T12:17:11.458Z"
   },
   {
    "duration": 0,
    "start_time": "2024-02-13T12:17:11.459Z"
   },
   {
    "duration": 0,
    "start_time": "2024-02-13T12:17:11.461Z"
   },
   {
    "duration": 1,
    "start_time": "2024-02-13T12:17:11.461Z"
   },
   {
    "duration": 0,
    "start_time": "2024-02-13T12:17:11.462Z"
   },
   {
    "duration": 0,
    "start_time": "2024-02-13T12:17:11.463Z"
   },
   {
    "duration": 0,
    "start_time": "2024-02-13T12:17:11.498Z"
   },
   {
    "duration": 0,
    "start_time": "2024-02-13T12:17:11.499Z"
   },
   {
    "duration": 0,
    "start_time": "2024-02-13T12:17:11.501Z"
   },
   {
    "duration": 0,
    "start_time": "2024-02-13T12:17:11.502Z"
   },
   {
    "duration": 0,
    "start_time": "2024-02-13T12:17:11.503Z"
   },
   {
    "duration": 0,
    "start_time": "2024-02-13T12:17:11.504Z"
   },
   {
    "duration": 0,
    "start_time": "2024-02-13T12:17:11.505Z"
   },
   {
    "duration": 0,
    "start_time": "2024-02-13T12:17:11.506Z"
   },
   {
    "duration": 0,
    "start_time": "2024-02-13T12:17:11.509Z"
   },
   {
    "duration": 0,
    "start_time": "2024-02-13T12:17:11.511Z"
   },
   {
    "duration": 0,
    "start_time": "2024-02-13T12:17:11.513Z"
   },
   {
    "duration": 9,
    "start_time": "2024-02-13T12:18:24.558Z"
   },
   {
    "duration": 1065,
    "start_time": "2024-02-13T12:18:30.136Z"
   },
   {
    "duration": 18,
    "start_time": "2024-02-13T12:18:44.688Z"
   },
   {
    "duration": 19,
    "start_time": "2024-02-13T12:19:21.410Z"
   },
   {
    "duration": 13,
    "start_time": "2024-02-13T12:19:23.913Z"
   },
   {
    "duration": 18,
    "start_time": "2024-02-13T12:19:56.118Z"
   },
   {
    "duration": 12,
    "start_time": "2024-02-13T12:20:00.358Z"
   },
   {
    "duration": 1268,
    "start_time": "2024-02-13T12:20:23.026Z"
   },
   {
    "duration": 25,
    "start_time": "2024-02-13T12:20:24.297Z"
   },
   {
    "duration": 70,
    "start_time": "2024-02-13T12:20:24.324Z"
   },
   {
    "duration": 13,
    "start_time": "2024-02-13T12:20:24.396Z"
   },
   {
    "duration": 11,
    "start_time": "2024-02-13T12:20:24.413Z"
   },
   {
    "duration": 7,
    "start_time": "2024-02-13T12:20:24.426Z"
   },
   {
    "duration": 64,
    "start_time": "2024-02-13T12:20:24.434Z"
   },
   {
    "duration": 8,
    "start_time": "2024-02-13T12:20:24.500Z"
   },
   {
    "duration": 1268,
    "start_time": "2024-02-13T12:20:24.510Z"
   },
   {
    "duration": 0,
    "start_time": "2024-02-13T12:20:25.780Z"
   },
   {
    "duration": 0,
    "start_time": "2024-02-13T12:20:25.782Z"
   },
   {
    "duration": 0,
    "start_time": "2024-02-13T12:20:25.783Z"
   },
   {
    "duration": 0,
    "start_time": "2024-02-13T12:20:25.784Z"
   },
   {
    "duration": 0,
    "start_time": "2024-02-13T12:20:25.785Z"
   },
   {
    "duration": 0,
    "start_time": "2024-02-13T12:20:25.786Z"
   },
   {
    "duration": 0,
    "start_time": "2024-02-13T12:20:25.787Z"
   },
   {
    "duration": 0,
    "start_time": "2024-02-13T12:20:25.788Z"
   },
   {
    "duration": 0,
    "start_time": "2024-02-13T12:20:25.789Z"
   },
   {
    "duration": 0,
    "start_time": "2024-02-13T12:20:25.790Z"
   },
   {
    "duration": 0,
    "start_time": "2024-02-13T12:20:25.792Z"
   },
   {
    "duration": 0,
    "start_time": "2024-02-13T12:20:25.792Z"
   },
   {
    "duration": 0,
    "start_time": "2024-02-13T12:20:25.798Z"
   },
   {
    "duration": 0,
    "start_time": "2024-02-13T12:20:25.800Z"
   },
   {
    "duration": 0,
    "start_time": "2024-02-13T12:20:25.802Z"
   },
   {
    "duration": 0,
    "start_time": "2024-02-13T12:20:25.804Z"
   },
   {
    "duration": 0,
    "start_time": "2024-02-13T12:20:25.805Z"
   },
   {
    "duration": 0,
    "start_time": "2024-02-13T12:20:25.807Z"
   },
   {
    "duration": 0,
    "start_time": "2024-02-13T12:20:25.809Z"
   },
   {
    "duration": 0,
    "start_time": "2024-02-13T12:20:25.811Z"
   },
   {
    "duration": 0,
    "start_time": "2024-02-13T12:20:25.813Z"
   },
   {
    "duration": 0,
    "start_time": "2024-02-13T12:20:25.815Z"
   },
   {
    "duration": 0,
    "start_time": "2024-02-13T12:20:25.816Z"
   },
   {
    "duration": 0,
    "start_time": "2024-02-13T12:20:25.818Z"
   },
   {
    "duration": 0,
    "start_time": "2024-02-13T12:20:25.819Z"
   },
   {
    "duration": 0,
    "start_time": "2024-02-13T12:20:25.820Z"
   },
   {
    "duration": 0,
    "start_time": "2024-02-13T12:20:25.822Z"
   },
   {
    "duration": 0,
    "start_time": "2024-02-13T12:20:25.823Z"
   },
   {
    "duration": 0,
    "start_time": "2024-02-13T12:20:25.824Z"
   },
   {
    "duration": 15,
    "start_time": "2024-02-13T12:20:35.767Z"
   },
   {
    "duration": 1506,
    "start_time": "2024-02-13T12:21:30.030Z"
   },
   {
    "duration": 70,
    "start_time": "2024-02-13T12:21:31.538Z"
   },
   {
    "duration": 61,
    "start_time": "2024-02-13T12:21:31.609Z"
   },
   {
    "duration": 32,
    "start_time": "2024-02-13T12:21:31.672Z"
   },
   {
    "duration": 93,
    "start_time": "2024-02-13T12:21:31.707Z"
   },
   {
    "duration": 66,
    "start_time": "2024-02-13T12:21:31.802Z"
   },
   {
    "duration": 10,
    "start_time": "2024-02-13T12:21:31.894Z"
   },
   {
    "duration": 57,
    "start_time": "2024-02-13T12:21:31.906Z"
   },
   {
    "duration": 1393,
    "start_time": "2024-02-13T12:21:31.964Z"
   },
   {
    "duration": 0,
    "start_time": "2024-02-13T12:21:33.359Z"
   },
   {
    "duration": 0,
    "start_time": "2024-02-13T12:21:33.361Z"
   },
   {
    "duration": 0,
    "start_time": "2024-02-13T12:21:33.362Z"
   },
   {
    "duration": 0,
    "start_time": "2024-02-13T12:21:33.364Z"
   },
   {
    "duration": 0,
    "start_time": "2024-02-13T12:21:33.365Z"
   },
   {
    "duration": 0,
    "start_time": "2024-02-13T12:21:33.366Z"
   },
   {
    "duration": 0,
    "start_time": "2024-02-13T12:21:33.367Z"
   },
   {
    "duration": 0,
    "start_time": "2024-02-13T12:21:33.368Z"
   },
   {
    "duration": 0,
    "start_time": "2024-02-13T12:21:33.369Z"
   },
   {
    "duration": 0,
    "start_time": "2024-02-13T12:21:33.370Z"
   },
   {
    "duration": 0,
    "start_time": "2024-02-13T12:21:33.371Z"
   },
   {
    "duration": 0,
    "start_time": "2024-02-13T12:21:33.372Z"
   },
   {
    "duration": 0,
    "start_time": "2024-02-13T12:21:33.372Z"
   },
   {
    "duration": 0,
    "start_time": "2024-02-13T12:21:33.374Z"
   },
   {
    "duration": 0,
    "start_time": "2024-02-13T12:21:33.375Z"
   },
   {
    "duration": 0,
    "start_time": "2024-02-13T12:21:33.376Z"
   },
   {
    "duration": 0,
    "start_time": "2024-02-13T12:21:33.377Z"
   },
   {
    "duration": 0,
    "start_time": "2024-02-13T12:21:33.378Z"
   },
   {
    "duration": 0,
    "start_time": "2024-02-13T12:21:33.379Z"
   },
   {
    "duration": 0,
    "start_time": "2024-02-13T12:21:33.380Z"
   },
   {
    "duration": 0,
    "start_time": "2024-02-13T12:21:33.381Z"
   },
   {
    "duration": 0,
    "start_time": "2024-02-13T12:21:33.382Z"
   },
   {
    "duration": 0,
    "start_time": "2024-02-13T12:21:33.382Z"
   },
   {
    "duration": 0,
    "start_time": "2024-02-13T12:21:33.383Z"
   },
   {
    "duration": 0,
    "start_time": "2024-02-13T12:21:33.384Z"
   },
   {
    "duration": 0,
    "start_time": "2024-02-13T12:21:33.385Z"
   },
   {
    "duration": 0,
    "start_time": "2024-02-13T12:21:33.386Z"
   },
   {
    "duration": 0,
    "start_time": "2024-02-13T12:21:33.387Z"
   },
   {
    "duration": 0,
    "start_time": "2024-02-13T12:21:33.388Z"
   },
   {
    "duration": 1351,
    "start_time": "2024-02-13T12:21:43.286Z"
   },
   {
    "duration": 70,
    "start_time": "2024-02-13T12:21:44.639Z"
   },
   {
    "duration": 47,
    "start_time": "2024-02-13T12:21:44.712Z"
   },
   {
    "duration": 59,
    "start_time": "2024-02-13T12:21:44.761Z"
   },
   {
    "duration": 76,
    "start_time": "2024-02-13T12:21:44.822Z"
   },
   {
    "duration": 26,
    "start_time": "2024-02-13T12:21:44.901Z"
   },
   {
    "duration": 74,
    "start_time": "2024-02-13T12:21:44.928Z"
   },
   {
    "duration": 113,
    "start_time": "2024-02-13T12:21:45.004Z"
   },
   {
    "duration": 86,
    "start_time": "2024-02-13T12:21:45.119Z"
   },
   {
    "duration": 42,
    "start_time": "2024-02-13T12:21:45.206Z"
   },
   {
    "duration": 109,
    "start_time": "2024-02-13T12:21:45.250Z"
   },
   {
    "duration": 75,
    "start_time": "2024-02-13T12:21:45.361Z"
   },
   {
    "duration": 144,
    "start_time": "2024-02-13T12:21:45.438Z"
   },
   {
    "duration": 0,
    "start_time": "2024-02-13T12:21:45.584Z"
   },
   {
    "duration": 0,
    "start_time": "2024-02-13T12:21:45.585Z"
   },
   {
    "duration": 0,
    "start_time": "2024-02-13T12:21:45.586Z"
   },
   {
    "duration": 0,
    "start_time": "2024-02-13T12:21:45.587Z"
   },
   {
    "duration": 0,
    "start_time": "2024-02-13T12:21:45.594Z"
   },
   {
    "duration": 0,
    "start_time": "2024-02-13T12:21:45.595Z"
   },
   {
    "duration": 0,
    "start_time": "2024-02-13T12:21:45.597Z"
   },
   {
    "duration": 0,
    "start_time": "2024-02-13T12:21:45.598Z"
   },
   {
    "duration": 0,
    "start_time": "2024-02-13T12:21:45.599Z"
   },
   {
    "duration": 0,
    "start_time": "2024-02-13T12:21:45.601Z"
   },
   {
    "duration": 0,
    "start_time": "2024-02-13T12:21:45.602Z"
   },
   {
    "duration": 0,
    "start_time": "2024-02-13T12:21:45.604Z"
   },
   {
    "duration": 0,
    "start_time": "2024-02-13T12:21:45.606Z"
   },
   {
    "duration": 0,
    "start_time": "2024-02-13T12:21:45.607Z"
   },
   {
    "duration": 0,
    "start_time": "2024-02-13T12:21:45.609Z"
   },
   {
    "duration": 0,
    "start_time": "2024-02-13T12:21:45.611Z"
   },
   {
    "duration": 0,
    "start_time": "2024-02-13T12:21:45.612Z"
   },
   {
    "duration": 0,
    "start_time": "2024-02-13T12:21:45.614Z"
   },
   {
    "duration": 0,
    "start_time": "2024-02-13T12:21:45.617Z"
   },
   {
    "duration": 0,
    "start_time": "2024-02-13T12:21:45.619Z"
   },
   {
    "duration": 0,
    "start_time": "2024-02-13T12:21:45.620Z"
   },
   {
    "duration": 0,
    "start_time": "2024-02-13T12:21:45.621Z"
   },
   {
    "duration": 0,
    "start_time": "2024-02-13T12:21:45.623Z"
   },
   {
    "duration": 0,
    "start_time": "2024-02-13T12:21:45.624Z"
   },
   {
    "duration": 1170,
    "start_time": "2024-02-13T12:22:24.602Z"
   },
   {
    "duration": 25,
    "start_time": "2024-02-13T12:22:25.774Z"
   },
   {
    "duration": 68,
    "start_time": "2024-02-13T12:22:25.802Z"
   },
   {
    "duration": 10,
    "start_time": "2024-02-13T12:22:25.872Z"
   },
   {
    "duration": 57,
    "start_time": "2024-02-13T12:22:25.883Z"
   },
   {
    "duration": 24,
    "start_time": "2024-02-13T12:22:25.941Z"
   },
   {
    "duration": 58,
    "start_time": "2024-02-13T12:22:25.967Z"
   },
   {
    "duration": 75,
    "start_time": "2024-02-13T12:22:26.027Z"
   },
   {
    "duration": 57,
    "start_time": "2024-02-13T12:22:26.104Z"
   },
   {
    "duration": 11,
    "start_time": "2024-02-13T12:22:26.163Z"
   },
   {
    "duration": 27,
    "start_time": "2024-02-13T12:22:26.176Z"
   },
   {
    "duration": 154,
    "start_time": "2024-02-13T12:22:26.205Z"
   },
   {
    "duration": 6,
    "start_time": "2024-02-13T12:22:26.361Z"
   },
   {
    "duration": 352,
    "start_time": "2024-02-13T12:22:26.369Z"
   },
   {
    "duration": 13,
    "start_time": "2024-02-13T12:22:26.724Z"
   },
   {
    "duration": 33,
    "start_time": "2024-02-13T12:22:26.739Z"
   },
   {
    "duration": 28,
    "start_time": "2024-02-13T12:22:26.774Z"
   },
   {
    "duration": 36,
    "start_time": "2024-02-13T12:22:26.804Z"
   },
   {
    "duration": 228,
    "start_time": "2024-02-13T12:22:26.841Z"
   },
   {
    "duration": 2,
    "start_time": "2024-02-13T12:22:27.071Z"
   },
   {
    "duration": 343,
    "start_time": "2024-02-13T12:22:27.074Z"
   },
   {
    "duration": 12,
    "start_time": "2024-02-13T12:22:27.419Z"
   },
   {
    "duration": 8,
    "start_time": "2024-02-13T12:22:27.433Z"
   },
   {
    "duration": 239,
    "start_time": "2024-02-13T12:22:27.442Z"
   },
   {
    "duration": 349,
    "start_time": "2024-02-13T12:22:27.682Z"
   },
   {
    "duration": 263,
    "start_time": "2024-02-13T12:22:28.033Z"
   },
   {
    "duration": 12,
    "start_time": "2024-02-13T12:22:28.298Z"
   },
   {
    "duration": 168,
    "start_time": "2024-02-13T12:22:28.315Z"
   },
   {
    "duration": 9,
    "start_time": "2024-02-13T12:22:28.485Z"
   },
   {
    "duration": 19,
    "start_time": "2024-02-13T12:22:28.495Z"
   },
   {
    "duration": 46,
    "start_time": "2024-02-13T12:22:28.516Z"
   },
   {
    "duration": 10,
    "start_time": "2024-02-13T12:22:28.563Z"
   },
   {
    "duration": 13,
    "start_time": "2024-02-13T12:22:28.595Z"
   },
   {
    "duration": 38,
    "start_time": "2024-02-13T12:22:28.610Z"
   },
   {
    "duration": 14,
    "start_time": "2024-02-13T12:22:28.649Z"
   },
   {
    "duration": 38,
    "start_time": "2024-02-13T12:22:28.664Z"
   },
   {
    "duration": 1156,
    "start_time": "2024-02-13T12:34:11.458Z"
   },
   {
    "duration": 27,
    "start_time": "2024-02-13T12:34:12.617Z"
   },
   {
    "duration": 51,
    "start_time": "2024-02-13T12:34:12.646Z"
   },
   {
    "duration": 22,
    "start_time": "2024-02-13T12:34:12.701Z"
   },
   {
    "duration": 15,
    "start_time": "2024-02-13T12:34:12.725Z"
   },
   {
    "duration": 10,
    "start_time": "2024-02-13T12:34:12.742Z"
   },
   {
    "duration": 15,
    "start_time": "2024-02-13T12:34:12.753Z"
   },
   {
    "duration": 10,
    "start_time": "2024-02-13T12:34:12.770Z"
   },
   {
    "duration": 46,
    "start_time": "2024-02-13T12:34:12.782Z"
   },
   {
    "duration": 13,
    "start_time": "2024-02-13T12:34:12.831Z"
   },
   {
    "duration": 16,
    "start_time": "2024-02-13T12:34:12.846Z"
   },
   {
    "duration": 200,
    "start_time": "2024-02-13T12:34:12.864Z"
   },
   {
    "duration": 7,
    "start_time": "2024-02-13T12:34:13.066Z"
   },
   {
    "duration": 380,
    "start_time": "2024-02-13T12:34:13.075Z"
   },
   {
    "duration": 12,
    "start_time": "2024-02-13T12:34:13.457Z"
   },
   {
    "duration": 21,
    "start_time": "2024-02-13T12:34:13.470Z"
   },
   {
    "duration": 41,
    "start_time": "2024-02-13T12:34:13.492Z"
   },
   {
    "duration": 4,
    "start_time": "2024-02-13T12:34:13.537Z"
   },
   {
    "duration": 239,
    "start_time": "2024-02-13T12:34:13.543Z"
   },
   {
    "duration": 2,
    "start_time": "2024-02-13T12:34:13.783Z"
   },
   {
    "duration": 347,
    "start_time": "2024-02-13T12:34:13.787Z"
   },
   {
    "duration": 9,
    "start_time": "2024-02-13T12:34:14.136Z"
   },
   {
    "duration": 18,
    "start_time": "2024-02-13T12:34:14.146Z"
   },
   {
    "duration": 278,
    "start_time": "2024-02-13T12:34:14.166Z"
   },
   {
    "duration": 296,
    "start_time": "2024-02-13T12:34:14.446Z"
   },
   {
    "duration": 345,
    "start_time": "2024-02-13T12:34:14.743Z"
   },
   {
    "duration": 21,
    "start_time": "2024-02-13T12:34:15.097Z"
   },
   {
    "duration": 211,
    "start_time": "2024-02-13T12:34:15.123Z"
   },
   {
    "duration": 5,
    "start_time": "2024-02-13T12:34:15.336Z"
   },
   {
    "duration": 32,
    "start_time": "2024-02-13T12:34:15.343Z"
   },
   {
    "duration": 62,
    "start_time": "2024-02-13T12:34:15.376Z"
   },
   {
    "duration": 12,
    "start_time": "2024-02-13T12:34:15.449Z"
   },
   {
    "duration": 18,
    "start_time": "2024-02-13T12:34:15.463Z"
   },
   {
    "duration": 69,
    "start_time": "2024-02-13T12:34:15.483Z"
   },
   {
    "duration": 19,
    "start_time": "2024-02-13T12:34:15.554Z"
   },
   {
    "duration": 3,
    "start_time": "2024-02-13T12:34:15.575Z"
   },
   {
    "duration": 1124,
    "start_time": "2024-02-13T12:35:50.735Z"
   },
   {
    "duration": 25,
    "start_time": "2024-02-13T12:35:51.861Z"
   },
   {
    "duration": 49,
    "start_time": "2024-02-13T12:35:51.887Z"
   },
   {
    "duration": 16,
    "start_time": "2024-02-13T12:35:51.939Z"
   },
   {
    "duration": 18,
    "start_time": "2024-02-13T12:35:51.957Z"
   },
   {
    "duration": 25,
    "start_time": "2024-02-13T12:35:51.977Z"
   },
   {
    "duration": 18,
    "start_time": "2024-02-13T12:35:52.005Z"
   },
   {
    "duration": 17,
    "start_time": "2024-02-13T12:35:52.024Z"
   },
   {
    "duration": 28,
    "start_time": "2024-02-13T12:35:52.043Z"
   },
   {
    "duration": 11,
    "start_time": "2024-02-13T12:35:52.072Z"
   },
   {
    "duration": 32,
    "start_time": "2024-02-13T12:35:52.084Z"
   },
   {
    "duration": 169,
    "start_time": "2024-02-13T12:35:52.117Z"
   },
   {
    "duration": 6,
    "start_time": "2024-02-13T12:35:52.288Z"
   },
   {
    "duration": 345,
    "start_time": "2024-02-13T12:35:52.298Z"
   },
   {
    "duration": 12,
    "start_time": "2024-02-13T12:35:52.644Z"
   },
   {
    "duration": 26,
    "start_time": "2024-02-13T12:35:52.657Z"
   },
   {
    "duration": 32,
    "start_time": "2024-02-13T12:35:52.685Z"
   },
   {
    "duration": 19,
    "start_time": "2024-02-13T12:35:52.719Z"
   },
   {
    "duration": 220,
    "start_time": "2024-02-13T12:35:52.739Z"
   },
   {
    "duration": 2,
    "start_time": "2024-02-13T12:35:52.960Z"
   },
   {
    "duration": 435,
    "start_time": "2024-02-13T12:35:52.964Z"
   },
   {
    "duration": 27,
    "start_time": "2024-02-13T12:35:53.402Z"
   },
   {
    "duration": 64,
    "start_time": "2024-02-13T12:35:53.432Z"
   },
   {
    "duration": 547,
    "start_time": "2024-02-13T12:35:53.498Z"
   },
   {
    "duration": 560,
    "start_time": "2024-02-13T12:35:54.046Z"
   },
   {
    "duration": 609,
    "start_time": "2024-02-13T12:35:54.608Z"
   },
   {
    "duration": 9,
    "start_time": "2024-02-13T12:35:55.219Z"
   },
   {
    "duration": 167,
    "start_time": "2024-02-13T12:35:55.230Z"
   },
   {
    "duration": 5,
    "start_time": "2024-02-13T12:35:55.399Z"
   },
   {
    "duration": 28,
    "start_time": "2024-02-13T12:35:55.406Z"
   },
   {
    "duration": 65,
    "start_time": "2024-02-13T12:35:55.435Z"
   },
   {
    "duration": 13,
    "start_time": "2024-02-13T12:35:55.503Z"
   },
   {
    "duration": 24,
    "start_time": "2024-02-13T12:35:55.518Z"
   },
   {
    "duration": 70,
    "start_time": "2024-02-13T12:35:55.544Z"
   },
   {
    "duration": 19,
    "start_time": "2024-02-13T12:35:55.618Z"
   },
   {
    "duration": 43,
    "start_time": "2024-02-13T12:35:55.638Z"
   },
   {
    "duration": 11,
    "start_time": "2024-02-13T12:47:30.855Z"
   },
   {
    "duration": 9,
    "start_time": "2024-02-13T12:47:46.115Z"
   },
   {
    "duration": 28,
    "start_time": "2024-02-13T12:52:45.893Z"
   },
   {
    "duration": 1036,
    "start_time": "2024-02-13T12:55:14.645Z"
   },
   {
    "duration": 25,
    "start_time": "2024-02-13T12:55:15.683Z"
   },
   {
    "duration": 54,
    "start_time": "2024-02-13T12:55:15.709Z"
   },
   {
    "duration": 11,
    "start_time": "2024-02-13T12:55:15.765Z"
   },
   {
    "duration": 55,
    "start_time": "2024-02-13T12:55:15.777Z"
   },
   {
    "duration": 25,
    "start_time": "2024-02-13T12:55:15.833Z"
   },
   {
    "duration": 41,
    "start_time": "2024-02-13T12:55:15.860Z"
   },
   {
    "duration": 44,
    "start_time": "2024-02-13T12:55:15.903Z"
   },
   {
    "duration": 46,
    "start_time": "2024-02-13T12:55:15.949Z"
   },
   {
    "duration": 30,
    "start_time": "2024-02-13T12:55:15.998Z"
   },
   {
    "duration": 36,
    "start_time": "2024-02-13T12:55:16.030Z"
   },
   {
    "duration": 153,
    "start_time": "2024-02-13T12:55:16.068Z"
   },
   {
    "duration": 6,
    "start_time": "2024-02-13T12:55:16.223Z"
   },
   {
    "duration": 279,
    "start_time": "2024-02-13T12:55:16.230Z"
   },
   {
    "duration": 12,
    "start_time": "2024-02-13T12:55:16.510Z"
   },
   {
    "duration": 35,
    "start_time": "2024-02-13T12:55:16.523Z"
   },
   {
    "duration": 23,
    "start_time": "2024-02-13T12:55:16.559Z"
   },
   {
    "duration": 29,
    "start_time": "2024-02-13T12:55:16.583Z"
   },
   {
    "duration": 205,
    "start_time": "2024-02-13T12:55:16.614Z"
   },
   {
    "duration": 2,
    "start_time": "2024-02-13T12:55:16.820Z"
   },
   {
    "duration": 272,
    "start_time": "2024-02-13T12:55:16.823Z"
   },
   {
    "duration": 8,
    "start_time": "2024-02-13T12:55:17.097Z"
   },
   {
    "duration": 16,
    "start_time": "2024-02-13T12:55:17.107Z"
   },
   {
    "duration": 194,
    "start_time": "2024-02-13T12:55:17.124Z"
   },
   {
    "duration": 264,
    "start_time": "2024-02-13T12:55:17.320Z"
   },
   {
    "duration": 272,
    "start_time": "2024-02-13T12:55:17.593Z"
   },
   {
    "duration": 7,
    "start_time": "2024-02-13T12:55:17.867Z"
   },
   {
    "duration": 151,
    "start_time": "2024-02-13T12:55:17.877Z"
   },
   {
    "duration": 4,
    "start_time": "2024-02-13T12:55:18.030Z"
   },
   {
    "duration": 27,
    "start_time": "2024-02-13T12:55:18.035Z"
   },
   {
    "duration": 44,
    "start_time": "2024-02-13T12:55:18.063Z"
   },
   {
    "duration": 24,
    "start_time": "2024-02-13T12:55:18.109Z"
   },
   {
    "duration": 50,
    "start_time": "2024-02-13T12:55:18.134Z"
   },
   {
    "duration": 42,
    "start_time": "2024-02-13T12:55:18.186Z"
   },
   {
    "duration": 14,
    "start_time": "2024-02-13T12:55:18.229Z"
   },
   {
    "duration": 5,
    "start_time": "2024-02-13T12:55:18.245Z"
   },
   {
    "duration": 1268,
    "start_time": "2024-02-14T06:07:10.130Z"
   },
   {
    "duration": 59,
    "start_time": "2024-02-14T06:07:11.400Z"
   },
   {
    "duration": 128,
    "start_time": "2024-02-14T06:07:11.461Z"
   },
   {
    "duration": 12,
    "start_time": "2024-02-14T06:07:11.591Z"
   },
   {
    "duration": 23,
    "start_time": "2024-02-14T06:07:11.604Z"
   },
   {
    "duration": 15,
    "start_time": "2024-02-14T06:07:11.630Z"
   },
   {
    "duration": 17,
    "start_time": "2024-02-14T06:07:11.647Z"
   },
   {
    "duration": 15,
    "start_time": "2024-02-14T06:07:11.666Z"
   },
   {
    "duration": 14,
    "start_time": "2024-02-14T06:07:11.682Z"
   },
   {
    "duration": 14,
    "start_time": "2024-02-14T06:07:11.699Z"
   },
   {
    "duration": 25,
    "start_time": "2024-02-14T06:07:11.714Z"
   },
   {
    "duration": 153,
    "start_time": "2024-02-14T06:07:11.740Z"
   },
   {
    "duration": 6,
    "start_time": "2024-02-14T06:07:11.895Z"
   },
   {
    "duration": 282,
    "start_time": "2024-02-14T06:07:11.902Z"
   },
   {
    "duration": 12,
    "start_time": "2024-02-14T06:07:12.186Z"
   },
   {
    "duration": 34,
    "start_time": "2024-02-14T06:07:12.199Z"
   },
   {
    "duration": 18,
    "start_time": "2024-02-14T06:07:12.235Z"
   },
   {
    "duration": 4,
    "start_time": "2024-02-14T06:07:12.255Z"
   },
   {
    "duration": 210,
    "start_time": "2024-02-14T06:07:12.261Z"
   },
   {
    "duration": 3,
    "start_time": "2024-02-14T06:07:12.472Z"
   },
   {
    "duration": 305,
    "start_time": "2024-02-14T06:07:12.476Z"
   },
   {
    "duration": 9,
    "start_time": "2024-02-14T06:07:12.782Z"
   },
   {
    "duration": 5,
    "start_time": "2024-02-14T06:07:12.793Z"
   },
   {
    "duration": 257,
    "start_time": "2024-02-14T06:07:12.800Z"
   },
   {
    "duration": 507,
    "start_time": "2024-02-14T06:07:13.059Z"
   },
   {
    "duration": 590,
    "start_time": "2024-02-14T06:07:13.568Z"
   },
   {
    "duration": 9,
    "start_time": "2024-02-14T06:07:14.160Z"
   },
   {
    "duration": 364,
    "start_time": "2024-02-14T06:07:14.172Z"
   },
   {
    "duration": 5,
    "start_time": "2024-02-14T06:07:14.537Z"
   },
   {
    "duration": 37,
    "start_time": "2024-02-14T06:07:14.543Z"
   },
   {
    "duration": 75,
    "start_time": "2024-02-14T06:07:14.582Z"
   },
   {
    "duration": 10,
    "start_time": "2024-02-14T06:07:14.659Z"
   },
   {
    "duration": 12,
    "start_time": "2024-02-14T06:07:14.670Z"
   },
   {
    "duration": 51,
    "start_time": "2024-02-14T06:07:14.684Z"
   },
   {
    "duration": 14,
    "start_time": "2024-02-14T06:07:14.737Z"
   },
   {
    "duration": 4,
    "start_time": "2024-02-14T06:07:14.753Z"
   },
   {
    "duration": 1002,
    "start_time": "2024-02-14T06:08:17.178Z"
   },
   {
    "duration": 26,
    "start_time": "2024-02-14T06:08:18.182Z"
   },
   {
    "duration": 49,
    "start_time": "2024-02-14T06:08:18.210Z"
   },
   {
    "duration": 10,
    "start_time": "2024-02-14T06:08:18.261Z"
   },
   {
    "duration": 9,
    "start_time": "2024-02-14T06:08:18.273Z"
   },
   {
    "duration": 6,
    "start_time": "2024-02-14T06:08:18.284Z"
   },
   {
    "duration": 10,
    "start_time": "2024-02-14T06:08:18.291Z"
   },
   {
    "duration": 9,
    "start_time": "2024-02-14T06:08:18.302Z"
   },
   {
    "duration": 15,
    "start_time": "2024-02-14T06:08:18.313Z"
   },
   {
    "duration": 11,
    "start_time": "2024-02-14T06:08:18.330Z"
   },
   {
    "duration": 13,
    "start_time": "2024-02-14T06:08:18.342Z"
   },
   {
    "duration": 133,
    "start_time": "2024-02-14T06:08:18.357Z"
   },
   {
    "duration": 5,
    "start_time": "2024-02-14T06:08:18.492Z"
   },
   {
    "duration": 276,
    "start_time": "2024-02-14T06:08:18.499Z"
   },
   {
    "duration": 12,
    "start_time": "2024-02-14T06:08:18.777Z"
   },
   {
    "duration": 29,
    "start_time": "2024-02-14T06:08:18.790Z"
   },
   {
    "duration": 17,
    "start_time": "2024-02-14T06:08:18.820Z"
   },
   {
    "duration": 3,
    "start_time": "2024-02-14T06:08:18.838Z"
   },
   {
    "duration": 190,
    "start_time": "2024-02-14T06:08:18.843Z"
   },
   {
    "duration": 2,
    "start_time": "2024-02-14T06:08:19.034Z"
   },
   {
    "duration": 280,
    "start_time": "2024-02-14T06:08:19.038Z"
   },
   {
    "duration": 13,
    "start_time": "2024-02-14T06:08:19.320Z"
   },
   {
    "duration": 8,
    "start_time": "2024-02-14T06:08:19.334Z"
   },
   {
    "duration": 183,
    "start_time": "2024-02-14T06:08:19.343Z"
   },
   {
    "duration": 283,
    "start_time": "2024-02-14T06:08:19.532Z"
   },
   {
    "duration": 267,
    "start_time": "2024-02-14T06:08:19.816Z"
   },
   {
    "duration": 8,
    "start_time": "2024-02-14T06:08:20.084Z"
   },
   {
    "duration": 144,
    "start_time": "2024-02-14T06:08:20.095Z"
   },
   {
    "duration": 4,
    "start_time": "2024-02-14T06:08:20.240Z"
   },
   {
    "duration": 14,
    "start_time": "2024-02-14T06:08:20.245Z"
   },
   {
    "duration": 39,
    "start_time": "2024-02-14T06:08:20.260Z"
   },
   {
    "duration": 35,
    "start_time": "2024-02-14T06:08:20.300Z"
   },
   {
    "duration": 15,
    "start_time": "2024-02-14T06:08:20.337Z"
   },
   {
    "duration": 28,
    "start_time": "2024-02-14T06:08:20.354Z"
   },
   {
    "duration": 14,
    "start_time": "2024-02-14T06:08:20.384Z"
   },
   {
    "duration": 2,
    "start_time": "2024-02-14T06:08:20.400Z"
   }
  ],
  "kernelspec": {
   "display_name": "Python 3 (ipykernel)",
   "language": "python",
   "name": "python3"
  },
  "language_info": {
   "codemirror_mode": {
    "name": "ipython",
    "version": 3
   },
   "file_extension": ".py",
   "mimetype": "text/x-python",
   "name": "python",
   "nbconvert_exporter": "python",
   "pygments_lexer": "ipython3",
   "version": "3.11.7"
  },
  "toc": {
   "base_numbering": 1,
   "nav_menu": {},
   "number_sections": true,
   "sideBar": true,
   "skip_h1_title": true,
   "title_cell": "Table of Contents",
   "title_sidebar": "Contents",
   "toc_cell": false,
   "toc_position": {
    "height": "calc(100% - 180px)",
    "left": "10px",
    "top": "150px",
    "width": "331.862488px"
   },
   "toc_section_display": true,
   "toc_window_display": true
  }
 },
 "nbformat": 4,
 "nbformat_minor": 4
}
