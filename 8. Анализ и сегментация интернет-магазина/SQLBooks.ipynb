{
 "cells": [
  {
   "cell_type": "markdown",
   "metadata": {},
   "source": [
    "# Проект по SQL"
   ]
  },
  {
   "cell_type": "markdown",
   "metadata": {},
   "source": [
    "Коронавирус застал мир врасплох, изменив привычный порядок вещей. На какое-то время жители городов перестали выходить на улицу, посещать кафе и торговые центры. Зато стало больше времени для книг. Это заметили стартаперы — и бросились создавать приложения для тех, кто любит читать.\n",
    "\n",
    "\n",
    "Ваша компания решила быть на волне и купила крупный сервис для чтения книг по подписке. Ваша первая задача как аналитика — проанализировать базу данных.\n",
    "\n",
    "\n",
    "В ней — информация о книгах, издательствах, авторах, а также пользовательские обзоры книг. Эти данные помогут сформулировать ценностное предложение для нового продукта."
   ]
  },
  {
   "cell_type": "markdown",
   "metadata": {},
   "source": [
    "Описание данных:\n",
    "* Таблица books\n",
    "* Содержит данные о книгах:\n",
    "    * `book_id` — идентификатор книги;\n",
    "    * `author_id` — идентификатор автора;\n",
    "    * `title` — название книги;\n",
    "    * `num_pages` — количество страниц;\n",
    "    * `publication_date` — дата публикации книги;\n",
    "    * `publisher_id` — идентификатор издателя.\n",
    "* Таблица authors\n",
    "* Содержит данные об авторах:\n",
    "    * `author_id` — идентификатор автора;\n",
    "    * `author` — имя автора.\n",
    "* Таблица publishers\n",
    "* Содержит данные об издательствах:\n",
    "    * `publisher_id` — идентификатор издательства;\n",
    "    * `publisher` — название издательства;\n",
    "* Таблица ratings\n",
    "* Содержит данные о пользовательских оценках книг:\n",
    "    * `rating_id` — идентификатор оценки;\n",
    "    * `book_id` — идентификатор книги;\n",
    "    * `username` — имя пользователя, оставившего оценку;\n",
    "    * `rating` — оценка книги.\n",
    "* Таблица reviews\n",
    "* Содержит данные о пользовательских обзорах:\n",
    "    * `review_id` — идентификатор обзора;\n",
    "    * `book_id` — идентификатор книги;\n",
    "    * `username` — имя автора обзора;\n",
    "    * `text` — текст обзора."
   ]
  },
  {
   "cell_type": "code",
   "execution_count": 1,
   "metadata": {
    "scrolled": true
   },
   "outputs": [
    {
     "data": {
      "text/html": [
       "<div>\n",
       "<style scoped>\n",
       "    .dataframe tbody tr th:only-of-type {\n",
       "        vertical-align: middle;\n",
       "    }\n",
       "\n",
       "    .dataframe tbody tr th {\n",
       "        vertical-align: top;\n",
       "    }\n",
       "\n",
       "    .dataframe thead th {\n",
       "        text-align: right;\n",
       "    }\n",
       "</style>\n",
       "<table border=\"1\" class=\"dataframe\">\n",
       "  <thead>\n",
       "    <tr style=\"text-align: right;\">\n",
       "      <th></th>\n",
       "      <th>book_id</th>\n",
       "      <th>author_id</th>\n",
       "      <th>title</th>\n",
       "      <th>num_pages</th>\n",
       "      <th>publication_date</th>\n",
       "      <th>publisher_id</th>\n",
       "    </tr>\n",
       "  </thead>\n",
       "  <tbody>\n",
       "    <tr>\n",
       "      <th>0</th>\n",
       "      <td>1</td>\n",
       "      <td>546</td>\n",
       "      <td>'Salem's Lot</td>\n",
       "      <td>594</td>\n",
       "      <td>2005-11-01</td>\n",
       "      <td>93</td>\n",
       "    </tr>\n",
       "    <tr>\n",
       "      <th>1</th>\n",
       "      <td>2</td>\n",
       "      <td>465</td>\n",
       "      <td>1 000 Places to See Before You Die</td>\n",
       "      <td>992</td>\n",
       "      <td>2003-05-22</td>\n",
       "      <td>336</td>\n",
       "    </tr>\n",
       "    <tr>\n",
       "      <th>2</th>\n",
       "      <td>3</td>\n",
       "      <td>407</td>\n",
       "      <td>13 Little Blue Envelopes (Little Blue Envelope...</td>\n",
       "      <td>322</td>\n",
       "      <td>2010-12-21</td>\n",
       "      <td>135</td>\n",
       "    </tr>\n",
       "    <tr>\n",
       "      <th>3</th>\n",
       "      <td>4</td>\n",
       "      <td>82</td>\n",
       "      <td>1491: New Revelations of the Americas Before C...</td>\n",
       "      <td>541</td>\n",
       "      <td>2006-10-10</td>\n",
       "      <td>309</td>\n",
       "    </tr>\n",
       "    <tr>\n",
       "      <th>4</th>\n",
       "      <td>5</td>\n",
       "      <td>125</td>\n",
       "      <td>1776</td>\n",
       "      <td>386</td>\n",
       "      <td>2006-07-04</td>\n",
       "      <td>268</td>\n",
       "    </tr>\n",
       "  </tbody>\n",
       "</table>\n",
       "</div>"
      ],
      "text/plain": [
       "   book_id  author_id                                              title  \\\n",
       "0        1        546                                       'Salem's Lot   \n",
       "1        2        465                 1 000 Places to See Before You Die   \n",
       "2        3        407  13 Little Blue Envelopes (Little Blue Envelope...   \n",
       "3        4         82  1491: New Revelations of the Americas Before C...   \n",
       "4        5        125                                               1776   \n",
       "\n",
       "   num_pages publication_date  publisher_id  \n",
       "0        594       2005-11-01            93  \n",
       "1        992       2003-05-22           336  \n",
       "2        322       2010-12-21           135  \n",
       "3        541       2006-10-10           309  \n",
       "4        386       2006-07-04           268  "
      ]
     },
     "execution_count": 1,
     "metadata": {},
     "output_type": "execute_result"
    }
   ],
   "source": [
    "import pandas as pd \n",
    "from sqlalchemy import text, create_engine \n",
    "# устанавливаем параметры \n",
    "db_config = {'user': 'praktikum_student', # имя пользователя \n",
    "'pwd': 'Sdf4$2;d-d30pp', # пароль \n",
    "'host': 'rc1b-wcoijxj3yxfsf3fs.mdb.yandexcloud.net', \n",
    "'port': 6432, # порт подключения \n",
    "'db': 'data-analyst-final-project-db'} # название базы данных \n",
    "connection_string = 'postgresql://{user}:{pwd}@{host}:{port}/{db}'.format(**db_config) \n",
    " # сохраняем коннектор \n",
    "engine = create_engine(connection_string, connect_args={'sslmode':'require'}) \n",
    "con=engine.connect()\n",
    "\n",
    "# чтобы выполнить SQL-запрос, используем Pandas \n",
    "query = '''SELECT * FROM books LIMIT 5''' \n",
    "pd.io.sql.read_sql(sql=text(query), con = con)"
   ]
  },
  {
   "cell_type": "markdown",
   "metadata": {},
   "source": [
    "# Исследование данных"
   ]
  },
  {
   "cell_type": "code",
   "execution_count": 2,
   "metadata": {},
   "outputs": [
    {
     "data": {
      "text/html": [
       "<div>\n",
       "<style scoped>\n",
       "    .dataframe tbody tr th:only-of-type {\n",
       "        vertical-align: middle;\n",
       "    }\n",
       "\n",
       "    .dataframe tbody tr th {\n",
       "        vertical-align: top;\n",
       "    }\n",
       "\n",
       "    .dataframe thead th {\n",
       "        text-align: right;\n",
       "    }\n",
       "</style>\n",
       "<table border=\"1\" class=\"dataframe\">\n",
       "  <thead>\n",
       "    <tr style=\"text-align: right;\">\n",
       "      <th></th>\n",
       "      <th>book_id</th>\n",
       "      <th>author_id</th>\n",
       "      <th>title</th>\n",
       "      <th>num_pages</th>\n",
       "      <th>publication_date</th>\n",
       "      <th>publisher_id</th>\n",
       "    </tr>\n",
       "  </thead>\n",
       "  <tbody>\n",
       "    <tr>\n",
       "      <th>0</th>\n",
       "      <td>1</td>\n",
       "      <td>546</td>\n",
       "      <td>'Salem's Lot</td>\n",
       "      <td>594</td>\n",
       "      <td>2005-11-01</td>\n",
       "      <td>93</td>\n",
       "    </tr>\n",
       "  </tbody>\n",
       "</table>\n",
       "</div>"
      ],
      "text/plain": [
       "   book_id  author_id         title  num_pages publication_date  publisher_id\n",
       "0        1        546  'Salem's Lot        594       2005-11-01            93"
      ]
     },
     "execution_count": 2,
     "metadata": {},
     "output_type": "execute_result"
    }
   ],
   "source": [
    "query = ''' \n",
    "SELECT * FROM books\n",
    "LIMIT 1\n",
    "'''\n",
    "pd.io.sql.read_sql(sql=text(query), con = con)"
   ]
  },
  {
   "cell_type": "code",
   "execution_count": 3,
   "metadata": {},
   "outputs": [
    {
     "data": {
      "text/html": [
       "<div>\n",
       "<style scoped>\n",
       "    .dataframe tbody tr th:only-of-type {\n",
       "        vertical-align: middle;\n",
       "    }\n",
       "\n",
       "    .dataframe tbody tr th {\n",
       "        vertical-align: top;\n",
       "    }\n",
       "\n",
       "    .dataframe thead th {\n",
       "        text-align: right;\n",
       "    }\n",
       "</style>\n",
       "<table border=\"1\" class=\"dataframe\">\n",
       "  <thead>\n",
       "    <tr style=\"text-align: right;\">\n",
       "      <th></th>\n",
       "      <th>author_id</th>\n",
       "      <th>author</th>\n",
       "    </tr>\n",
       "  </thead>\n",
       "  <tbody>\n",
       "    <tr>\n",
       "      <th>0</th>\n",
       "      <td>1</td>\n",
       "      <td>A.S. Byatt</td>\n",
       "    </tr>\n",
       "  </tbody>\n",
       "</table>\n",
       "</div>"
      ],
      "text/plain": [
       "   author_id      author\n",
       "0          1  A.S. Byatt"
      ]
     },
     "execution_count": 3,
     "metadata": {},
     "output_type": "execute_result"
    }
   ],
   "source": [
    "query = ''' \n",
    "SELECT * FROM authors\n",
    "LIMIT 1\n",
    "'''\n",
    "pd.io.sql.read_sql(sql=text(query), con = con)"
   ]
  },
  {
   "cell_type": "code",
   "execution_count": 4,
   "metadata": {},
   "outputs": [
    {
     "data": {
      "text/html": [
       "<div>\n",
       "<style scoped>\n",
       "    .dataframe tbody tr th:only-of-type {\n",
       "        vertical-align: middle;\n",
       "    }\n",
       "\n",
       "    .dataframe tbody tr th {\n",
       "        vertical-align: top;\n",
       "    }\n",
       "\n",
       "    .dataframe thead th {\n",
       "        text-align: right;\n",
       "    }\n",
       "</style>\n",
       "<table border=\"1\" class=\"dataframe\">\n",
       "  <thead>\n",
       "    <tr style=\"text-align: right;\">\n",
       "      <th></th>\n",
       "      <th>rating_id</th>\n",
       "      <th>book_id</th>\n",
       "      <th>username</th>\n",
       "      <th>rating</th>\n",
       "    </tr>\n",
       "  </thead>\n",
       "  <tbody>\n",
       "    <tr>\n",
       "      <th>0</th>\n",
       "      <td>1</td>\n",
       "      <td>1</td>\n",
       "      <td>ryanfranco</td>\n",
       "      <td>4</td>\n",
       "    </tr>\n",
       "  </tbody>\n",
       "</table>\n",
       "</div>"
      ],
      "text/plain": [
       "   rating_id  book_id    username  rating\n",
       "0          1        1  ryanfranco       4"
      ]
     },
     "execution_count": 4,
     "metadata": {},
     "output_type": "execute_result"
    }
   ],
   "source": [
    "query = ''' \n",
    "SELECT * FROM ratings\n",
    "LIMIT 1\n",
    "'''\n",
    "pd.io.sql.read_sql(sql=text(query), con = con)"
   ]
  },
  {
   "cell_type": "code",
   "execution_count": 5,
   "metadata": {},
   "outputs": [
    {
     "data": {
      "text/html": [
       "<div>\n",
       "<style scoped>\n",
       "    .dataframe tbody tr th:only-of-type {\n",
       "        vertical-align: middle;\n",
       "    }\n",
       "\n",
       "    .dataframe tbody tr th {\n",
       "        vertical-align: top;\n",
       "    }\n",
       "\n",
       "    .dataframe thead th {\n",
       "        text-align: right;\n",
       "    }\n",
       "</style>\n",
       "<table border=\"1\" class=\"dataframe\">\n",
       "  <thead>\n",
       "    <tr style=\"text-align: right;\">\n",
       "      <th></th>\n",
       "      <th>review_id</th>\n",
       "      <th>book_id</th>\n",
       "      <th>username</th>\n",
       "      <th>text</th>\n",
       "    </tr>\n",
       "  </thead>\n",
       "  <tbody>\n",
       "    <tr>\n",
       "      <th>0</th>\n",
       "      <td>1</td>\n",
       "      <td>1</td>\n",
       "      <td>brandtandrea</td>\n",
       "      <td>Mention society tell send professor analysis. ...</td>\n",
       "    </tr>\n",
       "  </tbody>\n",
       "</table>\n",
       "</div>"
      ],
      "text/plain": [
       "   review_id  book_id      username  \\\n",
       "0          1        1  brandtandrea   \n",
       "\n",
       "                                                text  \n",
       "0  Mention society tell send professor analysis. ...  "
      ]
     },
     "execution_count": 5,
     "metadata": {},
     "output_type": "execute_result"
    }
   ],
   "source": [
    "query = ''' \n",
    "SELECT * FROM reviews\n",
    "LIMIT 1\n",
    "'''\n",
    "pd.io.sql.read_sql(sql=text(query), con = con)"
   ]
  },
  {
   "cell_type": "code",
   "execution_count": 6,
   "metadata": {
    "scrolled": true
   },
   "outputs": [
    {
     "data": {
      "text/html": [
       "<div>\n",
       "<style scoped>\n",
       "    .dataframe tbody tr th:only-of-type {\n",
       "        vertical-align: middle;\n",
       "    }\n",
       "\n",
       "    .dataframe tbody tr th {\n",
       "        vertical-align: top;\n",
       "    }\n",
       "\n",
       "    .dataframe thead th {\n",
       "        text-align: right;\n",
       "    }\n",
       "</style>\n",
       "<table border=\"1\" class=\"dataframe\">\n",
       "  <thead>\n",
       "    <tr style=\"text-align: right;\">\n",
       "      <th></th>\n",
       "      <th>publisher_id</th>\n",
       "      <th>publisher</th>\n",
       "    </tr>\n",
       "  </thead>\n",
       "  <tbody>\n",
       "    <tr>\n",
       "      <th>0</th>\n",
       "      <td>1</td>\n",
       "      <td>Ace</td>\n",
       "    </tr>\n",
       "  </tbody>\n",
       "</table>\n",
       "</div>"
      ],
      "text/plain": [
       "   publisher_id publisher\n",
       "0             1       Ace"
      ]
     },
     "execution_count": 6,
     "metadata": {},
     "output_type": "execute_result"
    }
   ],
   "source": [
    "query = ''' \n",
    "SELECT * FROM publishers\n",
    "LIMIT 1\n",
    "'''\n",
    "pd.io.sql.read_sql(sql=text(query), con = con)"
   ]
  },
  {
   "cell_type": "markdown",
   "metadata": {},
   "source": [
    "# Решение поставленных задач"
   ]
  },
  {
   "cell_type": "markdown",
   "metadata": {},
   "source": [
    "## Посчитайте, сколько книг вышло после 1 января 2000 года"
   ]
  },
  {
   "cell_type": "code",
   "execution_count": 7,
   "metadata": {},
   "outputs": [
    {
     "data": {
      "text/html": [
       "<div>\n",
       "<style scoped>\n",
       "    .dataframe tbody tr th:only-of-type {\n",
       "        vertical-align: middle;\n",
       "    }\n",
       "\n",
       "    .dataframe tbody tr th {\n",
       "        vertical-align: top;\n",
       "    }\n",
       "\n",
       "    .dataframe thead th {\n",
       "        text-align: right;\n",
       "    }\n",
       "</style>\n",
       "<table border=\"1\" class=\"dataframe\">\n",
       "  <thead>\n",
       "    <tr style=\"text-align: right;\">\n",
       "      <th></th>\n",
       "      <th>count</th>\n",
       "    </tr>\n",
       "  </thead>\n",
       "  <tbody>\n",
       "    <tr>\n",
       "      <th>0</th>\n",
       "      <td>819</td>\n",
       "    </tr>\n",
       "  </tbody>\n",
       "</table>\n",
       "</div>"
      ],
      "text/plain": [
       "   count\n",
       "0    819"
      ]
     },
     "execution_count": 7,
     "metadata": {},
     "output_type": "execute_result"
    }
   ],
   "source": [
    "query = ''' \n",
    "SELECT COUNT(book_id) FROM books WHERE publication_date > '2000-01-01'\n",
    "'''\n",
    "pd.io.sql.read_sql(sql=text(query), con = con)"
   ]
  },
  {
   "cell_type": "markdown",
   "metadata": {},
   "source": [
    "После 1 января 2000 года было выпущено 821 книга"
   ]
  },
  {
   "cell_type": "markdown",
   "metadata": {},
   "source": [
    "## Для каждой книги посчитайте количество обзоров и среднюю оценку"
   ]
  },
  {
   "cell_type": "code",
   "execution_count": 14,
   "metadata": {},
   "outputs": [
    {
     "data": {
      "text/html": [
       "<div>\n",
       "<style scoped>\n",
       "    .dataframe tbody tr th:only-of-type {\n",
       "        vertical-align: middle;\n",
       "    }\n",
       "\n",
       "    .dataframe tbody tr th {\n",
       "        vertical-align: top;\n",
       "    }\n",
       "\n",
       "    .dataframe thead th {\n",
       "        text-align: right;\n",
       "    }\n",
       "</style>\n",
       "<table border=\"1\" class=\"dataframe\">\n",
       "  <thead>\n",
       "    <tr style=\"text-align: right;\">\n",
       "      <th></th>\n",
       "      <th>book_id</th>\n",
       "      <th>title</th>\n",
       "      <th>cnt</th>\n",
       "      <th>avg_rating</th>\n",
       "    </tr>\n",
       "  </thead>\n",
       "  <tbody>\n",
       "    <tr>\n",
       "      <th>0</th>\n",
       "      <td>672</td>\n",
       "      <td>The Cat in the Hat and Other Dr. Seuss Favorites</td>\n",
       "      <td>NaN</td>\n",
       "      <td>5.00</td>\n",
       "    </tr>\n",
       "    <tr>\n",
       "      <th>1</th>\n",
       "      <td>17</td>\n",
       "      <td>A Dirty Job (Grim Reaper  #1)</td>\n",
       "      <td>4.0</td>\n",
       "      <td>5.00</td>\n",
       "    </tr>\n",
       "    <tr>\n",
       "      <th>2</th>\n",
       "      <td>553</td>\n",
       "      <td>School's Out—Forever (Maximum Ride  #2)</td>\n",
       "      <td>3.0</td>\n",
       "      <td>5.00</td>\n",
       "    </tr>\n",
       "    <tr>\n",
       "      <th>3</th>\n",
       "      <td>444</td>\n",
       "      <td>Moneyball: The Art of Winning an Unfair Game</td>\n",
       "      <td>3.0</td>\n",
       "      <td>5.00</td>\n",
       "    </tr>\n",
       "    <tr>\n",
       "      <th>4</th>\n",
       "      <td>699</td>\n",
       "      <td>The Demon-Haunted World: Science as a Candle i...</td>\n",
       "      <td>2.0</td>\n",
       "      <td>5.00</td>\n",
       "    </tr>\n",
       "    <tr>\n",
       "      <th>...</th>\n",
       "      <td>...</td>\n",
       "      <td>...</td>\n",
       "      <td>...</td>\n",
       "      <td>...</td>\n",
       "    </tr>\n",
       "    <tr>\n",
       "      <th>995</th>\n",
       "      <td>915</td>\n",
       "      <td>The World Is Flat: A Brief History of the Twen...</td>\n",
       "      <td>3.0</td>\n",
       "      <td>2.25</td>\n",
       "    </tr>\n",
       "    <tr>\n",
       "      <th>996</th>\n",
       "      <td>202</td>\n",
       "      <td>Drowning Ruth</td>\n",
       "      <td>3.0</td>\n",
       "      <td>2.00</td>\n",
       "    </tr>\n",
       "    <tr>\n",
       "      <th>997</th>\n",
       "      <td>316</td>\n",
       "      <td>His Excellency: George Washington</td>\n",
       "      <td>2.0</td>\n",
       "      <td>2.00</td>\n",
       "    </tr>\n",
       "    <tr>\n",
       "      <th>998</th>\n",
       "      <td>371</td>\n",
       "      <td>Junky</td>\n",
       "      <td>2.0</td>\n",
       "      <td>2.00</td>\n",
       "    </tr>\n",
       "    <tr>\n",
       "      <th>999</th>\n",
       "      <td>303</td>\n",
       "      <td>Harvesting the Heart</td>\n",
       "      <td>2.0</td>\n",
       "      <td>1.50</td>\n",
       "    </tr>\n",
       "  </tbody>\n",
       "</table>\n",
       "<p>1000 rows × 4 columns</p>\n",
       "</div>"
      ],
      "text/plain": [
       "     book_id                                              title  cnt  \\\n",
       "0        672   The Cat in the Hat and Other Dr. Seuss Favorites  NaN   \n",
       "1         17                      A Dirty Job (Grim Reaper  #1)  4.0   \n",
       "2        553            School's Out—Forever (Maximum Ride  #2)  3.0   \n",
       "3        444       Moneyball: The Art of Winning an Unfair Game  3.0   \n",
       "4        699  The Demon-Haunted World: Science as a Candle i...  2.0   \n",
       "..       ...                                                ...  ...   \n",
       "995      915  The World Is Flat: A Brief History of the Twen...  3.0   \n",
       "996      202                                      Drowning Ruth  3.0   \n",
       "997      316                  His Excellency: George Washington  2.0   \n",
       "998      371                                              Junky  2.0   \n",
       "999      303                               Harvesting the Heart  2.0   \n",
       "\n",
       "     avg_rating  \n",
       "0          5.00  \n",
       "1          5.00  \n",
       "2          5.00  \n",
       "3          5.00  \n",
       "4          5.00  \n",
       "..          ...  \n",
       "995        2.25  \n",
       "996        2.00  \n",
       "997        2.00  \n",
       "998        2.00  \n",
       "999        1.50  \n",
       "\n",
       "[1000 rows x 4 columns]"
      ]
     },
     "execution_count": 14,
     "metadata": {},
     "output_type": "execute_result"
    }
   ],
   "source": [
    "query = '''\n",
    "SELECT \n",
    "    books.book_id, \n",
    "    books.title,\n",
    "    cnt, \n",
    "    AVG(un.rt) AS avg_rating\n",
    "FROM books\n",
    "LEFT JOIN (SELECT \n",
    "           book_id, \n",
    "           COUNT(review_id) AS cnt\n",
    "           FROM reviews \n",
    "           GROUP BY book_id) as otz ON otz.book_id = books.book_id\n",
    "LEFT JOIN (SELECT \n",
    "           book_id, \n",
    "           AVG(rating) AS rt \n",
    "           FROM ratings \n",
    "           GROUP BY book_id) as un ON un.book_id = books.book_id\n",
    "GROUP BY \n",
    "    books.book_id, \n",
    "    cnt\n",
    "ORDER BY \n",
    "    avg_rating DESC, cnt DESC\n",
    "'''\n",
    "pd.io.sql.read_sql(sql=text(query), con = con)"
   ]
  },
  {
   "cell_type": "markdown",
   "metadata": {},
   "source": [
    "Почти у всех книг очень мало отзывов, это плодит множество книг с оценками 4.0 - 5.0. Также в базе данных содержатся книги с одинаковым названием, но разными авторами"
   ]
  },
  {
   "cell_type": "markdown",
   "metadata": {},
   "source": [
    "## Определите издательство, которое выпустило наибольшее число книг толще 50 страниц — так исключим из анализа брошюры"
   ]
  },
  {
   "cell_type": "code",
   "execution_count": 9,
   "metadata": {},
   "outputs": [
    {
     "data": {
      "text/html": [
       "<div>\n",
       "<style scoped>\n",
       "    .dataframe tbody tr th:only-of-type {\n",
       "        vertical-align: middle;\n",
       "    }\n",
       "\n",
       "    .dataframe tbody tr th {\n",
       "        vertical-align: top;\n",
       "    }\n",
       "\n",
       "    .dataframe thead th {\n",
       "        text-align: right;\n",
       "    }\n",
       "</style>\n",
       "<table border=\"1\" class=\"dataframe\">\n",
       "  <thead>\n",
       "    <tr style=\"text-align: right;\">\n",
       "      <th></th>\n",
       "      <th>publisher</th>\n",
       "      <th>count_books</th>\n",
       "    </tr>\n",
       "  </thead>\n",
       "  <tbody>\n",
       "    <tr>\n",
       "      <th>0</th>\n",
       "      <td>Penguin Books</td>\n",
       "      <td>42</td>\n",
       "    </tr>\n",
       "  </tbody>\n",
       "</table>\n",
       "</div>"
      ],
      "text/plain": [
       "       publisher  count_books\n",
       "0  Penguin Books           42"
      ]
     },
     "execution_count": 9,
     "metadata": {},
     "output_type": "execute_result"
    }
   ],
   "source": [
    "query = ''' \n",
    "SELECT\n",
    "    publisher,\n",
    "    COUNT(*) AS count_books\n",
    "FROM books\n",
    "INNER JOIN publishers ON publishers.publisher_id = books.publisher_id\n",
    "WHERE num_pages > 50\n",
    "GROUP BY publisher\n",
    "ORDER BY count_books DESC\n",
    "LIMIT 1;\n",
    "'''\n",
    "pd.io.sql.read_sql(sql=text(query), con = con)"
   ]
  },
  {
   "cell_type": "markdown",
   "metadata": {},
   "source": [
    "Больше всего НЕ брошюр выпустило издательство Pinguin Books. 42 штуки"
   ]
  },
  {
   "cell_type": "markdown",
   "metadata": {},
   "source": [
    "## Определите автора с самой высокой средней оценкой книг — учитывайте только книги с 50 и более оценками;"
   ]
  },
  {
   "cell_type": "code",
   "execution_count": 10,
   "metadata": {},
   "outputs": [
    {
     "data": {
      "text/html": [
       "<div>\n",
       "<style scoped>\n",
       "    .dataframe tbody tr th:only-of-type {\n",
       "        vertical-align: middle;\n",
       "    }\n",
       "\n",
       "    .dataframe tbody tr th {\n",
       "        vertical-align: top;\n",
       "    }\n",
       "\n",
       "    .dataframe thead th {\n",
       "        text-align: right;\n",
       "    }\n",
       "</style>\n",
       "<table border=\"1\" class=\"dataframe\">\n",
       "  <thead>\n",
       "    <tr style=\"text-align: right;\">\n",
       "      <th></th>\n",
       "      <th>author</th>\n",
       "      <th>avg</th>\n",
       "    </tr>\n",
       "  </thead>\n",
       "  <tbody>\n",
       "    <tr>\n",
       "      <th>0</th>\n",
       "      <td>J.K. Rowling/Mary GrandPré</td>\n",
       "      <td>4.283844</td>\n",
       "    </tr>\n",
       "    <tr>\n",
       "      <th>1</th>\n",
       "      <td>Markus Zusak/Cao Xuân Việt Khương</td>\n",
       "      <td>4.264151</td>\n",
       "    </tr>\n",
       "    <tr>\n",
       "      <th>2</th>\n",
       "      <td>J.R.R. Tolkien</td>\n",
       "      <td>4.258446</td>\n",
       "    </tr>\n",
       "    <tr>\n",
       "      <th>3</th>\n",
       "      <td>Louisa May Alcott</td>\n",
       "      <td>4.192308</td>\n",
       "    </tr>\n",
       "    <tr>\n",
       "      <th>4</th>\n",
       "      <td>Rick Riordan</td>\n",
       "      <td>4.080645</td>\n",
       "    </tr>\n",
       "    <tr>\n",
       "      <th>5</th>\n",
       "      <td>William Golding</td>\n",
       "      <td>3.901408</td>\n",
       "    </tr>\n",
       "    <tr>\n",
       "      <th>6</th>\n",
       "      <td>J.D. Salinger</td>\n",
       "      <td>3.825581</td>\n",
       "    </tr>\n",
       "    <tr>\n",
       "      <th>7</th>\n",
       "      <td>Paulo Coelho/Alan R. Clarke/Özdemir İnce</td>\n",
       "      <td>3.789474</td>\n",
       "    </tr>\n",
       "    <tr>\n",
       "      <th>8</th>\n",
       "      <td>William Shakespeare/Paul Werstine/Barbara A. M...</td>\n",
       "      <td>3.787879</td>\n",
       "    </tr>\n",
       "    <tr>\n",
       "      <th>9</th>\n",
       "      <td>Dan Brown</td>\n",
       "      <td>3.754540</td>\n",
       "    </tr>\n",
       "    <tr>\n",
       "      <th>10</th>\n",
       "      <td>Lois Lowry</td>\n",
       "      <td>3.750000</td>\n",
       "    </tr>\n",
       "    <tr>\n",
       "      <th>11</th>\n",
       "      <td>George Orwell/Boris Grabnar/Peter Škerl</td>\n",
       "      <td>3.729730</td>\n",
       "    </tr>\n",
       "    <tr>\n",
       "      <th>12</th>\n",
       "      <td>Stephenie Meyer</td>\n",
       "      <td>3.662500</td>\n",
       "    </tr>\n",
       "    <tr>\n",
       "      <th>13</th>\n",
       "      <td>John Steinbeck</td>\n",
       "      <td>3.622951</td>\n",
       "    </tr>\n",
       "  </tbody>\n",
       "</table>\n",
       "</div>"
      ],
      "text/plain": [
       "                                               author       avg\n",
       "0                          J.K. Rowling/Mary GrandPré  4.283844\n",
       "1                   Markus Zusak/Cao Xuân Việt Khương  4.264151\n",
       "2                                      J.R.R. Tolkien  4.258446\n",
       "3                                   Louisa May Alcott  4.192308\n",
       "4                                        Rick Riordan  4.080645\n",
       "5                                     William Golding  3.901408\n",
       "6                                       J.D. Salinger  3.825581\n",
       "7            Paulo Coelho/Alan R. Clarke/Özdemir İnce  3.789474\n",
       "8   William Shakespeare/Paul Werstine/Barbara A. M...  3.787879\n",
       "9                                           Dan Brown  3.754540\n",
       "10                                         Lois Lowry  3.750000\n",
       "11            George Orwell/Boris Grabnar/Peter Škerl  3.729730\n",
       "12                                    Stephenie Meyer  3.662500\n",
       "13                                     John Steinbeck  3.622951"
      ]
     },
     "execution_count": 10,
     "metadata": {},
     "output_type": "execute_result"
    }
   ],
   "source": [
    "query = ''' \n",
    "SELECT avgs.author,\n",
    "       AVG(avgs.avg)\n",
    "FROM (SELECT author, AVG(ratings.rating)\n",
    "FROM books\n",
    "INNER JOIN authors ON authors.author_id = books.author_id\n",
    "INNER JOIN ratings ON ratings.book_id = books.book_id\n",
    "GROUP BY books.book_id, authors.author_id\n",
    "HAVING COUNT(rating_id) >= 50) AS avgs       \n",
    "GROUP BY avgs.author\n",
    "ORDER BY avg DESC\n",
    "'''\n",
    "pd.io.sql.read_sql(sql=text(query), con = con)"
   ]
  },
  {
   "cell_type": "markdown",
   "metadata": {},
   "source": [
    "Самый высший средний рейтинг среди авторов, которые имеет более 50 оцено - J.K. Rowling/Mary GrandPré"
   ]
  },
  {
   "cell_type": "markdown",
   "metadata": {},
   "source": [
    "## Посчитайте среднее количество обзоров от пользователей, которые поставили больше 48 оценок"
   ]
  },
  {
   "cell_type": "code",
   "execution_count": 11,
   "metadata": {},
   "outputs": [
    {
     "data": {
      "text/html": [
       "<div>\n",
       "<style scoped>\n",
       "    .dataframe tbody tr th:only-of-type {\n",
       "        vertical-align: middle;\n",
       "    }\n",
       "\n",
       "    .dataframe tbody tr th {\n",
       "        vertical-align: top;\n",
       "    }\n",
       "\n",
       "    .dataframe thead th {\n",
       "        text-align: right;\n",
       "    }\n",
       "</style>\n",
       "<table border=\"1\" class=\"dataframe\">\n",
       "  <thead>\n",
       "    <tr style=\"text-align: right;\">\n",
       "      <th></th>\n",
       "      <th>avg</th>\n",
       "    </tr>\n",
       "  </thead>\n",
       "  <tbody>\n",
       "    <tr>\n",
       "      <th>0</th>\n",
       "      <td>24.0</td>\n",
       "    </tr>\n",
       "  </tbody>\n",
       "</table>\n",
       "</div>"
      ],
      "text/plain": [
       "    avg\n",
       "0  24.0"
      ]
     },
     "execution_count": 11,
     "metadata": {},
     "output_type": "execute_result"
    }
   ],
   "source": [
    "query = ''' \n",
    "\n",
    "SELECT AVG(count)\n",
    "FROM (SELECT username,\n",
    "       COUNT(review_id)\n",
    "FROM reviews\n",
    "WHERE username in (SELECT username\n",
    "FROM ratings\n",
    "GROUP BY username\n",
    "HAVING COUNT(rating_id) > 48)\n",
    "GROUP BY username) AS many\n",
    "\n",
    "\n",
    "'''\n",
    "pd.io.sql.read_sql(sql=text(query), con = con)"
   ]
  },
  {
   "cell_type": "markdown",
   "metadata": {},
   "source": [
    "В среднем пользователи, которые поставили более 48 оценок имеют ровно 24 отзыва"
   ]
  },
  {
   "cell_type": "markdown",
   "metadata": {},
   "source": [
    "## Дополнительные запросы"
   ]
  },
  {
   "cell_type": "code",
   "execution_count": 12,
   "metadata": {},
   "outputs": [
    {
     "data": {
      "text/html": [
       "<div>\n",
       "<style scoped>\n",
       "    .dataframe tbody tr th:only-of-type {\n",
       "        vertical-align: middle;\n",
       "    }\n",
       "\n",
       "    .dataframe tbody tr th {\n",
       "        vertical-align: top;\n",
       "    }\n",
       "\n",
       "    .dataframe thead th {\n",
       "        text-align: right;\n",
       "    }\n",
       "</style>\n",
       "<table border=\"1\" class=\"dataframe\">\n",
       "  <thead>\n",
       "    <tr style=\"text-align: right;\">\n",
       "      <th></th>\n",
       "      <th>count</th>\n",
       "    </tr>\n",
       "  </thead>\n",
       "  <tbody>\n",
       "    <tr>\n",
       "      <th>0</th>\n",
       "      <td>179</td>\n",
       "    </tr>\n",
       "  </tbody>\n",
       "</table>\n",
       "</div>"
      ],
      "text/plain": [
       "   count\n",
       "0    179"
      ]
     },
     "execution_count": 12,
     "metadata": {},
     "output_type": "execute_result"
    }
   ],
   "source": [
    "query = ''' \n",
    "SELECT COUNT(book_id) FROM books WHERE publication_date < '2000-01-01'\n",
    "'''\n",
    "pd.io.sql.read_sql(sql=text(query), con = con)"
   ]
  },
  {
   "cell_type": "markdown",
   "metadata": {},
   "source": [
    "# Общий вывод"
   ]
  },
  {
   "cell_type": "markdown",
   "metadata": {},
   "source": [
    "Согласно данным, полученным в исследовании, можно утверждать:\n",
    "\n",
    "    1) После 01-01-2001 заметин резкий скачок в количестве выпущенных книг примерно в 4 раза. Возможно, держателям стартапа стоит ввести модерацию и не заливать с свой сервис каждую выпущенную книгу, дабы снизить нагрузку на хранилища\n",
    "    2) У каждой книги очень мало отзывов, что приводит к заполнению базы книгами с чрезвычайно высокими оценками Возможно, стит поощрять пользователей за оставление оценки\n",
    "    3) Больше всего НЕ брошюр выпустило издательство Penguin Books. Возможно, стоит начать сотрудничать с ним напрямую\n",
    "    4) Самые высокооцененные авторы J.K. Rowling/Mary GrandPré, Markus Zusak/Cao Xuân Việt Khương, J.R.R. Tolkien. Для повышения популярности стартапа будет не лишним добавить в сервис больше книг за их авторством\n",
    "    5) Посчитайте среднее количество обзоров от пользователей, которые поставили больше 48 оценок - 24.0"
   ]
  }
 ],
 "metadata": {
  "ExecuteTimeLog": [
   {
    "duration": 498,
    "start_time": "2024-04-21T05:58:48.343Z"
   },
   {
    "duration": 7,
    "start_time": "2024-04-21T05:58:54.961Z"
   },
   {
    "duration": 2,
    "start_time": "2024-04-21T05:59:01.485Z"
   },
   {
    "duration": 3,
    "start_time": "2024-04-21T05:59:10.247Z"
   },
   {
    "duration": 7,
    "start_time": "2024-04-21T05:59:12.378Z"
   },
   {
    "duration": 7742,
    "start_time": "2024-04-21T05:59:48.947Z"
   },
   {
    "duration": 231,
    "start_time": "2024-04-21T06:00:31.812Z"
   },
   {
    "duration": 7747,
    "start_time": "2024-04-21T06:00:36.013Z"
   },
   {
    "duration": 57,
    "start_time": "2024-04-21T06:01:29.759Z"
   },
   {
    "duration": 3,
    "start_time": "2024-04-21T06:10:32.847Z"
   },
   {
    "duration": 59,
    "start_time": "2024-04-21T06:10:53.545Z"
   },
   {
    "duration": 6,
    "start_time": "2024-04-21T06:11:02.616Z"
   },
   {
    "duration": 8497,
    "start_time": "2024-04-21T06:11:19.516Z"
   },
   {
    "duration": 65,
    "start_time": "2024-04-21T06:11:28.014Z"
   },
   {
    "duration": 50,
    "start_time": "2024-04-21T06:11:36.852Z"
   },
   {
    "duration": 58,
    "start_time": "2024-04-21T06:11:46.339Z"
   },
   {
    "duration": 66,
    "start_time": "2024-04-21T06:12:25.667Z"
   },
   {
    "duration": 6,
    "start_time": "2024-04-21T06:12:33.461Z"
   },
   {
    "duration": 6,
    "start_time": "2024-04-21T06:12:42.213Z"
   },
   {
    "duration": 6,
    "start_time": "2024-04-21T06:12:52.275Z"
   },
   {
    "duration": 39,
    "start_time": "2024-04-21T06:13:06.843Z"
   },
   {
    "duration": 47,
    "start_time": "2024-04-21T06:16:44.869Z"
   },
   {
    "duration": 58,
    "start_time": "2024-04-21T06:17:18.920Z"
   },
   {
    "duration": 58,
    "start_time": "2024-04-21T06:18:56.055Z"
   },
   {
    "duration": 57,
    "start_time": "2024-04-21T06:19:15.121Z"
   },
   {
    "duration": 58,
    "start_time": "2024-04-21T06:23:25.018Z"
   },
   {
    "duration": 57,
    "start_time": "2024-04-21T06:23:47.927Z"
   },
   {
    "duration": 64,
    "start_time": "2024-04-21T06:24:03.831Z"
   },
   {
    "duration": 59,
    "start_time": "2024-04-21T06:24:13.880Z"
   },
   {
    "duration": 58,
    "start_time": "2024-04-21T06:24:51.034Z"
   },
   {
    "duration": 78,
    "start_time": "2024-04-21T06:25:05.089Z"
   },
   {
    "duration": 47,
    "start_time": "2024-04-21T06:25:31.225Z"
   },
   {
    "duration": 71,
    "start_time": "2024-04-21T06:25:37.942Z"
   },
   {
    "duration": 51,
    "start_time": "2024-04-21T06:25:50.687Z"
   },
   {
    "duration": 71,
    "start_time": "2024-04-21T06:25:57.109Z"
   },
   {
    "duration": 60,
    "start_time": "2024-04-21T06:26:03.808Z"
   },
   {
    "duration": 62,
    "start_time": "2024-04-21T06:26:08.529Z"
   },
   {
    "duration": 47,
    "start_time": "2024-04-21T06:27:41.648Z"
   },
   {
    "duration": 58,
    "start_time": "2024-04-21T06:27:51.260Z"
   },
   {
    "duration": 58,
    "start_time": "2024-04-21T06:28:09.581Z"
   },
   {
    "duration": 57,
    "start_time": "2024-04-21T06:29:03.794Z"
   },
   {
    "duration": 74,
    "start_time": "2024-04-21T06:29:27.726Z"
   },
   {
    "duration": 57,
    "start_time": "2024-04-21T06:29:51.468Z"
   },
   {
    "duration": 57,
    "start_time": "2024-04-21T06:30:05.230Z"
   },
   {
    "duration": 30,
    "start_time": "2024-04-21T06:30:16.475Z"
   },
   {
    "duration": 60,
    "start_time": "2024-04-21T06:30:27.580Z"
   },
   {
    "duration": 48,
    "start_time": "2024-04-21T06:31:39.677Z"
   },
   {
    "duration": 86,
    "start_time": "2024-04-21T06:32:00.245Z"
   },
   {
    "duration": 68,
    "start_time": "2024-04-21T06:32:03.686Z"
   },
   {
    "duration": 29,
    "start_time": "2024-04-21T06:32:21.339Z"
   },
   {
    "duration": 42,
    "start_time": "2024-04-21T06:32:44.631Z"
   },
   {
    "duration": 70,
    "start_time": "2024-04-21T06:32:49.176Z"
   },
   {
    "duration": 47,
    "start_time": "2024-04-21T06:33:07.714Z"
   },
   {
    "duration": 58,
    "start_time": "2024-04-21T06:33:18.252Z"
   },
   {
    "duration": 80,
    "start_time": "2024-04-21T06:33:22.387Z"
   },
   {
    "duration": 47,
    "start_time": "2024-04-21T06:33:35.505Z"
   },
   {
    "duration": 57,
    "start_time": "2024-04-21T06:34:34.700Z"
   },
   {
    "duration": 79,
    "start_time": "2024-04-21T06:34:37.676Z"
   },
   {
    "duration": 46,
    "start_time": "2024-04-21T06:34:58.132Z"
   },
   {
    "duration": 42,
    "start_time": "2024-04-21T06:35:22.583Z"
   },
   {
    "duration": 30,
    "start_time": "2024-04-21T06:35:31.399Z"
   },
   {
    "duration": 45,
    "start_time": "2024-04-21T06:35:45.748Z"
   },
   {
    "duration": 56,
    "start_time": "2024-04-21T06:36:04.679Z"
   },
   {
    "duration": 56,
    "start_time": "2024-04-21T06:36:10.739Z"
   },
   {
    "duration": 82,
    "start_time": "2024-04-21T06:36:22.499Z"
   },
   {
    "duration": 32,
    "start_time": "2024-04-21T06:37:56.338Z"
   },
   {
    "duration": 30,
    "start_time": "2024-04-21T06:38:10.921Z"
   },
   {
    "duration": 47,
    "start_time": "2024-04-21T06:43:57.079Z"
   },
   {
    "duration": 71,
    "start_time": "2024-04-21T06:44:00.623Z"
   },
   {
    "duration": 47,
    "start_time": "2024-04-21T06:45:32.664Z"
   },
   {
    "duration": 57,
    "start_time": "2024-04-21T06:45:47.599Z"
   },
   {
    "duration": 90,
    "start_time": "2024-04-21T06:46:15.135Z"
   },
   {
    "duration": 64,
    "start_time": "2024-04-21T06:48:07.842Z"
   },
   {
    "duration": 67,
    "start_time": "2024-04-21T06:48:24.255Z"
   },
   {
    "duration": 78,
    "start_time": "2024-04-21T06:48:28.056Z"
   },
   {
    "duration": 47,
    "start_time": "2024-04-21T06:48:56.662Z"
   },
   {
    "duration": 58,
    "start_time": "2024-04-21T06:49:10.428Z"
   },
   {
    "duration": 89,
    "start_time": "2024-04-21T06:49:22.808Z"
   },
   {
    "duration": 46,
    "start_time": "2024-04-21T06:49:58.483Z"
   },
   {
    "duration": 57,
    "start_time": "2024-04-21T06:50:01.095Z"
   },
   {
    "duration": 57,
    "start_time": "2024-04-21T06:50:16.514Z"
   },
   {
    "duration": 73,
    "start_time": "2024-04-21T06:50:20.997Z"
   },
   {
    "duration": 63,
    "start_time": "2024-04-21T06:50:33.722Z"
   },
   {
    "duration": 79,
    "start_time": "2024-04-21T06:50:37.000Z"
   },
   {
    "duration": 90,
    "start_time": "2024-04-21T06:50:46.848Z"
   },
   {
    "duration": 89,
    "start_time": "2024-04-21T06:50:51.510Z"
   },
   {
    "duration": 119,
    "start_time": "2024-04-21T06:51:10.558Z"
   },
   {
    "duration": 46,
    "start_time": "2024-04-21T06:51:58.774Z"
   },
   {
    "duration": 80,
    "start_time": "2024-04-21T06:52:07.250Z"
   },
   {
    "duration": 45,
    "start_time": "2024-04-21T06:52:32.911Z"
   },
   {
    "duration": 70,
    "start_time": "2024-04-21T06:52:52.163Z"
   },
   {
    "duration": 48,
    "start_time": "2024-04-21T06:55:23.529Z"
   },
   {
    "duration": 122,
    "start_time": "2024-04-21T06:55:34.725Z"
   },
   {
    "duration": 46,
    "start_time": "2024-04-21T06:58:06.839Z"
   },
   {
    "duration": 56,
    "start_time": "2024-04-21T06:58:59.777Z"
   },
   {
    "duration": 57,
    "start_time": "2024-04-21T06:59:43.257Z"
   },
   {
    "duration": 58,
    "start_time": "2024-04-21T06:59:51.877Z"
   },
   {
    "duration": 57,
    "start_time": "2024-04-21T07:00:12.759Z"
   },
   {
    "duration": 71,
    "start_time": "2024-04-21T07:00:37.264Z"
   },
   {
    "duration": 58,
    "start_time": "2024-04-21T07:05:35.017Z"
   },
   {
    "duration": 58,
    "start_time": "2024-04-21T07:05:56.652Z"
   },
   {
    "duration": 59,
    "start_time": "2024-04-21T07:06:07.838Z"
   },
   {
    "duration": 64,
    "start_time": "2024-04-21T07:06:32.887Z"
   },
   {
    "duration": 57,
    "start_time": "2024-04-21T07:06:42.561Z"
   },
   {
    "duration": 32,
    "start_time": "2024-04-21T07:07:05.009Z"
   },
   {
    "duration": 47,
    "start_time": "2024-04-21T07:07:12.562Z"
   },
   {
    "duration": 46,
    "start_time": "2024-04-21T07:07:36.446Z"
   },
   {
    "duration": 56,
    "start_time": "2024-04-21T07:07:54.029Z"
   },
   {
    "duration": 48,
    "start_time": "2024-04-21T07:08:04.812Z"
   },
   {
    "duration": 48,
    "start_time": "2024-04-21T07:08:17.065Z"
   },
   {
    "duration": 48,
    "start_time": "2024-04-21T07:08:41.913Z"
   },
   {
    "duration": 58,
    "start_time": "2024-04-21T07:08:45.559Z"
   },
   {
    "duration": 56,
    "start_time": "2024-04-21T07:08:48.455Z"
   },
   {
    "duration": 59,
    "start_time": "2024-04-21T07:08:55.716Z"
   },
   {
    "duration": 72,
    "start_time": "2024-04-21T07:09:03.752Z"
   },
   {
    "duration": 69,
    "start_time": "2024-04-21T07:09:16.336Z"
   },
   {
    "duration": 52,
    "start_time": "2024-04-21T07:09:39.415Z"
   },
   {
    "duration": 48,
    "start_time": "2024-04-21T07:09:46.332Z"
   },
   {
    "duration": 34,
    "start_time": "2024-04-21T07:11:20.074Z"
   },
   {
    "duration": 47,
    "start_time": "2024-04-21T07:11:28.683Z"
   },
   {
    "duration": 47,
    "start_time": "2024-04-21T07:12:37.598Z"
   },
   {
    "duration": 57,
    "start_time": "2024-04-21T07:12:40.188Z"
   },
   {
    "duration": 58,
    "start_time": "2024-04-21T07:12:48.075Z"
   },
   {
    "duration": 44,
    "start_time": "2024-04-21T07:13:41.351Z"
   },
   {
    "duration": 47,
    "start_time": "2024-04-21T07:14:03.769Z"
   },
   {
    "duration": 124,
    "start_time": "2024-04-21T07:16:40.162Z"
   },
   {
    "duration": 48,
    "start_time": "2024-04-21T07:18:06.081Z"
   },
   {
    "duration": 58,
    "start_time": "2024-04-21T07:18:16.827Z"
   },
   {
    "duration": 38,
    "start_time": "2024-04-21T07:18:40.147Z"
   },
   {
    "duration": 37,
    "start_time": "2024-04-21T07:18:53.890Z"
   },
   {
    "duration": 35,
    "start_time": "2024-04-21T07:19:02.836Z"
   },
   {
    "duration": 38,
    "start_time": "2024-04-21T07:19:40.314Z"
   },
   {
    "duration": 37,
    "start_time": "2024-04-21T07:20:35.163Z"
   },
   {
    "duration": 62,
    "start_time": "2024-04-21T07:23:54.546Z"
   },
   {
    "duration": 2,
    "start_time": "2024-04-21T07:24:15.270Z"
   },
   {
    "duration": 47,
    "start_time": "2024-04-21T07:24:24.606Z"
   },
   {
    "duration": 39,
    "start_time": "2024-04-21T07:28:33.006Z"
   },
   {
    "duration": 28,
    "start_time": "2024-04-21T07:28:42.643Z"
   },
   {
    "duration": 186,
    "start_time": "2024-04-21T07:29:01.394Z"
   },
   {
    "duration": 101,
    "start_time": "2024-04-21T07:29:22.189Z"
   },
   {
    "duration": 103,
    "start_time": "2024-04-21T07:29:31.177Z"
   },
   {
    "duration": 159,
    "start_time": "2024-04-21T07:29:38.736Z"
   },
   {
    "duration": 102,
    "start_time": "2024-04-21T07:29:42.591Z"
   },
   {
    "duration": 80,
    "start_time": "2024-04-21T07:29:49.838Z"
   },
   {
    "duration": 46,
    "start_time": "2024-04-21T07:30:03.836Z"
   },
   {
    "duration": 46,
    "start_time": "2024-04-21T07:30:24.482Z"
   },
   {
    "duration": 48,
    "start_time": "2024-04-21T07:30:34.654Z"
   },
   {
    "duration": 46,
    "start_time": "2024-04-21T07:30:40.123Z"
   },
   {
    "duration": 79,
    "start_time": "2024-04-21T07:30:53.452Z"
   },
   {
    "duration": 70,
    "start_time": "2024-04-21T07:31:16.871Z"
   },
   {
    "duration": 34,
    "start_time": "2024-04-21T07:33:31.586Z"
   },
   {
    "duration": 48,
    "start_time": "2024-04-21T07:34:40.959Z"
   },
   {
    "duration": 57,
    "start_time": "2024-04-21T07:34:59.216Z"
   },
   {
    "duration": 45,
    "start_time": "2024-04-21T07:35:35.642Z"
   },
   {
    "duration": 35,
    "start_time": "2024-04-21T07:35:47.974Z"
   },
   {
    "duration": 82,
    "start_time": "2024-04-21T07:40:12.769Z"
   },
   {
    "duration": 33,
    "start_time": "2024-04-21T07:41:07.799Z"
   },
   {
    "duration": 32,
    "start_time": "2024-04-21T07:41:22.418Z"
   },
   {
    "duration": 46,
    "start_time": "2024-04-21T07:44:59.338Z"
   },
   {
    "duration": 40,
    "start_time": "2024-04-21T07:45:22.712Z"
   },
   {
    "duration": 31,
    "start_time": "2024-04-21T07:45:33.086Z"
   },
   {
    "duration": 30,
    "start_time": "2024-04-21T07:46:26.913Z"
   },
   {
    "duration": 32,
    "start_time": "2024-04-21T07:46:50.367Z"
   },
   {
    "duration": 30,
    "start_time": "2024-04-21T07:46:55.754Z"
   },
   {
    "duration": 75,
    "start_time": "2024-04-21T07:47:48.545Z"
   },
   {
    "duration": 73,
    "start_time": "2024-04-21T07:47:56.129Z"
   },
   {
    "duration": 30,
    "start_time": "2024-04-21T07:48:10.873Z"
   },
   {
    "duration": 31,
    "start_time": "2024-04-21T07:48:17.246Z"
   },
   {
    "duration": 30,
    "start_time": "2024-04-21T07:49:49.785Z"
   },
   {
    "duration": 7271,
    "start_time": "2024-04-21T07:50:22.577Z"
   },
   {
    "duration": 31,
    "start_time": "2024-04-21T07:50:29.850Z"
   },
   {
    "duration": 30,
    "start_time": "2024-04-21T07:50:29.882Z"
   },
   {
    "duration": 29,
    "start_time": "2024-04-21T07:50:29.913Z"
   },
   {
    "duration": 29,
    "start_time": "2024-04-21T07:50:29.944Z"
   },
   {
    "duration": 29,
    "start_time": "2024-04-21T07:50:29.975Z"
   },
   {
    "duration": 27,
    "start_time": "2024-04-21T07:50:30.006Z"
   },
   {
    "duration": 75,
    "start_time": "2024-04-21T07:50:30.035Z"
   },
   {
    "duration": 30,
    "start_time": "2024-04-21T07:50:30.112Z"
   },
   {
    "duration": 41,
    "start_time": "2024-04-21T07:50:30.144Z"
   },
   {
    "duration": 45,
    "start_time": "2024-04-21T07:50:30.186Z"
   },
   {
    "duration": 72,
    "start_time": "2024-04-21T07:55:22.260Z"
   },
   {
    "duration": 73,
    "start_time": "2024-04-21T07:55:26.587Z"
   },
   {
    "duration": 70,
    "start_time": "2024-04-21T07:55:34.856Z"
   },
   {
    "duration": 67,
    "start_time": "2024-04-21T07:55:48.264Z"
   },
   {
    "duration": 67,
    "start_time": "2024-04-21T07:56:02.955Z"
   },
   {
    "duration": 67,
    "start_time": "2024-04-21T07:56:10.742Z"
   },
   {
    "duration": 77,
    "start_time": "2024-04-21T07:56:20.266Z"
   },
   {
    "duration": 8154,
    "start_time": "2024-04-21T08:00:14.629Z"
   },
   {
    "duration": 31,
    "start_time": "2024-04-21T08:00:22.785Z"
   },
   {
    "duration": 29,
    "start_time": "2024-04-21T08:00:22.818Z"
   },
   {
    "duration": 29,
    "start_time": "2024-04-21T08:00:22.849Z"
   },
   {
    "duration": 28,
    "start_time": "2024-04-21T08:00:22.880Z"
   },
   {
    "duration": 29,
    "start_time": "2024-04-21T08:00:22.909Z"
   },
   {
    "duration": 27,
    "start_time": "2024-04-21T08:00:22.940Z"
   },
   {
    "duration": 71,
    "start_time": "2024-04-21T08:00:22.969Z"
   },
   {
    "duration": 29,
    "start_time": "2024-04-21T08:00:23.041Z"
   },
   {
    "duration": 35,
    "start_time": "2024-04-21T08:00:23.071Z"
   },
   {
    "duration": 30,
    "start_time": "2024-04-21T08:00:23.108Z"
   },
   {
    "duration": 11302,
    "start_time": "2024-04-21T15:56:22.672Z"
   },
   {
    "duration": 30,
    "start_time": "2024-04-21T15:56:33.976Z"
   },
   {
    "duration": 28,
    "start_time": "2024-04-21T15:56:34.008Z"
   },
   {
    "duration": 30,
    "start_time": "2024-04-21T15:56:34.038Z"
   },
   {
    "duration": 31,
    "start_time": "2024-04-21T15:56:34.069Z"
   },
   {
    "duration": 30,
    "start_time": "2024-04-21T15:56:34.101Z"
   },
   {
    "duration": 30,
    "start_time": "2024-04-21T15:56:34.132Z"
   },
   {
    "duration": 73,
    "start_time": "2024-04-21T15:56:34.163Z"
   },
   {
    "duration": 30,
    "start_time": "2024-04-21T15:56:34.238Z"
   },
   {
    "duration": 34,
    "start_time": "2024-04-21T15:56:34.271Z"
   },
   {
    "duration": 31,
    "start_time": "2024-04-21T15:56:34.307Z"
   },
   {
    "duration": 42,
    "start_time": "2024-04-21T16:02:28.422Z"
   },
   {
    "duration": 5,
    "start_time": "2024-04-21T16:02:40.823Z"
   },
   {
    "duration": 9723,
    "start_time": "2024-04-21T16:02:45.140Z"
   },
   {
    "duration": 8,
    "start_time": "2024-04-21T16:02:54.865Z"
   },
   {
    "duration": 7,
    "start_time": "2024-04-21T16:02:54.875Z"
   },
   {
    "duration": 8,
    "start_time": "2024-04-21T16:02:54.883Z"
   },
   {
    "duration": 7,
    "start_time": "2024-04-21T16:02:54.892Z"
   },
   {
    "duration": 20,
    "start_time": "2024-04-21T16:02:54.901Z"
   },
   {
    "duration": 15,
    "start_time": "2024-04-21T16:02:54.922Z"
   },
   {
    "duration": 32,
    "start_time": "2024-04-21T16:02:54.938Z"
   },
   {
    "duration": 27,
    "start_time": "2024-04-21T16:02:54.971Z"
   },
   {
    "duration": 9,
    "start_time": "2024-04-21T16:02:54.999Z"
   },
   {
    "duration": 27,
    "start_time": "2024-04-21T16:02:55.010Z"
   },
   {
    "duration": 11,
    "start_time": "2024-04-21T16:02:55.038Z"
   },
   {
    "duration": 29,
    "start_time": "2024-04-21T16:03:02.335Z"
   },
   {
    "duration": 52,
    "start_time": "2024-04-22T14:01:49.790Z"
   },
   {
    "duration": 12743,
    "start_time": "2024-04-22T14:02:00.109Z"
   },
   {
    "duration": 19,
    "start_time": "2024-04-22T14:02:12.854Z"
   },
   {
    "duration": 8,
    "start_time": "2024-04-22T14:02:12.875Z"
   },
   {
    "duration": 12,
    "start_time": "2024-04-22T14:02:12.884Z"
   },
   {
    "duration": 11,
    "start_time": "2024-04-22T14:02:12.898Z"
   },
   {
    "duration": 9,
    "start_time": "2024-04-22T14:02:12.911Z"
   },
   {
    "duration": 8,
    "start_time": "2024-04-22T14:02:12.922Z"
   },
   {
    "duration": 36,
    "start_time": "2024-04-22T14:02:12.955Z"
   },
   {
    "duration": 11,
    "start_time": "2024-04-22T14:02:12.992Z"
   },
   {
    "duration": 22,
    "start_time": "2024-04-22T14:02:13.006Z"
   },
   {
    "duration": 17,
    "start_time": "2024-04-22T14:02:13.030Z"
   },
   {
    "duration": 11,
    "start_time": "2024-04-22T14:02:22.116Z"
   },
   {
    "duration": 10336,
    "start_time": "2024-04-22T14:02:30.465Z"
   },
   {
    "duration": 10,
    "start_time": "2024-04-22T14:02:40.803Z"
   },
   {
    "duration": 27,
    "start_time": "2024-04-22T14:02:40.814Z"
   },
   {
    "duration": 13,
    "start_time": "2024-04-22T14:02:40.843Z"
   },
   {
    "duration": 9,
    "start_time": "2024-04-22T14:02:40.858Z"
   },
   {
    "duration": 10,
    "start_time": "2024-04-22T14:02:40.868Z"
   },
   {
    "duration": 8,
    "start_time": "2024-04-22T14:02:40.879Z"
   },
   {
    "duration": 57,
    "start_time": "2024-04-22T14:02:40.888Z"
   },
   {
    "duration": 11,
    "start_time": "2024-04-22T14:02:40.946Z"
   },
   {
    "duration": 17,
    "start_time": "2024-04-22T14:02:40.959Z"
   },
   {
    "duration": 12,
    "start_time": "2024-04-22T14:02:40.977Z"
   },
   {
    "duration": 87,
    "start_time": "2024-04-22T14:03:48.329Z"
   },
   {
    "duration": 22,
    "start_time": "2024-04-22T14:04:26.112Z"
   },
   {
    "duration": 21,
    "start_time": "2024-04-22T14:04:38.352Z"
   },
   {
    "duration": 21,
    "start_time": "2024-04-22T14:04:50.488Z"
   },
   {
    "duration": 20,
    "start_time": "2024-04-22T14:05:17.108Z"
   },
   {
    "duration": 8,
    "start_time": "2024-04-22T14:06:31.870Z"
   },
   {
    "duration": 25,
    "start_time": "2024-04-22T14:07:26.698Z"
   },
   {
    "duration": 10945,
    "start_time": "2024-04-22T14:14:25.218Z"
   },
   {
    "duration": 12,
    "start_time": "2024-04-22T14:14:36.165Z"
   },
   {
    "duration": 37,
    "start_time": "2024-04-22T14:14:36.178Z"
   },
   {
    "duration": 23,
    "start_time": "2024-04-22T14:14:36.217Z"
   },
   {
    "duration": 13,
    "start_time": "2024-04-22T14:14:36.243Z"
   },
   {
    "duration": 10,
    "start_time": "2024-04-22T14:14:36.257Z"
   },
   {
    "duration": 21,
    "start_time": "2024-04-22T14:14:36.268Z"
   },
   {
    "duration": 99,
    "start_time": "2024-04-22T14:14:36.291Z"
   },
   {
    "duration": 0,
    "start_time": "2024-04-22T14:14:36.391Z"
   },
   {
    "duration": 0,
    "start_time": "2024-04-22T14:14:36.392Z"
   },
   {
    "duration": 0,
    "start_time": "2024-04-22T14:14:36.393Z"
   },
   {
    "duration": 0,
    "start_time": "2024-04-22T14:14:36.394Z"
   },
   {
    "duration": 15,
    "start_time": "2024-04-22T14:15:42.810Z"
   },
   {
    "duration": 25,
    "start_time": "2024-04-22T14:16:45.814Z"
   },
   {
    "duration": 29,
    "start_time": "2024-04-22T14:21:32.504Z"
   },
   {
    "duration": 22,
    "start_time": "2024-04-22T14:22:22.986Z"
   },
   {
    "duration": 22,
    "start_time": "2024-04-22T14:22:40.214Z"
   },
   {
    "duration": 21,
    "start_time": "2024-04-22T14:23:28.825Z"
   },
   {
    "duration": 23,
    "start_time": "2024-04-22T14:25:15.833Z"
   },
   {
    "duration": 33,
    "start_time": "2024-04-22T14:25:30.820Z"
   },
   {
    "duration": 32,
    "start_time": "2024-04-22T14:25:51.441Z"
   },
   {
    "duration": 25,
    "start_time": "2024-04-22T14:26:01.609Z"
   },
   {
    "duration": 24,
    "start_time": "2024-04-22T14:26:05.833Z"
   },
   {
    "duration": 25,
    "start_time": "2024-04-22T14:26:41.502Z"
   },
   {
    "duration": 33,
    "start_time": "2024-04-22T14:26:49.621Z"
   },
   {
    "duration": 13,
    "start_time": "2024-04-22T14:34:02.667Z"
   },
   {
    "duration": 11,
    "start_time": "2024-04-22T14:34:08.520Z"
   },
   {
    "duration": 12837,
    "start_time": "2024-04-22T14:34:27.360Z"
   },
   {
    "duration": 11,
    "start_time": "2024-04-22T14:34:40.199Z"
   },
   {
    "duration": 9,
    "start_time": "2024-04-22T14:34:40.211Z"
   },
   {
    "duration": 30,
    "start_time": "2024-04-22T14:34:40.221Z"
   },
   {
    "duration": 21,
    "start_time": "2024-04-22T14:34:40.253Z"
   },
   {
    "duration": 10,
    "start_time": "2024-04-22T14:34:40.276Z"
   },
   {
    "duration": 12,
    "start_time": "2024-04-22T14:34:40.288Z"
   },
   {
    "duration": 25,
    "start_time": "2024-04-22T14:34:40.302Z"
   },
   {
    "duration": 10,
    "start_time": "2024-04-22T14:34:40.329Z"
   },
   {
    "duration": 28,
    "start_time": "2024-04-22T14:34:40.340Z"
   },
   {
    "duration": 12,
    "start_time": "2024-04-22T14:34:40.369Z"
   },
   {
    "duration": 95,
    "start_time": "2024-04-22T14:35:10.540Z"
   },
   {
    "duration": 10,
    "start_time": "2024-04-22T14:35:14.093Z"
   },
   {
    "duration": 6735,
    "start_time": "2024-04-22T15:51:09.238Z"
   },
   {
    "duration": 31,
    "start_time": "2024-04-22T15:51:15.974Z"
   },
   {
    "duration": 33,
    "start_time": "2024-04-22T15:51:16.006Z"
   },
   {
    "duration": 30,
    "start_time": "2024-04-22T15:51:16.040Z"
   },
   {
    "duration": 30,
    "start_time": "2024-04-22T15:51:16.071Z"
   },
   {
    "duration": 29,
    "start_time": "2024-04-22T15:51:16.103Z"
   },
   {
    "duration": 29,
    "start_time": "2024-04-22T15:51:16.134Z"
   },
   {
    "duration": 65,
    "start_time": "2024-04-22T15:51:16.165Z"
   },
   {
    "duration": 31,
    "start_time": "2024-04-22T15:51:16.232Z"
   },
   {
    "duration": 50,
    "start_time": "2024-04-22T15:51:16.266Z"
   },
   {
    "duration": 34,
    "start_time": "2024-04-22T15:51:16.318Z"
   },
   {
    "duration": 29,
    "start_time": "2024-04-22T15:51:16.354Z"
   },
   {
    "duration": 64,
    "start_time": "2024-04-22T15:51:50.092Z"
   },
   {
    "duration": 65,
    "start_time": "2024-04-22T15:51:53.412Z"
   }
  ],
  "kernelspec": {
   "display_name": "Python 3 (ipykernel)",
   "language": "python",
   "name": "python3"
  },
  "language_info": {
   "codemirror_mode": {
    "name": "ipython",
    "version": 3
   },
   "file_extension": ".py",
   "mimetype": "text/x-python",
   "name": "python",
   "nbconvert_exporter": "python",
   "pygments_lexer": "ipython3",
   "version": "3.11.7"
  },
  "toc": {
   "base_numbering": 1,
   "nav_menu": {},
   "number_sections": true,
   "sideBar": true,
   "skip_h1_title": true,
   "title_cell": "Table of Contents",
   "title_sidebar": "Contents",
   "toc_cell": false,
   "toc_position": {
    "height": "calc(100% - 180px)",
    "left": "10px",
    "top": "150px",
    "width": "165px"
   },
   "toc_section_display": true,
   "toc_window_display": true
  }
 },
 "nbformat": 4,
 "nbformat_minor": 4
}
