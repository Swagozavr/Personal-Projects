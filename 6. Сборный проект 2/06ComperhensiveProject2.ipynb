{
 "cells": [
  {
   "cell_type": "markdown",
   "metadata": {},
   "source": [
    "# __Сборный проект - 2__"
   ]
  },
  {
   "cell_type": "markdown",
   "metadata": {},
   "source": [
    "# Введение"
   ]
  },
  {
   "cell_type": "markdown",
   "metadata": {},
   "source": [
    "### Описание проекта"
   ]
  },
  {
   "cell_type": "markdown",
   "metadata": {},
   "source": [
    "Вы работаете в стартапе, который продаёт продукты питания. Нужно разобраться, как ведут себя пользователи вашего мобильного приложения. \n",
    "\n",
    "Изучите воронку продаж. Узнайте: \n",
    "- Как пользователи доходят до покупки. \n",
    "- Сколько пользователей доходит до покупки, а сколько — «застревает» на предыдущих шагах? На каких именно?\n",
    "\n",
    "После этого исследуйте результаты A/A/B-эксперимента. \n",
    "\n",
    "Дизайнеры захотели поменять шрифты во всём приложении, а менеджеры испугались, что пользователям будет непривычно. Договорились принять решение по результатам A/A/B-теста. Пользователей разбили на 3 группы: \n",
    "- 2 контрольные со старыми шрифтами \n",
    "- Одну экспериментальную — с новыми. \n",
    "\n",
    "Выясните, какой шрифт лучше."
   ]
  },
  {
   "cell_type": "markdown",
   "metadata": {},
   "source": [
    "### Описание данных"
   ]
  },
  {
   "cell_type": "markdown",
   "metadata": {},
   "source": [
    "Каждая запись в логе — это действие пользователя, или событие. \n",
    "- EventName — название события;\n",
    "- DeviceIDHash — уникальный идентификатор пользователя;\n",
    "- EventTimestamp — время события;\n",
    "- ExpId — номер эксперимента: 246 и 247 — контрольные группы, а 248 — экспериментальная."
   ]
  },
  {
   "cell_type": "markdown",
   "metadata": {},
   "source": [
    "# Ход работы"
   ]
  },
  {
   "cell_type": "markdown",
   "metadata": {},
   "source": [
    "## Импорт необходимых библиотек"
   ]
  },
  {
   "cell_type": "code",
   "execution_count": 1,
   "metadata": {},
   "outputs": [],
   "source": [
    "import pandas as pd\n",
    "import matplotlib.pyplot as plt\n",
    "from matplotlib.pyplot import figure\n",
    "import seaborn as sns\n",
    "import numpy as np\n",
    "import math as mth\n",
    "from scipy import stats as st\n",
    "import warnings\n",
    "\n",
    "warnings.filterwarnings('ignore')"
   ]
  },
  {
   "cell_type": "markdown",
   "metadata": {},
   "source": [
    "## Предобработка данных"
   ]
  },
  {
   "cell_type": "markdown",
   "metadata": {},
   "source": [
    "Сначала откроем датасет и рассмотрим его"
   ]
  },
  {
   "cell_type": "code",
   "execution_count": 2,
   "metadata": {},
   "outputs": [
    {
     "data": {
      "text/html": [
       "<div>\n",
       "<style scoped>\n",
       "    .dataframe tbody tr th:only-of-type {\n",
       "        vertical-align: middle;\n",
       "    }\n",
       "\n",
       "    .dataframe tbody tr th {\n",
       "        vertical-align: top;\n",
       "    }\n",
       "\n",
       "    .dataframe thead th {\n",
       "        text-align: right;\n",
       "    }\n",
       "</style>\n",
       "<table border=\"1\" class=\"dataframe\">\n",
       "  <thead>\n",
       "    <tr style=\"text-align: right;\">\n",
       "      <th></th>\n",
       "      <th>EventName</th>\n",
       "      <th>DeviceIDHash</th>\n",
       "      <th>EventTimestamp</th>\n",
       "      <th>ExpId</th>\n",
       "    </tr>\n",
       "  </thead>\n",
       "  <tbody>\n",
       "    <tr>\n",
       "      <th>0</th>\n",
       "      <td>MainScreenAppear</td>\n",
       "      <td>4575588528974610257</td>\n",
       "      <td>1564029816</td>\n",
       "      <td>246</td>\n",
       "    </tr>\n",
       "    <tr>\n",
       "      <th>1</th>\n",
       "      <td>MainScreenAppear</td>\n",
       "      <td>7416695313311560658</td>\n",
       "      <td>1564053102</td>\n",
       "      <td>246</td>\n",
       "    </tr>\n",
       "    <tr>\n",
       "      <th>2</th>\n",
       "      <td>PaymentScreenSuccessful</td>\n",
       "      <td>3518123091307005509</td>\n",
       "      <td>1564054127</td>\n",
       "      <td>248</td>\n",
       "    </tr>\n",
       "    <tr>\n",
       "      <th>3</th>\n",
       "      <td>CartScreenAppear</td>\n",
       "      <td>3518123091307005509</td>\n",
       "      <td>1564054127</td>\n",
       "      <td>248</td>\n",
       "    </tr>\n",
       "    <tr>\n",
       "      <th>4</th>\n",
       "      <td>PaymentScreenSuccessful</td>\n",
       "      <td>6217807653094995999</td>\n",
       "      <td>1564055322</td>\n",
       "      <td>248</td>\n",
       "    </tr>\n",
       "  </tbody>\n",
       "</table>\n",
       "</div>"
      ],
      "text/plain": [
       "                 EventName         DeviceIDHash  EventTimestamp  ExpId\n",
       "0         MainScreenAppear  4575588528974610257      1564029816    246\n",
       "1         MainScreenAppear  7416695313311560658      1564053102    246\n",
       "2  PaymentScreenSuccessful  3518123091307005509      1564054127    248\n",
       "3         CartScreenAppear  3518123091307005509      1564054127    248\n",
       "4  PaymentScreenSuccessful  6217807653094995999      1564055322    248"
      ]
     },
     "execution_count": 2,
     "metadata": {},
     "output_type": "execute_result"
    }
   ],
   "source": [
    "df = pd.read_csv('/datasets/logs_exp.csv', sep = '\\t')\n",
    "df2 = df\n",
    "df.head(5)"
   ]
  },
  {
   "cell_type": "code",
   "execution_count": 3,
   "metadata": {
    "scrolled": true
   },
   "outputs": [
    {
     "name": "stdout",
     "output_type": "stream",
     "text": [
      "<class 'pandas.core.frame.DataFrame'>\n",
      "RangeIndex: 244126 entries, 0 to 244125\n",
      "Data columns (total 4 columns):\n",
      " #   Column          Non-Null Count   Dtype \n",
      "---  ------          --------------   ----- \n",
      " 0   EventName       244126 non-null  object\n",
      " 1   DeviceIDHash    244126 non-null  int64 \n",
      " 2   EventTimestamp  244126 non-null  int64 \n",
      " 3   ExpId           244126 non-null  int64 \n",
      "dtypes: int64(3), object(1)\n",
      "memory usage: 7.5+ MB\n"
     ]
    }
   ],
   "source": [
    "df.info()"
   ]
  },
  {
   "cell_type": "code",
   "execution_count": 4,
   "metadata": {
    "scrolled": true
   },
   "outputs": [
    {
     "name": "stdout",
     "output_type": "stream",
     "text": [
      "Дубликатов: 413\n"
     ]
    }
   ],
   "source": [
    "print('Дубликатов:', df.duplicated().sum())"
   ]
  },
  {
   "cell_type": "code",
   "execution_count": 5,
   "metadata": {},
   "outputs": [
    {
     "name": "stdout",
     "output_type": "stream",
     "text": [
      "Пользователей, вошедших в обе группы: 0\n"
     ]
    }
   ],
   "source": [
    "chech = df.groupby(by = 'DeviceIDHash').agg({'ExpId':'nunique'})\n",
    "print('Пользователей, вошедших в обе группы:', len(chech[chech['ExpId'] != 1]))"
   ]
  },
  {
   "cell_type": "code",
   "execution_count": 6,
   "metadata": {
    "scrolled": true
   },
   "outputs": [
    {
     "data": {
      "text/html": [
       "<div>\n",
       "<style scoped>\n",
       "    .dataframe tbody tr th:only-of-type {\n",
       "        vertical-align: middle;\n",
       "    }\n",
       "\n",
       "    .dataframe tbody tr th {\n",
       "        vertical-align: top;\n",
       "    }\n",
       "\n",
       "    .dataframe thead th {\n",
       "        text-align: right;\n",
       "    }\n",
       "</style>\n",
       "<table border=\"1\" class=\"dataframe\">\n",
       "  <thead>\n",
       "    <tr style=\"text-align: right;\">\n",
       "      <th></th>\n",
       "      <th>DeviceIDHash</th>\n",
       "    </tr>\n",
       "    <tr>\n",
       "      <th>ExpId</th>\n",
       "      <th></th>\n",
       "    </tr>\n",
       "  </thead>\n",
       "  <tbody>\n",
       "    <tr>\n",
       "      <th>246</th>\n",
       "      <td>80304</td>\n",
       "    </tr>\n",
       "    <tr>\n",
       "      <th>247</th>\n",
       "      <td>78075</td>\n",
       "    </tr>\n",
       "    <tr>\n",
       "      <th>248</th>\n",
       "      <td>85747</td>\n",
       "    </tr>\n",
       "  </tbody>\n",
       "</table>\n",
       "</div>"
      ],
      "text/plain": [
       "       DeviceIDHash\n",
       "ExpId              \n",
       "246           80304\n",
       "247           78075\n",
       "248           85747"
      ]
     },
     "execution_count": 6,
     "metadata": {},
     "output_type": "execute_result"
    }
   ],
   "source": [
    "df.groupby(by = 'ExpId').agg({'DeviceIDHash':'count'})"
   ]
  },
  {
   "cell_type": "markdown",
   "metadata": {},
   "source": [
    "Группы примерно равны по численности. С этим все хорошо"
   ]
  },
  {
   "cell_type": "markdown",
   "metadata": {},
   "source": [
    "На основании этих данных можно сказать, что необходимо:\n",
    "- Поменять названия колонок\n",
    "- Изменить тим данных столбца EventTimestamp на timestamp\n",
    "- Добавить сепарированный столбец даты\n",
    "- Удалить дубликаты\n",
    "\n",
    "Приступим:"
   ]
  },
  {
   "cell_type": "code",
   "execution_count": 7,
   "metadata": {},
   "outputs": [
    {
     "data": {
      "text/html": [
       "<div>\n",
       "<style scoped>\n",
       "    .dataframe tbody tr th:only-of-type {\n",
       "        vertical-align: middle;\n",
       "    }\n",
       "\n",
       "    .dataframe tbody tr th {\n",
       "        vertical-align: top;\n",
       "    }\n",
       "\n",
       "    .dataframe thead th {\n",
       "        text-align: right;\n",
       "    }\n",
       "</style>\n",
       "<table border=\"1\" class=\"dataframe\">\n",
       "  <thead>\n",
       "    <tr style=\"text-align: right;\">\n",
       "      <th></th>\n",
       "      <th>event_name</th>\n",
       "      <th>user_id</th>\n",
       "      <th>datetime</th>\n",
       "      <th>group</th>\n",
       "      <th>date</th>\n",
       "    </tr>\n",
       "  </thead>\n",
       "  <tbody>\n",
       "    <tr>\n",
       "      <th>0</th>\n",
       "      <td>MainScreenAppear</td>\n",
       "      <td>4575588528974610257</td>\n",
       "      <td>2019-07-25 04:43:36</td>\n",
       "      <td>246</td>\n",
       "      <td>2019-07-25</td>\n",
       "    </tr>\n",
       "    <tr>\n",
       "      <th>1</th>\n",
       "      <td>MainScreenAppear</td>\n",
       "      <td>7416695313311560658</td>\n",
       "      <td>2019-07-25 11:11:42</td>\n",
       "      <td>246</td>\n",
       "      <td>2019-07-25</td>\n",
       "    </tr>\n",
       "    <tr>\n",
       "      <th>2</th>\n",
       "      <td>PaymentScreenSuccessful</td>\n",
       "      <td>3518123091307005509</td>\n",
       "      <td>2019-07-25 11:28:47</td>\n",
       "      <td>248</td>\n",
       "      <td>2019-07-25</td>\n",
       "    </tr>\n",
       "    <tr>\n",
       "      <th>3</th>\n",
       "      <td>CartScreenAppear</td>\n",
       "      <td>3518123091307005509</td>\n",
       "      <td>2019-07-25 11:28:47</td>\n",
       "      <td>248</td>\n",
       "      <td>2019-07-25</td>\n",
       "    </tr>\n",
       "    <tr>\n",
       "      <th>4</th>\n",
       "      <td>PaymentScreenSuccessful</td>\n",
       "      <td>6217807653094995999</td>\n",
       "      <td>2019-07-25 11:48:42</td>\n",
       "      <td>248</td>\n",
       "      <td>2019-07-25</td>\n",
       "    </tr>\n",
       "  </tbody>\n",
       "</table>\n",
       "</div>"
      ],
      "text/plain": [
       "                event_name              user_id            datetime  group  \\\n",
       "0         MainScreenAppear  4575588528974610257 2019-07-25 04:43:36    246   \n",
       "1         MainScreenAppear  7416695313311560658 2019-07-25 11:11:42    246   \n",
       "2  PaymentScreenSuccessful  3518123091307005509 2019-07-25 11:28:47    248   \n",
       "3         CartScreenAppear  3518123091307005509 2019-07-25 11:28:47    248   \n",
       "4  PaymentScreenSuccessful  6217807653094995999 2019-07-25 11:48:42    248   \n",
       "\n",
       "        date  \n",
       "0 2019-07-25  \n",
       "1 2019-07-25  \n",
       "2 2019-07-25  \n",
       "3 2019-07-25  \n",
       "4 2019-07-25  "
      ]
     },
     "execution_count": 7,
     "metadata": {},
     "output_type": "execute_result"
    }
   ],
   "source": [
    "df.columns = ['event_name', 'user_id', 'datetime', 'group']\n",
    "df['datetime'] = pd.to_datetime(df['datetime'], unit='s') \n",
    "df['date'] = df['datetime'].dt.date\n",
    "df['date'] = pd.to_datetime(df['date'])\n",
    "df = df.drop_duplicates().reset_index(drop=True)\n",
    "df.head(5)"
   ]
  },
  {
   "cell_type": "markdown",
   "metadata": {},
   "source": [
    "На этом первичную обработку данных будем считать завершенной."
   ]
  },
  {
   "cell_type": "markdown",
   "metadata": {},
   "source": [
    "Проверим данные на наличие пропусков:"
   ]
  },
  {
   "cell_type": "code",
   "execution_count": 8,
   "metadata": {},
   "outputs": [
    {
     "data": {
      "text/plain": [
       "event_name    0\n",
       "user_id       0\n",
       "datetime      0\n",
       "group         0\n",
       "date          0\n",
       "dtype: int64"
      ]
     },
     "execution_count": 8,
     "metadata": {},
     "output_type": "execute_result"
    }
   ],
   "source": [
    "df.isna().sum()"
   ]
  },
  {
   "cell_type": "markdown",
   "metadata": {},
   "source": [
    "Данные целы, убирать пустые или полупустые строчки не нужно."
   ]
  },
  {
   "cell_type": "code",
   "execution_count": 9,
   "metadata": {},
   "outputs": [],
   "source": [
    "events = df.groupby(by = 'date').agg({'event_name':'count'})\n",
    "user_activity = df.groupby(by = 'user_id').agg({'event_name':'count'})"
   ]
  },
  {
   "cell_type": "markdown",
   "metadata": {},
   "source": [
    "Получим общие данные о количистве пользователей, промежутке времени и числе событий"
   ]
  },
  {
   "cell_type": "code",
   "execution_count": 10,
   "metadata": {
    "scrolled": true
   },
   "outputs": [
    {
     "name": "stdout",
     "output_type": "stream",
     "text": [
      "Представлены логи за период с 2019-07-25 04:43:36 по 2019-08-07 21:15:17 \n",
      "Всего событий за период: 243713 \n",
      "Уникальных пользователей: 7551 \n",
      "На пользователя в среднем приходится 20.0 событий\n"
     ]
    }
   ],
   "source": [
    "user_activity = df.groupby(by = 'user_id').agg({'event_name':'count'})\n",
    "print('Представлены логи за период с', min(df['datetime']), 'по', max(df['datetime']), \n",
    "      '\\nВсего событий за период:' ,events['event_name'].sum(),\n",
    "     '\\nУникальных пользователей:', df['user_id'].nunique(),\n",
    "     '\\nНа пользователя в среднем приходится', user_activity['event_name'].median().round(), 'событий')"
   ]
  },
  {
   "cell_type": "markdown",
   "metadata": {},
   "source": [
    "Выясним "
   ]
  },
  {
   "cell_type": "code",
   "execution_count": 11,
   "metadata": {},
   "outputs": [
    {
     "data": {
      "image/png": "[encoded data removed]",
      "text/plain": [
       "<Figure size 1080x432 with 1 Axes>"
      ]
     },
     "metadata": {
      "needs_background": "light"
     },
     "output_type": "display_data"
    }
   ],
   "source": [
    "plt.figure(figsize = (15, 6))\n",
    "ax = df['datetime'].hist(bins=312)\n",
    "plt.xticks(rotation=45)\n",
    "plt.show;"
   ]
  },
  {
   "cell_type": "markdown",
   "metadata": {},
   "source": [
    "Согласно данным, полученным из гистограммы, равные данные им имеем только с 2019-08-01 по 2019-08-07. При том для удобства началом изучаемого отрезка будем считать метку 2019-08-01 00:07:28, а концом 2019-08-07 21:15:17 \n",
    "\n",
    "\"Обрежу\" данные и выведу гистограмму с разбиением на группы:"
   ]
  },
  {
   "cell_type": "code",
   "execution_count": 12,
   "metadata": {},
   "outputs": [
    {
     "name": "stdout",
     "output_type": "stream",
     "text": [
      "В данных уточненного периода представлены логи за период с 2019-08-01 00:07:28 по 2019-08-07 21:15:17 \n",
      "Всего событий за период: 243713 \n",
      "Уникальных пользователей: 7534 \n",
      "На пользователя в среднем приходится 19.0 событий\n"
     ]
    }
   ],
   "source": [
    "df = df[df['date'] >= '2019-08-01']\n",
    "user_activity = df.groupby(by = 'user_id').agg({'event_name':'count'})\n",
    "print('В данных уточненного периода представлены логи за период с', min(df['datetime']), 'по', max(df['datetime']), \n",
    "      '\\nВсего событий за период:' ,events['event_name'].sum(),\n",
    "     '\\nУникальных пользователей:', df['user_id'].nunique(),\n",
    "     '\\nНа пользователя в среднем приходится', user_activity['event_name'].median().round(), 'событий')"
   ]
  },
  {
   "cell_type": "code",
   "execution_count": 13,
   "metadata": {},
   "outputs": [
    {
     "data": {
      "image/png": "[encoded data removed]",
      "text/plain": [
       "<Figure size 576x2880 with 1 Axes>"
      ]
     },
     "metadata": {
      "needs_background": "light"
     },
     "output_type": "display_data"
    }
   ],
   "source": [
    "plt.figure(figsize=(8, 40))\n",
    "ax = sns.countplot(y=df['datetime'].dt.strftime('%Y-%m-%d %H'),  data=df, hue='group')\n",
    "plt.xticks(rotation=90)\n",
    "ax.set_title('Активность групп')\n",
    "plt.show;"
   ]
  },
  {
   "cell_type": "markdown",
   "metadata": {},
   "source": [
    "Рассчитаем потери данных:"
   ]
  },
  {
   "cell_type": "code",
   "execution_count": 14,
   "metadata": {},
   "outputs": [
    {
     "name": "stdout",
     "output_type": "stream",
     "text": [
      "Потеряно 1.33 % событий\n",
      "Потеряно 1.0 % уникальных пользователей\n"
     ]
    }
   ],
   "source": [
    "print('Потеряно', round(((1 - len(df) / len(df2))*100), 2), '% событий')\n",
    "print('Потеряно', round(df2['user_id'].nunique() / df['user_id'].nunique(), 2), '% уникальных пользователей')"
   ]
  },
  {
   "cell_type": "markdown",
   "metadata": {},
   "source": [
    "Потери данных о событиях и уникальных пользователях составили менее 1.5% от исходного их числа. Также по гистограмме видно, что в ней примерно в равной степени представлены все три группы. Такие данные будем считать полностью очищенными и на их основе будем строить предположнния и выводы"
   ]
  },
  {
   "cell_type": "markdown",
   "metadata": {},
   "source": [
    "## Анализ воронки событий"
   ]
  },
  {
   "cell_type": "markdown",
   "metadata": {},
   "source": [
    "Для начала изучим как часто какое событие встречается. Для визуального представления используем гистограмму"
   ]
  },
  {
   "cell_type": "code",
   "execution_count": 15,
   "metadata": {
    "scrolled": true
   },
   "outputs": [
    {
     "data": {
      "text/html": [
       "<div>\n",
       "<style scoped>\n",
       "    .dataframe tbody tr th:only-of-type {\n",
       "        vertical-align: middle;\n",
       "    }\n",
       "\n",
       "    .dataframe tbody tr th {\n",
       "        vertical-align: top;\n",
       "    }\n",
       "\n",
       "    .dataframe thead th {\n",
       "        text-align: right;\n",
       "    }\n",
       "</style>\n",
       "<table border=\"1\" class=\"dataframe\">\n",
       "  <thead>\n",
       "    <tr style=\"text-align: right;\">\n",
       "      <th></th>\n",
       "      <th>event_name</th>\n",
       "      <th>user_id</th>\n",
       "    </tr>\n",
       "  </thead>\n",
       "  <tbody>\n",
       "    <tr>\n",
       "      <th>0</th>\n",
       "      <td>MainScreenAppear</td>\n",
       "      <td>117328</td>\n",
       "    </tr>\n",
       "    <tr>\n",
       "      <th>1</th>\n",
       "      <td>OffersScreenAppear</td>\n",
       "      <td>46333</td>\n",
       "    </tr>\n",
       "    <tr>\n",
       "      <th>2</th>\n",
       "      <td>CartScreenAppear</td>\n",
       "      <td>42303</td>\n",
       "    </tr>\n",
       "    <tr>\n",
       "      <th>3</th>\n",
       "      <td>PaymentScreenSuccessful</td>\n",
       "      <td>33918</td>\n",
       "    </tr>\n",
       "    <tr>\n",
       "      <th>4</th>\n",
       "      <td>Tutorial</td>\n",
       "      <td>1005</td>\n",
       "    </tr>\n",
       "  </tbody>\n",
       "</table>\n",
       "</div>"
      ],
      "text/plain": [
       "                event_name  user_id\n",
       "0         MainScreenAppear   117328\n",
       "1       OffersScreenAppear    46333\n",
       "2         CartScreenAppear    42303\n",
       "3  PaymentScreenSuccessful    33918\n",
       "4                 Tutorial     1005"
      ]
     },
     "execution_count": 15,
     "metadata": {},
     "output_type": "execute_result"
    },
    {
     "data": {
      "image/png": "[encoded data removed]",
      "text/plain": [
       "<Figure size 864x432 with 1 Axes>"
      ]
     },
     "metadata": {
      "needs_background": "light"
     },
     "output_type": "display_data"
    }
   ],
   "source": [
    "plt.figure(figsize=(12, 6))\n",
    "ax = df.groupby(by = 'event_name').agg({'user_id':'count'}).sort_values(by = 'user_id', ascending = False).reset_index()\n",
    "gg = sns.barplot(data = ax,  x = 'event_name', y = 'user_id')\n",
    "gg.set_title('Частота событий');\n",
    "ax"
   ]
  },
  {
   "cell_type": "markdown",
   "metadata": {},
   "source": [
    "А вот частота событий по группам. Как видно, аномальных различий нет."
   ]
  },
  {
   "cell_type": "code",
   "execution_count": 17,
   "metadata": {},
   "outputs": [
    {
     "data": {
      "image/png": "[encoded data removed]",
      "text/plain": [
       "<Figure size 864x432 with 1 Axes>"
      ]
     },
     "metadata": {
      "needs_background": "light"
     },
     "output_type": "display_data"
    }
   ],
   "source": [
    "plt.figure(figsize=(12, 6))\n",
    "ax = df.groupby(by = ['event_name', 'group']).agg({'user_id':'count'}).sort_values(by = 'user_id', ascending = False).reset_index()\n",
    "ax2 = ax\n",
    "gg = sns.barplot(data = ax,  x = 'event_name', y = 'user_id', hue = 'group')\n",
    "gg.set_title('Частота событий');"
   ]
  },
  {
   "cell_type": "markdown",
   "metadata": {},
   "source": [
    "Теперь выясним сколько людей прошли через все шаги, т.е составим \"воронку\""
   ]
  },
  {
   "cell_type": "code",
   "execution_count": 18,
   "metadata": {},
   "outputs": [
    {
     "name": "stdout",
     "output_type": "stream",
     "text": [
      "Число пользователей, совершивших все отслеживаемые действия: 466\n"
     ]
    }
   ],
   "source": [
    "ax = df.groupby(by = ['user_id', 'event_name']).nunique()\n",
    "voronka = ax.reset_index(level=1).index.value_counts()\n",
    "print('Число пользователей, совершивших все отслеживаемые действия:', len(voronka[voronka == 5]))"
   ]
  },
  {
   "cell_type": "code",
   "execution_count": 19,
   "metadata": {},
   "outputs": [
    {
     "data": {
      "image/png": "[encoded data removed]",
      "text/plain": [
       "<Figure size 864x432 with 1 Axes>"
      ]
     },
     "metadata": {
      "needs_background": "light"
     },
     "output_type": "display_data"
    }
   ],
   "source": [
    "plt.figure(figsize=(12, 6))\n",
    "distribution = df.groupby(by = 'event_name').agg({'user_id':'nunique'}).reset_index()\n",
    "distribution2 = distribution\n",
    "distribution['ratio'] = distribution['user_id'] / df['user_id'].nunique()\n",
    "ax = sns.barplot(data = distribution, x = 'event_name', y = 'user_id')\n",
    "ax.set_title('Число пользователей, свершивших событие');"
   ]
  },
  {
   "cell_type": "code",
   "execution_count": 20,
   "metadata": {},
   "outputs": [
    {
     "data": {
      "image/png": "[encoded data removed]",
      "text/plain": [
       "<Figure size 864x432 with 1 Axes>"
      ]
     },
     "metadata": {
      "needs_background": "light"
     },
     "output_type": "display_data"
    }
   ],
   "source": [
    "plt.figure(figsize=(12, 6))\n",
    "distribution = df.groupby(by = ['event_name', 'group']).agg({'user_id':'nunique'}).reset_index()\n",
    "distribution['ratio'] = distribution['user_id'] / df['user_id'].nunique()\n",
    "ax = sns.barplot(data = distribution, x = 'event_name', y = 'user_id', hue = 'group')\n",
    "ax.set_title('Число пользователей, свершивших событие по группам');"
   ]
  },
  {
   "cell_type": "code",
   "execution_count": 21,
   "metadata": {},
   "outputs": [
    {
     "data": {
      "image/png": "[encoded data removed]",
      "text/plain": [
       "<Figure size 864x432 with 1 Axes>"
      ]
     },
     "metadata": {
      "needs_background": "light"
     },
     "output_type": "display_data"
    }
   ],
   "source": [
    "plt.figure(figsize=(12, 6))\n",
    "ax = sns.barplot(data = distribution2, x = 'event_name', y = 'ratio')\n",
    "ax.axhline(1, ls='--')\n",
    "ax.text(0.5,1, \"Все пользователи\")\n",
    "ax.set_title('Процент пользователей, свершивших событие');"
   ]
  },
  {
   "cell_type": "markdown",
   "metadata": {},
   "source": [
    "Опираясь на данные, полученные из гистограммы выше, можно предположить, что с пользователем происходят события в средующем порядке:\n",
    "- ↓ Пользователь видит главный экран (**MainScreenAppear**)\n",
    "- ↓ Пользователь видит экран каталога (**OfferScreenAppear**)\n",
    "- ↓ Пользователь добавляет товар в корзину и заходит в нее (**CartScreenOpen**)\n",
    "- ↓ Пользователь оплачивает и видит экран подтверждения его заказа (**PaymentScreenSuccessful**)\n",
    "\n",
    "Также он может в необязательном порядке открыть руководство (**Tutorial**), однако мало кто этим пользуется"
   ]
  },
  {
   "cell_type": "markdown",
   "metadata": {},
   "source": [
    "Предполагая, что воронка исключает возможность совершения пользователем вышеуказанных действий в ином порядке, расчитаем конверсию между шагами"
   ]
  },
  {
   "cell_type": "code",
   "execution_count": 22,
   "metadata": {
    "scrolled": true
   },
   "outputs": [
    {
     "data": {
      "text/html": [
       "<div>\n",
       "<style scoped>\n",
       "    .dataframe tbody tr th:only-of-type {\n",
       "        vertical-align: middle;\n",
       "    }\n",
       "\n",
       "    .dataframe tbody tr th {\n",
       "        vertical-align: top;\n",
       "    }\n",
       "\n",
       "    .dataframe thead th {\n",
       "        text-align: right;\n",
       "    }\n",
       "</style>\n",
       "<table border=\"1\" class=\"dataframe\">\n",
       "  <thead>\n",
       "    <tr style=\"text-align: right;\">\n",
       "      <th></th>\n",
       "      <th>event_name</th>\n",
       "      <th>user_id</th>\n",
       "      <th>Потери пользователей после предыдущего шага в %</th>\n",
       "      <th>Доля от всех пользователей</th>\n",
       "    </tr>\n",
       "  </thead>\n",
       "  <tbody>\n",
       "    <tr>\n",
       "      <th>0</th>\n",
       "      <td>MainScreenAppear</td>\n",
       "      <td>7419</td>\n",
       "      <td>NaN</td>\n",
       "      <td>1.000000</td>\n",
       "    </tr>\n",
       "    <tr>\n",
       "      <th>1</th>\n",
       "      <td>OffersScreenAppear</td>\n",
       "      <td>4593</td>\n",
       "      <td>38.091387</td>\n",
       "      <td>0.619086</td>\n",
       "    </tr>\n",
       "    <tr>\n",
       "      <th>2</th>\n",
       "      <td>CartScreenAppear</td>\n",
       "      <td>3734</td>\n",
       "      <td>18.702373</td>\n",
       "      <td>0.503302</td>\n",
       "    </tr>\n",
       "    <tr>\n",
       "      <th>3</th>\n",
       "      <td>PaymentScreenSuccessful</td>\n",
       "      <td>3539</td>\n",
       "      <td>5.222282</td>\n",
       "      <td>0.477018</td>\n",
       "    </tr>\n",
       "  </tbody>\n",
       "</table>\n",
       "</div>"
      ],
      "text/plain": [
       "                event_name  user_id  \\\n",
       "0         MainScreenAppear     7419   \n",
       "1       OffersScreenAppear     4593   \n",
       "2         CartScreenAppear     3734   \n",
       "3  PaymentScreenSuccessful     3539   \n",
       "\n",
       "   Потери пользователей после предыдущего шага в %  Доля от всех пользователей  \n",
       "0                                              NaN                    1.000000  \n",
       "1                                        38.091387                    0.619086  \n",
       "2                                        18.702373                    0.503302  \n",
       "3                                         5.222282                    0.477018  "
      ]
     },
     "execution_count": 22,
     "metadata": {},
     "output_type": "execute_result"
    }
   ],
   "source": [
    "conversion = df.groupby(by = 'event_name').agg({'user_id':'nunique'})[:4].sort_values(by = 'user_id', ascending = False).reset_index()\n",
    "conversion['Потери пользователей после предыдущего шага в %'] = (1-(conversion['user_id'] / conversion['user_id'].shift(1)))*100\n",
    "conversion['Доля от всех пользователей'] = conversion['user_id'] / conversion['user_id'][0]\n",
    "conversion"
   ]
  },
  {
   "cell_type": "markdown",
   "metadata": {},
   "source": [
    "**Промежуточные итоги:**\n",
    "\n",
    "- Почти 40% пользователей не открывают каталог.\n",
    "- Всего покупку успешно оплачивают 47% пользователй, что открывают приложение. Вообще-то это отличный результат!"
   ]
  },
  {
   "cell_type": "markdown",
   "metadata": {},
   "source": [
    "## Изучение результатов эксперемента"
   ]
  },
  {
   "cell_type": "markdown",
   "metadata": {},
   "source": [
    "Изучим сколько пользователей в каждой группе:"
   ]
  },
  {
   "cell_type": "code",
   "execution_count": 23,
   "metadata": {},
   "outputs": [
    {
     "data": {
      "text/html": [
       "<div>\n",
       "<style scoped>\n",
       "    .dataframe tbody tr th:only-of-type {\n",
       "        vertical-align: middle;\n",
       "    }\n",
       "\n",
       "    .dataframe tbody tr th {\n",
       "        vertical-align: top;\n",
       "    }\n",
       "\n",
       "    .dataframe thead th {\n",
       "        text-align: right;\n",
       "    }\n",
       "</style>\n",
       "<table border=\"1\" class=\"dataframe\">\n",
       "  <thead>\n",
       "    <tr style=\"text-align: right;\">\n",
       "      <th></th>\n",
       "      <th>user_id</th>\n",
       "    </tr>\n",
       "    <tr>\n",
       "      <th>group</th>\n",
       "      <th></th>\n",
       "    </tr>\n",
       "  </thead>\n",
       "  <tbody>\n",
       "    <tr>\n",
       "      <th>246</th>\n",
       "      <td>2484</td>\n",
       "    </tr>\n",
       "    <tr>\n",
       "      <th>247</th>\n",
       "      <td>2513</td>\n",
       "    </tr>\n",
       "    <tr>\n",
       "      <th>248</th>\n",
       "      <td>2537</td>\n",
       "    </tr>\n",
       "  </tbody>\n",
       "</table>\n",
       "</div>"
      ],
      "text/plain": [
       "       user_id\n",
       "group         \n",
       "246       2484\n",
       "247       2513\n",
       "248       2537"
      ]
     },
     "execution_count": 23,
     "metadata": {},
     "output_type": "execute_result"
    }
   ],
   "source": [
    "ax = df.groupby(by = 'group').agg({'user_id':'nunique'})[:3]\n",
    "ax"
   ]
  },
  {
   "cell_type": "markdown",
   "metadata": {},
   "source": [
    "Есть 2 контрольные группы для А/А-эксперимента, чтобы проверить корректность всех механизмов и расчётов. Проверим, находят ли статистические критерии разницу между выборками 246 и 247:"
   ]
  },
  {
   "cell_type": "markdown",
   "metadata": {},
   "source": [
    "**Критерии успешного A/A-теста:**\n",
    "- Количество пользователей в различных группах различается не более, чем на 1%;\n",
    "- Для всех групп фиксируют и отправляют в системы аналитики данные об одном и том же;\n",
    "- Различие ключевых метрик по группам не превышает 1% и не имеет статистической значимости;\n",
    "- Попавший в одну из групп посетитель остаётся в этой группе до конца теста. Если пользователь видит разные версии исследуемой страницы в ходе одного исследования, неизвестно, какая именно повлияла на его решения. Значит, и результаты такого теста нельзя интерпретировать однозначно."
   ]
  },
  {
   "cell_type": "markdown",
   "metadata": {},
   "source": [
    "Несомненно, можно согласится с пунктами 2 и 4. Проверим, верны ли в нашем случае пункты 1 и 3. Для этого создам удобную функцию:"
   ]
  },
  {
   "cell_type": "code",
   "execution_count": 24,
   "metadata": {},
   "outputs": [],
   "source": [
    "def statmat(counterpart1, counterpart2):\n",
    "    qq = df.groupby(['event_name', 'group']).agg({'user_id':'nunique'}).reset_index()\n",
    "    qq = qq[((qq['group'] == counterpart1) | (qq['group'] == counterpart2)) & (qq['event_name']!='Tutorial')]\n",
    "    alpha = 0.05\n",
    "    event_names = ['CartScreenAppear','MainScreenAppear','OffersScreenAppear','PaymentScreenSuccessful']  \n",
    "    for entry in event_names:\n",
    "        unique_users_event = np.array([qq[(qq['event_name'] == entry) & (qq['group'] == counterpart1)]['user_id'], \n",
    "                               qq[(qq['event_name'] == entry) & (qq['group'] == counterpart2)]['user_id']])\n",
    "        unique_users_group = np.array([ax[ax.index == counterpart1]['user_id'], ax[ax.index == counterpart2]['user_id']])\n",
    "        p1 = unique_users_event[0]/unique_users_group[0]\n",
    "        p2 = unique_users_event[1]/unique_users_group[1]\n",
    "        p_combo = (unique_users_event[0] + unique_users_event[1]) / (unique_users_group[0] + unique_users_group[1])\n",
    "        difference = p1 - p2\n",
    "        z_value = difference / mth.sqrt(p_combo * (1 - p_combo) * (1/unique_users_event[0] + 1/unique_users_event[1]))\n",
    "        distr = st.norm(0, 1)  \n",
    "        p_value = (1 - distr.cdf(abs(z_value))) * 2\n",
    "        print('p-значение: ', p_value)\n",
    "        print('Event: ', entry)\n",
    "        if p_value < alpha:\n",
    "            print('Между долями есть значимая разница')\n",
    "        else:\n",
    "            \n",
    "            print('Нет оснований считать доли разными')\n",
    "        print('')"
   ]
  },
  {
   "cell_type": "markdown",
   "metadata": {},
   "source": [
    "Проведем A1/A2 тестирование:"
   ]
  },
  {
   "cell_type": "code",
   "execution_count": 25,
   "metadata": {},
   "outputs": [
    {
     "name": "stdout",
     "output_type": "stream",
     "text": [
      "p-значение:  [0.3943211]\n",
      "Event:  CartScreenAppear\n",
      "Нет оснований считать доли разными\n",
      "\n",
      "p-значение:  [0.75873715]\n",
      "Event:  MainScreenAppear\n",
      "Нет оснований считать доли разными\n",
      "\n",
      "p-значение:  [0.36593695]\n",
      "Event:  OffersScreenAppear\n",
      "Нет оснований считать доли разными\n",
      "\n",
      "p-значение:  [0.27844013]\n",
      "Event:  PaymentScreenSuccessful\n",
      "Нет оснований считать доли разными\n",
      "\n"
     ]
    }
   ],
   "source": [
    "statmat(246, 247)"
   ]
  },
  {
   "cell_type": "markdown",
   "metadata": {},
   "source": [
    "По итогам A/A тестирования статистически значимой разницы между выборками группы 246 и 247 **НЕТ**. На них можно опираться. Это касается **ВСЕХ** событий, в т.ч. и самого популярного (MainScreenAppear)"
   ]
  },
  {
   "cell_type": "markdown",
   "metadata": {},
   "source": [
    "Поступлю аналогично с группой с измененным шрифтом. Сравню с каждой из контрольных групп в отдельности:"
   ]
  },
  {
   "cell_type": "code",
   "execution_count": 26,
   "metadata": {},
   "outputs": [
    {
     "name": "stdout",
     "output_type": "stream",
     "text": [
      "p-значение:  [0.21469452]\n",
      "Event:  CartScreenAppear\n",
      "Нет оснований считать доли разными\n",
      "\n",
      "p-значение:  [0.29874503]\n",
      "Event:  MainScreenAppear\n",
      "Нет оснований считать доли разными\n",
      "\n",
      "p-значение:  [0.32498018]\n",
      "Event:  OffersScreenAppear\n",
      "Нет оснований считать доли разными\n",
      "\n",
      "p-значение:  [0.39033692]\n",
      "Event:  PaymentScreenSuccessful\n",
      "Нет оснований считать доли разными\n",
      "\n"
     ]
    }
   ],
   "source": [
    "statmat(246, 248)"
   ]
  },
  {
   "cell_type": "code",
   "execution_count": 27,
   "metadata": {
    "scrolled": true
   },
   "outputs": [
    {
     "name": "stdout",
     "output_type": "stream",
     "text": [
      "p-значение:  [0.69781422]\n",
      "Event:  CartScreenAppear\n",
      "Нет оснований считать доли разными\n",
      "\n",
      "p-значение:  [0.46232865]\n",
      "Event:  MainScreenAppear\n",
      "Нет оснований считать доли разными\n",
      "\n",
      "p-значение:  [0.93760629]\n",
      "Event:  OffersScreenAppear\n",
      "Нет оснований считать доли разными\n",
      "\n",
      "p-значение:  [0.81946233]\n",
      "Event:  PaymentScreenSuccessful\n",
      "Нет оснований считать доли разными\n",
      "\n"
     ]
    }
   ],
   "source": [
    "statmat(247, 248)"
   ]
  },
  {
   "cell_type": "markdown",
   "metadata": {},
   "source": [
    "Как можно увидеть, значимой разницы в поведении пользователей в группах со старым и новым шрифтом не наблюдается. Для чистоты эксперемента проведем тот же эксперемент в отношении объединенной контрольной и эксперементальной групп:"
   ]
  },
  {
   "cell_type": "code",
   "execution_count": 28,
   "metadata": {
    "scrolled": true
   },
   "outputs": [
    {
     "name": "stdout",
     "output_type": "stream",
     "text": [
      "p-значение:  [0.3498249]\n",
      "Event:  CartScreenAppear\n",
      "Нет оснований считать доли разными\n",
      "\n",
      "p-значение:  [0.29821162]\n",
      "Event:  MainScreenAppear\n",
      "Нет оснований считать доли разными\n",
      "\n",
      "p-значение:  [0.54253313]\n",
      "Event:  OffersScreenAppear\n",
      "Нет оснований считать доли разными\n",
      "\n",
      "p-значение:  [0.72020578]\n",
      "Event:  PaymentScreenSuccessful\n",
      "Нет оснований считать доли разными\n",
      "\n"
     ]
    }
   ],
   "source": [
    "qq = df.groupby(['event_name', 'group']).agg({'user_id':'nunique'}).reset_index()\n",
    "qq = qq[((qq['group'] == 246) | (qq['group'] == 247)) & (qq['event_name']!='Tutorial')]\n",
    "qq = qq.groupby(by = 'event_name').agg({'user_id':'sum'}).reset_index()\n",
    "qq['group'] = 1\n",
    "sq = df.groupby(['event_name', 'group']).agg({'user_id':'nunique'}).reset_index()\n",
    "sq = sq[((sq['group'] == 248)) & (sq['event_name']!='Tutorial')]\n",
    "ana = pd.concat([qq, sq])\n",
    "qq = ana\n",
    "ax = df.groupby(by = 'group').agg({'user_id':'nunique'})\n",
    "ax = ax.reset_index()\n",
    "ax.loc[3] = [1, ax['user_id'][0] + ax['user_id'][1]]\n",
    "ax = ax[2:4]\n",
    "counter = 0\n",
    "counterpart1 = 1\n",
    "counterpart2 = 248\n",
    "alpha = 0.05\n",
    "event_names = ['CartScreenAppear','MainScreenAppear','OffersScreenAppear','PaymentScreenSuccessful']  \n",
    "for entry in event_names:\n",
    "    unique_users_event = np.array([qq[(qq['event_name'] == entry) & (qq['group'] == counterpart1)]['user_id'], \n",
    "                               qq[(qq['event_name'] == entry) & (qq['group'] == counterpart2)]['user_id']])\n",
    "    unique_users_group = np.array([ax[ax['group'] == counterpart1]['user_id'], ax[ax['group'] == counterpart2]['user_id']])\n",
    "    p1 = unique_users_event[0]/unique_users_group[0]\n",
    "    p2 = unique_users_event[1]/unique_users_group[1]\n",
    "    p_combo = (unique_users_event[0] + unique_users_event[1]) / (unique_users_group[0] + unique_users_group[1])\n",
    "    difference = p1 - p2\n",
    "    z_value = difference / mth.sqrt(p_combo * (1 - p_combo) * (1/unique_users_event[0] + 1/unique_users_event[1]))\n",
    "    distr = st.norm(0, 1)  \n",
    "    p_value = (1 - distr.cdf(abs(z_value))) * 2\n",
    "    print('p-значение: ', p_value)\n",
    "    print('Event: ', entry)\n",
    "    if p_value < alpha:\n",
    "        print('Между долями есть значимая разница')\n",
    "    else:        \n",
    "        print('Нет оснований считать доли разными')\n",
    "    print('')"
   ]
  },
  {
   "cell_type": "code",
   "execution_count": 29,
   "metadata": {},
   "outputs": [],
   "source": [
    "#Уважаемый ревьюер, я понимаю, что код тут отвратительно неоптимизированный. \n",
    "#Возможно, вы могли бы дать мне парочку советов как сделать его лучше и использовать уже написанную мною ранее функцию?"
   ]
  },
  {
   "cell_type": "markdown",
   "metadata": {},
   "source": [
    "Как можно увидеть, сравнение результатов эксперементальной и объединенной контрольной группы не дало нам иных результатов. Статистически значимой разницы в показателях **НЕТ**"
   ]
  },
  {
   "cell_type": "markdown",
   "metadata": {},
   "source": [
    "## Вывод"
   ]
  },
  {
   "cell_type": "markdown",
   "metadata": {},
   "source": [
    "По ходу работы была проведена первичная обработка данных. В том числе были отброшены данные до 2019-08-01 00:07:28\n",
    "\n",
    "\n",
    "Было установлено, что до экрана каталога добралось чуть больше половины пользователей, однако большая их часть совершила покупку. Поэтому можно рекомендовать:\n",
    "- Сделать каталог более заметным\n",
    "- Переработать дизайн главного экрана, чтобы он был менее отталкивающим\n",
    "- Добавить фрагмент каталога прямо на главный экран (например раздел \"Популярное\" или \"Вас может заинтересовать\")\n",
    "\n",
    "\n",
    "Было доказано, что группы испытуемых равновесны и подходят для проведения A/A/B тестирования.\n",
    "\n",
    "В результате 16 испытаний, включавших в себя A/A, A1/B, A2/B и A1+A2/B тестирование было выяснено, что ни по одному из отслеживаемых событий в каждом из тестов нет статистически значимой разницы в результатах.\n",
    "\n",
    "В описанных выше тестах уровень значимости был задан как alpha = 0.05. Это должно быть достаточным для поставленных нами задач.\n",
    "\n",
    "\n",
    "Также, основываясь на проведенных до этого тестированиях, можно заявлять, что изменение шрифта в приложении не оказывает значительного влияния на поведение пользователей, так что его можно и поменять не опасаясь негативных последствий для бизнеса. "
   ]
  }
 ],
 "metadata": {
  "ExecuteTimeLog": [
   {
    "duration": 396,
    "start_time": "2024-02-23T03:14:51.765Z"
   },
   {
    "duration": 609,
    "start_time": "2024-02-23T03:15:53.573Z"
   },
   {
    "duration": 492,
    "start_time": "2024-02-23T03:19:11.545Z"
   },
   {
    "duration": 136,
    "start_time": "2024-02-23T03:19:16.781Z"
   },
   {
    "duration": 6,
    "start_time": "2024-02-23T03:19:27.050Z"
   },
   {
    "duration": 138,
    "start_time": "2024-02-23T03:20:11.412Z"
   },
   {
    "duration": 140,
    "start_time": "2024-02-23T03:20:23.572Z"
   },
   {
    "duration": 125,
    "start_time": "2024-02-23T03:20:36.940Z"
   },
   {
    "duration": 16,
    "start_time": "2024-02-23T03:20:40.170Z"
   },
   {
    "duration": 16,
    "start_time": "2024-02-23T03:20:45.769Z"
   },
   {
    "duration": 14,
    "start_time": "2024-02-23T03:20:48.650Z"
   },
   {
    "duration": 5,
    "start_time": "2024-02-23T03:34:56.773Z"
   },
   {
    "duration": 42,
    "start_time": "2024-02-23T03:35:13.932Z"
   },
   {
    "duration": 393,
    "start_time": "2024-02-23T03:35:20.899Z"
   },
   {
    "duration": 150,
    "start_time": "2024-02-23T03:35:21.293Z"
   },
   {
    "duration": 66,
    "start_time": "2024-02-23T03:35:21.444Z"
   },
   {
    "duration": 15,
    "start_time": "2024-02-23T03:35:21.939Z"
   },
   {
    "duration": 54,
    "start_time": "2024-02-23T03:36:04.299Z"
   },
   {
    "duration": 407,
    "start_time": "2024-02-23T03:36:09.970Z"
   },
   {
    "duration": 143,
    "start_time": "2024-02-23T03:36:10.379Z"
   },
   {
    "duration": 60,
    "start_time": "2024-02-23T03:36:10.524Z"
   },
   {
    "duration": 15,
    "start_time": "2024-02-23T03:36:10.759Z"
   },
   {
    "duration": 379,
    "start_time": "2024-02-23T03:36:22.578Z"
   },
   {
    "duration": 146,
    "start_time": "2024-02-23T03:36:22.959Z"
   },
   {
    "duration": 63,
    "start_time": "2024-02-23T03:36:23.106Z"
   },
   {
    "duration": 30,
    "start_time": "2024-02-23T03:36:23.171Z"
   },
   {
    "duration": 56,
    "start_time": "2024-02-23T03:37:01.970Z"
   },
   {
    "duration": 49,
    "start_time": "2024-02-23T03:37:26.511Z"
   },
   {
    "duration": 356,
    "start_time": "2024-02-23T03:38:01.340Z"
   },
   {
    "duration": 151,
    "start_time": "2024-02-23T03:38:01.697Z"
   },
   {
    "duration": 16,
    "start_time": "2024-02-23T03:38:01.849Z"
   },
   {
    "duration": 97,
    "start_time": "2024-02-23T03:38:01.866Z"
   },
   {
    "duration": 55,
    "start_time": "2024-02-23T03:40:45.660Z"
   },
   {
    "duration": 33,
    "start_time": "2024-02-23T03:41:36.892Z"
   },
   {
    "duration": 32,
    "start_time": "2024-02-23T03:41:45.660Z"
   },
   {
    "duration": 39,
    "start_time": "2024-02-23T03:42:08.288Z"
   },
   {
    "duration": 6,
    "start_time": "2024-02-23T03:51:56.379Z"
   },
   {
    "duration": 12,
    "start_time": "2024-02-23T03:52:39.692Z"
   },
   {
    "duration": 5,
    "start_time": "2024-02-23T03:54:40.800Z"
   },
   {
    "duration": 9,
    "start_time": "2024-02-23T03:55:05.251Z"
   },
   {
    "duration": 1137,
    "start_time": "2024-02-23T04:07:31.471Z"
   },
   {
    "duration": 9,
    "start_time": "2024-02-23T04:07:50.838Z"
   },
   {
    "duration": 16,
    "start_time": "2024-02-23T04:08:00.911Z"
   },
   {
    "duration": 90,
    "start_time": "2024-02-23T04:10:21.150Z"
   },
   {
    "duration": 267,
    "start_time": "2024-02-23T04:10:27.070Z"
   },
   {
    "duration": 359,
    "start_time": "2024-02-23T04:11:29.707Z"
   },
   {
    "duration": 158,
    "start_time": "2024-02-23T04:11:30.068Z"
   },
   {
    "duration": 16,
    "start_time": "2024-02-23T04:11:30.227Z"
   },
   {
    "duration": 71,
    "start_time": "2024-02-23T04:11:30.244Z"
   },
   {
    "duration": 74,
    "start_time": "2024-02-23T04:11:30.317Z"
   },
   {
    "duration": 9,
    "start_time": "2024-02-23T04:11:30.393Z"
   },
   {
    "duration": 76,
    "start_time": "2024-02-23T04:11:30.404Z"
   },
   {
    "duration": 304,
    "start_time": "2024-02-23T04:13:08.326Z"
   },
   {
    "duration": 315,
    "start_time": "2024-02-23T04:13:20.757Z"
   },
   {
    "duration": 150,
    "start_time": "2024-02-23T04:13:21.073Z"
   },
   {
    "duration": 16,
    "start_time": "2024-02-23T04:13:21.224Z"
   },
   {
    "duration": 71,
    "start_time": "2024-02-23T04:13:21.241Z"
   },
   {
    "duration": 37,
    "start_time": "2024-02-23T04:13:21.313Z"
   },
   {
    "duration": 13,
    "start_time": "2024-02-23T04:13:21.352Z"
   },
   {
    "duration": 97,
    "start_time": "2024-02-23T04:13:21.366Z"
   },
   {
    "duration": 7,
    "start_time": "2024-02-23T04:13:33.065Z"
   },
   {
    "duration": 412,
    "start_time": "2024-02-23T04:19:55.802Z"
   },
   {
    "duration": 150,
    "start_time": "2024-02-23T04:19:56.215Z"
   },
   {
    "duration": 16,
    "start_time": "2024-02-23T04:19:56.367Z"
   },
   {
    "duration": 69,
    "start_time": "2024-02-23T04:19:56.384Z"
   },
   {
    "duration": 47,
    "start_time": "2024-02-23T04:19:56.455Z"
   },
   {
    "duration": 9,
    "start_time": "2024-02-23T04:19:56.503Z"
   },
   {
    "duration": 214,
    "start_time": "2024-02-23T04:19:56.513Z"
   },
   {
    "duration": 0,
    "start_time": "2024-02-23T04:19:56.729Z"
   },
   {
    "duration": 6,
    "start_time": "2024-02-23T04:20:21.600Z"
   },
   {
    "duration": 366,
    "start_time": "2024-02-23T04:20:38.904Z"
   },
   {
    "duration": 147,
    "start_time": "2024-02-23T04:20:39.272Z"
   },
   {
    "duration": 17,
    "start_time": "2024-02-23T04:20:39.420Z"
   },
   {
    "duration": 75,
    "start_time": "2024-02-23T04:20:39.439Z"
   },
   {
    "duration": 44,
    "start_time": "2024-02-23T04:20:39.516Z"
   },
   {
    "duration": 11,
    "start_time": "2024-02-23T04:20:39.561Z"
   },
   {
    "duration": 183,
    "start_time": "2024-02-23T04:20:39.574Z"
   },
   {
    "duration": 64,
    "start_time": "2024-02-23T04:20:39.758Z"
   },
   {
    "duration": 7,
    "start_time": "2024-02-23T04:20:51.861Z"
   },
   {
    "duration": 7,
    "start_time": "2024-02-23T04:20:56.281Z"
   },
   {
    "duration": 354,
    "start_time": "2024-02-23T04:21:02.716Z"
   },
   {
    "duration": 151,
    "start_time": "2024-02-23T04:21:03.072Z"
   },
   {
    "duration": 16,
    "start_time": "2024-02-23T04:21:03.225Z"
   },
   {
    "duration": 74,
    "start_time": "2024-02-23T04:21:03.242Z"
   },
   {
    "duration": 38,
    "start_time": "2024-02-23T04:21:03.318Z"
   },
   {
    "duration": 9,
    "start_time": "2024-02-23T04:21:03.357Z"
   },
   {
    "duration": 175,
    "start_time": "2024-02-23T04:21:03.367Z"
   },
   {
    "duration": 68,
    "start_time": "2024-02-23T04:21:03.543Z"
   },
   {
    "duration": 2,
    "start_time": "2024-02-23T04:21:10.543Z"
   },
   {
    "duration": 61,
    "start_time": "2024-02-23T04:21:23.871Z"
   },
   {
    "duration": 6,
    "start_time": "2024-02-23T04:21:26.801Z"
   },
   {
    "duration": 6,
    "start_time": "2024-02-23T04:21:57.615Z"
   },
   {
    "duration": 380,
    "start_time": "2024-02-23T04:22:03.692Z"
   },
   {
    "duration": 147,
    "start_time": "2024-02-23T04:22:04.074Z"
   },
   {
    "duration": 16,
    "start_time": "2024-02-23T04:22:04.222Z"
   },
   {
    "duration": 67,
    "start_time": "2024-02-23T04:22:04.240Z"
   },
   {
    "duration": 45,
    "start_time": "2024-02-23T04:22:04.309Z"
   },
   {
    "duration": 9,
    "start_time": "2024-02-23T04:22:04.355Z"
   },
   {
    "duration": 221,
    "start_time": "2024-02-23T04:22:04.366Z"
   },
   {
    "duration": 26,
    "start_time": "2024-02-23T04:28:30.661Z"
   },
   {
    "duration": 508,
    "start_time": "2024-02-23T04:29:02.913Z"
   },
   {
    "duration": 43,
    "start_time": "2024-02-23T04:29:09.925Z"
   },
   {
    "duration": 535,
    "start_time": "2024-02-23T04:29:36.819Z"
   },
   {
    "duration": 142,
    "start_time": "2024-02-23T04:29:37.356Z"
   },
   {
    "duration": 17,
    "start_time": "2024-02-23T04:29:37.501Z"
   },
   {
    "duration": 53,
    "start_time": "2024-02-23T04:29:37.519Z"
   },
   {
    "duration": 50,
    "start_time": "2024-02-23T04:29:37.574Z"
   },
   {
    "duration": 8,
    "start_time": "2024-02-23T04:29:37.625Z"
   },
   {
    "duration": 172,
    "start_time": "2024-02-23T04:29:37.634Z"
   },
   {
    "duration": 26,
    "start_time": "2024-02-23T04:29:37.807Z"
   },
   {
    "duration": 141,
    "start_time": "2024-02-23T04:34:30.338Z"
   },
   {
    "duration": 26,
    "start_time": "2024-02-23T04:34:41.710Z"
   },
   {
    "duration": 238,
    "start_time": "2024-02-23T04:37:21.786Z"
   },
   {
    "duration": 386,
    "start_time": "2024-02-23T04:37:43.578Z"
   },
   {
    "duration": 398,
    "start_time": "2024-02-23T04:38:09.766Z"
   },
   {
    "duration": 4,
    "start_time": "2024-02-23T04:38:39.818Z"
   },
   {
    "duration": 61,
    "start_time": "2024-02-23T04:39:29.470Z"
   },
   {
    "duration": 63,
    "start_time": "2024-02-23T04:39:36.314Z"
   },
   {
    "duration": 91,
    "start_time": "2024-02-23T04:45:24.478Z"
   },
   {
    "duration": 414,
    "start_time": "2024-02-23T04:45:31.698Z"
   },
   {
    "duration": 419,
    "start_time": "2024-02-23T04:47:14.658Z"
   },
   {
    "duration": 453,
    "start_time": "2024-02-23T04:47:22.758Z"
   },
   {
    "duration": 442,
    "start_time": "2024-02-23T04:48:26.338Z"
   },
   {
    "duration": 17,
    "start_time": "2024-02-23T04:50:05.634Z"
   },
   {
    "duration": 584,
    "start_time": "2024-02-23T04:50:49.674Z"
   },
   {
    "duration": 178,
    "start_time": "2024-02-23T04:50:50.260Z"
   },
   {
    "duration": 17,
    "start_time": "2024-02-23T04:50:50.439Z"
   },
   {
    "duration": 69,
    "start_time": "2024-02-23T04:50:50.457Z"
   },
   {
    "duration": 37,
    "start_time": "2024-02-23T04:50:50.528Z"
   },
   {
    "duration": 10,
    "start_time": "2024-02-23T04:50:50.567Z"
   },
   {
    "duration": 181,
    "start_time": "2024-02-23T04:50:50.578Z"
   },
   {
    "duration": 24,
    "start_time": "2024-02-23T04:50:50.760Z"
   },
   {
    "duration": 462,
    "start_time": "2024-02-23T04:50:50.785Z"
   },
   {
    "duration": 18,
    "start_time": "2024-02-23T04:50:51.249Z"
   },
   {
    "duration": 17,
    "start_time": "2024-02-23T04:50:58.194Z"
   },
   {
    "duration": 17,
    "start_time": "2024-02-23T04:51:01.334Z"
   },
   {
    "duration": 18,
    "start_time": "2024-02-23T04:51:33.415Z"
   },
   {
    "duration": 434,
    "start_time": "2024-02-23T04:52:39.034Z"
   },
   {
    "duration": 388,
    "start_time": "2024-02-23T04:52:45.974Z"
   },
   {
    "duration": 456,
    "start_time": "2024-02-23T04:52:50.226Z"
   },
   {
    "duration": 413,
    "start_time": "2024-02-23T04:52:56.734Z"
   },
   {
    "duration": 528,
    "start_time": "2024-02-23T04:53:06.934Z"
   },
   {
    "duration": 142,
    "start_time": "2024-02-23T04:53:07.464Z"
   },
   {
    "duration": 16,
    "start_time": "2024-02-23T04:53:07.607Z"
   },
   {
    "duration": 54,
    "start_time": "2024-02-23T04:53:07.624Z"
   },
   {
    "duration": 49,
    "start_time": "2024-02-23T04:53:07.680Z"
   },
   {
    "duration": 8,
    "start_time": "2024-02-23T04:53:07.730Z"
   },
   {
    "duration": 173,
    "start_time": "2024-02-23T04:53:07.739Z"
   },
   {
    "duration": 39,
    "start_time": "2024-02-23T04:53:07.913Z"
   },
   {
    "duration": 471,
    "start_time": "2024-02-23T04:53:07.954Z"
   },
   {
    "duration": 412,
    "start_time": "2024-02-23T04:53:20.633Z"
   },
   {
    "duration": 1135,
    "start_time": "2024-02-23T05:03:25.678Z"
   },
   {
    "duration": 1048,
    "start_time": "2024-02-23T05:03:37.197Z"
   },
   {
    "duration": 502,
    "start_time": "2024-02-23T05:03:45.358Z"
   },
   {
    "duration": 387,
    "start_time": "2024-02-23T05:03:49.517Z"
   },
   {
    "duration": 8,
    "start_time": "2024-02-23T05:10:33.685Z"
   },
   {
    "duration": 455,
    "start_time": "2024-02-23T05:10:50.322Z"
   },
   {
    "duration": 413,
    "start_time": "2024-02-23T05:11:01.546Z"
   },
   {
    "duration": 422,
    "start_time": "2024-02-23T05:15:29.105Z"
   },
   {
    "duration": 496,
    "start_time": "2024-02-23T05:40:27.594Z"
   },
   {
    "duration": 10,
    "start_time": "2024-02-23T05:41:02.612Z"
   },
   {
    "duration": 17,
    "start_time": "2024-02-23T05:41:33.362Z"
   },
   {
    "duration": 19,
    "start_time": "2024-02-23T05:41:41.340Z"
   },
   {
    "duration": 11,
    "start_time": "2024-02-23T05:41:49.252Z"
   },
   {
    "duration": 72,
    "start_time": "2024-02-23T05:42:26.948Z"
   },
   {
    "duration": 16,
    "start_time": "2024-02-23T05:42:30.852Z"
   },
   {
    "duration": 1082,
    "start_time": "2024-02-23T05:53:35.772Z"
   },
   {
    "duration": 4,
    "start_time": "2024-02-23T06:05:31.586Z"
   },
   {
    "duration": 3,
    "start_time": "2024-02-23T06:06:03.585Z"
   },
   {
    "duration": 17,
    "start_time": "2024-02-23T06:06:09.897Z"
   },
   {
    "duration": 3,
    "start_time": "2024-02-23T06:06:21.017Z"
   },
   {
    "duration": 6,
    "start_time": "2024-02-23T06:06:44.307Z"
   },
   {
    "duration": 6,
    "start_time": "2024-02-23T06:06:51.305Z"
   },
   {
    "duration": 17,
    "start_time": "2024-02-23T06:06:54.777Z"
   },
   {
    "duration": 18,
    "start_time": "2024-02-23T06:07:11.666Z"
   },
   {
    "duration": 3,
    "start_time": "2024-02-23T06:07:14.537Z"
   },
   {
    "duration": 3,
    "start_time": "2024-02-23T06:07:37.489Z"
   },
   {
    "duration": 3,
    "start_time": "2024-02-23T06:07:42.094Z"
   },
   {
    "duration": 3,
    "start_time": "2024-02-23T06:07:46.978Z"
   },
   {
    "duration": 3,
    "start_time": "2024-02-23T06:07:50.307Z"
   },
   {
    "duration": 3,
    "start_time": "2024-02-23T06:07:53.194Z"
   },
   {
    "duration": 3,
    "start_time": "2024-02-23T06:07:57.286Z"
   },
   {
    "duration": 4,
    "start_time": "2024-02-23T06:08:01.785Z"
   },
   {
    "duration": 3,
    "start_time": "2024-02-23T06:08:04.986Z"
   },
   {
    "duration": 4,
    "start_time": "2024-02-23T06:08:08.306Z"
   },
   {
    "duration": 3,
    "start_time": "2024-02-23T06:08:10.769Z"
   },
   {
    "duration": 3,
    "start_time": "2024-02-23T06:08:14.137Z"
   },
   {
    "duration": 3,
    "start_time": "2024-02-23T06:08:18.146Z"
   },
   {
    "duration": 3,
    "start_time": "2024-02-23T06:08:20.858Z"
   },
   {
    "duration": 4,
    "start_time": "2024-02-23T06:08:23.808Z"
   },
   {
    "duration": 3,
    "start_time": "2024-02-23T06:08:28.066Z"
   },
   {
    "duration": 3,
    "start_time": "2024-02-23T06:08:30.834Z"
   },
   {
    "duration": 3,
    "start_time": "2024-02-23T06:08:37.489Z"
   },
   {
    "duration": 3,
    "start_time": "2024-02-23T06:08:40.866Z"
   },
   {
    "duration": 3,
    "start_time": "2024-02-23T06:08:47.906Z"
   },
   {
    "duration": 3,
    "start_time": "2024-02-23T06:08:55.206Z"
   },
   {
    "duration": 3,
    "start_time": "2024-02-23T06:08:58.798Z"
   },
   {
    "duration": 3,
    "start_time": "2024-02-23T06:09:01.606Z"
   },
   {
    "duration": 3,
    "start_time": "2024-02-23T06:09:07.104Z"
   },
   {
    "duration": 3,
    "start_time": "2024-02-23T06:09:10.049Z"
   },
   {
    "duration": 4,
    "start_time": "2024-02-23T06:09:12.546Z"
   },
   {
    "duration": 3,
    "start_time": "2024-02-23T06:09:15.257Z"
   },
   {
    "duration": 4,
    "start_time": "2024-02-23T06:09:18.245Z"
   },
   {
    "duration": 3,
    "start_time": "2024-02-23T06:09:21.285Z"
   },
   {
    "duration": 3,
    "start_time": "2024-02-23T06:09:24.386Z"
   },
   {
    "duration": 3,
    "start_time": "2024-02-23T06:09:28.137Z"
   },
   {
    "duration": 3,
    "start_time": "2024-02-23T06:09:31.851Z"
   },
   {
    "duration": 3,
    "start_time": "2024-02-23T06:11:19.306Z"
   },
   {
    "duration": 304,
    "start_time": "2024-02-23T06:15:20.940Z"
   },
   {
    "duration": 329,
    "start_time": "2024-02-23T06:15:29.491Z"
   },
   {
    "duration": 17,
    "start_time": "2024-02-23T06:15:37.483Z"
   },
   {
    "duration": 17,
    "start_time": "2024-02-23T06:15:50.603Z"
   },
   {
    "duration": 15,
    "start_time": "2024-02-23T06:16:04.531Z"
   },
   {
    "duration": 1140,
    "start_time": "2024-02-23T06:16:47.202Z"
   },
   {
    "duration": 5,
    "start_time": "2024-02-23T06:16:59.490Z"
   },
   {
    "duration": 22,
    "start_time": "2024-02-23T06:17:24.410Z"
   },
   {
    "duration": 598,
    "start_time": "2024-02-23T06:17:40.479Z"
   },
   {
    "duration": 147,
    "start_time": "2024-02-23T06:17:41.078Z"
   },
   {
    "duration": 16,
    "start_time": "2024-02-23T06:17:41.226Z"
   },
   {
    "duration": 63,
    "start_time": "2024-02-23T06:17:41.243Z"
   },
   {
    "duration": 37,
    "start_time": "2024-02-23T06:17:41.308Z"
   },
   {
    "duration": 8,
    "start_time": "2024-02-23T06:17:41.346Z"
   },
   {
    "duration": 131,
    "start_time": "2024-02-23T06:17:41.355Z"
   },
   {
    "duration": 0,
    "start_time": "2024-02-23T06:17:41.487Z"
   },
   {
    "duration": 0,
    "start_time": "2024-02-23T06:17:41.488Z"
   },
   {
    "duration": 0,
    "start_time": "2024-02-23T06:17:41.489Z"
   },
   {
    "duration": 0,
    "start_time": "2024-02-23T06:17:41.489Z"
   },
   {
    "duration": 566,
    "start_time": "2024-02-23T06:20:58.893Z"
   },
   {
    "duration": 140,
    "start_time": "2024-02-23T06:20:59.460Z"
   },
   {
    "duration": 17,
    "start_time": "2024-02-23T06:20:59.601Z"
   },
   {
    "duration": 57,
    "start_time": "2024-02-23T06:20:59.619Z"
   },
   {
    "duration": 46,
    "start_time": "2024-02-23T06:20:59.678Z"
   },
   {
    "duration": 8,
    "start_time": "2024-02-23T06:20:59.726Z"
   },
   {
    "duration": 192,
    "start_time": "2024-02-23T06:20:59.735Z"
   },
   {
    "duration": 33,
    "start_time": "2024-02-23T06:20:59.928Z"
   },
   {
    "duration": 483,
    "start_time": "2024-02-23T06:20:59.962Z"
   },
   {
    "duration": 532,
    "start_time": "2024-02-23T06:21:00.446Z"
   },
   {
    "duration": 27,
    "start_time": "2024-02-23T06:21:00.980Z"
   },
   {
    "duration": 525,
    "start_time": "2024-02-23T06:21:22.347Z"
   },
   {
    "duration": 141,
    "start_time": "2024-02-23T06:21:22.874Z"
   },
   {
    "duration": 16,
    "start_time": "2024-02-23T06:21:23.016Z"
   },
   {
    "duration": 54,
    "start_time": "2024-02-23T06:21:23.033Z"
   },
   {
    "duration": 47,
    "start_time": "2024-02-23T06:21:23.088Z"
   },
   {
    "duration": 8,
    "start_time": "2024-02-23T06:21:23.137Z"
   },
   {
    "duration": 185,
    "start_time": "2024-02-23T06:21:23.146Z"
   },
   {
    "duration": 24,
    "start_time": "2024-02-23T06:21:23.332Z"
   },
   {
    "duration": 430,
    "start_time": "2024-02-23T06:21:23.357Z"
   },
   {
    "duration": 526,
    "start_time": "2024-02-23T06:21:23.788Z"
   },
   {
    "duration": 16,
    "start_time": "2024-02-23T06:21:24.315Z"
   },
   {
    "duration": 9,
    "start_time": "2024-02-23T06:21:44.927Z"
   },
   {
    "duration": 16,
    "start_time": "2024-02-23T06:22:33.327Z"
   },
   {
    "duration": 12,
    "start_time": "2024-02-23T06:23:21.887Z"
   },
   {
    "duration": 585,
    "start_time": "2024-02-23T06:23:28.297Z"
   },
   {
    "duration": 142,
    "start_time": "2024-02-23T06:23:28.883Z"
   },
   {
    "duration": 16,
    "start_time": "2024-02-23T06:23:29.026Z"
   },
   {
    "duration": 63,
    "start_time": "2024-02-23T06:23:29.044Z"
   },
   {
    "duration": 38,
    "start_time": "2024-02-23T06:23:29.108Z"
   },
   {
    "duration": 9,
    "start_time": "2024-02-23T06:23:29.147Z"
   },
   {
    "duration": 185,
    "start_time": "2024-02-23T06:23:29.157Z"
   },
   {
    "duration": 25,
    "start_time": "2024-02-23T06:23:29.343Z"
   },
   {
    "duration": 432,
    "start_time": "2024-02-23T06:23:29.369Z"
   },
   {
    "duration": 561,
    "start_time": "2024-02-23T06:23:29.803Z"
   },
   {
    "duration": 10,
    "start_time": "2024-02-23T06:23:30.366Z"
   },
   {
    "duration": 468,
    "start_time": "2024-02-23T06:24:21.548Z"
   },
   {
    "duration": 642,
    "start_time": "2024-02-23T06:25:02.190Z"
   },
   {
    "duration": 144,
    "start_time": "2024-02-23T06:25:02.833Z"
   },
   {
    "duration": 16,
    "start_time": "2024-02-23T06:25:02.978Z"
   },
   {
    "duration": 59,
    "start_time": "2024-02-23T06:25:02.995Z"
   },
   {
    "duration": 46,
    "start_time": "2024-02-23T06:25:03.056Z"
   },
   {
    "duration": 9,
    "start_time": "2024-02-23T06:25:03.104Z"
   },
   {
    "duration": 193,
    "start_time": "2024-02-23T06:25:03.114Z"
   },
   {
    "duration": 25,
    "start_time": "2024-02-23T06:25:03.309Z"
   },
   {
    "duration": 448,
    "start_time": "2024-02-23T06:25:03.335Z"
   },
   {
    "duration": 539,
    "start_time": "2024-02-23T06:25:03.785Z"
   },
   {
    "duration": 526,
    "start_time": "2024-02-23T06:25:04.325Z"
   },
   {
    "duration": 425,
    "start_time": "2024-02-23T06:25:11.349Z"
   },
   {
    "duration": 605,
    "start_time": "2024-02-23T06:26:27.686Z"
   },
   {
    "duration": 1029,
    "start_time": "2024-02-23T06:27:31.505Z"
   },
   {
    "duration": 145,
    "start_time": "2024-02-23T06:27:32.536Z"
   },
   {
    "duration": 23,
    "start_time": "2024-02-23T06:27:32.683Z"
   },
   {
    "duration": 55,
    "start_time": "2024-02-23T06:27:32.707Z"
   },
   {
    "duration": 47,
    "start_time": "2024-02-23T06:27:32.763Z"
   },
   {
    "duration": 9,
    "start_time": "2024-02-23T06:27:32.811Z"
   },
   {
    "duration": 175,
    "start_time": "2024-02-23T06:27:32.821Z"
   },
   {
    "duration": 24,
    "start_time": "2024-02-23T06:27:33.001Z"
   },
   {
    "duration": 478,
    "start_time": "2024-02-23T06:27:33.026Z"
   },
   {
    "duration": 478,
    "start_time": "2024-02-23T06:27:33.506Z"
   },
   {
    "duration": 507,
    "start_time": "2024-02-23T06:27:33.985Z"
   },
   {
    "duration": 3666,
    "start_time": "2024-02-23T06:27:34.493Z"
   },
   {
    "duration": 616,
    "start_time": "2024-02-23T06:27:38.160Z"
   },
   {
    "duration": 10,
    "start_time": "2024-02-23T06:27:55.326Z"
   },
   {
    "duration": 3751,
    "start_time": "2024-02-23T06:28:09.465Z"
   },
   {
    "duration": 3819,
    "start_time": "2024-02-23T06:28:43.407Z"
   },
   {
    "duration": 3914,
    "start_time": "2024-02-23T06:28:58.629Z"
   },
   {
    "duration": 1088,
    "start_time": "2024-02-23T06:30:29.967Z"
   },
   {
    "duration": 161,
    "start_time": "2024-02-23T06:30:31.057Z"
   },
   {
    "duration": 17,
    "start_time": "2024-02-23T06:30:31.220Z"
   },
   {
    "duration": 195,
    "start_time": "2024-02-23T06:30:31.239Z"
   },
   {
    "duration": 99,
    "start_time": "2024-02-23T06:30:31.436Z"
   },
   {
    "duration": 81,
    "start_time": "2024-02-23T06:30:31.537Z"
   },
   {
    "duration": 265,
    "start_time": "2024-02-23T06:30:31.619Z"
   },
   {
    "duration": 27,
    "start_time": "2024-02-23T06:30:31.885Z"
   },
   {
    "duration": 581,
    "start_time": "2024-02-23T06:30:31.913Z"
   },
   {
    "duration": 492,
    "start_time": "2024-02-23T06:30:32.495Z"
   },
   {
    "duration": 503,
    "start_time": "2024-02-23T06:30:32.988Z"
   },
   {
    "duration": 1378,
    "start_time": "2024-02-23T06:30:33.492Z"
   },
   {
    "duration": 3191,
    "start_time": "2024-02-23T06:30:56.466Z"
   },
   {
    "duration": 3902,
    "start_time": "2024-02-23T06:38:31.324Z"
   },
   {
    "duration": 3849,
    "start_time": "2024-02-23T06:39:35.743Z"
   },
   {
    "duration": 3929,
    "start_time": "2024-02-23T06:41:16.231Z"
   },
   {
    "duration": 4386,
    "start_time": "2024-02-23T06:41:26.130Z"
   },
   {
    "duration": 3892,
    "start_time": "2024-02-23T06:41:41.782Z"
   },
   {
    "duration": 1029,
    "start_time": "2024-02-23T06:41:52.322Z"
   },
   {
    "duration": 144,
    "start_time": "2024-02-23T06:41:53.352Z"
   },
   {
    "duration": 19,
    "start_time": "2024-02-23T06:41:53.497Z"
   },
   {
    "duration": 55,
    "start_time": "2024-02-23T06:41:53.517Z"
   },
   {
    "duration": 52,
    "start_time": "2024-02-23T06:41:53.574Z"
   },
   {
    "duration": 9,
    "start_time": "2024-02-23T06:41:53.627Z"
   },
   {
    "duration": 175,
    "start_time": "2024-02-23T06:41:53.637Z"
   },
   {
    "duration": 24,
    "start_time": "2024-02-23T06:41:53.814Z"
   },
   {
    "duration": 495,
    "start_time": "2024-02-23T06:41:53.840Z"
   },
   {
    "duration": 504,
    "start_time": "2024-02-23T06:41:54.337Z"
   },
   {
    "duration": 548,
    "start_time": "2024-02-23T06:41:54.843Z"
   },
   {
    "duration": 3879,
    "start_time": "2024-02-23T06:41:55.393Z"
   },
   {
    "duration": 3849,
    "start_time": "2024-02-23T06:42:05.168Z"
   },
   {
    "duration": 3906,
    "start_time": "2024-02-23T06:42:15.649Z"
   },
   {
    "duration": 1047,
    "start_time": "2024-02-23T06:43:41.442Z"
   },
   {
    "duration": 152,
    "start_time": "2024-02-23T06:43:42.490Z"
   },
   {
    "duration": 18,
    "start_time": "2024-02-23T06:43:42.643Z"
   },
   {
    "duration": 67,
    "start_time": "2024-02-23T06:43:42.662Z"
   },
   {
    "duration": 39,
    "start_time": "2024-02-23T06:43:42.731Z"
   },
   {
    "duration": 9,
    "start_time": "2024-02-23T06:43:42.771Z"
   },
   {
    "duration": 179,
    "start_time": "2024-02-23T06:43:42.802Z"
   },
   {
    "duration": 31,
    "start_time": "2024-02-23T06:43:42.983Z"
   },
   {
    "duration": 502,
    "start_time": "2024-02-23T06:43:43.016Z"
   },
   {
    "duration": 546,
    "start_time": "2024-02-23T06:43:43.519Z"
   },
   {
    "duration": 548,
    "start_time": "2024-02-23T06:43:44.066Z"
   },
   {
    "duration": 4256,
    "start_time": "2024-02-23T06:43:44.616Z"
   },
   {
    "duration": 4,
    "start_time": "2024-02-23T06:43:48.873Z"
   },
   {
    "duration": 5,
    "start_time": "2024-02-23T06:44:30.282Z"
   },
   {
    "duration": 4,
    "start_time": "2024-02-23T06:44:41.002Z"
   },
   {
    "duration": 91,
    "start_time": "2024-02-23T06:44:57.594Z"
   },
   {
    "duration": 4,
    "start_time": "2024-02-23T06:45:28.681Z"
   },
   {
    "duration": 68,
    "start_time": "2024-02-23T06:52:18.904Z"
   },
   {
    "duration": 70,
    "start_time": "2024-02-23T06:52:33.002Z"
   },
   {
    "duration": 12,
    "start_time": "2024-02-23T06:52:46.410Z"
   },
   {
    "duration": 23,
    "start_time": "2024-02-23T06:53:09.390Z"
   },
   {
    "duration": 10,
    "start_time": "2024-02-23T06:53:22.982Z"
   },
   {
    "duration": 9,
    "start_time": "2024-02-23T06:53:39.422Z"
   },
   {
    "duration": 10,
    "start_time": "2024-02-23T06:53:42.961Z"
   },
   {
    "duration": 8,
    "start_time": "2024-02-23T06:54:13.902Z"
   },
   {
    "duration": 9,
    "start_time": "2024-02-23T06:54:17.622Z"
   },
   {
    "duration": 47,
    "start_time": "2024-02-23T08:09:17.059Z"
   },
   {
    "duration": 1278,
    "start_time": "2024-02-23T08:09:23.727Z"
   },
   {
    "duration": 729,
    "start_time": "2024-02-23T08:09:25.007Z"
   },
   {
    "duration": 21,
    "start_time": "2024-02-23T08:09:25.737Z"
   },
   {
    "duration": 78,
    "start_time": "2024-02-23T08:09:25.759Z"
   },
   {
    "duration": 39,
    "start_time": "2024-02-23T08:09:25.839Z"
   },
   {
    "duration": 18,
    "start_time": "2024-02-23T08:09:25.880Z"
   },
   {
    "duration": 198,
    "start_time": "2024-02-23T08:09:25.899Z"
   },
   {
    "duration": 31,
    "start_time": "2024-02-23T08:09:26.099Z"
   },
   {
    "duration": 604,
    "start_time": "2024-02-23T08:09:26.132Z"
   },
   {
    "duration": 631,
    "start_time": "2024-02-23T08:09:26.737Z"
   },
   {
    "duration": 710,
    "start_time": "2024-02-23T08:09:27.369Z"
   },
   {
    "duration": 4721,
    "start_time": "2024-02-23T08:09:28.081Z"
   },
   {
    "duration": 18,
    "start_time": "2024-02-23T08:09:32.804Z"
   },
   {
    "duration": 36,
    "start_time": "2024-02-23T08:09:32.825Z"
   },
   {
    "duration": 101,
    "start_time": "2024-02-23T08:10:09.439Z"
   },
   {
    "duration": 121,
    "start_time": "2024-02-23T08:10:44.559Z"
   },
   {
    "duration": 233,
    "start_time": "2024-02-23T08:11:09.966Z"
   },
   {
    "duration": 101,
    "start_time": "2024-02-23T08:12:58.229Z"
   },
   {
    "duration": 39,
    "start_time": "2024-02-23T08:13:06.889Z"
   },
   {
    "duration": 151,
    "start_time": "2024-02-23T08:13:16.731Z"
   },
   {
    "duration": 24,
    "start_time": "2024-02-23T08:13:23.410Z"
   },
   {
    "duration": 27,
    "start_time": "2024-02-23T08:13:46.089Z"
   },
   {
    "duration": 154,
    "start_time": "2024-02-23T08:15:04.070Z"
   },
   {
    "duration": 35,
    "start_time": "2024-02-23T08:16:36.310Z"
   },
   {
    "duration": 3,
    "start_time": "2024-02-23T08:17:03.870Z"
   },
   {
    "duration": 24,
    "start_time": "2024-02-23T08:17:07.110Z"
   },
   {
    "duration": 32,
    "start_time": "2024-02-23T08:17:21.101Z"
   },
   {
    "duration": 21,
    "start_time": "2024-02-23T08:18:15.629Z"
   },
   {
    "duration": 2,
    "start_time": "2024-02-23T08:18:21.210Z"
   },
   {
    "duration": 25,
    "start_time": "2024-02-23T08:18:29.290Z"
   },
   {
    "duration": 30,
    "start_time": "2024-02-23T08:18:54.590Z"
   },
   {
    "duration": 24,
    "start_time": "2024-02-23T08:19:03.770Z"
   },
   {
    "duration": 36,
    "start_time": "2024-02-23T08:19:23.950Z"
   },
   {
    "duration": 33,
    "start_time": "2024-02-23T08:19:42.961Z"
   },
   {
    "duration": 24,
    "start_time": "2024-02-23T08:19:57.042Z"
   },
   {
    "duration": 25,
    "start_time": "2024-02-23T08:20:14.630Z"
   },
   {
    "duration": 35,
    "start_time": "2024-02-23T08:20:22.430Z"
   },
   {
    "duration": 28,
    "start_time": "2024-02-23T08:21:30.270Z"
   },
   {
    "duration": 1143,
    "start_time": "2024-02-23T08:21:35.272Z"
   },
   {
    "duration": 173,
    "start_time": "2024-02-23T08:21:36.417Z"
   },
   {
    "duration": 21,
    "start_time": "2024-02-23T08:21:36.591Z"
   },
   {
    "duration": 89,
    "start_time": "2024-02-23T08:21:36.614Z"
   },
   {
    "duration": 54,
    "start_time": "2024-02-23T08:21:36.705Z"
   },
   {
    "duration": 9,
    "start_time": "2024-02-23T08:21:36.761Z"
   },
   {
    "duration": 187,
    "start_time": "2024-02-23T08:21:36.771Z"
   },
   {
    "duration": 37,
    "start_time": "2024-02-23T08:21:36.959Z"
   },
   {
    "duration": 603,
    "start_time": "2024-02-23T08:21:36.997Z"
   },
   {
    "duration": 607,
    "start_time": "2024-02-23T08:21:37.602Z"
   },
   {
    "duration": 668,
    "start_time": "2024-02-23T08:21:38.211Z"
   },
   {
    "duration": 4650,
    "start_time": "2024-02-23T08:21:38.880Z"
   },
   {
    "duration": 12,
    "start_time": "2024-02-23T08:21:43.532Z"
   },
   {
    "duration": 143,
    "start_time": "2024-02-23T08:21:43.546Z"
   },
   {
    "duration": 126,
    "start_time": "2024-02-23T08:23:22.503Z"
   },
   {
    "duration": 268,
    "start_time": "2024-02-23T08:23:31.304Z"
   },
   {
    "duration": 158,
    "start_time": "2024-02-23T08:23:46.044Z"
   },
   {
    "duration": 168,
    "start_time": "2024-02-23T08:23:53.891Z"
   },
   {
    "duration": 139,
    "start_time": "2024-02-23T08:24:01.832Z"
   },
   {
    "duration": 156,
    "start_time": "2024-02-23T08:24:08.072Z"
   },
   {
    "duration": 123,
    "start_time": "2024-02-23T08:24:14.964Z"
   },
   {
    "duration": 141,
    "start_time": "2024-02-23T08:24:18.712Z"
   },
   {
    "duration": 134,
    "start_time": "2024-02-23T08:24:25.713Z"
   },
   {
    "duration": 36,
    "start_time": "2024-02-23T08:25:29.884Z"
   },
   {
    "duration": 37,
    "start_time": "2024-02-23T08:25:38.954Z"
   },
   {
    "duration": 139,
    "start_time": "2024-02-23T08:25:43.671Z"
   },
   {
    "duration": 30,
    "start_time": "2024-02-23T08:26:32.933Z"
   },
   {
    "duration": 153,
    "start_time": "2024-02-23T08:26:44.524Z"
   },
   {
    "duration": 144,
    "start_time": "2024-02-23T08:27:01.984Z"
   },
   {
    "duration": 33,
    "start_time": "2024-02-23T08:27:35.892Z"
   },
   {
    "duration": 28,
    "start_time": "2024-02-23T08:27:39.144Z"
   },
   {
    "duration": 4,
    "start_time": "2024-02-23T08:27:43.312Z"
   },
   {
    "duration": 136,
    "start_time": "2024-02-23T08:27:45.845Z"
   },
   {
    "duration": 105,
    "start_time": "2024-02-23T08:28:20.352Z"
   },
   {
    "duration": 228,
    "start_time": "2024-02-23T08:28:23.212Z"
   },
   {
    "duration": 145,
    "start_time": "2024-02-23T08:29:21.552Z"
   },
   {
    "duration": 147,
    "start_time": "2024-02-23T08:29:34.612Z"
   },
   {
    "duration": 35,
    "start_time": "2024-02-23T08:30:28.112Z"
   },
   {
    "duration": 34,
    "start_time": "2024-02-23T08:32:25.292Z"
   },
   {
    "duration": 36,
    "start_time": "2024-02-23T08:32:34.884Z"
   },
   {
    "duration": 41,
    "start_time": "2024-02-23T08:32:41.872Z"
   },
   {
    "duration": 146,
    "start_time": "2024-02-23T08:32:45.684Z"
   },
   {
    "duration": 138,
    "start_time": "2024-02-23T08:32:49.712Z"
   },
   {
    "duration": 33,
    "start_time": "2024-02-23T08:33:43.912Z"
   },
   {
    "duration": 311,
    "start_time": "2024-02-23T08:34:01.226Z"
   },
   {
    "duration": 111,
    "start_time": "2024-02-23T08:34:17.253Z"
   },
   {
    "duration": 310,
    "start_time": "2024-02-23T08:34:25.512Z"
   },
   {
    "duration": 136,
    "start_time": "2024-02-23T08:35:25.492Z"
   },
   {
    "duration": 33,
    "start_time": "2024-02-23T08:35:32.552Z"
   },
   {
    "duration": 228,
    "start_time": "2024-02-23T08:35:40.732Z"
   },
   {
    "duration": 33,
    "start_time": "2024-02-23T08:37:12.913Z"
   },
   {
    "duration": 133,
    "start_time": "2024-02-23T08:37:25.152Z"
   },
   {
    "duration": 148,
    "start_time": "2024-02-23T08:37:33.472Z"
   },
   {
    "duration": 165,
    "start_time": "2024-02-23T08:37:40.492Z"
   },
   {
    "duration": 14,
    "start_time": "2024-02-23T08:40:07.331Z"
   },
   {
    "duration": 1128,
    "start_time": "2024-02-23T08:40:25.958Z"
   },
   {
    "duration": 176,
    "start_time": "2024-02-23T08:40:27.087Z"
   },
   {
    "duration": 21,
    "start_time": "2024-02-23T08:40:27.264Z"
   },
   {
    "duration": 84,
    "start_time": "2024-02-23T08:40:27.286Z"
   },
   {
    "duration": 39,
    "start_time": "2024-02-23T08:40:27.372Z"
   },
   {
    "duration": 10,
    "start_time": "2024-02-23T08:40:27.413Z"
   },
   {
    "duration": 230,
    "start_time": "2024-02-23T08:40:27.424Z"
   },
   {
    "duration": 38,
    "start_time": "2024-02-23T08:40:27.656Z"
   },
   {
    "duration": 604,
    "start_time": "2024-02-23T08:40:27.696Z"
   },
   {
    "duration": 609,
    "start_time": "2024-02-23T08:40:28.301Z"
   },
   {
    "duration": 681,
    "start_time": "2024-02-23T08:40:28.912Z"
   },
   {
    "duration": 4593,
    "start_time": "2024-02-23T08:40:29.594Z"
   },
   {
    "duration": 13,
    "start_time": "2024-02-23T08:40:34.188Z"
   },
   {
    "duration": 184,
    "start_time": "2024-02-23T08:40:34.204Z"
   },
   {
    "duration": 271,
    "start_time": "2024-02-23T08:40:54.277Z"
   },
   {
    "duration": 24,
    "start_time": "2024-02-23T08:41:07.858Z"
   },
   {
    "duration": 123,
    "start_time": "2024-02-23T08:41:17.005Z"
   },
   {
    "duration": 138,
    "start_time": "2024-02-23T08:41:22.690Z"
   },
   {
    "duration": 143,
    "start_time": "2024-02-23T08:41:47.849Z"
   },
   {
    "duration": 138,
    "start_time": "2024-02-23T08:41:51.238Z"
   },
   {
    "duration": 148,
    "start_time": "2024-02-23T08:42:00.790Z"
   },
   {
    "duration": 31,
    "start_time": "2024-02-23T08:42:48.298Z"
   },
   {
    "duration": 37,
    "start_time": "2024-02-23T08:42:58.949Z"
   },
   {
    "duration": 36,
    "start_time": "2024-02-23T08:43:18.689Z"
   },
   {
    "duration": 47,
    "start_time": "2024-02-23T08:43:22.530Z"
   },
   {
    "duration": 48,
    "start_time": "2024-02-23T08:43:35.918Z"
   },
   {
    "duration": 160,
    "start_time": "2024-02-23T08:43:42.917Z"
   },
   {
    "duration": 7,
    "start_time": "2024-02-23T08:43:48.157Z"
   },
   {
    "duration": 133,
    "start_time": "2024-02-23T08:43:52.991Z"
   },
   {
    "duration": 9,
    "start_time": "2024-02-23T08:46:53.918Z"
   },
   {
    "duration": 9,
    "start_time": "2024-02-23T08:47:17.137Z"
   },
   {
    "duration": 1140,
    "start_time": "2024-02-23T08:47:23.436Z"
   },
   {
    "duration": 185,
    "start_time": "2024-02-23T08:47:24.578Z"
   },
   {
    "duration": 21,
    "start_time": "2024-02-23T08:47:24.765Z"
   },
   {
    "duration": 61,
    "start_time": "2024-02-23T08:47:24.794Z"
   },
   {
    "duration": 49,
    "start_time": "2024-02-23T08:47:24.857Z"
   },
   {
    "duration": 10,
    "start_time": "2024-02-23T08:47:24.908Z"
   },
   {
    "duration": 218,
    "start_time": "2024-02-23T08:47:24.920Z"
   },
   {
    "duration": 30,
    "start_time": "2024-02-23T08:47:25.139Z"
   },
   {
    "duration": 616,
    "start_time": "2024-02-23T08:47:25.170Z"
   },
   {
    "duration": 639,
    "start_time": "2024-02-23T08:47:25.788Z"
   },
   {
    "duration": 667,
    "start_time": "2024-02-23T08:47:26.428Z"
   },
   {
    "duration": 4562,
    "start_time": "2024-02-23T08:47:27.096Z"
   },
   {
    "duration": 12,
    "start_time": "2024-02-23T08:47:31.660Z"
   },
   {
    "duration": 174,
    "start_time": "2024-02-23T08:47:31.675Z"
   },
   {
    "duration": 6,
    "start_time": "2024-02-23T08:47:31.851Z"
   },
   {
    "duration": 111,
    "start_time": "2024-02-23T08:47:31.858Z"
   },
   {
    "duration": 7,
    "start_time": "2024-02-23T08:48:08.068Z"
   },
   {
    "duration": 194,
    "start_time": "2024-02-23T08:48:15.155Z"
   },
   {
    "duration": 281,
    "start_time": "2024-02-23T08:48:58.456Z"
   },
   {
    "duration": 141,
    "start_time": "2024-02-23T08:49:01.615Z"
   },
   {
    "duration": 145,
    "start_time": "2024-02-23T08:49:10.087Z"
   },
   {
    "duration": 104,
    "start_time": "2024-02-23T08:51:14.615Z"
   },
   {
    "duration": 107,
    "start_time": "2024-02-23T08:51:23.027Z"
   },
   {
    "duration": 137,
    "start_time": "2024-02-23T08:51:29.581Z"
   },
   {
    "duration": 123,
    "start_time": "2024-02-23T08:51:49.035Z"
   },
   {
    "duration": 105,
    "start_time": "2024-02-23T08:54:06.235Z"
   },
   {
    "duration": 153,
    "start_time": "2024-02-23T08:54:09.547Z"
   },
   {
    "duration": 8,
    "start_time": "2024-02-23T08:54:14.056Z"
   },
   {
    "duration": 30,
    "start_time": "2024-02-23T08:55:09.996Z"
   },
   {
    "duration": 178,
    "start_time": "2024-02-23T08:55:43.868Z"
   },
   {
    "duration": 3,
    "start_time": "2024-02-23T08:57:22.715Z"
   },
   {
    "duration": 1141,
    "start_time": "2024-02-23T08:57:27.867Z"
   },
   {
    "duration": 180,
    "start_time": "2024-02-23T08:57:29.010Z"
   },
   {
    "duration": 21,
    "start_time": "2024-02-23T08:57:29.192Z"
   },
   {
    "duration": 81,
    "start_time": "2024-02-23T08:57:29.215Z"
   },
   {
    "duration": 42,
    "start_time": "2024-02-23T08:57:29.298Z"
   },
   {
    "duration": 10,
    "start_time": "2024-02-23T08:57:29.342Z"
   },
   {
    "duration": 209,
    "start_time": "2024-02-23T08:57:29.353Z"
   },
   {
    "duration": 39,
    "start_time": "2024-02-23T08:57:29.563Z"
   },
   {
    "duration": 623,
    "start_time": "2024-02-23T08:57:29.604Z"
   },
   {
    "duration": 629,
    "start_time": "2024-02-23T08:57:30.228Z"
   },
   {
    "duration": 699,
    "start_time": "2024-02-23T08:57:30.858Z"
   },
   {
    "duration": 4764,
    "start_time": "2024-02-23T08:57:31.558Z"
   },
   {
    "duration": 12,
    "start_time": "2024-02-23T08:57:36.324Z"
   },
   {
    "duration": 246,
    "start_time": "2024-02-23T08:57:36.338Z"
   },
   {
    "duration": 0,
    "start_time": "2024-02-23T08:57:36.585Z"
   },
   {
    "duration": 256,
    "start_time": "2024-02-23T09:01:31.735Z"
   },
   {
    "duration": 151,
    "start_time": "2024-02-23T09:02:33.036Z"
   },
   {
    "duration": 1095,
    "start_time": "2024-02-23T09:06:54.137Z"
   },
   {
    "duration": 177,
    "start_time": "2024-02-23T09:06:55.234Z"
   },
   {
    "duration": 23,
    "start_time": "2024-02-23T09:06:55.413Z"
   },
   {
    "duration": 95,
    "start_time": "2024-02-23T09:06:55.438Z"
   },
   {
    "duration": 40,
    "start_time": "2024-02-23T09:06:55.535Z"
   },
   {
    "duration": 40,
    "start_time": "2024-02-23T09:06:55.577Z"
   },
   {
    "duration": 215,
    "start_time": "2024-02-23T09:06:55.618Z"
   },
   {
    "duration": 30,
    "start_time": "2024-02-23T09:06:55.835Z"
   },
   {
    "duration": 602,
    "start_time": "2024-02-23T09:06:55.867Z"
   },
   {
    "duration": 598,
    "start_time": "2024-02-23T09:06:56.470Z"
   },
   {
    "duration": 695,
    "start_time": "2024-02-23T09:06:57.069Z"
   },
   {
    "duration": 4681,
    "start_time": "2024-02-23T09:06:57.765Z"
   },
   {
    "duration": 14,
    "start_time": "2024-02-23T09:07:02.447Z"
   },
   {
    "duration": 713,
    "start_time": "2024-02-23T09:07:02.463Z"
   },
   {
    "duration": 252,
    "start_time": "2024-02-23T09:07:03.178Z"
   },
   {
    "duration": 0,
    "start_time": "2024-02-23T09:07:03.432Z"
   },
   {
    "duration": 6509,
    "start_time": "2024-02-23T09:08:44.489Z"
   },
   {
    "duration": 178,
    "start_time": "2024-02-23T09:08:51.000Z"
   },
   {
    "duration": 26,
    "start_time": "2024-02-23T09:08:51.179Z"
   },
   {
    "duration": 120,
    "start_time": "2024-02-23T09:08:51.206Z"
   },
   {
    "duration": 40,
    "start_time": "2024-02-23T09:08:51.328Z"
   },
   {
    "duration": 20,
    "start_time": "2024-02-23T09:08:51.369Z"
   },
   {
    "duration": 213,
    "start_time": "2024-02-23T09:08:51.391Z"
   },
   {
    "duration": 32,
    "start_time": "2024-02-23T09:08:51.605Z"
   },
   {
    "duration": 605,
    "start_time": "2024-02-23T09:08:51.638Z"
   },
   {
    "duration": 602,
    "start_time": "2024-02-23T09:08:52.245Z"
   },
   {
    "duration": 691,
    "start_time": "2024-02-23T09:08:52.849Z"
   },
   {
    "duration": 4728,
    "start_time": "2024-02-23T09:08:53.542Z"
   },
   {
    "duration": 13,
    "start_time": "2024-02-23T09:08:58.271Z"
   },
   {
    "duration": 708,
    "start_time": "2024-02-23T09:08:58.286Z"
   },
   {
    "duration": 268,
    "start_time": "2024-02-23T09:08:58.995Z"
   },
   {
    "duration": 0,
    "start_time": "2024-02-23T09:08:59.264Z"
   },
   {
    "duration": 2460,
    "start_time": "2024-02-23T09:10:05.837Z"
   },
   {
    "duration": 186,
    "start_time": "2024-02-23T09:10:08.299Z"
   },
   {
    "duration": 22,
    "start_time": "2024-02-23T09:10:08.486Z"
   },
   {
    "duration": 70,
    "start_time": "2024-02-23T09:10:08.510Z"
   },
   {
    "duration": 46,
    "start_time": "2024-02-23T09:10:08.582Z"
   },
   {
    "duration": 10,
    "start_time": "2024-02-23T09:10:08.630Z"
   },
   {
    "duration": 223,
    "start_time": "2024-02-23T09:10:08.642Z"
   },
   {
    "duration": 42,
    "start_time": "2024-02-23T09:10:08.867Z"
   },
   {
    "duration": 626,
    "start_time": "2024-02-23T09:10:08.911Z"
   },
   {
    "duration": 652,
    "start_time": "2024-02-23T09:10:09.538Z"
   },
   {
    "duration": 662,
    "start_time": "2024-02-23T09:10:10.192Z"
   },
   {
    "duration": 4634,
    "start_time": "2024-02-23T09:10:10.856Z"
   },
   {
    "duration": 16,
    "start_time": "2024-02-23T09:10:15.492Z"
   },
   {
    "duration": 710,
    "start_time": "2024-02-23T09:10:15.511Z"
   },
   {
    "duration": 248,
    "start_time": "2024-02-23T09:10:16.223Z"
   },
   {
    "duration": 0,
    "start_time": "2024-02-23T09:10:16.473Z"
   },
   {
    "duration": 2424,
    "start_time": "2024-02-23T09:10:35.961Z"
   },
   {
    "duration": 176,
    "start_time": "2024-02-23T09:10:38.387Z"
   },
   {
    "duration": 20,
    "start_time": "2024-02-23T09:10:38.564Z"
   },
   {
    "duration": 71,
    "start_time": "2024-02-23T09:10:38.585Z"
   },
   {
    "duration": 47,
    "start_time": "2024-02-23T09:10:38.658Z"
   },
   {
    "duration": 9,
    "start_time": "2024-02-23T09:10:38.707Z"
   },
   {
    "duration": 196,
    "start_time": "2024-02-23T09:10:38.718Z"
   },
   {
    "duration": 34,
    "start_time": "2024-02-23T09:10:38.916Z"
   },
   {
    "duration": 631,
    "start_time": "2024-02-23T09:10:38.952Z"
   },
   {
    "duration": 594,
    "start_time": "2024-02-23T09:10:39.585Z"
   },
   {
    "duration": 680,
    "start_time": "2024-02-23T09:10:40.181Z"
   },
   {
    "duration": 4644,
    "start_time": "2024-02-23T09:10:40.862Z"
   },
   {
    "duration": 14,
    "start_time": "2024-02-23T09:10:45.507Z"
   },
   {
    "duration": 700,
    "start_time": "2024-02-23T09:10:45.523Z"
   },
   {
    "duration": 245,
    "start_time": "2024-02-23T09:10:46.224Z"
   },
   {
    "duration": 0,
    "start_time": "2024-02-23T09:10:46.470Z"
   },
   {
    "duration": 1134,
    "start_time": "2024-02-23T09:11:17.032Z"
   },
   {
    "duration": 182,
    "start_time": "2024-02-23T09:11:18.168Z"
   },
   {
    "duration": 20,
    "start_time": "2024-02-23T09:11:18.352Z"
   },
   {
    "duration": 99,
    "start_time": "2024-02-23T09:11:18.374Z"
   },
   {
    "duration": 39,
    "start_time": "2024-02-23T09:11:18.475Z"
   },
   {
    "duration": 10,
    "start_time": "2024-02-23T09:11:18.516Z"
   },
   {
    "duration": 196,
    "start_time": "2024-02-23T09:11:18.528Z"
   },
   {
    "duration": 33,
    "start_time": "2024-02-23T09:11:18.725Z"
   },
   {
    "duration": 621,
    "start_time": "2024-02-23T09:11:18.759Z"
   },
   {
    "duration": 596,
    "start_time": "2024-02-23T09:11:19.382Z"
   },
   {
    "duration": 661,
    "start_time": "2024-02-23T09:11:19.980Z"
   },
   {
    "duration": 4568,
    "start_time": "2024-02-23T09:11:20.642Z"
   },
   {
    "duration": 13,
    "start_time": "2024-02-23T09:11:25.211Z"
   },
   {
    "duration": 689,
    "start_time": "2024-02-23T09:11:25.225Z"
   },
   {
    "duration": 256,
    "start_time": "2024-02-23T09:11:25.916Z"
   },
   {
    "duration": 0,
    "start_time": "2024-02-23T09:11:26.174Z"
   },
   {
    "duration": 3,
    "start_time": "2024-02-23T09:12:07.240Z"
   },
   {
    "duration": 1352,
    "start_time": "2024-02-23T09:12:14.861Z"
   },
   {
    "duration": 1370,
    "start_time": "2024-02-23T09:12:26.798Z"
   },
   {
    "duration": 1133,
    "start_time": "2024-02-23T09:12:31.559Z"
   },
   {
    "duration": 1325,
    "start_time": "2024-02-23T09:12:43.791Z"
   },
   {
    "duration": 93642,
    "start_time": "2024-02-23T09:13:32.971Z"
   },
   {
    "duration": 3,
    "start_time": "2024-02-23T09:15:11.988Z"
   },
   {
    "duration": 190,
    "start_time": "2024-02-23T09:15:13.259Z"
   },
   {
    "duration": 21,
    "start_time": "2024-02-23T09:15:13.519Z"
   },
   {
    "duration": 62,
    "start_time": "2024-02-23T09:15:13.691Z"
   },
   {
    "duration": 43,
    "start_time": "2024-02-23T09:15:14.227Z"
   },
   {
    "duration": 10,
    "start_time": "2024-02-23T09:15:14.272Z"
   },
   {
    "duration": 214,
    "start_time": "2024-02-23T09:15:14.371Z"
   },
   {
    "duration": 44,
    "start_time": "2024-02-23T09:15:14.586Z"
   },
   {
    "duration": 656,
    "start_time": "2024-02-23T09:15:14.632Z"
   },
   {
    "duration": 649,
    "start_time": "2024-02-23T09:15:15.293Z"
   },
   {
    "duration": 672,
    "start_time": "2024-02-23T09:15:15.944Z"
   },
   {
    "duration": 4652,
    "start_time": "2024-02-23T09:15:16.618Z"
   },
   {
    "duration": 13,
    "start_time": "2024-02-23T09:15:21.272Z"
   },
   {
    "duration": 729,
    "start_time": "2024-02-23T09:15:21.286Z"
   },
   {
    "duration": 256,
    "start_time": "2024-02-23T09:15:22.017Z"
   },
   {
    "duration": 0,
    "start_time": "2024-02-23T09:15:22.275Z"
   },
   {
    "duration": 155,
    "start_time": "2024-02-23T09:15:42.012Z"
   },
   {
    "duration": 152,
    "start_time": "2024-02-23T09:16:05.879Z"
   },
   {
    "duration": 157,
    "start_time": "2024-02-23T09:16:15.647Z"
   },
   {
    "duration": 6,
    "start_time": "2024-02-23T09:16:29.027Z"
   },
   {
    "duration": 7,
    "start_time": "2024-02-23T09:16:46.479Z"
   },
   {
    "duration": 155,
    "start_time": "2024-02-23T09:16:57.819Z"
   },
   {
    "duration": 2,
    "start_time": "2024-02-23T09:17:42.439Z"
   },
   {
    "duration": 2858,
    "start_time": "2024-02-23T09:17:54.851Z"
   },
   {
    "duration": 1335,
    "start_time": "2024-02-23T09:17:57.712Z"
   },
   {
    "duration": 181,
    "start_time": "2024-02-23T09:17:59.049Z"
   },
   {
    "duration": 28,
    "start_time": "2024-02-23T09:17:59.231Z"
   },
   {
    "duration": 65,
    "start_time": "2024-02-23T09:17:59.260Z"
   },
   {
    "duration": 41,
    "start_time": "2024-02-23T09:17:59.326Z"
   },
   {
    "duration": 11,
    "start_time": "2024-02-23T09:17:59.369Z"
   },
   {
    "duration": 208,
    "start_time": "2024-02-23T09:17:59.381Z"
   },
   {
    "duration": 31,
    "start_time": "2024-02-23T09:17:59.591Z"
   },
   {
    "duration": 627,
    "start_time": "2024-02-23T09:17:59.624Z"
   },
   {
    "duration": 780,
    "start_time": "2024-02-23T09:18:00.253Z"
   },
   {
    "duration": 687,
    "start_time": "2024-02-23T09:18:01.035Z"
   },
   {
    "duration": 3651,
    "start_time": "2024-02-23T09:18:01.723Z"
   },
   {
    "duration": 12,
    "start_time": "2024-02-23T09:18:05.376Z"
   },
   {
    "duration": 311,
    "start_time": "2024-02-23T09:18:05.390Z"
   },
   {
    "duration": 2,
    "start_time": "2024-02-23T09:18:05.703Z"
   },
   {
    "duration": 15,
    "start_time": "2024-02-23T09:25:11.788Z"
   },
   {
    "duration": 51,
    "start_time": "2024-02-23T09:25:49.807Z"
   },
   {
    "duration": 118,
    "start_time": "2024-02-23T09:27:50.408Z"
   },
   {
    "duration": 37,
    "start_time": "2024-02-23T09:28:30.088Z"
   },
   {
    "duration": 407,
    "start_time": "2024-02-23T09:28:50.148Z"
   },
   {
    "duration": 3017,
    "start_time": "2024-02-23T09:28:59.818Z"
   },
   {
    "duration": 1289,
    "start_time": "2024-02-23T09:29:02.837Z"
   },
   {
    "duration": 189,
    "start_time": "2024-02-23T09:29:04.127Z"
   },
   {
    "duration": 22,
    "start_time": "2024-02-23T09:29:04.318Z"
   },
   {
    "duration": 98,
    "start_time": "2024-02-23T09:29:04.341Z"
   },
   {
    "duration": 42,
    "start_time": "2024-02-23T09:29:04.441Z"
   },
   {
    "duration": 17,
    "start_time": "2024-02-23T09:29:04.484Z"
   },
   {
    "duration": 205,
    "start_time": "2024-02-23T09:29:04.503Z"
   },
   {
    "duration": 32,
    "start_time": "2024-02-23T09:29:04.709Z"
   },
   {
    "duration": 668,
    "start_time": "2024-02-23T09:29:04.744Z"
   },
   {
    "duration": 822,
    "start_time": "2024-02-23T09:29:05.413Z"
   },
   {
    "duration": 667,
    "start_time": "2024-02-23T09:29:06.237Z"
   },
   {
    "duration": 3773,
    "start_time": "2024-02-23T09:29:06.905Z"
   },
   {
    "duration": 11,
    "start_time": "2024-02-23T09:29:10.680Z"
   },
   {
    "duration": 304,
    "start_time": "2024-02-23T09:29:10.693Z"
   },
   {
    "duration": 2,
    "start_time": "2024-02-23T09:29:10.999Z"
   },
   {
    "duration": 454,
    "start_time": "2024-02-23T09:29:11.002Z"
   },
   {
    "duration": 66,
    "start_time": "2024-02-23T09:29:11.458Z"
   },
   {
    "duration": 379,
    "start_time": "2024-02-23T09:29:16.486Z"
   },
   {
    "duration": 7,
    "start_time": "2024-02-23T09:31:32.906Z"
   },
   {
    "duration": 100,
    "start_time": "2024-02-23T09:32:02.626Z"
   },
   {
    "duration": 8,
    "start_time": "2024-02-23T09:32:06.726Z"
   },
   {
    "duration": 45,
    "start_time": "2024-02-23T15:37:05.286Z"
   },
   {
    "duration": 8782,
    "start_time": "2024-02-23T15:37:11.589Z"
   },
   {
    "duration": 1359,
    "start_time": "2024-02-23T15:37:20.373Z"
   },
   {
    "duration": 486,
    "start_time": "2024-02-23T15:37:21.734Z"
   },
   {
    "duration": 21,
    "start_time": "2024-02-23T15:37:22.223Z"
   },
   {
    "duration": 61,
    "start_time": "2024-02-23T15:37:22.245Z"
   },
   {
    "duration": 41,
    "start_time": "2024-02-23T15:37:22.318Z"
   },
   {
    "duration": 11,
    "start_time": "2024-02-23T15:37:22.361Z"
   },
   {
    "duration": 215,
    "start_time": "2024-02-23T15:37:22.374Z"
   },
   {
    "duration": 41,
    "start_time": "2024-02-23T15:37:22.591Z"
   },
   {
    "duration": 620,
    "start_time": "2024-02-23T15:37:22.635Z"
   },
   {
    "duration": 815,
    "start_time": "2024-02-23T15:37:23.256Z"
   },
   {
    "duration": 667,
    "start_time": "2024-02-23T15:37:24.072Z"
   },
   {
    "duration": 3643,
    "start_time": "2024-02-23T15:37:24.740Z"
   },
   {
    "duration": 12,
    "start_time": "2024-02-23T15:37:28.384Z"
   },
   {
    "duration": 330,
    "start_time": "2024-02-23T15:37:28.397Z"
   },
   {
    "duration": 2,
    "start_time": "2024-02-23T15:37:28.728Z"
   },
   {
    "duration": 447,
    "start_time": "2024-02-23T15:37:28.732Z"
   },
   {
    "duration": 4,
    "start_time": "2024-02-23T15:37:29.181Z"
   },
   {
    "duration": 13,
    "start_time": "2024-02-23T15:38:06.731Z"
   },
   {
    "duration": 45,
    "start_time": "2024-02-23T15:39:41.141Z"
   },
   {
    "duration": 46,
    "start_time": "2024-02-23T15:40:07.663Z"
   },
   {
    "duration": 3,
    "start_time": "2024-02-23T15:41:01.124Z"
   },
   {
    "duration": 59,
    "start_time": "2024-02-23T15:41:01.966Z"
   },
   {
    "duration": 53,
    "start_time": "2024-02-23T15:41:33.079Z"
   },
   {
    "duration": 50,
    "start_time": "2024-02-23T15:41:46.391Z"
   },
   {
    "duration": 43,
    "start_time": "2024-02-23T15:42:25.402Z"
   },
   {
    "duration": 12,
    "start_time": "2024-02-23T15:42:27.552Z"
   },
   {
    "duration": 99,
    "start_time": "2024-02-23T15:44:09.021Z"
   },
   {
    "duration": 7,
    "start_time": "2024-02-23T15:44:15.084Z"
   },
   {
    "duration": 15,
    "start_time": "2024-02-23T15:44:45.151Z"
   },
   {
    "duration": 15,
    "start_time": "2024-02-23T15:45:06.375Z"
   },
   {
    "duration": 15,
    "start_time": "2024-02-23T15:45:11.057Z"
   },
   {
    "duration": 8,
    "start_time": "2024-02-23T15:46:18.539Z"
   },
   {
    "duration": 12,
    "start_time": "2024-02-23T15:46:26.395Z"
   },
   {
    "duration": 9,
    "start_time": "2024-02-23T15:46:39.035Z"
   },
   {
    "duration": 55,
    "start_time": "2024-02-23T15:51:43.596Z"
   },
   {
    "duration": 47,
    "start_time": "2024-02-23T15:53:30.527Z"
   },
   {
    "duration": 52,
    "start_time": "2024-02-23T15:53:33.545Z"
   },
   {
    "duration": 56,
    "start_time": "2024-02-23T15:54:22.104Z"
   },
   {
    "duration": 10,
    "start_time": "2024-02-23T15:54:52.471Z"
   },
   {
    "duration": 6,
    "start_time": "2024-02-23T15:55:28.099Z"
   },
   {
    "duration": 573,
    "start_time": "2024-02-23T15:56:27.908Z"
   },
   {
    "duration": 56,
    "start_time": "2024-02-23T15:56:33.319Z"
   },
   {
    "duration": 285,
    "start_time": "2024-02-23T15:57:22.191Z"
   },
   {
    "duration": 282,
    "start_time": "2024-02-23T15:57:35.111Z"
   },
   {
    "duration": 344,
    "start_time": "2024-02-23T15:58:09.831Z"
   },
   {
    "duration": 346,
    "start_time": "2024-02-23T15:58:18.692Z"
   },
   {
    "duration": 348,
    "start_time": "2024-02-23T15:58:22.755Z"
   },
   {
    "duration": 343,
    "start_time": "2024-02-23T15:58:50.363Z"
   },
   {
    "duration": 2950,
    "start_time": "2024-02-23T15:59:02.007Z"
   },
   {
    "duration": 1196,
    "start_time": "2024-02-23T15:59:04.959Z"
   },
   {
    "duration": 179,
    "start_time": "2024-02-23T15:59:06.157Z"
   },
   {
    "duration": 20,
    "start_time": "2024-02-23T15:59:06.338Z"
   },
   {
    "duration": 70,
    "start_time": "2024-02-23T15:59:06.360Z"
   },
   {
    "duration": 42,
    "start_time": "2024-02-23T15:59:06.431Z"
   },
   {
    "duration": 11,
    "start_time": "2024-02-23T15:59:06.475Z"
   },
   {
    "duration": 212,
    "start_time": "2024-02-23T15:59:06.487Z"
   },
   {
    "duration": 40,
    "start_time": "2024-02-23T15:59:06.701Z"
   },
   {
    "duration": 614,
    "start_time": "2024-02-23T15:59:06.744Z"
   },
   {
    "duration": 760,
    "start_time": "2024-02-23T15:59:07.360Z"
   },
   {
    "duration": 666,
    "start_time": "2024-02-23T15:59:08.122Z"
   },
   {
    "duration": 3689,
    "start_time": "2024-02-23T15:59:08.790Z"
   },
   {
    "duration": 11,
    "start_time": "2024-02-23T15:59:12.480Z"
   },
   {
    "duration": 313,
    "start_time": "2024-02-23T15:59:12.492Z"
   },
   {
    "duration": 2,
    "start_time": "2024-02-23T15:59:12.806Z"
   },
   {
    "duration": 381,
    "start_time": "2024-02-23T15:59:12.809Z"
   },
   {
    "duration": 104,
    "start_time": "2024-02-23T15:59:13.192Z"
   },
   {
    "duration": 0,
    "start_time": "2024-02-23T15:59:13.298Z"
   },
   {
    "duration": 12,
    "start_time": "2024-02-23T15:59:52.227Z"
   },
   {
    "duration": 44,
    "start_time": "2024-02-23T16:00:04.517Z"
   },
   {
    "duration": 11,
    "start_time": "2024-02-23T16:00:52.315Z"
   },
   {
    "duration": 134,
    "start_time": "2024-02-23T16:00:58.673Z"
   },
   {
    "duration": 122,
    "start_time": "2024-02-23T16:01:10.939Z"
   },
   {
    "duration": 128,
    "start_time": "2024-02-23T16:01:30.016Z"
   },
   {
    "duration": 133,
    "start_time": "2024-02-23T16:01:41.432Z"
   },
   {
    "duration": 140,
    "start_time": "2024-02-23T16:01:58.074Z"
   },
   {
    "duration": 124,
    "start_time": "2024-02-23T16:02:10.920Z"
   },
   {
    "duration": 119,
    "start_time": "2024-02-23T16:02:19.537Z"
   },
   {
    "duration": 114,
    "start_time": "2024-02-23T16:02:27.018Z"
   },
   {
    "duration": 119,
    "start_time": "2024-02-23T16:02:35.919Z"
   },
   {
    "duration": 122,
    "start_time": "2024-02-23T16:02:59.960Z"
   },
   {
    "duration": 115,
    "start_time": "2024-02-23T16:03:03.100Z"
   },
   {
    "duration": 113,
    "start_time": "2024-02-23T16:03:09.081Z"
   },
   {
    "duration": 127,
    "start_time": "2024-02-23T16:03:36.145Z"
   },
   {
    "duration": 332,
    "start_time": "2024-02-23T16:03:37.209Z"
   },
   {
    "duration": 69,
    "start_time": "2024-02-23T16:04:03.503Z"
   },
   {
    "duration": 436,
    "start_time": "2024-02-23T16:04:32.736Z"
   },
   {
    "duration": 514,
    "start_time": "2024-02-23T16:04:40.652Z"
   },
   {
    "duration": 8,
    "start_time": "2024-02-23T16:09:08.812Z"
   },
   {
    "duration": 3048,
    "start_time": "2024-02-23T16:10:32.057Z"
   },
   {
    "duration": 1211,
    "start_time": "2024-02-23T16:10:35.107Z"
   },
   {
    "duration": 173,
    "start_time": "2024-02-23T16:10:36.319Z"
   },
   {
    "duration": 28,
    "start_time": "2024-02-23T16:10:36.493Z"
   },
   {
    "duration": 61,
    "start_time": "2024-02-23T16:10:36.523Z"
   },
   {
    "duration": 48,
    "start_time": "2024-02-23T16:10:36.585Z"
   },
   {
    "duration": 10,
    "start_time": "2024-02-23T16:10:36.634Z"
   },
   {
    "duration": 210,
    "start_time": "2024-02-23T16:10:36.645Z"
   },
   {
    "duration": 32,
    "start_time": "2024-02-23T16:10:36.856Z"
   },
   {
    "duration": 616,
    "start_time": "2024-02-23T16:10:36.889Z"
   },
   {
    "duration": 770,
    "start_time": "2024-02-23T16:10:37.506Z"
   },
   {
    "duration": 701,
    "start_time": "2024-02-23T16:10:38.277Z"
   },
   {
    "duration": 3687,
    "start_time": "2024-02-23T16:10:38.980Z"
   },
   {
    "duration": 11,
    "start_time": "2024-02-23T16:10:42.669Z"
   },
   {
    "duration": 318,
    "start_time": "2024-02-23T16:10:42.681Z"
   },
   {
    "duration": 3,
    "start_time": "2024-02-23T16:10:43.000Z"
   },
   {
    "duration": 384,
    "start_time": "2024-02-23T16:10:43.004Z"
   },
   {
    "duration": 128,
    "start_time": "2024-02-23T16:10:43.390Z"
   },
   {
    "duration": 326,
    "start_time": "2024-02-23T16:10:43.519Z"
   },
   {
    "duration": 427,
    "start_time": "2024-02-23T16:10:43.847Z"
   },
   {
    "duration": 8,
    "start_time": "2024-02-23T16:10:44.276Z"
   },
   {
    "duration": 361,
    "start_time": "2024-02-23T16:11:50.144Z"
   },
   {
    "duration": 348,
    "start_time": "2024-02-23T16:12:33.586Z"
   },
   {
    "duration": 259,
    "start_time": "2024-02-23T16:14:33.462Z"
   },
   {
    "duration": 238,
    "start_time": "2024-02-23T16:14:57.543Z"
   },
   {
    "duration": 258,
    "start_time": "2024-02-23T16:15:12.167Z"
   },
   {
    "duration": 717,
    "start_time": "2024-02-23T16:15:44.322Z"
   },
   {
    "duration": 291,
    "start_time": "2024-02-23T16:15:52.633Z"
   },
   {
    "duration": 251,
    "start_time": "2024-02-23T16:16:03.859Z"
   },
   {
    "duration": 289,
    "start_time": "2024-02-23T16:16:07.680Z"
   },
   {
    "duration": 8204,
    "start_time": "2024-02-24T04:33:37.671Z"
   },
   {
    "duration": 1410,
    "start_time": "2024-02-24T04:33:45.877Z"
   },
   {
    "duration": 505,
    "start_time": "2024-02-24T04:33:47.288Z"
   },
   {
    "duration": 25,
    "start_time": "2024-02-24T04:33:47.794Z"
   },
   {
    "duration": 69,
    "start_time": "2024-02-24T04:33:47.821Z"
   },
   {
    "duration": 51,
    "start_time": "2024-02-24T04:33:47.892Z"
   },
   {
    "duration": 9,
    "start_time": "2024-02-24T04:33:47.945Z"
   },
   {
    "duration": 186,
    "start_time": "2024-02-24T04:33:47.955Z"
   },
   {
    "duration": 25,
    "start_time": "2024-02-24T04:33:48.142Z"
   },
   {
    "duration": 550,
    "start_time": "2024-02-24T04:33:48.169Z"
   },
   {
    "duration": 769,
    "start_time": "2024-02-24T04:33:48.721Z"
   },
   {
    "duration": 570,
    "start_time": "2024-02-24T04:33:49.491Z"
   },
   {
    "duration": 3497,
    "start_time": "2024-02-24T04:33:50.063Z"
   },
   {
    "duration": 10,
    "start_time": "2024-02-24T04:33:53.562Z"
   },
   {
    "duration": 322,
    "start_time": "2024-02-24T04:33:53.573Z"
   },
   {
    "duration": 8,
    "start_time": "2024-02-24T04:33:53.896Z"
   },
   {
    "duration": 443,
    "start_time": "2024-02-24T04:33:53.906Z"
   },
   {
    "duration": 127,
    "start_time": "2024-02-24T04:33:54.350Z"
   },
   {
    "duration": 342,
    "start_time": "2024-02-24T04:33:54.479Z"
   },
   {
    "duration": 510,
    "start_time": "2024-02-24T04:33:54.822Z"
   },
   {
    "duration": 280,
    "start_time": "2024-02-24T04:33:55.333Z"
   },
   {
    "duration": 4,
    "start_time": "2024-02-24T04:35:50.124Z"
   },
   {
    "duration": 5,
    "start_time": "2024-02-24T04:37:09.117Z"
   },
   {
    "duration": 121,
    "start_time": "2024-02-24T04:37:24.245Z"
   },
   {
    "duration": 10,
    "start_time": "2024-02-24T04:37:27.414Z"
   },
   {
    "duration": 85,
    "start_time": "2024-02-24T04:45:58.471Z"
   },
   {
    "duration": 69,
    "start_time": "2024-02-24T04:46:32.613Z"
   },
   {
    "duration": 72,
    "start_time": "2024-02-24T04:46:58.813Z"
   },
   {
    "duration": 12,
    "start_time": "2024-02-24T04:50:44.030Z"
   },
   {
    "duration": 100,
    "start_time": "2024-02-24T04:51:43.195Z"
   },
   {
    "duration": 46,
    "start_time": "2024-02-24T04:51:54.331Z"
   },
   {
    "duration": 49,
    "start_time": "2024-02-24T04:52:11.203Z"
   },
   {
    "duration": 47,
    "start_time": "2024-02-24T04:52:15.646Z"
   },
   {
    "duration": 49,
    "start_time": "2024-02-24T04:52:20.157Z"
   },
   {
    "duration": 47,
    "start_time": "2024-02-24T04:52:24.410Z"
   },
   {
    "duration": 47,
    "start_time": "2024-02-24T04:52:43.290Z"
   },
   {
    "duration": 48,
    "start_time": "2024-02-24T04:53:43.443Z"
   },
   {
    "duration": 46,
    "start_time": "2024-02-24T04:53:53.158Z"
   },
   {
    "duration": 47,
    "start_time": "2024-02-24T04:54:02.246Z"
   },
   {
    "duration": 45,
    "start_time": "2024-02-24T04:56:47.283Z"
   },
   {
    "duration": 50,
    "start_time": "2024-02-24T04:56:55.525Z"
   },
   {
    "duration": 54,
    "start_time": "2024-02-24T04:57:34.358Z"
   },
   {
    "duration": 1187,
    "start_time": "2024-02-24T04:58:38.906Z"
   },
   {
    "duration": 46,
    "start_time": "2024-02-24T04:58:49.326Z"
   },
   {
    "duration": 89,
    "start_time": "2024-02-24T05:02:14.802Z"
   },
   {
    "duration": 52,
    "start_time": "2024-02-24T05:02:20.845Z"
   },
   {
    "duration": 95,
    "start_time": "2024-02-24T05:03:01.485Z"
   },
   {
    "duration": 1333,
    "start_time": "2024-02-24T05:03:10.986Z"
   },
   {
    "duration": 1086,
    "start_time": "2024-02-24T05:03:48.483Z"
   },
   {
    "duration": 45,
    "start_time": "2024-02-24T05:04:09.706Z"
   },
   {
    "duration": 48,
    "start_time": "2024-02-24T05:04:30.985Z"
   },
   {
    "duration": 50,
    "start_time": "2024-02-24T05:05:17.245Z"
   },
   {
    "duration": 49,
    "start_time": "2024-02-24T05:05:32.646Z"
   },
   {
    "duration": 47,
    "start_time": "2024-02-24T05:19:13.061Z"
   },
   {
    "duration": 53,
    "start_time": "2024-02-24T05:21:12.501Z"
   },
   {
    "duration": 47,
    "start_time": "2024-02-24T05:21:23.435Z"
   },
   {
    "duration": 51,
    "start_time": "2024-02-24T05:21:30.593Z"
   },
   {
    "duration": 60,
    "start_time": "2024-02-24T05:22:10.157Z"
   },
   {
    "duration": 52,
    "start_time": "2024-02-24T05:24:02.732Z"
   },
   {
    "duration": 46,
    "start_time": "2024-02-24T05:24:23.583Z"
   },
   {
    "duration": 46,
    "start_time": "2024-02-24T05:24:28.071Z"
   },
   {
    "duration": 1248,
    "start_time": "2024-02-24T05:24:45.852Z"
   },
   {
    "duration": 1176,
    "start_time": "2024-02-24T05:25:23.532Z"
   },
   {
    "duration": 1347,
    "start_time": "2024-02-24T05:25:31.032Z"
   },
   {
    "duration": 47,
    "start_time": "2024-02-24T05:26:44.766Z"
   },
   {
    "duration": 48,
    "start_time": "2024-02-24T05:27:05.612Z"
   },
   {
    "duration": 1134,
    "start_time": "2024-02-24T05:27:35.655Z"
   },
   {
    "duration": 56,
    "start_time": "2024-02-24T05:28:01.146Z"
   },
   {
    "duration": 43,
    "start_time": "2024-02-24T05:28:11.867Z"
   },
   {
    "duration": 45,
    "start_time": "2024-02-24T05:28:22.906Z"
   },
   {
    "duration": 1269,
    "start_time": "2024-02-24T05:29:09.361Z"
   },
   {
    "duration": 1236,
    "start_time": "2024-02-24T05:29:17.567Z"
   },
   {
    "duration": 1211,
    "start_time": "2024-02-24T05:29:32.578Z"
   },
   {
    "duration": 44,
    "start_time": "2024-02-24T05:29:47.026Z"
   },
   {
    "duration": 50,
    "start_time": "2024-02-24T05:29:58.026Z"
   },
   {
    "duration": 1201,
    "start_time": "2024-02-24T05:30:34.880Z"
   },
   {
    "duration": 3073,
    "start_time": "2024-02-24T05:30:42.147Z"
   },
   {
    "duration": 1127,
    "start_time": "2024-02-24T05:30:45.222Z"
   },
   {
    "duration": 148,
    "start_time": "2024-02-24T05:30:46.351Z"
   },
   {
    "duration": 15,
    "start_time": "2024-02-24T05:30:46.500Z"
   },
   {
    "duration": 56,
    "start_time": "2024-02-24T05:30:46.517Z"
   },
   {
    "duration": 49,
    "start_time": "2024-02-24T05:30:46.574Z"
   },
   {
    "duration": 8,
    "start_time": "2024-02-24T05:30:46.624Z"
   },
   {
    "duration": 177,
    "start_time": "2024-02-24T05:30:46.633Z"
   },
   {
    "duration": 25,
    "start_time": "2024-02-24T05:30:46.812Z"
   },
   {
    "duration": 486,
    "start_time": "2024-02-24T05:30:46.838Z"
   },
   {
    "duration": 649,
    "start_time": "2024-02-24T05:30:47.326Z"
   },
   {
    "duration": 530,
    "start_time": "2024-02-24T05:30:47.977Z"
   },
   {
    "duration": 3222,
    "start_time": "2024-02-24T05:30:48.508Z"
   },
   {
    "duration": 9,
    "start_time": "2024-02-24T05:30:51.732Z"
   },
   {
    "duration": 295,
    "start_time": "2024-02-24T05:30:51.742Z"
   },
   {
    "duration": 2,
    "start_time": "2024-02-24T05:30:52.038Z"
   },
   {
    "duration": 378,
    "start_time": "2024-02-24T05:30:52.042Z"
   },
   {
    "duration": 115,
    "start_time": "2024-02-24T05:30:52.422Z"
   },
   {
    "duration": 354,
    "start_time": "2024-02-24T05:30:52.538Z"
   },
   {
    "duration": 398,
    "start_time": "2024-02-24T05:30:52.893Z"
   },
   {
    "duration": 361,
    "start_time": "2024-02-24T05:30:53.292Z"
   },
   {
    "duration": 1207,
    "start_time": "2024-02-24T05:30:53.654Z"
   },
   {
    "duration": 1144,
    "start_time": "2024-02-24T05:31:16.905Z"
   },
   {
    "duration": 47,
    "start_time": "2024-02-24T05:31:27.961Z"
   },
   {
    "duration": 48,
    "start_time": "2024-02-24T05:31:41.121Z"
   },
   {
    "duration": 1350,
    "start_time": "2024-02-24T05:31:51.957Z"
   },
   {
    "duration": 46,
    "start_time": "2024-02-24T05:31:58.479Z"
   },
   {
    "duration": 1183,
    "start_time": "2024-02-24T05:32:35.350Z"
   },
   {
    "duration": 1148,
    "start_time": "2024-02-24T05:32:43.324Z"
   },
   {
    "duration": 50,
    "start_time": "2024-02-24T05:33:47.590Z"
   },
   {
    "duration": 51,
    "start_time": "2024-02-24T05:34:22.026Z"
   },
   {
    "duration": 49,
    "start_time": "2024-02-24T05:34:38.517Z"
   },
   {
    "duration": 1175,
    "start_time": "2024-02-24T05:34:56.445Z"
   },
   {
    "duration": 52,
    "start_time": "2024-02-24T05:34:59.205Z"
   },
   {
    "duration": 51,
    "start_time": "2024-02-24T05:35:15.545Z"
   },
   {
    "duration": 51,
    "start_time": "2024-02-24T05:35:24.968Z"
   },
   {
    "duration": 49,
    "start_time": "2024-02-24T05:39:17.097Z"
   },
   {
    "duration": 70,
    "start_time": "2024-02-24T05:39:58.689Z"
   },
   {
    "duration": 79,
    "start_time": "2024-02-24T05:40:05.010Z"
   },
   {
    "duration": 48,
    "start_time": "2024-02-24T05:40:24.089Z"
   },
   {
    "duration": 49,
    "start_time": "2024-02-24T05:40:39.445Z"
   },
   {
    "duration": 51,
    "start_time": "2024-02-24T05:46:44.568Z"
   },
   {
    "duration": 51,
    "start_time": "2024-02-24T05:46:55.684Z"
   },
   {
    "duration": 52,
    "start_time": "2024-02-24T05:47:16.596Z"
   },
   {
    "duration": 54,
    "start_time": "2024-02-24T05:47:29.556Z"
   },
   {
    "duration": 50,
    "start_time": "2024-02-24T05:54:47.748Z"
   },
   {
    "duration": 54,
    "start_time": "2024-02-24T05:57:34.312Z"
   },
   {
    "duration": 52,
    "start_time": "2024-02-24T05:57:42.288Z"
   },
   {
    "duration": 47,
    "start_time": "2024-02-24T05:58:13.788Z"
   },
   {
    "duration": 52,
    "start_time": "2024-02-24T05:59:03.500Z"
   },
   {
    "duration": 47,
    "start_time": "2024-02-24T05:59:37.708Z"
   },
   {
    "duration": 49,
    "start_time": "2024-02-24T05:59:49.968Z"
   },
   {
    "duration": 48,
    "start_time": "2024-02-24T05:59:55.820Z"
   },
   {
    "duration": 48,
    "start_time": "2024-02-24T06:00:03.088Z"
   },
   {
    "duration": 49,
    "start_time": "2024-02-24T06:00:09.120Z"
   },
   {
    "duration": 57,
    "start_time": "2024-02-24T06:00:16.208Z"
   },
   {
    "duration": 52,
    "start_time": "2024-02-24T06:00:20.428Z"
   },
   {
    "duration": 3130,
    "start_time": "2024-02-24T06:00:27.664Z"
   },
   {
    "duration": 1156,
    "start_time": "2024-02-24T06:00:30.796Z"
   },
   {
    "duration": 145,
    "start_time": "2024-02-24T06:00:31.953Z"
   },
   {
    "duration": 16,
    "start_time": "2024-02-24T06:00:32.100Z"
   },
   {
    "duration": 70,
    "start_time": "2024-02-24T06:00:32.118Z"
   },
   {
    "duration": 38,
    "start_time": "2024-02-24T06:00:32.190Z"
   },
   {
    "duration": 33,
    "start_time": "2024-02-24T06:00:32.230Z"
   },
   {
    "duration": 184,
    "start_time": "2024-02-24T06:00:32.264Z"
   },
   {
    "duration": 26,
    "start_time": "2024-02-24T06:00:32.450Z"
   },
   {
    "duration": 512,
    "start_time": "2024-02-24T06:00:32.479Z"
   },
   {
    "duration": 666,
    "start_time": "2024-02-24T06:00:32.992Z"
   },
   {
    "duration": 578,
    "start_time": "2024-02-24T06:00:33.659Z"
   },
   {
    "duration": 3197,
    "start_time": "2024-02-24T06:00:34.239Z"
   },
   {
    "duration": 10,
    "start_time": "2024-02-24T06:00:37.437Z"
   },
   {
    "duration": 342,
    "start_time": "2024-02-24T06:00:37.449Z"
   },
   {
    "duration": 9,
    "start_time": "2024-02-24T06:00:37.792Z"
   },
   {
    "duration": 388,
    "start_time": "2024-02-24T06:00:37.802Z"
   },
   {
    "duration": 117,
    "start_time": "2024-02-24T06:00:38.191Z"
   },
   {
    "duration": 323,
    "start_time": "2024-02-24T06:00:38.310Z"
   },
   {
    "duration": 408,
    "start_time": "2024-02-24T06:00:38.635Z"
   },
   {
    "duration": 331,
    "start_time": "2024-02-24T06:00:39.045Z"
   },
   {
    "duration": 60,
    "start_time": "2024-02-24T06:00:39.377Z"
   },
   {
    "duration": 50,
    "start_time": "2024-02-24T06:00:50.392Z"
   },
   {
    "duration": 48,
    "start_time": "2024-02-24T06:02:39.615Z"
   },
   {
    "duration": 50,
    "start_time": "2024-02-24T06:02:57.386Z"
   },
   {
    "duration": 50,
    "start_time": "2024-02-24T06:03:18.466Z"
   },
   {
    "duration": 151,
    "start_time": "2024-02-24T06:06:58.681Z"
   },
   {
    "duration": 9,
    "start_time": "2024-02-24T06:07:20.385Z"
   },
   {
    "duration": 7,
    "start_time": "2024-02-24T06:07:59.124Z"
   },
   {
    "duration": 11,
    "start_time": "2024-02-24T06:08:05.320Z"
   },
   {
    "duration": 3305,
    "start_time": "2024-02-24T06:08:17.860Z"
   },
   {
    "duration": 1086,
    "start_time": "2024-02-24T06:08:21.167Z"
   },
   {
    "duration": 170,
    "start_time": "2024-02-24T06:08:22.255Z"
   },
   {
    "duration": 16,
    "start_time": "2024-02-24T06:08:22.427Z"
   },
   {
    "duration": 70,
    "start_time": "2024-02-24T06:08:22.445Z"
   },
   {
    "duration": 46,
    "start_time": "2024-02-24T06:08:22.528Z"
   },
   {
    "duration": 8,
    "start_time": "2024-02-24T06:08:22.575Z"
   },
   {
    "duration": 202,
    "start_time": "2024-02-24T06:08:22.585Z"
   },
   {
    "duration": 41,
    "start_time": "2024-02-24T06:08:22.788Z"
   },
   {
    "duration": 506,
    "start_time": "2024-02-24T06:08:22.831Z"
   },
   {
    "duration": 681,
    "start_time": "2024-02-24T06:08:23.338Z"
   },
   {
    "duration": 548,
    "start_time": "2024-02-24T06:08:24.020Z"
   },
   {
    "duration": 3394,
    "start_time": "2024-02-24T06:08:24.570Z"
   },
   {
    "duration": 11,
    "start_time": "2024-02-24T06:08:27.967Z"
   },
   {
    "duration": 305,
    "start_time": "2024-02-24T06:08:27.979Z"
   },
   {
    "duration": 25,
    "start_time": "2024-02-24T06:08:28.286Z"
   },
   {
    "duration": 352,
    "start_time": "2024-02-24T06:08:28.319Z"
   },
   {
    "duration": 122,
    "start_time": "2024-02-24T06:08:28.673Z"
   },
   {
    "duration": 319,
    "start_time": "2024-02-24T06:08:28.796Z"
   },
   {
    "duration": 425,
    "start_time": "2024-02-24T06:08:29.116Z"
   },
   {
    "duration": 347,
    "start_time": "2024-02-24T06:08:29.542Z"
   },
   {
    "duration": 58,
    "start_time": "2024-02-24T06:08:29.890Z"
   },
   {
    "duration": 63,
    "start_time": "2024-02-24T06:08:54.688Z"
   },
   {
    "duration": 63,
    "start_time": "2024-02-24T06:09:10.328Z"
   },
   {
    "duration": 53,
    "start_time": "2024-02-24T06:09:45.889Z"
   },
   {
    "duration": 49,
    "start_time": "2024-02-24T06:11:59.776Z"
   },
   {
    "duration": 51,
    "start_time": "2024-02-24T06:12:05.520Z"
   },
   {
    "duration": 51,
    "start_time": "2024-02-24T06:12:30.148Z"
   },
   {
    "duration": 1643,
    "start_time": "2024-02-24T13:07:12.491Z"
   },
   {
    "duration": 785,
    "start_time": "2024-02-24T13:07:14.138Z"
   },
   {
    "duration": 38,
    "start_time": "2024-02-24T13:07:14.926Z"
   },
   {
    "duration": 88,
    "start_time": "2024-02-24T13:07:14.965Z"
   },
   {
    "duration": 73,
    "start_time": "2024-02-24T13:07:15.060Z"
   },
   {
    "duration": 20,
    "start_time": "2024-02-24T13:07:15.135Z"
   },
   {
    "duration": 302,
    "start_time": "2024-02-24T13:07:15.157Z"
   },
   {
    "duration": 68,
    "start_time": "2024-02-24T13:07:15.461Z"
   },
   {
    "duration": 839,
    "start_time": "2024-02-24T13:07:15.534Z"
   },
   {
    "duration": 766,
    "start_time": "2024-02-24T13:07:16.375Z"
   },
   {
    "duration": 940,
    "start_time": "2024-02-24T13:07:17.149Z"
   },
   {
    "duration": 5723,
    "start_time": "2024-02-24T13:07:18.090Z"
   },
   {
    "duration": 21,
    "start_time": "2024-02-24T13:07:23.814Z"
   },
   {
    "duration": 224,
    "start_time": "2024-02-24T13:07:23.838Z"
   },
   {
    "duration": 2,
    "start_time": "2024-02-24T13:07:24.064Z"
   },
   {
    "duration": 441,
    "start_time": "2024-02-24T13:07:24.067Z"
   },
   {
    "duration": 157,
    "start_time": "2024-02-24T13:07:24.511Z"
   },
   {
    "duration": 248,
    "start_time": "2024-02-24T13:07:24.669Z"
   },
   {
    "duration": 357,
    "start_time": "2024-02-24T13:07:24.919Z"
   },
   {
    "duration": 370,
    "start_time": "2024-02-24T13:07:25.278Z"
   },
   {
    "duration": 95,
    "start_time": "2024-02-24T13:07:25.650Z"
   },
   {
    "duration": 1221,
    "start_time": "2024-02-24T14:09:12.584Z"
   },
   {
    "duration": 200,
    "start_time": "2024-02-24T14:09:13.807Z"
   },
   {
    "duration": 21,
    "start_time": "2024-02-24T14:09:14.008Z"
   },
   {
    "duration": 68,
    "start_time": "2024-02-24T14:09:14.030Z"
   },
   {
    "duration": 43,
    "start_time": "2024-02-24T14:09:14.100Z"
   },
   {
    "duration": 11,
    "start_time": "2024-02-24T14:09:14.144Z"
   },
   {
    "duration": 211,
    "start_time": "2024-02-24T14:09:14.156Z"
   },
   {
    "duration": 41,
    "start_time": "2024-02-24T14:09:14.369Z"
   },
   {
    "duration": 678,
    "start_time": "2024-02-24T14:09:14.411Z"
   },
   {
    "duration": 630,
    "start_time": "2024-02-24T14:09:15.094Z"
   },
   {
    "duration": 663,
    "start_time": "2024-02-24T14:09:15.725Z"
   },
   {
    "duration": 4784,
    "start_time": "2024-02-24T14:09:16.394Z"
   },
   {
    "duration": 14,
    "start_time": "2024-02-24T14:09:21.180Z"
   },
   {
    "duration": 180,
    "start_time": "2024-02-24T14:09:21.196Z"
   },
   {
    "duration": 2,
    "start_time": "2024-02-24T14:09:21.378Z"
   },
   {
    "duration": 336,
    "start_time": "2024-02-24T14:09:21.382Z"
   },
   {
    "duration": 136,
    "start_time": "2024-02-24T14:09:21.720Z"
   },
   {
    "duration": 208,
    "start_time": "2024-02-24T14:09:21.858Z"
   },
   {
    "duration": 263,
    "start_time": "2024-02-24T14:09:22.068Z"
   },
   {
    "duration": 239,
    "start_time": "2024-02-24T14:09:22.333Z"
   },
   {
    "duration": 62,
    "start_time": "2024-02-24T14:09:22.573Z"
   },
   {
    "duration": 40,
    "start_time": "2024-02-24T14:10:54.191Z"
   },
   {
    "duration": 125,
    "start_time": "2024-02-24T14:12:04.550Z"
   },
   {
    "duration": 32,
    "start_time": "2024-02-24T14:12:14.438Z"
   },
   {
    "duration": 101,
    "start_time": "2024-02-24T14:23:27.169Z"
   },
   {
    "duration": 10,
    "start_time": "2024-02-24T14:23:42.701Z"
   },
   {
    "duration": 10,
    "start_time": "2024-02-24T14:24:02.816Z"
   },
   {
    "duration": 8,
    "start_time": "2024-02-24T14:24:43.994Z"
   },
   {
    "duration": 1092,
    "start_time": "2024-02-24T14:24:56.642Z"
   },
   {
    "duration": 178,
    "start_time": "2024-02-24T14:24:57.736Z"
   },
   {
    "duration": 20,
    "start_time": "2024-02-24T14:24:57.915Z"
   },
   {
    "duration": 68,
    "start_time": "2024-02-24T14:24:57.936Z"
   },
   {
    "duration": 40,
    "start_time": "2024-02-24T14:24:58.005Z"
   },
   {
    "duration": 9,
    "start_time": "2024-02-24T14:24:58.047Z"
   },
   {
    "duration": 206,
    "start_time": "2024-02-24T14:24:58.057Z"
   },
   {
    "duration": 35,
    "start_time": "2024-02-24T14:24:58.265Z"
   },
   {
    "duration": 602,
    "start_time": "2024-02-24T14:24:58.301Z"
   },
   {
    "duration": 634,
    "start_time": "2024-02-24T14:24:58.906Z"
   },
   {
    "duration": 668,
    "start_time": "2024-02-24T14:24:59.541Z"
   },
   {
    "duration": 4760,
    "start_time": "2024-02-24T14:25:00.210Z"
   },
   {
    "duration": 15,
    "start_time": "2024-02-24T14:25:04.972Z"
   },
   {
    "duration": 170,
    "start_time": "2024-02-24T14:25:04.989Z"
   },
   {
    "duration": 2,
    "start_time": "2024-02-24T14:25:05.160Z"
   },
   {
    "duration": 359,
    "start_time": "2024-02-24T14:25:05.164Z"
   },
   {
    "duration": 147,
    "start_time": "2024-02-24T14:25:05.525Z"
   },
   {
    "duration": 199,
    "start_time": "2024-02-24T14:25:05.673Z"
   },
   {
    "duration": 281,
    "start_time": "2024-02-24T14:25:05.873Z"
   },
   {
    "duration": 307,
    "start_time": "2024-02-24T14:25:06.155Z"
   },
   {
    "duration": 66,
    "start_time": "2024-02-24T14:25:06.464Z"
   },
   {
    "duration": 33,
    "start_time": "2024-02-24T14:25:06.531Z"
   },
   {
    "duration": 1772,
    "start_time": "2024-02-24T14:25:06.565Z"
   },
   {
    "duration": 1617,
    "start_time": "2024-02-24T14:25:33.502Z"
   },
   {
    "duration": 3,
    "start_time": "2024-02-24T14:26:00.591Z"
   },
   {
    "duration": 6,
    "start_time": "2024-02-24T14:26:23.931Z"
   },
   {
    "duration": 5,
    "start_time": "2024-02-24T14:33:35.084Z"
   },
   {
    "duration": 8,
    "start_time": "2024-02-24T14:33:39.052Z"
   },
   {
    "duration": 9,
    "start_time": "2024-02-24T14:35:52.271Z"
   },
   {
    "duration": 1228,
    "start_time": "2024-02-24T14:38:29.182Z"
   },
   {
    "duration": 198,
    "start_time": "2024-02-24T14:38:30.412Z"
   },
   {
    "duration": 22,
    "start_time": "2024-02-24T14:38:30.612Z"
   },
   {
    "duration": 94,
    "start_time": "2024-02-24T14:38:30.636Z"
   },
   {
    "duration": 44,
    "start_time": "2024-02-24T14:38:30.731Z"
   },
   {
    "duration": 53,
    "start_time": "2024-02-24T14:38:30.777Z"
   },
   {
    "duration": 313,
    "start_time": "2024-02-24T14:38:30.831Z"
   },
   {
    "duration": 33,
    "start_time": "2024-02-24T14:38:31.145Z"
   },
   {
    "duration": 676,
    "start_time": "2024-02-24T14:38:31.179Z"
   },
   {
    "duration": 649,
    "start_time": "2024-02-24T14:38:31.858Z"
   },
   {
    "duration": 721,
    "start_time": "2024-02-24T14:38:32.510Z"
   },
   {
    "duration": 5121,
    "start_time": "2024-02-24T14:38:33.233Z"
   },
   {
    "duration": 15,
    "start_time": "2024-02-24T14:38:38.356Z"
   },
   {
    "duration": 177,
    "start_time": "2024-02-24T14:38:38.372Z"
   },
   {
    "duration": 2,
    "start_time": "2024-02-24T14:38:38.551Z"
   },
   {
    "duration": 371,
    "start_time": "2024-02-24T14:38:38.554Z"
   },
   {
    "duration": 154,
    "start_time": "2024-02-24T14:38:38.927Z"
   },
   {
    "duration": 249,
    "start_time": "2024-02-24T14:38:39.083Z"
   },
   {
    "duration": 293,
    "start_time": "2024-02-24T14:38:39.333Z"
   },
   {
    "duration": 250,
    "start_time": "2024-02-24T14:38:39.627Z"
   },
   {
    "duration": 74,
    "start_time": "2024-02-24T14:38:39.878Z"
   },
   {
    "duration": 53,
    "start_time": "2024-02-24T14:38:39.954Z"
   },
   {
    "duration": 7,
    "start_time": "2024-02-24T14:38:40.011Z"
   },
   {
    "duration": 35,
    "start_time": "2024-02-24T14:38:52.183Z"
   },
   {
    "duration": 8,
    "start_time": "2024-02-24T14:38:58.210Z"
   },
   {
    "duration": 1747,
    "start_time": "2024-02-24T14:39:55.370Z"
   },
   {
    "duration": 12,
    "start_time": "2024-02-24T14:40:17.802Z"
   },
   {
    "duration": 9,
    "start_time": "2024-02-24T14:40:26.061Z"
   },
   {
    "duration": 1674,
    "start_time": "2024-02-24T14:40:38.242Z"
   },
   {
    "duration": 5,
    "start_time": "2024-02-24T14:40:56.950Z"
   },
   {
    "duration": 3,
    "start_time": "2024-02-24T14:41:29.650Z"
   },
   {
    "duration": 2,
    "start_time": "2024-02-24T14:42:59.771Z"
   },
   {
    "duration": 1162,
    "start_time": "2024-02-24T14:45:01.213Z"
   },
   {
    "duration": 189,
    "start_time": "2024-02-24T14:45:02.377Z"
   },
   {
    "duration": 21,
    "start_time": "2024-02-24T14:45:02.568Z"
   },
   {
    "duration": 120,
    "start_time": "2024-02-24T14:45:02.590Z"
   },
   {
    "duration": 92,
    "start_time": "2024-02-24T14:45:02.712Z"
   },
   {
    "duration": 26,
    "start_time": "2024-02-24T14:45:02.806Z"
   },
   {
    "duration": 298,
    "start_time": "2024-02-24T14:45:02.834Z"
   },
   {
    "duration": 33,
    "start_time": "2024-02-24T14:45:03.134Z"
   },
   {
    "duration": 664,
    "start_time": "2024-02-24T14:45:03.169Z"
   },
   {
    "duration": 644,
    "start_time": "2024-02-24T14:45:03.834Z"
   },
   {
    "duration": 715,
    "start_time": "2024-02-24T14:45:04.480Z"
   },
   {
    "duration": 4810,
    "start_time": "2024-02-24T14:45:05.196Z"
   },
   {
    "duration": 13,
    "start_time": "2024-02-24T14:45:10.008Z"
   },
   {
    "duration": 178,
    "start_time": "2024-02-24T14:45:10.024Z"
   },
   {
    "duration": 3,
    "start_time": "2024-02-24T14:45:10.203Z"
   },
   {
    "duration": 344,
    "start_time": "2024-02-24T14:45:10.207Z"
   },
   {
    "duration": 133,
    "start_time": "2024-02-24T14:45:10.552Z"
   },
   {
    "duration": 216,
    "start_time": "2024-02-24T14:45:10.687Z"
   },
   {
    "duration": 292,
    "start_time": "2024-02-24T14:45:10.904Z"
   },
   {
    "duration": 271,
    "start_time": "2024-02-24T14:45:11.197Z"
   },
   {
    "duration": 81,
    "start_time": "2024-02-24T14:45:11.469Z"
   },
   {
    "duration": 44,
    "start_time": "2024-02-24T14:45:11.551Z"
   },
   {
    "duration": 3,
    "start_time": "2024-02-24T14:45:11.596Z"
   },
   {
    "duration": 24,
    "start_time": "2024-02-24T14:45:11.600Z"
   },
   {
    "duration": 9,
    "start_time": "2024-02-24T14:45:15.786Z"
   },
   {
    "duration": 96,
    "start_time": "2024-02-24T14:45:55.963Z"
   },
   {
    "duration": 1741,
    "start_time": "2024-02-24T14:46:11.150Z"
   },
   {
    "duration": 1485,
    "start_time": "2024-02-24T14:46:17.190Z"
   },
   {
    "duration": 1537,
    "start_time": "2024-02-24T14:46:23.430Z"
   },
   {
    "duration": 9,
    "start_time": "2024-02-24T14:46:28.970Z"
   },
   {
    "duration": 13,
    "start_time": "2024-02-24T14:46:47.450Z"
   },
   {
    "duration": 23,
    "start_time": "2024-02-24T14:47:07.649Z"
   },
   {
    "duration": 9,
    "start_time": "2024-02-24T14:47:45.990Z"
   },
   {
    "duration": 21,
    "start_time": "2024-02-24T14:48:13.710Z"
   },
   {
    "duration": 9,
    "start_time": "2024-02-24T14:49:12.209Z"
   },
   {
    "duration": 9,
    "start_time": "2024-02-24T14:49:29.169Z"
   },
   {
    "duration": 9,
    "start_time": "2024-02-24T14:50:09.289Z"
   },
   {
    "duration": 10,
    "start_time": "2024-02-24T14:50:14.069Z"
   },
   {
    "duration": 10,
    "start_time": "2024-02-24T14:50:39.457Z"
   },
   {
    "duration": 1126,
    "start_time": "2024-02-24T14:50:47.678Z"
   },
   {
    "duration": 213,
    "start_time": "2024-02-24T14:50:48.806Z"
   },
   {
    "duration": 36,
    "start_time": "2024-02-24T14:50:49.021Z"
   },
   {
    "duration": 93,
    "start_time": "2024-02-24T14:50:49.058Z"
   },
   {
    "duration": 48,
    "start_time": "2024-02-24T14:50:49.153Z"
   },
   {
    "duration": 10,
    "start_time": "2024-02-24T14:50:49.203Z"
   },
   {
    "duration": 216,
    "start_time": "2024-02-24T14:50:49.214Z"
   },
   {
    "duration": 34,
    "start_time": "2024-02-24T14:50:49.431Z"
   },
   {
    "duration": 626,
    "start_time": "2024-02-24T14:50:49.466Z"
   },
   {
    "duration": 636,
    "start_time": "2024-02-24T14:50:50.093Z"
   },
   {
    "duration": 717,
    "start_time": "2024-02-24T14:50:50.731Z"
   },
   {
    "duration": 4849,
    "start_time": "2024-02-24T14:50:51.449Z"
   },
   {
    "duration": 12,
    "start_time": "2024-02-24T14:50:56.300Z"
   },
   {
    "duration": 177,
    "start_time": "2024-02-24T14:50:56.315Z"
   },
   {
    "duration": 2,
    "start_time": "2024-02-24T14:50:56.494Z"
   },
   {
    "duration": 348,
    "start_time": "2024-02-24T14:50:56.498Z"
   },
   {
    "duration": 138,
    "start_time": "2024-02-24T14:50:56.848Z"
   },
   {
    "duration": 211,
    "start_time": "2024-02-24T14:50:56.988Z"
   },
   {
    "duration": 344,
    "start_time": "2024-02-24T14:50:57.200Z"
   },
   {
    "duration": 255,
    "start_time": "2024-02-24T14:50:57.545Z"
   },
   {
    "duration": 72,
    "start_time": "2024-02-24T14:50:57.802Z"
   },
   {
    "duration": 59,
    "start_time": "2024-02-24T14:50:57.875Z"
   },
   {
    "duration": 2,
    "start_time": "2024-02-24T14:50:57.936Z"
   },
   {
    "duration": 41,
    "start_time": "2024-02-24T14:50:57.940Z"
   },
   {
    "duration": 6,
    "start_time": "2024-02-24T14:51:22.839Z"
   },
   {
    "duration": 110,
    "start_time": "2024-02-24T14:51:31.226Z"
   },
   {
    "duration": 10,
    "start_time": "2024-02-24T14:51:40.058Z"
   },
   {
    "duration": 10,
    "start_time": "2024-02-24T14:51:56.279Z"
   },
   {
    "duration": 10,
    "start_time": "2024-02-24T14:52:51.666Z"
   },
   {
    "duration": 12,
    "start_time": "2024-02-24T14:53:22.958Z"
   },
   {
    "duration": 108,
    "start_time": "2024-02-24T14:54:50.625Z"
   },
   {
    "duration": 11,
    "start_time": "2024-02-24T14:54:55.684Z"
   },
   {
    "duration": 9,
    "start_time": "2024-02-24T14:55:02.332Z"
   },
   {
    "duration": 12,
    "start_time": "2024-02-24T14:55:08.445Z"
   },
   {
    "duration": 10,
    "start_time": "2024-02-24T14:57:00.585Z"
   },
   {
    "duration": 15,
    "start_time": "2024-02-24T14:57:04.573Z"
   },
   {
    "duration": 11,
    "start_time": "2024-02-24T14:57:37.221Z"
   },
   {
    "duration": 14,
    "start_time": "2024-02-24T14:58:50.493Z"
   },
   {
    "duration": 13,
    "start_time": "2024-02-24T14:59:01.207Z"
   },
   {
    "duration": 1278,
    "start_time": "2024-02-24T14:59:12.294Z"
   },
   {
    "duration": 222,
    "start_time": "2024-02-24T14:59:13.595Z"
   },
   {
    "duration": 21,
    "start_time": "2024-02-24T14:59:13.819Z"
   },
   {
    "duration": 84,
    "start_time": "2024-02-24T14:59:13.842Z"
   },
   {
    "duration": 49,
    "start_time": "2024-02-24T14:59:13.935Z"
   },
   {
    "duration": 12,
    "start_time": "2024-02-24T14:59:13.986Z"
   },
   {
    "duration": 266,
    "start_time": "2024-02-24T14:59:14.005Z"
   },
   {
    "duration": 47,
    "start_time": "2024-02-24T14:59:14.273Z"
   },
   {
    "duration": 657,
    "start_time": "2024-02-24T14:59:14.322Z"
   },
   {
    "duration": 692,
    "start_time": "2024-02-24T14:59:14.981Z"
   },
   {
    "duration": 689,
    "start_time": "2024-02-24T14:59:15.675Z"
   },
   {
    "duration": 5122,
    "start_time": "2024-02-24T14:59:16.366Z"
   },
   {
    "duration": 25,
    "start_time": "2024-02-24T14:59:21.490Z"
   },
   {
    "duration": 182,
    "start_time": "2024-02-24T14:59:21.518Z"
   },
   {
    "duration": 7,
    "start_time": "2024-02-24T14:59:21.710Z"
   },
   {
    "duration": 356,
    "start_time": "2024-02-24T14:59:21.721Z"
   },
   {
    "duration": 147,
    "start_time": "2024-02-24T14:59:22.079Z"
   },
   {
    "duration": 213,
    "start_time": "2024-02-24T14:59:22.228Z"
   },
   {
    "duration": 284,
    "start_time": "2024-02-24T14:59:22.443Z"
   },
   {
    "duration": 245,
    "start_time": "2024-02-24T14:59:22.728Z"
   },
   {
    "duration": 72,
    "start_time": "2024-02-24T14:59:22.974Z"
   },
   {
    "duration": 31,
    "start_time": "2024-02-24T14:59:23.047Z"
   },
   {
    "duration": 17,
    "start_time": "2024-02-24T14:59:23.080Z"
   },
   {
    "duration": 39,
    "start_time": "2024-02-24T14:59:23.104Z"
   },
   {
    "duration": 17,
    "start_time": "2024-02-24T14:59:40.055Z"
   },
   {
    "duration": 8,
    "start_time": "2024-02-24T15:01:19.370Z"
   },
   {
    "duration": 15,
    "start_time": "2024-02-24T15:01:49.806Z"
   },
   {
    "duration": 1196,
    "start_time": "2024-02-24T15:02:12.816Z"
   },
   {
    "duration": 194,
    "start_time": "2024-02-24T15:02:14.014Z"
   },
   {
    "duration": 22,
    "start_time": "2024-02-24T15:02:14.210Z"
   },
   {
    "duration": 109,
    "start_time": "2024-02-24T15:02:14.233Z"
   },
   {
    "duration": 50,
    "start_time": "2024-02-24T15:02:14.345Z"
   },
   {
    "duration": 16,
    "start_time": "2024-02-24T15:02:14.398Z"
   },
   {
    "duration": 213,
    "start_time": "2024-02-24T15:02:14.415Z"
   },
   {
    "duration": 32,
    "start_time": "2024-02-24T15:02:14.630Z"
   },
   {
    "duration": 678,
    "start_time": "2024-02-24T15:02:14.664Z"
   },
   {
    "duration": 647,
    "start_time": "2024-02-24T15:02:15.343Z"
   },
   {
    "duration": 726,
    "start_time": "2024-02-24T15:02:15.993Z"
   },
   {
    "duration": 4986,
    "start_time": "2024-02-24T15:02:16.722Z"
   },
   {
    "duration": 15,
    "start_time": "2024-02-24T15:02:21.709Z"
   },
   {
    "duration": 186,
    "start_time": "2024-02-24T15:02:21.727Z"
   },
   {
    "duration": 2,
    "start_time": "2024-02-24T15:02:21.915Z"
   },
   {
    "duration": 432,
    "start_time": "2024-02-24T15:02:21.919Z"
   },
   {
    "duration": 143,
    "start_time": "2024-02-24T15:02:22.353Z"
   },
   {
    "duration": 216,
    "start_time": "2024-02-24T15:02:22.498Z"
   },
   {
    "duration": 289,
    "start_time": "2024-02-24T15:02:22.716Z"
   },
   {
    "duration": 267,
    "start_time": "2024-02-24T15:02:23.007Z"
   },
   {
    "duration": 80,
    "start_time": "2024-02-24T15:02:23.275Z"
   },
   {
    "duration": 48,
    "start_time": "2024-02-24T15:02:23.357Z"
   },
   {
    "duration": 9,
    "start_time": "2024-02-24T15:02:23.407Z"
   },
   {
    "duration": 24,
    "start_time": "2024-02-24T15:02:23.419Z"
   },
   {
    "duration": 19,
    "start_time": "2024-02-24T15:02:38.195Z"
   },
   {
    "duration": 1213,
    "start_time": "2024-02-24T15:02:47.906Z"
   },
   {
    "duration": 191,
    "start_time": "2024-02-24T15:02:49.121Z"
   },
   {
    "duration": 20,
    "start_time": "2024-02-24T15:02:49.313Z"
   },
   {
    "duration": 75,
    "start_time": "2024-02-24T15:02:49.335Z"
   },
   {
    "duration": 46,
    "start_time": "2024-02-24T15:02:49.412Z"
   },
   {
    "duration": 13,
    "start_time": "2024-02-24T15:02:49.460Z"
   },
   {
    "duration": 219,
    "start_time": "2024-02-24T15:02:49.475Z"
   },
   {
    "duration": 41,
    "start_time": "2024-02-24T15:02:49.698Z"
   },
   {
    "duration": 663,
    "start_time": "2024-02-24T15:02:49.740Z"
   },
   {
    "duration": 640,
    "start_time": "2024-02-24T15:02:50.406Z"
   },
   {
    "duration": 728,
    "start_time": "2024-02-24T15:02:51.047Z"
   },
   {
    "duration": 4993,
    "start_time": "2024-02-24T15:02:51.777Z"
   },
   {
    "duration": 14,
    "start_time": "2024-02-24T15:02:56.772Z"
   },
   {
    "duration": 192,
    "start_time": "2024-02-24T15:02:56.788Z"
   },
   {
    "duration": 2,
    "start_time": "2024-02-24T15:02:56.982Z"
   },
   {
    "duration": 354,
    "start_time": "2024-02-24T15:02:56.985Z"
   },
   {
    "duration": 136,
    "start_time": "2024-02-24T15:02:57.340Z"
   },
   {
    "duration": 222,
    "start_time": "2024-02-24T15:02:57.478Z"
   },
   {
    "duration": 295,
    "start_time": "2024-02-24T15:02:57.706Z"
   },
   {
    "duration": 259,
    "start_time": "2024-02-24T15:02:58.002Z"
   },
   {
    "duration": 74,
    "start_time": "2024-02-24T15:02:58.262Z"
   },
   {
    "duration": 31,
    "start_time": "2024-02-24T15:02:58.337Z"
   },
   {
    "duration": 2,
    "start_time": "2024-02-24T15:02:58.369Z"
   },
   {
    "duration": 32,
    "start_time": "2024-02-24T15:02:58.373Z"
   },
   {
    "duration": 8,
    "start_time": "2024-02-24T15:03:23.140Z"
   },
   {
    "duration": 1193,
    "start_time": "2024-02-24T15:03:45.841Z"
   },
   {
    "duration": 191,
    "start_time": "2024-02-24T15:03:47.035Z"
   },
   {
    "duration": 22,
    "start_time": "2024-02-24T15:03:47.228Z"
   },
   {
    "duration": 77,
    "start_time": "2024-02-24T15:03:47.251Z"
   },
   {
    "duration": 41,
    "start_time": "2024-02-24T15:03:47.330Z"
   },
   {
    "duration": 23,
    "start_time": "2024-02-24T15:03:47.372Z"
   },
   {
    "duration": 219,
    "start_time": "2024-02-24T15:03:47.400Z"
   },
   {
    "duration": 36,
    "start_time": "2024-02-24T15:03:47.620Z"
   },
   {
    "duration": 690,
    "start_time": "2024-02-24T15:03:47.658Z"
   },
   {
    "duration": 682,
    "start_time": "2024-02-24T15:03:48.349Z"
   },
   {
    "duration": 715,
    "start_time": "2024-02-24T15:03:49.034Z"
   },
   {
    "duration": 5163,
    "start_time": "2024-02-24T15:03:49.751Z"
   },
   {
    "duration": 14,
    "start_time": "2024-02-24T15:03:54.916Z"
   },
   {
    "duration": 182,
    "start_time": "2024-02-24T15:03:54.933Z"
   },
   {
    "duration": 3,
    "start_time": "2024-02-24T15:03:55.116Z"
   },
   {
    "duration": 397,
    "start_time": "2024-02-24T15:03:55.121Z"
   },
   {
    "duration": 145,
    "start_time": "2024-02-24T15:03:55.519Z"
   },
   {
    "duration": 205,
    "start_time": "2024-02-24T15:03:55.666Z"
   },
   {
    "duration": 271,
    "start_time": "2024-02-24T15:03:55.873Z"
   },
   {
    "duration": 268,
    "start_time": "2024-02-24T15:03:56.146Z"
   },
   {
    "duration": 63,
    "start_time": "2024-02-24T15:03:56.416Z"
   },
   {
    "duration": 62,
    "start_time": "2024-02-24T15:03:56.480Z"
   },
   {
    "duration": 6,
    "start_time": "2024-02-24T15:03:56.544Z"
   },
   {
    "duration": 13,
    "start_time": "2024-02-24T15:03:56.552Z"
   },
   {
    "duration": 21,
    "start_time": "2024-02-24T15:03:56.567Z"
   },
   {
    "duration": 1182,
    "start_time": "2024-02-24T15:07:18.319Z"
   },
   {
    "duration": 195,
    "start_time": "2024-02-24T15:07:19.502Z"
   },
   {
    "duration": 25,
    "start_time": "2024-02-24T15:07:19.703Z"
   },
   {
    "duration": 93,
    "start_time": "2024-02-24T15:07:19.729Z"
   },
   {
    "duration": 41,
    "start_time": "2024-02-24T15:07:19.824Z"
   },
   {
    "duration": 36,
    "start_time": "2024-02-24T15:07:19.867Z"
   },
   {
    "duration": 283,
    "start_time": "2024-02-24T15:07:19.909Z"
   },
   {
    "duration": 40,
    "start_time": "2024-02-24T15:07:20.194Z"
   },
   {
    "duration": 641,
    "start_time": "2024-02-24T15:07:20.235Z"
   },
   {
    "duration": 684,
    "start_time": "2024-02-24T15:07:20.877Z"
   },
   {
    "duration": 716,
    "start_time": "2024-02-24T15:07:21.563Z"
   },
   {
    "duration": 5009,
    "start_time": "2024-02-24T15:07:22.281Z"
   },
   {
    "duration": 25,
    "start_time": "2024-02-24T15:07:27.292Z"
   },
   {
    "duration": 220,
    "start_time": "2024-02-24T15:07:27.320Z"
   },
   {
    "duration": 2,
    "start_time": "2024-02-24T15:07:27.542Z"
   },
   {
    "duration": 377,
    "start_time": "2024-02-24T15:07:27.546Z"
   },
   {
    "duration": 138,
    "start_time": "2024-02-24T15:07:27.925Z"
   },
   {
    "duration": 207,
    "start_time": "2024-02-24T15:07:28.064Z"
   },
   {
    "duration": 279,
    "start_time": "2024-02-24T15:07:28.273Z"
   },
   {
    "duration": 267,
    "start_time": "2024-02-24T15:07:28.553Z"
   },
   {
    "duration": 57,
    "start_time": "2024-02-24T15:07:28.822Z"
   },
   {
    "duration": 51,
    "start_time": "2024-02-24T15:07:28.881Z"
   },
   {
    "duration": 15,
    "start_time": "2024-02-24T15:07:28.934Z"
   },
   {
    "duration": 66,
    "start_time": "2024-02-24T15:07:28.951Z"
   },
   {
    "duration": 52,
    "start_time": "2024-02-24T15:07:29.019Z"
   },
   {
    "duration": 108,
    "start_time": "2024-02-24T15:08:56.191Z"
   },
   {
    "duration": 12,
    "start_time": "2024-02-24T15:10:43.739Z"
   },
   {
    "duration": 3,
    "start_time": "2024-02-24T15:10:58.919Z"
   },
   {
    "duration": 1148,
    "start_time": "2024-02-24T15:11:03.403Z"
   },
   {
    "duration": 191,
    "start_time": "2024-02-24T15:11:04.553Z"
   },
   {
    "duration": 21,
    "start_time": "2024-02-24T15:11:04.746Z"
   },
   {
    "duration": 76,
    "start_time": "2024-02-24T15:11:04.768Z"
   },
   {
    "duration": 40,
    "start_time": "2024-02-24T15:11:04.846Z"
   },
   {
    "duration": 12,
    "start_time": "2024-02-24T15:11:04.903Z"
   },
   {
    "duration": 251,
    "start_time": "2024-02-24T15:11:04.917Z"
   },
   {
    "duration": 46,
    "start_time": "2024-02-24T15:11:05.170Z"
   },
   {
    "duration": 635,
    "start_time": "2024-02-24T15:11:05.218Z"
   },
   {
    "duration": 649,
    "start_time": "2024-02-24T15:11:05.854Z"
   },
   {
    "duration": 703,
    "start_time": "2024-02-24T15:11:06.508Z"
   },
   {
    "duration": 5065,
    "start_time": "2024-02-24T15:11:07.213Z"
   },
   {
    "duration": 12,
    "start_time": "2024-02-24T15:11:12.280Z"
   },
   {
    "duration": 195,
    "start_time": "2024-02-24T15:11:12.295Z"
   },
   {
    "duration": 9,
    "start_time": "2024-02-24T15:11:12.492Z"
   },
   {
    "duration": 386,
    "start_time": "2024-02-24T15:11:12.508Z"
   },
   {
    "duration": 132,
    "start_time": "2024-02-24T15:11:12.901Z"
   },
   {
    "duration": 205,
    "start_time": "2024-02-24T15:11:13.035Z"
   },
   {
    "duration": 293,
    "start_time": "2024-02-24T15:11:13.242Z"
   },
   {
    "duration": 240,
    "start_time": "2024-02-24T15:11:13.537Z"
   },
   {
    "duration": 77,
    "start_time": "2024-02-24T15:11:13.778Z"
   },
   {
    "duration": 45,
    "start_time": "2024-02-24T15:11:13.856Z"
   },
   {
    "duration": 145,
    "start_time": "2024-02-24T15:11:13.903Z"
   },
   {
    "duration": 12,
    "start_time": "2024-02-24T15:11:40.166Z"
   },
   {
    "duration": 46,
    "start_time": "2024-02-24T15:12:07.718Z"
   },
   {
    "duration": 1191,
    "start_time": "2024-02-24T15:12:32.928Z"
   },
   {
    "duration": 193,
    "start_time": "2024-02-24T15:12:34.121Z"
   },
   {
    "duration": 22,
    "start_time": "2024-02-24T15:12:34.315Z"
   },
   {
    "duration": 77,
    "start_time": "2024-02-24T15:12:34.338Z"
   },
   {
    "duration": 42,
    "start_time": "2024-02-24T15:12:34.417Z"
   },
   {
    "duration": 10,
    "start_time": "2024-02-24T15:12:34.461Z"
   },
   {
    "duration": 229,
    "start_time": "2024-02-24T15:12:34.472Z"
   },
   {
    "duration": 33,
    "start_time": "2024-02-24T15:12:34.706Z"
   },
   {
    "duration": 660,
    "start_time": "2024-02-24T15:12:34.741Z"
   },
   {
    "duration": 672,
    "start_time": "2024-02-24T15:12:35.402Z"
   },
   {
    "duration": 701,
    "start_time": "2024-02-24T15:12:36.076Z"
   },
   {
    "duration": 5039,
    "start_time": "2024-02-24T15:12:36.779Z"
   },
   {
    "duration": 18,
    "start_time": "2024-02-24T15:12:41.820Z"
   },
   {
    "duration": 187,
    "start_time": "2024-02-24T15:12:41.840Z"
   },
   {
    "duration": 3,
    "start_time": "2024-02-24T15:12:42.028Z"
   },
   {
    "duration": 380,
    "start_time": "2024-02-24T15:12:42.032Z"
   },
   {
    "duration": 140,
    "start_time": "2024-02-24T15:12:42.414Z"
   },
   {
    "duration": 209,
    "start_time": "2024-02-24T15:12:42.556Z"
   },
   {
    "duration": 299,
    "start_time": "2024-02-24T15:12:42.766Z"
   },
   {
    "duration": 288,
    "start_time": "2024-02-24T15:12:43.067Z"
   },
   {
    "duration": 74,
    "start_time": "2024-02-24T15:12:43.356Z"
   },
   {
    "duration": 38,
    "start_time": "2024-02-24T15:12:43.432Z"
   },
   {
    "duration": 156,
    "start_time": "2024-02-24T15:12:43.471Z"
   },
   {
    "duration": 1181,
    "start_time": "2024-02-24T15:13:07.948Z"
   },
   {
    "duration": 189,
    "start_time": "2024-02-24T15:13:09.131Z"
   },
   {
    "duration": 20,
    "start_time": "2024-02-24T15:13:09.322Z"
   },
   {
    "duration": 102,
    "start_time": "2024-02-24T15:13:09.345Z"
   },
   {
    "duration": 58,
    "start_time": "2024-02-24T15:13:09.449Z"
   },
   {
    "duration": 9,
    "start_time": "2024-02-24T15:13:09.509Z"
   },
   {
    "duration": 227,
    "start_time": "2024-02-24T15:13:09.520Z"
   },
   {
    "duration": 33,
    "start_time": "2024-02-24T15:13:09.749Z"
   },
   {
    "duration": 652,
    "start_time": "2024-02-24T15:13:09.795Z"
   },
   {
    "duration": 679,
    "start_time": "2024-02-24T15:13:10.450Z"
   },
   {
    "duration": 719,
    "start_time": "2024-02-24T15:13:11.130Z"
   },
   {
    "duration": 5007,
    "start_time": "2024-02-24T15:13:11.851Z"
   },
   {
    "duration": 14,
    "start_time": "2024-02-24T15:13:16.860Z"
   },
   {
    "duration": 186,
    "start_time": "2024-02-24T15:13:16.875Z"
   },
   {
    "duration": 3,
    "start_time": "2024-02-24T15:13:17.063Z"
   },
   {
    "duration": 369,
    "start_time": "2024-02-24T15:13:17.067Z"
   },
   {
    "duration": 150,
    "start_time": "2024-02-24T15:13:17.438Z"
   },
   {
    "duration": 219,
    "start_time": "2024-02-24T15:13:17.590Z"
   },
   {
    "duration": 271,
    "start_time": "2024-02-24T15:13:17.811Z"
   },
   {
    "duration": 295,
    "start_time": "2024-02-24T15:13:18.083Z"
   },
   {
    "duration": 88,
    "start_time": "2024-02-24T15:13:18.380Z"
   },
   {
    "duration": 46,
    "start_time": "2024-02-24T15:13:18.469Z"
   },
   {
    "duration": 41,
    "start_time": "2024-02-24T15:13:18.516Z"
   },
   {
    "duration": 40,
    "start_time": "2024-02-24T15:14:08.158Z"
   },
   {
    "duration": 42,
    "start_time": "2024-02-24T15:14:17.716Z"
   },
   {
    "duration": 42,
    "start_time": "2024-02-24T15:14:31.337Z"
   },
   {
    "duration": 7,
    "start_time": "2024-02-24T15:15:03.836Z"
   },
   {
    "duration": 1144,
    "start_time": "2024-02-24T15:16:09.420Z"
   },
   {
    "duration": 200,
    "start_time": "2024-02-24T15:16:10.565Z"
   },
   {
    "duration": 21,
    "start_time": "2024-02-24T15:16:10.766Z"
   },
   {
    "duration": 80,
    "start_time": "2024-02-24T15:16:10.788Z"
   },
   {
    "duration": 48,
    "start_time": "2024-02-24T15:16:10.871Z"
   },
   {
    "duration": 10,
    "start_time": "2024-02-24T15:16:10.920Z"
   },
   {
    "duration": 239,
    "start_time": "2024-02-24T15:16:10.932Z"
   },
   {
    "duration": 42,
    "start_time": "2024-02-24T15:16:11.173Z"
   },
   {
    "duration": 644,
    "start_time": "2024-02-24T15:16:11.217Z"
   },
   {
    "duration": 703,
    "start_time": "2024-02-24T15:16:11.863Z"
   },
   {
    "duration": 714,
    "start_time": "2024-02-24T15:16:12.567Z"
   },
   {
    "duration": 4971,
    "start_time": "2024-02-24T15:16:13.283Z"
   },
   {
    "duration": 13,
    "start_time": "2024-02-24T15:16:18.256Z"
   },
   {
    "duration": 196,
    "start_time": "2024-02-24T15:16:18.271Z"
   },
   {
    "duration": 3,
    "start_time": "2024-02-24T15:16:18.468Z"
   },
   {
    "duration": 369,
    "start_time": "2024-02-24T15:16:18.472Z"
   },
   {
    "duration": 150,
    "start_time": "2024-02-24T15:16:18.842Z"
   },
   {
    "duration": 217,
    "start_time": "2024-02-24T15:16:18.994Z"
   },
   {
    "duration": 294,
    "start_time": "2024-02-24T15:16:19.213Z"
   },
   {
    "duration": 244,
    "start_time": "2024-02-24T15:16:19.509Z"
   },
   {
    "duration": 73,
    "start_time": "2024-02-24T15:16:19.755Z"
   },
   {
    "duration": 33,
    "start_time": "2024-02-24T15:16:19.830Z"
   },
   {
    "duration": 71,
    "start_time": "2024-02-24T15:16:19.865Z"
   },
   {
    "duration": 8,
    "start_time": "2024-02-24T15:16:19.938Z"
   },
   {
    "duration": 42,
    "start_time": "2024-02-24T15:16:59.197Z"
   },
   {
    "duration": 14,
    "start_time": "2024-02-24T15:17:28.276Z"
   },
   {
    "duration": 5,
    "start_time": "2024-02-24T15:17:45.636Z"
   },
   {
    "duration": 13,
    "start_time": "2024-02-24T15:18:10.036Z"
   },
   {
    "duration": 54,
    "start_time": "2024-02-24T15:18:52.824Z"
   },
   {
    "duration": 67,
    "start_time": "2024-02-24T15:19:08.448Z"
   },
   {
    "duration": 1677,
    "start_time": "2024-02-24T15:19:27.825Z"
   },
   {
    "duration": 60,
    "start_time": "2024-02-24T15:19:36.076Z"
   },
   {
    "duration": 1549,
    "start_time": "2024-02-24T15:19:54.756Z"
   },
   {
    "duration": 7,
    "start_time": "2024-02-24T15:20:02.128Z"
   },
   {
    "duration": 103,
    "start_time": "2024-02-24T15:20:16.836Z"
   },
   {
    "duration": 7,
    "start_time": "2024-02-24T15:20:25.830Z"
   },
   {
    "duration": 62,
    "start_time": "2024-02-24T15:20:29.036Z"
   },
   {
    "duration": 7,
    "start_time": "2024-02-24T15:20:29.148Z"
   },
   {
    "duration": 7,
    "start_time": "2024-02-24T15:20:34.438Z"
   },
   {
    "duration": 104,
    "start_time": "2024-02-24T15:20:46.228Z"
   },
   {
    "duration": 13,
    "start_time": "2024-02-24T15:20:52.157Z"
   },
   {
    "duration": 7,
    "start_time": "2024-02-24T15:22:36.128Z"
   },
   {
    "duration": 15,
    "start_time": "2024-02-24T15:22:41.401Z"
   },
   {
    "duration": 5,
    "start_time": "2024-02-24T15:22:56.376Z"
   },
   {
    "duration": 1277,
    "start_time": "2024-02-24T15:23:11.751Z"
   },
   {
    "duration": 195,
    "start_time": "2024-02-24T15:23:13.030Z"
   },
   {
    "duration": 21,
    "start_time": "2024-02-24T15:23:13.226Z"
   },
   {
    "duration": 83,
    "start_time": "2024-02-24T15:23:13.249Z"
   },
   {
    "duration": 44,
    "start_time": "2024-02-24T15:23:13.335Z"
   },
   {
    "duration": 17,
    "start_time": "2024-02-24T15:23:13.394Z"
   },
   {
    "duration": 235,
    "start_time": "2024-02-24T15:23:13.413Z"
   },
   {
    "duration": 33,
    "start_time": "2024-02-24T15:23:13.650Z"
   },
   {
    "duration": 694,
    "start_time": "2024-02-24T15:23:13.696Z"
   },
   {
    "duration": 733,
    "start_time": "2024-02-24T15:23:14.392Z"
   },
   {
    "duration": 800,
    "start_time": "2024-02-24T15:23:15.127Z"
   },
   {
    "duration": 5280,
    "start_time": "2024-02-24T15:23:15.928Z"
   },
   {
    "duration": 16,
    "start_time": "2024-02-24T15:23:21.210Z"
   },
   {
    "duration": 183,
    "start_time": "2024-02-24T15:23:21.228Z"
   },
   {
    "duration": 3,
    "start_time": "2024-02-24T15:23:21.412Z"
   },
   {
    "duration": 417,
    "start_time": "2024-02-24T15:23:21.417Z"
   },
   {
    "duration": 151,
    "start_time": "2024-02-24T15:23:21.836Z"
   },
   {
    "duration": 227,
    "start_time": "2024-02-24T15:23:21.988Z"
   },
   {
    "duration": 295,
    "start_time": "2024-02-24T15:23:22.217Z"
   },
   {
    "duration": 259,
    "start_time": "2024-02-24T15:23:22.513Z"
   },
   {
    "duration": 76,
    "start_time": "2024-02-24T15:23:22.774Z"
   },
   {
    "duration": 58,
    "start_time": "2024-02-24T15:23:22.851Z"
   },
   {
    "duration": 47,
    "start_time": "2024-02-24T15:23:22.911Z"
   },
   {
    "duration": 96,
    "start_time": "2024-02-24T15:23:22.960Z"
   },
   {
    "duration": 9,
    "start_time": "2024-02-24T15:23:23.058Z"
   },
   {
    "duration": 13,
    "start_time": "2024-02-24T15:23:23.068Z"
   },
   {
    "duration": 4,
    "start_time": "2024-02-24T15:23:33.076Z"
   },
   {
    "duration": 4,
    "start_time": "2024-02-24T15:23:43.736Z"
   },
   {
    "duration": 7,
    "start_time": "2024-02-24T15:23:46.065Z"
   },
   {
    "duration": 1142,
    "start_time": "2024-02-24T15:24:48.463Z"
   },
   {
    "duration": 203,
    "start_time": "2024-02-24T15:24:49.614Z"
   },
   {
    "duration": 20,
    "start_time": "2024-02-24T15:24:49.818Z"
   },
   {
    "duration": 82,
    "start_time": "2024-02-24T15:24:49.839Z"
   },
   {
    "duration": 41,
    "start_time": "2024-02-24T15:24:49.922Z"
   },
   {
    "duration": 15,
    "start_time": "2024-02-24T15:24:49.964Z"
   },
   {
    "duration": 229,
    "start_time": "2024-02-24T15:24:49.980Z"
   },
   {
    "duration": 32,
    "start_time": "2024-02-24T15:24:50.211Z"
   },
   {
    "duration": 716,
    "start_time": "2024-02-24T15:24:50.244Z"
   },
   {
    "duration": 648,
    "start_time": "2024-02-24T15:24:50.964Z"
   },
   {
    "duration": 721,
    "start_time": "2024-02-24T15:24:51.613Z"
   },
   {
    "duration": 5018,
    "start_time": "2024-02-24T15:24:52.336Z"
   },
   {
    "duration": 14,
    "start_time": "2024-02-24T15:24:57.356Z"
   },
   {
    "duration": 171,
    "start_time": "2024-02-24T15:24:57.374Z"
   },
   {
    "duration": 2,
    "start_time": "2024-02-24T15:24:57.547Z"
   },
   {
    "duration": 368,
    "start_time": "2024-02-24T15:24:57.551Z"
   },
   {
    "duration": 138,
    "start_time": "2024-02-24T15:24:57.920Z"
   },
   {
    "duration": 207,
    "start_time": "2024-02-24T15:24:58.059Z"
   },
   {
    "duration": 292,
    "start_time": "2024-02-24T15:24:58.268Z"
   },
   {
    "duration": 288,
    "start_time": "2024-02-24T15:24:58.561Z"
   },
   {
    "duration": 82,
    "start_time": "2024-02-24T15:24:58.850Z"
   },
   {
    "duration": 37,
    "start_time": "2024-02-24T15:24:58.934Z"
   },
   {
    "duration": 85,
    "start_time": "2024-02-24T15:24:58.973Z"
   },
   {
    "duration": 80,
    "start_time": "2024-02-24T15:24:59.060Z"
   },
   {
    "duration": 85,
    "start_time": "2024-02-24T15:25:36.173Z"
   },
   {
    "duration": 48,
    "start_time": "2024-02-24T15:25:36.362Z"
   },
   {
    "duration": 92,
    "start_time": "2024-02-24T15:35:41.073Z"
   },
   {
    "duration": 107,
    "start_time": "2024-02-24T15:35:47.852Z"
   },
   {
    "duration": 1637,
    "start_time": "2024-02-24T15:36:25.893Z"
   },
   {
    "duration": 1606,
    "start_time": "2024-02-24T15:37:12.996Z"
   },
   {
    "duration": 1521,
    "start_time": "2024-02-24T15:38:13.892Z"
   },
   {
    "duration": 1750,
    "start_time": "2024-02-24T15:39:29.812Z"
   },
   {
    "duration": 6,
    "start_time": "2024-02-24T15:39:56.952Z"
   },
   {
    "duration": 1518,
    "start_time": "2024-02-24T15:40:03.900Z"
   },
   {
    "duration": 1711,
    "start_time": "2024-02-24T15:40:19.724Z"
   },
   {
    "duration": 6,
    "start_time": "2024-02-24T15:40:38.224Z"
   },
   {
    "duration": 1586,
    "start_time": "2024-02-24T15:40:44.332Z"
   },
   {
    "duration": 7,
    "start_time": "2024-02-24T15:40:50.732Z"
   },
   {
    "duration": 4,
    "start_time": "2024-02-24T15:41:02.012Z"
   },
   {
    "duration": 100,
    "start_time": "2024-02-24T15:41:13.483Z"
   },
   {
    "duration": 6,
    "start_time": "2024-02-24T15:41:18.772Z"
   },
   {
    "duration": 18,
    "start_time": "2024-02-24T15:41:38.703Z"
   },
   {
    "duration": 23,
    "start_time": "2024-02-24T15:41:50.580Z"
   },
   {
    "duration": 26,
    "start_time": "2024-02-24T15:44:17.283Z"
   },
   {
    "duration": 27,
    "start_time": "2024-02-24T15:44:33.463Z"
   },
   {
    "duration": 21,
    "start_time": "2024-02-24T15:45:02.627Z"
   },
   {
    "duration": 5,
    "start_time": "2024-02-24T15:45:40.635Z"
   },
   {
    "duration": 103,
    "start_time": "2024-02-24T15:45:47.715Z"
   },
   {
    "duration": 23,
    "start_time": "2024-02-24T15:46:00.743Z"
   },
   {
    "duration": 23,
    "start_time": "2024-02-24T15:46:15.415Z"
   },
   {
    "duration": 24,
    "start_time": "2024-02-24T15:46:25.615Z"
   },
   {
    "duration": 26,
    "start_time": "2024-02-24T15:46:52.895Z"
   },
   {
    "duration": 21,
    "start_time": "2024-02-24T15:47:16.035Z"
   },
   {
    "duration": 20,
    "start_time": "2024-02-24T15:47:21.515Z"
   },
   {
    "duration": 1183,
    "start_time": "2024-02-24T15:50:07.066Z"
   },
   {
    "duration": 194,
    "start_time": "2024-02-24T15:50:08.250Z"
   },
   {
    "duration": 21,
    "start_time": "2024-02-24T15:50:08.445Z"
   },
   {
    "duration": 77,
    "start_time": "2024-02-24T15:50:08.468Z"
   },
   {
    "duration": 51,
    "start_time": "2024-02-24T15:50:08.547Z"
   },
   {
    "duration": 13,
    "start_time": "2024-02-24T15:50:08.603Z"
   },
   {
    "duration": 224,
    "start_time": "2024-02-24T15:50:08.617Z"
   },
   {
    "duration": 33,
    "start_time": "2024-02-24T15:50:08.842Z"
   },
   {
    "duration": 699,
    "start_time": "2024-02-24T15:50:08.877Z"
   },
   {
    "duration": 659,
    "start_time": "2024-02-24T15:50:09.578Z"
   },
   {
    "duration": 717,
    "start_time": "2024-02-24T15:50:10.239Z"
   },
   {
    "duration": 4988,
    "start_time": "2024-02-24T15:50:10.958Z"
   },
   {
    "duration": 13,
    "start_time": "2024-02-24T15:50:15.948Z"
   },
   {
    "duration": 181,
    "start_time": "2024-02-24T15:50:15.962Z"
   },
   {
    "duration": 2,
    "start_time": "2024-02-24T15:50:16.145Z"
   },
   {
    "duration": 384,
    "start_time": "2024-02-24T15:50:16.149Z"
   },
   {
    "duration": 147,
    "start_time": "2024-02-24T15:50:16.534Z"
   },
   {
    "duration": 234,
    "start_time": "2024-02-24T15:50:16.683Z"
   },
   {
    "duration": 284,
    "start_time": "2024-02-24T15:50:16.919Z"
   },
   {
    "duration": 312,
    "start_time": "2024-02-24T15:50:17.207Z"
   },
   {
    "duration": 63,
    "start_time": "2024-02-24T15:50:17.521Z"
   },
   {
    "duration": 47,
    "start_time": "2024-02-24T15:50:17.595Z"
   },
   {
    "duration": 218,
    "start_time": "2024-02-24T15:50:17.644Z"
   },
   {
    "duration": 82,
    "start_time": "2024-02-24T15:50:53.070Z"
   },
   {
    "duration": 99,
    "start_time": "2024-02-24T15:51:08.990Z"
   },
   {
    "duration": 1147,
    "start_time": "2024-02-24T15:53:57.283Z"
   },
   {
    "duration": 190,
    "start_time": "2024-02-24T15:53:58.431Z"
   },
   {
    "duration": 33,
    "start_time": "2024-02-24T15:53:58.622Z"
   },
   {
    "duration": 92,
    "start_time": "2024-02-24T15:53:58.658Z"
   },
   {
    "duration": 59,
    "start_time": "2024-02-24T15:53:58.752Z"
   },
   {
    "duration": 10,
    "start_time": "2024-02-24T15:53:58.812Z"
   },
   {
    "duration": 242,
    "start_time": "2024-02-24T15:53:58.824Z"
   },
   {
    "duration": 44,
    "start_time": "2024-02-24T15:53:59.067Z"
   },
   {
    "duration": 630,
    "start_time": "2024-02-24T15:53:59.112Z"
   },
   {
    "duration": 669,
    "start_time": "2024-02-24T15:53:59.744Z"
   },
   {
    "duration": 757,
    "start_time": "2024-02-24T15:54:00.415Z"
   },
   {
    "duration": 4964,
    "start_time": "2024-02-24T15:54:01.174Z"
   },
   {
    "duration": 14,
    "start_time": "2024-02-24T15:54:06.140Z"
   },
   {
    "duration": 171,
    "start_time": "2024-02-24T15:54:06.156Z"
   },
   {
    "duration": 2,
    "start_time": "2024-02-24T15:54:06.329Z"
   },
   {
    "duration": 347,
    "start_time": "2024-02-24T15:54:06.333Z"
   },
   {
    "duration": 146,
    "start_time": "2024-02-24T15:54:06.682Z"
   },
   {
    "duration": 204,
    "start_time": "2024-02-24T15:54:06.830Z"
   },
   {
    "duration": 280,
    "start_time": "2024-02-24T15:54:07.035Z"
   },
   {
    "duration": 260,
    "start_time": "2024-02-24T15:54:07.317Z"
   },
   {
    "duration": 73,
    "start_time": "2024-02-24T15:54:07.578Z"
   },
   {
    "duration": 42,
    "start_time": "2024-02-24T15:54:07.653Z"
   },
   {
    "duration": 84,
    "start_time": "2024-02-24T15:54:07.696Z"
   },
   {
    "duration": 7,
    "start_time": "2024-02-24T15:56:56.051Z"
   },
   {
    "duration": 167,
    "start_time": "2024-02-24T15:57:06.162Z"
   },
   {
    "duration": 81,
    "start_time": "2024-02-24T15:57:29.611Z"
   },
   {
    "duration": 1122,
    "start_time": "2024-02-24T15:57:38.253Z"
   },
   {
    "duration": 196,
    "start_time": "2024-02-24T15:57:39.376Z"
   },
   {
    "duration": 28,
    "start_time": "2024-02-24T15:57:39.573Z"
   },
   {
    "duration": 73,
    "start_time": "2024-02-24T15:57:39.609Z"
   },
   {
    "duration": 45,
    "start_time": "2024-02-24T15:57:39.684Z"
   },
   {
    "duration": 9,
    "start_time": "2024-02-24T15:57:39.731Z"
   },
   {
    "duration": 212,
    "start_time": "2024-02-24T15:57:39.741Z"
   },
   {
    "duration": 51,
    "start_time": "2024-02-24T15:57:39.955Z"
   },
   {
    "duration": 651,
    "start_time": "2024-02-24T15:57:40.010Z"
   },
   {
    "duration": 658,
    "start_time": "2024-02-24T15:57:40.663Z"
   },
   {
    "duration": 705,
    "start_time": "2024-02-24T15:57:41.323Z"
   },
   {
    "duration": 4932,
    "start_time": "2024-02-24T15:57:42.030Z"
   },
   {
    "duration": 13,
    "start_time": "2024-02-24T15:57:46.964Z"
   },
   {
    "duration": 180,
    "start_time": "2024-02-24T15:57:46.979Z"
   },
   {
    "duration": 3,
    "start_time": "2024-02-24T15:57:47.160Z"
   },
   {
    "duration": 365,
    "start_time": "2024-02-24T15:57:47.164Z"
   },
   {
    "duration": 155,
    "start_time": "2024-02-24T15:57:47.530Z"
   },
   {
    "duration": 225,
    "start_time": "2024-02-24T15:57:47.686Z"
   },
   {
    "duration": 275,
    "start_time": "2024-02-24T15:57:47.913Z"
   },
   {
    "duration": 281,
    "start_time": "2024-02-24T15:57:48.189Z"
   },
   {
    "duration": 79,
    "start_time": "2024-02-24T15:57:48.471Z"
   },
   {
    "duration": 33,
    "start_time": "2024-02-24T15:57:48.552Z"
   },
   {
    "duration": 12,
    "start_time": "2024-02-24T15:57:48.593Z"
   },
   {
    "duration": 99,
    "start_time": "2024-02-24T15:57:48.608Z"
   },
   {
    "duration": 10,
    "start_time": "2024-02-24T15:58:16.325Z"
   },
   {
    "duration": 104,
    "start_time": "2024-02-24T15:58:17.725Z"
   },
   {
    "duration": 11,
    "start_time": "2024-02-24T15:58:41.729Z"
   },
   {
    "duration": 84,
    "start_time": "2024-02-24T15:58:42.063Z"
   },
   {
    "duration": 7,
    "start_time": "2024-02-24T15:58:53.105Z"
   },
   {
    "duration": 94,
    "start_time": "2024-02-24T15:58:53.404Z"
   },
   {
    "duration": 1254,
    "start_time": "2024-02-24T15:59:01.291Z"
   },
   {
    "duration": 209,
    "start_time": "2024-02-24T15:59:02.547Z"
   },
   {
    "duration": 21,
    "start_time": "2024-02-24T15:59:02.758Z"
   },
   {
    "duration": 146,
    "start_time": "2024-02-24T15:59:02.780Z"
   },
   {
    "duration": 60,
    "start_time": "2024-02-24T15:59:02.928Z"
   },
   {
    "duration": 94,
    "start_time": "2024-02-24T15:59:02.989Z"
   },
   {
    "duration": 289,
    "start_time": "2024-02-24T15:59:03.085Z"
   },
   {
    "duration": 46,
    "start_time": "2024-02-24T15:59:03.375Z"
   },
   {
    "duration": 821,
    "start_time": "2024-02-24T15:59:03.423Z"
   },
   {
    "duration": 681,
    "start_time": "2024-02-24T15:59:04.246Z"
   },
   {
    "duration": 784,
    "start_time": "2024-02-24T15:59:04.928Z"
   },
   {
    "duration": 5161,
    "start_time": "2024-02-24T15:59:05.713Z"
   },
   {
    "duration": 19,
    "start_time": "2024-02-24T15:59:10.876Z"
   },
   {
    "duration": 255,
    "start_time": "2024-02-24T15:59:10.901Z"
   },
   {
    "duration": 2,
    "start_time": "2024-02-24T15:59:11.158Z"
   },
   {
    "duration": 382,
    "start_time": "2024-02-24T15:59:11.161Z"
   },
   {
    "duration": 135,
    "start_time": "2024-02-24T15:59:11.545Z"
   },
   {
    "duration": 243,
    "start_time": "2024-02-24T15:59:11.682Z"
   },
   {
    "duration": 292,
    "start_time": "2024-02-24T15:59:11.927Z"
   },
   {
    "duration": 284,
    "start_time": "2024-02-24T15:59:12.221Z"
   },
   {
    "duration": 62,
    "start_time": "2024-02-24T15:59:12.510Z"
   },
   {
    "duration": 45,
    "start_time": "2024-02-24T15:59:12.573Z"
   },
   {
    "duration": 10,
    "start_time": "2024-02-24T15:59:12.620Z"
   },
   {
    "duration": 130,
    "start_time": "2024-02-24T15:59:12.631Z"
   },
   {
    "duration": 93,
    "start_time": "2024-02-24T16:08:34.620Z"
   },
   {
    "duration": 1198,
    "start_time": "2024-02-24T16:08:51.711Z"
   },
   {
    "duration": 201,
    "start_time": "2024-02-24T16:08:52.911Z"
   },
   {
    "duration": 21,
    "start_time": "2024-02-24T16:08:53.114Z"
   },
   {
    "duration": 73,
    "start_time": "2024-02-24T16:08:53.136Z"
   },
   {
    "duration": 63,
    "start_time": "2024-02-24T16:08:53.214Z"
   },
   {
    "duration": 32,
    "start_time": "2024-02-24T16:08:53.279Z"
   },
   {
    "duration": 252,
    "start_time": "2024-02-24T16:08:53.313Z"
   },
   {
    "duration": 47,
    "start_time": "2024-02-24T16:08:53.567Z"
   },
   {
    "duration": 718,
    "start_time": "2024-02-24T16:08:53.616Z"
   },
   {
    "duration": 704,
    "start_time": "2024-02-24T16:08:54.335Z"
   },
   {
    "duration": 743,
    "start_time": "2024-02-24T16:08:55.041Z"
   },
   {
    "duration": 5181,
    "start_time": "2024-02-24T16:08:55.785Z"
   },
   {
    "duration": 14,
    "start_time": "2024-02-24T16:09:00.968Z"
   },
   {
    "duration": 185,
    "start_time": "2024-02-24T16:09:00.984Z"
   },
   {
    "duration": 2,
    "start_time": "2024-02-24T16:09:01.171Z"
   },
   {
    "duration": 436,
    "start_time": "2024-02-24T16:09:01.175Z"
   },
   {
    "duration": 144,
    "start_time": "2024-02-24T16:09:01.613Z"
   },
   {
    "duration": 206,
    "start_time": "2024-02-24T16:09:01.759Z"
   },
   {
    "duration": 283,
    "start_time": "2024-02-24T16:09:01.966Z"
   },
   {
    "duration": 261,
    "start_time": "2024-02-24T16:09:02.251Z"
   },
   {
    "duration": 82,
    "start_time": "2024-02-24T16:09:02.514Z"
   },
   {
    "duration": 37,
    "start_time": "2024-02-24T16:09:02.603Z"
   },
   {
    "duration": 74,
    "start_time": "2024-02-24T16:09:02.641Z"
   },
   {
    "duration": 166,
    "start_time": "2024-02-24T16:09:02.717Z"
   },
   {
    "duration": 108,
    "start_time": "2024-02-24T16:09:02.885Z"
   },
   {
    "duration": 91,
    "start_time": "2024-02-24T16:09:42.643Z"
   },
   {
    "duration": 1184,
    "start_time": "2024-02-24T16:12:00.159Z"
   },
   {
    "duration": 3,
    "start_time": "2024-02-24T16:12:01.345Z"
   },
   {
    "duration": 300,
    "start_time": "2024-02-24T16:12:01.350Z"
   },
   {
    "duration": 22,
    "start_time": "2024-02-24T16:12:01.652Z"
   },
   {
    "duration": 113,
    "start_time": "2024-02-24T16:12:01.676Z"
   },
   {
    "duration": 49,
    "start_time": "2024-02-24T16:12:01.791Z"
   },
   {
    "duration": 10,
    "start_time": "2024-02-24T16:12:01.842Z"
   },
   {
    "duration": 238,
    "start_time": "2024-02-24T16:12:01.853Z"
   },
   {
    "duration": 41,
    "start_time": "2024-02-24T16:12:02.092Z"
   },
   {
    "duration": 682,
    "start_time": "2024-02-24T16:12:02.135Z"
   },
   {
    "duration": 639,
    "start_time": "2024-02-24T16:12:02.819Z"
   },
   {
    "duration": 752,
    "start_time": "2024-02-24T16:12:03.460Z"
   },
   {
    "duration": 5077,
    "start_time": "2024-02-24T16:12:04.213Z"
   },
   {
    "duration": 19,
    "start_time": "2024-02-24T16:12:09.291Z"
   },
   {
    "duration": 218,
    "start_time": "2024-02-24T16:12:09.311Z"
   },
   {
    "duration": 2,
    "start_time": "2024-02-24T16:12:09.531Z"
   },
   {
    "duration": 375,
    "start_time": "2024-02-24T16:12:09.535Z"
   },
   {
    "duration": 142,
    "start_time": "2024-02-24T16:12:09.913Z"
   },
   {
    "duration": 207,
    "start_time": "2024-02-24T16:12:10.056Z"
   },
   {
    "duration": 273,
    "start_time": "2024-02-24T16:12:10.265Z"
   },
   {
    "duration": 261,
    "start_time": "2024-02-24T16:12:10.539Z"
   },
   {
    "duration": 58,
    "start_time": "2024-02-24T16:12:10.801Z"
   },
   {
    "duration": 48,
    "start_time": "2024-02-24T16:12:10.861Z"
   },
   {
    "duration": 7,
    "start_time": "2024-02-24T16:12:10.910Z"
   },
   {
    "duration": 84,
    "start_time": "2024-02-24T16:12:10.919Z"
   },
   {
    "duration": 90,
    "start_time": "2024-02-24T16:12:11.006Z"
   },
   {
    "duration": 107,
    "start_time": "2024-02-24T16:12:11.098Z"
   },
   {
    "duration": 1117,
    "start_time": "2024-02-24T16:12:46.547Z"
   },
   {
    "duration": 194,
    "start_time": "2024-02-24T16:12:47.666Z"
   },
   {
    "duration": 46,
    "start_time": "2024-02-24T16:12:47.862Z"
   },
   {
    "duration": 70,
    "start_time": "2024-02-24T16:12:47.911Z"
   },
   {
    "duration": 48,
    "start_time": "2024-02-24T16:12:47.984Z"
   },
   {
    "duration": 9,
    "start_time": "2024-02-24T16:12:48.034Z"
   },
   {
    "duration": 226,
    "start_time": "2024-02-24T16:12:48.045Z"
   },
   {
    "duration": 44,
    "start_time": "2024-02-24T16:12:48.273Z"
   },
   {
    "duration": 635,
    "start_time": "2024-02-24T16:12:48.318Z"
   },
   {
    "duration": 664,
    "start_time": "2024-02-24T16:12:48.955Z"
   },
   {
    "duration": 763,
    "start_time": "2024-02-24T16:12:49.622Z"
   },
   {
    "duration": 4944,
    "start_time": "2024-02-24T16:12:50.390Z"
   },
   {
    "duration": 15,
    "start_time": "2024-02-24T16:12:55.336Z"
   },
   {
    "duration": 182,
    "start_time": "2024-02-24T16:12:55.354Z"
   },
   {
    "duration": 2,
    "start_time": "2024-02-24T16:12:55.537Z"
   },
   {
    "duration": 367,
    "start_time": "2024-02-24T16:12:55.541Z"
   },
   {
    "duration": 129,
    "start_time": "2024-02-24T16:12:55.910Z"
   },
   {
    "duration": 201,
    "start_time": "2024-02-24T16:12:56.041Z"
   },
   {
    "duration": 287,
    "start_time": "2024-02-24T16:12:56.244Z"
   },
   {
    "duration": 247,
    "start_time": "2024-02-24T16:12:56.533Z"
   },
   {
    "duration": 75,
    "start_time": "2024-02-24T16:12:56.782Z"
   },
   {
    "duration": 43,
    "start_time": "2024-02-24T16:12:56.858Z"
   },
   {
    "duration": 10,
    "start_time": "2024-02-24T16:12:56.902Z"
   },
   {
    "duration": 96,
    "start_time": "2024-02-24T16:12:56.913Z"
   },
   {
    "duration": 90,
    "start_time": "2024-02-24T16:12:57.011Z"
   },
   {
    "duration": 85,
    "start_time": "2024-02-24T16:12:57.106Z"
   },
   {
    "duration": 106,
    "start_time": "2024-02-24T16:16:28.409Z"
   },
   {
    "duration": 1241,
    "start_time": "2024-02-24T16:16:40.626Z"
   },
   {
    "duration": 98,
    "start_time": "2024-02-24T16:17:43.016Z"
   },
   {
    "duration": 9,
    "start_time": "2024-02-24T16:17:48.361Z"
   },
   {
    "duration": 103,
    "start_time": "2024-02-24T16:18:08.834Z"
   },
   {
    "duration": 71,
    "start_time": "2024-02-24T16:18:17.309Z"
   },
   {
    "duration": 141,
    "start_time": "2024-02-24T16:18:42.908Z"
   },
   {
    "duration": 65,
    "start_time": "2024-02-24T16:19:00.220Z"
   },
   {
    "duration": 13,
    "start_time": "2024-02-24T16:19:38.826Z"
   },
   {
    "duration": 1265,
    "start_time": "2024-02-24T16:21:08.910Z"
   },
   {
    "duration": 203,
    "start_time": "2024-02-24T16:21:10.177Z"
   },
   {
    "duration": 25,
    "start_time": "2024-02-24T16:21:10.382Z"
   },
   {
    "duration": 76,
    "start_time": "2024-02-24T16:21:10.410Z"
   },
   {
    "duration": 51,
    "start_time": "2024-02-24T16:21:10.488Z"
   },
   {
    "duration": 9,
    "start_time": "2024-02-24T16:21:10.540Z"
   },
   {
    "duration": 235,
    "start_time": "2024-02-24T16:21:10.551Z"
   },
   {
    "duration": 46,
    "start_time": "2024-02-24T16:21:10.787Z"
   },
   {
    "duration": 733,
    "start_time": "2024-02-24T16:21:10.835Z"
   },
   {
    "duration": 705,
    "start_time": "2024-02-24T16:21:11.570Z"
   },
   {
    "duration": 788,
    "start_time": "2024-02-24T16:21:12.277Z"
   },
   {
    "duration": 5341,
    "start_time": "2024-02-24T16:21:13.066Z"
   },
   {
    "duration": 20,
    "start_time": "2024-02-24T16:21:18.409Z"
   },
   {
    "duration": 201,
    "start_time": "2024-02-24T16:21:18.431Z"
   },
   {
    "duration": 3,
    "start_time": "2024-02-24T16:21:18.633Z"
   },
   {
    "duration": 404,
    "start_time": "2024-02-24T16:21:18.637Z"
   },
   {
    "duration": 150,
    "start_time": "2024-02-24T16:21:19.043Z"
   },
   {
    "duration": 232,
    "start_time": "2024-02-24T16:21:19.197Z"
   },
   {
    "duration": 308,
    "start_time": "2024-02-24T16:21:19.434Z"
   },
   {
    "duration": 272,
    "start_time": "2024-02-24T16:21:19.745Z"
   },
   {
    "duration": 66,
    "start_time": "2024-02-24T16:21:20.018Z"
   },
   {
    "duration": 47,
    "start_time": "2024-02-24T16:21:20.086Z"
   },
   {
    "duration": 6,
    "start_time": "2024-02-24T16:21:20.134Z"
   },
   {
    "duration": 123,
    "start_time": "2024-02-24T16:21:20.142Z"
   },
   {
    "duration": 94,
    "start_time": "2024-02-24T16:21:20.267Z"
   },
   {
    "duration": 106,
    "start_time": "2024-02-24T16:21:20.363Z"
   },
   {
    "duration": 189,
    "start_time": "2024-02-24T16:21:20.470Z"
   },
   {
    "duration": 88,
    "start_time": "2024-02-24T16:22:01.340Z"
   },
   {
    "duration": 5,
    "start_time": "2024-02-24T16:23:20.928Z"
   },
   {
    "duration": 7,
    "start_time": "2024-02-24T16:23:24.147Z"
   },
   {
    "duration": 6,
    "start_time": "2024-02-24T16:23:36.665Z"
   },
   {
    "duration": 1276,
    "start_time": "2024-02-24T16:23:51.911Z"
   },
   {
    "duration": 248,
    "start_time": "2024-02-24T16:23:53.189Z"
   },
   {
    "duration": 30,
    "start_time": "2024-02-24T16:23:53.445Z"
   },
   {
    "duration": 74,
    "start_time": "2024-02-24T16:23:53.476Z"
   },
   {
    "duration": 56,
    "start_time": "2024-02-24T16:23:53.553Z"
   },
   {
    "duration": 16,
    "start_time": "2024-02-24T16:23:53.616Z"
   },
   {
    "duration": 253,
    "start_time": "2024-02-24T16:23:53.634Z"
   },
   {
    "duration": 59,
    "start_time": "2024-02-24T16:23:53.889Z"
   },
   {
    "duration": 828,
    "start_time": "2024-02-24T16:23:53.958Z"
   },
   {
    "duration": 868,
    "start_time": "2024-02-24T16:23:54.788Z"
   },
   {
    "duration": 791,
    "start_time": "2024-02-24T16:23:55.658Z"
   },
   {
    "duration": 5711,
    "start_time": "2024-02-24T16:23:56.451Z"
   },
   {
    "duration": 19,
    "start_time": "2024-02-24T16:24:02.164Z"
   },
   {
    "duration": 250,
    "start_time": "2024-02-24T16:24:02.186Z"
   },
   {
    "duration": 2,
    "start_time": "2024-02-24T16:24:02.437Z"
   },
   {
    "duration": 480,
    "start_time": "2024-02-24T16:24:02.441Z"
   },
   {
    "duration": 141,
    "start_time": "2024-02-24T16:24:02.923Z"
   },
   {
    "duration": 221,
    "start_time": "2024-02-24T16:24:03.065Z"
   },
   {
    "duration": 363,
    "start_time": "2024-02-24T16:24:03.296Z"
   },
   {
    "duration": 318,
    "start_time": "2024-02-24T16:24:03.661Z"
   },
   {
    "duration": 69,
    "start_time": "2024-02-24T16:24:03.980Z"
   },
   {
    "duration": 82,
    "start_time": "2024-02-24T16:24:04.050Z"
   },
   {
    "duration": 16,
    "start_time": "2024-02-24T16:24:04.134Z"
   },
   {
    "duration": 119,
    "start_time": "2024-02-24T16:24:04.152Z"
   },
   {
    "duration": 106,
    "start_time": "2024-02-24T16:24:04.273Z"
   },
   {
    "duration": 120,
    "start_time": "2024-02-24T16:24:04.381Z"
   },
   {
    "duration": 124,
    "start_time": "2024-02-24T16:24:04.511Z"
   },
   {
    "duration": 120,
    "start_time": "2024-02-24T16:24:31.803Z"
   },
   {
    "duration": 11,
    "start_time": "2024-02-24T16:24:34.710Z"
   },
   {
    "duration": 14,
    "start_time": "2024-02-24T16:25:52.388Z"
   },
   {
    "duration": 12,
    "start_time": "2024-02-24T16:26:08.674Z"
   },
   {
    "duration": 1189,
    "start_time": "2024-02-24T16:26:33.317Z"
   },
   {
    "duration": 202,
    "start_time": "2024-02-24T16:26:34.509Z"
   },
   {
    "duration": 26,
    "start_time": "2024-02-24T16:26:34.713Z"
   },
   {
    "duration": 75,
    "start_time": "2024-02-24T16:26:34.741Z"
   },
   {
    "duration": 41,
    "start_time": "2024-02-24T16:26:34.821Z"
   },
   {
    "duration": 10,
    "start_time": "2024-02-24T16:26:34.863Z"
   },
   {
    "duration": 257,
    "start_time": "2024-02-24T16:26:34.874Z"
   },
   {
    "duration": 33,
    "start_time": "2024-02-24T16:26:35.132Z"
   },
   {
    "duration": 763,
    "start_time": "2024-02-24T16:26:35.167Z"
   },
   {
    "duration": 659,
    "start_time": "2024-02-24T16:26:35.931Z"
   },
   {
    "duration": 788,
    "start_time": "2024-02-24T16:26:36.595Z"
   },
   {
    "duration": 5346,
    "start_time": "2024-02-24T16:26:37.384Z"
   },
   {
    "duration": 13,
    "start_time": "2024-02-24T16:26:42.732Z"
   },
   {
    "duration": 187,
    "start_time": "2024-02-24T16:26:42.748Z"
   },
   {
    "duration": 2,
    "start_time": "2024-02-24T16:26:42.937Z"
   },
   {
    "duration": 419,
    "start_time": "2024-02-24T16:26:42.940Z"
   },
   {
    "duration": 172,
    "start_time": "2024-02-24T16:26:43.363Z"
   },
   {
    "duration": 224,
    "start_time": "2024-02-24T16:26:43.538Z"
   },
   {
    "duration": 318,
    "start_time": "2024-02-24T16:26:43.764Z"
   },
   {
    "duration": 280,
    "start_time": "2024-02-24T16:26:44.083Z"
   },
   {
    "duration": 74,
    "start_time": "2024-02-24T16:26:44.365Z"
   },
   {
    "duration": 33,
    "start_time": "2024-02-24T16:26:44.441Z"
   },
   {
    "duration": 34,
    "start_time": "2024-02-24T16:26:44.476Z"
   },
   {
    "duration": 87,
    "start_time": "2024-02-24T16:26:44.520Z"
   },
   {
    "duration": 118,
    "start_time": "2024-02-24T16:26:44.609Z"
   },
   {
    "duration": 95,
    "start_time": "2024-02-24T16:26:44.729Z"
   },
   {
    "duration": 80,
    "start_time": "2024-02-24T16:26:44.826Z"
   },
   {
    "duration": 9,
    "start_time": "2024-02-24T16:26:44.908Z"
   },
   {
    "duration": 16,
    "start_time": "2024-02-24T16:27:47.352Z"
   },
   {
    "duration": 1202,
    "start_time": "2024-02-24T16:28:04.397Z"
   },
   {
    "duration": 231,
    "start_time": "2024-02-24T16:28:05.601Z"
   },
   {
    "duration": 22,
    "start_time": "2024-02-24T16:28:05.833Z"
   },
   {
    "duration": 79,
    "start_time": "2024-02-24T16:28:05.857Z"
   },
   {
    "duration": 43,
    "start_time": "2024-02-24T16:28:05.938Z"
   },
   {
    "duration": 21,
    "start_time": "2024-02-24T16:28:05.994Z"
   },
   {
    "duration": 229,
    "start_time": "2024-02-24T16:28:06.017Z"
   },
   {
    "duration": 33,
    "start_time": "2024-02-24T16:28:06.247Z"
   },
   {
    "duration": 712,
    "start_time": "2024-02-24T16:28:06.282Z"
   },
   {
    "duration": 703,
    "start_time": "2024-02-24T16:28:06.995Z"
   },
   {
    "duration": 847,
    "start_time": "2024-02-24T16:28:07.710Z"
   },
   {
    "duration": 5492,
    "start_time": "2024-02-24T16:28:08.558Z"
   },
   {
    "duration": 14,
    "start_time": "2024-02-24T16:28:14.052Z"
   },
   {
    "duration": 221,
    "start_time": "2024-02-24T16:28:14.069Z"
   },
   {
    "duration": 3,
    "start_time": "2024-02-24T16:28:14.293Z"
   },
   {
    "duration": 390,
    "start_time": "2024-02-24T16:28:14.297Z"
   },
   {
    "duration": 194,
    "start_time": "2024-02-24T16:28:14.689Z"
   },
   {
    "duration": 241,
    "start_time": "2024-02-24T16:28:14.885Z"
   },
   {
    "duration": 301,
    "start_time": "2024-02-24T16:28:15.127Z"
   },
   {
    "duration": 248,
    "start_time": "2024-02-24T16:28:15.430Z"
   },
   {
    "duration": 85,
    "start_time": "2024-02-24T16:28:15.679Z"
   },
   {
    "duration": 50,
    "start_time": "2024-02-24T16:28:15.766Z"
   },
   {
    "duration": 11,
    "start_time": "2024-02-24T16:28:15.818Z"
   },
   {
    "duration": 136,
    "start_time": "2024-02-24T16:28:15.831Z"
   },
   {
    "duration": 120,
    "start_time": "2024-02-24T16:28:15.969Z"
   },
   {
    "duration": 96,
    "start_time": "2024-02-24T16:28:16.096Z"
   },
   {
    "duration": 79,
    "start_time": "2024-02-24T16:28:16.200Z"
   },
   {
    "duration": 31,
    "start_time": "2024-02-24T16:28:16.281Z"
   },
   {
    "duration": 1188,
    "start_time": "2024-02-24T16:28:56.754Z"
   },
   {
    "duration": 201,
    "start_time": "2024-02-24T16:28:57.944Z"
   },
   {
    "duration": 20,
    "start_time": "2024-02-24T16:28:58.147Z"
   },
   {
    "duration": 75,
    "start_time": "2024-02-24T16:28:58.169Z"
   },
   {
    "duration": 56,
    "start_time": "2024-02-24T16:28:58.246Z"
   },
   {
    "duration": 13,
    "start_time": "2024-02-24T16:28:58.303Z"
   },
   {
    "duration": 222,
    "start_time": "2024-02-24T16:28:58.317Z"
   },
   {
    "duration": 33,
    "start_time": "2024-02-24T16:28:58.540Z"
   },
   {
    "duration": 703,
    "start_time": "2024-02-24T16:28:58.574Z"
   },
   {
    "duration": 686,
    "start_time": "2024-02-24T16:28:59.278Z"
   },
   {
    "duration": 770,
    "start_time": "2024-02-24T16:28:59.965Z"
   },
   {
    "duration": 5409,
    "start_time": "2024-02-24T16:29:00.737Z"
   },
   {
    "duration": 15,
    "start_time": "2024-02-24T16:29:06.148Z"
   },
   {
    "duration": 177,
    "start_time": "2024-02-24T16:29:06.166Z"
   },
   {
    "duration": 2,
    "start_time": "2024-02-24T16:29:06.345Z"
   },
   {
    "duration": 436,
    "start_time": "2024-02-24T16:29:06.349Z"
   },
   {
    "duration": 157,
    "start_time": "2024-02-24T16:29:06.786Z"
   },
   {
    "duration": 221,
    "start_time": "2024-02-24T16:29:06.945Z"
   },
   {
    "duration": 305,
    "start_time": "2024-02-24T16:29:07.167Z"
   },
   {
    "duration": 291,
    "start_time": "2024-02-24T16:29:07.474Z"
   },
   {
    "duration": 74,
    "start_time": "2024-02-24T16:29:07.767Z"
   },
   {
    "duration": 56,
    "start_time": "2024-02-24T16:29:07.842Z"
   },
   {
    "duration": 15,
    "start_time": "2024-02-24T16:29:07.901Z"
   },
   {
    "duration": 99,
    "start_time": "2024-02-24T16:29:07.919Z"
   },
   {
    "duration": 99,
    "start_time": "2024-02-24T16:29:08.020Z"
   },
   {
    "duration": 95,
    "start_time": "2024-02-24T16:29:08.120Z"
   },
   {
    "duration": 265,
    "start_time": "2024-02-24T16:29:08.216Z"
   },
   {
    "duration": 1175,
    "start_time": "2024-02-24T16:31:35.611Z"
   },
   {
    "duration": 188,
    "start_time": "2024-02-24T16:31:36.788Z"
   },
   {
    "duration": 33,
    "start_time": "2024-02-24T16:31:36.978Z"
   },
   {
    "duration": 63,
    "start_time": "2024-02-24T16:31:37.013Z"
   },
   {
    "duration": 55,
    "start_time": "2024-02-24T16:31:37.078Z"
   },
   {
    "duration": 9,
    "start_time": "2024-02-24T16:31:37.134Z"
   },
   {
    "duration": 223,
    "start_time": "2024-02-24T16:31:37.145Z"
   },
   {
    "duration": 50,
    "start_time": "2024-02-24T16:31:37.370Z"
   },
   {
    "duration": 666,
    "start_time": "2024-02-24T16:31:37.422Z"
   },
   {
    "duration": 693,
    "start_time": "2024-02-24T16:31:38.090Z"
   },
   {
    "duration": 766,
    "start_time": "2024-02-24T16:31:38.785Z"
   },
   {
    "duration": 5074,
    "start_time": "2024-02-24T16:31:39.552Z"
   },
   {
    "duration": 15,
    "start_time": "2024-02-24T16:31:44.628Z"
   },
   {
    "duration": 183,
    "start_time": "2024-02-24T16:31:44.645Z"
   },
   {
    "duration": 2,
    "start_time": "2024-02-24T16:31:44.830Z"
   },
   {
    "duration": 376,
    "start_time": "2024-02-24T16:31:44.833Z"
   },
   {
    "duration": 138,
    "start_time": "2024-02-24T16:31:45.210Z"
   },
   {
    "duration": 218,
    "start_time": "2024-02-24T16:31:45.350Z"
   },
   {
    "duration": 280,
    "start_time": "2024-02-24T16:31:45.569Z"
   },
   {
    "duration": 280,
    "start_time": "2024-02-24T16:31:45.851Z"
   },
   {
    "duration": 70,
    "start_time": "2024-02-24T16:31:46.133Z"
   },
   {
    "duration": 31,
    "start_time": "2024-02-24T16:31:46.207Z"
   },
   {
    "duration": 6,
    "start_time": "2024-02-24T16:31:46.240Z"
   },
   {
    "duration": 87,
    "start_time": "2024-02-24T16:31:46.248Z"
   },
   {
    "duration": 96,
    "start_time": "2024-02-24T16:31:46.337Z"
   },
   {
    "duration": 97,
    "start_time": "2024-02-24T16:31:46.435Z"
   },
   {
    "duration": 75,
    "start_time": "2024-02-24T16:31:48.243Z"
   },
   {
    "duration": 17,
    "start_time": "2024-02-24T16:33:19.030Z"
   },
   {
    "duration": 1214,
    "start_time": "2024-02-24T16:33:37.932Z"
   },
   {
    "duration": 228,
    "start_time": "2024-02-24T16:33:39.148Z"
   },
   {
    "duration": 35,
    "start_time": "2024-02-24T16:33:39.378Z"
   },
   {
    "duration": 72,
    "start_time": "2024-02-24T16:33:39.421Z"
   },
   {
    "duration": 52,
    "start_time": "2024-02-24T16:33:39.502Z"
   },
   {
    "duration": 9,
    "start_time": "2024-02-24T16:33:39.555Z"
   },
   {
    "duration": 252,
    "start_time": "2024-02-24T16:33:39.565Z"
   },
   {
    "duration": 31,
    "start_time": "2024-02-24T16:33:39.822Z"
   },
   {
    "duration": 773,
    "start_time": "2024-02-24T16:33:39.855Z"
   },
   {
    "duration": 678,
    "start_time": "2024-02-24T16:33:40.629Z"
   },
   {
    "duration": 773,
    "start_time": "2024-02-24T16:33:41.309Z"
   },
   {
    "duration": 5535,
    "start_time": "2024-02-24T16:33:42.084Z"
   },
   {
    "duration": 16,
    "start_time": "2024-02-24T16:33:47.625Z"
   },
   {
    "duration": 194,
    "start_time": "2024-02-24T16:33:47.644Z"
   },
   {
    "duration": 3,
    "start_time": "2024-02-24T16:33:47.839Z"
   },
   {
    "duration": 486,
    "start_time": "2024-02-24T16:33:47.844Z"
   },
   {
    "duration": 143,
    "start_time": "2024-02-24T16:33:48.332Z"
   },
   {
    "duration": 232,
    "start_time": "2024-02-24T16:33:48.476Z"
   },
   {
    "duration": 316,
    "start_time": "2024-02-24T16:33:48.709Z"
   },
   {
    "duration": 244,
    "start_time": "2024-02-24T16:33:49.027Z"
   },
   {
    "duration": 76,
    "start_time": "2024-02-24T16:33:49.273Z"
   },
   {
    "duration": 65,
    "start_time": "2024-02-24T16:33:49.351Z"
   },
   {
    "duration": 10,
    "start_time": "2024-02-24T16:33:49.418Z"
   },
   {
    "duration": 102,
    "start_time": "2024-02-24T16:33:49.430Z"
   },
   {
    "duration": 94,
    "start_time": "2024-02-24T16:33:49.534Z"
   },
   {
    "duration": 95,
    "start_time": "2024-02-24T16:33:49.630Z"
   },
   {
    "duration": 12,
    "start_time": "2024-02-24T16:33:49.727Z"
   },
   {
    "duration": 14,
    "start_time": "2024-02-24T16:33:49.741Z"
   },
   {
    "duration": 189,
    "start_time": "2024-02-24T16:35:43.628Z"
   },
   {
    "duration": 93,
    "start_time": "2024-02-24T16:36:54.648Z"
   },
   {
    "duration": 90,
    "start_time": "2024-02-24T16:37:07.468Z"
   },
   {
    "duration": 70,
    "start_time": "2024-02-24T16:37:15.323Z"
   },
   {
    "duration": 86,
    "start_time": "2024-02-24T16:37:22.688Z"
   },
   {
    "duration": 1218,
    "start_time": "2024-02-24T16:37:58.418Z"
   },
   {
    "duration": 207,
    "start_time": "2024-02-24T16:37:59.638Z"
   },
   {
    "duration": 22,
    "start_time": "2024-02-24T16:37:59.847Z"
   },
   {
    "duration": 78,
    "start_time": "2024-02-24T16:37:59.871Z"
   },
   {
    "duration": 51,
    "start_time": "2024-02-24T16:37:59.951Z"
   },
   {
    "duration": 17,
    "start_time": "2024-02-24T16:38:00.004Z"
   },
   {
    "duration": 264,
    "start_time": "2024-02-24T16:38:00.026Z"
   },
   {
    "duration": 47,
    "start_time": "2024-02-24T16:38:00.292Z"
   },
   {
    "duration": 707,
    "start_time": "2024-02-24T16:38:00.341Z"
   },
   {
    "duration": 728,
    "start_time": "2024-02-24T16:38:01.050Z"
   },
   {
    "duration": 788,
    "start_time": "2024-02-24T16:38:01.779Z"
   },
   {
    "duration": 5353,
    "start_time": "2024-02-24T16:38:02.569Z"
   },
   {
    "duration": 17,
    "start_time": "2024-02-24T16:38:07.924Z"
   },
   {
    "duration": 190,
    "start_time": "2024-02-24T16:38:07.943Z"
   },
   {
    "duration": 3,
    "start_time": "2024-02-24T16:38:08.135Z"
   },
   {
    "duration": 386,
    "start_time": "2024-02-24T16:38:08.139Z"
   },
   {
    "duration": 145,
    "start_time": "2024-02-24T16:38:08.527Z"
   },
   {
    "duration": 232,
    "start_time": "2024-02-24T16:38:08.674Z"
   },
   {
    "duration": 339,
    "start_time": "2024-02-24T16:38:08.908Z"
   },
   {
    "duration": 292,
    "start_time": "2024-02-24T16:38:09.249Z"
   },
   {
    "duration": 72,
    "start_time": "2024-02-24T16:38:09.543Z"
   },
   {
    "duration": 35,
    "start_time": "2024-02-24T16:38:09.621Z"
   },
   {
    "duration": 18,
    "start_time": "2024-02-24T16:38:09.657Z"
   },
   {
    "duration": 112,
    "start_time": "2024-02-24T16:38:09.677Z"
   },
   {
    "duration": 118,
    "start_time": "2024-02-24T16:38:09.791Z"
   },
   {
    "duration": 98,
    "start_time": "2024-02-24T16:38:09.910Z"
   },
   {
    "duration": 80,
    "start_time": "2024-02-24T16:38:10.010Z"
   },
   {
    "duration": 87,
    "start_time": "2024-02-24T16:38:10.092Z"
   },
   {
    "duration": 135,
    "start_time": "2024-02-24T16:38:10.181Z"
   },
   {
    "duration": 93,
    "start_time": "2024-02-24T16:38:38.795Z"
   },
   {
    "duration": 1266,
    "start_time": "2024-02-24T16:39:03.684Z"
   },
   {
    "duration": 221,
    "start_time": "2024-02-24T16:39:04.952Z"
   },
   {
    "duration": 42,
    "start_time": "2024-02-24T16:39:05.174Z"
   },
   {
    "duration": 71,
    "start_time": "2024-02-24T16:39:05.219Z"
   },
   {
    "duration": 52,
    "start_time": "2024-02-24T16:39:05.291Z"
   },
   {
    "duration": 10,
    "start_time": "2024-02-24T16:39:05.345Z"
   },
   {
    "duration": 272,
    "start_time": "2024-02-24T16:39:05.356Z"
   },
   {
    "duration": 34,
    "start_time": "2024-02-24T16:39:05.629Z"
   },
   {
    "duration": 781,
    "start_time": "2024-02-24T16:39:05.665Z"
   },
   {
    "duration": 709,
    "start_time": "2024-02-24T16:39:06.448Z"
   },
   {
    "duration": 815,
    "start_time": "2024-02-24T16:39:07.159Z"
   },
   {
    "duration": 5667,
    "start_time": "2024-02-24T16:39:07.975Z"
   },
   {
    "duration": 17,
    "start_time": "2024-02-24T16:39:13.644Z"
   },
   {
    "duration": 275,
    "start_time": "2024-02-24T16:39:13.663Z"
   },
   {
    "duration": 3,
    "start_time": "2024-02-24T16:39:13.940Z"
   },
   {
    "duration": 393,
    "start_time": "2024-02-24T16:39:13.944Z"
   },
   {
    "duration": 150,
    "start_time": "2024-02-24T16:39:14.339Z"
   },
   {
    "duration": 232,
    "start_time": "2024-02-24T16:39:14.490Z"
   },
   {
    "duration": 327,
    "start_time": "2024-02-24T16:39:14.724Z"
   },
   {
    "duration": 336,
    "start_time": "2024-02-24T16:39:15.053Z"
   },
   {
    "duration": 80,
    "start_time": "2024-02-24T16:39:15.390Z"
   },
   {
    "duration": 47,
    "start_time": "2024-02-24T16:39:15.472Z"
   },
   {
    "duration": 12,
    "start_time": "2024-02-24T16:39:15.520Z"
   },
   {
    "duration": 114,
    "start_time": "2024-02-24T16:39:15.534Z"
   },
   {
    "duration": 124,
    "start_time": "2024-02-24T16:39:15.650Z"
   },
   {
    "duration": 103,
    "start_time": "2024-02-24T16:39:15.776Z"
   },
   {
    "duration": 131,
    "start_time": "2024-02-24T16:39:15.880Z"
   },
   {
    "duration": 0,
    "start_time": "2024-02-24T16:39:16.017Z"
   },
   {
    "duration": 0,
    "start_time": "2024-02-24T16:39:16.018Z"
   },
   {
    "duration": 0,
    "start_time": "2024-02-24T16:39:16.018Z"
   },
   {
    "duration": 13,
    "start_time": "2024-02-24T16:39:21.933Z"
   },
   {
    "duration": 104,
    "start_time": "2024-02-24T16:39:28.874Z"
   },
   {
    "duration": 92,
    "start_time": "2024-02-24T16:39:36.165Z"
   },
   {
    "duration": 83,
    "start_time": "2024-02-24T16:39:44.773Z"
   },
   {
    "duration": 96,
    "start_time": "2024-02-24T16:39:48.414Z"
   },
   {
    "duration": 93,
    "start_time": "2024-02-24T16:39:53.417Z"
   },
   {
    "duration": 97,
    "start_time": "2024-02-24T16:40:41.295Z"
   },
   {
    "duration": 88,
    "start_time": "2024-02-24T16:42:49.365Z"
   },
   {
    "duration": 81,
    "start_time": "2024-02-24T16:42:57.664Z"
   },
   {
    "duration": 73,
    "start_time": "2024-02-24T16:44:02.016Z"
   },
   {
    "duration": 77,
    "start_time": "2024-02-24T16:44:05.453Z"
   },
   {
    "duration": 93,
    "start_time": "2024-02-24T16:44:09.018Z"
   },
   {
    "duration": 74,
    "start_time": "2024-02-24T16:45:20.925Z"
   },
   {
    "duration": 78,
    "start_time": "2024-02-24T16:45:24.365Z"
   },
   {
    "duration": 90,
    "start_time": "2024-02-24T16:45:40.153Z"
   },
   {
    "duration": 75,
    "start_time": "2024-02-24T16:45:49.807Z"
   },
   {
    "duration": 73,
    "start_time": "2024-02-24T16:45:55.313Z"
   },
   {
    "duration": 76,
    "start_time": "2024-02-24T16:46:24.853Z"
   },
   {
    "duration": 83,
    "start_time": "2024-02-24T16:46:33.426Z"
   },
   {
    "duration": 84,
    "start_time": "2024-02-24T16:46:45.473Z"
   },
   {
    "duration": 79,
    "start_time": "2024-02-24T16:46:49.134Z"
   },
   {
    "duration": 76,
    "start_time": "2024-02-24T16:47:23.045Z"
   },
   {
    "duration": 113,
    "start_time": "2024-02-24T16:47:33.208Z"
   },
   {
    "duration": 79,
    "start_time": "2024-02-24T16:47:37.941Z"
   },
   {
    "duration": 90,
    "start_time": "2024-02-24T16:48:17.586Z"
   },
   {
    "duration": 107,
    "start_time": "2024-02-24T16:48:20.346Z"
   },
   {
    "duration": 80,
    "start_time": "2024-02-24T16:49:50.645Z"
   },
   {
    "duration": 67,
    "start_time": "2024-02-24T16:50:10.225Z"
   },
   {
    "duration": 82,
    "start_time": "2024-02-24T16:50:19.773Z"
   },
   {
    "duration": 78,
    "start_time": "2024-02-24T16:50:26.653Z"
   },
   {
    "duration": 92,
    "start_time": "2024-02-24T16:50:39.693Z"
   },
   {
    "duration": 82,
    "start_time": "2024-02-24T16:50:43.073Z"
   },
   {
    "duration": 1179,
    "start_time": "2024-02-24T16:51:05.693Z"
   },
   {
    "duration": 257,
    "start_time": "2024-02-24T16:51:06.874Z"
   },
   {
    "duration": 21,
    "start_time": "2024-02-24T16:51:07.133Z"
   },
   {
    "duration": 76,
    "start_time": "2024-02-24T16:51:07.156Z"
   },
   {
    "duration": 42,
    "start_time": "2024-02-24T16:51:07.234Z"
   },
   {
    "duration": 26,
    "start_time": "2024-02-24T16:51:07.277Z"
   },
   {
    "duration": 250,
    "start_time": "2024-02-24T16:51:07.304Z"
   },
   {
    "duration": 53,
    "start_time": "2024-02-24T16:51:07.556Z"
   },
   {
    "duration": 672,
    "start_time": "2024-02-24T16:51:07.610Z"
   },
   {
    "duration": 753,
    "start_time": "2024-02-24T16:51:08.284Z"
   },
   {
    "duration": 764,
    "start_time": "2024-02-24T16:51:09.039Z"
   },
   {
    "duration": 5561,
    "start_time": "2024-02-24T16:51:09.805Z"
   },
   {
    "duration": 13,
    "start_time": "2024-02-24T16:51:15.367Z"
   },
   {
    "duration": 213,
    "start_time": "2024-02-24T16:51:15.383Z"
   },
   {
    "duration": 10,
    "start_time": "2024-02-24T16:51:15.603Z"
   },
   {
    "duration": 374,
    "start_time": "2024-02-24T16:51:15.619Z"
   },
   {
    "duration": 150,
    "start_time": "2024-02-24T16:51:15.994Z"
   },
   {
    "duration": 216,
    "start_time": "2024-02-24T16:51:16.145Z"
   },
   {
    "duration": 310,
    "start_time": "2024-02-24T16:51:16.362Z"
   },
   {
    "duration": 306,
    "start_time": "2024-02-24T16:51:16.674Z"
   },
   {
    "duration": 95,
    "start_time": "2024-02-24T16:51:16.982Z"
   },
   {
    "duration": 52,
    "start_time": "2024-02-24T16:51:17.078Z"
   },
   {
    "duration": 9,
    "start_time": "2024-02-24T16:51:17.132Z"
   },
   {
    "duration": 120,
    "start_time": "2024-02-24T16:51:17.142Z"
   },
   {
    "duration": 91,
    "start_time": "2024-02-24T16:51:17.263Z"
   },
   {
    "duration": 100,
    "start_time": "2024-02-24T16:51:17.356Z"
   },
   {
    "duration": 97,
    "start_time": "2024-02-24T16:51:17.457Z"
   },
   {
    "duration": 88,
    "start_time": "2024-02-24T16:51:17.555Z"
   },
   {
    "duration": 185,
    "start_time": "2024-02-24T16:51:17.644Z"
   },
   {
    "duration": 9,
    "start_time": "2024-02-24T16:52:16.372Z"
   },
   {
    "duration": 8,
    "start_time": "2024-02-24T16:55:21.242Z"
   },
   {
    "duration": 92,
    "start_time": "2024-02-24T16:55:35.894Z"
   },
   {
    "duration": 77,
    "start_time": "2024-02-24T16:55:37.166Z"
   },
   {
    "duration": 21,
    "start_time": "2024-02-24T16:55:49.605Z"
   },
   {
    "duration": 11,
    "start_time": "2024-02-24T16:56:51.256Z"
   },
   {
    "duration": 1205,
    "start_time": "2024-02-24T16:57:03.116Z"
   },
   {
    "duration": 202,
    "start_time": "2024-02-24T16:57:04.326Z"
   },
   {
    "duration": 22,
    "start_time": "2024-02-24T16:57:04.529Z"
   },
   {
    "duration": 127,
    "start_time": "2024-02-24T16:57:04.552Z"
   },
   {
    "duration": 49,
    "start_time": "2024-02-24T16:57:04.682Z"
   },
   {
    "duration": 11,
    "start_time": "2024-02-24T16:57:04.733Z"
   },
   {
    "duration": 225,
    "start_time": "2024-02-24T16:57:04.746Z"
   },
   {
    "duration": 60,
    "start_time": "2024-02-24T16:57:04.972Z"
   },
   {
    "duration": 719,
    "start_time": "2024-02-24T16:57:05.033Z"
   },
   {
    "duration": 690,
    "start_time": "2024-02-24T16:57:05.753Z"
   },
   {
    "duration": 782,
    "start_time": "2024-02-24T16:57:06.445Z"
   },
   {
    "duration": 5450,
    "start_time": "2024-02-24T16:57:07.228Z"
   },
   {
    "duration": 16,
    "start_time": "2024-02-24T16:57:12.680Z"
   },
   {
    "duration": 201,
    "start_time": "2024-02-24T16:57:12.699Z"
   },
   {
    "duration": 2,
    "start_time": "2024-02-24T16:57:12.902Z"
   },
   {
    "duration": 412,
    "start_time": "2024-02-24T16:57:12.905Z"
   },
   {
    "duration": 142,
    "start_time": "2024-02-24T16:57:13.320Z"
   },
   {
    "duration": 238,
    "start_time": "2024-02-24T16:57:13.464Z"
   },
   {
    "duration": 311,
    "start_time": "2024-02-24T16:57:13.704Z"
   },
   {
    "duration": 261,
    "start_time": "2024-02-24T16:57:14.017Z"
   },
   {
    "duration": 81,
    "start_time": "2024-02-24T16:57:14.280Z"
   },
   {
    "duration": 37,
    "start_time": "2024-02-24T16:57:14.362Z"
   },
   {
    "duration": 12,
    "start_time": "2024-02-24T16:57:14.405Z"
   },
   {
    "duration": 107,
    "start_time": "2024-02-24T16:57:14.418Z"
   },
   {
    "duration": 99,
    "start_time": "2024-02-24T16:57:14.527Z"
   },
   {
    "duration": 101,
    "start_time": "2024-02-24T16:57:14.628Z"
   },
   {
    "duration": 81,
    "start_time": "2024-02-24T16:57:14.731Z"
   },
   {
    "duration": 95,
    "start_time": "2024-02-24T16:57:14.817Z"
   },
   {
    "duration": 13,
    "start_time": "2024-02-24T16:57:14.918Z"
   },
   {
    "duration": 214,
    "start_time": "2024-02-24T16:57:14.933Z"
   },
   {
    "duration": 1137,
    "start_time": "2024-02-24T16:58:18.151Z"
   },
   {
    "duration": 201,
    "start_time": "2024-02-24T16:58:19.289Z"
   },
   {
    "duration": 39,
    "start_time": "2024-02-24T16:58:19.491Z"
   },
   {
    "duration": 60,
    "start_time": "2024-02-24T16:58:19.531Z"
   },
   {
    "duration": 52,
    "start_time": "2024-02-24T16:58:19.593Z"
   },
   {
    "duration": 9,
    "start_time": "2024-02-24T16:58:19.646Z"
   },
   {
    "duration": 251,
    "start_time": "2024-02-24T16:58:19.657Z"
   },
   {
    "duration": 39,
    "start_time": "2024-02-24T16:58:19.916Z"
   },
   {
    "duration": 692,
    "start_time": "2024-02-24T16:58:19.957Z"
   },
   {
    "duration": 662,
    "start_time": "2024-02-24T16:58:20.651Z"
   },
   {
    "duration": 769,
    "start_time": "2024-02-24T16:58:21.314Z"
   },
   {
    "duration": 5293,
    "start_time": "2024-02-24T16:58:22.085Z"
   },
   {
    "duration": 13,
    "start_time": "2024-02-24T16:58:27.379Z"
   },
   {
    "duration": 228,
    "start_time": "2024-02-24T16:58:27.396Z"
   },
   {
    "duration": 2,
    "start_time": "2024-02-24T16:58:27.628Z"
   },
   {
    "duration": 387,
    "start_time": "2024-02-24T16:58:27.632Z"
   },
   {
    "duration": 136,
    "start_time": "2024-02-24T16:58:28.020Z"
   },
   {
    "duration": 202,
    "start_time": "2024-02-24T16:58:28.158Z"
   },
   {
    "duration": 306,
    "start_time": "2024-02-24T16:58:28.362Z"
   },
   {
    "duration": 292,
    "start_time": "2024-02-24T16:58:28.669Z"
   },
   {
    "duration": 90,
    "start_time": "2024-02-24T16:58:28.963Z"
   },
   {
    "duration": 43,
    "start_time": "2024-02-24T16:58:29.057Z"
   },
   {
    "duration": 11,
    "start_time": "2024-02-24T16:58:29.114Z"
   },
   {
    "duration": 77,
    "start_time": "2024-02-24T16:58:29.130Z"
   },
   {
    "duration": 94,
    "start_time": "2024-02-24T16:58:29.211Z"
   },
   {
    "duration": 101,
    "start_time": "2024-02-24T16:58:29.306Z"
   },
   {
    "duration": 161,
    "start_time": "2024-02-24T16:58:29.409Z"
   },
   {
    "duration": 198,
    "start_time": "2024-02-24T16:58:29.571Z"
   },
   {
    "duration": 7,
    "start_time": "2024-02-24T16:58:42.582Z"
   },
   {
    "duration": 1192,
    "start_time": "2024-02-24T16:59:49.980Z"
   },
   {
    "duration": 197,
    "start_time": "2024-02-24T16:59:51.174Z"
   },
   {
    "duration": 26,
    "start_time": "2024-02-24T16:59:51.373Z"
   },
   {
    "duration": 87,
    "start_time": "2024-02-24T16:59:51.401Z"
   },
   {
    "duration": 54,
    "start_time": "2024-02-24T16:59:51.490Z"
   },
   {
    "duration": 26,
    "start_time": "2024-02-24T16:59:51.545Z"
   },
   {
    "duration": 235,
    "start_time": "2024-02-24T16:59:51.572Z"
   },
   {
    "duration": 42,
    "start_time": "2024-02-24T16:59:51.809Z"
   },
   {
    "duration": 708,
    "start_time": "2024-02-24T16:59:51.852Z"
   },
   {
    "duration": 699,
    "start_time": "2024-02-24T16:59:52.562Z"
   },
   {
    "duration": 803,
    "start_time": "2024-02-24T16:59:53.263Z"
   },
   {
    "duration": 5390,
    "start_time": "2024-02-24T16:59:54.068Z"
   },
   {
    "duration": 18,
    "start_time": "2024-02-24T16:59:59.460Z"
   },
   {
    "duration": 192,
    "start_time": "2024-02-24T16:59:59.481Z"
   },
   {
    "duration": 3,
    "start_time": "2024-02-24T16:59:59.674Z"
   },
   {
    "duration": 395,
    "start_time": "2024-02-24T16:59:59.678Z"
   },
   {
    "duration": 165,
    "start_time": "2024-02-24T17:00:00.075Z"
   },
   {
    "duration": 217,
    "start_time": "2024-02-24T17:00:00.241Z"
   },
   {
    "duration": 299,
    "start_time": "2024-02-24T17:00:00.459Z"
   },
   {
    "duration": 312,
    "start_time": "2024-02-24T17:00:00.760Z"
   },
   {
    "duration": 71,
    "start_time": "2024-02-24T17:00:01.074Z"
   },
   {
    "duration": 33,
    "start_time": "2024-02-24T17:00:01.146Z"
   },
   {
    "duration": 26,
    "start_time": "2024-02-24T17:00:01.181Z"
   },
   {
    "duration": 117,
    "start_time": "2024-02-24T17:00:01.214Z"
   },
   {
    "duration": 98,
    "start_time": "2024-02-24T17:00:01.333Z"
   },
   {
    "duration": 109,
    "start_time": "2024-02-24T17:00:01.433Z"
   },
   {
    "duration": 174,
    "start_time": "2024-02-24T17:00:01.543Z"
   },
   {
    "duration": 114,
    "start_time": "2024-02-24T17:00:01.723Z"
   },
   {
    "duration": 0,
    "start_time": "2024-02-24T17:00:01.839Z"
   },
   {
    "duration": 18,
    "start_time": "2024-02-24T17:00:11.419Z"
   },
   {
    "duration": 1195,
    "start_time": "2024-02-24T17:02:08.047Z"
   },
   {
    "duration": 232,
    "start_time": "2024-02-24T17:02:09.244Z"
   },
   {
    "duration": 42,
    "start_time": "2024-02-24T17:02:09.477Z"
   },
   {
    "duration": 82,
    "start_time": "2024-02-24T17:02:09.526Z"
   },
   {
    "duration": 48,
    "start_time": "2024-02-24T17:02:09.614Z"
   },
   {
    "duration": 9,
    "start_time": "2024-02-24T17:02:09.664Z"
   },
   {
    "duration": 258,
    "start_time": "2024-02-24T17:02:09.674Z"
   },
   {
    "duration": 32,
    "start_time": "2024-02-24T17:02:09.933Z"
   },
   {
    "duration": 706,
    "start_time": "2024-02-24T17:02:09.967Z"
   },
   {
    "duration": 774,
    "start_time": "2024-02-24T17:02:10.674Z"
   },
   {
    "duration": 806,
    "start_time": "2024-02-24T17:02:11.450Z"
   },
   {
    "duration": 5317,
    "start_time": "2024-02-24T17:02:12.257Z"
   },
   {
    "duration": 14,
    "start_time": "2024-02-24T17:02:17.576Z"
   },
   {
    "duration": 186,
    "start_time": "2024-02-24T17:02:17.593Z"
   },
   {
    "duration": 2,
    "start_time": "2024-02-24T17:02:17.781Z"
   },
   {
    "duration": 397,
    "start_time": "2024-02-24T17:02:17.784Z"
   },
   {
    "duration": 168,
    "start_time": "2024-02-24T17:02:18.183Z"
   },
   {
    "duration": 220,
    "start_time": "2024-02-24T17:02:18.353Z"
   },
   {
    "duration": 295,
    "start_time": "2024-02-24T17:02:18.575Z"
   },
   {
    "duration": 291,
    "start_time": "2024-02-24T17:02:18.871Z"
   },
   {
    "duration": 74,
    "start_time": "2024-02-24T17:02:19.163Z"
   },
   {
    "duration": 31,
    "start_time": "2024-02-24T17:02:19.238Z"
   },
   {
    "duration": 7,
    "start_time": "2024-02-24T17:02:19.270Z"
   },
   {
    "duration": 102,
    "start_time": "2024-02-24T17:02:19.278Z"
   },
   {
    "duration": 100,
    "start_time": "2024-02-24T17:02:19.381Z"
   },
   {
    "duration": 114,
    "start_time": "2024-02-24T17:02:19.483Z"
   },
   {
    "duration": 181,
    "start_time": "2024-02-24T17:02:19.607Z"
   },
   {
    "duration": 17,
    "start_time": "2024-02-24T17:02:19.790Z"
   },
   {
    "duration": 104,
    "start_time": "2024-02-24T17:02:19.809Z"
   },
   {
    "duration": 160,
    "start_time": "2024-02-24T17:03:19.615Z"
   },
   {
    "duration": 1266,
    "start_time": "2024-02-24T17:03:36.399Z"
   },
   {
    "duration": 217,
    "start_time": "2024-02-24T17:03:37.667Z"
   },
   {
    "duration": 32,
    "start_time": "2024-02-24T17:03:37.886Z"
   },
   {
    "duration": 97,
    "start_time": "2024-02-24T17:03:37.920Z"
   },
   {
    "duration": 44,
    "start_time": "2024-02-24T17:03:38.020Z"
   },
   {
    "duration": 11,
    "start_time": "2024-02-24T17:03:38.066Z"
   },
   {
    "duration": 318,
    "start_time": "2024-02-24T17:03:38.079Z"
   },
   {
    "duration": 64,
    "start_time": "2024-02-24T17:03:38.399Z"
   },
   {
    "duration": 828,
    "start_time": "2024-02-24T17:03:38.465Z"
   },
   {
    "duration": 749,
    "start_time": "2024-02-24T17:03:39.297Z"
   },
   {
    "duration": 773,
    "start_time": "2024-02-24T17:03:40.048Z"
   },
   {
    "duration": 5544,
    "start_time": "2024-02-24T17:03:40.823Z"
   },
   {
    "duration": 20,
    "start_time": "2024-02-24T17:03:46.369Z"
   },
   {
    "duration": 281,
    "start_time": "2024-02-24T17:03:46.393Z"
   },
   {
    "duration": 3,
    "start_time": "2024-02-24T17:03:46.675Z"
   },
   {
    "duration": 491,
    "start_time": "2024-02-24T17:03:46.680Z"
   },
   {
    "duration": 200,
    "start_time": "2024-02-24T17:03:47.173Z"
   },
   {
    "duration": 307,
    "start_time": "2024-02-24T17:03:47.375Z"
   },
   {
    "duration": 424,
    "start_time": "2024-02-24T17:03:47.683Z"
   },
   {
    "duration": 314,
    "start_time": "2024-02-24T17:03:48.109Z"
   },
   {
    "duration": 100,
    "start_time": "2024-02-24T17:03:48.425Z"
   },
   {
    "duration": 46,
    "start_time": "2024-02-24T17:03:48.526Z"
   },
   {
    "duration": 23,
    "start_time": "2024-02-24T17:03:48.574Z"
   },
   {
    "duration": 126,
    "start_time": "2024-02-24T17:03:48.601Z"
   },
   {
    "duration": 133,
    "start_time": "2024-02-24T17:03:48.729Z"
   },
   {
    "duration": 129,
    "start_time": "2024-02-24T17:03:48.864Z"
   },
   {
    "duration": 197,
    "start_time": "2024-02-24T17:03:49.006Z"
   },
   {
    "duration": 161,
    "start_time": "2024-02-24T17:03:49.209Z"
   },
   {
    "duration": 25,
    "start_time": "2024-02-24T17:04:07.434Z"
   },
   {
    "duration": 29,
    "start_time": "2024-02-24T17:04:28.175Z"
   },
   {
    "duration": 257,
    "start_time": "2024-02-24T17:04:45.387Z"
   },
   {
    "duration": 26,
    "start_time": "2024-02-24T17:04:46.954Z"
   },
   {
    "duration": 15,
    "start_time": "2024-02-24T17:05:37.136Z"
   },
   {
    "duration": 27,
    "start_time": "2024-02-24T17:05:45.275Z"
   },
   {
    "duration": 22,
    "start_time": "2024-02-24T17:06:00.954Z"
   },
   {
    "duration": 50,
    "start_time": "2024-02-24T17:06:06.496Z"
   },
   {
    "duration": 7,
    "start_time": "2024-02-24T17:06:28.747Z"
   },
   {
    "duration": 13,
    "start_time": "2024-02-24T17:06:49.046Z"
   },
   {
    "duration": 6,
    "start_time": "2024-02-24T17:08:34.148Z"
   },
   {
    "duration": 38,
    "start_time": "2024-02-24T17:09:06.840Z"
   },
   {
    "duration": 1362,
    "start_time": "2024-02-24T17:10:31.125Z"
   },
   {
    "duration": 225,
    "start_time": "2024-02-24T17:10:32.489Z"
   },
   {
    "duration": 36,
    "start_time": "2024-02-24T17:10:32.716Z"
   },
   {
    "duration": 93,
    "start_time": "2024-02-24T17:10:32.753Z"
   },
   {
    "duration": 42,
    "start_time": "2024-02-24T17:10:32.848Z"
   },
   {
    "duration": 28,
    "start_time": "2024-02-24T17:10:32.892Z"
   },
   {
    "duration": 248,
    "start_time": "2024-02-24T17:10:32.922Z"
   },
   {
    "duration": 46,
    "start_time": "2024-02-24T17:10:33.172Z"
   },
   {
    "duration": 832,
    "start_time": "2024-02-24T17:10:33.219Z"
   },
   {
    "duration": 829,
    "start_time": "2024-02-24T17:10:34.053Z"
   },
   {
    "duration": 1066,
    "start_time": "2024-02-24T17:10:34.884Z"
   },
   {
    "duration": 5852,
    "start_time": "2024-02-24T17:10:35.951Z"
   },
   {
    "duration": 38,
    "start_time": "2024-02-24T17:10:41.805Z"
   },
   {
    "duration": 206,
    "start_time": "2024-02-24T17:10:41.846Z"
   },
   {
    "duration": 2,
    "start_time": "2024-02-24T17:10:42.054Z"
   },
   {
    "duration": 422,
    "start_time": "2024-02-24T17:10:42.057Z"
   },
   {
    "duration": 174,
    "start_time": "2024-02-24T17:10:42.481Z"
   },
   {
    "duration": 268,
    "start_time": "2024-02-24T17:10:42.657Z"
   },
   {
    "duration": 337,
    "start_time": "2024-02-24T17:10:42.935Z"
   },
   {
    "duration": 286,
    "start_time": "2024-02-24T17:10:43.273Z"
   },
   {
    "duration": 82,
    "start_time": "2024-02-24T17:10:43.561Z"
   },
   {
    "duration": 42,
    "start_time": "2024-02-24T17:10:43.646Z"
   },
   {
    "duration": 15,
    "start_time": "2024-02-24T17:10:43.689Z"
   },
   {
    "duration": 109,
    "start_time": "2024-02-24T17:10:43.706Z"
   },
   {
    "duration": 130,
    "start_time": "2024-02-24T17:10:43.816Z"
   },
   {
    "duration": 99,
    "start_time": "2024-02-24T17:10:43.948Z"
   },
   {
    "duration": 186,
    "start_time": "2024-02-24T17:10:44.048Z"
   },
   {
    "duration": 39,
    "start_time": "2024-02-24T17:10:44.236Z"
   },
   {
    "duration": 146,
    "start_time": "2024-02-24T17:10:44.277Z"
   },
   {
    "duration": 45,
    "start_time": "2024-02-24T17:11:16.016Z"
   },
   {
    "duration": 33,
    "start_time": "2024-02-24T17:11:44.042Z"
   },
   {
    "duration": 45,
    "start_time": "2024-02-24T17:12:20.314Z"
   },
   {
    "duration": 36,
    "start_time": "2024-02-24T17:12:26.435Z"
   },
   {
    "duration": 48,
    "start_time": "2024-02-24T17:13:06.573Z"
   },
   {
    "duration": 56,
    "start_time": "2024-02-24T17:13:11.861Z"
   },
   {
    "duration": 54,
    "start_time": "2024-02-24T17:13:54.481Z"
   },
   {
    "duration": 1654,
    "start_time": "2024-02-24T17:14:34.526Z"
   },
   {
    "duration": 1687,
    "start_time": "2024-02-24T17:14:51.123Z"
   },
   {
    "duration": 1716,
    "start_time": "2024-02-24T17:15:06.601Z"
   },
   {
    "duration": 31,
    "start_time": "2024-02-24T17:15:18.829Z"
   },
   {
    "duration": 45,
    "start_time": "2024-02-24T17:15:25.601Z"
   },
   {
    "duration": 52,
    "start_time": "2024-02-24T17:15:32.093Z"
   },
   {
    "duration": 1642,
    "start_time": "2024-02-24T17:15:45.240Z"
   },
   {
    "duration": 57,
    "start_time": "2024-02-24T17:15:54.161Z"
   },
   {
    "duration": 44,
    "start_time": "2024-02-24T17:16:39.508Z"
   },
   {
    "duration": 1698,
    "start_time": "2024-02-24T17:17:03.961Z"
   },
   {
    "duration": 47,
    "start_time": "2024-02-24T17:17:21.259Z"
   },
   {
    "duration": 1622,
    "start_time": "2024-02-24T17:17:41.439Z"
   },
   {
    "duration": 1862,
    "start_time": "2024-02-24T17:17:51.780Z"
   },
   {
    "duration": 43,
    "start_time": "2024-02-24T17:18:04.072Z"
   },
   {
    "duration": 48,
    "start_time": "2024-02-24T17:18:12.478Z"
   },
   {
    "duration": 33,
    "start_time": "2024-02-24T17:18:20.439Z"
   },
   {
    "duration": 44,
    "start_time": "2024-02-24T17:18:52.300Z"
   },
   {
    "duration": 41,
    "start_time": "2024-02-24T17:20:01.871Z"
   },
   {
    "duration": 44,
    "start_time": "2024-02-24T17:20:04.478Z"
   },
   {
    "duration": 60,
    "start_time": "2024-02-24T17:20:11.359Z"
   },
   {
    "duration": 1271,
    "start_time": "2024-02-24T17:20:33.685Z"
   },
   {
    "duration": 223,
    "start_time": "2024-02-24T17:20:34.958Z"
   },
   {
    "duration": 37,
    "start_time": "2024-02-24T17:20:35.182Z"
   },
   {
    "duration": 87,
    "start_time": "2024-02-24T17:20:35.222Z"
   },
   {
    "duration": 45,
    "start_time": "2024-02-24T17:20:35.316Z"
   },
   {
    "duration": 10,
    "start_time": "2024-02-24T17:20:35.362Z"
   },
   {
    "duration": 287,
    "start_time": "2024-02-24T17:20:35.374Z"
   },
   {
    "duration": 37,
    "start_time": "2024-02-24T17:20:35.663Z"
   },
   {
    "duration": 752,
    "start_time": "2024-02-24T17:20:35.708Z"
   },
   {
    "duration": 757,
    "start_time": "2024-02-24T17:20:36.462Z"
   },
   {
    "duration": 792,
    "start_time": "2024-02-24T17:20:37.221Z"
   },
   {
    "duration": 5597,
    "start_time": "2024-02-24T17:20:38.017Z"
   },
   {
    "duration": 13,
    "start_time": "2024-02-24T17:20:43.616Z"
   },
   {
    "duration": 188,
    "start_time": "2024-02-24T17:20:43.632Z"
   },
   {
    "duration": 4,
    "start_time": "2024-02-24T17:20:43.823Z"
   },
   {
    "duration": 433,
    "start_time": "2024-02-24T17:20:43.829Z"
   },
   {
    "duration": 173,
    "start_time": "2024-02-24T17:20:44.264Z"
   },
   {
    "duration": 224,
    "start_time": "2024-02-24T17:20:44.439Z"
   },
   {
    "duration": 309,
    "start_time": "2024-02-24T17:20:44.665Z"
   },
   {
    "duration": 308,
    "start_time": "2024-02-24T17:20:44.976Z"
   },
   {
    "duration": 93,
    "start_time": "2024-02-24T17:20:45.286Z"
   },
   {
    "duration": 55,
    "start_time": "2024-02-24T17:20:45.381Z"
   },
   {
    "duration": 9,
    "start_time": "2024-02-24T17:20:45.437Z"
   },
   {
    "duration": 163,
    "start_time": "2024-02-24T17:20:45.448Z"
   },
   {
    "duration": 102,
    "start_time": "2024-02-24T17:20:45.618Z"
   },
   {
    "duration": 98,
    "start_time": "2024-02-24T17:20:45.727Z"
   },
   {
    "duration": 199,
    "start_time": "2024-02-24T17:20:45.831Z"
   },
   {
    "duration": 127,
    "start_time": "2024-02-24T17:20:46.034Z"
   },
   {
    "duration": 17,
    "start_time": "2024-02-24T17:21:21.258Z"
   },
   {
    "duration": 11,
    "start_time": "2024-02-24T17:21:46.427Z"
   },
   {
    "duration": 21,
    "start_time": "2024-02-24T17:22:22.943Z"
   },
   {
    "duration": 24,
    "start_time": "2024-02-24T17:22:35.844Z"
   },
   {
    "duration": 5,
    "start_time": "2024-02-24T17:22:54.856Z"
   },
   {
    "duration": 239,
    "start_time": "2024-02-24T17:23:03.264Z"
   },
   {
    "duration": 6,
    "start_time": "2024-02-24T17:23:03.729Z"
   },
   {
    "duration": 1215,
    "start_time": "2024-02-24T17:23:46.078Z"
   },
   {
    "duration": 222,
    "start_time": "2024-02-24T17:23:47.298Z"
   },
   {
    "duration": 28,
    "start_time": "2024-02-24T17:23:47.522Z"
   },
   {
    "duration": 86,
    "start_time": "2024-02-24T17:23:47.552Z"
   },
   {
    "duration": 45,
    "start_time": "2024-02-24T17:23:47.640Z"
   },
   {
    "duration": 23,
    "start_time": "2024-02-24T17:23:47.698Z"
   },
   {
    "duration": 234,
    "start_time": "2024-02-24T17:23:47.723Z"
   },
   {
    "duration": 40,
    "start_time": "2024-02-24T17:23:47.959Z"
   },
   {
    "duration": 666,
    "start_time": "2024-02-24T17:23:48.009Z"
   },
   {
    "duration": 715,
    "start_time": "2024-02-24T17:23:48.677Z"
   },
   {
    "duration": 780,
    "start_time": "2024-02-24T17:23:49.402Z"
   },
   {
    "duration": 5334,
    "start_time": "2024-02-24T17:23:50.184Z"
   },
   {
    "duration": 13,
    "start_time": "2024-02-24T17:23:55.520Z"
   },
   {
    "duration": 191,
    "start_time": "2024-02-24T17:23:55.535Z"
   },
   {
    "duration": 2,
    "start_time": "2024-02-24T17:23:55.727Z"
   },
   {
    "duration": 380,
    "start_time": "2024-02-24T17:23:55.731Z"
   },
   {
    "duration": 142,
    "start_time": "2024-02-24T17:23:56.114Z"
   },
   {
    "duration": 229,
    "start_time": "2024-02-24T17:23:56.258Z"
   },
   {
    "duration": 286,
    "start_time": "2024-02-24T17:23:56.488Z"
   },
   {
    "duration": 284,
    "start_time": "2024-02-24T17:23:56.775Z"
   },
   {
    "duration": 74,
    "start_time": "2024-02-24T17:23:57.061Z"
   },
   {
    "duration": 31,
    "start_time": "2024-02-24T17:23:57.137Z"
   },
   {
    "duration": 29,
    "start_time": "2024-02-24T17:23:57.170Z"
   },
   {
    "duration": 88,
    "start_time": "2024-02-24T17:23:57.204Z"
   },
   {
    "duration": 131,
    "start_time": "2024-02-24T17:23:57.293Z"
   },
   {
    "duration": 116,
    "start_time": "2024-02-24T17:23:57.426Z"
   },
   {
    "duration": 292,
    "start_time": "2024-02-24T17:23:57.554Z"
   },
   {
    "duration": 0,
    "start_time": "2024-02-24T17:23:57.847Z"
   },
   {
    "duration": 237,
    "start_time": "2024-02-24T17:24:09.718Z"
   },
   {
    "duration": 27,
    "start_time": "2024-02-24T17:24:12.192Z"
   },
   {
    "duration": 1173,
    "start_time": "2024-02-24T17:24:39.760Z"
   },
   {
    "duration": 209,
    "start_time": "2024-02-24T17:24:40.935Z"
   },
   {
    "duration": 21,
    "start_time": "2024-02-24T17:24:41.146Z"
   },
   {
    "duration": 86,
    "start_time": "2024-02-24T17:24:41.169Z"
   },
   {
    "duration": 49,
    "start_time": "2024-02-24T17:24:41.257Z"
   },
   {
    "duration": 18,
    "start_time": "2024-02-24T17:24:41.307Z"
   },
   {
    "duration": 255,
    "start_time": "2024-02-24T17:24:41.326Z"
   },
   {
    "duration": 53,
    "start_time": "2024-02-24T17:24:41.583Z"
   },
   {
    "duration": 711,
    "start_time": "2024-02-24T17:24:41.638Z"
   },
   {
    "duration": 690,
    "start_time": "2024-02-24T17:24:42.350Z"
   },
   {
    "duration": 803,
    "start_time": "2024-02-24T17:24:43.042Z"
   },
   {
    "duration": 5375,
    "start_time": "2024-02-24T17:24:43.847Z"
   },
   {
    "duration": 17,
    "start_time": "2024-02-24T17:24:49.225Z"
   },
   {
    "duration": 188,
    "start_time": "2024-02-24T17:24:49.245Z"
   },
   {
    "duration": 3,
    "start_time": "2024-02-24T17:24:49.437Z"
   },
   {
    "duration": 390,
    "start_time": "2024-02-24T17:24:49.442Z"
   },
   {
    "duration": 146,
    "start_time": "2024-02-24T17:24:49.834Z"
   },
   {
    "duration": 243,
    "start_time": "2024-02-24T17:24:49.982Z"
   },
   {
    "duration": 300,
    "start_time": "2024-02-24T17:24:50.227Z"
   },
   {
    "duration": 248,
    "start_time": "2024-02-24T17:24:50.529Z"
   },
   {
    "duration": 81,
    "start_time": "2024-02-24T17:24:50.778Z"
   },
   {
    "duration": 54,
    "start_time": "2024-02-24T17:24:50.860Z"
   },
   {
    "duration": 11,
    "start_time": "2024-02-24T17:24:50.915Z"
   },
   {
    "duration": 83,
    "start_time": "2024-02-24T17:24:50.927Z"
   },
   {
    "duration": 115,
    "start_time": "2024-02-24T17:24:51.014Z"
   },
   {
    "duration": 103,
    "start_time": "2024-02-24T17:24:51.131Z"
   },
   {
    "duration": 207,
    "start_time": "2024-02-24T17:24:51.236Z"
   },
   {
    "duration": 2,
    "start_time": "2024-02-24T17:25:51.919Z"
   },
   {
    "duration": 1065,
    "start_time": "2024-02-24T18:07:16.652Z"
   },
   {
    "duration": 195,
    "start_time": "2024-02-24T18:07:17.718Z"
   },
   {
    "duration": 22,
    "start_time": "2024-02-24T18:07:17.914Z"
   },
   {
    "duration": 59,
    "start_time": "2024-02-24T18:07:17.937Z"
   },
   {
    "duration": 54,
    "start_time": "2024-02-24T18:07:17.998Z"
   },
   {
    "duration": 11,
    "start_time": "2024-02-24T18:07:18.053Z"
   },
   {
    "duration": 233,
    "start_time": "2024-02-24T18:07:18.065Z"
   },
   {
    "duration": 33,
    "start_time": "2024-02-24T18:07:18.300Z"
   },
   {
    "duration": 583,
    "start_time": "2024-02-24T18:07:18.334Z"
   },
   {
    "duration": 580,
    "start_time": "2024-02-24T18:07:18.919Z"
   },
   {
    "duration": 666,
    "start_time": "2024-02-24T18:07:19.501Z"
   },
   {
    "duration": 4537,
    "start_time": "2024-02-24T18:07:20.168Z"
   },
   {
    "duration": 12,
    "start_time": "2024-02-24T18:07:24.707Z"
   },
   {
    "duration": 169,
    "start_time": "2024-02-24T18:07:24.720Z"
   },
   {
    "duration": 3,
    "start_time": "2024-02-24T18:07:24.890Z"
   },
   {
    "duration": 317,
    "start_time": "2024-02-24T18:07:24.895Z"
   },
   {
    "duration": 137,
    "start_time": "2024-02-24T18:07:25.214Z"
   },
   {
    "duration": 191,
    "start_time": "2024-02-24T18:07:25.352Z"
   },
   {
    "duration": 258,
    "start_time": "2024-02-24T18:07:25.544Z"
   },
   {
    "duration": 286,
    "start_time": "2024-02-24T18:07:25.804Z"
   },
   {
    "duration": 68,
    "start_time": "2024-02-24T18:07:26.091Z"
   },
   {
    "duration": 31,
    "start_time": "2024-02-24T18:07:26.160Z"
   },
   {
    "duration": 6,
    "start_time": "2024-02-24T18:07:26.192Z"
   },
   {
    "duration": 88,
    "start_time": "2024-02-24T18:07:26.200Z"
   },
   {
    "duration": 89,
    "start_time": "2024-02-24T18:07:26.290Z"
   },
   {
    "duration": 85,
    "start_time": "2024-02-24T18:07:26.380Z"
   },
   {
    "duration": 191,
    "start_time": "2024-02-24T18:07:26.467Z"
   },
   {
    "duration": 2,
    "start_time": "2024-02-24T18:07:26.661Z"
   },
   {
    "duration": 16,
    "start_time": "2024-02-24T18:07:26.665Z"
   },
   {
    "duration": 1403,
    "start_time": "2024-02-25T10:38:24.014Z"
   },
   {
    "duration": 710,
    "start_time": "2024-02-25T10:38:27.427Z"
   },
   {
    "duration": 23,
    "start_time": "2024-02-25T10:38:28.139Z"
   },
   {
    "duration": 70,
    "start_time": "2024-02-25T10:38:28.164Z"
   },
   {
    "duration": 45,
    "start_time": "2024-02-25T10:38:29.154Z"
   },
   {
    "duration": 12,
    "start_time": "2024-02-25T10:38:29.738Z"
   },
   {
    "duration": 225,
    "start_time": "2024-02-25T10:38:31.026Z"
   },
   {
    "duration": 14,
    "start_time": "2024-02-25T10:39:12.408Z"
   },
   {
    "duration": 18,
    "start_time": "2024-02-25T10:39:33.307Z"
   },
   {
    "duration": 19,
    "start_time": "2024-02-25T10:39:53.898Z"
   },
   {
    "duration": 1171,
    "start_time": "2024-02-25T10:42:11.937Z"
   },
   {
    "duration": 198,
    "start_time": "2024-02-25T10:42:13.110Z"
   },
   {
    "duration": 23,
    "start_time": "2024-02-25T10:42:13.310Z"
   },
   {
    "duration": 85,
    "start_time": "2024-02-25T10:42:13.335Z"
   },
   {
    "duration": 44,
    "start_time": "2024-02-25T10:42:13.423Z"
   },
   {
    "duration": 12,
    "start_time": "2024-02-25T10:42:13.480Z"
   },
   {
    "duration": 236,
    "start_time": "2024-02-25T10:42:13.494Z"
   },
   {
    "duration": 19,
    "start_time": "2024-02-25T10:42:13.732Z"
   },
   {
    "duration": 54,
    "start_time": "2024-02-25T10:42:13.753Z"
   },
   {
    "duration": 690,
    "start_time": "2024-02-25T10:42:13.809Z"
   },
   {
    "duration": 693,
    "start_time": "2024-02-25T10:42:14.501Z"
   },
   {
    "duration": 769,
    "start_time": "2024-02-25T10:42:15.196Z"
   },
   {
    "duration": 5211,
    "start_time": "2024-02-25T10:42:15.967Z"
   },
   {
    "duration": 14,
    "start_time": "2024-02-25T10:42:21.181Z"
   },
   {
    "duration": 194,
    "start_time": "2024-02-25T10:42:21.197Z"
   },
   {
    "duration": 3,
    "start_time": "2024-02-25T10:42:21.393Z"
   },
   {
    "duration": 395,
    "start_time": "2024-02-25T10:42:21.397Z"
   },
   {
    "duration": 144,
    "start_time": "2024-02-25T10:42:21.794Z"
   },
   {
    "duration": 247,
    "start_time": "2024-02-25T10:42:21.940Z"
   },
   {
    "duration": 291,
    "start_time": "2024-02-25T10:42:22.188Z"
   },
   {
    "duration": 278,
    "start_time": "2024-02-25T10:42:22.480Z"
   },
   {
    "duration": 70,
    "start_time": "2024-02-25T10:42:22.759Z"
   },
   {
    "duration": 34,
    "start_time": "2024-02-25T10:42:22.830Z"
   },
   {
    "duration": 23,
    "start_time": "2024-02-25T10:42:22.866Z"
   },
   {
    "duration": 119,
    "start_time": "2024-02-25T10:42:22.891Z"
   },
   {
    "duration": 106,
    "start_time": "2024-02-25T10:42:23.011Z"
   },
   {
    "duration": 101,
    "start_time": "2024-02-25T10:42:23.119Z"
   },
   {
    "duration": 206,
    "start_time": "2024-02-25T10:42:23.222Z"
   },
   {
    "duration": 3,
    "start_time": "2024-02-25T10:42:23.429Z"
   },
   {
    "duration": 13,
    "start_time": "2024-02-25T10:42:23.433Z"
   },
   {
    "duration": 1284,
    "start_time": "2024-02-25T10:44:25.183Z"
   },
   {
    "duration": 203,
    "start_time": "2024-02-25T10:44:26.469Z"
   },
   {
    "duration": 25,
    "start_time": "2024-02-25T10:44:26.674Z"
   },
   {
    "duration": 78,
    "start_time": "2024-02-25T10:44:26.702Z"
   },
   {
    "duration": 47,
    "start_time": "2024-02-25T10:44:26.781Z"
   },
   {
    "duration": 43,
    "start_time": "2024-02-25T10:44:26.830Z"
   },
   {
    "duration": 226,
    "start_time": "2024-02-25T10:44:26.874Z"
   },
   {
    "duration": 17,
    "start_time": "2024-02-25T10:44:27.102Z"
   },
   {
    "duration": 34,
    "start_time": "2024-02-25T10:44:27.120Z"
   },
   {
    "duration": 694,
    "start_time": "2024-02-25T10:44:27.156Z"
   },
   {
    "duration": 668,
    "start_time": "2024-02-25T10:44:27.852Z"
   },
   {
    "duration": 773,
    "start_time": "2024-02-25T10:44:28.522Z"
   },
   {
    "duration": 5104,
    "start_time": "2024-02-25T10:44:29.297Z"
   },
   {
    "duration": 14,
    "start_time": "2024-02-25T10:44:34.403Z"
   },
   {
    "duration": 188,
    "start_time": "2024-02-25T10:44:34.418Z"
   },
   {
    "duration": 3,
    "start_time": "2024-02-25T10:44:34.607Z"
   },
   {
    "duration": 380,
    "start_time": "2024-02-25T10:44:34.611Z"
   },
   {
    "duration": 149,
    "start_time": "2024-02-25T10:44:34.993Z"
   },
   {
    "duration": 222,
    "start_time": "2024-02-25T10:44:35.144Z"
   },
   {
    "duration": 287,
    "start_time": "2024-02-25T10:44:35.368Z"
   },
   {
    "duration": 299,
    "start_time": "2024-02-25T10:44:35.656Z"
   },
   {
    "duration": 69,
    "start_time": "2024-02-25T10:44:35.956Z"
   },
   {
    "duration": 40,
    "start_time": "2024-02-25T10:44:36.026Z"
   },
   {
    "duration": 6,
    "start_time": "2024-02-25T10:44:36.080Z"
   },
   {
    "duration": 81,
    "start_time": "2024-02-25T10:44:36.088Z"
   },
   {
    "duration": 109,
    "start_time": "2024-02-25T10:44:36.171Z"
   },
   {
    "duration": 99,
    "start_time": "2024-02-25T10:44:36.282Z"
   },
   {
    "duration": 211,
    "start_time": "2024-02-25T10:44:36.384Z"
   },
   {
    "duration": 2,
    "start_time": "2024-02-25T10:44:36.596Z"
   },
   {
    "duration": 20,
    "start_time": "2024-02-25T10:44:36.600Z"
   },
   {
    "duration": 1200,
    "start_time": "2024-02-25T10:45:21.602Z"
   },
   {
    "duration": 192,
    "start_time": "2024-02-25T10:45:22.804Z"
   },
   {
    "duration": 23,
    "start_time": "2024-02-25T10:45:22.997Z"
   },
   {
    "duration": 85,
    "start_time": "2024-02-25T10:45:23.022Z"
   },
   {
    "duration": 48,
    "start_time": "2024-02-25T10:45:23.109Z"
   },
   {
    "duration": 23,
    "start_time": "2024-02-25T10:45:23.159Z"
   },
   {
    "duration": 253,
    "start_time": "2024-02-25T10:45:23.184Z"
   },
   {
    "duration": 17,
    "start_time": "2024-02-25T10:45:23.438Z"
   },
   {
    "duration": 48,
    "start_time": "2024-02-25T10:45:23.457Z"
   },
   {
    "duration": 675,
    "start_time": "2024-02-25T10:45:23.507Z"
   },
   {
    "duration": 698,
    "start_time": "2024-02-25T10:45:24.184Z"
   },
   {
    "duration": 731,
    "start_time": "2024-02-25T10:45:24.884Z"
   },
   {
    "duration": 5162,
    "start_time": "2024-02-25T10:45:25.616Z"
   },
   {
    "duration": 12,
    "start_time": "2024-02-25T10:45:30.780Z"
   },
   {
    "duration": 207,
    "start_time": "2024-02-25T10:45:30.793Z"
   },
   {
    "duration": 2,
    "start_time": "2024-02-25T10:45:31.002Z"
   },
   {
    "duration": 403,
    "start_time": "2024-02-25T10:45:31.005Z"
   },
   {
    "duration": 155,
    "start_time": "2024-02-25T10:45:31.410Z"
   },
   {
    "duration": 215,
    "start_time": "2024-02-25T10:45:31.567Z"
   },
   {
    "duration": 317,
    "start_time": "2024-02-25T10:45:31.783Z"
   },
   {
    "duration": 253,
    "start_time": "2024-02-25T10:45:32.102Z"
   },
   {
    "duration": 74,
    "start_time": "2024-02-25T10:45:32.356Z"
   },
   {
    "duration": 53,
    "start_time": "2024-02-25T10:45:32.431Z"
   },
   {
    "duration": 10,
    "start_time": "2024-02-25T10:45:32.485Z"
   },
   {
    "duration": 105,
    "start_time": "2024-02-25T10:45:32.497Z"
   },
   {
    "duration": 99,
    "start_time": "2024-02-25T10:45:32.604Z"
   },
   {
    "duration": 100,
    "start_time": "2024-02-25T10:45:32.704Z"
   },
   {
    "duration": 211,
    "start_time": "2024-02-25T10:45:32.806Z"
   },
   {
    "duration": 3,
    "start_time": "2024-02-25T10:45:33.018Z"
   },
   {
    "duration": 7,
    "start_time": "2024-02-25T10:45:33.022Z"
   },
   {
    "duration": 1234,
    "start_time": "2024-02-25T10:46:15.681Z"
   },
   {
    "duration": 194,
    "start_time": "2024-02-25T10:46:16.918Z"
   },
   {
    "duration": 25,
    "start_time": "2024-02-25T10:46:17.113Z"
   },
   {
    "duration": 95,
    "start_time": "2024-02-25T10:46:17.140Z"
   },
   {
    "duration": 55,
    "start_time": "2024-02-25T10:46:17.237Z"
   },
   {
    "duration": 15,
    "start_time": "2024-02-25T10:46:17.295Z"
   },
   {
    "duration": 248,
    "start_time": "2024-02-25T10:46:17.311Z"
   },
   {
    "duration": 42,
    "start_time": "2024-02-25T10:46:17.561Z"
   },
   {
    "duration": 95,
    "start_time": "2024-02-25T10:46:17.605Z"
   },
   {
    "duration": 737,
    "start_time": "2024-02-25T10:46:17.702Z"
   },
   {
    "duration": 730,
    "start_time": "2024-02-25T10:46:18.441Z"
   },
   {
    "duration": 789,
    "start_time": "2024-02-25T10:46:19.172Z"
   },
   {
    "duration": 5346,
    "start_time": "2024-02-25T10:46:19.964Z"
   },
   {
    "duration": 14,
    "start_time": "2024-02-25T10:46:25.313Z"
   },
   {
    "duration": 239,
    "start_time": "2024-02-25T10:46:25.328Z"
   },
   {
    "duration": 3,
    "start_time": "2024-02-25T10:46:25.569Z"
   },
   {
    "duration": 411,
    "start_time": "2024-02-25T10:46:25.580Z"
   },
   {
    "duration": 156,
    "start_time": "2024-02-25T10:46:25.992Z"
   },
   {
    "duration": 219,
    "start_time": "2024-02-25T10:46:26.150Z"
   },
   {
    "duration": 302,
    "start_time": "2024-02-25T10:46:26.372Z"
   },
   {
    "duration": 299,
    "start_time": "2024-02-25T10:46:26.676Z"
   },
   {
    "duration": 67,
    "start_time": "2024-02-25T10:46:26.985Z"
   },
   {
    "duration": 48,
    "start_time": "2024-02-25T10:46:27.054Z"
   },
   {
    "duration": 8,
    "start_time": "2024-02-25T10:46:27.104Z"
   },
   {
    "duration": 94,
    "start_time": "2024-02-25T10:46:27.114Z"
   },
   {
    "duration": 118,
    "start_time": "2024-02-25T10:46:27.211Z"
   },
   {
    "duration": 97,
    "start_time": "2024-02-25T10:46:27.330Z"
   },
   {
    "duration": 209,
    "start_time": "2024-02-25T10:46:27.428Z"
   },
   {
    "duration": 3,
    "start_time": "2024-02-25T10:46:27.638Z"
   },
   {
    "duration": 18,
    "start_time": "2024-02-25T10:46:27.642Z"
   },
   {
    "duration": 1252,
    "start_time": "2024-02-25T10:48:18.369Z"
   },
   {
    "duration": 192,
    "start_time": "2024-02-25T10:48:19.623Z"
   },
   {
    "duration": 23,
    "start_time": "2024-02-25T10:48:19.817Z"
   },
   {
    "duration": 82,
    "start_time": "2024-02-25T10:48:19.842Z"
   },
   {
    "duration": 45,
    "start_time": "2024-02-25T10:48:19.926Z"
   },
   {
    "duration": 19,
    "start_time": "2024-02-25T10:48:19.972Z"
   },
   {
    "duration": 268,
    "start_time": "2024-02-25T10:48:19.992Z"
   },
   {
    "duration": 24,
    "start_time": "2024-02-25T10:48:20.261Z"
   },
   {
    "duration": 66,
    "start_time": "2024-02-25T10:48:20.287Z"
   },
   {
    "duration": 699,
    "start_time": "2024-02-25T10:48:20.355Z"
   },
   {
    "duration": 656,
    "start_time": "2024-02-25T10:48:21.056Z"
   },
   {
    "duration": 796,
    "start_time": "2024-02-25T10:48:21.714Z"
   },
   {
    "duration": 5105,
    "start_time": "2024-02-25T10:48:22.512Z"
   },
   {
    "duration": 15,
    "start_time": "2024-02-25T10:48:27.621Z"
   },
   {
    "duration": 199,
    "start_time": "2024-02-25T10:48:27.637Z"
   },
   {
    "duration": 2,
    "start_time": "2024-02-25T10:48:27.838Z"
   },
   {
    "duration": 424,
    "start_time": "2024-02-25T10:48:27.842Z"
   },
   {
    "duration": 149,
    "start_time": "2024-02-25T10:48:28.268Z"
   },
   {
    "duration": 220,
    "start_time": "2024-02-25T10:48:28.419Z"
   },
   {
    "duration": 305,
    "start_time": "2024-02-25T10:48:28.640Z"
   },
   {
    "duration": 298,
    "start_time": "2024-02-25T10:48:28.947Z"
   },
   {
    "duration": 71,
    "start_time": "2024-02-25T10:48:29.246Z"
   },
   {
    "duration": 34,
    "start_time": "2024-02-25T10:48:29.319Z"
   },
   {
    "duration": 7,
    "start_time": "2024-02-25T10:48:29.354Z"
   },
   {
    "duration": 100,
    "start_time": "2024-02-25T10:48:29.362Z"
   },
   {
    "duration": 128,
    "start_time": "2024-02-25T10:48:29.463Z"
   },
   {
    "duration": 108,
    "start_time": "2024-02-25T10:48:29.592Z"
   },
   {
    "duration": 211,
    "start_time": "2024-02-25T10:48:29.703Z"
   },
   {
    "duration": 3,
    "start_time": "2024-02-25T10:48:29.916Z"
   },
   {
    "duration": 21,
    "start_time": "2024-02-25T10:48:29.920Z"
   },
   {
    "duration": 168,
    "start_time": "2024-02-25T10:48:42.341Z"
   },
   {
    "duration": 1253,
    "start_time": "2024-02-25T10:48:48.551Z"
   },
   {
    "duration": 193,
    "start_time": "2024-02-25T10:48:49.806Z"
   },
   {
    "duration": 23,
    "start_time": "2024-02-25T10:48:50.000Z"
   },
   {
    "duration": 78,
    "start_time": "2024-02-25T10:48:50.024Z"
   },
   {
    "duration": 44,
    "start_time": "2024-02-25T10:48:50.104Z"
   },
   {
    "duration": 10,
    "start_time": "2024-02-25T10:48:50.149Z"
   },
   {
    "duration": 221,
    "start_time": "2024-02-25T10:48:50.181Z"
   },
   {
    "duration": 18,
    "start_time": "2024-02-25T10:48:50.403Z"
   },
   {
    "duration": 42,
    "start_time": "2024-02-25T10:48:50.422Z"
   },
   {
    "duration": 669,
    "start_time": "2024-02-25T10:48:50.466Z"
   },
   {
    "duration": 667,
    "start_time": "2024-02-25T10:48:51.136Z"
   },
   {
    "duration": 769,
    "start_time": "2024-02-25T10:48:51.805Z"
   },
   {
    "duration": 5118,
    "start_time": "2024-02-25T10:48:52.579Z"
   },
   {
    "duration": 14,
    "start_time": "2024-02-25T10:48:57.701Z"
   },
   {
    "duration": 188,
    "start_time": "2024-02-25T10:48:57.717Z"
   },
   {
    "duration": 2,
    "start_time": "2024-02-25T10:48:57.907Z"
   },
   {
    "duration": 369,
    "start_time": "2024-02-25T10:48:57.911Z"
   },
   {
    "duration": 153,
    "start_time": "2024-02-25T10:48:58.282Z"
   },
   {
    "duration": 233,
    "start_time": "2024-02-25T10:48:58.436Z"
   },
   {
    "duration": 289,
    "start_time": "2024-02-25T10:48:58.670Z"
   },
   {
    "duration": 294,
    "start_time": "2024-02-25T10:48:58.960Z"
   },
   {
    "duration": 70,
    "start_time": "2024-02-25T10:48:59.256Z"
   },
   {
    "duration": 33,
    "start_time": "2024-02-25T10:48:59.328Z"
   },
   {
    "duration": 22,
    "start_time": "2024-02-25T10:48:59.363Z"
   },
   {
    "duration": 95,
    "start_time": "2024-02-25T10:48:59.387Z"
   },
   {
    "duration": 105,
    "start_time": "2024-02-25T10:48:59.483Z"
   },
   {
    "duration": 99,
    "start_time": "2024-02-25T10:48:59.590Z"
   },
   {
    "duration": 209,
    "start_time": "2024-02-25T10:48:59.691Z"
   },
   {
    "duration": 2,
    "start_time": "2024-02-25T10:48:59.902Z"
   },
   {
    "duration": 9,
    "start_time": "2024-02-25T10:48:59.906Z"
   },
   {
    "duration": 96,
    "start_time": "2024-02-25T10:50:47.800Z"
   },
   {
    "duration": 75,
    "start_time": "2024-02-25T10:50:52.861Z"
   },
   {
    "duration": 96,
    "start_time": "2024-02-25T10:51:28.541Z"
   },
   {
    "duration": 83,
    "start_time": "2024-02-25T10:51:47.509Z"
   },
   {
    "duration": 78,
    "start_time": "2024-02-25T10:52:06.888Z"
   },
   {
    "duration": 77,
    "start_time": "2024-02-25T10:52:12.519Z"
   },
   {
    "duration": 8,
    "start_time": "2024-02-25T10:53:35.960Z"
   },
   {
    "duration": 85,
    "start_time": "2024-02-25T10:53:39.589Z"
   },
   {
    "duration": 1211,
    "start_time": "2024-02-25T10:55:32.889Z"
   },
   {
    "duration": 192,
    "start_time": "2024-02-25T10:55:34.102Z"
   },
   {
    "duration": 23,
    "start_time": "2024-02-25T10:55:34.295Z"
   },
   {
    "duration": 83,
    "start_time": "2024-02-25T10:55:34.319Z"
   },
   {
    "duration": 45,
    "start_time": "2024-02-25T10:55:34.404Z"
   },
   {
    "duration": 11,
    "start_time": "2024-02-25T10:55:34.451Z"
   },
   {
    "duration": 244,
    "start_time": "2024-02-25T10:55:34.480Z"
   },
   {
    "duration": 17,
    "start_time": "2024-02-25T10:55:34.726Z"
   },
   {
    "duration": 66,
    "start_time": "2024-02-25T10:55:34.744Z"
   },
   {
    "duration": 668,
    "start_time": "2024-02-25T10:55:34.812Z"
   },
   {
    "duration": 666,
    "start_time": "2024-02-25T10:55:35.481Z"
   },
   {
    "duration": 769,
    "start_time": "2024-02-25T10:55:36.149Z"
   },
   {
    "duration": 5183,
    "start_time": "2024-02-25T10:55:36.919Z"
   },
   {
    "duration": 21,
    "start_time": "2024-02-25T10:55:42.106Z"
   },
   {
    "duration": 183,
    "start_time": "2024-02-25T10:55:42.129Z"
   },
   {
    "duration": 2,
    "start_time": "2024-02-25T10:55:42.314Z"
   },
   {
    "duration": 386,
    "start_time": "2024-02-25T10:55:42.318Z"
   },
   {
    "duration": 147,
    "start_time": "2024-02-25T10:55:42.705Z"
   },
   {
    "duration": 221,
    "start_time": "2024-02-25T10:55:42.854Z"
   },
   {
    "duration": 285,
    "start_time": "2024-02-25T10:55:43.080Z"
   },
   {
    "duration": 288,
    "start_time": "2024-02-25T10:55:43.367Z"
   },
   {
    "duration": 76,
    "start_time": "2024-02-25T10:55:43.657Z"
   },
   {
    "duration": 45,
    "start_time": "2024-02-25T10:55:43.735Z"
   },
   {
    "duration": 8,
    "start_time": "2024-02-25T10:55:43.782Z"
   },
   {
    "duration": 95,
    "start_time": "2024-02-25T10:55:43.791Z"
   },
   {
    "duration": 107,
    "start_time": "2024-02-25T10:55:43.887Z"
   },
   {
    "duration": 111,
    "start_time": "2024-02-25T10:55:43.996Z"
   },
   {
    "duration": 210,
    "start_time": "2024-02-25T10:55:44.109Z"
   },
   {
    "duration": 2,
    "start_time": "2024-02-25T10:55:44.321Z"
   },
   {
    "duration": 33,
    "start_time": "2024-02-25T10:55:44.325Z"
   },
   {
    "duration": 1200,
    "start_time": "2024-02-25T10:57:29.616Z"
   },
   {
    "duration": 207,
    "start_time": "2024-02-25T10:57:30.818Z"
   },
   {
    "duration": 24,
    "start_time": "2024-02-25T10:57:31.027Z"
   },
   {
    "duration": 88,
    "start_time": "2024-02-25T10:57:31.053Z"
   },
   {
    "duration": 54,
    "start_time": "2024-02-25T10:57:31.143Z"
   },
   {
    "duration": 11,
    "start_time": "2024-02-25T10:57:31.199Z"
   },
   {
    "duration": 238,
    "start_time": "2024-02-25T10:57:31.212Z"
   },
   {
    "duration": 18,
    "start_time": "2024-02-25T10:57:31.451Z"
   },
   {
    "duration": 57,
    "start_time": "2024-02-25T10:57:31.471Z"
   },
   {
    "duration": 677,
    "start_time": "2024-02-25T10:57:31.531Z"
   },
   {
    "duration": 708,
    "start_time": "2024-02-25T10:57:32.210Z"
   },
   {
    "duration": 770,
    "start_time": "2024-02-25T10:57:32.920Z"
   },
   {
    "duration": 5150,
    "start_time": "2024-02-25T10:57:33.692Z"
   },
   {
    "duration": 14,
    "start_time": "2024-02-25T10:57:38.843Z"
   },
   {
    "duration": 178,
    "start_time": "2024-02-25T10:57:38.859Z"
   },
   {
    "duration": 3,
    "start_time": "2024-02-25T10:57:39.039Z"
   },
   {
    "duration": 398,
    "start_time": "2024-02-25T10:57:39.043Z"
   },
   {
    "duration": 153,
    "start_time": "2024-02-25T10:57:39.443Z"
   },
   {
    "duration": 214,
    "start_time": "2024-02-25T10:57:39.597Z"
   },
   {
    "duration": 283,
    "start_time": "2024-02-25T10:57:39.812Z"
   },
   {
    "duration": 256,
    "start_time": "2024-02-25T10:57:40.096Z"
   },
   {
    "duration": 69,
    "start_time": "2024-02-25T10:57:40.354Z"
   },
   {
    "duration": 34,
    "start_time": "2024-02-25T10:57:40.425Z"
   },
   {
    "duration": 23,
    "start_time": "2024-02-25T10:57:40.461Z"
   },
   {
    "duration": 105,
    "start_time": "2024-02-25T10:57:40.485Z"
   },
   {
    "duration": 106,
    "start_time": "2024-02-25T10:57:40.592Z"
   },
   {
    "duration": 109,
    "start_time": "2024-02-25T10:57:40.699Z"
   },
   {
    "duration": 211,
    "start_time": "2024-02-25T10:57:40.812Z"
   },
   {
    "duration": 2,
    "start_time": "2024-02-25T10:57:41.025Z"
   },
   {
    "duration": 5,
    "start_time": "2024-02-25T10:57:41.029Z"
   },
   {
    "duration": 1250,
    "start_time": "2024-02-25T10:59:09.252Z"
   },
   {
    "duration": 194,
    "start_time": "2024-02-25T10:59:10.504Z"
   },
   {
    "duration": 21,
    "start_time": "2024-02-25T10:59:10.700Z"
   },
   {
    "duration": 119,
    "start_time": "2024-02-25T10:59:10.723Z"
   },
   {
    "duration": 54,
    "start_time": "2024-02-25T10:59:10.844Z"
   },
   {
    "duration": 11,
    "start_time": "2024-02-25T10:59:10.899Z"
   },
   {
    "duration": 247,
    "start_time": "2024-02-25T10:59:10.912Z"
   },
   {
    "duration": 24,
    "start_time": "2024-02-25T10:59:11.161Z"
   },
   {
    "duration": 100,
    "start_time": "2024-02-25T10:59:11.187Z"
   },
   {
    "duration": 675,
    "start_time": "2024-02-25T10:59:11.289Z"
   },
   {
    "duration": 747,
    "start_time": "2024-02-25T10:59:11.966Z"
   },
   {
    "duration": 774,
    "start_time": "2024-02-25T10:59:12.715Z"
   },
   {
    "duration": 5207,
    "start_time": "2024-02-25T10:59:13.490Z"
   },
   {
    "duration": 13,
    "start_time": "2024-02-25T10:59:18.700Z"
   },
   {
    "duration": 189,
    "start_time": "2024-02-25T10:59:18.715Z"
   },
   {
    "duration": 2,
    "start_time": "2024-02-25T10:59:18.906Z"
   },
   {
    "duration": 388,
    "start_time": "2024-02-25T10:59:18.909Z"
   },
   {
    "duration": 147,
    "start_time": "2024-02-25T10:59:19.298Z"
   },
   {
    "duration": 233,
    "start_time": "2024-02-25T10:59:19.447Z"
   },
   {
    "duration": 303,
    "start_time": "2024-02-25T10:59:19.682Z"
   },
   {
    "duration": 281,
    "start_time": "2024-02-25T10:59:19.987Z"
   },
   {
    "duration": 71,
    "start_time": "2024-02-25T10:59:20.269Z"
   },
   {
    "duration": 46,
    "start_time": "2024-02-25T10:59:20.341Z"
   },
   {
    "duration": 12,
    "start_time": "2024-02-25T10:59:20.389Z"
   },
   {
    "duration": 132,
    "start_time": "2024-02-25T10:59:20.402Z"
   },
   {
    "duration": 113,
    "start_time": "2024-02-25T10:59:20.536Z"
   },
   {
    "duration": 103,
    "start_time": "2024-02-25T10:59:20.650Z"
   },
   {
    "duration": 214,
    "start_time": "2024-02-25T10:59:20.754Z"
   },
   {
    "duration": 2,
    "start_time": "2024-02-25T10:59:20.970Z"
   },
   {
    "duration": 8,
    "start_time": "2024-02-25T10:59:20.973Z"
   },
   {
    "duration": 1255,
    "start_time": "2024-02-25T11:00:49.974Z"
   },
   {
    "duration": 205,
    "start_time": "2024-02-25T11:00:51.231Z"
   },
   {
    "duration": 23,
    "start_time": "2024-02-25T11:00:51.437Z"
   },
   {
    "duration": 89,
    "start_time": "2024-02-25T11:00:51.462Z"
   },
   {
    "duration": 48,
    "start_time": "2024-02-25T11:00:51.553Z"
   },
   {
    "duration": 10,
    "start_time": "2024-02-25T11:00:51.603Z"
   },
   {
    "duration": 237,
    "start_time": "2024-02-25T11:00:51.615Z"
   },
   {
    "duration": 17,
    "start_time": "2024-02-25T11:00:51.854Z"
   },
   {
    "duration": 41,
    "start_time": "2024-02-25T11:00:51.872Z"
   },
   {
    "duration": 696,
    "start_time": "2024-02-25T11:00:51.914Z"
   },
   {
    "duration": 658,
    "start_time": "2024-02-25T11:00:52.612Z"
   },
   {
    "duration": 765,
    "start_time": "2024-02-25T11:00:53.272Z"
   },
   {
    "duration": 5015,
    "start_time": "2024-02-25T11:00:54.039Z"
   },
   {
    "duration": 13,
    "start_time": "2024-02-25T11:00:59.056Z"
   },
   {
    "duration": 184,
    "start_time": "2024-02-25T11:00:59.071Z"
   },
   {
    "duration": 2,
    "start_time": "2024-02-25T11:00:59.257Z"
   },
   {
    "duration": 396,
    "start_time": "2024-02-25T11:00:59.261Z"
   },
   {
    "duration": 145,
    "start_time": "2024-02-25T11:00:59.659Z"
   },
   {
    "duration": 220,
    "start_time": "2024-02-25T11:00:59.806Z"
   },
   {
    "duration": 300,
    "start_time": "2024-02-25T11:01:00.028Z"
   },
   {
    "duration": 309,
    "start_time": "2024-02-25T11:01:00.330Z"
   },
   {
    "duration": 76,
    "start_time": "2024-02-25T11:01:00.641Z"
   },
   {
    "duration": 36,
    "start_time": "2024-02-25T11:01:00.719Z"
   },
   {
    "duration": 8,
    "start_time": "2024-02-25T11:01:00.756Z"
   },
   {
    "duration": 125,
    "start_time": "2024-02-25T11:01:00.781Z"
   },
   {
    "duration": 0,
    "start_time": "2024-02-25T11:01:00.909Z"
   },
   {
    "duration": 0,
    "start_time": "2024-02-25T11:01:00.910Z"
   },
   {
    "duration": 0,
    "start_time": "2024-02-25T11:01:00.912Z"
   },
   {
    "duration": 0,
    "start_time": "2024-02-25T11:01:00.914Z"
   },
   {
    "duration": 0,
    "start_time": "2024-02-25T11:01:00.915Z"
   },
   {
    "duration": 0,
    "start_time": "2024-02-25T11:01:00.916Z"
   },
   {
    "duration": 91,
    "start_time": "2024-02-25T11:02:02.480Z"
   },
   {
    "duration": 79,
    "start_time": "2024-02-25T11:02:35.653Z"
   },
   {
    "duration": 110,
    "start_time": "2024-02-25T11:02:48.020Z"
   },
   {
    "duration": 80,
    "start_time": "2024-02-25T11:02:54.692Z"
   },
   {
    "duration": 103,
    "start_time": "2024-02-25T11:03:10.620Z"
   },
   {
    "duration": 84,
    "start_time": "2024-02-25T11:03:17.692Z"
   },
   {
    "duration": 92,
    "start_time": "2024-02-25T11:03:41.201Z"
   },
   {
    "duration": 87,
    "start_time": "2024-02-25T11:04:36.940Z"
   },
   {
    "duration": 98,
    "start_time": "2024-02-25T11:04:44.652Z"
   },
   {
    "duration": 76,
    "start_time": "2024-02-25T11:04:56.251Z"
   },
   {
    "duration": 89,
    "start_time": "2024-02-25T11:05:30.852Z"
   },
   {
    "duration": 82,
    "start_time": "2024-02-25T11:05:51.519Z"
   },
   {
    "duration": 86,
    "start_time": "2024-02-25T11:06:18.318Z"
   },
   {
    "duration": 38,
    "start_time": "2024-02-25T11:06:40.640Z"
   },
   {
    "duration": 1295,
    "start_time": "2024-02-25T11:06:54.542Z"
   },
   {
    "duration": 211,
    "start_time": "2024-02-25T11:06:55.840Z"
   },
   {
    "duration": 31,
    "start_time": "2024-02-25T11:06:56.053Z"
   },
   {
    "duration": 75,
    "start_time": "2024-02-25T11:06:56.086Z"
   },
   {
    "duration": 46,
    "start_time": "2024-02-25T11:06:56.180Z"
   },
   {
    "duration": 15,
    "start_time": "2024-02-25T11:06:56.228Z"
   },
   {
    "duration": 237,
    "start_time": "2024-02-25T11:06:56.245Z"
   },
   {
    "duration": 18,
    "start_time": "2024-02-25T11:06:56.484Z"
   },
   {
    "duration": 72,
    "start_time": "2024-02-25T11:06:56.504Z"
   },
   {
    "duration": 731,
    "start_time": "2024-02-25T11:06:56.578Z"
   },
   {
    "duration": 754,
    "start_time": "2024-02-25T11:06:57.311Z"
   },
   {
    "duration": 826,
    "start_time": "2024-02-25T11:06:58.067Z"
   },
   {
    "duration": 5471,
    "start_time": "2024-02-25T11:06:58.895Z"
   },
   {
    "duration": 16,
    "start_time": "2024-02-25T11:07:04.369Z"
   },
   {
    "duration": 210,
    "start_time": "2024-02-25T11:07:04.387Z"
   },
   {
    "duration": 3,
    "start_time": "2024-02-25T11:07:04.599Z"
   },
   {
    "duration": 439,
    "start_time": "2024-02-25T11:07:04.604Z"
   },
   {
    "duration": 154,
    "start_time": "2024-02-25T11:07:05.045Z"
   },
   {
    "duration": 221,
    "start_time": "2024-02-25T11:07:05.200Z"
   },
   {
    "duration": 285,
    "start_time": "2024-02-25T11:07:05.423Z"
   },
   {
    "duration": 246,
    "start_time": "2024-02-25T11:07:05.710Z"
   },
   {
    "duration": 75,
    "start_time": "2024-02-25T11:07:05.958Z"
   },
   {
    "duration": 50,
    "start_time": "2024-02-25T11:07:06.035Z"
   },
   {
    "duration": 7,
    "start_time": "2024-02-25T11:07:06.087Z"
   },
   {
    "duration": 98,
    "start_time": "2024-02-25T11:07:06.095Z"
   },
   {
    "duration": 106,
    "start_time": "2024-02-25T11:07:06.195Z"
   },
   {
    "duration": 98,
    "start_time": "2024-02-25T11:07:06.302Z"
   },
   {
    "duration": 204,
    "start_time": "2024-02-25T11:07:06.401Z"
   },
   {
    "duration": 2,
    "start_time": "2024-02-25T11:07:06.607Z"
   },
   {
    "duration": 8,
    "start_time": "2024-02-25T11:07:06.610Z"
   },
   {
    "duration": 109,
    "start_time": "2024-02-25T11:07:33.390Z"
   },
   {
    "duration": 193,
    "start_time": "2024-02-25T11:07:47.993Z"
   },
   {
    "duration": 1271,
    "start_time": "2024-02-25T11:07:58.423Z"
   },
   {
    "duration": 210,
    "start_time": "2024-02-25T11:07:59.697Z"
   },
   {
    "duration": 24,
    "start_time": "2024-02-25T11:07:59.908Z"
   },
   {
    "duration": 99,
    "start_time": "2024-02-25T11:07:59.933Z"
   },
   {
    "duration": 55,
    "start_time": "2024-02-25T11:08:00.035Z"
   },
   {
    "duration": 11,
    "start_time": "2024-02-25T11:08:00.092Z"
   },
   {
    "duration": 258,
    "start_time": "2024-02-25T11:08:00.105Z"
   },
   {
    "duration": 26,
    "start_time": "2024-02-25T11:08:00.365Z"
   },
   {
    "duration": 120,
    "start_time": "2024-02-25T11:08:00.393Z"
   },
   {
    "duration": 811,
    "start_time": "2024-02-25T11:08:00.515Z"
   },
   {
    "duration": 729,
    "start_time": "2024-02-25T11:08:01.328Z"
   },
   {
    "duration": 880,
    "start_time": "2024-02-25T11:08:02.059Z"
   },
   {
    "duration": 5696,
    "start_time": "2024-02-25T11:08:02.941Z"
   },
   {
    "duration": 16,
    "start_time": "2024-02-25T11:08:08.641Z"
   },
   {
    "duration": 230,
    "start_time": "2024-02-25T11:08:08.659Z"
   },
   {
    "duration": 2,
    "start_time": "2024-02-25T11:08:08.891Z"
   },
   {
    "duration": 388,
    "start_time": "2024-02-25T11:08:08.895Z"
   },
   {
    "duration": 153,
    "start_time": "2024-02-25T11:08:09.285Z"
   },
   {
    "duration": 246,
    "start_time": "2024-02-25T11:08:09.440Z"
   },
   {
    "duration": 338,
    "start_time": "2024-02-25T11:08:09.688Z"
   },
   {
    "duration": 283,
    "start_time": "2024-02-25T11:08:10.027Z"
   },
   {
    "duration": 71,
    "start_time": "2024-02-25T11:08:10.312Z"
   },
   {
    "duration": 43,
    "start_time": "2024-02-25T11:08:10.384Z"
   },
   {
    "duration": 7,
    "start_time": "2024-02-25T11:08:10.428Z"
   },
   {
    "duration": 114,
    "start_time": "2024-02-25T11:08:10.436Z"
   },
   {
    "duration": 102,
    "start_time": "2024-02-25T11:08:10.552Z"
   },
   {
    "duration": 104,
    "start_time": "2024-02-25T11:08:10.656Z"
   },
   {
    "duration": 244,
    "start_time": "2024-02-25T11:08:10.761Z"
   },
   {
    "duration": 2,
    "start_time": "2024-02-25T11:08:11.008Z"
   },
   {
    "duration": 7,
    "start_time": "2024-02-25T11:08:11.012Z"
   },
   {
    "duration": 1323,
    "start_time": "2024-02-25T11:08:18.443Z"
   },
   {
    "duration": 218,
    "start_time": "2024-02-25T11:08:19.768Z"
   },
   {
    "duration": 25,
    "start_time": "2024-02-25T11:08:19.988Z"
   },
   {
    "duration": 93,
    "start_time": "2024-02-25T11:08:20.015Z"
   },
   {
    "duration": 52,
    "start_time": "2024-02-25T11:08:20.111Z"
   },
   {
    "duration": 26,
    "start_time": "2024-02-25T11:08:20.165Z"
   },
   {
    "duration": 276,
    "start_time": "2024-02-25T11:08:20.193Z"
   },
   {
    "duration": 24,
    "start_time": "2024-02-25T11:08:20.471Z"
   },
   {
    "duration": 44,
    "start_time": "2024-02-25T11:08:20.498Z"
   },
   {
    "duration": 783,
    "start_time": "2024-02-25T11:08:20.544Z"
   },
   {
    "duration": 757,
    "start_time": "2024-02-25T11:08:21.328Z"
   },
   {
    "duration": 798,
    "start_time": "2024-02-25T11:08:22.087Z"
   },
   {
    "duration": 5691,
    "start_time": "2024-02-25T11:08:22.887Z"
   },
   {
    "duration": 18,
    "start_time": "2024-02-25T11:08:28.581Z"
   },
   {
    "duration": 238,
    "start_time": "2024-02-25T11:08:28.601Z"
   },
   {
    "duration": 3,
    "start_time": "2024-02-25T11:08:28.841Z"
   },
   {
    "duration": 417,
    "start_time": "2024-02-25T11:08:28.845Z"
   },
   {
    "duration": 163,
    "start_time": "2024-02-25T11:08:29.263Z"
   },
   {
    "duration": 224,
    "start_time": "2024-02-25T11:08:29.427Z"
   },
   {
    "duration": 307,
    "start_time": "2024-02-25T11:08:29.652Z"
   },
   {
    "duration": 306,
    "start_time": "2024-02-25T11:08:29.961Z"
   },
   {
    "duration": 86,
    "start_time": "2024-02-25T11:08:30.269Z"
   },
   {
    "duration": 65,
    "start_time": "2024-02-25T11:08:30.357Z"
   },
   {
    "duration": 7,
    "start_time": "2024-02-25T11:08:30.423Z"
   },
   {
    "duration": 177,
    "start_time": "2024-02-25T11:08:30.432Z"
   },
   {
    "duration": 116,
    "start_time": "2024-02-25T11:08:30.611Z"
   },
   {
    "duration": 166,
    "start_time": "2024-02-25T11:08:30.729Z"
   },
   {
    "duration": 227,
    "start_time": "2024-02-25T11:08:30.897Z"
   },
   {
    "duration": 2,
    "start_time": "2024-02-25T11:08:31.126Z"
   },
   {
    "duration": 47,
    "start_time": "2024-02-25T11:08:31.129Z"
   },
   {
    "duration": 1281,
    "start_time": "2024-02-25T11:08:45.545Z"
   },
   {
    "duration": 214,
    "start_time": "2024-02-25T11:08:46.828Z"
   },
   {
    "duration": 22,
    "start_time": "2024-02-25T11:08:47.044Z"
   },
   {
    "duration": 89,
    "start_time": "2024-02-25T11:08:47.068Z"
   },
   {
    "duration": 54,
    "start_time": "2024-02-25T11:08:47.159Z"
   },
   {
    "duration": 10,
    "start_time": "2024-02-25T11:08:47.215Z"
   },
   {
    "duration": 247,
    "start_time": "2024-02-25T11:08:47.227Z"
   },
   {
    "duration": 20,
    "start_time": "2024-02-25T11:08:47.480Z"
   },
   {
    "duration": 35,
    "start_time": "2024-02-25T11:08:47.503Z"
   },
   {
    "duration": 744,
    "start_time": "2024-02-25T11:08:47.540Z"
   },
   {
    "duration": 770,
    "start_time": "2024-02-25T11:08:48.289Z"
   },
   {
    "duration": 813,
    "start_time": "2024-02-25T11:08:49.061Z"
   },
   {
    "duration": 5753,
    "start_time": "2024-02-25T11:08:49.876Z"
   },
   {
    "duration": 15,
    "start_time": "2024-02-25T11:08:55.632Z"
   },
   {
    "duration": 212,
    "start_time": "2024-02-25T11:08:55.648Z"
   },
   {
    "duration": 3,
    "start_time": "2024-02-25T11:08:55.861Z"
   },
   {
    "duration": 442,
    "start_time": "2024-02-25T11:08:55.865Z"
   },
   {
    "duration": 158,
    "start_time": "2024-02-25T11:08:56.309Z"
   },
   {
    "duration": 268,
    "start_time": "2024-02-25T11:08:56.468Z"
   },
   {
    "duration": 327,
    "start_time": "2024-02-25T11:08:56.738Z"
   },
   {
    "duration": 321,
    "start_time": "2024-02-25T11:08:57.067Z"
   },
   {
    "duration": 66,
    "start_time": "2024-02-25T11:08:57.391Z"
   },
   {
    "duration": 57,
    "start_time": "2024-02-25T11:08:57.459Z"
   },
   {
    "duration": 8,
    "start_time": "2024-02-25T11:08:57.517Z"
   },
   {
    "duration": 94,
    "start_time": "2024-02-25T11:08:57.526Z"
   },
   {
    "duration": 95,
    "start_time": "2024-02-25T11:08:57.622Z"
   },
   {
    "duration": 100,
    "start_time": "2024-02-25T11:08:57.718Z"
   },
   {
    "duration": 247,
    "start_time": "2024-02-25T11:08:57.820Z"
   },
   {
    "duration": 11,
    "start_time": "2024-02-25T11:08:58.069Z"
   },
   {
    "duration": 7,
    "start_time": "2024-02-25T11:08:58.083Z"
   }
  ],
  "kernelspec": {
   "display_name": "Python 3 (ipykernel)",
   "language": "python",
   "name": "python3"
  },
  "language_info": {
   "codemirror_mode": {
    "name": "ipython",
    "version": 3
   },
   "file_extension": ".py",
   "mimetype": "text/x-python",
   "name": "python",
   "nbconvert_exporter": "python",
   "pygments_lexer": "ipython3",
   "version": "3.11.7"
  },
  "toc": {
   "base_numbering": 1,
   "nav_menu": {},
   "number_sections": true,
   "sideBar": true,
   "skip_h1_title": true,
   "title_cell": "Table of Contents",
   "title_sidebar": "Contents",
   "toc_cell": false,
   "toc_position": {},
   "toc_section_display": true,
   "toc_window_display": false
  }
 },
 "nbformat": 4,
 "nbformat_minor": 4
}
