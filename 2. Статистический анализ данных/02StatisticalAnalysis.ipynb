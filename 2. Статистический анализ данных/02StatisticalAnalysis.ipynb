{
 "cells": [
  {
   "cell_type": "markdown",
   "id": "2db3a461-733b-484c-a22c-66f7f1e5c1f5",
   "metadata": {},
   "source": [
    "# Статистический анализ данных"
   ]
  },
  {
   "cell_type": "markdown",
   "id": "1d03ce42",
   "metadata": {},
   "source": [
    "В данном проекте будет проведен анализ статистики популярного сервиса аренды самокатов GoFast. Нам были переданы данные о некоторых пользователях из нескольких городов, а также об их поездках. Проанализируем данные и проверим некоторые гипотезы, которые могут помочь бизнесу вырасти.\n",
    "\n",
    "Чтобы совершать поездки по городу, пользователи сервиса GoFast пользуются мобильным приложением. Сервисом можно пользоваться:\n",
    "\n",
    "**1) без подписки**\n",
    "- абонентская плата отсутствует\n",
    "- стоимость одной минуты поездки — 8 рублей\n",
    "- стоимость старта (начала поездки) — 50 рублей\n",
    "\n",
    "**2) с подпиской Ultra**\n",
    "- абонентская плата — 199 рублей в месяц;\n",
    "- стоимость одной минуты поездки — 6 рублей;\n",
    "- стоимость старта — бесплатно.\n",
    "\n",
    "Изначально в нашем рспоряжении имеются три датасета: с информацией о тарифных планах, информацией о поездках и информацией о пользователях. \n",
    "\n",
    "Начнем с импорта необходимых библиотек и открытия имеющихся датасетов. Затем изучим их и проведем предобработку данных. Затем приступим непосредственно к исследовательскому анализу данных. В нем мы выявим некоторые закономерности и обозначим явления, справедливые для этого конкретного бизнеса. Затем мы сможем объеденить данные. Таким образом, получив единый, максимально полный датасет мы сможем перейти к подсчёту выручки и работе над бизнес гипотезами.\n",
    "\n",
    "Импортируем необходимые библиотеки:"
   ]
  },
  {
   "cell_type": "code",
   "execution_count": 1,
   "id": "72576667",
   "metadata": {},
   "outputs": [],
   "source": [
    "import pandas as pd\n",
    "from scipy import stats as st\n",
    "import matplotlib.pyplot as plt\n",
    "import seaborn as sns\n",
    "import numpy as np"
   ]
  },
  {
   "cell_type": "markdown",
   "id": "c42cbe00",
   "metadata": {},
   "source": [
    "#### Шаг 1. Загрузка данных"
   ]
  },
  {
   "cell_type": "code",
   "execution_count": 2,
   "id": "eff9f206",
   "metadata": {},
   "outputs": [],
   "source": [
    "users = pd.read_csv('/datasets/users_go.csv')\n",
    "rides = pd.read_csv('/datasets/rides_go.csv')\n",
    "subs = pd.read_csv('/datasets/subscriptions_go.csv')"
   ]
  },
  {
   "cell_type": "markdown",
   "id": "b4a4675f",
   "metadata": {},
   "source": [
    "**Начнем с изучения информации о пользователях (users):**"
   ]
  },
  {
   "cell_type": "code",
   "execution_count": 3,
   "id": "a51be226",
   "metadata": {
    "scrolled": true
   },
   "outputs": [
    {
     "name": "stdout",
     "output_type": "stream",
     "text": [
      "<class 'pandas.core.frame.DataFrame'>\n",
      "RangeIndex: 1565 entries, 0 to 1564\n",
      "Data columns (total 5 columns):\n",
      " #   Column             Non-Null Count  Dtype \n",
      "---  ------             --------------  ----- \n",
      " 0   user_id            1565 non-null   int64 \n",
      " 1   name               1565 non-null   object\n",
      " 2   age                1565 non-null   int64 \n",
      " 3   city               1565 non-null   object\n",
      " 4   subscription_type  1565 non-null   object\n",
      "dtypes: int64(2), object(3)\n",
      "memory usage: 61.3+ KB\n",
      "None\n"
     ]
    },
    {
     "data": {
      "text/html": [
       "<div>\n",
       "<style scoped>\n",
       "    .dataframe tbody tr th:only-of-type {\n",
       "        vertical-align: middle;\n",
       "    }\n",
       "\n",
       "    .dataframe tbody tr th {\n",
       "        vertical-align: top;\n",
       "    }\n",
       "\n",
       "    .dataframe thead th {\n",
       "        text-align: right;\n",
       "    }\n",
       "</style>\n",
       "<table border=\"1\" class=\"dataframe\">\n",
       "  <thead>\n",
       "    <tr style=\"text-align: right;\">\n",
       "      <th></th>\n",
       "      <th>user_id</th>\n",
       "      <th>name</th>\n",
       "      <th>age</th>\n",
       "      <th>city</th>\n",
       "      <th>subscription_type</th>\n",
       "    </tr>\n",
       "  </thead>\n",
       "  <tbody>\n",
       "    <tr>\n",
       "      <th>0</th>\n",
       "      <td>1</td>\n",
       "      <td>Кира</td>\n",
       "      <td>22</td>\n",
       "      <td>Тюмень</td>\n",
       "      <td>ultra</td>\n",
       "    </tr>\n",
       "    <tr>\n",
       "      <th>1</th>\n",
       "      <td>2</td>\n",
       "      <td>Станислав</td>\n",
       "      <td>31</td>\n",
       "      <td>Омск</td>\n",
       "      <td>ultra</td>\n",
       "    </tr>\n",
       "    <tr>\n",
       "      <th>2</th>\n",
       "      <td>3</td>\n",
       "      <td>Алексей</td>\n",
       "      <td>20</td>\n",
       "      <td>Москва</td>\n",
       "      <td>ultra</td>\n",
       "    </tr>\n",
       "    <tr>\n",
       "      <th>3</th>\n",
       "      <td>4</td>\n",
       "      <td>Константин</td>\n",
       "      <td>26</td>\n",
       "      <td>Ростов-на-Дону</td>\n",
       "      <td>ultra</td>\n",
       "    </tr>\n",
       "    <tr>\n",
       "      <th>4</th>\n",
       "      <td>5</td>\n",
       "      <td>Адель</td>\n",
       "      <td>28</td>\n",
       "      <td>Омск</td>\n",
       "      <td>ultra</td>\n",
       "    </tr>\n",
       "  </tbody>\n",
       "</table>\n",
       "</div>"
      ],
      "text/plain": [
       "   user_id        name  age            city subscription_type\n",
       "0        1        Кира   22          Тюмень             ultra\n",
       "1        2   Станислав   31            Омск             ultra\n",
       "2        3     Алексей   20          Москва             ultra\n",
       "3        4  Константин   26  Ростов-на-Дону             ultra\n",
       "4        5       Адель   28            Омск             ultra"
      ]
     },
     "execution_count": 3,
     "metadata": {},
     "output_type": "execute_result"
    }
   ],
   "source": [
    "print(users.info())\n",
    "users.head()"
   ]
  },
  {
   "cell_type": "markdown",
   "id": "a19510a9",
   "metadata": {},
   "source": [
    "Построю гистограмму, чтобы оценить возрастной состав пользователей"
   ]
  },
  {
   "cell_type": "code",
   "execution_count": 4,
   "id": "c868cbce",
   "metadata": {},
   "outputs": [
    {
     "data": {
      "image/png": "[encoded data removed]",
      "text/plain": [
       "<Figure size 432x288 with 1 Axes>"
      ]
     },
     "metadata": {
      "needs_background": "light"
     },
     "output_type": "display_data"
    }
   ],
   "source": [
    "plt.hist(users['age'], bins = 30);\n",
    "plt.title('Возрастной состав пользователей');\n",
    "plt.xlabel('Возраст');\n",
    "plt.ylabel('Количество');"
   ]
  },
  {
   "cell_type": "markdown",
   "id": "eb165493",
   "metadata": {},
   "source": [
    "Из данной гистограммы можно сделать вывод, что распределение пользователей по возрасту близко к нормальному.\n",
    "\n",
    "Теперь оценим распределение пользователей по городам"
   ]
  },
  {
   "cell_type": "code",
   "execution_count": 5,
   "id": "ddf62649",
   "metadata": {},
   "outputs": [
    {
     "data": {
      "text/plain": [
       "Пятигорск         226\n",
       "Екатеринбург      206\n",
       "Ростов-на-Дону    202\n",
       "Краснодар         196\n",
       "Сочи              192\n",
       "Омск              186\n",
       "Тюмень            185\n",
       "Москва            172\n",
       "Name: city, dtype: int64"
      ]
     },
     "execution_count": 5,
     "metadata": {},
     "output_type": "execute_result"
    }
   ],
   "source": [
    "users['city'].value_counts()"
   ]
  },
  {
   "cell_type": "markdown",
   "id": "5cde2fee",
   "metadata": {},
   "source": [
    "Выяснилось, что всего сервис работает в 8 городах, причем ни один из них не имеет значительного перевеста в количестве пользователей относительно других.\n",
    "\n",
    "Напоследок оценим как распределяются пользователи по типу подписки:"
   ]
  },
  {
   "cell_type": "code",
   "execution_count": 6,
   "id": "ce062ceb",
   "metadata": {
    "scrolled": true
   },
   "outputs": [
    {
     "data": {
      "text/plain": [
       "free     846\n",
       "ultra    719\n",
       "Name: subscription_type, dtype: int64"
      ]
     },
     "execution_count": 6,
     "metadata": {},
     "output_type": "execute_result"
    }
   ],
   "source": [
    "users['subscription_type'].value_counts()"
   ]
  },
  {
   "cell_type": "markdown",
   "id": "0e35c196",
   "metadata": {},
   "source": [
    "**Теперь изучу данные о поездках (rides):**"
   ]
  },
  {
   "cell_type": "code",
   "execution_count": 7,
   "id": "41381544",
   "metadata": {
    "scrolled": true
   },
   "outputs": [
    {
     "name": "stdout",
     "output_type": "stream",
     "text": [
      "<class 'pandas.core.frame.DataFrame'>\n",
      "RangeIndex: 18068 entries, 0 to 18067\n",
      "Data columns (total 4 columns):\n",
      " #   Column    Non-Null Count  Dtype  \n",
      "---  ------    --------------  -----  \n",
      " 0   user_id   18068 non-null  int64  \n",
      " 1   distance  18068 non-null  float64\n",
      " 2   duration  18068 non-null  float64\n",
      " 3   date      18068 non-null  object \n",
      "dtypes: float64(2), int64(1), object(1)\n",
      "memory usage: 564.8+ KB\n",
      "None\n"
     ]
    },
    {
     "data": {
      "text/html": [
       "<div>\n",
       "<style scoped>\n",
       "    .dataframe tbody tr th:only-of-type {\n",
       "        vertical-align: middle;\n",
       "    }\n",
       "\n",
       "    .dataframe tbody tr th {\n",
       "        vertical-align: top;\n",
       "    }\n",
       "\n",
       "    .dataframe thead th {\n",
       "        text-align: right;\n",
       "    }\n",
       "</style>\n",
       "<table border=\"1\" class=\"dataframe\">\n",
       "  <thead>\n",
       "    <tr style=\"text-align: right;\">\n",
       "      <th></th>\n",
       "      <th>user_id</th>\n",
       "      <th>distance</th>\n",
       "      <th>duration</th>\n",
       "      <th>date</th>\n",
       "    </tr>\n",
       "  </thead>\n",
       "  <tbody>\n",
       "    <tr>\n",
       "      <th>0</th>\n",
       "      <td>1</td>\n",
       "      <td>4409.919140</td>\n",
       "      <td>25.599769</td>\n",
       "      <td>2021-01-01</td>\n",
       "    </tr>\n",
       "    <tr>\n",
       "      <th>1</th>\n",
       "      <td>1</td>\n",
       "      <td>2617.592153</td>\n",
       "      <td>15.816871</td>\n",
       "      <td>2021-01-18</td>\n",
       "    </tr>\n",
       "    <tr>\n",
       "      <th>2</th>\n",
       "      <td>1</td>\n",
       "      <td>754.159807</td>\n",
       "      <td>6.232113</td>\n",
       "      <td>2021-04-20</td>\n",
       "    </tr>\n",
       "    <tr>\n",
       "      <th>3</th>\n",
       "      <td>1</td>\n",
       "      <td>2694.783254</td>\n",
       "      <td>18.511000</td>\n",
       "      <td>2021-08-11</td>\n",
       "    </tr>\n",
       "    <tr>\n",
       "      <th>4</th>\n",
       "      <td>1</td>\n",
       "      <td>4028.687306</td>\n",
       "      <td>26.265803</td>\n",
       "      <td>2021-08-28</td>\n",
       "    </tr>\n",
       "  </tbody>\n",
       "</table>\n",
       "</div>"
      ],
      "text/plain": [
       "   user_id     distance   duration        date\n",
       "0        1  4409.919140  25.599769  2021-01-01\n",
       "1        1  2617.592153  15.816871  2021-01-18\n",
       "2        1   754.159807   6.232113  2021-04-20\n",
       "3        1  2694.783254  18.511000  2021-08-11\n",
       "4        1  4028.687306  26.265803  2021-08-28"
      ]
     },
     "execution_count": 7,
     "metadata": {},
     "output_type": "execute_result"
    }
   ],
   "source": [
    "print(rides.info())\n",
    "rides.head()"
   ]
  },
  {
   "cell_type": "markdown",
   "id": "6cc7ef1f",
   "metadata": {},
   "source": [
    "Из сводки по датафрейму следует, что столбец date не приведен к типу \"дата\". В дальнейшм я это исправлю."
   ]
  },
  {
   "cell_type": "markdown",
   "id": "6c544355",
   "metadata": {},
   "source": [
    "Выясню кто чаще всех пользовался приложением, а также кто пользовался им дольше всего:"
   ]
  },
  {
   "cell_type": "code",
   "execution_count": 8,
   "id": "86bcf6b4",
   "metadata": {},
   "outputs": [
    {
     "name": "stdout",
     "output_type": "stream",
     "text": [
      "Максимальное суммарно проеханное расстояние и время в поездке\n"
     ]
    },
    {
     "data": {
      "text/plain": [
       "distance    79325.846482\n",
       "duration      446.233013\n",
       "dtype: float64"
      ]
     },
     "execution_count": 8,
     "metadata": {},
     "output_type": "execute_result"
    }
   ],
   "source": [
    "print('Максимальное суммарно проеханное расстояние и время в поездке')\n",
    "rides.pivot_table(index = 'user_id', aggfunc = 'sum').max()"
   ]
  },
  {
   "cell_type": "markdown",
   "id": "88786822",
   "metadata": {},
   "source": [
    "Остался один неизученный датафрейм. Это информация о подписках. Перейдем к нему:"
   ]
  },
  {
   "cell_type": "code",
   "execution_count": 9,
   "id": "c49223db",
   "metadata": {
    "scrolled": true
   },
   "outputs": [
    {
     "name": "stdout",
     "output_type": "stream",
     "text": [
      "<class 'pandas.core.frame.DataFrame'>\n",
      "RangeIndex: 2 entries, 0 to 1\n",
      "Data columns (total 4 columns):\n",
      " #   Column             Non-Null Count  Dtype \n",
      "---  ------             --------------  ----- \n",
      " 0   subscription_type  2 non-null      object\n",
      " 1   minute_price       2 non-null      int64 \n",
      " 2   start_ride_price   2 non-null      int64 \n",
      " 3   subscription_fee   2 non-null      int64 \n",
      "dtypes: int64(3), object(1)\n",
      "memory usage: 192.0+ bytes\n"
     ]
    },
    {
     "data": {
      "text/html": [
       "<div>\n",
       "<style scoped>\n",
       "    .dataframe tbody tr th:only-of-type {\n",
       "        vertical-align: middle;\n",
       "    }\n",
       "\n",
       "    .dataframe tbody tr th {\n",
       "        vertical-align: top;\n",
       "    }\n",
       "\n",
       "    .dataframe thead th {\n",
       "        text-align: right;\n",
       "    }\n",
       "</style>\n",
       "<table border=\"1\" class=\"dataframe\">\n",
       "  <thead>\n",
       "    <tr style=\"text-align: right;\">\n",
       "      <th></th>\n",
       "      <th>subscription_type</th>\n",
       "      <th>minute_price</th>\n",
       "      <th>start_ride_price</th>\n",
       "      <th>subscription_fee</th>\n",
       "    </tr>\n",
       "  </thead>\n",
       "  <tbody>\n",
       "    <tr>\n",
       "      <th>0</th>\n",
       "      <td>free</td>\n",
       "      <td>8</td>\n",
       "      <td>50</td>\n",
       "      <td>0</td>\n",
       "    </tr>\n",
       "    <tr>\n",
       "      <th>1</th>\n",
       "      <td>ultra</td>\n",
       "      <td>6</td>\n",
       "      <td>0</td>\n",
       "      <td>199</td>\n",
       "    </tr>\n",
       "  </tbody>\n",
       "</table>\n",
       "</div>"
      ],
      "text/plain": [
       "  subscription_type  minute_price  start_ride_price  subscription_fee\n",
       "0              free             8                50                 0\n",
       "1             ultra             6                 0               199"
      ]
     },
     "execution_count": 9,
     "metadata": {},
     "output_type": "execute_result"
    }
   ],
   "source": [
    "subs.info()\n",
    "subs.head()"
   ]
  },
  {
   "cell_type": "markdown",
   "id": "a6c591e1",
   "metadata": {},
   "source": [
    "Этот датафрейм совсем небольшой и да1т исчерпывающую информацию о тарифах компании."
   ]
  },
  {
   "cell_type": "markdown",
   "id": "9a72433b",
   "metadata": {},
   "source": [
    "На этом загрузка и первичное изучение данных завершено. Теперь можно перейти к их предобработки для дальнейшей работы с ними."
   ]
  },
  {
   "cell_type": "markdown",
   "id": "e95ebca7",
   "metadata": {},
   "source": [
    "#### Шаг 2. Предобработка данных"
   ]
  },
  {
   "cell_type": "markdown",
   "id": "61796300",
   "metadata": {},
   "source": [
    "Как было отмеченно раньше, необходимо привести столбец **date** к соответствующему формату в датафрейме **rides**. Сделаю это:"
   ]
  },
  {
   "cell_type": "code",
   "execution_count": 10,
   "id": "5358fab8",
   "metadata": {},
   "outputs": [],
   "source": [
    "rides['date'] = pd.to_datetime(rides['date'], format = '%Y-%m-%d')"
   ]
  },
  {
   "cell_type": "markdown",
   "id": "1dc1099b",
   "metadata": {},
   "source": [
    "Добавлю в текущем датафрейме столбец **'month'** на основе столбца **date** :\n",
    "\n",
    "(И начала оценю значения **month**. Они должны лежать в диапазоне [1, 12])"
   ]
  },
  {
   "cell_type": "code",
   "execution_count": 11,
   "id": "9dcaad17",
   "metadata": {},
   "outputs": [],
   "source": [
    "rides['month'] = rides['date'].dt.month"
   ]
  },
  {
   "cell_type": "code",
   "execution_count": 12,
   "id": "ba119331",
   "metadata": {
    "scrolled": true
   },
   "outputs": [
    {
     "data": {
      "text/plain": [
       "[1, 2, 3, 4, 5, 6, 7, 8, 9, 10, 11, 12]"
      ]
     },
     "execution_count": 12,
     "metadata": {},
     "output_type": "execute_result"
    }
   ],
   "source": [
    "check = rides['month'].unique().tolist()\n",
    "check.sort()\n",
    "check"
   ]
  },
  {
   "cell_type": "markdown",
   "id": "c093a5e6",
   "metadata": {},
   "source": [
    "Аномалий в индексах месяца не обнаружено."
   ]
  },
  {
   "cell_type": "markdown",
   "id": "a78ceefa",
   "metadata": {},
   "source": [
    "Проверим также какие года мы исследуем. Это поможет избежать смешения данных по месяцам разных лет:"
   ]
  },
  {
   "cell_type": "code",
   "execution_count": 13,
   "id": "76430ff4",
   "metadata": {
    "scrolled": true
   },
   "outputs": [
    {
     "data": {
      "text/plain": [
       "array([2021])"
      ]
     },
     "execution_count": 13,
     "metadata": {},
     "output_type": "execute_result"
    }
   ],
   "source": [
    "years = rides['date'].dt.year\n",
    "years.unique()"
   ]
  },
  {
   "cell_type": "markdown",
   "id": "b0130fda",
   "metadata": {},
   "source": [
    "Год всего один! Значит каждый исследуемый месяц соответствует одному конкретному месяцу в 2021 году"
   ]
  },
  {
   "cell_type": "markdown",
   "id": "bce22dee",
   "metadata": {},
   "source": [
    "Теперь оценим количество пропущенных данных в каждом из имеющихся датафреймов:"
   ]
  },
  {
   "cell_type": "code",
   "execution_count": 14,
   "id": "22f2a858",
   "metadata": {
    "scrolled": true
   },
   "outputs": [
    {
     "name": "stdout",
     "output_type": "stream",
     "text": [
      "user_id              0\n",
      "name                 0\n",
      "age                  0\n",
      "city                 0\n",
      "subscription_type    0\n",
      "dtype: int64\n",
      "====================================================================================================\n",
      "user_id     0\n",
      "distance    0\n",
      "duration    0\n",
      "date        0\n",
      "month       0\n",
      "dtype: int64\n",
      "====================================================================================================\n",
      "subscription_type    0\n",
      "minute_price         0\n",
      "start_ride_price     0\n",
      "subscription_fee     0\n",
      "dtype: int64\n",
      "====================================================================================================\n"
     ]
    }
   ],
   "source": [
    "dfs = [users, rides, subs]\n",
    "for entry in dfs:\n",
    "    print(entry.isna().sum())\n",
    "    print('='*100)"
   ]
  },
  {
   "cell_type": "markdown",
   "id": "65414980",
   "metadata": {},
   "source": [
    "Пропущенные значения отсутствуют во всех трех датафреймах. "
   ]
  },
  {
   "cell_type": "markdown",
   "id": "9c2cfe96",
   "metadata": {},
   "source": [
    "Последняя часть в блоке по предобработке данных - это дубликаты. Избавлюсь от них."
   ]
  },
  {
   "cell_type": "code",
   "execution_count": 15,
   "id": "b0cb6f19",
   "metadata": {},
   "outputs": [
    {
     "data": {
      "text/plain": [
       "31"
      ]
     },
     "execution_count": 15,
     "metadata": {},
     "output_type": "execute_result"
    }
   ],
   "source": [
    "users.duplicated().sum()"
   ]
  },
  {
   "cell_type": "markdown",
   "id": "64fcd8da",
   "metadata": {},
   "source": [
    "В датафрейме **users** 31 дубликат. От них-то и избавлюсь."
   ]
  },
  {
   "cell_type": "code",
   "execution_count": 16,
   "id": "a4a7d37e",
   "metadata": {},
   "outputs": [],
   "source": [
    "users.drop_duplicates(inplace=True)"
   ]
  },
  {
   "cell_type": "markdown",
   "id": "2c228062",
   "metadata": {},
   "source": [
    "Проверим, что дубликаты убраны:"
   ]
  },
  {
   "cell_type": "code",
   "execution_count": 17,
   "id": "28a27edf",
   "metadata": {},
   "outputs": [
    {
     "data": {
      "text/plain": [
       "0"
      ]
     },
     "execution_count": 17,
     "metadata": {},
     "output_type": "execute_result"
    }
   ],
   "source": [
    "users.duplicated().sum()"
   ]
  },
  {
   "cell_type": "markdown",
   "id": "3ded7d3a",
   "metadata": {},
   "source": [
    "Мы **НЕ** станем проверять на дубликаты датафрейм **subs**, посколько это чисто информационная таблица. Однако, датафрейм **rides** в очистке от дубликатов все же нуждается"
   ]
  },
  {
   "cell_type": "code",
   "execution_count": 18,
   "id": "55570f29",
   "metadata": {
    "scrolled": true
   },
   "outputs": [
    {
     "data": {
      "text/plain": [
       "0"
      ]
     },
     "execution_count": 18,
     "metadata": {},
     "output_type": "execute_result"
    }
   ],
   "source": [
    "rides.duplicated().sum()"
   ]
  },
  {
   "cell_type": "markdown",
   "id": "0294507b",
   "metadata": {},
   "source": [
    "Их там нет. Следовательно, можно сделать подвывод:\n",
    "\n",
    "- Пропущенных значений в датафреймах нет\n",
    "- Дубликаты есть только в датафрейме **rides**. Они удалены.\n",
    "\n",
    "На этом предобработку данных можно считать завершенной."
   ]
  },
  {
   "cell_type": "markdown",
   "id": "212593c7",
   "metadata": {},
   "source": [
    "#### Шаг 3. Исследовательский анализ данных"
   ]
  },
  {
   "cell_type": "markdown",
   "id": "d2c42d1b",
   "metadata": {},
   "source": [
    "Прежде всего оценю частоту встречаемости городов. Построю столбчатую диграмму"
   ]
  },
  {
   "cell_type": "code",
   "execution_count": 19,
   "id": "f734586f",
   "metadata": {
    "scrolled": true
   },
   "outputs": [
    {
     "data": {
      "image/png": "[encoded data removed]",
      "text/plain": [
       "<Figure size 432x288 with 1 Axes>"
      ]
     },
     "metadata": {
      "needs_background": "light"
     },
     "output_type": "display_data"
    }
   ],
   "source": [
    "usg = users['city'].value_counts().plot(kind = 'bar', title = 'Распределение пользователей по городам');\n",
    "usg.set_xlabel(\"Количество пользователей\")\n",
    "usg.set_ylabel(\"Город\");"
   ]
  },
  {
   "cell_type": "markdown",
   "id": "7bbb7251",
   "metadata": {},
   "source": [
    "Как видно из столбчатой диаграммы, самое большое количество пользователей в Пятигорске. Наименьшее - в Москве. Однако разница между городами по количеству пользоватеелй небольшая. Найду долю, занимаемую каждым городом:"
   ]
  },
  {
   "cell_type": "code",
   "execution_count": 20,
   "id": "71cc2cfb",
   "metadata": {},
   "outputs": [
    {
     "name": "stdout",
     "output_type": "stream",
     "text": [
      "Пятигорск         14.28\n",
      "Екатеринбург      13.30\n",
      "Ростов-на-Дону    12.91\n",
      "Краснодар         12.58\n",
      "Сочи              12.32\n",
      "Омск              11.93\n",
      "Тюмень            11.73\n",
      "Москва            10.95\n",
      "Name: city, dtype: float64\n"
     ]
    }
   ],
   "source": [
    "print(round(users['city'].value_counts() / users['city'].value_counts().sum() * 100, 2))"
   ]
  },
  {
   "cell_type": "markdown",
   "id": "b499dbce",
   "metadata": {},
   "source": [
    "Теперь оценимм кого больше: пользователей с подпиской или без? И на сколько."
   ]
  },
  {
   "cell_type": "code",
   "execution_count": 21,
   "id": "109611ff",
   "metadata": {
    "scrolled": true
   },
   "outputs": [
    {
     "data": {
      "image/png": "[encoded data removed]",
      "text/plain": [
       "<Figure size 432x288 with 1 Axes>"
      ]
     },
     "metadata": {},
     "output_type": "display_data"
    }
   ],
   "source": [
    "users['subscription_type'].value_counts().plot(kind = 'pie', autopct = '%1.0f%%', ylabel = '', title = 'Соотношение количества людей с подпиской и без');"
   ]
  },
  {
   "cell_type": "markdown",
   "id": "e66c6fc9",
   "metadata": {},
   "source": [
    "Неудивительно, но платящих за \"Ультра\" тариф меньше, чем тех, кто пользуются бесплатным вариантом. Однако разница между ними всего 8% (Примерно 122 человека)"
   ]
  },
  {
   "cell_type": "markdown",
   "id": "fec0324c",
   "metadata": {},
   "source": [
    "Ранее я уже оценил возраст пользователей. Приведу заранее построенную гистограмму ещё раз:"
   ]
  },
  {
   "cell_type": "code",
   "execution_count": 22,
   "id": "32f7def1",
   "metadata": {
    "scrolled": true
   },
   "outputs": [
    {
     "data": {
      "image/png": "[encoded data removed]",
      "text/plain": [
       "<Figure size 432x288 with 1 Axes>"
      ]
     },
     "metadata": {
      "needs_background": "light"
     },
     "output_type": "display_data"
    }
   ],
   "source": [
    "plt.hist(users['age'], bins = 30)\n",
    "plt.xlabel('Возраст')\n",
    "plt.ylabel('Кол-во пользователей')\n",
    "plt.title('Возрастной состав пользователей');"
   ]
  },
  {
   "cell_type": "markdown",
   "id": "d4d533bf",
   "metadata": {},
   "source": [
    "Распределение близко к нормальному. Значительных выбросов нет.\n",
    "\n",
    "Выясню средний возраст, самого старшего и самого младшего из пользователей:"
   ]
  },
  {
   "cell_type": "code",
   "execution_count": 23,
   "id": "e7a0fc9c",
   "metadata": {
    "scrolled": true
   },
   "outputs": [
    {
     "name": "stdout",
     "output_type": "stream",
     "text": [
      "Максимальный возраст: 43\n",
      "Минимальный возраст: 12\n",
      "Средний возраст: 24.9\n"
     ]
    }
   ],
   "source": [
    "print('Максимальный возраст:', users['age'].max())\n",
    "print('Минимальный возраст:', users['age'].min())\n",
    "print('Средний возраст:', round(users['age'].mean(), 1))"
   ]
  },
  {
   "cell_type": "markdown",
   "id": "8b117512",
   "metadata": {},
   "source": [
    "Теперь обращусь к расстоянию, которое проезжают пользователи. Построю гистограмму:"
   ]
  },
  {
   "cell_type": "code",
   "execution_count": 24,
   "id": "8df50ed0",
   "metadata": {},
   "outputs": [
    {
     "data": {
      "image/png": "[encoded data removed]",
      "text/plain": [
       "<Figure size 432x288 with 1 Axes>"
      ]
     },
     "metadata": {
      "needs_background": "light"
     },
     "output_type": "display_data"
    }
   ],
   "source": [
    "plt.hist(rides['distance'], bins = 1000)\n",
    "plt.xlabel('Расстояние, м')\n",
    "plt.ylabel('Кол-во пользователей')\n",
    "plt.title('Расстояние, преодалеваемое пользователями за одну поездку');"
   ]
  },
  {
   "cell_type": "markdown",
   "id": "fad55a8b",
   "metadata": {},
   "source": [
    "Для оценки дальностей поездок построю график типа boxplot:"
   ]
  },
  {
   "cell_type": "code",
   "execution_count": 25,
   "id": "4d683b7e",
   "metadata": {
    "scrolled": true
   },
   "outputs": [
    {
     "data": {
      "image/png": "[encoded data removed]",
      "text/plain": [
       "<Figure size 432x288 with 1 Axes>"
      ]
     },
     "metadata": {
      "needs_background": "light"
     },
     "output_type": "display_data"
    }
   ],
   "source": [
    "sns.boxplot(x=rides['distance'], color='blue')\n",
    "plt.title('Расстояние, преодоленное за одну поездку')\n",
    "plt.xlabel('Расстояние, м')\n",
    "_ = plt.xlim(0, 8000)"
   ]
  },
  {
   "cell_type": "markdown",
   "id": "3fb95d34",
   "metadata": {},
   "source": [
    "Из данных, которые мы визуализировали выше следует, что в основном самокаты берут для:\n",
    "\n",
    "- Поездок на очень короткие дистанции (~500 метров)\n",
    "- Поездок на средние дистанции (~ 3.5 километра)\n",
    "\n",
    "Два тих пика могут быть объяснены тем, что много людей оплачивает самока просто чтобы опробовать сервис. Отсюда скачок поездок на очень маленькие расстояния. Второй же пик скорее всего обусловлен большинством, которое арендует самокат для поездок на дистанции большеватые для преодаления его пешком. Именно такие пользователи представляют большинство, пользующееся сервисом."
   ]
  },
  {
   "cell_type": "markdown",
   "id": "022e1352",
   "metadata": {},
   "source": [
    "Оценим продолжительность поездок. Для начала прострою гистограмму:"
   ]
  },
  {
   "cell_type": "code",
   "execution_count": 26,
   "id": "6ac0e7a7",
   "metadata": {
    "scrolled": true
   },
   "outputs": [
    {
     "data": {
      "image/png": "[encoded data removed]",
      "text/plain": [
       "<Figure size 432x288 with 1 Axes>"
      ]
     },
     "metadata": {
      "needs_background": "light"
     },
     "output_type": "display_data"
    }
   ],
   "source": [
    "plt.hist(rides['duration'], bins = 1000)\n",
    "plt.xlabel('Продолжительность поездки')\n",
    "plt.ylabel('Кол-во пользователей')\n",
    "plt.title('Время, проводимое пользователями в одной поездке');"
   ]
  },
  {
   "cell_type": "markdown",
   "id": "04fe7a08",
   "metadata": {},
   "source": [
    "Можно заметить, что гистограммы длительности и дальности поездок имеют \"провал\" между маленьким пиком в начале и основным пиком. Скорее всего это потому что длительность и дальность поездок в какой-то степени коррелируют между собой.\n",
    "\n",
    "Узнаю среднее, максимальное и минимальное время поездок:"
   ]
  },
  {
   "cell_type": "code",
   "execution_count": 27,
   "id": "28db73d9",
   "metadata": {},
   "outputs": [
    {
     "name": "stdout",
     "output_type": "stream",
     "text": [
      "Максимальное время поездки: 40.82396261922424\n",
      "Минимальное время поездки: 0.5\n",
      "Среднее время поездки: 17.80501119798444\n"
     ]
    }
   ],
   "source": [
    "print('Максимальное время поездки:', rides['duration'].max())\n",
    "print('Минимальное время поездки:', rides['duration'].min())\n",
    "print('Среднее время поездки:', rides['duration'].mean())"
   ]
  },
  {
   "cell_type": "markdown",
   "id": "3cef8b2a",
   "metadata": {},
   "source": [
    "Составлю таблицу с общим временем, поведенному в пути и преодолённому расстоянию по каждому пользователю:"
   ]
  },
  {
   "cell_type": "code",
   "execution_count": 28,
   "id": "c1a297fc",
   "metadata": {
    "scrolled": true
   },
   "outputs": [
    {
     "data": {
      "text/html": [
       "<div>\n",
       "<style scoped>\n",
       "    .dataframe tbody tr th:only-of-type {\n",
       "        vertical-align: middle;\n",
       "    }\n",
       "\n",
       "    .dataframe tbody tr th {\n",
       "        vertical-align: top;\n",
       "    }\n",
       "\n",
       "    .dataframe thead th {\n",
       "        text-align: right;\n",
       "    }\n",
       "</style>\n",
       "<table border=\"1\" class=\"dataframe\">\n",
       "  <thead>\n",
       "    <tr style=\"text-align: right;\">\n",
       "      <th></th>\n",
       "      <th>distance</th>\n",
       "      <th>duration</th>\n",
       "    </tr>\n",
       "    <tr>\n",
       "      <th>user_id</th>\n",
       "      <th></th>\n",
       "      <th></th>\n",
       "    </tr>\n",
       "  </thead>\n",
       "  <tbody>\n",
       "    <tr>\n",
       "      <th>1</th>\n",
       "      <td>34070.182066</td>\n",
       "      <td>204.604909</td>\n",
       "    </tr>\n",
       "    <tr>\n",
       "      <th>2</th>\n",
       "      <td>33964.058614</td>\n",
       "      <td>197.644279</td>\n",
       "    </tr>\n",
       "    <tr>\n",
       "      <th>3</th>\n",
       "      <td>36907.597866</td>\n",
       "      <td>233.193513</td>\n",
       "    </tr>\n",
       "    <tr>\n",
       "      <th>4</th>\n",
       "      <td>44837.189916</td>\n",
       "      <td>288.563581</td>\n",
       "    </tr>\n",
       "    <tr>\n",
       "      <th>5</th>\n",
       "      <td>35556.949649</td>\n",
       "      <td>174.073932</td>\n",
       "    </tr>\n",
       "    <tr>\n",
       "      <th>...</th>\n",
       "      <td>...</td>\n",
       "      <td>...</td>\n",
       "    </tr>\n",
       "    <tr>\n",
       "      <th>1530</th>\n",
       "      <td>46758.469822</td>\n",
       "      <td>292.366839</td>\n",
       "    </tr>\n",
       "    <tr>\n",
       "      <th>1531</th>\n",
       "      <td>67054.794222</td>\n",
       "      <td>408.192206</td>\n",
       "    </tr>\n",
       "    <tr>\n",
       "      <th>1532</th>\n",
       "      <td>33902.203192</td>\n",
       "      <td>212.160144</td>\n",
       "    </tr>\n",
       "    <tr>\n",
       "      <th>1533</th>\n",
       "      <td>36890.192211</td>\n",
       "      <td>240.580297</td>\n",
       "    </tr>\n",
       "    <tr>\n",
       "      <th>1534</th>\n",
       "      <td>41898.442847</td>\n",
       "      <td>229.835127</td>\n",
       "    </tr>\n",
       "  </tbody>\n",
       "</table>\n",
       "<p>1534 rows × 2 columns</p>\n",
       "</div>"
      ],
      "text/plain": [
       "             distance    duration\n",
       "user_id                          \n",
       "1        34070.182066  204.604909\n",
       "2        33964.058614  197.644279\n",
       "3        36907.597866  233.193513\n",
       "4        44837.189916  288.563581\n",
       "5        35556.949649  174.073932\n",
       "...               ...         ...\n",
       "1530     46758.469822  292.366839\n",
       "1531     67054.794222  408.192206\n",
       "1532     33902.203192  212.160144\n",
       "1533     36890.192211  240.580297\n",
       "1534     41898.442847  229.835127\n",
       "\n",
       "[1534 rows x 2 columns]"
      ]
     },
     "execution_count": 28,
     "metadata": {},
     "output_type": "execute_result"
    }
   ],
   "source": [
    "grouped_rides = rides[['distance', 'duration']].groupby(by = rides['user_id']).sum(numeric_only = True)\n",
    "grouped_rides"
   ]
  },
  {
   "cell_type": "markdown",
   "id": "09dc7ce6",
   "metadata": {},
   "source": [
    "На этом исследовательский анализ данных можно завершить. Сделаем подытог:\n",
    "\n",
    "**Частота встречаемости городов:**\n",
    "\n",
    "- Самый встречающийся в заказах город - Пятигорск. \n",
    "- Самый редко встречающийся в заказах город- Москва. \n",
    "\n",
    "Возможно это связано с высокой конкуренцией в столице и низкой в сравнительно небольшом Пятигорске.\n",
    "\n",
    "**Баланс пользователей с подпиской и без нее:**\n",
    "\n",
    "Большинство пользователей НЕ оплачивают подписку. Их доля составляет **54%** от общей доли пользователей. \n",
    "\n",
    "**Возраст пользователей:**\n",
    "\n",
    "- Самому младшему пользователю 12 лет. \n",
    "- Самому старшему пользователю 43 года. \n",
    "\n",
    "Однако основную массу тех, кто использует самокаты составляют взрослые люди **22-26** лет.\n",
    "\n",
    "**Дистанция, преодалеваемая пользователями:**\n",
    "\n",
    "Как правило пользователи берут самокат на расстояние 3-4 километра. Однако есть и заметная масса пользователей, которые проезжают ~500 метров. Скорее всего это те, кто берет самокат в аренду просто попробовать.\n",
    "\n",
    "**Время, которое пользователи проводят в пути:**\n",
    "\n",
    "- Самые короткие поездки - 30-секундные\n",
    "- Самые длительные поездки - 40 минутные\n",
    " \n",
    "В среднем в пути люди проводят около **17 минут**."
   ]
  },
  {
   "cell_type": "markdown",
   "id": "4ef51331",
   "metadata": {},
   "source": [
    "#### Шаг 4. Объединение данных"
   ]
  },
  {
   "cell_type": "markdown",
   "id": "d5c6694a",
   "metadata": {},
   "source": [
    "Объединим данные о пользователях в единый датафрейм:"
   ]
  },
  {
   "cell_type": "code",
   "execution_count": 29,
   "id": "b5a2f35b",
   "metadata": {},
   "outputs": [
    {
     "data": {
      "text/html": [
       "<div>\n",
       "<style scoped>\n",
       "    .dataframe tbody tr th:only-of-type {\n",
       "        vertical-align: middle;\n",
       "    }\n",
       "\n",
       "    .dataframe tbody tr th {\n",
       "        vertical-align: top;\n",
       "    }\n",
       "\n",
       "    .dataframe thead th {\n",
       "        text-align: right;\n",
       "    }\n",
       "</style>\n",
       "<table border=\"1\" class=\"dataframe\">\n",
       "  <thead>\n",
       "    <tr style=\"text-align: right;\">\n",
       "      <th></th>\n",
       "      <th>user_id</th>\n",
       "      <th>name</th>\n",
       "      <th>age</th>\n",
       "      <th>city</th>\n",
       "      <th>subscription_type</th>\n",
       "      <th>distance</th>\n",
       "      <th>duration</th>\n",
       "      <th>date</th>\n",
       "      <th>month</th>\n",
       "      <th>minute_price</th>\n",
       "      <th>start_ride_price</th>\n",
       "      <th>subscription_fee</th>\n",
       "    </tr>\n",
       "  </thead>\n",
       "  <tbody>\n",
       "    <tr>\n",
       "      <th>0</th>\n",
       "      <td>1</td>\n",
       "      <td>Кира</td>\n",
       "      <td>22</td>\n",
       "      <td>Тюмень</td>\n",
       "      <td>ultra</td>\n",
       "      <td>4409.919140</td>\n",
       "      <td>25.599769</td>\n",
       "      <td>2021-01-01</td>\n",
       "      <td>1</td>\n",
       "      <td>6</td>\n",
       "      <td>0</td>\n",
       "      <td>199</td>\n",
       "    </tr>\n",
       "    <tr>\n",
       "      <th>1</th>\n",
       "      <td>1</td>\n",
       "      <td>Кира</td>\n",
       "      <td>22</td>\n",
       "      <td>Тюмень</td>\n",
       "      <td>ultra</td>\n",
       "      <td>2617.592153</td>\n",
       "      <td>15.816871</td>\n",
       "      <td>2021-01-18</td>\n",
       "      <td>1</td>\n",
       "      <td>6</td>\n",
       "      <td>0</td>\n",
       "      <td>199</td>\n",
       "    </tr>\n",
       "    <tr>\n",
       "      <th>2</th>\n",
       "      <td>1</td>\n",
       "      <td>Кира</td>\n",
       "      <td>22</td>\n",
       "      <td>Тюмень</td>\n",
       "      <td>ultra</td>\n",
       "      <td>754.159807</td>\n",
       "      <td>6.232113</td>\n",
       "      <td>2021-04-20</td>\n",
       "      <td>4</td>\n",
       "      <td>6</td>\n",
       "      <td>0</td>\n",
       "      <td>199</td>\n",
       "    </tr>\n",
       "    <tr>\n",
       "      <th>3</th>\n",
       "      <td>1</td>\n",
       "      <td>Кира</td>\n",
       "      <td>22</td>\n",
       "      <td>Тюмень</td>\n",
       "      <td>ultra</td>\n",
       "      <td>2694.783254</td>\n",
       "      <td>18.511000</td>\n",
       "      <td>2021-08-11</td>\n",
       "      <td>8</td>\n",
       "      <td>6</td>\n",
       "      <td>0</td>\n",
       "      <td>199</td>\n",
       "    </tr>\n",
       "    <tr>\n",
       "      <th>4</th>\n",
       "      <td>1</td>\n",
       "      <td>Кира</td>\n",
       "      <td>22</td>\n",
       "      <td>Тюмень</td>\n",
       "      <td>ultra</td>\n",
       "      <td>4028.687306</td>\n",
       "      <td>26.265803</td>\n",
       "      <td>2021-08-28</td>\n",
       "      <td>8</td>\n",
       "      <td>6</td>\n",
       "      <td>0</td>\n",
       "      <td>199</td>\n",
       "    </tr>\n",
       "    <tr>\n",
       "      <th>...</th>\n",
       "      <td>...</td>\n",
       "      <td>...</td>\n",
       "      <td>...</td>\n",
       "      <td>...</td>\n",
       "      <td>...</td>\n",
       "      <td>...</td>\n",
       "      <td>...</td>\n",
       "      <td>...</td>\n",
       "      <td>...</td>\n",
       "      <td>...</td>\n",
       "      <td>...</td>\n",
       "      <td>...</td>\n",
       "    </tr>\n",
       "    <tr>\n",
       "      <th>18063</th>\n",
       "      <td>1534</td>\n",
       "      <td>Альберт</td>\n",
       "      <td>25</td>\n",
       "      <td>Краснодар</td>\n",
       "      <td>free</td>\n",
       "      <td>3781.098080</td>\n",
       "      <td>19.822962</td>\n",
       "      <td>2021-11-04</td>\n",
       "      <td>11</td>\n",
       "      <td>8</td>\n",
       "      <td>50</td>\n",
       "      <td>0</td>\n",
       "    </tr>\n",
       "    <tr>\n",
       "      <th>18064</th>\n",
       "      <td>1534</td>\n",
       "      <td>Альберт</td>\n",
       "      <td>25</td>\n",
       "      <td>Краснодар</td>\n",
       "      <td>free</td>\n",
       "      <td>2840.423057</td>\n",
       "      <td>21.409799</td>\n",
       "      <td>2021-11-16</td>\n",
       "      <td>11</td>\n",
       "      <td>8</td>\n",
       "      <td>50</td>\n",
       "      <td>0</td>\n",
       "    </tr>\n",
       "    <tr>\n",
       "      <th>18065</th>\n",
       "      <td>1534</td>\n",
       "      <td>Альберт</td>\n",
       "      <td>25</td>\n",
       "      <td>Краснодар</td>\n",
       "      <td>free</td>\n",
       "      <td>3826.185507</td>\n",
       "      <td>18.435051</td>\n",
       "      <td>2021-11-18</td>\n",
       "      <td>11</td>\n",
       "      <td>8</td>\n",
       "      <td>50</td>\n",
       "      <td>0</td>\n",
       "    </tr>\n",
       "    <tr>\n",
       "      <th>18066</th>\n",
       "      <td>1534</td>\n",
       "      <td>Альберт</td>\n",
       "      <td>25</td>\n",
       "      <td>Краснодар</td>\n",
       "      <td>free</td>\n",
       "      <td>2902.308661</td>\n",
       "      <td>16.674362</td>\n",
       "      <td>2021-11-27</td>\n",
       "      <td>11</td>\n",
       "      <td>8</td>\n",
       "      <td>50</td>\n",
       "      <td>0</td>\n",
       "    </tr>\n",
       "    <tr>\n",
       "      <th>18067</th>\n",
       "      <td>1534</td>\n",
       "      <td>Альберт</td>\n",
       "      <td>25</td>\n",
       "      <td>Краснодар</td>\n",
       "      <td>free</td>\n",
       "      <td>2371.711192</td>\n",
       "      <td>15.893917</td>\n",
       "      <td>2021-12-29</td>\n",
       "      <td>12</td>\n",
       "      <td>8</td>\n",
       "      <td>50</td>\n",
       "      <td>0</td>\n",
       "    </tr>\n",
       "  </tbody>\n",
       "</table>\n",
       "<p>18068 rows × 12 columns</p>\n",
       "</div>"
      ],
      "text/plain": [
       "       user_id     name  age       city subscription_type     distance  \\\n",
       "0            1     Кира   22     Тюмень             ultra  4409.919140   \n",
       "1            1     Кира   22     Тюмень             ultra  2617.592153   \n",
       "2            1     Кира   22     Тюмень             ultra   754.159807   \n",
       "3            1     Кира   22     Тюмень             ultra  2694.783254   \n",
       "4            1     Кира   22     Тюмень             ultra  4028.687306   \n",
       "...        ...      ...  ...        ...               ...          ...   \n",
       "18063     1534  Альберт   25  Краснодар              free  3781.098080   \n",
       "18064     1534  Альберт   25  Краснодар              free  2840.423057   \n",
       "18065     1534  Альберт   25  Краснодар              free  3826.185507   \n",
       "18066     1534  Альберт   25  Краснодар              free  2902.308661   \n",
       "18067     1534  Альберт   25  Краснодар              free  2371.711192   \n",
       "\n",
       "        duration       date  month  minute_price  start_ride_price  \\\n",
       "0      25.599769 2021-01-01      1             6                 0   \n",
       "1      15.816871 2021-01-18      1             6                 0   \n",
       "2       6.232113 2021-04-20      4             6                 0   \n",
       "3      18.511000 2021-08-11      8             6                 0   \n",
       "4      26.265803 2021-08-28      8             6                 0   \n",
       "...          ...        ...    ...           ...               ...   \n",
       "18063  19.822962 2021-11-04     11             8                50   \n",
       "18064  21.409799 2021-11-16     11             8                50   \n",
       "18065  18.435051 2021-11-18     11             8                50   \n",
       "18066  16.674362 2021-11-27     11             8                50   \n",
       "18067  15.893917 2021-12-29     12             8                50   \n",
       "\n",
       "       subscription_fee  \n",
       "0                   199  \n",
       "1                   199  \n",
       "2                   199  \n",
       "3                   199  \n",
       "4                   199  \n",
       "...                 ...  \n",
       "18063                 0  \n",
       "18064                 0  \n",
       "18065                 0  \n",
       "18066                 0  \n",
       "18067                 0  \n",
       "\n",
       "[18068 rows x 12 columns]"
      ]
     },
     "execution_count": 29,
     "metadata": {},
     "output_type": "execute_result"
    }
   ],
   "source": [
    "full_data = users.merge(rides)\n",
    "full_data = full_data.merge(subs)\n",
    "full_data"
   ]
  },
  {
   "cell_type": "markdown",
   "id": "aed81d42",
   "metadata": {},
   "source": [
    "Проверим соответствие размерностей таблиц:\n",
    "\n",
    "Сложим значения размеров таблиц"
   ]
  },
  {
   "cell_type": "code",
   "execution_count": 30,
   "id": "5459cf3b",
   "metadata": {
    "scrolled": true
   },
   "outputs": [
    {
     "name": "stdout",
     "output_type": "stream",
     "text": [
      "(18068, 5)\n",
      "(1534, 5)\n",
      "(2, 4)\n"
     ]
    }
   ],
   "source": [
    "lst = [rides, users, subs]\n",
    "for entry in lst:\n",
    "    print(entry.shape)"
   ]
  },
  {
   "cell_type": "markdown",
   "id": "4384227d",
   "metadata": {},
   "source": [
    "Всего у нас должно быть 18086 колонок, так как full data описывает каждую отдельную поездку.\n",
    "Столбцов у нас должно быть равно сумме столбцов объединяемых датафреймов - 2, так как в датафрейме rides указан user id, а в датафрейме users указан subscription type.\n",
    "\n",
    "Итого размер full_data должен равняться (18068, 12)"
   ]
  },
  {
   "cell_type": "code",
   "execution_count": 31,
   "id": "f93e81d0",
   "metadata": {},
   "outputs": [
    {
     "name": "stdout",
     "output_type": "stream",
     "text": [
      "РАЗМЕРНОСТЬ ТАБЛИЦ СОВПАДАЕТ\n"
     ]
    }
   ],
   "source": [
    "if full_data.shape == (18068, 12):\n",
    "    print('РАЗМЕРНОСТЬ ТАБЛИЦ СОВПАДАЕТ')\n",
    "else: \n",
    "    print('ОШИБКА. ОБЪЕДИНЕНИЕ НЕ ВЕРНО!')"
   ]
  },
  {
   "cell_type": "markdown",
   "id": "1f1a02b9",
   "metadata": {},
   "source": [
    "Объединение прошло как надо, можно двигатьяс дальше."
   ]
  },
  {
   "cell_type": "markdown",
   "id": "b042fa20",
   "metadata": {},
   "source": [
    "Отдельно создам датафрейм о пользователях без подписки:"
   ]
  },
  {
   "cell_type": "code",
   "execution_count": 32,
   "id": "08c5d173",
   "metadata": {
    "scrolled": true
   },
   "outputs": [
    {
     "data": {
      "text/html": [
       "<div>\n",
       "<style scoped>\n",
       "    .dataframe tbody tr th:only-of-type {\n",
       "        vertical-align: middle;\n",
       "    }\n",
       "\n",
       "    .dataframe tbody tr th {\n",
       "        vertical-align: top;\n",
       "    }\n",
       "\n",
       "    .dataframe thead th {\n",
       "        text-align: right;\n",
       "    }\n",
       "</style>\n",
       "<table border=\"1\" class=\"dataframe\">\n",
       "  <thead>\n",
       "    <tr style=\"text-align: right;\">\n",
       "      <th></th>\n",
       "      <th>user_id</th>\n",
       "      <th>name</th>\n",
       "      <th>age</th>\n",
       "      <th>city</th>\n",
       "      <th>subscription_type</th>\n",
       "      <th>distance</th>\n",
       "      <th>duration</th>\n",
       "      <th>date</th>\n",
       "      <th>month</th>\n",
       "      <th>minute_price</th>\n",
       "      <th>start_ride_price</th>\n",
       "      <th>subscription_fee</th>\n",
       "    </tr>\n",
       "  </thead>\n",
       "  <tbody>\n",
       "    <tr>\n",
       "      <th>6500</th>\n",
       "      <td>700</td>\n",
       "      <td>Айдар</td>\n",
       "      <td>22</td>\n",
       "      <td>Омск</td>\n",
       "      <td>free</td>\n",
       "      <td>2515.690719</td>\n",
       "      <td>14.944286</td>\n",
       "      <td>2021-01-02</td>\n",
       "      <td>1</td>\n",
       "      <td>8</td>\n",
       "      <td>50</td>\n",
       "      <td>0</td>\n",
       "    </tr>\n",
       "    <tr>\n",
       "      <th>6501</th>\n",
       "      <td>700</td>\n",
       "      <td>Айдар</td>\n",
       "      <td>22</td>\n",
       "      <td>Омск</td>\n",
       "      <td>free</td>\n",
       "      <td>846.932642</td>\n",
       "      <td>16.234663</td>\n",
       "      <td>2021-02-01</td>\n",
       "      <td>2</td>\n",
       "      <td>8</td>\n",
       "      <td>50</td>\n",
       "      <td>0</td>\n",
       "    </tr>\n",
       "    <tr>\n",
       "      <th>6502</th>\n",
       "      <td>700</td>\n",
       "      <td>Айдар</td>\n",
       "      <td>22</td>\n",
       "      <td>Омск</td>\n",
       "      <td>free</td>\n",
       "      <td>4004.434142</td>\n",
       "      <td>20.016628</td>\n",
       "      <td>2021-02-04</td>\n",
       "      <td>2</td>\n",
       "      <td>8</td>\n",
       "      <td>50</td>\n",
       "      <td>0</td>\n",
       "    </tr>\n",
       "    <tr>\n",
       "      <th>6503</th>\n",
       "      <td>700</td>\n",
       "      <td>Айдар</td>\n",
       "      <td>22</td>\n",
       "      <td>Омск</td>\n",
       "      <td>free</td>\n",
       "      <td>1205.911290</td>\n",
       "      <td>9.782872</td>\n",
       "      <td>2021-02-10</td>\n",
       "      <td>2</td>\n",
       "      <td>8</td>\n",
       "      <td>50</td>\n",
       "      <td>0</td>\n",
       "    </tr>\n",
       "    <tr>\n",
       "      <th>6504</th>\n",
       "      <td>700</td>\n",
       "      <td>Айдар</td>\n",
       "      <td>22</td>\n",
       "      <td>Омск</td>\n",
       "      <td>free</td>\n",
       "      <td>3047.379435</td>\n",
       "      <td>17.427673</td>\n",
       "      <td>2021-02-14</td>\n",
       "      <td>2</td>\n",
       "      <td>8</td>\n",
       "      <td>50</td>\n",
       "      <td>0</td>\n",
       "    </tr>\n",
       "    <tr>\n",
       "      <th>...</th>\n",
       "      <td>...</td>\n",
       "      <td>...</td>\n",
       "      <td>...</td>\n",
       "      <td>...</td>\n",
       "      <td>...</td>\n",
       "      <td>...</td>\n",
       "      <td>...</td>\n",
       "      <td>...</td>\n",
       "      <td>...</td>\n",
       "      <td>...</td>\n",
       "      <td>...</td>\n",
       "      <td>...</td>\n",
       "    </tr>\n",
       "    <tr>\n",
       "      <th>18063</th>\n",
       "      <td>1534</td>\n",
       "      <td>Альберт</td>\n",
       "      <td>25</td>\n",
       "      <td>Краснодар</td>\n",
       "      <td>free</td>\n",
       "      <td>3781.098080</td>\n",
       "      <td>19.822962</td>\n",
       "      <td>2021-11-04</td>\n",
       "      <td>11</td>\n",
       "      <td>8</td>\n",
       "      <td>50</td>\n",
       "      <td>0</td>\n",
       "    </tr>\n",
       "    <tr>\n",
       "      <th>18064</th>\n",
       "      <td>1534</td>\n",
       "      <td>Альберт</td>\n",
       "      <td>25</td>\n",
       "      <td>Краснодар</td>\n",
       "      <td>free</td>\n",
       "      <td>2840.423057</td>\n",
       "      <td>21.409799</td>\n",
       "      <td>2021-11-16</td>\n",
       "      <td>11</td>\n",
       "      <td>8</td>\n",
       "      <td>50</td>\n",
       "      <td>0</td>\n",
       "    </tr>\n",
       "    <tr>\n",
       "      <th>18065</th>\n",
       "      <td>1534</td>\n",
       "      <td>Альберт</td>\n",
       "      <td>25</td>\n",
       "      <td>Краснодар</td>\n",
       "      <td>free</td>\n",
       "      <td>3826.185507</td>\n",
       "      <td>18.435051</td>\n",
       "      <td>2021-11-18</td>\n",
       "      <td>11</td>\n",
       "      <td>8</td>\n",
       "      <td>50</td>\n",
       "      <td>0</td>\n",
       "    </tr>\n",
       "    <tr>\n",
       "      <th>18066</th>\n",
       "      <td>1534</td>\n",
       "      <td>Альберт</td>\n",
       "      <td>25</td>\n",
       "      <td>Краснодар</td>\n",
       "      <td>free</td>\n",
       "      <td>2902.308661</td>\n",
       "      <td>16.674362</td>\n",
       "      <td>2021-11-27</td>\n",
       "      <td>11</td>\n",
       "      <td>8</td>\n",
       "      <td>50</td>\n",
       "      <td>0</td>\n",
       "    </tr>\n",
       "    <tr>\n",
       "      <th>18067</th>\n",
       "      <td>1534</td>\n",
       "      <td>Альберт</td>\n",
       "      <td>25</td>\n",
       "      <td>Краснодар</td>\n",
       "      <td>free</td>\n",
       "      <td>2371.711192</td>\n",
       "      <td>15.893917</td>\n",
       "      <td>2021-12-29</td>\n",
       "      <td>12</td>\n",
       "      <td>8</td>\n",
       "      <td>50</td>\n",
       "      <td>0</td>\n",
       "    </tr>\n",
       "  </tbody>\n",
       "</table>\n",
       "<p>11568 rows × 12 columns</p>\n",
       "</div>"
      ],
      "text/plain": [
       "       user_id     name  age       city subscription_type     distance  \\\n",
       "6500       700    Айдар   22       Омск              free  2515.690719   \n",
       "6501       700    Айдар   22       Омск              free   846.932642   \n",
       "6502       700    Айдар   22       Омск              free  4004.434142   \n",
       "6503       700    Айдар   22       Омск              free  1205.911290   \n",
       "6504       700    Айдар   22       Омск              free  3047.379435   \n",
       "...        ...      ...  ...        ...               ...          ...   \n",
       "18063     1534  Альберт   25  Краснодар              free  3781.098080   \n",
       "18064     1534  Альберт   25  Краснодар              free  2840.423057   \n",
       "18065     1534  Альберт   25  Краснодар              free  3826.185507   \n",
       "18066     1534  Альберт   25  Краснодар              free  2902.308661   \n",
       "18067     1534  Альберт   25  Краснодар              free  2371.711192   \n",
       "\n",
       "        duration       date  month  minute_price  start_ride_price  \\\n",
       "6500   14.944286 2021-01-02      1             8                50   \n",
       "6501   16.234663 2021-02-01      2             8                50   \n",
       "6502   20.016628 2021-02-04      2             8                50   \n",
       "6503    9.782872 2021-02-10      2             8                50   \n",
       "6504   17.427673 2021-02-14      2             8                50   \n",
       "...          ...        ...    ...           ...               ...   \n",
       "18063  19.822962 2021-11-04     11             8                50   \n",
       "18064  21.409799 2021-11-16     11             8                50   \n",
       "18065  18.435051 2021-11-18     11             8                50   \n",
       "18066  16.674362 2021-11-27     11             8                50   \n",
       "18067  15.893917 2021-12-29     12             8                50   \n",
       "\n",
       "       subscription_fee  \n",
       "6500                  0  \n",
       "6501                  0  \n",
       "6502                  0  \n",
       "6503                  0  \n",
       "6504                  0  \n",
       "...                 ...  \n",
       "18063                 0  \n",
       "18064                 0  \n",
       "18065                 0  \n",
       "18066                 0  \n",
       "18067                 0  \n",
       "\n",
       "[11568 rows x 12 columns]"
      ]
     },
     "execution_count": 32,
     "metadata": {},
     "output_type": "execute_result"
    }
   ],
   "source": [
    "free_sub = full_data.query(\"`subscription_type` == 'free'\")\n",
    "free_sub"
   ]
  },
  {
   "cell_type": "markdown",
   "id": "8722e4fc",
   "metadata": {},
   "source": [
    "Используя созданный выше датафрейм, я визуализирую информацию о дистанции поездок и времени в пути по бесплатному тарифу:"
   ]
  },
  {
   "cell_type": "code",
   "execution_count": 33,
   "id": "250a8d2b",
   "metadata": {
    "scrolled": true
   },
   "outputs": [
    {
     "data": {
      "image/png": "[encoded data removed]",
      "text/plain": [
       "<Figure size 432x288 with 1 Axes>"
      ]
     },
     "metadata": {
      "needs_background": "light"
     },
     "output_type": "display_data"
    }
   ],
   "source": [
    "fsd = free_sub['distance'].plot(kind = 'hist', bins = 30, title = 'Дальность поездок по бесплатному тарифу', xlabel = 'asd');\n",
    "fsd.set_xlabel(\"Дальность, м\")\n",
    "fsd.set_ylabel(\"Количество\");"
   ]
  },
  {
   "cell_type": "code",
   "execution_count": 34,
   "id": "95a5d1a1",
   "metadata": {
    "scrolled": true
   },
   "outputs": [
    {
     "data": {
      "image/png": "[encoded data removed]",
      "text/plain": [
       "<Figure size 432x288 with 1 Axes>"
      ]
     },
     "metadata": {
      "needs_background": "light"
     },
     "output_type": "display_data"
    }
   ],
   "source": [
    "fst = free_sub['duration'].plot(kind = 'hist', bins = 30, title = 'Длительность поездок по бесплатному тарифу', xlabel = 'asd');\n",
    "fst.set_xlabel(\"Длительность, мин\")\n",
    "fst.set_ylabel(\"Количество\");"
   ]
  },
  {
   "cell_type": "markdown",
   "id": "4f3e42cc",
   "metadata": {},
   "source": [
    "Как следует из визуализированной информации, пользователи с бесплатным тарифом в среднем пользуются самокатом 15-20 минут и проезжают 3-4 километра. Нашлись и такие пользователи, что проезжали более 7 километров.\n",
    "\n",
    "Теперь обратимся к данным по платному тарифу (Ultra):"
   ]
  },
  {
   "cell_type": "code",
   "execution_count": 35,
   "id": "490ebc81",
   "metadata": {
    "scrolled": true
   },
   "outputs": [
    {
     "data": {
      "text/html": [
       "<div>\n",
       "<style scoped>\n",
       "    .dataframe tbody tr th:only-of-type {\n",
       "        vertical-align: middle;\n",
       "    }\n",
       "\n",
       "    .dataframe tbody tr th {\n",
       "        vertical-align: top;\n",
       "    }\n",
       "\n",
       "    .dataframe thead th {\n",
       "        text-align: right;\n",
       "    }\n",
       "</style>\n",
       "<table border=\"1\" class=\"dataframe\">\n",
       "  <thead>\n",
       "    <tr style=\"text-align: right;\">\n",
       "      <th></th>\n",
       "      <th>user_id</th>\n",
       "      <th>name</th>\n",
       "      <th>age</th>\n",
       "      <th>city</th>\n",
       "      <th>subscription_type</th>\n",
       "      <th>distance</th>\n",
       "      <th>duration</th>\n",
       "      <th>date</th>\n",
       "      <th>month</th>\n",
       "      <th>minute_price</th>\n",
       "      <th>start_ride_price</th>\n",
       "      <th>subscription_fee</th>\n",
       "    </tr>\n",
       "  </thead>\n",
       "  <tbody>\n",
       "    <tr>\n",
       "      <th>0</th>\n",
       "      <td>1</td>\n",
       "      <td>Кира</td>\n",
       "      <td>22</td>\n",
       "      <td>Тюмень</td>\n",
       "      <td>ultra</td>\n",
       "      <td>4409.919140</td>\n",
       "      <td>25.599769</td>\n",
       "      <td>2021-01-01</td>\n",
       "      <td>1</td>\n",
       "      <td>6</td>\n",
       "      <td>0</td>\n",
       "      <td>199</td>\n",
       "    </tr>\n",
       "    <tr>\n",
       "      <th>1</th>\n",
       "      <td>1</td>\n",
       "      <td>Кира</td>\n",
       "      <td>22</td>\n",
       "      <td>Тюмень</td>\n",
       "      <td>ultra</td>\n",
       "      <td>2617.592153</td>\n",
       "      <td>15.816871</td>\n",
       "      <td>2021-01-18</td>\n",
       "      <td>1</td>\n",
       "      <td>6</td>\n",
       "      <td>0</td>\n",
       "      <td>199</td>\n",
       "    </tr>\n",
       "    <tr>\n",
       "      <th>2</th>\n",
       "      <td>1</td>\n",
       "      <td>Кира</td>\n",
       "      <td>22</td>\n",
       "      <td>Тюмень</td>\n",
       "      <td>ultra</td>\n",
       "      <td>754.159807</td>\n",
       "      <td>6.232113</td>\n",
       "      <td>2021-04-20</td>\n",
       "      <td>4</td>\n",
       "      <td>6</td>\n",
       "      <td>0</td>\n",
       "      <td>199</td>\n",
       "    </tr>\n",
       "    <tr>\n",
       "      <th>3</th>\n",
       "      <td>1</td>\n",
       "      <td>Кира</td>\n",
       "      <td>22</td>\n",
       "      <td>Тюмень</td>\n",
       "      <td>ultra</td>\n",
       "      <td>2694.783254</td>\n",
       "      <td>18.511000</td>\n",
       "      <td>2021-08-11</td>\n",
       "      <td>8</td>\n",
       "      <td>6</td>\n",
       "      <td>0</td>\n",
       "      <td>199</td>\n",
       "    </tr>\n",
       "    <tr>\n",
       "      <th>4</th>\n",
       "      <td>1</td>\n",
       "      <td>Кира</td>\n",
       "      <td>22</td>\n",
       "      <td>Тюмень</td>\n",
       "      <td>ultra</td>\n",
       "      <td>4028.687306</td>\n",
       "      <td>26.265803</td>\n",
       "      <td>2021-08-28</td>\n",
       "      <td>8</td>\n",
       "      <td>6</td>\n",
       "      <td>0</td>\n",
       "      <td>199</td>\n",
       "    </tr>\n",
       "    <tr>\n",
       "      <th>...</th>\n",
       "      <td>...</td>\n",
       "      <td>...</td>\n",
       "      <td>...</td>\n",
       "      <td>...</td>\n",
       "      <td>...</td>\n",
       "      <td>...</td>\n",
       "      <td>...</td>\n",
       "      <td>...</td>\n",
       "      <td>...</td>\n",
       "      <td>...</td>\n",
       "      <td>...</td>\n",
       "      <td>...</td>\n",
       "    </tr>\n",
       "    <tr>\n",
       "      <th>6495</th>\n",
       "      <td>699</td>\n",
       "      <td>Оксана</td>\n",
       "      <td>22</td>\n",
       "      <td>Москва</td>\n",
       "      <td>ultra</td>\n",
       "      <td>3973.046497</td>\n",
       "      <td>24.671163</td>\n",
       "      <td>2021-08-29</td>\n",
       "      <td>8</td>\n",
       "      <td>6</td>\n",
       "      <td>0</td>\n",
       "      <td>199</td>\n",
       "    </tr>\n",
       "    <tr>\n",
       "      <th>6496</th>\n",
       "      <td>699</td>\n",
       "      <td>Оксана</td>\n",
       "      <td>22</td>\n",
       "      <td>Москва</td>\n",
       "      <td>ultra</td>\n",
       "      <td>3288.702563</td>\n",
       "      <td>15.892886</td>\n",
       "      <td>2021-09-12</td>\n",
       "      <td>9</td>\n",
       "      <td>6</td>\n",
       "      <td>0</td>\n",
       "      <td>199</td>\n",
       "    </tr>\n",
       "    <tr>\n",
       "      <th>6497</th>\n",
       "      <td>699</td>\n",
       "      <td>Оксана</td>\n",
       "      <td>22</td>\n",
       "      <td>Москва</td>\n",
       "      <td>ultra</td>\n",
       "      <td>3076.159348</td>\n",
       "      <td>14.389525</td>\n",
       "      <td>2021-09-26</td>\n",
       "      <td>9</td>\n",
       "      <td>6</td>\n",
       "      <td>0</td>\n",
       "      <td>199</td>\n",
       "    </tr>\n",
       "    <tr>\n",
       "      <th>6498</th>\n",
       "      <td>699</td>\n",
       "      <td>Оксана</td>\n",
       "      <td>22</td>\n",
       "      <td>Москва</td>\n",
       "      <td>ultra</td>\n",
       "      <td>4707.845501</td>\n",
       "      <td>15.839579</td>\n",
       "      <td>2021-10-17</td>\n",
       "      <td>10</td>\n",
       "      <td>6</td>\n",
       "      <td>0</td>\n",
       "      <td>199</td>\n",
       "    </tr>\n",
       "    <tr>\n",
       "      <th>6499</th>\n",
       "      <td>699</td>\n",
       "      <td>Оксана</td>\n",
       "      <td>22</td>\n",
       "      <td>Москва</td>\n",
       "      <td>ultra</td>\n",
       "      <td>3202.890770</td>\n",
       "      <td>25.217345</td>\n",
       "      <td>2021-12-03</td>\n",
       "      <td>12</td>\n",
       "      <td>6</td>\n",
       "      <td>0</td>\n",
       "      <td>199</td>\n",
       "    </tr>\n",
       "  </tbody>\n",
       "</table>\n",
       "<p>6500 rows × 12 columns</p>\n",
       "</div>"
      ],
      "text/plain": [
       "      user_id    name  age    city subscription_type     distance   duration  \\\n",
       "0           1    Кира   22  Тюмень             ultra  4409.919140  25.599769   \n",
       "1           1    Кира   22  Тюмень             ultra  2617.592153  15.816871   \n",
       "2           1    Кира   22  Тюмень             ultra   754.159807   6.232113   \n",
       "3           1    Кира   22  Тюмень             ultra  2694.783254  18.511000   \n",
       "4           1    Кира   22  Тюмень             ultra  4028.687306  26.265803   \n",
       "...       ...     ...  ...     ...               ...          ...        ...   \n",
       "6495      699  Оксана   22  Москва             ultra  3973.046497  24.671163   \n",
       "6496      699  Оксана   22  Москва             ultra  3288.702563  15.892886   \n",
       "6497      699  Оксана   22  Москва             ultra  3076.159348  14.389525   \n",
       "6498      699  Оксана   22  Москва             ultra  4707.845501  15.839579   \n",
       "6499      699  Оксана   22  Москва             ultra  3202.890770  25.217345   \n",
       "\n",
       "           date  month  minute_price  start_ride_price  subscription_fee  \n",
       "0    2021-01-01      1             6                 0               199  \n",
       "1    2021-01-18      1             6                 0               199  \n",
       "2    2021-04-20      4             6                 0               199  \n",
       "3    2021-08-11      8             6                 0               199  \n",
       "4    2021-08-28      8             6                 0               199  \n",
       "...         ...    ...           ...               ...               ...  \n",
       "6495 2021-08-29      8             6                 0               199  \n",
       "6496 2021-09-12      9             6                 0               199  \n",
       "6497 2021-09-26      9             6                 0               199  \n",
       "6498 2021-10-17     10             6                 0               199  \n",
       "6499 2021-12-03     12             6                 0               199  \n",
       "\n",
       "[6500 rows x 12 columns]"
      ]
     },
     "execution_count": 35,
     "metadata": {},
     "output_type": "execute_result"
    }
   ],
   "source": [
    "ultra_sub = full_data.query(\"`subscription_type` == 'ultra'\")\n",
    "ultra_sub"
   ]
  },
  {
   "cell_type": "markdown",
   "id": "1b139c9b",
   "metadata": {},
   "source": [
    "Используя созданный выше датафрейм, я визуализирую информацию о дистанции поездок и времени в пути по Ultra тарифу:"
   ]
  },
  {
   "cell_type": "code",
   "execution_count": 36,
   "id": "e28e6968",
   "metadata": {
    "scrolled": true
   },
   "outputs": [
    {
     "data": {
      "image/png": "[encoded data removed]",
      "text/plain": [
       "<Figure size 432x288 with 1 Axes>"
      ]
     },
     "metadata": {
      "needs_background": "light"
     },
     "output_type": "display_data"
    }
   ],
   "source": [
    "usd = ultra_sub['distance'].plot(kind = 'hist', bins = 30, title = 'Дальность поездок по платному тарифу', xlabel = 'asd');\n",
    "usd.set_xlabel(\"Расстояние, м\")\n",
    "usd.set_ylabel(\"Количество\");"
   ]
  },
  {
   "cell_type": "code",
   "execution_count": 37,
   "id": "8bbe355d",
   "metadata": {
    "scrolled": true
   },
   "outputs": [
    {
     "data": {
      "image/png": "[encoded data removed]",
      "text/plain": [
       "<Figure size 432x288 with 1 Axes>"
      ]
     },
     "metadata": {
      "needs_background": "light"
     },
     "output_type": "display_data"
    }
   ],
   "source": [
    "ust = ultra_sub['duration'].plot(kind = 'hist', bins = 30, title = 'Длительность поездок по платному тарифу', xlabel = 'asd');\n",
    "ust.set_xlabel(\"Длительность, мин\")\n",
    "ust.set_ylabel(\"Количество\");"
   ]
  },
  {
   "cell_type": "markdown",
   "id": "15107840",
   "metadata": {},
   "source": [
    "А теперь сравним показатели разных подписок:"
   ]
  },
  {
   "cell_type": "code",
   "execution_count": 38,
   "id": "b0aff18c",
   "metadata": {
    "scrolled": true
   },
   "outputs": [
    {
     "data": {
      "image/png": "[encoded data removed]",
      "text/plain": [
       "<Figure size 432x288 with 1 Axes>"
      ]
     },
     "metadata": {
      "needs_background": "light"
     },
     "output_type": "display_data"
    }
   ],
   "source": [
    "plt.hist([free_sub['duration'], ultra_sub['duration']], bins = 30)\n",
    "plt.xlabel('Длительность поездок')\n",
    "plt.ylabel('Кол-во человек')\n",
    "plt.title('Сравнение длительности поездок по разным тарифам')\n",
    "plt.legend(('Free Subscription', 'Ultra Subscription'), loc='upper right');"
   ]
  },
  {
   "cell_type": "code",
   "execution_count": 39,
   "id": "889bab76",
   "metadata": {},
   "outputs": [
    {
     "data": {
      "image/png": "[encoded data removed]",
      "text/plain": [
       "<Figure size 432x288 with 1 Axes>"
      ]
     },
     "metadata": {
      "needs_background": "light"
     },
     "output_type": "display_data"
    }
   ],
   "source": [
    "plt.hist([free_sub['distance'], ultra_sub['distance']], bins = 30)\n",
    "plt.xlabel('Дальность поездок')\n",
    "plt.ylabel('Кол-во человек')\n",
    "plt.title('Сравнение дальности поездок по разным тарифам')\n",
    "plt.legend(('Free Subscription', 'Ultra Subscription'), loc='upper right');"
   ]
  },
  {
   "cell_type": "markdown",
   "id": "45d1e48d",
   "metadata": {},
   "source": [
    "Как следует из визуализированной информации, пользователи с платным тарифом чаще всего проезжают 3 километра. Среди них также наблюдается когорта тех, кто проезжает примерно по 1 километру. При этом длительность поездок по платному почти не отличается от длительности поездок по бесплатному тарифу и составляет 15-20 минут."
   ]
  },
  {
   "cell_type": "markdown",
   "id": "2becb78a",
   "metadata": {},
   "source": [
    "**Сделаем подвывод**\n",
    "\n",
    "Пользователи, пользующиеся бесплатным тарифом склонны к преодалению больших расстояний за одну поездку, чем подписчики тарифа Ultra. При этом и те, и те находятся в одной поездке примерно 15-20 минут, но среди пользователей бесплатного тарифа больше тех, кто предпочитает более длительные поездки (20+ минут)."
   ]
  },
  {
   "cell_type": "markdown",
   "id": "402d620f",
   "metadata": {},
   "source": [
    "#### Шаг 5. Подсчёт выручки"
   ]
  },
  {
   "cell_type": "markdown",
   "id": "699e81c1",
   "metadata": {},
   "source": [
    "Создадим датафрейм с агрегированными данными о поездках на основе датафрейма с объединёнными данными из шага 4: найдем суммарное расстояние, количество поездок и суммарное время для каждого пользователя за каждый месяц."
   ]
  },
  {
   "cell_type": "code",
   "execution_count": 40,
   "id": "a183229a",
   "metadata": {},
   "outputs": [
    {
     "data": {
      "text/html": [
       "<div>\n",
       "<style scoped>\n",
       "    .dataframe tbody tr th:only-of-type {\n",
       "        vertical-align: middle;\n",
       "    }\n",
       "\n",
       "    .dataframe tbody tr th {\n",
       "        vertical-align: top;\n",
       "    }\n",
       "\n",
       "    .dataframe thead th {\n",
       "        text-align: right;\n",
       "    }\n",
       "</style>\n",
       "<table border=\"1\" class=\"dataframe\">\n",
       "  <thead>\n",
       "    <tr style=\"text-align: right;\">\n",
       "      <th></th>\n",
       "      <th></th>\n",
       "      <th>distance</th>\n",
       "      <th>duration</th>\n",
       "      <th>rides</th>\n",
       "      <th>subscription_type</th>\n",
       "    </tr>\n",
       "    <tr>\n",
       "      <th>month</th>\n",
       "      <th>user_id</th>\n",
       "      <th></th>\n",
       "      <th></th>\n",
       "      <th></th>\n",
       "      <th></th>\n",
       "    </tr>\n",
       "  </thead>\n",
       "  <tbody>\n",
       "    <tr>\n",
       "      <th rowspan=\"5\" valign=\"top\">1</th>\n",
       "      <th>1</th>\n",
       "      <td>7027.511294</td>\n",
       "      <td>42.0</td>\n",
       "      <td>2</td>\n",
       "      <td>ultra</td>\n",
       "    </tr>\n",
       "    <tr>\n",
       "      <th>3</th>\n",
       "      <td>3061.777147</td>\n",
       "      <td>13.0</td>\n",
       "      <td>1</td>\n",
       "      <td>ultra</td>\n",
       "    </tr>\n",
       "    <tr>\n",
       "      <th>5</th>\n",
       "      <td>3914.646990</td>\n",
       "      <td>13.0</td>\n",
       "      <td>1</td>\n",
       "      <td>ultra</td>\n",
       "    </tr>\n",
       "    <tr>\n",
       "      <th>7</th>\n",
       "      <td>6478.080979</td>\n",
       "      <td>28.0</td>\n",
       "      <td>2</td>\n",
       "      <td>ultra</td>\n",
       "    </tr>\n",
       "    <tr>\n",
       "      <th>12</th>\n",
       "      <td>3577.151148</td>\n",
       "      <td>33.0</td>\n",
       "      <td>1</td>\n",
       "      <td>ultra</td>\n",
       "    </tr>\n",
       "    <tr>\n",
       "      <th>...</th>\n",
       "      <th>...</th>\n",
       "      <td>...</td>\n",
       "      <td>...</td>\n",
       "      <td>...</td>\n",
       "      <td>...</td>\n",
       "    </tr>\n",
       "    <tr>\n",
       "      <th rowspan=\"5\" valign=\"top\">12</th>\n",
       "      <th>1525</th>\n",
       "      <td>4597.854350</td>\n",
       "      <td>34.0</td>\n",
       "      <td>1</td>\n",
       "      <td>free</td>\n",
       "    </tr>\n",
       "    <tr>\n",
       "      <th>1526</th>\n",
       "      <td>3644.121544</td>\n",
       "      <td>23.0</td>\n",
       "      <td>1</td>\n",
       "      <td>free</td>\n",
       "    </tr>\n",
       "    <tr>\n",
       "      <th>1528</th>\n",
       "      <td>3998.569324</td>\n",
       "      <td>11.0</td>\n",
       "      <td>1</td>\n",
       "      <td>free</td>\n",
       "    </tr>\n",
       "    <tr>\n",
       "      <th>1532</th>\n",
       "      <td>6111.889853</td>\n",
       "      <td>41.0</td>\n",
       "      <td>2</td>\n",
       "      <td>free</td>\n",
       "    </tr>\n",
       "    <tr>\n",
       "      <th>1534</th>\n",
       "      <td>2371.711192</td>\n",
       "      <td>16.0</td>\n",
       "      <td>1</td>\n",
       "      <td>free</td>\n",
       "    </tr>\n",
       "  </tbody>\n",
       "</table>\n",
       "<p>11331 rows × 4 columns</p>\n",
       "</div>"
      ],
      "text/plain": [
       "                  distance  duration  rides subscription_type\n",
       "month user_id                                                \n",
       "1     1        7027.511294      42.0      2             ultra\n",
       "      3        3061.777147      13.0      1             ultra\n",
       "      5        3914.646990      13.0      1             ultra\n",
       "      7        6478.080979      28.0      2             ultra\n",
       "      12       3577.151148      33.0      1             ultra\n",
       "...                    ...       ...    ...               ...\n",
       "12    1525     4597.854350      34.0      1              free\n",
       "      1526     3644.121544      23.0      1              free\n",
       "      1528     3998.569324      11.0      1              free\n",
       "      1532     6111.889853      41.0      2              free\n",
       "      1534     2371.711192      16.0      1              free\n",
       "\n",
       "[11331 rows x 4 columns]"
      ]
     },
     "execution_count": 40,
     "metadata": {},
     "output_type": "execute_result"
    }
   ],
   "source": [
    "general_data = pd.pivot_table(full_data, index=['month', 'user_id'], values = ['distance', 'duration', 'name', 'subscription_type'], \n",
    "                            aggfunc = {'distance': sum, \n",
    "                                      'duration' : sum, \n",
    "                                      'name' : len, \n",
    "                                      'subscription_type' : min})\n",
    "general_data['duration'] = np.ceil(general_data['duration'])\n",
    "general_data.rename(columns = {'name' : 'rides'}, inplace = True)\n",
    "general_data.sort_values(by = ['month', 'user_id'])\n",
    "general_data"
   ]
  },
  {
   "cell_type": "markdown",
   "id": "669ec756",
   "metadata": {},
   "source": [
    "Проверим таблицу на пропуски и дубликаты строк:"
   ]
  },
  {
   "cell_type": "code",
   "execution_count": 41,
   "id": "c40dd8d1",
   "metadata": {
    "scrolled": true
   },
   "outputs": [
    {
     "data": {
      "text/plain": [
       "distance             0\n",
       "duration             0\n",
       "rides                0\n",
       "subscription_type    0\n",
       "dtype: int64"
      ]
     },
     "execution_count": 41,
     "metadata": {},
     "output_type": "execute_result"
    }
   ],
   "source": [
    "general_data.isna().sum()"
   ]
  },
  {
   "cell_type": "code",
   "execution_count": 42,
   "id": "8bb58428",
   "metadata": {
    "scrolled": true
   },
   "outputs": [
    {
     "data": {
      "text/plain": [
       "0"
      ]
     },
     "execution_count": 42,
     "metadata": {},
     "output_type": "execute_result"
    }
   ],
   "source": [
    "general_data.duplicated().sum()"
   ]
  },
  {
   "cell_type": "markdown",
   "id": "5490128f",
   "metadata": {},
   "source": [
    "Ни пропусков, ни дубликатов в таблице нет."
   ]
  },
  {
   "cell_type": "markdown",
   "id": "5262bfe8",
   "metadata": {},
   "source": [
    "Теперь к датафрейму выше добавлю столбец помесячной выручки:"
   ]
  },
  {
   "cell_type": "code",
   "execution_count": 43,
   "id": "a12d96d1",
   "metadata": {},
   "outputs": [],
   "source": [
    "def vyroochka(row):\n",
    "    if row['subscription_type'] == 'ultra':\n",
    "        return 6*row['duration'] + 199\n",
    "    elif row['subscription_type'] == 'free':\n",
    "        return 8 * row['duration'] + 50 * row['rides']\n",
    "    else:\n",
    "        return 'SUBSCRIPTION ERROR: CHECK SUBSCRIPTION DATA'"
   ]
  },
  {
   "cell_type": "markdown",
   "id": "695dad67",
   "metadata": {},
   "source": [
    "* *ipp = income per person*"
   ]
  },
  {
   "cell_type": "code",
   "execution_count": 44,
   "id": "0e9db1cb",
   "metadata": {},
   "outputs": [],
   "source": [
    "general_data['ipp'] = general_data.apply(vyroochka, axis = 1)\n",
    "general_data['ipp'] = general_data['ipp'].astype('int')"
   ]
  },
  {
   "cell_type": "markdown",
   "id": "0aded94d",
   "metadata": {},
   "source": [
    "Проверим результат:"
   ]
  },
  {
   "cell_type": "code",
   "execution_count": 45,
   "id": "df0b881c",
   "metadata": {
    "scrolled": true
   },
   "outputs": [
    {
     "data": {
      "text/html": [
       "<div>\n",
       "<style scoped>\n",
       "    .dataframe tbody tr th:only-of-type {\n",
       "        vertical-align: middle;\n",
       "    }\n",
       "\n",
       "    .dataframe tbody tr th {\n",
       "        vertical-align: top;\n",
       "    }\n",
       "\n",
       "    .dataframe thead th {\n",
       "        text-align: right;\n",
       "    }\n",
       "</style>\n",
       "<table border=\"1\" class=\"dataframe\">\n",
       "  <thead>\n",
       "    <tr style=\"text-align: right;\">\n",
       "      <th></th>\n",
       "      <th></th>\n",
       "      <th>distance</th>\n",
       "      <th>duration</th>\n",
       "      <th>rides</th>\n",
       "      <th>subscription_type</th>\n",
       "      <th>ipp</th>\n",
       "    </tr>\n",
       "    <tr>\n",
       "      <th>month</th>\n",
       "      <th>user_id</th>\n",
       "      <th></th>\n",
       "      <th></th>\n",
       "      <th></th>\n",
       "      <th></th>\n",
       "      <th></th>\n",
       "    </tr>\n",
       "  </thead>\n",
       "  <tbody>\n",
       "    <tr>\n",
       "      <th rowspan=\"5\" valign=\"top\">1</th>\n",
       "      <th>1</th>\n",
       "      <td>7027.511294</td>\n",
       "      <td>42.0</td>\n",
       "      <td>2</td>\n",
       "      <td>ultra</td>\n",
       "      <td>451</td>\n",
       "    </tr>\n",
       "    <tr>\n",
       "      <th>3</th>\n",
       "      <td>3061.777147</td>\n",
       "      <td>13.0</td>\n",
       "      <td>1</td>\n",
       "      <td>ultra</td>\n",
       "      <td>277</td>\n",
       "    </tr>\n",
       "    <tr>\n",
       "      <th>5</th>\n",
       "      <td>3914.646990</td>\n",
       "      <td>13.0</td>\n",
       "      <td>1</td>\n",
       "      <td>ultra</td>\n",
       "      <td>277</td>\n",
       "    </tr>\n",
       "    <tr>\n",
       "      <th>7</th>\n",
       "      <td>6478.080979</td>\n",
       "      <td>28.0</td>\n",
       "      <td>2</td>\n",
       "      <td>ultra</td>\n",
       "      <td>367</td>\n",
       "    </tr>\n",
       "    <tr>\n",
       "      <th>12</th>\n",
       "      <td>3577.151148</td>\n",
       "      <td>33.0</td>\n",
       "      <td>1</td>\n",
       "      <td>ultra</td>\n",
       "      <td>397</td>\n",
       "    </tr>\n",
       "    <tr>\n",
       "      <th>...</th>\n",
       "      <th>...</th>\n",
       "      <td>...</td>\n",
       "      <td>...</td>\n",
       "      <td>...</td>\n",
       "      <td>...</td>\n",
       "      <td>...</td>\n",
       "    </tr>\n",
       "    <tr>\n",
       "      <th rowspan=\"5\" valign=\"top\">12</th>\n",
       "      <th>1525</th>\n",
       "      <td>4597.854350</td>\n",
       "      <td>34.0</td>\n",
       "      <td>1</td>\n",
       "      <td>free</td>\n",
       "      <td>322</td>\n",
       "    </tr>\n",
       "    <tr>\n",
       "      <th>1526</th>\n",
       "      <td>3644.121544</td>\n",
       "      <td>23.0</td>\n",
       "      <td>1</td>\n",
       "      <td>free</td>\n",
       "      <td>234</td>\n",
       "    </tr>\n",
       "    <tr>\n",
       "      <th>1528</th>\n",
       "      <td>3998.569324</td>\n",
       "      <td>11.0</td>\n",
       "      <td>1</td>\n",
       "      <td>free</td>\n",
       "      <td>138</td>\n",
       "    </tr>\n",
       "    <tr>\n",
       "      <th>1532</th>\n",
       "      <td>6111.889853</td>\n",
       "      <td>41.0</td>\n",
       "      <td>2</td>\n",
       "      <td>free</td>\n",
       "      <td>428</td>\n",
       "    </tr>\n",
       "    <tr>\n",
       "      <th>1534</th>\n",
       "      <td>2371.711192</td>\n",
       "      <td>16.0</td>\n",
       "      <td>1</td>\n",
       "      <td>free</td>\n",
       "      <td>178</td>\n",
       "    </tr>\n",
       "  </tbody>\n",
       "</table>\n",
       "<p>11331 rows × 5 columns</p>\n",
       "</div>"
      ],
      "text/plain": [
       "                  distance  duration  rides subscription_type  ipp\n",
       "month user_id                                                     \n",
       "1     1        7027.511294      42.0      2             ultra  451\n",
       "      3        3061.777147      13.0      1             ultra  277\n",
       "      5        3914.646990      13.0      1             ultra  277\n",
       "      7        6478.080979      28.0      2             ultra  367\n",
       "      12       3577.151148      33.0      1             ultra  397\n",
       "...                    ...       ...    ...               ...  ...\n",
       "12    1525     4597.854350      34.0      1              free  322\n",
       "      1526     3644.121544      23.0      1              free  234\n",
       "      1528     3998.569324      11.0      1              free  138\n",
       "      1532     6111.889853      41.0      2              free  428\n",
       "      1534     2371.711192      16.0      1              free  178\n",
       "\n",
       "[11331 rows x 5 columns]"
      ]
     },
     "execution_count": 45,
     "metadata": {},
     "output_type": "execute_result"
    }
   ],
   "source": [
    "general_data"
   ]
  },
  {
   "cell_type": "markdown",
   "id": "fcfe2dd0",
   "metadata": {},
   "source": [
    "Отлично. Столбец ipp был добавлен к нашему датафрейму. В дальнейшем это сильно поможет при проверке гипотез."
   ]
  },
  {
   "cell_type": "markdown",
   "id": "41545ac0",
   "metadata": {},
   "source": [
    "#### Шаг 6. Проверка гипотез"
   ]
  },
  {
   "cell_type": "markdown",
   "id": "99249fc9",
   "metadata": {},
   "source": [
    "**Гипотеза 1:**\n",
    "\n",
    "Тратят ли пользователи с подпиской больше времени на поездки?\n",
    "\n",
    "H0: Время, проведенное пользователями с подпиской Ультра в пути РАВНО времени, проведенном в пути пользователями с бесплатной подпиской\n",
    "\n",
    "H1: Время, проведенное пользователями с подпиской Ультра в пути БОЛЬШЕ времени, проведенном в пути пользователями с бесплатной подпиской"
   ]
  },
  {
   "cell_type": "code",
   "execution_count": 46,
   "id": "b04eb889",
   "metadata": {
    "scrolled": true
   },
   "outputs": [
    {
     "name": "stdout",
     "output_type": "stream",
     "text": [
      "p-value: 1.2804098316645618e-34\n",
      "Нулевая гипотеза отвергается.\n"
     ]
    }
   ],
   "source": [
    "checker = st.ttest_ind(ultra_sub['duration'], free_sub['duration'], alternative = 'greater')\n",
    "alpha = 0.05\n",
    "res = checker.pvalue\n",
    "\n",
    "print('p-value:',checker.pvalue)\n",
    "\n",
    "if res < alpha:\n",
    "    print('Нулевая гипотеза отвергается.')\n",
    "else:\n",
    "    print('Нулевая Гипотеза подтверждается.')"
   ]
  },
  {
   "cell_type": "code",
   "execution_count": 47,
   "id": "cea9d0d2",
   "metadata": {},
   "outputs": [
    {
     "data": {
      "image/png": "[encoded data removed]",
      "text/plain": [
       "<Figure size 432x288 with 1 Axes>"
      ]
     },
     "metadata": {
      "needs_background": "light"
     },
     "output_type": "display_data"
    }
   ],
   "source": [
    "pepe = sns.barplot(x = 'month',\n",
    "            y = 'duration',\n",
    "            hue = \"subscription_type\",\n",
    "            data = full_data)\n",
    "pepe.set_title('Распределение длительностей поездок по видам подписок и месяцам')\n",
    "pepe.set(xlabel='Месяц', ylabel='Длительость поездок');"
   ]
  },
  {
   "cell_type": "markdown",
   "id": "91ca4647",
   "metadata": {},
   "source": [
    "Так как нулевая гипотеза отвержена, делаем вывод, что пользователи с подпиской ультра больше времени проводят в пути."
   ]
  },
  {
   "cell_type": "markdown",
   "id": "23b750e4",
   "metadata": {},
   "source": [
    "**Гипотеза 2:**\n",
    "\n",
    "Расстояние одной поездки в 3130 метров — оптимальное с точки зрения износа самоката. Можно ли сказать, что расстояние, которое проезжают пользователи с подпиской за одну поездку, не превышает 3130 метров?\n",
    "\n",
    "H0: Пользователи с подпиской Ультра проезжают расстояние, РАВНОЕ 3130 мтеров за одну поездку\n",
    "\n",
    "H1: Пользователи с подпиской Ультра проезжают МЕНЬШЕЕ 3130 мтеров за одну поездку"
   ]
  },
  {
   "cell_type": "code",
   "execution_count": 48,
   "id": "37245db1",
   "metadata": {
    "scrolled": true
   },
   "outputs": [
    {
     "name": "stdout",
     "output_type": "stream",
     "text": [
      "p-value: 1.2804098316645618e-34\n",
      "Нулевая Гипотеза подтверждается.\n"
     ]
    }
   ],
   "source": [
    "core_value = 3130\n",
    "alpha = 0.05\n",
    "\n",
    "res = st.ttest_1samp(ultra_sub['distance'], core_value, alternative='less')\n",
    "\n",
    "print('p-value:',checker.pvalue)\n",
    "\n",
    "if res.pvalue < alpha:\n",
    "    print('Нулевая гипотеза отвергается.')\n",
    "else:\n",
    "    print('Нулевая Гипотеза подтверждается.')"
   ]
  },
  {
   "cell_type": "markdown",
   "id": "cd14b200",
   "metadata": {},
   "source": [
    "Так как нулевая гипотеза подтвердилась, то можно сделать вывод, что пользователи, пользующиеся Ультра подпиской проезжают 3130 метров."
   ]
  },
  {
   "cell_type": "markdown",
   "id": "f51e4be0",
   "metadata": {},
   "source": [
    "**Гипотеза 3:**\n",
    "\n",
    "Помесячная выручка от пользователей с подпиской по месяцам выше, чем выручка от пользователей без подписки.\n",
    "\n",
    "H0: Выручка пользователей с подпиской Ультра РАВНА выручке пользователей с бесплатной подпиской\n",
    "\n",
    "H1: Выручка пользователей с подпиской Ультра БОЛЬШЕ выручке пользователей с бесплатной подпиской"
   ]
  },
  {
   "cell_type": "code",
   "execution_count": 49,
   "id": "529b2371",
   "metadata": {},
   "outputs": [
    {
     "name": "stdout",
     "output_type": "stream",
     "text": [
      "p-value: 1.2804098316645618e-34\n",
      "Отвергаем нулевую гипотезу\n"
     ]
    }
   ],
   "source": [
    "ultra_income = general_data.loc[general_data.subscription_type == 'ultra', 'ipp'] \n",
    "free_income = general_data.loc[general_data.subscription_type == 'free', 'ipp'] \n",
    "alpha = 0.05\n",
    "\n",
    "res = st.ttest_ind(ultra_income, \n",
    "                       free_income,\n",
    "                       alternative = 'greater')\n",
    "print('p-value:',checker.pvalue)\n",
    "if res.pvalue < alpha:\n",
    "    print('Отвергаем нулевую гипотезу')\n",
    "else:\n",
    "    print('Не удалось отвергнуть нулевую гипотезу')"
   ]
  },
  {
   "cell_type": "code",
   "execution_count": 55,
   "id": "41c5dac0",
   "metadata": {},
   "outputs": [
    {
     "data": {
      "image/png": "[encoded data removed]",
      "text/plain": [
       "<Figure size 432x288 with 1 Axes>"
      ]
     },
     "metadata": {
      "needs_background": "light"
     },
     "output_type": "display_data"
    }
   ],
   "source": [
    "pepe = sns.barplot(x = 'subscription_type',\n",
    "            y = 'ipp',\n",
    "            data = general_data)\n",
    "pepe.set_title('Распределение доходности поездок по видам подписок')\n",
    "pepe.set(xlabel='Тип подписки', ylabel='Прибыль компании');"
   ]
  },
  {
   "cell_type": "markdown",
   "id": "a6d9468a",
   "metadata": {},
   "source": [
    "Поскольку мы отвергли нулевую гипотезу, то можно сделать вывод о том, что пользователи с подпиской УЛЬТРА приносят больше выручки, чем те пользователи, что пользуются бесплатным тарифом."
   ]
  },
  {
   "cell_type": "markdown",
   "id": "1ee2b709",
   "metadata": {},
   "source": [
    "**Гипотеза 4:**\n",
    "\n",
    "Представим такую ситуацию: техническая команда сервиса обновила сервера, с которыми взаимодействует мобильное приложение. Она надеется, что из-за этого количество обращений в техподдержку значимо снизилось. Некоторый файл содержит для каждого пользователя данные о количестве обращений до обновления и после него. Какой тест нам понадобился бы для проверки этой гипотезы?"
   ]
  },
  {
   "cell_type": "markdown",
   "id": "c2af06d4",
   "metadata": {},
   "source": [
    "**Ответ:**\n",
    "\n",
    "Гипотезу о равенстве средних для зависимых выборок ( st.ttest_rel() ).\n",
    "\n",
    "Формулировка гипотез будет иметь вид, где μ - это среднее количество обращений в тех.поддержку:\n",
    "\n",
    " - H0: μ1 РАВНА μ2\n",
    " - H0: μ1 НЕ РАВНА μ2"
   ]
  },
  {
   "cell_type": "markdown",
   "id": "61213c5e",
   "metadata": {},
   "source": [
    "#### Вывод"
   ]
  },
  {
   "cell_type": "markdown",
   "id": "d1a2bd97",
   "metadata": {},
   "source": [
    "По итогам исследовательского анализа данных после предобработки было выявлено:\n",
    "\n",
    "\n",
    "- Лидирует по количеству пользователей город Пятигорск (14.28% аудитории сервиса). В то же время наименьшее количество пользователей отмечается в Москве (10.95% аудитории сервиса)\n",
    "- Большинство пользователей сервиса не платят за подписку. Однако таковых всего лишь на 8% больше, нежели платящих клиентов.\n",
    "- Портрет типичного пользователя сервиса выглядит так: Это молодой человек лет 23-25, который использует сервис по бесплатному тарифу для 15-20-минутных поездок на расстояние от 3 до 4 километров. \n",
    "\n",
    "После объединения данных представленных датасетов и дополнительного исследования было выявлено:\n",
    "\n",
    "- На бесплатном тарифе люди совершают более длинне и продолжительные поездки. В среднем они длятся на 5 минут дольше и преодоленное расстояние больше на 0.7-1 километр.\n",
    "- Пользователи платного тарифа имеют более чёткую картину поведения. Подавляющая часть поездок совершается на 3 километра и длится 15-18 минут.\n",
    "\n",
    "Также были исследованы бизнес-гипотезы. По итогам их проверок было составлено 3 тезиса:\n",
    "1) Пользователи с подпиской ультра больше времени проводят в пути.\n",
    "2) Пользователи, пользующиеся Ультра подпиской проехжают 3130 метров и более\n",
    "3) Пользователи с подпиской УЛЬТРА приносят больше выручки, чем те пользователи, что пользуются бесплатным тарифом.\n",
    "\n",
    "Для проведения более детального анализа в дальнейшем я бы рекомендовал собирать информацию о гендере пользователей, а также об удаленности парковок самокатов от центра города."
   ]
  }
 ],
 "metadata": {
  "ExecuteTimeLog": [
   {
    "duration": 463,
    "start_time": "2023-08-26T09:59:53.039Z"
   },
   {
    "duration": 286,
    "start_time": "2023-08-26T09:59:54.556Z"
   },
   {
    "duration": 24,
    "start_time": "2023-08-26T09:59:55.932Z"
   },
   {
    "duration": 26,
    "start_time": "2023-08-26T10:00:09.060Z"
   },
   {
    "duration": 24,
    "start_time": "2023-08-26T10:00:30.002Z"
   },
   {
    "duration": 21,
    "start_time": "2023-08-26T10:02:42.805Z"
   },
   {
    "duration": 450,
    "start_time": "2023-08-26T10:04:14.369Z"
   },
   {
    "duration": 8,
    "start_time": "2023-08-26T10:04:30.382Z"
   },
   {
    "duration": 241,
    "start_time": "2023-08-26T10:04:34.646Z"
   },
   {
    "duration": 156,
    "start_time": "2023-08-26T10:05:19.714Z"
   },
   {
    "duration": 387,
    "start_time": "2023-08-26T10:06:11.083Z"
   },
   {
    "duration": 67,
    "start_time": "2023-08-26T10:06:11.472Z"
   },
   {
    "duration": 25,
    "start_time": "2023-08-26T10:06:11.541Z"
   },
   {
    "duration": 502,
    "start_time": "2023-08-26T10:06:11.567Z"
   },
   {
    "duration": 9,
    "start_time": "2023-08-26T10:07:51.909Z"
   },
   {
    "duration": 639,
    "start_time": "2023-08-26T10:07:56.793Z"
   },
   {
    "duration": 68,
    "start_time": "2023-08-26T10:07:57.434Z"
   },
   {
    "duration": 21,
    "start_time": "2023-08-26T10:07:57.504Z"
   },
   {
    "duration": 195,
    "start_time": "2023-08-26T10:07:57.527Z"
   },
   {
    "duration": 108,
    "start_time": "2023-08-26T10:08:08.339Z"
   },
   {
    "duration": 682,
    "start_time": "2023-08-26T10:08:44.653Z"
   },
   {
    "duration": 67,
    "start_time": "2023-08-26T10:08:45.337Z"
   },
   {
    "duration": 21,
    "start_time": "2023-08-26T10:08:45.406Z"
   },
   {
    "duration": 110,
    "start_time": "2023-08-26T10:08:45.428Z"
   },
   {
    "duration": 151,
    "start_time": "2023-08-26T10:08:54.346Z"
   },
   {
    "duration": 141,
    "start_time": "2023-08-26T10:08:58.023Z"
   },
   {
    "duration": 129,
    "start_time": "2023-08-26T10:09:13.371Z"
   },
   {
    "duration": 143,
    "start_time": "2023-08-26T10:09:38.626Z"
   },
   {
    "duration": 243,
    "start_time": "2023-08-26T10:10:05.209Z"
   },
   {
    "duration": 143,
    "start_time": "2023-08-26T10:10:10.445Z"
   },
   {
    "duration": 156,
    "start_time": "2023-08-26T10:10:32.043Z"
   },
   {
    "duration": 143,
    "start_time": "2023-08-26T10:10:38.341Z"
   },
   {
    "duration": 255,
    "start_time": "2023-08-26T10:10:51.201Z"
   },
   {
    "duration": 197,
    "start_time": "2023-08-26T10:10:57.519Z"
   },
   {
    "duration": 241,
    "start_time": "2023-08-26T10:11:04.255Z"
   },
   {
    "duration": 192,
    "start_time": "2023-08-26T10:11:08.741Z"
   },
   {
    "duration": 196,
    "start_time": "2023-08-26T10:11:13.004Z"
   },
   {
    "duration": 188,
    "start_time": "2023-08-26T10:12:23.634Z"
   },
   {
    "duration": 218,
    "start_time": "2023-08-26T10:13:52.812Z"
   },
   {
    "duration": 1895,
    "start_time": "2023-08-26T10:14:09.051Z"
   },
   {
    "duration": 673,
    "start_time": "2023-08-26T10:14:17.124Z"
   },
   {
    "duration": 68,
    "start_time": "2023-08-26T10:14:17.799Z"
   },
   {
    "duration": 21,
    "start_time": "2023-08-26T10:14:17.868Z"
   },
   {
    "duration": 197,
    "start_time": "2023-08-26T10:14:17.891Z"
   },
   {
    "duration": 1873,
    "start_time": "2023-08-26T10:14:18.090Z"
   },
   {
    "duration": 7,
    "start_time": "2023-08-26T10:14:56.574Z"
   },
   {
    "duration": 12,
    "start_time": "2023-08-26T10:15:23.551Z"
   },
   {
    "duration": 83,
    "start_time": "2023-08-26T10:15:41.917Z"
   },
   {
    "duration": 80,
    "start_time": "2023-08-26T10:15:48.013Z"
   },
   {
    "duration": 110,
    "start_time": "2023-08-26T10:16:01.786Z"
   },
   {
    "duration": 163,
    "start_time": "2023-08-26T10:16:11.388Z"
   },
   {
    "duration": 11,
    "start_time": "2023-08-26T10:16:58.681Z"
   },
   {
    "duration": 112,
    "start_time": "2023-08-26T10:17:26.608Z"
   },
   {
    "duration": 148,
    "start_time": "2023-08-26T10:17:44.855Z"
   },
   {
    "duration": 177,
    "start_time": "2023-08-26T10:17:50.557Z"
   },
   {
    "duration": 133,
    "start_time": "2023-08-26T10:18:28.480Z"
   },
   {
    "duration": 175,
    "start_time": "2023-08-26T10:18:34.042Z"
   },
   {
    "duration": 141,
    "start_time": "2023-08-26T10:19:30.784Z"
   },
   {
    "duration": 131,
    "start_time": "2023-08-26T10:19:45.835Z"
   },
   {
    "duration": 6,
    "start_time": "2023-08-26T10:20:15.584Z"
   },
   {
    "duration": 11,
    "start_time": "2023-08-26T10:20:33.452Z"
   },
   {
    "duration": 630,
    "start_time": "2023-08-26T10:20:40.706Z"
   },
   {
    "duration": 79,
    "start_time": "2023-08-26T10:20:41.338Z"
   },
   {
    "duration": 22,
    "start_time": "2023-08-26T10:20:41.419Z"
   },
   {
    "duration": 178,
    "start_time": "2023-08-26T10:20:41.443Z"
   },
   {
    "duration": 4,
    "start_time": "2023-08-26T10:20:41.623Z"
   },
   {
    "duration": 158,
    "start_time": "2023-08-26T10:20:41.628Z"
   },
   {
    "duration": 163,
    "start_time": "2023-08-26T10:21:52.835Z"
   },
   {
    "duration": 171,
    "start_time": "2023-08-26T10:22:16.166Z"
   },
   {
    "duration": 249,
    "start_time": "2023-08-26T10:22:56.401Z"
   },
   {
    "duration": 118,
    "start_time": "2023-08-26T10:23:37.849Z"
   },
   {
    "duration": 265,
    "start_time": "2023-08-26T10:23:51.355Z"
   },
   {
    "duration": 166,
    "start_time": "2023-08-26T10:24:17.660Z"
   },
   {
    "duration": 757,
    "start_time": "2023-08-26T10:43:12.637Z"
   },
   {
    "duration": 65,
    "start_time": "2023-08-26T10:43:13.396Z"
   },
   {
    "duration": 19,
    "start_time": "2023-08-26T10:43:13.463Z"
   },
   {
    "duration": 181,
    "start_time": "2023-08-26T10:43:13.484Z"
   },
   {
    "duration": 181,
    "start_time": "2023-08-26T10:43:13.667Z"
   },
   {
    "duration": 80,
    "start_time": "2023-08-26T10:43:49.174Z"
   },
   {
    "duration": 14,
    "start_time": "2023-08-26T10:44:13.557Z"
   },
   {
    "duration": 701,
    "start_time": "2023-08-26T10:44:20.529Z"
   },
   {
    "duration": 68,
    "start_time": "2023-08-26T10:44:21.233Z"
   },
   {
    "duration": 23,
    "start_time": "2023-08-26T10:44:21.303Z"
   },
   {
    "duration": 191,
    "start_time": "2023-08-26T10:44:21.328Z"
   },
   {
    "duration": 182,
    "start_time": "2023-08-26T10:44:21.521Z"
   },
   {
    "duration": 85,
    "start_time": "2023-08-26T10:44:21.704Z"
   },
   {
    "duration": 13,
    "start_time": "2023-08-26T10:44:34.219Z"
   },
   {
    "duration": 113,
    "start_time": "2023-08-26T10:44:43.682Z"
   },
   {
    "duration": 118,
    "start_time": "2023-08-26T10:44:51.528Z"
   },
   {
    "duration": 130,
    "start_time": "2023-08-26T10:45:15.039Z"
   },
   {
    "duration": 187,
    "start_time": "2023-08-26T10:45:22.644Z"
   },
   {
    "duration": 132,
    "start_time": "2023-08-26T10:45:42.641Z"
   },
   {
    "duration": 705,
    "start_time": "2023-08-26T10:47:03.503Z"
   },
   {
    "duration": 71,
    "start_time": "2023-08-26T10:47:04.210Z"
   },
   {
    "duration": 30,
    "start_time": "2023-08-26T10:47:04.284Z"
   },
   {
    "duration": 193,
    "start_time": "2023-08-26T10:47:04.316Z"
   },
   {
    "duration": 179,
    "start_time": "2023-08-26T10:47:04.511Z"
   },
   {
    "duration": 138,
    "start_time": "2023-08-26T10:47:04.692Z"
   },
   {
    "duration": 18,
    "start_time": "2023-08-26T10:56:24.891Z"
   },
   {
    "duration": 93,
    "start_time": "2023-08-26T10:59:24.123Z"
   },
   {
    "duration": 19,
    "start_time": "2023-08-26T10:59:33.351Z"
   },
   {
    "duration": 22,
    "start_time": "2023-08-26T10:59:47.922Z"
   },
   {
    "duration": 16,
    "start_time": "2023-08-26T11:00:51.346Z"
   },
   {
    "duration": 16,
    "start_time": "2023-08-26T11:00:59.472Z"
   },
   {
    "duration": 748,
    "start_time": "2023-08-26T11:07:15.364Z"
   },
   {
    "duration": 83,
    "start_time": "2023-08-26T11:07:16.115Z"
   },
   {
    "duration": 21,
    "start_time": "2023-08-26T11:07:16.200Z"
   },
   {
    "duration": 171,
    "start_time": "2023-08-26T11:07:16.223Z"
   },
   {
    "duration": 6,
    "start_time": "2023-08-26T11:07:16.397Z"
   },
   {
    "duration": 169,
    "start_time": "2023-08-26T11:07:16.405Z"
   },
   {
    "duration": 20,
    "start_time": "2023-08-26T11:07:16.576Z"
   },
   {
    "duration": 19,
    "start_time": "2023-08-26T11:07:16.598Z"
   },
   {
    "duration": 7,
    "start_time": "2023-08-26T11:08:32.370Z"
   },
   {
    "duration": 689,
    "start_time": "2023-08-26T11:08:39.656Z"
   },
   {
    "duration": 66,
    "start_time": "2023-08-26T11:08:40.347Z"
   },
   {
    "duration": 21,
    "start_time": "2023-08-26T11:08:40.415Z"
   },
   {
    "duration": 176,
    "start_time": "2023-08-26T11:08:40.438Z"
   },
   {
    "duration": 6,
    "start_time": "2023-08-26T11:08:40.616Z"
   },
   {
    "duration": 12,
    "start_time": "2023-08-26T11:08:40.624Z"
   },
   {
    "duration": 27,
    "start_time": "2023-08-26T11:08:40.638Z"
   },
   {
    "duration": 17,
    "start_time": "2023-08-26T11:08:40.667Z"
   },
   {
    "duration": 85,
    "start_time": "2023-08-26T11:09:18.594Z"
   },
   {
    "duration": 28,
    "start_time": "2023-08-26T11:09:35.166Z"
   },
   {
    "duration": 16,
    "start_time": "2023-08-26T11:09:44.277Z"
   },
   {
    "duration": 12,
    "start_time": "2023-08-26T11:10:38.327Z"
   },
   {
    "duration": 17,
    "start_time": "2023-08-26T11:11:33.567Z"
   },
   {
    "duration": 150,
    "start_time": "2023-08-26T11:25:24.537Z"
   },
   {
    "duration": 13,
    "start_time": "2023-08-26T11:46:43.726Z"
   },
   {
    "duration": 10,
    "start_time": "2023-08-26T11:48:06.971Z"
   },
   {
    "duration": 745,
    "start_time": "2023-08-26T11:48:13.546Z"
   },
   {
    "duration": 80,
    "start_time": "2023-08-26T11:48:14.294Z"
   },
   {
    "duration": 23,
    "start_time": "2023-08-26T11:48:14.376Z"
   },
   {
    "duration": 180,
    "start_time": "2023-08-26T11:48:14.401Z"
   },
   {
    "duration": 7,
    "start_time": "2023-08-26T11:48:14.584Z"
   },
   {
    "duration": 10,
    "start_time": "2023-08-26T11:48:14.593Z"
   },
   {
    "duration": 18,
    "start_time": "2023-08-26T11:48:14.605Z"
   },
   {
    "duration": 42,
    "start_time": "2023-08-26T11:48:14.625Z"
   },
   {
    "duration": 16,
    "start_time": "2023-08-26T11:48:14.668Z"
   },
   {
    "duration": 90,
    "start_time": "2023-08-26T11:48:14.685Z"
   },
   {
    "duration": 8,
    "start_time": "2023-08-26T11:49:04.624Z"
   },
   {
    "duration": 8,
    "start_time": "2023-08-26T11:49:31.408Z"
   },
   {
    "duration": 23,
    "start_time": "2023-08-26T11:49:40.727Z"
   },
   {
    "duration": 14,
    "start_time": "2023-08-26T11:49:52.816Z"
   },
   {
    "duration": 71,
    "start_time": "2023-08-26T11:50:00.246Z"
   },
   {
    "duration": 13,
    "start_time": "2023-08-26T11:50:06.997Z"
   },
   {
    "duration": 10,
    "start_time": "2023-08-26T11:54:24.702Z"
   },
   {
    "duration": 11,
    "start_time": "2023-08-26T11:55:04.154Z"
   },
   {
    "duration": 5,
    "start_time": "2023-08-26T11:55:19.448Z"
   },
   {
    "duration": 16,
    "start_time": "2023-08-26T11:55:24.753Z"
   },
   {
    "duration": 6,
    "start_time": "2023-08-26T11:55:35.264Z"
   },
   {
    "duration": 7,
    "start_time": "2023-08-26T11:57:04.883Z"
   },
   {
    "duration": 7,
    "start_time": "2023-08-26T11:57:45.901Z"
   },
   {
    "duration": 8,
    "start_time": "2023-08-26T11:58:42.588Z"
   },
   {
    "duration": 7,
    "start_time": "2023-08-26T11:58:50.946Z"
   },
   {
    "duration": 9,
    "start_time": "2023-08-26T11:58:59.686Z"
   },
   {
    "duration": 10,
    "start_time": "2023-08-26T11:59:12.253Z"
   },
   {
    "duration": 12,
    "start_time": "2023-08-26T11:59:52.385Z"
   },
   {
    "duration": 9,
    "start_time": "2023-08-26T12:00:12.897Z"
   },
   {
    "duration": 6,
    "start_time": "2023-08-26T12:01:24.162Z"
   },
   {
    "duration": 5,
    "start_time": "2023-08-26T12:02:44.018Z"
   },
   {
    "duration": 8,
    "start_time": "2023-08-26T12:02:57.910Z"
   },
   {
    "duration": 9,
    "start_time": "2023-08-26T12:03:13.340Z"
   },
   {
    "duration": 11,
    "start_time": "2023-08-26T12:03:44.911Z"
   },
   {
    "duration": 3,
    "start_time": "2023-08-26T12:03:51.118Z"
   },
   {
    "duration": 7,
    "start_time": "2023-08-26T12:04:01.586Z"
   },
   {
    "duration": 4,
    "start_time": "2023-08-26T12:04:07.509Z"
   },
   {
    "duration": 4,
    "start_time": "2023-08-26T12:04:28.633Z"
   },
   {
    "duration": 10,
    "start_time": "2023-08-26T12:04:36.597Z"
   },
   {
    "duration": 4,
    "start_time": "2023-08-26T12:04:53.615Z"
   },
   {
    "duration": 8,
    "start_time": "2023-08-26T12:05:23.582Z"
   },
   {
    "duration": 4,
    "start_time": "2023-08-26T12:05:50.920Z"
   },
   {
    "duration": 3,
    "start_time": "2023-08-26T12:05:56.204Z"
   },
   {
    "duration": 5,
    "start_time": "2023-08-26T12:06:04.625Z"
   },
   {
    "duration": 4,
    "start_time": "2023-08-26T12:06:14.442Z"
   },
   {
    "duration": 4,
    "start_time": "2023-08-26T12:06:19.025Z"
   },
   {
    "duration": 680,
    "start_time": "2023-08-26T12:06:43.024Z"
   },
   {
    "duration": 79,
    "start_time": "2023-08-26T12:06:43.706Z"
   },
   {
    "duration": 21,
    "start_time": "2023-08-26T12:06:43.787Z"
   },
   {
    "duration": 189,
    "start_time": "2023-08-26T12:06:43.810Z"
   },
   {
    "duration": 6,
    "start_time": "2023-08-26T12:06:44.003Z"
   },
   {
    "duration": 12,
    "start_time": "2023-08-26T12:06:44.010Z"
   },
   {
    "duration": 55,
    "start_time": "2023-08-26T12:06:44.024Z"
   },
   {
    "duration": 19,
    "start_time": "2023-08-26T12:06:44.083Z"
   },
   {
    "duration": 18,
    "start_time": "2023-08-26T12:06:44.105Z"
   },
   {
    "duration": 11,
    "start_time": "2023-08-26T12:06:44.125Z"
   },
   {
    "duration": 27,
    "start_time": "2023-08-26T12:06:44.138Z"
   },
   {
    "duration": 16,
    "start_time": "2023-08-26T12:06:44.169Z"
   },
   {
    "duration": 18,
    "start_time": "2023-08-26T12:06:44.186Z"
   },
   {
    "duration": 83,
    "start_time": "2023-08-26T12:24:19.811Z"
   },
   {
    "duration": 6,
    "start_time": "2023-08-26T12:24:26.829Z"
   },
   {
    "duration": 707,
    "start_time": "2023-08-26T12:25:45.716Z"
   },
   {
    "duration": 79,
    "start_time": "2023-08-26T12:25:46.425Z"
   },
   {
    "duration": 27,
    "start_time": "2023-08-26T12:25:46.507Z"
   },
   {
    "duration": 236,
    "start_time": "2023-08-26T12:25:46.537Z"
   },
   {
    "duration": 10,
    "start_time": "2023-08-26T12:25:46.779Z"
   },
   {
    "duration": 12,
    "start_time": "2023-08-26T12:25:46.792Z"
   },
   {
    "duration": 69,
    "start_time": "2023-08-26T12:25:46.806Z"
   },
   {
    "duration": 19,
    "start_time": "2023-08-26T12:25:46.883Z"
   },
   {
    "duration": 19,
    "start_time": "2023-08-26T12:25:46.904Z"
   },
   {
    "duration": 8,
    "start_time": "2023-08-26T12:25:46.926Z"
   },
   {
    "duration": 29,
    "start_time": "2023-08-26T12:25:46.935Z"
   },
   {
    "duration": 9,
    "start_time": "2023-08-26T12:25:46.968Z"
   },
   {
    "duration": 12,
    "start_time": "2023-08-26T12:25:46.981Z"
   },
   {
    "duration": 17,
    "start_time": "2023-08-26T12:25:46.995Z"
   },
   {
    "duration": 94,
    "start_time": "2023-08-26T12:25:47.014Z"
   },
   {
    "duration": 0,
    "start_time": "2023-08-26T12:25:47.109Z"
   },
   {
    "duration": 6,
    "start_time": "2023-08-26T12:25:56.502Z"
   },
   {
    "duration": 7,
    "start_time": "2023-08-26T12:25:58.043Z"
   },
   {
    "duration": 13,
    "start_time": "2023-08-26T12:44:49.872Z"
   },
   {
    "duration": 726,
    "start_time": "2023-08-26T12:47:24.195Z"
   },
   {
    "duration": 89,
    "start_time": "2023-08-26T12:47:24.923Z"
   },
   {
    "duration": 22,
    "start_time": "2023-08-26T12:47:25.013Z"
   },
   {
    "duration": 194,
    "start_time": "2023-08-26T12:47:25.037Z"
   },
   {
    "duration": 6,
    "start_time": "2023-08-26T12:47:25.234Z"
   },
   {
    "duration": 31,
    "start_time": "2023-08-26T12:47:25.242Z"
   },
   {
    "duration": 30,
    "start_time": "2023-08-26T12:47:25.275Z"
   },
   {
    "duration": 18,
    "start_time": "2023-08-26T12:47:25.308Z"
   },
   {
    "duration": 22,
    "start_time": "2023-08-26T12:47:25.327Z"
   },
   {
    "duration": 20,
    "start_time": "2023-08-26T12:47:25.351Z"
   },
   {
    "duration": 22,
    "start_time": "2023-08-26T12:47:25.375Z"
   },
   {
    "duration": 27,
    "start_time": "2023-08-26T12:47:25.400Z"
   },
   {
    "duration": 22,
    "start_time": "2023-08-26T12:47:25.429Z"
   },
   {
    "duration": 39,
    "start_time": "2023-08-26T12:47:25.454Z"
   },
   {
    "duration": 8,
    "start_time": "2023-08-26T12:47:25.495Z"
   },
   {
    "duration": 23,
    "start_time": "2023-08-26T12:47:25.505Z"
   },
   {
    "duration": 13,
    "start_time": "2023-08-26T12:47:25.530Z"
   },
   {
    "duration": 14,
    "start_time": "2023-08-26T14:12:02.573Z"
   },
   {
    "duration": 105,
    "start_time": "2023-08-26T14:13:13.256Z"
   },
   {
    "duration": 141,
    "start_time": "2023-08-26T14:13:28.083Z"
   },
   {
    "duration": 135,
    "start_time": "2023-08-26T14:14:55.178Z"
   },
   {
    "duration": 165,
    "start_time": "2023-08-26T14:15:02.771Z"
   },
   {
    "duration": 197,
    "start_time": "2023-08-26T14:15:10.531Z"
   },
   {
    "duration": 140,
    "start_time": "2023-08-26T14:15:56.730Z"
   },
   {
    "duration": 124,
    "start_time": "2023-08-26T14:16:08.964Z"
   },
   {
    "duration": 133,
    "start_time": "2023-08-26T14:16:15.439Z"
   },
   {
    "duration": 6,
    "start_time": "2023-08-26T14:20:23.793Z"
   },
   {
    "duration": 7,
    "start_time": "2023-08-26T14:21:21.473Z"
   },
   {
    "duration": 5,
    "start_time": "2023-08-26T14:21:41.197Z"
   },
   {
    "duration": 8,
    "start_time": "2023-08-26T14:21:51.913Z"
   },
   {
    "duration": 9,
    "start_time": "2023-08-26T14:22:01.471Z"
   },
   {
    "duration": 9,
    "start_time": "2023-08-26T14:22:11.907Z"
   },
   {
    "duration": 8,
    "start_time": "2023-08-26T14:22:33.875Z"
   },
   {
    "duration": 8,
    "start_time": "2023-08-26T14:22:50.937Z"
   },
   {
    "duration": 20,
    "start_time": "2023-08-26T14:23:08.489Z"
   },
   {
    "duration": 8,
    "start_time": "2023-08-26T14:23:13.801Z"
   },
   {
    "duration": 452,
    "start_time": "2023-08-26T14:31:43.624Z"
   },
   {
    "duration": 82,
    "start_time": "2023-08-26T14:32:01.172Z"
   },
   {
    "duration": 74,
    "start_time": "2023-08-26T14:32:11.375Z"
   },
   {
    "duration": 92,
    "start_time": "2023-08-26T14:32:33.150Z"
   },
   {
    "duration": 192,
    "start_time": "2023-08-26T14:36:57.256Z"
   },
   {
    "duration": 147,
    "start_time": "2023-08-26T14:37:00.334Z"
   },
   {
    "duration": 169,
    "start_time": "2023-08-26T14:37:07.182Z"
   },
   {
    "duration": 160,
    "start_time": "2023-08-26T14:37:11.442Z"
   },
   {
    "duration": 116,
    "start_time": "2023-08-26T14:37:36.990Z"
   },
   {
    "duration": 6,
    "start_time": "2023-08-26T14:44:14.293Z"
   },
   {
    "duration": 124,
    "start_time": "2023-08-26T14:44:27.421Z"
   },
   {
    "duration": 5,
    "start_time": "2023-08-26T14:44:34.610Z"
   },
   {
    "duration": 5,
    "start_time": "2023-08-26T14:44:46.246Z"
   },
   {
    "duration": 212,
    "start_time": "2023-08-26T14:56:33.405Z"
   },
   {
    "duration": 164,
    "start_time": "2023-08-26T14:56:43.247Z"
   },
   {
    "duration": 9,
    "start_time": "2023-08-26T14:57:52.637Z"
   },
   {
    "duration": 1256,
    "start_time": "2023-08-26T14:58:11.980Z"
   },
   {
    "duration": 68,
    "start_time": "2023-08-26T14:58:13.238Z"
   },
   {
    "duration": 23,
    "start_time": "2023-08-26T14:58:13.307Z"
   },
   {
    "duration": 196,
    "start_time": "2023-08-26T14:58:13.334Z"
   },
   {
    "duration": 7,
    "start_time": "2023-08-26T14:58:13.532Z"
   },
   {
    "duration": 19,
    "start_time": "2023-08-26T14:58:13.541Z"
   },
   {
    "duration": 20,
    "start_time": "2023-08-26T14:58:13.562Z"
   },
   {
    "duration": 25,
    "start_time": "2023-08-26T14:58:13.584Z"
   },
   {
    "duration": 50,
    "start_time": "2023-08-26T14:58:13.612Z"
   },
   {
    "duration": 8,
    "start_time": "2023-08-26T14:58:13.666Z"
   },
   {
    "duration": 7,
    "start_time": "2023-08-26T14:58:13.676Z"
   },
   {
    "duration": 7,
    "start_time": "2023-08-26T14:58:13.685Z"
   },
   {
    "duration": 13,
    "start_time": "2023-08-26T14:58:13.693Z"
   },
   {
    "duration": 8,
    "start_time": "2023-08-26T14:58:13.707Z"
   },
   {
    "duration": 48,
    "start_time": "2023-08-26T14:58:13.716Z"
   },
   {
    "duration": 8,
    "start_time": "2023-08-26T14:58:13.767Z"
   },
   {
    "duration": 13,
    "start_time": "2023-08-26T14:58:13.777Z"
   },
   {
    "duration": 167,
    "start_time": "2023-08-26T14:58:13.792Z"
   },
   {
    "duration": 7,
    "start_time": "2023-08-26T14:58:13.961Z"
   },
   {
    "duration": 129,
    "start_time": "2023-08-26T14:58:13.970Z"
   },
   {
    "duration": 260,
    "start_time": "2023-08-26T14:58:14.102Z"
   },
   {
    "duration": 8,
    "start_time": "2023-08-26T14:58:14.364Z"
   },
   {
    "duration": 213,
    "start_time": "2023-08-26T14:58:14.374Z"
   },
   {
    "duration": 129,
    "start_time": "2023-08-26T14:58:14.589Z"
   },
   {
    "duration": 221,
    "start_time": "2023-08-26T15:32:43.362Z"
   },
   {
    "duration": 135,
    "start_time": "2023-08-26T15:33:06.625Z"
   },
   {
    "duration": 302,
    "start_time": "2023-08-26T15:33:14.340Z"
   },
   {
    "duration": 201,
    "start_time": "2023-08-26T15:33:21.458Z"
   },
   {
    "duration": 180,
    "start_time": "2023-08-26T15:33:51.440Z"
   },
   {
    "duration": 179,
    "start_time": "2023-08-26T15:34:00.223Z"
   },
   {
    "duration": 256,
    "start_time": "2023-08-26T15:34:08.010Z"
   },
   {
    "duration": 1576,
    "start_time": "2023-08-26T15:34:13.650Z"
   },
   {
    "duration": 2882,
    "start_time": "2023-08-26T15:34:24.590Z"
   },
   {
    "duration": 1605,
    "start_time": "2023-08-26T15:34:36.160Z"
   },
   {
    "duration": 1493,
    "start_time": "2023-08-26T15:34:52.505Z"
   },
   {
    "duration": 1589,
    "start_time": "2023-08-26T15:47:34.395Z"
   },
   {
    "duration": 1676,
    "start_time": "2023-08-26T15:47:45.805Z"
   },
   {
    "duration": 7,
    "start_time": "2023-08-26T15:49:46.043Z"
   },
   {
    "duration": 16,
    "start_time": "2023-08-26T15:51:46.179Z"
   },
   {
    "duration": 15,
    "start_time": "2023-08-26T15:52:47.840Z"
   },
   {
    "duration": 11,
    "start_time": "2023-08-26T15:52:59.803Z"
   },
   {
    "duration": 10,
    "start_time": "2023-08-26T15:53:09.888Z"
   },
   {
    "duration": 1740,
    "start_time": "2023-08-26T15:53:18.654Z"
   },
   {
    "duration": 14,
    "start_time": "2023-08-26T15:53:32.944Z"
   },
   {
    "duration": 16,
    "start_time": "2023-08-26T15:53:39.786Z"
   },
   {
    "duration": 17,
    "start_time": "2023-08-26T15:53:46.867Z"
   },
   {
    "duration": 15,
    "start_time": "2023-08-26T15:54:15.077Z"
   },
   {
    "duration": 15,
    "start_time": "2023-08-26T15:54:20.050Z"
   },
   {
    "duration": 32,
    "start_time": "2023-08-26T16:02:21.147Z"
   },
   {
    "duration": 1400,
    "start_time": "2023-08-28T07:32:34.012Z"
   },
   {
    "duration": 294,
    "start_time": "2023-08-28T07:32:35.414Z"
   },
   {
    "duration": 22,
    "start_time": "2023-08-28T07:32:35.710Z"
   },
   {
    "duration": 190,
    "start_time": "2023-08-28T07:32:35.734Z"
   },
   {
    "duration": 5,
    "start_time": "2023-08-28T07:32:35.927Z"
   },
   {
    "duration": 11,
    "start_time": "2023-08-28T07:32:35.934Z"
   },
   {
    "duration": 37,
    "start_time": "2023-08-28T07:32:35.946Z"
   },
   {
    "duration": 13,
    "start_time": "2023-08-28T07:32:35.985Z"
   },
   {
    "duration": 14,
    "start_time": "2023-08-28T07:32:36.000Z"
   },
   {
    "duration": 8,
    "start_time": "2023-08-28T07:32:36.015Z"
   },
   {
    "duration": 38,
    "start_time": "2023-08-28T07:32:36.025Z"
   },
   {
    "duration": 7,
    "start_time": "2023-08-28T07:32:36.068Z"
   },
   {
    "duration": 12,
    "start_time": "2023-08-28T07:32:36.077Z"
   },
   {
    "duration": 21,
    "start_time": "2023-08-28T07:32:36.092Z"
   },
   {
    "duration": 12,
    "start_time": "2023-08-28T07:32:36.115Z"
   },
   {
    "duration": 25,
    "start_time": "2023-08-28T07:32:36.129Z"
   },
   {
    "duration": 26,
    "start_time": "2023-08-28T07:32:36.155Z"
   },
   {
    "duration": 132,
    "start_time": "2023-08-28T07:32:36.183Z"
   },
   {
    "duration": 7,
    "start_time": "2023-08-28T07:32:36.317Z"
   },
   {
    "duration": 96,
    "start_time": "2023-08-28T07:32:36.325Z"
   },
   {
    "duration": 176,
    "start_time": "2023-08-28T07:32:36.422Z"
   },
   {
    "duration": 5,
    "start_time": "2023-08-28T07:32:36.600Z"
   },
   {
    "duration": 1486,
    "start_time": "2023-08-28T07:32:36.607Z"
   },
   {
    "duration": 132,
    "start_time": "2023-08-28T07:32:38.095Z"
   },
   {
    "duration": 1533,
    "start_time": "2023-08-28T07:32:38.229Z"
   },
   {
    "duration": 7,
    "start_time": "2023-08-28T07:32:39.764Z"
   },
   {
    "duration": 23,
    "start_time": "2023-08-28T07:32:39.773Z"
   },
   {
    "duration": 115,
    "start_time": "2023-08-28T07:32:39.798Z"
   },
   {
    "duration": 0,
    "start_time": "2023-08-28T07:32:39.914Z"
   },
   {
    "duration": 32,
    "start_time": "2023-08-28T07:33:28.291Z"
   },
   {
    "duration": 23,
    "start_time": "2023-08-28T07:33:29.085Z"
   },
   {
    "duration": 153,
    "start_time": "2023-08-28T07:36:08.115Z"
   },
   {
    "duration": 295,
    "start_time": "2023-08-28T07:36:21.758Z"
   },
   {
    "duration": 155,
    "start_time": "2023-08-28T07:36:28.806Z"
   },
   {
    "duration": 181,
    "start_time": "2023-08-28T07:36:42.993Z"
   },
   {
    "duration": 173,
    "start_time": "2023-08-28T07:37:52.860Z"
   },
   {
    "duration": 189,
    "start_time": "2023-08-28T07:38:32.206Z"
   },
   {
    "duration": 206,
    "start_time": "2023-08-28T07:38:45.913Z"
   },
   {
    "duration": 158,
    "start_time": "2023-08-28T07:38:57.776Z"
   },
   {
    "duration": 185,
    "start_time": "2023-08-28T07:38:58.376Z"
   },
   {
    "duration": 21,
    "start_time": "2023-08-28T07:41:57.345Z"
   },
   {
    "duration": 175,
    "start_time": "2023-08-28T07:42:47.313Z"
   },
   {
    "duration": 174,
    "start_time": "2023-08-28T07:43:03.389Z"
   },
   {
    "duration": 1166,
    "start_time": "2023-08-28T07:43:29.407Z"
   },
   {
    "duration": 68,
    "start_time": "2023-08-28T07:43:30.575Z"
   },
   {
    "duration": 85,
    "start_time": "2023-08-28T07:43:30.644Z"
   },
   {
    "duration": 230,
    "start_time": "2023-08-28T07:43:30.730Z"
   },
   {
    "duration": 6,
    "start_time": "2023-08-28T07:43:30.962Z"
   },
   {
    "duration": 46,
    "start_time": "2023-08-28T07:43:30.970Z"
   },
   {
    "duration": 73,
    "start_time": "2023-08-28T07:43:31.018Z"
   },
   {
    "duration": 52,
    "start_time": "2023-08-28T07:43:31.092Z"
   },
   {
    "duration": 65,
    "start_time": "2023-08-28T07:43:31.146Z"
   },
   {
    "duration": 57,
    "start_time": "2023-08-28T07:43:31.212Z"
   },
   {
    "duration": 73,
    "start_time": "2023-08-28T07:43:31.271Z"
   },
   {
    "duration": 82,
    "start_time": "2023-08-28T07:43:31.346Z"
   },
   {
    "duration": 176,
    "start_time": "2023-08-28T07:43:31.430Z"
   },
   {
    "duration": 74,
    "start_time": "2023-08-28T07:43:31.609Z"
   },
   {
    "duration": 37,
    "start_time": "2023-08-28T07:43:31.684Z"
   },
   {
    "duration": 41,
    "start_time": "2023-08-28T07:43:31.722Z"
   },
   {
    "duration": 32,
    "start_time": "2023-08-28T07:43:31.765Z"
   },
   {
    "duration": 160,
    "start_time": "2023-08-28T07:43:31.799Z"
   },
   {
    "duration": 7,
    "start_time": "2023-08-28T07:43:31.962Z"
   },
   {
    "duration": 123,
    "start_time": "2023-08-28T07:43:31.971Z"
   },
   {
    "duration": 163,
    "start_time": "2023-08-28T07:43:32.096Z"
   },
   {
    "duration": 5,
    "start_time": "2023-08-28T07:43:32.261Z"
   },
   {
    "duration": 1451,
    "start_time": "2023-08-28T07:43:32.268Z"
   },
   {
    "duration": 120,
    "start_time": "2023-08-28T07:43:33.720Z"
   },
   {
    "duration": 1533,
    "start_time": "2023-08-28T07:43:33.842Z"
   },
   {
    "duration": 5,
    "start_time": "2023-08-28T07:43:35.377Z"
   },
   {
    "duration": 31,
    "start_time": "2023-08-28T07:43:35.383Z"
   },
   {
    "duration": 50,
    "start_time": "2023-08-28T07:43:35.415Z"
   },
   {
    "duration": 30,
    "start_time": "2023-08-28T07:43:35.466Z"
   },
   {
    "duration": 210,
    "start_time": "2023-08-28T07:43:35.498Z"
   },
   {
    "duration": 313,
    "start_time": "2023-08-28T07:43:35.710Z"
   },
   {
    "duration": 20,
    "start_time": "2023-08-28T07:43:36.025Z"
   },
   {
    "duration": 164,
    "start_time": "2023-08-28T07:43:36.058Z"
   },
   {
    "duration": 177,
    "start_time": "2023-08-28T07:43:36.224Z"
   },
   {
    "duration": 1224,
    "start_time": "2023-08-28T07:44:39.542Z"
   },
   {
    "duration": 67,
    "start_time": "2023-08-28T07:44:40.769Z"
   },
   {
    "duration": 21,
    "start_time": "2023-08-28T07:44:40.838Z"
   },
   {
    "duration": 172,
    "start_time": "2023-08-28T07:44:40.861Z"
   },
   {
    "duration": 6,
    "start_time": "2023-08-28T07:44:41.035Z"
   },
   {
    "duration": 26,
    "start_time": "2023-08-28T07:44:41.042Z"
   },
   {
    "duration": 40,
    "start_time": "2023-08-28T07:44:41.069Z"
   },
   {
    "duration": 15,
    "start_time": "2023-08-28T07:44:41.111Z"
   },
   {
    "duration": 15,
    "start_time": "2023-08-28T07:44:41.127Z"
   },
   {
    "duration": 41,
    "start_time": "2023-08-28T07:44:41.143Z"
   },
   {
    "duration": 9,
    "start_time": "2023-08-28T07:44:41.186Z"
   },
   {
    "duration": 24,
    "start_time": "2023-08-28T07:44:41.197Z"
   },
   {
    "duration": 15,
    "start_time": "2023-08-28T07:44:41.222Z"
   },
   {
    "duration": 10,
    "start_time": "2023-08-28T07:44:41.241Z"
   },
   {
    "duration": 15,
    "start_time": "2023-08-28T07:44:41.253Z"
   },
   {
    "duration": 9,
    "start_time": "2023-08-28T07:44:41.270Z"
   },
   {
    "duration": 8,
    "start_time": "2023-08-28T07:44:41.280Z"
   },
   {
    "duration": 147,
    "start_time": "2023-08-28T07:44:41.289Z"
   },
   {
    "duration": 7,
    "start_time": "2023-08-28T07:44:41.437Z"
   },
   {
    "duration": 113,
    "start_time": "2023-08-28T07:44:41.446Z"
   },
   {
    "duration": 156,
    "start_time": "2023-08-28T07:44:41.560Z"
   },
   {
    "duration": 5,
    "start_time": "2023-08-28T07:44:41.718Z"
   },
   {
    "duration": 1473,
    "start_time": "2023-08-28T07:44:41.724Z"
   },
   {
    "duration": 126,
    "start_time": "2023-08-28T07:44:43.199Z"
   },
   {
    "duration": 1505,
    "start_time": "2023-08-28T07:44:43.327Z"
   },
   {
    "duration": 6,
    "start_time": "2023-08-28T07:44:44.834Z"
   },
   {
    "duration": 35,
    "start_time": "2023-08-28T07:44:44.841Z"
   },
   {
    "duration": 41,
    "start_time": "2023-08-28T07:44:44.878Z"
   },
   {
    "duration": 24,
    "start_time": "2023-08-28T07:44:44.920Z"
   },
   {
    "duration": 175,
    "start_time": "2023-08-28T07:44:44.946Z"
   },
   {
    "duration": 334,
    "start_time": "2023-08-28T07:44:45.122Z"
   },
   {
    "duration": 22,
    "start_time": "2023-08-28T07:44:45.458Z"
   },
   {
    "duration": 169,
    "start_time": "2023-08-28T07:44:45.482Z"
   },
   {
    "duration": 169,
    "start_time": "2023-08-28T07:44:45.652Z"
   },
   {
    "duration": 1186,
    "start_time": "2023-08-28T07:46:19.922Z"
   },
   {
    "duration": 69,
    "start_time": "2023-08-28T07:46:21.110Z"
   },
   {
    "duration": 21,
    "start_time": "2023-08-28T07:46:21.181Z"
   },
   {
    "duration": 187,
    "start_time": "2023-08-28T07:46:21.204Z"
   },
   {
    "duration": 6,
    "start_time": "2023-08-28T07:46:21.393Z"
   },
   {
    "duration": 9,
    "start_time": "2023-08-28T07:46:21.401Z"
   },
   {
    "duration": 28,
    "start_time": "2023-08-28T07:46:21.412Z"
   },
   {
    "duration": 33,
    "start_time": "2023-08-28T07:46:21.442Z"
   },
   {
    "duration": 15,
    "start_time": "2023-08-28T07:46:21.477Z"
   },
   {
    "duration": 11,
    "start_time": "2023-08-28T07:46:21.494Z"
   },
   {
    "duration": 12,
    "start_time": "2023-08-28T07:46:21.507Z"
   },
   {
    "duration": 19,
    "start_time": "2023-08-28T07:46:21.521Z"
   },
   {
    "duration": 30,
    "start_time": "2023-08-28T07:46:21.542Z"
   },
   {
    "duration": 20,
    "start_time": "2023-08-28T07:46:21.575Z"
   },
   {
    "duration": 14,
    "start_time": "2023-08-28T07:46:21.597Z"
   },
   {
    "duration": 10,
    "start_time": "2023-08-28T07:46:21.613Z"
   },
   {
    "duration": 32,
    "start_time": "2023-08-28T07:46:21.625Z"
   },
   {
    "duration": 140,
    "start_time": "2023-08-28T07:46:21.663Z"
   },
   {
    "duration": 8,
    "start_time": "2023-08-28T07:46:21.805Z"
   },
   {
    "duration": 101,
    "start_time": "2023-08-28T07:46:21.815Z"
   },
   {
    "duration": 184,
    "start_time": "2023-08-28T07:46:21.918Z"
   },
   {
    "duration": 6,
    "start_time": "2023-08-28T07:46:22.104Z"
   },
   {
    "duration": 1460,
    "start_time": "2023-08-28T07:46:22.112Z"
   },
   {
    "duration": 123,
    "start_time": "2023-08-28T07:46:23.574Z"
   },
   {
    "duration": 1592,
    "start_time": "2023-08-28T07:46:23.698Z"
   },
   {
    "duration": 5,
    "start_time": "2023-08-28T07:46:25.293Z"
   },
   {
    "duration": 38,
    "start_time": "2023-08-28T07:46:25.299Z"
   },
   {
    "duration": 42,
    "start_time": "2023-08-28T07:46:25.338Z"
   },
   {
    "duration": 24,
    "start_time": "2023-08-28T07:46:25.382Z"
   },
   {
    "duration": 203,
    "start_time": "2023-08-28T07:46:25.408Z"
   },
   {
    "duration": 343,
    "start_time": "2023-08-28T07:46:25.613Z"
   },
   {
    "duration": 25,
    "start_time": "2023-08-28T07:46:25.959Z"
   },
   {
    "duration": 185,
    "start_time": "2023-08-28T07:46:25.986Z"
   },
   {
    "duration": 181,
    "start_time": "2023-08-28T07:46:26.175Z"
   },
   {
    "duration": 178,
    "start_time": "2023-08-28T07:47:29.207Z"
   },
   {
    "duration": 1277,
    "start_time": "2023-08-28T07:48:03.156Z"
   },
   {
    "duration": 86,
    "start_time": "2023-08-28T07:48:04.436Z"
   },
   {
    "duration": 27,
    "start_time": "2023-08-28T07:48:04.524Z"
   },
   {
    "duration": 197,
    "start_time": "2023-08-28T07:48:04.553Z"
   },
   {
    "duration": 17,
    "start_time": "2023-08-28T07:48:04.752Z"
   },
   {
    "duration": 21,
    "start_time": "2023-08-28T07:48:04.772Z"
   },
   {
    "duration": 20,
    "start_time": "2023-08-28T07:48:04.795Z"
   },
   {
    "duration": 23,
    "start_time": "2023-08-28T07:48:04.817Z"
   },
   {
    "duration": 35,
    "start_time": "2023-08-28T07:48:04.842Z"
   },
   {
    "duration": 15,
    "start_time": "2023-08-28T07:48:04.879Z"
   },
   {
    "duration": 14,
    "start_time": "2023-08-28T07:48:04.896Z"
   },
   {
    "duration": 11,
    "start_time": "2023-08-28T07:48:04.912Z"
   },
   {
    "duration": 18,
    "start_time": "2023-08-28T07:48:04.925Z"
   },
   {
    "duration": 7,
    "start_time": "2023-08-28T07:48:04.947Z"
   },
   {
    "duration": 10,
    "start_time": "2023-08-28T07:48:04.963Z"
   },
   {
    "duration": 10,
    "start_time": "2023-08-28T07:48:04.975Z"
   },
   {
    "duration": 10,
    "start_time": "2023-08-28T07:48:04.987Z"
   },
   {
    "duration": 168,
    "start_time": "2023-08-28T07:48:05.000Z"
   },
   {
    "duration": 8,
    "start_time": "2023-08-28T07:48:05.170Z"
   },
   {
    "duration": 106,
    "start_time": "2023-08-28T07:48:05.180Z"
   },
   {
    "duration": 180,
    "start_time": "2023-08-28T07:48:05.288Z"
   },
   {
    "duration": 7,
    "start_time": "2023-08-28T07:48:05.470Z"
   },
   {
    "duration": 1563,
    "start_time": "2023-08-28T07:48:05.479Z"
   },
   {
    "duration": 126,
    "start_time": "2023-08-28T07:48:07.044Z"
   },
   {
    "duration": 1471,
    "start_time": "2023-08-28T07:48:07.172Z"
   },
   {
    "duration": 26,
    "start_time": "2023-08-28T07:48:08.645Z"
   },
   {
    "duration": 13,
    "start_time": "2023-08-28T07:48:08.673Z"
   },
   {
    "duration": 34,
    "start_time": "2023-08-28T07:48:08.688Z"
   },
   {
    "duration": 50,
    "start_time": "2023-08-28T07:48:08.724Z"
   },
   {
    "duration": 175,
    "start_time": "2023-08-28T07:48:08.777Z"
   },
   {
    "duration": 358,
    "start_time": "2023-08-28T07:48:08.960Z"
   },
   {
    "duration": 22,
    "start_time": "2023-08-28T07:48:09.319Z"
   },
   {
    "duration": 191,
    "start_time": "2023-08-28T07:48:09.343Z"
   },
   {
    "duration": 190,
    "start_time": "2023-08-28T07:48:09.536Z"
   },
   {
    "duration": 1331,
    "start_time": "2023-08-28T07:54:05.777Z"
   },
   {
    "duration": 73,
    "start_time": "2023-08-28T07:54:07.110Z"
   },
   {
    "duration": 23,
    "start_time": "2023-08-28T07:54:07.185Z"
   },
   {
    "duration": 205,
    "start_time": "2023-08-28T07:54:07.209Z"
   },
   {
    "duration": 6,
    "start_time": "2023-08-28T07:54:07.417Z"
   },
   {
    "duration": 10,
    "start_time": "2023-08-28T07:54:07.425Z"
   },
   {
    "duration": 60,
    "start_time": "2023-08-28T07:54:07.436Z"
   },
   {
    "duration": 15,
    "start_time": "2023-08-28T07:54:07.498Z"
   },
   {
    "duration": 17,
    "start_time": "2023-08-28T07:54:07.514Z"
   },
   {
    "duration": 9,
    "start_time": "2023-08-28T07:54:07.533Z"
   },
   {
    "duration": 24,
    "start_time": "2023-08-28T07:54:07.543Z"
   },
   {
    "duration": 14,
    "start_time": "2023-08-28T07:54:07.569Z"
   },
   {
    "duration": 13,
    "start_time": "2023-08-28T07:54:07.585Z"
   },
   {
    "duration": 12,
    "start_time": "2023-08-28T07:54:07.601Z"
   },
   {
    "duration": 8,
    "start_time": "2023-08-28T07:54:07.615Z"
   },
   {
    "duration": 10,
    "start_time": "2023-08-28T07:54:07.625Z"
   },
   {
    "duration": 30,
    "start_time": "2023-08-28T07:54:07.637Z"
   },
   {
    "duration": 173,
    "start_time": "2023-08-28T07:54:07.668Z"
   },
   {
    "duration": 7,
    "start_time": "2023-08-28T07:54:07.843Z"
   },
   {
    "duration": 112,
    "start_time": "2023-08-28T07:54:07.852Z"
   },
   {
    "duration": 214,
    "start_time": "2023-08-28T07:54:07.966Z"
   },
   {
    "duration": 6,
    "start_time": "2023-08-28T07:54:08.185Z"
   },
   {
    "duration": 1683,
    "start_time": "2023-08-28T07:54:08.195Z"
   },
   {
    "duration": 126,
    "start_time": "2023-08-28T07:54:09.885Z"
   },
   {
    "duration": 1688,
    "start_time": "2023-08-28T07:54:10.013Z"
   },
   {
    "duration": 7,
    "start_time": "2023-08-28T07:54:11.703Z"
   },
   {
    "duration": 36,
    "start_time": "2023-08-28T07:54:11.711Z"
   },
   {
    "duration": 48,
    "start_time": "2023-08-28T07:54:11.749Z"
   },
   {
    "duration": 24,
    "start_time": "2023-08-28T07:54:11.800Z"
   },
   {
    "duration": 212,
    "start_time": "2023-08-28T07:54:11.826Z"
   },
   {
    "duration": 380,
    "start_time": "2023-08-28T07:54:12.040Z"
   },
   {
    "duration": 39,
    "start_time": "2023-08-28T07:54:12.422Z"
   },
   {
    "duration": 191,
    "start_time": "2023-08-28T07:54:12.465Z"
   },
   {
    "duration": 201,
    "start_time": "2023-08-28T07:54:12.659Z"
   },
   {
    "duration": 1079,
    "start_time": "2023-08-28T07:57:44.293Z"
   },
   {
    "duration": 1029,
    "start_time": "2023-08-28T07:57:52.150Z"
   },
   {
    "duration": 909,
    "start_time": "2023-08-28T07:59:37.176Z"
   },
   {
    "duration": 1019,
    "start_time": "2023-08-28T08:00:43.331Z"
   },
   {
    "duration": 1085,
    "start_time": "2023-08-28T08:01:01.780Z"
   },
   {
    "duration": 944,
    "start_time": "2023-08-28T08:02:35.729Z"
   },
   {
    "duration": 1001,
    "start_time": "2023-08-28T08:03:03.227Z"
   },
   {
    "duration": 1031,
    "start_time": "2023-08-28T08:03:23.154Z"
   },
   {
    "duration": 1266,
    "start_time": "2023-08-28T08:03:44.784Z"
   },
   {
    "duration": 73,
    "start_time": "2023-08-28T08:03:46.053Z"
   },
   {
    "duration": 23,
    "start_time": "2023-08-28T08:03:46.128Z"
   },
   {
    "duration": 189,
    "start_time": "2023-08-28T08:03:46.153Z"
   },
   {
    "duration": 6,
    "start_time": "2023-08-28T08:03:46.344Z"
   },
   {
    "duration": 20,
    "start_time": "2023-08-28T08:03:46.364Z"
   },
   {
    "duration": 20,
    "start_time": "2023-08-28T08:03:46.388Z"
   },
   {
    "duration": 14,
    "start_time": "2023-08-28T08:03:46.409Z"
   },
   {
    "duration": 15,
    "start_time": "2023-08-28T08:03:46.424Z"
   },
   {
    "duration": 29,
    "start_time": "2023-08-28T08:03:46.442Z"
   },
   {
    "duration": 14,
    "start_time": "2023-08-28T08:03:46.472Z"
   },
   {
    "duration": 11,
    "start_time": "2023-08-28T08:03:46.488Z"
   },
   {
    "duration": 18,
    "start_time": "2023-08-28T08:03:46.500Z"
   },
   {
    "duration": 6,
    "start_time": "2023-08-28T08:03:46.520Z"
   },
   {
    "duration": 19,
    "start_time": "2023-08-28T08:03:46.528Z"
   },
   {
    "duration": 36,
    "start_time": "2023-08-28T08:03:46.549Z"
   },
   {
    "duration": 18,
    "start_time": "2023-08-28T08:03:46.587Z"
   },
   {
    "duration": 154,
    "start_time": "2023-08-28T08:03:46.607Z"
   },
   {
    "duration": 9,
    "start_time": "2023-08-28T08:03:46.766Z"
   },
   {
    "duration": 105,
    "start_time": "2023-08-28T08:03:46.777Z"
   },
   {
    "duration": 167,
    "start_time": "2023-08-28T08:03:46.887Z"
   },
   {
    "duration": 11,
    "start_time": "2023-08-28T08:03:47.059Z"
   },
   {
    "duration": 1567,
    "start_time": "2023-08-28T08:03:47.072Z"
   },
   {
    "duration": 141,
    "start_time": "2023-08-28T08:03:48.641Z"
   },
   {
    "duration": 1568,
    "start_time": "2023-08-28T08:03:48.786Z"
   },
   {
    "duration": 21,
    "start_time": "2023-08-28T08:03:50.355Z"
   },
   {
    "duration": 31,
    "start_time": "2023-08-28T08:03:50.377Z"
   },
   {
    "duration": 34,
    "start_time": "2023-08-28T08:03:50.411Z"
   },
   {
    "duration": 35,
    "start_time": "2023-08-28T08:03:50.446Z"
   },
   {
    "duration": 199,
    "start_time": "2023-08-28T08:03:50.483Z"
   },
   {
    "duration": 322,
    "start_time": "2023-08-28T08:03:50.688Z"
   },
   {
    "duration": 21,
    "start_time": "2023-08-28T08:03:51.012Z"
   },
   {
    "duration": 197,
    "start_time": "2023-08-28T08:03:51.034Z"
   },
   {
    "duration": 213,
    "start_time": "2023-08-28T08:03:51.232Z"
   },
   {
    "duration": 965,
    "start_time": "2023-08-28T08:03:51.447Z"
   },
   {
    "duration": 118,
    "start_time": "2023-08-28T08:12:13.940Z"
   },
   {
    "duration": 1261,
    "start_time": "2023-08-28T08:12:19.933Z"
   },
   {
    "duration": 72,
    "start_time": "2023-08-28T08:12:21.196Z"
   },
   {
    "duration": 24,
    "start_time": "2023-08-28T08:12:21.270Z"
   },
   {
    "duration": 194,
    "start_time": "2023-08-28T08:12:21.296Z"
   },
   {
    "duration": 6,
    "start_time": "2023-08-28T08:12:21.492Z"
   },
   {
    "duration": 19,
    "start_time": "2023-08-28T08:12:21.500Z"
   },
   {
    "duration": 34,
    "start_time": "2023-08-28T08:12:21.521Z"
   },
   {
    "duration": 20,
    "start_time": "2023-08-28T08:12:21.556Z"
   },
   {
    "duration": 21,
    "start_time": "2023-08-28T08:12:21.580Z"
   },
   {
    "duration": 35,
    "start_time": "2023-08-28T08:12:21.603Z"
   },
   {
    "duration": 46,
    "start_time": "2023-08-28T08:12:21.640Z"
   },
   {
    "duration": 17,
    "start_time": "2023-08-28T08:12:21.688Z"
   },
   {
    "duration": 53,
    "start_time": "2023-08-28T08:12:21.707Z"
   },
   {
    "duration": 23,
    "start_time": "2023-08-28T08:12:21.764Z"
   },
   {
    "duration": 17,
    "start_time": "2023-08-28T08:12:21.793Z"
   },
   {
    "duration": 26,
    "start_time": "2023-08-28T08:12:21.812Z"
   },
   {
    "duration": 30,
    "start_time": "2023-08-28T08:12:21.840Z"
   },
   {
    "duration": 155,
    "start_time": "2023-08-28T08:12:21.872Z"
   },
   {
    "duration": 7,
    "start_time": "2023-08-28T08:12:22.030Z"
   },
   {
    "duration": 128,
    "start_time": "2023-08-28T08:12:22.039Z"
   },
   {
    "duration": 201,
    "start_time": "2023-08-28T08:12:22.169Z"
   },
   {
    "duration": 10,
    "start_time": "2023-08-28T08:12:22.372Z"
   },
   {
    "duration": 1629,
    "start_time": "2023-08-28T08:12:22.384Z"
   },
   {
    "duration": 174,
    "start_time": "2023-08-28T08:12:24.015Z"
   },
   {
    "duration": 1632,
    "start_time": "2023-08-28T08:12:24.191Z"
   },
   {
    "duration": 7,
    "start_time": "2023-08-28T08:12:25.825Z"
   },
   {
    "duration": 27,
    "start_time": "2023-08-28T08:12:25.833Z"
   },
   {
    "duration": 42,
    "start_time": "2023-08-28T08:12:25.866Z"
   },
   {
    "duration": 24,
    "start_time": "2023-08-28T08:12:25.910Z"
   },
   {
    "duration": 211,
    "start_time": "2023-08-28T08:12:25.935Z"
   },
   {
    "duration": 366,
    "start_time": "2023-08-28T08:12:26.148Z"
   },
   {
    "duration": 22,
    "start_time": "2023-08-28T08:12:26.516Z"
   },
   {
    "duration": 194,
    "start_time": "2023-08-28T08:12:26.540Z"
   },
   {
    "duration": 198,
    "start_time": "2023-08-28T08:12:26.736Z"
   },
   {
    "duration": 979,
    "start_time": "2023-08-28T08:12:26.936Z"
   },
   {
    "duration": 167,
    "start_time": "2023-08-28T08:12:27.916Z"
   },
   {
    "duration": 0,
    "start_time": "2023-08-28T08:12:28.087Z"
   },
   {
    "duration": 7,
    "start_time": "2023-08-28T08:12:42.564Z"
   },
   {
    "duration": 1829,
    "start_time": "2023-08-28T08:12:43.657Z"
   },
   {
    "duration": 2640,
    "start_time": "2023-08-28T08:13:09.035Z"
   },
   {
    "duration": 4,
    "start_time": "2023-08-28T08:14:26.848Z"
   },
   {
    "duration": 179,
    "start_time": "2023-08-28T08:14:27.840Z"
   },
   {
    "duration": 20,
    "start_time": "2023-08-28T08:14:37.711Z"
   },
   {
    "duration": 1305,
    "start_time": "2023-08-28T08:14:47.724Z"
   },
   {
    "duration": 95,
    "start_time": "2023-08-28T08:14:49.031Z"
   },
   {
    "duration": 28,
    "start_time": "2023-08-28T08:14:49.128Z"
   },
   {
    "duration": 201,
    "start_time": "2023-08-28T08:14:49.159Z"
   },
   {
    "duration": 6,
    "start_time": "2023-08-28T08:14:49.366Z"
   },
   {
    "duration": 17,
    "start_time": "2023-08-28T08:14:49.373Z"
   },
   {
    "duration": 20,
    "start_time": "2023-08-28T08:14:49.392Z"
   },
   {
    "duration": 13,
    "start_time": "2023-08-28T08:14:49.414Z"
   },
   {
    "duration": 47,
    "start_time": "2023-08-28T08:14:49.429Z"
   },
   {
    "duration": 9,
    "start_time": "2023-08-28T08:14:49.477Z"
   },
   {
    "duration": 17,
    "start_time": "2023-08-28T08:14:49.489Z"
   },
   {
    "duration": 14,
    "start_time": "2023-08-28T08:14:49.508Z"
   },
   {
    "duration": 16,
    "start_time": "2023-08-28T08:14:49.524Z"
   },
   {
    "duration": 6,
    "start_time": "2023-08-28T08:14:49.543Z"
   },
   {
    "duration": 20,
    "start_time": "2023-08-28T08:14:49.550Z"
   },
   {
    "duration": 14,
    "start_time": "2023-08-28T08:14:49.574Z"
   },
   {
    "duration": 15,
    "start_time": "2023-08-28T08:14:49.590Z"
   },
   {
    "duration": 141,
    "start_time": "2023-08-28T08:14:49.607Z"
   },
   {
    "duration": 13,
    "start_time": "2023-08-28T08:14:49.750Z"
   },
   {
    "duration": 102,
    "start_time": "2023-08-28T08:14:49.765Z"
   },
   {
    "duration": 177,
    "start_time": "2023-08-28T08:14:49.869Z"
   },
   {
    "duration": 21,
    "start_time": "2023-08-28T08:14:50.048Z"
   },
   {
    "duration": 1569,
    "start_time": "2023-08-28T08:14:50.077Z"
   },
   {
    "duration": 143,
    "start_time": "2023-08-28T08:14:51.648Z"
   },
   {
    "duration": 1658,
    "start_time": "2023-08-28T08:14:51.795Z"
   },
   {
    "duration": 9,
    "start_time": "2023-08-28T08:14:53.455Z"
   },
   {
    "duration": 21,
    "start_time": "2023-08-28T08:14:53.470Z"
   },
   {
    "duration": 40,
    "start_time": "2023-08-28T08:14:53.493Z"
   },
   {
    "duration": 50,
    "start_time": "2023-08-28T08:14:53.534Z"
   },
   {
    "duration": 191,
    "start_time": "2023-08-28T08:14:53.586Z"
   },
   {
    "duration": 404,
    "start_time": "2023-08-28T08:14:53.780Z"
   },
   {
    "duration": 35,
    "start_time": "2023-08-28T08:14:54.190Z"
   },
   {
    "duration": 231,
    "start_time": "2023-08-28T08:14:54.228Z"
   },
   {
    "duration": 205,
    "start_time": "2023-08-28T08:14:54.462Z"
   },
   {
    "duration": 997,
    "start_time": "2023-08-28T08:14:54.672Z"
   },
   {
    "duration": 4,
    "start_time": "2023-08-28T08:14:55.670Z"
   },
   {
    "duration": 156,
    "start_time": "2023-08-28T08:14:55.676Z"
   },
   {
    "duration": 18,
    "start_time": "2023-08-28T08:14:55.834Z"
   },
   {
    "duration": 16,
    "start_time": "2023-08-28T08:15:25.746Z"
   },
   {
    "duration": 1288,
    "start_time": "2023-08-28T08:18:41.601Z"
   },
   {
    "duration": 72,
    "start_time": "2023-08-28T08:18:42.892Z"
   },
   {
    "duration": 26,
    "start_time": "2023-08-28T08:18:42.966Z"
   },
   {
    "duration": 203,
    "start_time": "2023-08-28T08:18:42.994Z"
   },
   {
    "duration": 6,
    "start_time": "2023-08-28T08:18:43.198Z"
   },
   {
    "duration": 14,
    "start_time": "2023-08-28T08:18:43.206Z"
   },
   {
    "duration": 25,
    "start_time": "2023-08-28T08:18:43.222Z"
   },
   {
    "duration": 23,
    "start_time": "2023-08-28T08:18:43.261Z"
   },
   {
    "duration": 14,
    "start_time": "2023-08-28T08:18:43.288Z"
   },
   {
    "duration": 9,
    "start_time": "2023-08-28T08:18:43.304Z"
   },
   {
    "duration": 9,
    "start_time": "2023-08-28T08:18:43.314Z"
   },
   {
    "duration": 14,
    "start_time": "2023-08-28T08:18:43.325Z"
   },
   {
    "duration": 38,
    "start_time": "2023-08-28T08:18:43.341Z"
   },
   {
    "duration": 17,
    "start_time": "2023-08-28T08:18:43.382Z"
   },
   {
    "duration": 14,
    "start_time": "2023-08-28T08:18:43.401Z"
   },
   {
    "duration": 13,
    "start_time": "2023-08-28T08:18:43.417Z"
   },
   {
    "duration": 14,
    "start_time": "2023-08-28T08:18:43.432Z"
   },
   {
    "duration": 163,
    "start_time": "2023-08-28T08:18:43.448Z"
   },
   {
    "duration": 7,
    "start_time": "2023-08-28T08:18:43.613Z"
   },
   {
    "duration": 118,
    "start_time": "2023-08-28T08:18:43.621Z"
   },
   {
    "duration": 182,
    "start_time": "2023-08-28T08:18:43.741Z"
   },
   {
    "duration": 6,
    "start_time": "2023-08-28T08:18:43.924Z"
   },
   {
    "duration": 1667,
    "start_time": "2023-08-28T08:18:43.931Z"
   },
   {
    "duration": 131,
    "start_time": "2023-08-28T08:18:45.601Z"
   },
   {
    "duration": 1598,
    "start_time": "2023-08-28T08:18:45.733Z"
   },
   {
    "duration": 6,
    "start_time": "2023-08-28T08:18:47.332Z"
   },
   {
    "duration": 34,
    "start_time": "2023-08-28T08:18:47.339Z"
   },
   {
    "duration": 34,
    "start_time": "2023-08-28T08:18:47.381Z"
   },
   {
    "duration": 23,
    "start_time": "2023-08-28T08:18:47.416Z"
   },
   {
    "duration": 198,
    "start_time": "2023-08-28T08:18:47.441Z"
   },
   {
    "duration": 353,
    "start_time": "2023-08-28T08:18:47.641Z"
   },
   {
    "duration": 22,
    "start_time": "2023-08-28T08:18:47.995Z"
   },
   {
    "duration": 201,
    "start_time": "2023-08-28T08:18:48.019Z"
   },
   {
    "duration": 192,
    "start_time": "2023-08-28T08:18:48.222Z"
   },
   {
    "duration": 1037,
    "start_time": "2023-08-28T08:18:48.416Z"
   },
   {
    "duration": 9,
    "start_time": "2023-08-28T08:18:49.455Z"
   },
   {
    "duration": 162,
    "start_time": "2023-08-28T08:18:49.467Z"
   },
   {
    "duration": 19,
    "start_time": "2023-08-28T08:18:49.631Z"
   },
   {
    "duration": 30,
    "start_time": "2023-08-28T08:18:49.658Z"
   },
   {
    "duration": 4,
    "start_time": "2023-08-28T08:20:20.816Z"
   },
   {
    "duration": 25,
    "start_time": "2023-08-28T08:20:28.999Z"
   },
   {
    "duration": 1578,
    "start_time": "2023-08-28T08:20:54.524Z"
   },
   {
    "duration": 76,
    "start_time": "2023-08-28T08:20:56.104Z"
   },
   {
    "duration": 21,
    "start_time": "2023-08-28T08:20:56.181Z"
   },
   {
    "duration": 186,
    "start_time": "2023-08-28T08:20:56.204Z"
   },
   {
    "duration": 7,
    "start_time": "2023-08-28T08:20:56.392Z"
   },
   {
    "duration": 13,
    "start_time": "2023-08-28T08:20:56.400Z"
   },
   {
    "duration": 39,
    "start_time": "2023-08-28T08:20:56.415Z"
   },
   {
    "duration": 34,
    "start_time": "2023-08-28T08:20:56.456Z"
   },
   {
    "duration": 16,
    "start_time": "2023-08-28T08:20:56.493Z"
   },
   {
    "duration": 14,
    "start_time": "2023-08-28T08:20:56.512Z"
   },
   {
    "duration": 12,
    "start_time": "2023-08-28T08:20:56.528Z"
   },
   {
    "duration": 5,
    "start_time": "2023-08-28T08:20:56.542Z"
   },
   {
    "duration": 25,
    "start_time": "2023-08-28T08:20:56.549Z"
   },
   {
    "duration": 12,
    "start_time": "2023-08-28T08:20:56.580Z"
   },
   {
    "duration": 18,
    "start_time": "2023-08-28T08:20:56.593Z"
   },
   {
    "duration": 13,
    "start_time": "2023-08-28T08:20:56.613Z"
   },
   {
    "duration": 21,
    "start_time": "2023-08-28T08:20:56.628Z"
   },
   {
    "duration": 150,
    "start_time": "2023-08-28T08:20:56.651Z"
   },
   {
    "duration": 7,
    "start_time": "2023-08-28T08:20:56.803Z"
   },
   {
    "duration": 108,
    "start_time": "2023-08-28T08:20:56.812Z"
   },
   {
    "duration": 187,
    "start_time": "2023-08-28T08:20:56.922Z"
   },
   {
    "duration": 6,
    "start_time": "2023-08-28T08:20:57.111Z"
   },
   {
    "duration": 1629,
    "start_time": "2023-08-28T08:20:57.119Z"
   },
   {
    "duration": 140,
    "start_time": "2023-08-28T08:20:58.750Z"
   },
   {
    "duration": 1611,
    "start_time": "2023-08-28T08:20:58.892Z"
   },
   {
    "duration": 6,
    "start_time": "2023-08-28T08:21:00.505Z"
   },
   {
    "duration": 74,
    "start_time": "2023-08-28T08:21:00.513Z"
   },
   {
    "duration": 76,
    "start_time": "2023-08-28T08:21:00.591Z"
   },
   {
    "duration": 45,
    "start_time": "2023-08-28T08:21:00.670Z"
   },
   {
    "duration": 206,
    "start_time": "2023-08-28T08:21:00.716Z"
   },
   {
    "duration": 366,
    "start_time": "2023-08-28T08:21:00.924Z"
   },
   {
    "duration": 21,
    "start_time": "2023-08-28T08:21:01.292Z"
   },
   {
    "duration": 218,
    "start_time": "2023-08-28T08:21:01.315Z"
   },
   {
    "duration": 203,
    "start_time": "2023-08-28T08:21:01.535Z"
   },
   {
    "duration": 1019,
    "start_time": "2023-08-28T08:21:01.740Z"
   },
   {
    "duration": 4,
    "start_time": "2023-08-28T08:21:02.760Z"
   },
   {
    "duration": 169,
    "start_time": "2023-08-28T08:21:02.766Z"
   },
   {
    "duration": 29,
    "start_time": "2023-08-28T08:21:02.937Z"
   },
   {
    "duration": 109,
    "start_time": "2023-08-28T08:31:26.807Z"
   },
   {
    "duration": 1283,
    "start_time": "2023-08-28T08:31:31.664Z"
   },
   {
    "duration": 73,
    "start_time": "2023-08-28T08:31:32.949Z"
   },
   {
    "duration": 24,
    "start_time": "2023-08-28T08:31:33.025Z"
   },
   {
    "duration": 238,
    "start_time": "2023-08-28T08:31:33.051Z"
   },
   {
    "duration": 6,
    "start_time": "2023-08-28T08:31:33.292Z"
   },
   {
    "duration": 21,
    "start_time": "2023-08-28T08:31:33.300Z"
   },
   {
    "duration": 26,
    "start_time": "2023-08-28T08:31:33.323Z"
   },
   {
    "duration": 24,
    "start_time": "2023-08-28T08:31:33.362Z"
   },
   {
    "duration": 57,
    "start_time": "2023-08-28T08:31:33.388Z"
   },
   {
    "duration": 28,
    "start_time": "2023-08-28T08:31:33.447Z"
   },
   {
    "duration": 20,
    "start_time": "2023-08-28T08:31:33.477Z"
   },
   {
    "duration": 19,
    "start_time": "2023-08-28T08:31:33.499Z"
   },
   {
    "duration": 18,
    "start_time": "2023-08-28T08:31:33.520Z"
   },
   {
    "duration": 6,
    "start_time": "2023-08-28T08:31:33.543Z"
   },
   {
    "duration": 27,
    "start_time": "2023-08-28T08:31:33.551Z"
   },
   {
    "duration": 12,
    "start_time": "2023-08-28T08:31:33.580Z"
   },
   {
    "duration": 28,
    "start_time": "2023-08-28T08:31:33.594Z"
   },
   {
    "duration": 150,
    "start_time": "2023-08-28T08:31:33.624Z"
   },
   {
    "duration": 10,
    "start_time": "2023-08-28T08:31:33.776Z"
   },
   {
    "duration": 103,
    "start_time": "2023-08-28T08:31:33.788Z"
   },
   {
    "duration": 215,
    "start_time": "2023-08-28T08:31:33.893Z"
   },
   {
    "duration": 7,
    "start_time": "2023-08-28T08:31:34.110Z"
   },
   {
    "duration": 1714,
    "start_time": "2023-08-28T08:31:34.119Z"
   },
   {
    "duration": 144,
    "start_time": "2023-08-28T08:31:35.835Z"
   },
   {
    "duration": 1605,
    "start_time": "2023-08-28T08:31:35.981Z"
   },
   {
    "duration": 5,
    "start_time": "2023-08-28T08:31:37.589Z"
   },
   {
    "duration": 15,
    "start_time": "2023-08-28T08:31:37.596Z"
   },
   {
    "duration": 57,
    "start_time": "2023-08-28T08:31:37.613Z"
   },
   {
    "duration": 26,
    "start_time": "2023-08-28T08:31:37.674Z"
   },
   {
    "duration": 202,
    "start_time": "2023-08-28T08:31:37.702Z"
   },
   {
    "duration": 232,
    "start_time": "2023-08-28T08:31:37.906Z"
   },
   {
    "duration": 39,
    "start_time": "2023-08-28T08:31:38.140Z"
   },
   {
    "duration": 317,
    "start_time": "2023-08-28T08:31:38.181Z"
   },
   {
    "duration": 200,
    "start_time": "2023-08-28T08:31:38.501Z"
   },
   {
    "duration": 976,
    "start_time": "2023-08-28T08:31:38.703Z"
   },
   {
    "duration": 3,
    "start_time": "2023-08-28T08:31:39.681Z"
   },
   {
    "duration": 166,
    "start_time": "2023-08-28T08:31:39.686Z"
   },
   {
    "duration": 24,
    "start_time": "2023-08-28T08:31:39.854Z"
   },
   {
    "duration": 120,
    "start_time": "2023-08-28T08:31:39.880Z"
   },
   {
    "duration": 7,
    "start_time": "2023-08-28T08:31:57.552Z"
   },
   {
    "duration": 7,
    "start_time": "2023-08-28T08:33:00.140Z"
   },
   {
    "duration": 13,
    "start_time": "2023-08-28T08:39:38.973Z"
   },
   {
    "duration": 6,
    "start_time": "2023-08-28T08:39:48.052Z"
   },
   {
    "duration": 8,
    "start_time": "2023-08-28T08:40:46.401Z"
   },
   {
    "duration": 12,
    "start_time": "2023-08-28T08:40:47.490Z"
   },
   {
    "duration": 9,
    "start_time": "2023-08-28T08:51:33.390Z"
   },
   {
    "duration": 1509,
    "start_time": "2023-08-28T18:22:59.048Z"
   },
   {
    "duration": 194,
    "start_time": "2023-08-28T18:23:00.560Z"
   },
   {
    "duration": 24,
    "start_time": "2023-08-28T18:23:00.756Z"
   },
   {
    "duration": 194,
    "start_time": "2023-08-28T18:23:00.783Z"
   },
   {
    "duration": 6,
    "start_time": "2023-08-28T18:23:00.979Z"
   },
   {
    "duration": 37,
    "start_time": "2023-08-28T18:23:01.001Z"
   },
   {
    "duration": 59,
    "start_time": "2023-08-28T18:23:01.040Z"
   },
   {
    "duration": 49,
    "start_time": "2023-08-28T18:23:01.101Z"
   },
   {
    "duration": 44,
    "start_time": "2023-08-28T18:23:01.152Z"
   },
   {
    "duration": 32,
    "start_time": "2023-08-28T18:23:01.199Z"
   },
   {
    "duration": 49,
    "start_time": "2023-08-28T18:23:01.233Z"
   },
   {
    "duration": 50,
    "start_time": "2023-08-28T18:23:01.284Z"
   },
   {
    "duration": 109,
    "start_time": "2023-08-28T18:23:01.336Z"
   },
   {
    "duration": 63,
    "start_time": "2023-08-28T18:23:01.447Z"
   },
   {
    "duration": 102,
    "start_time": "2023-08-28T18:23:01.512Z"
   },
   {
    "duration": 63,
    "start_time": "2023-08-28T18:23:01.616Z"
   },
   {
    "duration": 76,
    "start_time": "2023-08-28T18:23:01.681Z"
   },
   {
    "duration": 186,
    "start_time": "2023-08-28T18:23:01.759Z"
   },
   {
    "duration": 76,
    "start_time": "2023-08-28T18:23:01.948Z"
   },
   {
    "duration": 209,
    "start_time": "2023-08-28T18:23:02.026Z"
   },
   {
    "duration": 222,
    "start_time": "2023-08-28T18:23:02.242Z"
   },
   {
    "duration": 7,
    "start_time": "2023-08-28T18:23:02.466Z"
   },
   {
    "duration": 1676,
    "start_time": "2023-08-28T18:23:02.475Z"
   },
   {
    "duration": 136,
    "start_time": "2023-08-28T18:23:04.153Z"
   },
   {
    "duration": 1656,
    "start_time": "2023-08-28T18:23:04.291Z"
   },
   {
    "duration": 6,
    "start_time": "2023-08-28T18:23:05.950Z"
   },
   {
    "duration": 42,
    "start_time": "2023-08-28T18:23:05.959Z"
   },
   {
    "duration": 63,
    "start_time": "2023-08-28T18:23:06.006Z"
   },
   {
    "duration": 36,
    "start_time": "2023-08-28T18:23:06.071Z"
   },
   {
    "duration": 222,
    "start_time": "2023-08-28T18:23:06.110Z"
   },
   {
    "duration": 197,
    "start_time": "2023-08-28T18:23:06.335Z"
   },
   {
    "duration": 127,
    "start_time": "2023-08-28T18:23:06.535Z"
   },
   {
    "duration": 351,
    "start_time": "2023-08-28T18:23:06.664Z"
   },
   {
    "duration": 189,
    "start_time": "2023-08-28T18:23:07.017Z"
   },
   {
    "duration": 947,
    "start_time": "2023-08-28T18:23:07.208Z"
   },
   {
    "duration": 3,
    "start_time": "2023-08-28T18:23:08.157Z"
   },
   {
    "duration": 169,
    "start_time": "2023-08-28T18:23:08.162Z"
   },
   {
    "duration": 18,
    "start_time": "2023-08-28T18:23:08.332Z"
   },
   {
    "duration": 6,
    "start_time": "2023-08-28T18:23:08.352Z"
   },
   {
    "duration": 6,
    "start_time": "2023-08-28T18:23:08.360Z"
   },
   {
    "duration": 36,
    "start_time": "2023-08-28T18:23:08.368Z"
   },
   {
    "duration": 47,
    "start_time": "2023-08-28T20:11:07.840Z"
   },
   {
    "duration": 1389,
    "start_time": "2023-08-28T20:11:14.356Z"
   },
   {
    "duration": 320,
    "start_time": "2023-08-28T20:11:15.748Z"
   },
   {
    "duration": 24,
    "start_time": "2023-08-28T20:11:16.070Z"
   },
   {
    "duration": 177,
    "start_time": "2023-08-28T20:11:16.096Z"
   },
   {
    "duration": 6,
    "start_time": "2023-08-28T20:11:16.275Z"
   },
   {
    "duration": 7,
    "start_time": "2023-08-28T20:11:16.282Z"
   },
   {
    "duration": 23,
    "start_time": "2023-08-28T20:11:16.291Z"
   },
   {
    "duration": 13,
    "start_time": "2023-08-28T20:11:16.316Z"
   },
   {
    "duration": 16,
    "start_time": "2023-08-28T20:11:16.360Z"
   },
   {
    "duration": 12,
    "start_time": "2023-08-28T20:11:16.378Z"
   },
   {
    "duration": 9,
    "start_time": "2023-08-28T20:11:16.392Z"
   },
   {
    "duration": 10,
    "start_time": "2023-08-28T20:11:16.403Z"
   },
   {
    "duration": 18,
    "start_time": "2023-08-28T20:11:16.415Z"
   },
   {
    "duration": 30,
    "start_time": "2023-08-28T20:11:16.434Z"
   },
   {
    "duration": 5,
    "start_time": "2023-08-28T20:11:16.466Z"
   },
   {
    "duration": 6,
    "start_time": "2023-08-28T20:11:16.473Z"
   },
   {
    "duration": 27,
    "start_time": "2023-08-28T20:11:16.481Z"
   },
   {
    "duration": 168,
    "start_time": "2023-08-28T20:11:16.510Z"
   },
   {
    "duration": 7,
    "start_time": "2023-08-28T20:11:16.680Z"
   },
   {
    "duration": 99,
    "start_time": "2023-08-28T20:11:16.689Z"
   },
   {
    "duration": 177,
    "start_time": "2023-08-28T20:11:16.790Z"
   },
   {
    "duration": 6,
    "start_time": "2023-08-28T20:11:16.969Z"
   },
   {
    "duration": 1442,
    "start_time": "2023-08-28T20:11:16.976Z"
   },
   {
    "duration": 117,
    "start_time": "2023-08-28T20:11:18.420Z"
   },
   {
    "duration": 1454,
    "start_time": "2023-08-28T20:11:18.539Z"
   },
   {
    "duration": 6,
    "start_time": "2023-08-28T20:11:19.996Z"
   },
   {
    "duration": 36,
    "start_time": "2023-08-28T20:11:20.003Z"
   },
   {
    "duration": 53,
    "start_time": "2023-08-28T20:11:20.044Z"
   },
   {
    "duration": 24,
    "start_time": "2023-08-28T20:11:20.099Z"
   },
   {
    "duration": 205,
    "start_time": "2023-08-28T20:11:20.125Z"
   },
   {
    "duration": 185,
    "start_time": "2023-08-28T20:11:20.332Z"
   },
   {
    "duration": 20,
    "start_time": "2023-08-28T20:11:20.518Z"
   },
   {
    "duration": 327,
    "start_time": "2023-08-28T20:11:20.540Z"
   },
   {
    "duration": 173,
    "start_time": "2023-08-28T20:11:20.869Z"
   },
   {
    "duration": 829,
    "start_time": "2023-08-28T20:11:21.044Z"
   },
   {
    "duration": 3,
    "start_time": "2023-08-28T20:11:21.875Z"
   },
   {
    "duration": 146,
    "start_time": "2023-08-28T20:11:21.880Z"
   },
   {
    "duration": 31,
    "start_time": "2023-08-28T20:11:22.028Z"
   },
   {
    "duration": 9,
    "start_time": "2023-08-28T20:11:22.061Z"
   },
   {
    "duration": 16,
    "start_time": "2023-08-28T20:11:22.072Z"
   },
   {
    "duration": 11,
    "start_time": "2023-08-28T20:11:22.090Z"
   },
   {
    "duration": 138,
    "start_time": "2023-08-28T20:11:42.569Z"
   },
   {
    "duration": 136,
    "start_time": "2023-08-28T20:12:05.462Z"
   },
   {
    "duration": 148,
    "start_time": "2023-08-28T20:13:35.757Z"
   },
   {
    "duration": 271,
    "start_time": "2023-08-28T20:14:29.657Z"
   },
   {
    "duration": 149,
    "start_time": "2023-08-28T20:14:42.430Z"
   },
   {
    "duration": 151,
    "start_time": "2023-08-28T20:14:49.296Z"
   },
   {
    "duration": 152,
    "start_time": "2023-08-28T20:14:53.508Z"
   },
   {
    "duration": 159,
    "start_time": "2023-08-28T20:15:19.725Z"
   },
   {
    "duration": 1184,
    "start_time": "2023-08-28T20:15:25.616Z"
   },
   {
    "duration": 69,
    "start_time": "2023-08-28T20:15:26.802Z"
   },
   {
    "duration": 25,
    "start_time": "2023-08-28T20:15:26.873Z"
   },
   {
    "duration": 173,
    "start_time": "2023-08-28T20:15:26.900Z"
   },
   {
    "duration": 7,
    "start_time": "2023-08-28T20:15:27.074Z"
   },
   {
    "duration": 7,
    "start_time": "2023-08-28T20:15:27.083Z"
   },
   {
    "duration": 27,
    "start_time": "2023-08-28T20:15:27.091Z"
   },
   {
    "duration": 12,
    "start_time": "2023-08-28T20:15:27.120Z"
   },
   {
    "duration": 40,
    "start_time": "2023-08-28T20:15:27.133Z"
   },
   {
    "duration": 7,
    "start_time": "2023-08-28T20:15:27.175Z"
   },
   {
    "duration": 9,
    "start_time": "2023-08-28T20:15:27.184Z"
   },
   {
    "duration": 8,
    "start_time": "2023-08-28T20:15:27.195Z"
   },
   {
    "duration": 10,
    "start_time": "2023-08-28T20:15:27.204Z"
   },
   {
    "duration": 5,
    "start_time": "2023-08-28T20:15:27.216Z"
   },
   {
    "duration": 5,
    "start_time": "2023-08-28T20:15:27.222Z"
   },
   {
    "duration": 7,
    "start_time": "2023-08-28T20:15:27.259Z"
   },
   {
    "duration": 9,
    "start_time": "2023-08-28T20:15:27.267Z"
   },
   {
    "duration": 169,
    "start_time": "2023-08-28T20:15:27.278Z"
   },
   {
    "duration": 14,
    "start_time": "2023-08-28T20:15:27.449Z"
   },
   {
    "duration": 94,
    "start_time": "2023-08-28T20:15:27.465Z"
   },
   {
    "duration": 183,
    "start_time": "2023-08-28T20:15:27.561Z"
   },
   {
    "duration": 15,
    "start_time": "2023-08-28T20:15:27.746Z"
   },
   {
    "duration": 1436,
    "start_time": "2023-08-28T20:15:27.764Z"
   },
   {
    "duration": 119,
    "start_time": "2023-08-28T20:15:29.202Z"
   },
   {
    "duration": 1452,
    "start_time": "2023-08-28T20:15:29.323Z"
   },
   {
    "duration": 6,
    "start_time": "2023-08-28T20:15:30.777Z"
   },
   {
    "duration": 49,
    "start_time": "2023-08-28T20:15:30.784Z"
   },
   {
    "duration": 47,
    "start_time": "2023-08-28T20:15:30.836Z"
   },
   {
    "duration": 33,
    "start_time": "2023-08-28T20:15:30.885Z"
   },
   {
    "duration": 172,
    "start_time": "2023-08-28T20:15:30.920Z"
   },
   {
    "duration": 187,
    "start_time": "2023-08-28T20:15:31.094Z"
   },
   {
    "duration": 21,
    "start_time": "2023-08-28T20:15:31.283Z"
   },
   {
    "duration": 321,
    "start_time": "2023-08-28T20:15:31.306Z"
   },
   {
    "duration": 184,
    "start_time": "2023-08-28T20:15:31.629Z"
   },
   {
    "duration": 933,
    "start_time": "2023-08-28T20:15:31.815Z"
   },
   {
    "duration": 10,
    "start_time": "2023-08-28T20:15:32.749Z"
   },
   {
    "duration": 142,
    "start_time": "2023-08-28T20:15:32.761Z"
   },
   {
    "duration": 17,
    "start_time": "2023-08-28T20:15:32.905Z"
   },
   {
    "duration": 16,
    "start_time": "2023-08-28T20:15:32.924Z"
   },
   {
    "duration": 6,
    "start_time": "2023-08-28T20:15:32.942Z"
   },
   {
    "duration": 10,
    "start_time": "2023-08-28T20:15:32.959Z"
   },
   {
    "duration": 161,
    "start_time": "2023-08-28T20:16:03.786Z"
   },
   {
    "duration": 153,
    "start_time": "2023-08-28T20:16:12.531Z"
   },
   {
    "duration": 160,
    "start_time": "2023-08-28T20:16:17.118Z"
   },
   {
    "duration": 159,
    "start_time": "2023-08-28T20:16:27.034Z"
   },
   {
    "duration": 1185,
    "start_time": "2023-08-28T20:16:31.966Z"
   },
   {
    "duration": 68,
    "start_time": "2023-08-28T20:16:33.153Z"
   },
   {
    "duration": 20,
    "start_time": "2023-08-28T20:16:33.223Z"
   },
   {
    "duration": 167,
    "start_time": "2023-08-28T20:16:33.245Z"
   },
   {
    "duration": 6,
    "start_time": "2023-08-28T20:16:33.414Z"
   },
   {
    "duration": 8,
    "start_time": "2023-08-28T20:16:33.421Z"
   },
   {
    "duration": 32,
    "start_time": "2023-08-28T20:16:33.431Z"
   },
   {
    "duration": 12,
    "start_time": "2023-08-28T20:16:33.465Z"
   },
   {
    "duration": 14,
    "start_time": "2023-08-28T20:16:33.479Z"
   },
   {
    "duration": 9,
    "start_time": "2023-08-28T20:16:33.496Z"
   },
   {
    "duration": 6,
    "start_time": "2023-08-28T20:16:33.506Z"
   },
   {
    "duration": 8,
    "start_time": "2023-08-28T20:16:33.514Z"
   },
   {
    "duration": 42,
    "start_time": "2023-08-28T20:16:33.523Z"
   },
   {
    "duration": 7,
    "start_time": "2023-08-28T20:16:33.566Z"
   },
   {
    "duration": 18,
    "start_time": "2023-08-28T20:16:33.575Z"
   },
   {
    "duration": 8,
    "start_time": "2023-08-28T20:16:33.594Z"
   },
   {
    "duration": 9,
    "start_time": "2023-08-28T20:16:33.604Z"
   },
   {
    "duration": 163,
    "start_time": "2023-08-28T20:16:33.614Z"
   },
   {
    "duration": 7,
    "start_time": "2023-08-28T20:16:33.779Z"
   },
   {
    "duration": 93,
    "start_time": "2023-08-28T20:16:33.788Z"
   },
   {
    "duration": 201,
    "start_time": "2023-08-28T20:16:33.882Z"
   },
   {
    "duration": 7,
    "start_time": "2023-08-28T20:16:34.085Z"
   },
   {
    "duration": 1407,
    "start_time": "2023-08-28T20:16:34.094Z"
   },
   {
    "duration": 115,
    "start_time": "2023-08-28T20:16:35.503Z"
   },
   {
    "duration": 1433,
    "start_time": "2023-08-28T20:16:35.620Z"
   },
   {
    "duration": 9,
    "start_time": "2023-08-28T20:16:37.054Z"
   },
   {
    "duration": 17,
    "start_time": "2023-08-28T20:16:37.064Z"
   },
   {
    "duration": 32,
    "start_time": "2023-08-28T20:16:37.085Z"
   },
   {
    "duration": 48,
    "start_time": "2023-08-28T20:16:37.119Z"
   },
   {
    "duration": 176,
    "start_time": "2023-08-28T20:16:37.168Z"
   },
   {
    "duration": 176,
    "start_time": "2023-08-28T20:16:37.345Z"
   },
   {
    "duration": 21,
    "start_time": "2023-08-28T20:16:37.523Z"
   },
   {
    "duration": 292,
    "start_time": "2023-08-28T20:16:37.558Z"
   },
   {
    "duration": 179,
    "start_time": "2023-08-28T20:16:37.852Z"
   },
   {
    "duration": 842,
    "start_time": "2023-08-28T20:16:38.033Z"
   },
   {
    "duration": 3,
    "start_time": "2023-08-28T20:16:38.877Z"
   },
   {
    "duration": 147,
    "start_time": "2023-08-28T20:16:38.882Z"
   },
   {
    "duration": 31,
    "start_time": "2023-08-28T20:16:39.031Z"
   },
   {
    "duration": 6,
    "start_time": "2023-08-28T20:16:39.064Z"
   },
   {
    "duration": 6,
    "start_time": "2023-08-28T20:16:39.072Z"
   },
   {
    "duration": 9,
    "start_time": "2023-08-28T20:16:39.080Z"
   },
   {
    "duration": 159,
    "start_time": "2023-08-28T20:16:58.940Z"
   },
   {
    "duration": 156,
    "start_time": "2023-08-28T20:17:08.369Z"
   },
   {
    "duration": 135,
    "start_time": "2023-08-28T20:17:28.808Z"
   },
   {
    "duration": 1190,
    "start_time": "2023-08-28T20:18:23.957Z"
   },
   {
    "duration": 69,
    "start_time": "2023-08-28T20:18:25.149Z"
   },
   {
    "duration": 21,
    "start_time": "2023-08-28T20:18:25.220Z"
   },
   {
    "duration": 188,
    "start_time": "2023-08-28T20:18:25.243Z"
   },
   {
    "duration": 6,
    "start_time": "2023-08-28T20:18:25.432Z"
   },
   {
    "duration": 16,
    "start_time": "2023-08-28T20:18:25.440Z"
   },
   {
    "duration": 17,
    "start_time": "2023-08-28T20:18:25.459Z"
   },
   {
    "duration": 12,
    "start_time": "2023-08-28T20:18:25.477Z"
   },
   {
    "duration": 13,
    "start_time": "2023-08-28T20:18:25.491Z"
   },
   {
    "duration": 12,
    "start_time": "2023-08-28T20:18:25.506Z"
   },
   {
    "duration": 14,
    "start_time": "2023-08-28T20:18:25.520Z"
   },
   {
    "duration": 25,
    "start_time": "2023-08-28T20:18:25.536Z"
   },
   {
    "duration": 9,
    "start_time": "2023-08-28T20:18:25.563Z"
   },
   {
    "duration": 9,
    "start_time": "2023-08-28T20:18:25.573Z"
   },
   {
    "duration": 5,
    "start_time": "2023-08-28T20:18:25.584Z"
   },
   {
    "duration": 12,
    "start_time": "2023-08-28T20:18:25.590Z"
   },
   {
    "duration": 9,
    "start_time": "2023-08-28T20:18:25.604Z"
   },
   {
    "duration": 171,
    "start_time": "2023-08-28T20:18:25.614Z"
   },
   {
    "duration": 8,
    "start_time": "2023-08-28T20:18:25.786Z"
   },
   {
    "duration": 97,
    "start_time": "2023-08-28T20:18:25.795Z"
   },
   {
    "duration": 168,
    "start_time": "2023-08-28T20:18:25.894Z"
   },
   {
    "duration": 6,
    "start_time": "2023-08-28T20:18:26.064Z"
   },
   {
    "duration": 1402,
    "start_time": "2023-08-28T20:18:26.072Z"
   },
   {
    "duration": 121,
    "start_time": "2023-08-28T20:18:27.476Z"
   },
   {
    "duration": 1571,
    "start_time": "2023-08-28T20:18:27.600Z"
   },
   {
    "duration": 5,
    "start_time": "2023-08-28T20:18:29.173Z"
   },
   {
    "duration": 19,
    "start_time": "2023-08-28T20:18:29.180Z"
   },
   {
    "duration": 52,
    "start_time": "2023-08-28T20:18:29.202Z"
   },
   {
    "duration": 23,
    "start_time": "2023-08-28T20:18:29.256Z"
   },
   {
    "duration": 178,
    "start_time": "2023-08-28T20:18:29.281Z"
   },
   {
    "duration": 182,
    "start_time": "2023-08-28T20:18:29.460Z"
   },
   {
    "duration": 28,
    "start_time": "2023-08-28T20:18:29.644Z"
   },
   {
    "duration": 321,
    "start_time": "2023-08-28T20:18:29.674Z"
   },
   {
    "duration": 197,
    "start_time": "2023-08-28T20:18:29.997Z"
   },
   {
    "duration": 877,
    "start_time": "2023-08-28T20:18:30.196Z"
   },
   {
    "duration": 4,
    "start_time": "2023-08-28T20:18:31.074Z"
   },
   {
    "duration": 191,
    "start_time": "2023-08-28T20:18:31.079Z"
   },
   {
    "duration": 20,
    "start_time": "2023-08-28T20:18:31.272Z"
   },
   {
    "duration": 45,
    "start_time": "2023-08-28T20:18:31.294Z"
   },
   {
    "duration": 21,
    "start_time": "2023-08-28T20:18:31.342Z"
   },
   {
    "duration": 41,
    "start_time": "2023-08-28T20:18:31.365Z"
   },
   {
    "duration": 164,
    "start_time": "2023-08-28T20:19:30.813Z"
   },
   {
    "duration": 152,
    "start_time": "2023-08-28T20:19:38.120Z"
   },
   {
    "duration": 165,
    "start_time": "2023-08-28T20:20:15.176Z"
   },
   {
    "duration": 190,
    "start_time": "2023-08-28T20:20:23.926Z"
   },
   {
    "duration": 160,
    "start_time": "2023-08-28T20:20:35.831Z"
   },
   {
    "duration": 158,
    "start_time": "2023-08-28T20:20:53.378Z"
   },
   {
    "duration": 154,
    "start_time": "2023-08-28T20:21:04.499Z"
   },
   {
    "duration": 375,
    "start_time": "2023-08-28T20:22:08.040Z"
   },
   {
    "duration": 154,
    "start_time": "2023-08-28T20:22:21.621Z"
   },
   {
    "duration": 104,
    "start_time": "2023-08-28T20:22:29.135Z"
   },
   {
    "duration": 168,
    "start_time": "2023-08-28T20:22:40.022Z"
   },
   {
    "duration": 155,
    "start_time": "2023-08-28T20:23:28.996Z"
   },
   {
    "duration": 156,
    "start_time": "2023-08-28T20:24:53.191Z"
   },
   {
    "duration": 164,
    "start_time": "2023-08-28T20:25:15.904Z"
   },
   {
    "duration": 152,
    "start_time": "2023-08-28T20:26:17.768Z"
   },
   {
    "duration": 151,
    "start_time": "2023-08-28T20:26:26.341Z"
   },
   {
    "duration": 152,
    "start_time": "2023-08-28T20:26:35.622Z"
   },
   {
    "duration": 160,
    "start_time": "2023-08-28T20:26:46.862Z"
   },
   {
    "duration": 277,
    "start_time": "2023-08-28T20:26:55.297Z"
   },
   {
    "duration": 155,
    "start_time": "2023-08-28T20:27:21.342Z"
   },
   {
    "duration": 1141,
    "start_time": "2023-08-28T20:27:26.481Z"
   },
   {
    "duration": 68,
    "start_time": "2023-08-28T20:27:27.624Z"
   },
   {
    "duration": 20,
    "start_time": "2023-08-28T20:27:27.694Z"
   },
   {
    "duration": 171,
    "start_time": "2023-08-28T20:27:27.716Z"
   },
   {
    "duration": 6,
    "start_time": "2023-08-28T20:27:27.888Z"
   },
   {
    "duration": 19,
    "start_time": "2023-08-28T20:27:27.895Z"
   },
   {
    "duration": 43,
    "start_time": "2023-08-28T20:27:27.916Z"
   },
   {
    "duration": 24,
    "start_time": "2023-08-28T20:27:27.960Z"
   },
   {
    "duration": 42,
    "start_time": "2023-08-28T20:27:27.985Z"
   },
   {
    "duration": 41,
    "start_time": "2023-08-28T20:27:28.030Z"
   },
   {
    "duration": 9,
    "start_time": "2023-08-28T20:27:28.072Z"
   },
   {
    "duration": 152,
    "start_time": "2023-08-28T20:27:28.084Z"
   },
   {
    "duration": 34,
    "start_time": "2023-08-28T20:27:28.238Z"
   },
   {
    "duration": 8,
    "start_time": "2023-08-28T20:27:28.274Z"
   },
   {
    "duration": 5,
    "start_time": "2023-08-28T20:27:28.284Z"
   },
   {
    "duration": 6,
    "start_time": "2023-08-28T20:27:28.291Z"
   },
   {
    "duration": 17,
    "start_time": "2023-08-28T20:27:28.299Z"
   },
   {
    "duration": 161,
    "start_time": "2023-08-28T20:27:28.317Z"
   },
   {
    "duration": 7,
    "start_time": "2023-08-28T20:27:28.480Z"
   },
   {
    "duration": 95,
    "start_time": "2023-08-28T20:27:28.488Z"
   },
   {
    "duration": 171,
    "start_time": "2023-08-28T20:27:28.585Z"
   },
   {
    "duration": 6,
    "start_time": "2023-08-28T20:27:28.759Z"
   },
   {
    "duration": 1427,
    "start_time": "2023-08-28T20:27:28.766Z"
   },
   {
    "duration": 123,
    "start_time": "2023-08-28T20:27:30.195Z"
   },
   {
    "duration": 1471,
    "start_time": "2023-08-28T20:27:30.320Z"
   },
   {
    "duration": 6,
    "start_time": "2023-08-28T20:27:31.792Z"
   },
   {
    "duration": 36,
    "start_time": "2023-08-28T20:27:31.800Z"
   },
   {
    "duration": 36,
    "start_time": "2023-08-28T20:27:31.840Z"
   },
   {
    "duration": 22,
    "start_time": "2023-08-28T20:27:31.879Z"
   },
   {
    "duration": 184,
    "start_time": "2023-08-28T20:27:31.903Z"
   },
   {
    "duration": 189,
    "start_time": "2023-08-28T20:27:32.089Z"
   },
   {
    "duration": 23,
    "start_time": "2023-08-28T20:27:32.280Z"
   },
   {
    "duration": 320,
    "start_time": "2023-08-28T20:27:32.305Z"
   },
   {
    "duration": 180,
    "start_time": "2023-08-28T20:27:32.627Z"
   },
   {
    "duration": 851,
    "start_time": "2023-08-28T20:27:32.808Z"
   },
   {
    "duration": 3,
    "start_time": "2023-08-28T20:27:33.661Z"
   },
   {
    "duration": 142,
    "start_time": "2023-08-28T20:27:33.665Z"
   },
   {
    "duration": 18,
    "start_time": "2023-08-28T20:27:33.808Z"
   },
   {
    "duration": 6,
    "start_time": "2023-08-28T20:27:33.828Z"
   },
   {
    "duration": 26,
    "start_time": "2023-08-28T20:27:33.835Z"
   },
   {
    "duration": 11,
    "start_time": "2023-08-28T20:27:33.863Z"
   },
   {
    "duration": 1377,
    "start_time": "2023-08-28T20:28:29.694Z"
   },
   {
    "duration": 1508,
    "start_time": "2023-08-28T20:29:35.834Z"
   },
   {
    "duration": 1470,
    "start_time": "2023-08-28T20:29:41.108Z"
   },
   {
    "duration": 179,
    "start_time": "2023-08-28T20:30:13.845Z"
   },
   {
    "duration": 1162,
    "start_time": "2023-08-28T20:30:18.080Z"
   },
   {
    "duration": 67,
    "start_time": "2023-08-28T20:30:19.244Z"
   },
   {
    "duration": 21,
    "start_time": "2023-08-28T20:30:19.312Z"
   },
   {
    "duration": 166,
    "start_time": "2023-08-28T20:30:19.335Z"
   },
   {
    "duration": 6,
    "start_time": "2023-08-28T20:30:19.503Z"
   },
   {
    "duration": 11,
    "start_time": "2023-08-28T20:30:19.510Z"
   },
   {
    "duration": 23,
    "start_time": "2023-08-28T20:30:19.523Z"
   },
   {
    "duration": 13,
    "start_time": "2023-08-28T20:30:19.559Z"
   },
   {
    "duration": 30,
    "start_time": "2023-08-28T20:30:19.574Z"
   },
   {
    "duration": 35,
    "start_time": "2023-08-28T20:30:19.608Z"
   },
   {
    "duration": 13,
    "start_time": "2023-08-28T20:30:19.645Z"
   },
   {
    "duration": 8,
    "start_time": "2023-08-28T20:30:19.660Z"
   },
   {
    "duration": 31,
    "start_time": "2023-08-28T20:30:19.670Z"
   },
   {
    "duration": 13,
    "start_time": "2023-08-28T20:30:19.703Z"
   },
   {
    "duration": 25,
    "start_time": "2023-08-28T20:30:19.718Z"
   },
   {
    "duration": 27,
    "start_time": "2023-08-28T20:30:19.744Z"
   },
   {
    "duration": 10,
    "start_time": "2023-08-28T20:30:19.773Z"
   },
   {
    "duration": 151,
    "start_time": "2023-08-28T20:30:19.785Z"
   },
   {
    "duration": 7,
    "start_time": "2023-08-28T20:30:19.939Z"
   },
   {
    "duration": 79,
    "start_time": "2023-08-28T20:30:19.958Z"
   },
   {
    "duration": 180,
    "start_time": "2023-08-28T20:30:20.039Z"
   },
   {
    "duration": 5,
    "start_time": "2023-08-28T20:30:20.220Z"
   },
   {
    "duration": 1433,
    "start_time": "2023-08-28T20:30:20.227Z"
   },
   {
    "duration": 116,
    "start_time": "2023-08-28T20:30:21.662Z"
   },
   {
    "duration": 1475,
    "start_time": "2023-08-28T20:30:21.780Z"
   },
   {
    "duration": 6,
    "start_time": "2023-08-28T20:30:23.259Z"
   },
   {
    "duration": 23,
    "start_time": "2023-08-28T20:30:23.267Z"
   },
   {
    "duration": 33,
    "start_time": "2023-08-28T20:30:23.294Z"
   },
   {
    "duration": 44,
    "start_time": "2023-08-28T20:30:23.329Z"
   },
   {
    "duration": 188,
    "start_time": "2023-08-28T20:30:23.376Z"
   },
   {
    "duration": 193,
    "start_time": "2023-08-28T20:30:23.566Z"
   },
   {
    "duration": 22,
    "start_time": "2023-08-28T20:30:23.761Z"
   },
   {
    "duration": 357,
    "start_time": "2023-08-28T20:30:23.785Z"
   },
   {
    "duration": 212,
    "start_time": "2023-08-28T20:30:24.145Z"
   },
   {
    "duration": 929,
    "start_time": "2023-08-28T20:30:24.359Z"
   },
   {
    "duration": 3,
    "start_time": "2023-08-28T20:30:25.290Z"
   },
   {
    "duration": 149,
    "start_time": "2023-08-28T20:30:25.296Z"
   },
   {
    "duration": 25,
    "start_time": "2023-08-28T20:30:25.446Z"
   },
   {
    "duration": 6,
    "start_time": "2023-08-28T20:30:25.472Z"
   },
   {
    "duration": 5,
    "start_time": "2023-08-28T20:30:25.479Z"
   },
   {
    "duration": 18,
    "start_time": "2023-08-28T20:30:25.486Z"
   },
   {
    "duration": 1454,
    "start_time": "2023-08-28T20:34:44.092Z"
   },
   {
    "duration": 154,
    "start_time": "2023-08-28T20:35:18.585Z"
   },
   {
    "duration": 169,
    "start_time": "2023-08-28T20:35:24.952Z"
   },
   {
    "duration": 1177,
    "start_time": "2023-08-28T20:45:00.470Z"
   },
   {
    "duration": 68,
    "start_time": "2023-08-28T20:45:01.649Z"
   },
   {
    "duration": 21,
    "start_time": "2023-08-28T20:45:01.719Z"
   },
   {
    "duration": 209,
    "start_time": "2023-08-28T20:45:01.742Z"
   },
   {
    "duration": 7,
    "start_time": "2023-08-28T20:45:01.953Z"
   },
   {
    "duration": 32,
    "start_time": "2023-08-28T20:45:01.961Z"
   },
   {
    "duration": 42,
    "start_time": "2023-08-28T20:45:01.995Z"
   },
   {
    "duration": 35,
    "start_time": "2023-08-28T20:45:02.039Z"
   },
   {
    "duration": 32,
    "start_time": "2023-08-28T20:45:02.076Z"
   },
   {
    "duration": 15,
    "start_time": "2023-08-28T20:45:02.111Z"
   },
   {
    "duration": 20,
    "start_time": "2023-08-28T20:45:02.128Z"
   },
   {
    "duration": 12,
    "start_time": "2023-08-28T20:45:02.150Z"
   },
   {
    "duration": 34,
    "start_time": "2023-08-28T20:45:02.164Z"
   },
   {
    "duration": 13,
    "start_time": "2023-08-28T20:45:02.200Z"
   },
   {
    "duration": 8,
    "start_time": "2023-08-28T20:45:02.215Z"
   },
   {
    "duration": 29,
    "start_time": "2023-08-28T20:45:02.225Z"
   },
   {
    "duration": 32,
    "start_time": "2023-08-28T20:45:02.256Z"
   },
   {
    "duration": 25,
    "start_time": "2023-08-28T20:45:02.290Z"
   },
   {
    "duration": 201,
    "start_time": "2023-08-28T20:45:02.317Z"
   },
   {
    "duration": 7,
    "start_time": "2023-08-28T20:45:02.519Z"
   },
   {
    "duration": 101,
    "start_time": "2023-08-28T20:45:02.528Z"
   },
   {
    "duration": 171,
    "start_time": "2023-08-28T20:45:02.631Z"
   },
   {
    "duration": 5,
    "start_time": "2023-08-28T20:45:02.804Z"
   },
   {
    "duration": 1517,
    "start_time": "2023-08-28T20:45:02.811Z"
   },
   {
    "duration": 115,
    "start_time": "2023-08-28T20:45:04.331Z"
   },
   {
    "duration": 1456,
    "start_time": "2023-08-28T20:45:04.458Z"
   },
   {
    "duration": 6,
    "start_time": "2023-08-28T20:45:05.916Z"
   },
   {
    "duration": 14,
    "start_time": "2023-08-28T20:45:05.926Z"
   },
   {
    "duration": 35,
    "start_time": "2023-08-28T20:45:05.959Z"
   },
   {
    "duration": 27,
    "start_time": "2023-08-28T20:45:05.996Z"
   },
   {
    "duration": 199,
    "start_time": "2023-08-28T20:45:06.025Z"
   },
   {
    "duration": 182,
    "start_time": "2023-08-28T20:45:06.226Z"
   },
   {
    "duration": 20,
    "start_time": "2023-08-28T20:45:06.410Z"
   },
   {
    "duration": 298,
    "start_time": "2023-08-28T20:45:06.431Z"
   },
   {
    "duration": 174,
    "start_time": "2023-08-28T20:45:06.731Z"
   },
   {
    "duration": 145,
    "start_time": "2023-08-28T20:45:06.906Z"
   },
   {
    "duration": 3,
    "start_time": "2023-08-28T20:45:07.052Z"
   },
   {
    "duration": 30,
    "start_time": "2023-08-28T20:45:07.059Z"
   },
   {
    "duration": 16,
    "start_time": "2023-08-28T20:45:07.091Z"
   },
   {
    "duration": 9,
    "start_time": "2023-08-28T20:45:07.109Z"
   },
   {
    "duration": 6,
    "start_time": "2023-08-28T20:45:07.120Z"
   },
   {
    "duration": 35,
    "start_time": "2023-08-28T20:45:07.127Z"
   },
   {
    "duration": 108,
    "start_time": "2023-08-28T20:46:08.399Z"
   },
   {
    "duration": 151,
    "start_time": "2023-08-28T20:50:08.546Z"
   },
   {
    "duration": 150,
    "start_time": "2023-08-28T20:50:19.612Z"
   },
   {
    "duration": 193,
    "start_time": "2023-08-28T20:51:46.978Z"
   },
   {
    "duration": 247,
    "start_time": "2023-08-28T20:52:31.053Z"
   },
   {
    "duration": 151,
    "start_time": "2023-08-28T20:52:47.679Z"
   },
   {
    "duration": 189,
    "start_time": "2023-08-28T20:53:43.455Z"
   },
   {
    "duration": 220,
    "start_time": "2023-08-28T20:54:47.800Z"
   },
   {
    "duration": 316,
    "start_time": "2023-08-28T20:55:20.716Z"
   },
   {
    "duration": 217,
    "start_time": "2023-08-28T20:56:49.724Z"
   },
   {
    "duration": 221,
    "start_time": "2023-08-28T20:58:04.230Z"
   },
   {
    "duration": 1227,
    "start_time": "2023-08-28T20:59:00.945Z"
   },
   {
    "duration": 68,
    "start_time": "2023-08-28T20:59:02.174Z"
   },
   {
    "duration": 23,
    "start_time": "2023-08-28T20:59:02.244Z"
   },
   {
    "duration": 190,
    "start_time": "2023-08-28T20:59:02.269Z"
   },
   {
    "duration": 14,
    "start_time": "2023-08-28T20:59:02.467Z"
   },
   {
    "duration": 65,
    "start_time": "2023-08-28T20:59:02.483Z"
   },
   {
    "duration": 32,
    "start_time": "2023-08-28T20:59:02.550Z"
   },
   {
    "duration": 19,
    "start_time": "2023-08-28T20:59:02.584Z"
   },
   {
    "duration": 19,
    "start_time": "2023-08-28T20:59:02.604Z"
   },
   {
    "duration": 23,
    "start_time": "2023-08-28T20:59:02.625Z"
   },
   {
    "duration": 10,
    "start_time": "2023-08-28T20:59:02.650Z"
   },
   {
    "duration": 12,
    "start_time": "2023-08-28T20:59:02.664Z"
   },
   {
    "duration": 22,
    "start_time": "2023-08-28T20:59:02.677Z"
   },
   {
    "duration": 18,
    "start_time": "2023-08-28T20:59:02.701Z"
   },
   {
    "duration": 24,
    "start_time": "2023-08-28T20:59:02.720Z"
   },
   {
    "duration": 9,
    "start_time": "2023-08-28T20:59:02.745Z"
   },
   {
    "duration": 22,
    "start_time": "2023-08-28T20:59:02.756Z"
   },
   {
    "duration": 8,
    "start_time": "2023-08-28T20:59:02.780Z"
   },
   {
    "duration": 149,
    "start_time": "2023-08-28T20:59:02.790Z"
   },
   {
    "duration": 7,
    "start_time": "2023-08-28T20:59:02.940Z"
   },
   {
    "duration": 88,
    "start_time": "2023-08-28T20:59:02.948Z"
   },
   {
    "duration": 195,
    "start_time": "2023-08-28T20:59:03.038Z"
   },
   {
    "duration": 5,
    "start_time": "2023-08-28T20:59:03.234Z"
   },
   {
    "duration": 1573,
    "start_time": "2023-08-28T20:59:03.241Z"
   },
   {
    "duration": 121,
    "start_time": "2023-08-28T20:59:04.815Z"
   },
   {
    "duration": 1535,
    "start_time": "2023-08-28T20:59:04.937Z"
   },
   {
    "duration": 6,
    "start_time": "2023-08-28T20:59:06.474Z"
   },
   {
    "duration": 13,
    "start_time": "2023-08-28T20:59:06.484Z"
   },
   {
    "duration": 33,
    "start_time": "2023-08-28T20:59:06.498Z"
   },
   {
    "duration": 53,
    "start_time": "2023-08-28T20:59:06.532Z"
   },
   {
    "duration": 177,
    "start_time": "2023-08-28T20:59:06.586Z"
   },
   {
    "duration": 192,
    "start_time": "2023-08-28T20:59:06.764Z"
   },
   {
    "duration": 31,
    "start_time": "2023-08-28T20:59:06.959Z"
   },
   {
    "duration": 307,
    "start_time": "2023-08-28T20:59:06.992Z"
   },
   {
    "duration": 179,
    "start_time": "2023-08-28T20:59:07.301Z"
   },
   {
    "duration": 232,
    "start_time": "2023-08-28T20:59:07.481Z"
   },
   {
    "duration": 248,
    "start_time": "2023-08-28T20:59:07.715Z"
   },
   {
    "duration": 171,
    "start_time": "2023-08-28T20:59:07.972Z"
   },
   {
    "duration": 4,
    "start_time": "2023-08-28T20:59:08.144Z"
   },
   {
    "duration": 39,
    "start_time": "2023-08-28T20:59:08.149Z"
   },
   {
    "duration": 21,
    "start_time": "2023-08-28T20:59:08.190Z"
   },
   {
    "duration": 5,
    "start_time": "2023-08-28T20:59:08.212Z"
   },
   {
    "duration": 4,
    "start_time": "2023-08-28T20:59:08.219Z"
   },
   {
    "duration": 32,
    "start_time": "2023-08-28T20:59:08.224Z"
   },
   {
    "duration": 114,
    "start_time": "2023-08-28T21:02:55.496Z"
   },
   {
    "duration": 1202,
    "start_time": "2023-08-28T21:03:00.976Z"
   },
   {
    "duration": 70,
    "start_time": "2023-08-28T21:03:02.180Z"
   },
   {
    "duration": 22,
    "start_time": "2023-08-28T21:03:02.252Z"
   },
   {
    "duration": 201,
    "start_time": "2023-08-28T21:03:02.277Z"
   },
   {
    "duration": 6,
    "start_time": "2023-08-28T21:03:02.480Z"
   },
   {
    "duration": 51,
    "start_time": "2023-08-28T21:03:02.487Z"
   },
   {
    "duration": 38,
    "start_time": "2023-08-28T21:03:02.540Z"
   },
   {
    "duration": 30,
    "start_time": "2023-08-28T21:03:02.579Z"
   },
   {
    "duration": 36,
    "start_time": "2023-08-28T21:03:02.610Z"
   },
   {
    "duration": 26,
    "start_time": "2023-08-28T21:03:02.648Z"
   },
   {
    "duration": 18,
    "start_time": "2023-08-28T21:03:02.676Z"
   },
   {
    "duration": 27,
    "start_time": "2023-08-28T21:03:02.696Z"
   },
   {
    "duration": 24,
    "start_time": "2023-08-28T21:03:02.725Z"
   },
   {
    "duration": 18,
    "start_time": "2023-08-28T21:03:02.751Z"
   },
   {
    "duration": 9,
    "start_time": "2023-08-28T21:03:02.771Z"
   },
   {
    "duration": 12,
    "start_time": "2023-08-28T21:03:02.782Z"
   },
   {
    "duration": 20,
    "start_time": "2023-08-28T21:03:02.795Z"
   },
   {
    "duration": 16,
    "start_time": "2023-08-28T21:03:02.817Z"
   },
   {
    "duration": 160,
    "start_time": "2023-08-28T21:03:02.835Z"
   },
   {
    "duration": 6,
    "start_time": "2023-08-28T21:03:02.997Z"
   },
   {
    "duration": 101,
    "start_time": "2023-08-28T21:03:03.005Z"
   },
   {
    "duration": 169,
    "start_time": "2023-08-28T21:03:03.108Z"
   },
   {
    "duration": 4,
    "start_time": "2023-08-28T21:03:03.279Z"
   },
   {
    "duration": 1479,
    "start_time": "2023-08-28T21:03:03.285Z"
   },
   {
    "duration": 117,
    "start_time": "2023-08-28T21:03:04.766Z"
   },
   {
    "duration": 1474,
    "start_time": "2023-08-28T21:03:04.885Z"
   },
   {
    "duration": 5,
    "start_time": "2023-08-28T21:03:06.361Z"
   },
   {
    "duration": 15,
    "start_time": "2023-08-28T21:03:06.369Z"
   },
   {
    "duration": 31,
    "start_time": "2023-08-28T21:03:06.386Z"
   },
   {
    "duration": 46,
    "start_time": "2023-08-28T21:03:06.418Z"
   },
   {
    "duration": 171,
    "start_time": "2023-08-28T21:03:06.466Z"
   },
   {
    "duration": 186,
    "start_time": "2023-08-28T21:03:06.639Z"
   },
   {
    "duration": 19,
    "start_time": "2023-08-28T21:03:06.827Z"
   },
   {
    "duration": 296,
    "start_time": "2023-08-28T21:03:06.848Z"
   },
   {
    "duration": 173,
    "start_time": "2023-08-28T21:03:07.146Z"
   },
   {
    "duration": 228,
    "start_time": "2023-08-28T21:03:07.321Z"
   },
   {
    "duration": 228,
    "start_time": "2023-08-28T21:03:07.550Z"
   },
   {
    "duration": 150,
    "start_time": "2023-08-28T21:03:07.779Z"
   },
   {
    "duration": 105,
    "start_time": "2023-08-28T21:03:07.930Z"
   },
   {
    "duration": 0,
    "start_time": "2023-08-28T21:03:08.038Z"
   },
   {
    "duration": 0,
    "start_time": "2023-08-28T21:03:08.039Z"
   },
   {
    "duration": 0,
    "start_time": "2023-08-28T21:03:08.040Z"
   },
   {
    "duration": 0,
    "start_time": "2023-08-28T21:03:08.042Z"
   },
   {
    "duration": 0,
    "start_time": "2023-08-28T21:03:08.043Z"
   },
   {
    "duration": 0,
    "start_time": "2023-08-28T21:03:08.044Z"
   },
   {
    "duration": 8,
    "start_time": "2023-08-28T21:03:12.306Z"
   },
   {
    "duration": 6,
    "start_time": "2023-08-28T21:03:34.750Z"
   },
   {
    "duration": 1225,
    "start_time": "2023-08-28T21:05:06.528Z"
   },
   {
    "duration": 69,
    "start_time": "2023-08-28T21:05:07.755Z"
   },
   {
    "duration": 21,
    "start_time": "2023-08-28T21:05:07.825Z"
   },
   {
    "duration": 194,
    "start_time": "2023-08-28T21:05:07.849Z"
   },
   {
    "duration": 7,
    "start_time": "2023-08-28T21:05:08.045Z"
   },
   {
    "duration": 13,
    "start_time": "2023-08-28T21:05:08.053Z"
   },
   {
    "duration": 25,
    "start_time": "2023-08-28T21:05:08.068Z"
   },
   {
    "duration": 15,
    "start_time": "2023-08-28T21:05:08.095Z"
   },
   {
    "duration": 26,
    "start_time": "2023-08-28T21:05:08.112Z"
   },
   {
    "duration": 20,
    "start_time": "2023-08-28T21:05:08.141Z"
   },
   {
    "duration": 17,
    "start_time": "2023-08-28T21:05:08.163Z"
   },
   {
    "duration": 15,
    "start_time": "2023-08-28T21:05:08.182Z"
   },
   {
    "duration": 20,
    "start_time": "2023-08-28T21:05:08.199Z"
   },
   {
    "duration": 35,
    "start_time": "2023-08-28T21:05:08.221Z"
   },
   {
    "duration": 6,
    "start_time": "2023-08-28T21:05:08.257Z"
   },
   {
    "duration": 5,
    "start_time": "2023-08-28T21:05:08.265Z"
   },
   {
    "duration": 6,
    "start_time": "2023-08-28T21:05:08.272Z"
   },
   {
    "duration": 18,
    "start_time": "2023-08-28T21:05:08.280Z"
   },
   {
    "duration": 159,
    "start_time": "2023-08-28T21:05:08.300Z"
   },
   {
    "duration": 7,
    "start_time": "2023-08-28T21:05:08.460Z"
   },
   {
    "duration": 99,
    "start_time": "2023-08-28T21:05:08.469Z"
   },
   {
    "duration": 170,
    "start_time": "2023-08-28T21:05:08.570Z"
   },
   {
    "duration": 5,
    "start_time": "2023-08-28T21:05:08.741Z"
   },
   {
    "duration": 1400,
    "start_time": "2023-08-28T21:05:08.759Z"
   },
   {
    "duration": 117,
    "start_time": "2023-08-28T21:05:10.162Z"
   },
   {
    "duration": 1429,
    "start_time": "2023-08-28T21:05:10.281Z"
   },
   {
    "duration": 6,
    "start_time": "2023-08-28T21:05:11.712Z"
   },
   {
    "duration": 32,
    "start_time": "2023-08-28T21:05:11.721Z"
   },
   {
    "duration": 33,
    "start_time": "2023-08-28T21:05:11.755Z"
   },
   {
    "duration": 23,
    "start_time": "2023-08-28T21:05:11.790Z"
   },
   {
    "duration": 211,
    "start_time": "2023-08-28T21:05:11.815Z"
   },
   {
    "duration": 195,
    "start_time": "2023-08-28T21:05:12.027Z"
   },
   {
    "duration": 21,
    "start_time": "2023-08-28T21:05:12.224Z"
   },
   {
    "duration": 295,
    "start_time": "2023-08-28T21:05:12.258Z"
   },
   {
    "duration": 175,
    "start_time": "2023-08-28T21:05:12.555Z"
   },
   {
    "duration": 229,
    "start_time": "2023-08-28T21:05:12.732Z"
   },
   {
    "duration": 242,
    "start_time": "2023-08-28T21:05:12.963Z"
   },
   {
    "duration": 157,
    "start_time": "2023-08-28T21:05:13.208Z"
   },
   {
    "duration": 6,
    "start_time": "2023-08-28T21:05:13.367Z"
   },
   {
    "duration": 18,
    "start_time": "2023-08-28T21:05:13.375Z"
   },
   {
    "duration": 19,
    "start_time": "2023-08-28T21:05:13.395Z"
   },
   {
    "duration": 42,
    "start_time": "2023-08-28T21:05:13.416Z"
   },
   {
    "duration": 22,
    "start_time": "2023-08-28T21:05:13.460Z"
   },
   {
    "duration": 16,
    "start_time": "2023-08-28T21:05:13.484Z"
   },
   {
    "duration": 20,
    "start_time": "2023-08-28T21:05:13.501Z"
   },
   {
    "duration": 68,
    "start_time": "2023-08-28T21:05:13.522Z"
   },
   {
    "duration": 4,
    "start_time": "2023-08-28T21:09:58.245Z"
   },
   {
    "duration": 5,
    "start_time": "2023-08-28T21:10:12.577Z"
   },
   {
    "duration": 4,
    "start_time": "2023-08-28T21:10:42.705Z"
   },
   {
    "duration": 15,
    "start_time": "2023-08-28T21:11:27.455Z"
   },
   {
    "duration": 16,
    "start_time": "2023-08-28T21:11:44.942Z"
   },
   {
    "duration": 5,
    "start_time": "2023-08-28T21:14:28.656Z"
   },
   {
    "duration": 5,
    "start_time": "2023-08-28T21:14:35.690Z"
   },
   {
    "duration": 111,
    "start_time": "2023-08-28T21:16:52.826Z"
   },
   {
    "duration": 3,
    "start_time": "2023-08-28T21:17:16.703Z"
   },
   {
    "duration": 4,
    "start_time": "2023-08-28T21:21:45.542Z"
   },
   {
    "duration": 1170,
    "start_time": "2023-08-28T21:23:08.469Z"
   },
   {
    "duration": 67,
    "start_time": "2023-08-28T21:23:09.641Z"
   },
   {
    "duration": 20,
    "start_time": "2023-08-28T21:23:09.709Z"
   },
   {
    "duration": 160,
    "start_time": "2023-08-28T21:23:09.732Z"
   },
   {
    "duration": 6,
    "start_time": "2023-08-28T21:23:09.894Z"
   },
   {
    "duration": 8,
    "start_time": "2023-08-28T21:23:09.902Z"
   },
   {
    "duration": 21,
    "start_time": "2023-08-28T21:23:09.911Z"
   },
   {
    "duration": 35,
    "start_time": "2023-08-28T21:23:09.934Z"
   },
   {
    "duration": 15,
    "start_time": "2023-08-28T21:23:09.971Z"
   },
   {
    "duration": 42,
    "start_time": "2023-08-28T21:23:09.989Z"
   },
   {
    "duration": 15,
    "start_time": "2023-08-28T21:23:10.034Z"
   },
   {
    "duration": 15,
    "start_time": "2023-08-28T21:23:10.052Z"
   },
   {
    "duration": 14,
    "start_time": "2023-08-28T21:23:10.069Z"
   },
   {
    "duration": 20,
    "start_time": "2023-08-28T21:23:10.085Z"
   },
   {
    "duration": 28,
    "start_time": "2023-08-28T21:23:10.107Z"
   },
   {
    "duration": 7,
    "start_time": "2023-08-28T21:23:10.137Z"
   },
   {
    "duration": 17,
    "start_time": "2023-08-28T21:23:10.146Z"
   },
   {
    "duration": 9,
    "start_time": "2023-08-28T21:23:10.165Z"
   },
   {
    "duration": 157,
    "start_time": "2023-08-28T21:23:10.175Z"
   },
   {
    "duration": 6,
    "start_time": "2023-08-28T21:23:10.335Z"
   },
   {
    "duration": 94,
    "start_time": "2023-08-28T21:23:10.344Z"
   },
   {
    "duration": 192,
    "start_time": "2023-08-28T21:23:10.440Z"
   },
   {
    "duration": 25,
    "start_time": "2023-08-28T21:23:10.634Z"
   },
   {
    "duration": 1438,
    "start_time": "2023-08-28T21:23:10.661Z"
   },
   {
    "duration": 114,
    "start_time": "2023-08-28T21:23:12.101Z"
   },
   {
    "duration": 1456,
    "start_time": "2023-08-28T21:23:12.217Z"
   },
   {
    "duration": 5,
    "start_time": "2023-08-28T21:23:13.675Z"
   },
   {
    "duration": 24,
    "start_time": "2023-08-28T21:23:13.683Z"
   },
   {
    "duration": 36,
    "start_time": "2023-08-28T21:23:13.708Z"
   },
   {
    "duration": 4,
    "start_time": "2023-08-28T21:23:13.745Z"
   },
   {
    "duration": 8,
    "start_time": "2023-08-28T21:23:13.758Z"
   },
   {
    "duration": 38,
    "start_time": "2023-08-28T21:23:13.767Z"
   },
   {
    "duration": 167,
    "start_time": "2023-08-28T21:23:13.807Z"
   },
   {
    "duration": 237,
    "start_time": "2023-08-28T21:23:13.976Z"
   },
   {
    "duration": 24,
    "start_time": "2023-08-28T21:23:14.215Z"
   },
   {
    "duration": 291,
    "start_time": "2023-08-28T21:23:14.240Z"
   },
   {
    "duration": 176,
    "start_time": "2023-08-28T21:23:14.533Z"
   },
   {
    "duration": 224,
    "start_time": "2023-08-28T21:23:14.711Z"
   },
   {
    "duration": 225,
    "start_time": "2023-08-28T21:23:14.937Z"
   },
   {
    "duration": 168,
    "start_time": "2023-08-28T21:23:15.164Z"
   },
   {
    "duration": 6,
    "start_time": "2023-08-28T21:23:15.333Z"
   },
   {
    "duration": 28,
    "start_time": "2023-08-28T21:23:15.341Z"
   },
   {
    "duration": 11,
    "start_time": "2023-08-28T21:23:15.371Z"
   },
   {
    "duration": 31,
    "start_time": "2023-08-28T21:23:15.384Z"
   },
   {
    "duration": 24,
    "start_time": "2023-08-28T21:23:15.417Z"
   },
   {
    "duration": 24,
    "start_time": "2023-08-28T21:23:15.442Z"
   },
   {
    "duration": 26,
    "start_time": "2023-08-28T21:23:15.467Z"
   },
   {
    "duration": 8,
    "start_time": "2023-08-28T21:23:15.495Z"
   },
   {
    "duration": 6,
    "start_time": "2023-08-28T21:24:32.708Z"
   },
   {
    "duration": 6,
    "start_time": "2023-08-28T21:24:45.926Z"
   },
   {
    "duration": 6,
    "start_time": "2023-08-28T21:30:56.122Z"
   },
   {
    "duration": 9,
    "start_time": "2023-08-28T21:31:04.781Z"
   },
   {
    "duration": 1242,
    "start_time": "2023-08-28T21:35:24.867Z"
   },
   {
    "duration": 68,
    "start_time": "2023-08-28T21:35:26.111Z"
   },
   {
    "duration": 20,
    "start_time": "2023-08-28T21:35:26.181Z"
   },
   {
    "duration": 164,
    "start_time": "2023-08-28T21:35:26.203Z"
   },
   {
    "duration": 6,
    "start_time": "2023-08-28T21:35:26.368Z"
   },
   {
    "duration": 8,
    "start_time": "2023-08-28T21:35:26.376Z"
   },
   {
    "duration": 22,
    "start_time": "2023-08-28T21:35:26.385Z"
   },
   {
    "duration": 12,
    "start_time": "2023-08-28T21:35:26.409Z"
   },
   {
    "duration": 41,
    "start_time": "2023-08-28T21:35:26.423Z"
   },
   {
    "duration": 10,
    "start_time": "2023-08-28T21:35:26.467Z"
   },
   {
    "duration": 18,
    "start_time": "2023-08-28T21:35:26.479Z"
   },
   {
    "duration": 27,
    "start_time": "2023-08-28T21:35:26.499Z"
   },
   {
    "duration": 22,
    "start_time": "2023-08-28T21:35:26.528Z"
   },
   {
    "duration": 25,
    "start_time": "2023-08-28T21:35:26.552Z"
   },
   {
    "duration": 20,
    "start_time": "2023-08-28T21:35:26.578Z"
   },
   {
    "duration": 29,
    "start_time": "2023-08-28T21:35:26.600Z"
   },
   {
    "duration": 16,
    "start_time": "2023-08-28T21:35:26.631Z"
   },
   {
    "duration": 9,
    "start_time": "2023-08-28T21:35:26.649Z"
   },
   {
    "duration": 145,
    "start_time": "2023-08-28T21:35:26.660Z"
   },
   {
    "duration": 7,
    "start_time": "2023-08-28T21:35:26.806Z"
   },
   {
    "duration": 91,
    "start_time": "2023-08-28T21:35:26.814Z"
   },
   {
    "duration": 162,
    "start_time": "2023-08-28T21:35:26.907Z"
   },
   {
    "duration": 5,
    "start_time": "2023-08-28T21:35:27.070Z"
   },
   {
    "duration": 1407,
    "start_time": "2023-08-28T21:35:27.076Z"
   },
   {
    "duration": 122,
    "start_time": "2023-08-28T21:35:28.485Z"
   },
   {
    "duration": 1398,
    "start_time": "2023-08-28T21:35:28.608Z"
   },
   {
    "duration": 6,
    "start_time": "2023-08-28T21:35:30.008Z"
   },
   {
    "duration": 15,
    "start_time": "2023-08-28T21:35:30.017Z"
   },
   {
    "duration": 62,
    "start_time": "2023-08-28T21:35:30.034Z"
   },
   {
    "duration": 11,
    "start_time": "2023-08-28T21:35:30.098Z"
   },
   {
    "duration": 50,
    "start_time": "2023-08-28T21:35:30.111Z"
   },
   {
    "duration": 76,
    "start_time": "2023-08-28T21:35:30.163Z"
   },
   {
    "duration": 207,
    "start_time": "2023-08-28T21:35:30.241Z"
   },
   {
    "duration": 190,
    "start_time": "2023-08-28T21:35:30.450Z"
   },
   {
    "duration": 29,
    "start_time": "2023-08-28T21:35:30.642Z"
   },
   {
    "duration": 318,
    "start_time": "2023-08-28T21:35:30.673Z"
   },
   {
    "duration": 178,
    "start_time": "2023-08-28T21:35:30.993Z"
   },
   {
    "duration": 233,
    "start_time": "2023-08-28T21:35:31.173Z"
   },
   {
    "duration": 228,
    "start_time": "2023-08-28T21:35:31.409Z"
   },
   {
    "duration": 872,
    "start_time": "2023-08-28T21:35:31.639Z"
   },
   {
    "duration": 9,
    "start_time": "2023-08-28T21:35:32.513Z"
   },
   {
    "duration": 7,
    "start_time": "2023-08-28T21:35:32.523Z"
   },
   {
    "duration": 5,
    "start_time": "2023-08-28T21:35:32.531Z"
   },
   {
    "duration": 150,
    "start_time": "2023-08-28T21:35:32.537Z"
   },
   {
    "duration": 18,
    "start_time": "2023-08-28T21:35:32.689Z"
   },
   {
    "duration": 5,
    "start_time": "2023-08-28T21:35:32.709Z"
   },
   {
    "duration": 14,
    "start_time": "2023-08-28T21:35:32.715Z"
   },
   {
    "duration": 21,
    "start_time": "2023-08-28T21:35:32.731Z"
   },
   {
    "duration": 8,
    "start_time": "2023-08-28T21:35:38.012Z"
   },
   {
    "duration": 6,
    "start_time": "2023-08-28T21:35:46.963Z"
   },
   {
    "duration": 1120,
    "start_time": "2023-08-28T21:38:50.783Z"
   },
   {
    "duration": 68,
    "start_time": "2023-08-28T21:38:51.905Z"
   },
   {
    "duration": 20,
    "start_time": "2023-08-28T21:38:51.975Z"
   },
   {
    "duration": 164,
    "start_time": "2023-08-28T21:38:51.997Z"
   },
   {
    "duration": 6,
    "start_time": "2023-08-28T21:38:52.163Z"
   },
   {
    "duration": 8,
    "start_time": "2023-08-28T21:38:52.170Z"
   },
   {
    "duration": 22,
    "start_time": "2023-08-28T21:38:52.180Z"
   },
   {
    "duration": 12,
    "start_time": "2023-08-28T21:38:52.204Z"
   },
   {
    "duration": 44,
    "start_time": "2023-08-28T21:38:52.217Z"
   },
   {
    "duration": 18,
    "start_time": "2023-08-28T21:38:52.263Z"
   },
   {
    "duration": 9,
    "start_time": "2023-08-28T21:38:52.283Z"
   },
   {
    "duration": 5,
    "start_time": "2023-08-28T21:38:52.293Z"
   },
   {
    "duration": 11,
    "start_time": "2023-08-28T21:38:52.300Z"
   },
   {
    "duration": 10,
    "start_time": "2023-08-28T21:38:52.313Z"
   },
   {
    "duration": 8,
    "start_time": "2023-08-28T21:38:52.324Z"
   },
   {
    "duration": 30,
    "start_time": "2023-08-28T21:38:52.334Z"
   },
   {
    "duration": 8,
    "start_time": "2023-08-28T21:38:52.365Z"
   },
   {
    "duration": 14,
    "start_time": "2023-08-28T21:38:52.375Z"
   },
   {
    "duration": 154,
    "start_time": "2023-08-28T21:38:52.391Z"
   },
   {
    "duration": 13,
    "start_time": "2023-08-28T21:38:52.547Z"
   },
   {
    "duration": 74,
    "start_time": "2023-08-28T21:38:52.561Z"
   },
   {
    "duration": 174,
    "start_time": "2023-08-28T21:38:52.636Z"
   },
   {
    "duration": 4,
    "start_time": "2023-08-28T21:38:52.812Z"
   },
   {
    "duration": 1477,
    "start_time": "2023-08-28T21:38:52.818Z"
   },
   {
    "duration": 125,
    "start_time": "2023-08-28T21:38:54.297Z"
   },
   {
    "duration": 1461,
    "start_time": "2023-08-28T21:38:54.424Z"
   },
   {
    "duration": 5,
    "start_time": "2023-08-28T21:38:55.887Z"
   },
   {
    "duration": 25,
    "start_time": "2023-08-28T21:38:55.895Z"
   },
   {
    "duration": 41,
    "start_time": "2023-08-28T21:38:55.921Z"
   },
   {
    "duration": 3,
    "start_time": "2023-08-28T21:38:55.964Z"
   },
   {
    "duration": 24,
    "start_time": "2023-08-28T21:38:55.969Z"
   },
   {
    "duration": 36,
    "start_time": "2023-08-28T21:38:55.995Z"
   },
   {
    "duration": 186,
    "start_time": "2023-08-28T21:38:56.033Z"
   },
   {
    "duration": 192,
    "start_time": "2023-08-28T21:38:56.221Z"
   },
   {
    "duration": 20,
    "start_time": "2023-08-28T21:38:56.415Z"
   },
   {
    "duration": 303,
    "start_time": "2023-08-28T21:38:56.436Z"
   },
   {
    "duration": 171,
    "start_time": "2023-08-28T21:38:56.741Z"
   },
   {
    "duration": 225,
    "start_time": "2023-08-28T21:38:56.914Z"
   },
   {
    "duration": 230,
    "start_time": "2023-08-28T21:38:57.141Z"
   },
   {
    "duration": 859,
    "start_time": "2023-08-28T21:38:57.373Z"
   },
   {
    "duration": 7,
    "start_time": "2023-08-28T21:38:58.234Z"
   },
   {
    "duration": 18,
    "start_time": "2023-08-28T21:38:58.242Z"
   },
   {
    "duration": 3,
    "start_time": "2023-08-28T21:38:58.261Z"
   },
   {
    "duration": 146,
    "start_time": "2023-08-28T21:38:58.266Z"
   },
   {
    "duration": 19,
    "start_time": "2023-08-28T21:38:58.414Z"
   },
   {
    "duration": 14,
    "start_time": "2023-08-28T21:38:58.435Z"
   },
   {
    "duration": 793,
    "start_time": "2023-08-28T21:38:58.460Z"
   },
   {
    "duration": 6,
    "start_time": "2023-08-28T21:38:59.255Z"
   },
   {
    "duration": 18,
    "start_time": "2023-08-28T21:38:59.262Z"
   },
   {
    "duration": 146,
    "start_time": "2023-08-28T21:39:45.812Z"
   },
   {
    "duration": 800,
    "start_time": "2023-08-28T21:39:56.745Z"
   },
   {
    "duration": 95,
    "start_time": "2023-08-28T21:40:47.648Z"
   },
   {
    "duration": 13,
    "start_time": "2023-08-28T21:41:04.992Z"
   },
   {
    "duration": 1188,
    "start_time": "2023-08-28T21:41:11.422Z"
   },
   {
    "duration": 67,
    "start_time": "2023-08-28T21:41:12.612Z"
   },
   {
    "duration": 23,
    "start_time": "2023-08-28T21:41:12.681Z"
   },
   {
    "duration": 177,
    "start_time": "2023-08-28T21:41:12.707Z"
   },
   {
    "duration": 7,
    "start_time": "2023-08-28T21:41:12.885Z"
   },
   {
    "duration": 6,
    "start_time": "2023-08-28T21:41:12.894Z"
   },
   {
    "duration": 33,
    "start_time": "2023-08-28T21:41:12.902Z"
   },
   {
    "duration": 25,
    "start_time": "2023-08-28T21:41:12.936Z"
   },
   {
    "duration": 14,
    "start_time": "2023-08-28T21:41:12.963Z"
   },
   {
    "duration": 57,
    "start_time": "2023-08-28T21:41:12.980Z"
   },
   {
    "duration": 6,
    "start_time": "2023-08-28T21:41:13.040Z"
   },
   {
    "duration": 5,
    "start_time": "2023-08-28T21:41:13.048Z"
   },
   {
    "duration": 7,
    "start_time": "2023-08-28T21:41:13.055Z"
   },
   {
    "duration": 9,
    "start_time": "2023-08-28T21:41:13.063Z"
   },
   {
    "duration": 5,
    "start_time": "2023-08-28T21:41:13.074Z"
   },
   {
    "duration": 5,
    "start_time": "2023-08-28T21:41:13.080Z"
   },
   {
    "duration": 8,
    "start_time": "2023-08-28T21:41:13.086Z"
   },
   {
    "duration": 14,
    "start_time": "2023-08-28T21:41:13.095Z"
   },
   {
    "duration": 175,
    "start_time": "2023-08-28T21:41:13.111Z"
   },
   {
    "duration": 7,
    "start_time": "2023-08-28T21:41:13.288Z"
   },
   {
    "duration": 92,
    "start_time": "2023-08-28T21:41:13.296Z"
   },
   {
    "duration": 181,
    "start_time": "2023-08-28T21:41:13.390Z"
   },
   {
    "duration": 5,
    "start_time": "2023-08-28T21:41:13.573Z"
   },
   {
    "duration": 1496,
    "start_time": "2023-08-28T21:41:13.580Z"
   },
   {
    "duration": 120,
    "start_time": "2023-08-28T21:41:15.078Z"
   },
   {
    "duration": 1568,
    "start_time": "2023-08-28T21:41:15.200Z"
   },
   {
    "duration": 7,
    "start_time": "2023-08-28T21:41:16.771Z"
   },
   {
    "duration": 14,
    "start_time": "2023-08-28T21:41:16.781Z"
   },
   {
    "duration": 74,
    "start_time": "2023-08-28T21:41:16.797Z"
   },
   {
    "duration": 5,
    "start_time": "2023-08-28T21:41:16.873Z"
   },
   {
    "duration": 5,
    "start_time": "2023-08-28T21:41:16.880Z"
   },
   {
    "duration": 30,
    "start_time": "2023-08-28T21:41:16.887Z"
   },
   {
    "duration": 196,
    "start_time": "2023-08-28T21:41:16.919Z"
   },
   {
    "duration": 200,
    "start_time": "2023-08-28T21:41:17.117Z"
   },
   {
    "duration": 23,
    "start_time": "2023-08-28T21:41:17.320Z"
   },
   {
    "duration": 295,
    "start_time": "2023-08-28T21:41:17.360Z"
   },
   {
    "duration": 183,
    "start_time": "2023-08-28T21:41:17.657Z"
   },
   {
    "duration": 235,
    "start_time": "2023-08-28T21:41:17.843Z"
   },
   {
    "duration": 229,
    "start_time": "2023-08-28T21:41:18.080Z"
   },
   {
    "duration": 834,
    "start_time": "2023-08-28T21:41:18.311Z"
   },
   {
    "duration": 13,
    "start_time": "2023-08-28T21:41:19.146Z"
   },
   {
    "duration": 8,
    "start_time": "2023-08-28T21:41:19.161Z"
   },
   {
    "duration": 4,
    "start_time": "2023-08-28T21:41:19.171Z"
   },
   {
    "duration": 154,
    "start_time": "2023-08-28T21:41:19.177Z"
   },
   {
    "duration": 17,
    "start_time": "2023-08-28T21:41:19.332Z"
   },
   {
    "duration": 6,
    "start_time": "2023-08-28T21:41:19.359Z"
   },
   {
    "duration": 108,
    "start_time": "2023-08-28T21:41:19.367Z"
   },
   {
    "duration": 0,
    "start_time": "2023-08-28T21:41:19.477Z"
   },
   {
    "duration": 0,
    "start_time": "2023-08-28T21:41:19.478Z"
   },
   {
    "duration": 809,
    "start_time": "2023-08-28T21:41:29.627Z"
   },
   {
    "duration": 14,
    "start_time": "2023-08-28T21:41:41.050Z"
   },
   {
    "duration": 799,
    "start_time": "2023-08-28T21:41:48.031Z"
   },
   {
    "duration": 965,
    "start_time": "2023-08-28T21:42:14.813Z"
   },
   {
    "duration": 824,
    "start_time": "2023-08-28T21:42:24.830Z"
   },
   {
    "duration": 816,
    "start_time": "2023-08-28T21:42:33.261Z"
   },
   {
    "duration": 790,
    "start_time": "2023-08-28T21:43:06.310Z"
   },
   {
    "duration": 635,
    "start_time": "2023-08-28T21:43:22.777Z"
   },
   {
    "duration": 816,
    "start_time": "2023-08-28T21:43:57.130Z"
   },
   {
    "duration": 807,
    "start_time": "2023-08-28T21:44:32.235Z"
   },
   {
    "duration": 1012,
    "start_time": "2023-08-28T21:46:07.854Z"
   },
   {
    "duration": 862,
    "start_time": "2023-08-28T21:46:17.490Z"
   },
   {
    "duration": 797,
    "start_time": "2023-08-28T21:46:26.505Z"
   },
   {
    "duration": 898,
    "start_time": "2023-08-28T21:46:33.392Z"
   },
   {
    "duration": 1201,
    "start_time": "2023-08-28T21:49:14.277Z"
   },
   {
    "duration": 67,
    "start_time": "2023-08-28T21:49:15.479Z"
   },
   {
    "duration": 21,
    "start_time": "2023-08-28T21:49:15.548Z"
   },
   {
    "duration": 176,
    "start_time": "2023-08-28T21:49:15.571Z"
   },
   {
    "duration": 12,
    "start_time": "2023-08-28T21:49:15.748Z"
   },
   {
    "duration": 7,
    "start_time": "2023-08-28T21:49:15.761Z"
   },
   {
    "duration": 19,
    "start_time": "2023-08-28T21:49:15.770Z"
   },
   {
    "duration": 12,
    "start_time": "2023-08-28T21:49:15.790Z"
   },
   {
    "duration": 14,
    "start_time": "2023-08-28T21:49:15.804Z"
   },
   {
    "duration": 6,
    "start_time": "2023-08-28T21:49:15.821Z"
   },
   {
    "duration": 5,
    "start_time": "2023-08-28T21:49:15.860Z"
   },
   {
    "duration": 5,
    "start_time": "2023-08-28T21:49:15.866Z"
   },
   {
    "duration": 12,
    "start_time": "2023-08-28T21:49:15.872Z"
   },
   {
    "duration": 16,
    "start_time": "2023-08-28T21:49:15.885Z"
   },
   {
    "duration": 12,
    "start_time": "2023-08-28T21:49:15.902Z"
   },
   {
    "duration": 6,
    "start_time": "2023-08-28T21:49:15.915Z"
   },
   {
    "duration": 32,
    "start_time": "2023-08-28T21:49:15.923Z"
   },
   {
    "duration": 9,
    "start_time": "2023-08-28T21:49:15.957Z"
   },
   {
    "duration": 162,
    "start_time": "2023-08-28T21:49:15.967Z"
   },
   {
    "duration": 7,
    "start_time": "2023-08-28T21:49:16.130Z"
   },
   {
    "duration": 92,
    "start_time": "2023-08-28T21:49:16.138Z"
   },
   {
    "duration": 185,
    "start_time": "2023-08-28T21:49:16.231Z"
   },
   {
    "duration": 5,
    "start_time": "2023-08-28T21:49:16.418Z"
   },
   {
    "duration": 1437,
    "start_time": "2023-08-28T21:49:16.425Z"
   },
   {
    "duration": 115,
    "start_time": "2023-08-28T21:49:17.863Z"
   },
   {
    "duration": 1428,
    "start_time": "2023-08-28T21:49:17.979Z"
   },
   {
    "duration": 6,
    "start_time": "2023-08-28T21:49:19.409Z"
   },
   {
    "duration": 15,
    "start_time": "2023-08-28T21:49:19.419Z"
   },
   {
    "duration": 54,
    "start_time": "2023-08-28T21:49:19.436Z"
   },
   {
    "duration": 4,
    "start_time": "2023-08-28T21:49:19.492Z"
   },
   {
    "duration": 7,
    "start_time": "2023-08-28T21:49:19.497Z"
   },
   {
    "duration": 35,
    "start_time": "2023-08-28T21:49:19.506Z"
   },
   {
    "duration": 182,
    "start_time": "2023-08-28T21:49:19.543Z"
   },
   {
    "duration": 178,
    "start_time": "2023-08-28T21:49:19.726Z"
   },
   {
    "duration": 20,
    "start_time": "2023-08-28T21:49:19.906Z"
   },
   {
    "duration": 307,
    "start_time": "2023-08-28T21:49:19.928Z"
   },
   {
    "duration": 172,
    "start_time": "2023-08-28T21:49:20.237Z"
   },
   {
    "duration": 233,
    "start_time": "2023-08-28T21:49:20.410Z"
   },
   {
    "duration": 217,
    "start_time": "2023-08-28T21:49:20.644Z"
   },
   {
    "duration": 808,
    "start_time": "2023-08-28T21:49:20.863Z"
   },
   {
    "duration": 6,
    "start_time": "2023-08-28T21:49:21.673Z"
   },
   {
    "duration": 12,
    "start_time": "2023-08-28T21:49:21.680Z"
   },
   {
    "duration": 3,
    "start_time": "2023-08-28T21:49:21.694Z"
   },
   {
    "duration": 157,
    "start_time": "2023-08-28T21:49:21.698Z"
   },
   {
    "duration": 17,
    "start_time": "2023-08-28T21:49:21.858Z"
   },
   {
    "duration": 6,
    "start_time": "2023-08-28T21:49:21.877Z"
   },
   {
    "duration": 822,
    "start_time": "2023-08-28T21:49:21.884Z"
   },
   {
    "duration": 5,
    "start_time": "2023-08-28T21:49:22.708Z"
   },
   {
    "duration": 15,
    "start_time": "2023-08-28T21:49:22.715Z"
   },
   {
    "duration": 118,
    "start_time": "2023-08-28T21:50:34.801Z"
   },
   {
    "duration": 100,
    "start_time": "2023-08-28T21:52:57.035Z"
   },
   {
    "duration": 13644,
    "start_time": "2023-08-28T21:53:39.965Z"
   },
   {
    "duration": 13,
    "start_time": "2023-08-28T21:54:15.813Z"
   },
   {
    "duration": 359,
    "start_time": "2023-08-28T21:54:33.588Z"
   },
   {
    "duration": 225,
    "start_time": "2023-08-28T21:55:36.105Z"
   }
  ],
  "kernelspec": {
   "display_name": "Python 3 (ipykernel)",
   "language": "python",
   "name": "python3"
  },
  "language_info": {
   "codemirror_mode": {
    "name": "ipython",
    "version": 3
   },
   "file_extension": ".py",
   "mimetype": "text/x-python",
   "name": "python",
   "nbconvert_exporter": "python",
   "pygments_lexer": "ipython3",
   "version": "3.11.7"
  },
  "toc": {
   "base_numbering": 1,
   "nav_menu": {},
   "number_sections": true,
   "sideBar": true,
   "skip_h1_title": true,
   "title_cell": "Table of Contents",
   "title_sidebar": "Contents",
   "toc_cell": false,
   "toc_position": {},
   "toc_section_display": true,
   "toc_window_display": false
  }
 },
 "nbformat": 4,
 "nbformat_minor": 5
}
